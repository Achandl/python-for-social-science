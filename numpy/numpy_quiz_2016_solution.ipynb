{
 "cells": [
  {
   "cell_type": "markdown",
   "metadata": {
    "deletable": true,
    "editable": true
   },
   "source": [
    "Name:"
   ]
  },
  {
   "cell_type": "markdown",
   "metadata": {
    "deletable": true,
    "editable": true
   },
   "source": [
    "Red ID:"
   ]
  },
  {
   "cell_type": "markdown",
   "metadata": {
    "deletable": true,
    "editable": true
   },
   "source": [
    "## Numpy Quiz 2016"
   ]
  },
  {
   "cell_type": "markdown",
   "metadata": {
    "deletable": true,
    "editable": true
   },
   "source": [
    "Use the values defined in the code below for the next few problems."
   ]
  },
  {
   "cell_type": "code",
   "execution_count": 1,
   "metadata": {
    "collapsed": false,
    "deletable": true,
    "editable": true
   },
   "outputs": [],
   "source": [
    "import numpy as np\n",
    "x = np.array([8,3,1,1,5])\n",
    "y =np.arange(10)\n",
    "z = 2 + x"
   ]
  },
  {
   "cell_type": "markdown",
   "metadata": {
    "deletable": true,
    "editable": true
   },
   "source": [
    "Write an expression on the next line to retrieve 5 from `x`."
   ]
  },
  {
   "cell_type": "code",
   "execution_count": 2,
   "metadata": {
    "collapsed": false,
    "deletable": true,
    "editable": true
   },
   "outputs": [
    {
     "data": {
      "text/plain": [
       "5"
      ]
     },
     "execution_count": 2,
     "metadata": {},
     "output_type": "execute_result"
    }
   ],
   "source": [
    "x[-1]"
   ]
  },
  {
   "cell_type": "markdown",
   "metadata": {
    "deletable": true,
    "editable": true
   },
   "source": [
    "Write an expression on the next line to retrieve 1 from `y`."
   ]
  },
  {
   "cell_type": "code",
   "execution_count": 3,
   "metadata": {
    "collapsed": false,
    "deletable": true,
    "editable": true
   },
   "outputs": [
    {
     "data": {
      "text/plain": [
       "1"
      ]
     },
     "execution_count": 3,
     "metadata": {},
     "output_type": "execute_result"
    }
   ],
   "source": [
    "y[1]"
   ]
  },
  {
   "cell_type": "markdown",
   "metadata": {
    "deletable": true,
    "editable": true
   },
   "source": [
    "Write an expression on the next line to retrieve 5 from `z`."
   ]
  },
  {
   "cell_type": "code",
   "execution_count": 4,
   "metadata": {
    "collapsed": false,
    "deletable": true,
    "editable": true
   },
   "outputs": [
    {
     "data": {
      "text/plain": [
       "5"
      ]
     },
     "execution_count": 4,
     "metadata": {},
     "output_type": "execute_result"
    }
   ],
   "source": [
    "z[1]"
   ]
  },
  {
   "cell_type": "markdown",
   "metadata": {
    "deletable": true,
    "editable": true
   },
   "source": [
    "On the next line, write an expression that generates a 3 by 5 array filled with zeros."
   ]
  },
  {
   "cell_type": "code",
   "execution_count": 5,
   "metadata": {
    "collapsed": false,
    "deletable": true,
    "editable": true
   },
   "outputs": [
    {
     "data": {
      "text/plain": [
       "array([[ 0.,  0.,  0.,  0.,  0.],\n",
       "       [ 0.,  0.,  0.,  0.,  0.],\n",
       "       [ 0.,  0.,  0.,  0.,  0.]])"
      ]
     },
     "execution_count": 5,
     "metadata": {},
     "output_type": "execute_result"
    }
   ],
   "source": [
    "np.zeros((3,5))"
   ]
  },
  {
   "cell_type": "markdown",
   "metadata": {
    "deletable": true,
    "editable": true
   },
   "source": [
    "<style>\n",
    "    @font-face {\n",
    "        font-family: \"Computer Modern\";\n",
    "        src: url('http://mirrors.ctan.org/fonts/cm-unicode/fonts/otf/cmunss.otf');\n",
    "    }\n",
    "    div.cell{\n",
    "        width:800px;\n",
    "        margin-left:16% !important;\n",
    "        margin-right:auto;\n",
    "    }\n",
    "    h1 {\n",
    "        font-family: Helvetica, serif;\n",
    "    }\n",
    "    h4{\n",
    "        margin-top:12px;\n",
    "        margin-bottom: 3px;\n",
    "       }\n",
    "    div.text_cell_render{\n",
    "        font-family: Computer Modern, \"Helvetica Neue\", Arial, Helvetica, Geneva, sans-serif;\n",
    "        line-height: 145%;\n",
    "        font-size: 130%;\n",
    "        width:800px;\n",
    "        margin-left:auto;\n",
    "        margin-right:auto;\n",
    "    }\n",
    "    .CodeMirror{\n",
    "            font-family: \"Source Code Pro\", source-code-pro,Consolas, monospace;\n",
    "    }\n",
    "    .text_cell_render h5 {\n",
    "        font-weight: 300;\n",
    "        font-size: 22pt;\n",
    "        color: #4057A1;\n",
    "        font-style: italic;\n",
    "        margin-bottom: .5em;\n",
    "        margin-top: 0.5em;\n",
    "        display: block;\n",
    "    }\n",
    "    \n",
    "    .warning{\n",
    "        color: rgb( 240, 20, 20 )\n",
    "        }  "
   ]
  },
  {
   "cell_type": "code",
   "execution_count": 6,
   "metadata": {
    "collapsed": false,
    "deletable": true,
    "editable": true
   },
   "outputs": [],
   "source": [
    "import numpy as np\n",
    "array_one = \\\n",
    "np.array(\n",
    "[[6,  3, 4, 1],\n",
    "[5,  2, 3, 2],\n",
    "[8,  3, 6, 2],\n",
    "[5,  1, 3, 1],\n",
    "[10, 4, 7, 2]])\n",
    "\n",
    "array_two = np.array([40, 175, 90, 450])"
   ]
  },
  {
   "cell_type": "markdown",
   "metadata": {
    "deletable": true,
    "editable": true
   },
   "source": [
    "In the line below, write an expression that retrieves the second column of `array_one`.  Also write down the value returned by that expression."
   ]
  },
  {
   "cell_type": "code",
   "execution_count": 7,
   "metadata": {
    "collapsed": false,
    "deletable": true,
    "editable": true
   },
   "outputs": [
    {
     "data": {
      "text/plain": [
       "array([3, 2, 3, 1, 4])"
      ]
     },
     "execution_count": 7,
     "metadata": {},
     "output_type": "execute_result"
    }
   ],
   "source": [
    "array_one[:,1]"
   ]
  },
  {
   "cell_type": "markdown",
   "metadata": {
    "deletable": true,
    "editable": true
   },
   "source": [
    "In the next cell, write an expression that retrieves the third row of `array_one`."
   ]
  },
  {
   "cell_type": "code",
   "execution_count": 8,
   "metadata": {
    "collapsed": false,
    "deletable": true,
    "editable": true
   },
   "outputs": [
    {
     "data": {
      "text/plain": [
       "array([8, 3, 6, 2])"
      ]
     },
     "execution_count": 8,
     "metadata": {},
     "output_type": "execute_result"
    }
   ],
   "source": [
    "array_one[2,:]"
   ]
  },
  {
   "cell_type": "markdown",
   "metadata": {
    "deletable": true,
    "editable": true
   },
   "source": [
    "In the next cell write an expression that retrieves the first two elements of the third column of `array_one`."
   ]
  },
  {
   "cell_type": "code",
   "execution_count": 9,
   "metadata": {
    "collapsed": false,
    "deletable": true,
    "editable": true
   },
   "outputs": [
    {
     "data": {
      "text/plain": [
       "array([8, 3])"
      ]
     },
     "execution_count": 9,
     "metadata": {},
     "output_type": "execute_result"
    }
   ],
   "source": [
    "array_one[2,0:2]"
   ]
  },
  {
   "cell_type": "markdown",
   "metadata": {
    "deletable": true,
    "editable": true
   },
   "source": [
    "In the next cell write an expression that retrieves the following submatrix from `array_one:\n",
    "\n",
    "```\n",
    "array([[3,1],\n",
    "       [7,2]])\n",
    "```"
   ]
  },
  {
   "cell_type": "code",
   "execution_count": 10,
   "metadata": {
    "collapsed": false,
    "deletable": true,
    "editable": true
   },
   "outputs": [
    {
     "data": {
      "text/plain": [
       "array([[3, 1],\n",
       "       [7, 2]])"
      ]
     },
     "execution_count": 10,
     "metadata": {},
     "output_type": "execute_result"
    }
   ],
   "source": [
    "array_one[3:5,2:4]"
   ]
  },
  {
   "cell_type": "markdown",
   "metadata": {
    "deletable": true,
    "editable": true
   },
   "source": [
    "In the next cell, write an expression that returns a Boolean array (every element is either `True` or `False`) that identifies the members of `array_two` which are greater than or equal to 100."
   ]
  },
  {
   "cell_type": "code",
   "execution_count": 10,
   "metadata": {
    "collapsed": false,
    "deletable": true,
    "editable": true
   },
   "outputs": [
    {
     "ename": "NameError",
     "evalue": "name 'array_two' is not defined",
     "output_type": "error",
     "traceback": [
      "\u001b[0;31m---------------------------------------------------------------------------\u001b[0m",
      "\u001b[0;31mNameError\u001b[0m                                 Traceback (most recent call last)",
      "\u001b[0;32m<ipython-input-10-e4882774f858>\u001b[0m in \u001b[0;36m<module>\u001b[0;34m()\u001b[0m\n\u001b[0;32m----> 1\u001b[0;31m \u001b[0marray_two\u001b[0m \u001b[0;34m>=\u001b[0m \u001b[0;36m100\u001b[0m\u001b[0;34m\u001b[0m\u001b[0m\n\u001b[0m",
      "\u001b[0;31mNameError\u001b[0m: name 'array_two' is not defined"
     ]
    }
   ],
   "source": [
    "array_two >= 100"
   ]
  },
  {
   "cell_type": "markdown",
   "metadata": {
    "deletable": true,
    "editable": true
   },
   "source": [
    "## Boolean indexing"
   ]
  },
  {
   "cell_type": "markdown",
   "metadata": {
    "deletable": true,
    "editable": true
   },
   "source": [
    "The code below defines two arrays.  The first array represents some data for a small set of individuals. It\n",
    "represents their ages and income in thousands of dollars. The first column is age and the second is income.\n",
    "The second array represents the clubs the same individuals belong to.  There are three possible clubs,\n",
    "0, 1, AND 2. So for example the individual represented in the second row of `age_data` belongs to club `1`, because\n",
    "`club[1]` is `1`."
   ]
  },
  {
   "cell_type": "code",
   "execution_count": null,
   "metadata": {
    "collapsed": true
   },
   "outputs": [],
   "source": []
  },
  {
   "cell_type": "code",
   "execution_count": 17,
   "metadata": {
    "collapsed": false
   },
   "outputs": [
    {
     "name": "stdout",
     "output_type": "stream",
     "text": [
      "[[  47.    57.2]\n",
      " [  22.    63.1]\n",
      " [  14.    88.1]\n",
      " [  20.    97.5]\n",
      " [  39.    56.8]\n",
      " [  35.    22.4]\n",
      " [  31.    32.1]\n",
      " [  28.   110.3]]\n",
      "[[  47.    57.2]\n",
      " [  22.    63.1]\n",
      " [  14.    88.1]\n",
      " [  20.    97.5]\n",
      " [  39.    56.8]\n",
      " [  35.    22.4]\n",
      " [  31.    32.1]\n",
      " [  28.   110.3]]\n",
      "[[ 47.   57.2]\n",
      " [ 22.   63.1]\n",
      " [ 14.   88.1]]\n",
      "[[ 22.   63.1]\n",
      " [ 20.   97.5]\n",
      " [ 39.   56.8]]\n"
     ]
    }
   ],
   "source": [
    "print age_income_data\n",
    "print age_income_data[:,:]\n",
    "print age_income_data [0:3,:]\n",
    "print age_income_data [[1,3,4],:]"
   ]
  },
  {
   "cell_type": "code",
   "execution_count": 12,
   "metadata": {
    "collapsed": false,
    "deletable": true,
    "editable": true
   },
   "outputs": [],
   "source": [
    "import numpy as np\n",
    "age_income_data = np.array([[47,57.2],[22,63.1],[14,88.1],[20,97.5],[39,56.8],[35,22.4],[31,32.1],[28,110.3]])\n",
    "club = np.array([0,1,0,1,0,0,2,2])"
   ]
  },
  {
   "cell_type": "markdown",
   "metadata": {
    "deletable": true,
    "editable": true
   },
   "source": [
    "Here is what the `age_income_data` looks like:"
   ]
  },
  {
   "cell_type": "code",
   "execution_count": 14,
   "metadata": {
    "collapsed": false,
    "deletable": true,
    "editable": true
   },
   "outputs": [
    {
     "data": {
      "text/plain": [
       "array([[  47. ,   57.2],\n",
       "       [  22. ,   63.1],\n",
       "       [  14. ,   88.1],\n",
       "       [  20. ,   97.5],\n",
       "       [  39. ,   56.8],\n",
       "       [  35. ,   22.4],\n",
       "       [  31. ,   32.1],\n",
       "       [  28. ,  110.3]])"
      ]
     },
     "execution_count": 14,
     "metadata": {},
     "output_type": "execute_result"
    }
   ],
   "source": [
    "age_income_data"
   ]
  },
  {
   "cell_type": "markdown",
   "metadata": {
    "deletable": true,
    "editable": true
   },
   "source": [
    "In the next line, write an expression that computes all the rows of `age_income_data` representing individuals whose club is `0`.   Hint: Construct a Boolean array, then use that array.  "
   ]
  },
  {
   "cell_type": "code",
   "execution_count": 14,
   "metadata": {
    "collapsed": false,
    "deletable": true,
    "editable": true
   },
   "outputs": [
    {
     "name": "stdout",
     "output_type": "stream",
     "text": [
      "[ True False  True False  True  True False False]\n",
      "[[ 47.   57.2]\n",
      " [ 14.   88.1]\n",
      " [ 39.   56.8]\n",
      " [ 35.   22.4]]\n"
     ]
    }
   ],
   "source": [
    "print club == 0\n",
    "print age_income_data[club==0,]"
   ]
  },
  {
   "cell_type": "markdown",
   "metadata": {
    "deletable": true,
    "editable": true
   },
   "source": [
    "In the next cell, write a line of code that computes all the rows of `age_income_data` representing individuals whose age is over 30. Hint:  We need a Boolean array that just finds the rows whose first column is over 30.\n",
    "Then we use that to index the rows of `age_income_data`."
   ]
  },
  {
   "cell_type": "code",
   "execution_count": 7,
   "metadata": {
    "collapsed": false,
    "deletable": true,
    "editable": true
   },
   "outputs": [
    {
     "name": "stdout",
     "output_type": "stream",
     "text": [
      "[[  47.    57.2]\n",
      " [  22.    63.1]\n",
      " [  14.    88.1]\n",
      " [  20.    97.5]\n",
      " [  39.    56.8]\n",
      " [  35.    22.4]\n",
      " [  31.    32.1]\n",
      " [  28.   110.3]]\n",
      "[ True False False False  True  True  True False]\n",
      "[[ 47.   57.2]\n",
      " [ 39.   56.8]\n",
      " [ 35.   22.4]\n",
      " [ 31.   32.1]]\n"
     ]
    }
   ],
   "source": [
    "print age_income_data\n",
    "print age_income_data[:,0] > 30\n",
    "print age_income_data[age_income_data[:,0] > 30,:]"
   ]
  },
  {
   "cell_type": "markdown",
   "metadata": {},
   "source": [
    "Note that the following idea doesn't work.  It returns a 1D array with all the numbers in `age_income_data` that are over 30.  That's not what we want.  Make sure you understand why."
   ]
  },
  {
   "cell_type": "code",
   "execution_count": 9,
   "metadata": {
    "collapsed": false,
    "deletable": true,
    "editable": true
   },
   "outputs": [
    {
     "name": "stdout",
     "output_type": "stream",
     "text": [
      "[[  47.    57.2]\n",
      " [  22.    63.1]\n",
      " [  14.    88.1]\n",
      " [  20.    97.5]\n",
      " [  39.    56.8]\n",
      " [  35.    22.4]\n",
      " [  31.    32.1]\n",
      " [  28.   110.3]]\n",
      "[[ True  True]\n",
      " [False  True]\n",
      " [False  True]\n",
      " [False  True]\n",
      " [ True  True]\n",
      " [ True False]\n",
      " [ True  True]\n",
      " [False  True]]\n",
      "[  47.    57.2   63.1   88.1   97.5   39.    56.8   35.    31.    32.1\n",
      "  110.3]\n"
     ]
    }
   ],
   "source": [
    "print age_income_data\n",
    "print age_income_data > 30\n",
    "print age_income_data[age_income_data > 30]"
   ]
  },
  {
   "cell_type": "code",
   "execution_count": null,
   "metadata": {
    "collapsed": true
   },
   "outputs": [],
   "source": [
    "print age_income_data\n",
    "print age_income_data > 30\n",
    "print age_income_data[age_income_data > 30]"
   ]
  }
 ],
 "metadata": {
  "kernelspec": {
   "display_name": "Python 2",
   "language": "python",
   "name": "python2"
  },
  "language_info": {
   "codemirror_mode": {
    "name": "ipython",
    "version": 2
   },
   "file_extension": ".py",
   "mimetype": "text/x-python",
   "name": "python",
   "nbconvert_exporter": "python",
   "pygments_lexer": "ipython2",
   "version": "2.7.13"
  },
  "name": "_merged",
  "toc": {
   "colors": {
    "hover_highlight": "#DAA520",
    "running_highlight": "#FF0000",
    "selected_highlight": "#FFD700"
   },
   "moveMenuLeft": true,
   "nav_menu": {
    "height": "49px",
    "width": "252px"
   },
   "navigate_menu": true,
   "number_sections": true,
   "sideBar": true,
   "threshold": 4,
   "toc_cell": false,
   "toc_section_display": "block",
   "toc_window_display": false,
   "widenNotebook": false
  }
 },
 "nbformat": 4,
 "nbformat_minor": 0
}
