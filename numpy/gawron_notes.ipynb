{
  "nbformat": 4,
  "nbformat_minor": 0,
  "metadata": {
    "kernelspec": {
      "display_name": "Python 3",
      "language": "python",
      "name": "python3"
    },
    "language_info": {
      "codemirror_mode": {
        "name": "ipython",
        "version": 3
      },
      "file_extension": ".py",
      "mimetype": "text/x-python",
      "name": "python",
      "nbconvert_exporter": "python",
      "pygments_lexer": "ipython3",
      "version": "3.6.5"
    },
    "name": "_merged",
    "toc": {
      "base_numbering": 1,
      "nav_menu": {},
      "number_sections": true,
      "sideBar": true,
      "skip_h1_title": false,
      "title_cell": "Table of Contents",
      "title_sidebar": "Contents",
      "toc_cell": false,
      "toc_position": {},
      "toc_section_display": true,
      "toc_window_display": false
    },
    "colab": {
      "name": "full_numpy_assignment.ipynb",
      "provenance": []
    }
  },
  "cells": [
    {
      "cell_type": "markdown",
      "metadata": {
        "id": "Y4wuS60lJSVQ",
        "colab_type": "text"
      },
      "source": [
        "## Numpy assignment"
      ]
    },
    {
      "cell_type": "markdown",
      "metadata": {
        "id": "cYy8-Wq3JSVR",
        "colab_type": "text"
      },
      "source": [
        "## 1 Preliminaries"
      ]
    },
    {
      "cell_type": "code",
      "metadata": {
        "id": "5Z5-LLD_JSVS",
        "colab_type": "code",
        "colab": {}
      },
      "source": [
        "# The usual preamble\n",
        "import numpy as np"
      ],
      "execution_count": 1,
      "outputs": []
    },
    {
      "cell_type": "markdown",
      "metadata": {
        "id": "MN3eCTN8JSVV",
        "colab_type": "text"
      },
      "source": [
        "## Numpy"
      ]
    },
    {
      "cell_type": "code",
      "metadata": {
        "id": "TCHqsJXxJSVW",
        "colab_type": "code",
        "colab": {}
      },
      "source": [
        "import numpy as np\n",
        "x = np.array([2,3,1,0])\n",
        "y =np.arange(10)\n",
        "z = 2 + x"
      ],
      "execution_count": 2,
      "outputs": []
    },
    {
      "cell_type": "markdown",
      "metadata": {
        "id": "n1xzCtm3JSVY",
        "colab_type": "text"
      },
      "source": [
        "Write expressions in the next cell to retrieve 1 from `x`, 3 from `y`, and 3 from `z`."
      ]
    },
    {
      "cell_type": "code",
      "metadata": {
        "id": "96FDYv0oJSVZ",
        "colab_type": "code",
        "colab": {}
      },
      "source": [
        ""
      ],
      "execution_count": null,
      "outputs": []
    },
    {
      "cell_type": "markdown",
      "metadata": {
        "id": "t17iimSbJSVb",
        "colab_type": "text"
      },
      "source": [
        "In the next cell, write an expression that generates a 5 by 5 array filled with zeros, and another  that generates a 1 by 1 array with a 1 in it."
      ]
    },
    {
      "cell_type": "code",
      "metadata": {
        "id": "s8k51GlRJSVb",
        "colab_type": "code",
        "colab": {}
      },
      "source": [
        ""
      ],
      "execution_count": null,
      "outputs": []
    },
    {
      "cell_type": "markdown",
      "metadata": {
        "id": "wSbS2Fo5JSVe",
        "colab_type": "text"
      },
      "source": [
        "<style>\n",
        "    @font-face {\n",
        "        font-family: \"Computer Modern\";\n",
        "        src: url('http://mirrors.ctan.org/fonts/cm-unicode/fonts/otf/cmunss.otf');\n",
        "    }\n",
        "    div.cell{\n",
        "        width:800px;\n",
        "        margin-left:16% !important;\n",
        "        margin-right:auto;\n",
        "    }\n",
        "    h1 {\n",
        "        font-family: Helvetica, serif;\n",
        "    }\n",
        "    h4{\n",
        "        margin-top:12px;\n",
        "        margin-bottom: 3px;\n",
        "       }\n",
        "    div.text_cell_render{\n",
        "        font-family: Computer Modern, \"Helvetica Neue\", Arial, Helvetica, Geneva, sans-serif;\n",
        "        line-height: 145%;\n",
        "        font-size: 130%;\n",
        "        width:800px;\n",
        "        margin-left:auto;\n",
        "        margin-right:auto;\n",
        "    }\n",
        "    .CodeMirror{\n",
        "            font-family: \"Source Code Pro\", source-code-pro,Consolas, monospace;\n",
        "    }\n",
        "    .text_cell_render h5 {\n",
        "        font-weight: 300;\n",
        "        font-size: 22pt;\n",
        "        color: #4057A1;\n",
        "        font-style: italic;\n",
        "        margin-bottom: .5em;\n",
        "        margin-top: 0.5em;\n",
        "        display: block;\n",
        "    }\n",
        "    \n",
        "    .warning{\n",
        "        color: rgb( 240, 20, 20 )\n",
        "        }  "
      ]
    },
    {
      "cell_type": "markdown",
      "metadata": {
        "id": "7BvfGKHjJSVe",
        "colab_type": "text"
      },
      "source": [
        "In the next cell, write an expression that uses an assignment to a splice to make all the negative values in `a` be 0.  Attention: This can be done more easily in numpy than it can in normal Python.  See if you can do it the easy way."
      ]
    },
    {
      "cell_type": "code",
      "metadata": {
        "id": "wvKZPhcAJSVe",
        "colab_type": "code",
        "colab": {}
      },
      "source": [
        "a = np.arange(10,-1,-1) - 3\n"
      ],
      "execution_count": null,
      "outputs": []
    },
    {
      "cell_type": "markdown",
      "metadata": {
        "id": "m7NpYSRgJSVg",
        "colab_type": "text"
      },
      "source": [
        "In the next cell write an expression that produces an array containing result of multiplying 7 by each of the first 12 integers (1 - 12). There's a hard way to do this and an easy way.  The easy way uses elementwise operations."
      ]
    },
    {
      "cell_type": "code",
      "metadata": {
        "id": "7yiKGc0HJSVh",
        "colab_type": "code",
        "colab": {}
      },
      "source": [
        ""
      ],
      "execution_count": null,
      "outputs": []
    },
    {
      "cell_type": "markdown",
      "metadata": {
        "id": "o2TyTiOGJSVj",
        "colab_type": "text"
      },
      "source": [
        "## 2D arrays"
      ]
    },
    {
      "cell_type": "code",
      "metadata": {
        "id": "FzCLv6SiJSVj",
        "colab_type": "code",
        "colab": {}
      },
      "source": [
        "import numpy as np\n",
        "room_matrix = \\\n",
        "np.array(\n",
        "[[6,  3, 4, 1],\n",
        "[5,  2, 3, 2],\n",
        "[8,  3, 6, 2],\n",
        "[5,  1, 3, 1],\n",
        "[10, 4, 7, 2]])\n",
        "\n",
        "cost_vector = np.array([40, 175, 90, 450])"
      ],
      "execution_count": null,
      "outputs": []
    },
    {
      "cell_type": "markdown",
      "metadata": {
        "id": "XjUwZF0uJSVl",
        "colab_type": "text"
      },
      "source": [
        "In the next cell write an express that retrieves the last column of `room_matrix`."
      ]
    },
    {
      "cell_type": "code",
      "metadata": {
        "id": "QLIMA6dDJSVm",
        "colab_type": "code",
        "colab": {}
      },
      "source": [
        ""
      ],
      "execution_count": null,
      "outputs": []
    },
    {
      "cell_type": "markdown",
      "metadata": {
        "id": "oTcVUAwZJSVo",
        "colab_type": "text"
      },
      "source": [
        "In the next cell, write an expression that retrieves the third row of `room_matrix`."
      ]
    },
    {
      "cell_type": "code",
      "metadata": {
        "id": "NPYhI-MNJSVo",
        "colab_type": "code",
        "colab": {}
      },
      "source": [
        ""
      ],
      "execution_count": null,
      "outputs": []
    },
    {
      "cell_type": "markdown",
      "metadata": {
        "id": "g7ukLsINJSVq",
        "colab_type": "text"
      },
      "source": [
        "In the next cell write an expression that retrieves the first two elements of the second column of `room_matrix`"
      ]
    },
    {
      "cell_type": "code",
      "metadata": {
        "id": "kBlJwiNHJSVq",
        "colab_type": "code",
        "colab": {}
      },
      "source": [
        ""
      ],
      "execution_count": null,
      "outputs": []
    },
    {
      "cell_type": "markdown",
      "metadata": {
        "id": "PFL_HNz8JSVs",
        "colab_type": "text"
      },
      "source": [
        "In the next cell write an expression that retrieves the following submatrix from `room_matrix`:\n",
        "\n",
        "```\n",
        "array([[2,3],\n",
        "       [3,6]])\n",
        "```"
      ]
    },
    {
      "cell_type": "code",
      "metadata": {
        "id": "4pJVgJJAJSVt",
        "colab_type": "code",
        "colab": {}
      },
      "source": [
        ""
      ],
      "execution_count": null,
      "outputs": []
    },
    {
      "cell_type": "markdown",
      "metadata": {
        "id": "5Rn-NzcTJSVv",
        "colab_type": "text"
      },
      "source": [
        "In the next cell, write an expression that returns a Boolean array that identifies the members of `room_matrix` which are greater than or equal to 7."
      ]
    },
    {
      "cell_type": "code",
      "metadata": {
        "id": "qOJ3bDQzJSVv",
        "colab_type": "code",
        "colab": {}
      },
      "source": [
        ""
      ],
      "execution_count": null,
      "outputs": []
    },
    {
      "cell_type": "markdown",
      "metadata": {
        "id": "C2DSqCenJp_s",
        "colab_type": "text"
      },
      "source": [
        "In the next cell, write an expression that produces an array containing the items in `room_matrix` which are greater than or equal to 7.  Note:  This question and the previous question do not have the same answer."
      ]
    },
    {
      "cell_type": "markdown",
      "metadata": {
        "id": "wwR0EsO5JSVx",
        "colab_type": "text"
      },
      "source": [
        "## Iris data exercise"
      ]
    },
    {
      "cell_type": "markdown",
      "metadata": {
        "id": "-sAlD8q_JSVx",
        "colab_type": "text"
      },
      "source": [
        "In the next cell, use a Boolean mask to return all the rows of the iris data set whose column 3 value is greater than 1.8 (I mean the column whose **index** is 3, the last column).\n",
        "The cell is not empty because you have been provided with the code which loads the data.\n",
        "So you should keep that code and **add to it**."
      ]
    },
    {
      "cell_type": "code",
      "metadata": {
        "id": "RWsm4jcbJSVy",
        "colab_type": "code",
        "colab": {}
      },
      "source": [
        "from sklearn.datasets import load_iris\n",
        "data = load_iris()\n",
        "features = data['data']\n",
        "target = data['target']"
      ],
      "execution_count": null,
      "outputs": []
    },
    {
      "cell_type": "markdown",
      "metadata": {
        "id": "30mkWyeOJSV0",
        "colab_type": "text"
      },
      "source": [
        "In the next cell, use a Boolean array to return all the rows representing members of class 2 in the iris data set (the Boolean array is not the answer; it is used in retrieving the answer)."
      ]
    },
    {
      "cell_type": "code",
      "metadata": {
        "id": "b9epMASDJSV0",
        "colab_type": "code",
        "colab": {}
      },
      "source": [
        ""
      ],
      "execution_count": null,
      "outputs": []
    },
    {
      "cell_type": "markdown",
      "metadata": {
        "id": "LD7NX3Y2JSV2",
        "colab_type": "text"
      },
      "source": [
        "Extra credit:  In the next cell write an expression -- or expressions -- which returns\n",
        "all the members of class 2 in the data whose column 3 value is greater than 1.8.\n",
        "\n",
        "Hint: Set a variable to the result of one of your answers to the last two questions.\n",
        "That result is an array, and you can do more indexing on it."
      ]
    },
    {
      "cell_type": "code",
      "metadata": {
        "id": "Hake5bryJSV2",
        "colab_type": "code",
        "colab": {}
      },
      "source": [
        ""
      ],
      "execution_count": null,
      "outputs": []
    },
    {
      "cell_type": "markdown",
      "metadata": {
        "id": "yX3ltxTdJSV4",
        "colab_type": "text"
      },
      "source": [
        "## Boston Housing data exercise (UCI ML housing dataset)"
      ]
    },
    {
      "cell_type": "code",
      "metadata": {
        "id": "gsSH2VhnJSV5",
        "colab_type": "code",
        "colab": {
          "base_uri": "https://localhost:8080/",
          "height": 34
        },
        "outputId": "2022f587-37af-4af9-db30-a009f95c6c57"
      },
      "source": [
        "from sklearn import datasets\n",
        "boston = datasets.load_boston()\n",
        "X,Y = boston.data,boston.target\n",
        "print(X.shape, Y.shape)"
      ],
      "execution_count": 2,
      "outputs": [
        {
          "output_type": "stream",
          "text": [
            "(506, 13) (506,)\n"
          ],
          "name": "stdout"
        }
      ]
    },
    {
      "cell_type": "markdown",
      "metadata": {
        "id": "CEJyjWa0JSV7",
        "colab_type": "text"
      },
      "source": [
        "The cell above loads the `sklearn` Boston housing data, which contains information about housing prices\n",
        "for 501 houses sold in Boston, and the values of various attributes which have been found to be useful\n",
        "in predicting home prices:\n",
        "\n",
        "```\n",
        "Index\n",
        "0         - CRIM     per capita crime rate by town\n",
        "1         - ZN       proportion of residential land zoned for lots over 25,000 sq.ft.\n",
        "2         - INDUS    proportion of non-retail business acres per town\n",
        "3         - CHAS     Charles River dummy variable (= 1 if tract bounds river; 0 otherwise)\n",
        "4         - NOX      nitric oxides concentration (parts per 10 million)\n",
        "5         - RM       average number of rooms per dwelling\n",
        "6         - AGE      proportion of owner-occupied units built prior to 1940\n",
        "7         - DIS      weighted distances to five Boston employment centres\n",
        "8         - RAD      index of accessibility to radial highways\n",
        "9         - TAX      full-value property-tax rate per $10,000\n",
        "10        - PTRATIO  pupil-teacher ratio by town\n",
        "11        - B        1000(Bk - 0.63)^2 where Bk is the proportion of blacks by town\n",
        "12        - LSTAT    % lower status of the population\n",
        "```\n",
        "\n",
        "The array `X`, defined in the cell above, is a 501x13 array containing the values of all\n",
        "these variables for 501 Boston houses.  \n",
        "\n",
        "The information stored in Y, the value to be predicted is\n",
        "\n",
        "```\n",
        "       - MEDV     Median value of owner-occupied homes in $1000's\n",
        " \n",
        "```\n",
        "\n",
        "1.  Construct an expression or expressions that creates a new table that omits all houses whose tracts\n",
        "    bound the Charles River.\n",
        "2.  Construct an expression or expressions that creates a new table containing only the CRIM column and\n",
        "    the ZN column.  This is  our new X.  Also create a new Y containing the pupil-teach ratio.\n",
        "    This is to help someone research how to predict poor education conditions.  The shape of the new X should\n",
        "    (506,2) and the shape of the new Y should be (506,).  Show that you checked this in your answer."
      ]
    },
    {
      "cell_type": "code",
      "metadata": {
        "id": "L4kaM8xuJSV8",
        "colab_type": "code",
        "colab": {}
      },
      "source": [
        ""
      ],
      "execution_count": null,
      "outputs": []
    },
    {
      "cell_type": "code",
      "metadata": {
        "id": "9-hPjp_vvukp",
        "colab_type": "code",
        "colab": {}
      },
      "source": [
        ""
      ],
      "execution_count": null,
      "outputs": []
    }
  ]
}