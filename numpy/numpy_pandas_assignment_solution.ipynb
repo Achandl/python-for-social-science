{
 "metadata": {
  "name": "",
  "signature": "sha256:04b1d1e8a92f25774b6205ecdbb947673c0f6213b5a3572a5fee9b8a06067e6b"
 },
 "nbformat": 3,
 "nbformat_minor": 0,
 "worksheets": [
  {
   "cells": [
    {
     "cell_type": "heading",
     "level": 2,
     "metadata": {},
     "source": [
      "1  Preliminaries"
     ]
    },
    {
     "cell_type": "code",
     "collapsed": false,
     "input": [
      "# The usual preamble\n",
      "import pandas as pd\n",
      "# Make the graphs a bit prettier, and bigger\n",
      "pd.set_option('display.mpl_style', 'default') \n",
      "pd.set_option('display.line_width', 5000) \n",
      "pd.set_option('display.max_columns', 60) \n",
      "\n",
      "#figsize(15, 5)"
     ],
     "language": "python",
     "metadata": {},
     "outputs": [
      {
       "output_type": "stream",
       "stream": "stdout",
       "text": [
        "line_width has been deprecated, use display.width instead (currently both are\n",
        "identical)\n",
        "\n"
       ]
      }
     ],
     "prompt_number": 2
    },
    {
     "cell_type": "markdown",
     "metadata": {},
     "source": [
      "We're going to use a new dataset here, to demonstrate how to deal with larger datasets. This is a subset of the of 311 service requests from [NYC Open Data](https://nycopendata.socrata.com/Social-Services/311-Service-Requests-from-2010-to-Present/erm2-nwe9). "
     ]
    },
    {
     "cell_type": "code",
     "collapsed": false,
     "input": [
      "import pandas as pd\n",
      "names2000 = pd.read_csv('names/yob2000.txt',names=['name','sex','births'])"
     ],
     "language": "python",
     "metadata": {},
     "outputs": [],
     "prompt_number": 3
    },
    {
     "cell_type": "heading",
     "level": 2,
     "metadata": {},
     "source": [
      "2 Looking inside"
     ]
    },
    {
     "cell_type": "markdown",
     "metadata": {},
     "source": [
      "When you look at a large dataframe, instead of showing you the contents of the dataframe, it'll show you a *summary*. This includes all the columns, and how many non-null values there are in each column."
     ]
    },
    {
     "cell_type": "code",
     "collapsed": false,
     "input": [
      "names2000"
     ],
     "language": "python",
     "metadata": {},
     "outputs": [
      {
       "html": [
        "<div style=\"max-height:1000px;max-width:1500px;overflow:auto;\">\n",
        "<table border=\"1\" class=\"dataframe\">\n",
        "  <thead>\n",
        "    <tr style=\"text-align: right;\">\n",
        "      <th></th>\n",
        "      <th>name</th>\n",
        "      <th>sex</th>\n",
        "      <th>births</th>\n",
        "    </tr>\n",
        "  </thead>\n",
        "  <tbody>\n",
        "    <tr>\n",
        "      <th>0    </th>\n",
        "      <td>     Emily</td>\n",
        "      <td> F</td>\n",
        "      <td> 25949</td>\n",
        "    </tr>\n",
        "    <tr>\n",
        "      <th>1    </th>\n",
        "      <td>    Hannah</td>\n",
        "      <td> F</td>\n",
        "      <td> 23066</td>\n",
        "    </tr>\n",
        "    <tr>\n",
        "      <th>2    </th>\n",
        "      <td>   Madison</td>\n",
        "      <td> F</td>\n",
        "      <td> 19965</td>\n",
        "    </tr>\n",
        "    <tr>\n",
        "      <th>3    </th>\n",
        "      <td>    Ashley</td>\n",
        "      <td> F</td>\n",
        "      <td> 17991</td>\n",
        "    </tr>\n",
        "    <tr>\n",
        "      <th>4    </th>\n",
        "      <td>     Sarah</td>\n",
        "      <td> F</td>\n",
        "      <td> 17677</td>\n",
        "    </tr>\n",
        "    <tr>\n",
        "      <th>5    </th>\n",
        "      <td>    Alexis</td>\n",
        "      <td> F</td>\n",
        "      <td> 17622</td>\n",
        "    </tr>\n",
        "    <tr>\n",
        "      <th>6    </th>\n",
        "      <td>  Samantha</td>\n",
        "      <td> F</td>\n",
        "      <td> 17262</td>\n",
        "    </tr>\n",
        "    <tr>\n",
        "      <th>7    </th>\n",
        "      <td>   Jessica</td>\n",
        "      <td> F</td>\n",
        "      <td> 15698</td>\n",
        "    </tr>\n",
        "    <tr>\n",
        "      <th>8    </th>\n",
        "      <td> Elizabeth</td>\n",
        "      <td> F</td>\n",
        "      <td> 15077</td>\n",
        "    </tr>\n",
        "    <tr>\n",
        "      <th>9    </th>\n",
        "      <td>    Taylor</td>\n",
        "      <td> F</td>\n",
        "      <td> 15076</td>\n",
        "    </tr>\n",
        "    <tr>\n",
        "      <th>10   </th>\n",
        "      <td>    Lauren</td>\n",
        "      <td> F</td>\n",
        "      <td> 14171</td>\n",
        "    </tr>\n",
        "    <tr>\n",
        "      <th>11   </th>\n",
        "      <td>    Alyssa</td>\n",
        "      <td> F</td>\n",
        "      <td> 13551</td>\n",
        "    </tr>\n",
        "    <tr>\n",
        "      <th>12   </th>\n",
        "      <td>     Kayla</td>\n",
        "      <td> F</td>\n",
        "      <td> 13309</td>\n",
        "    </tr>\n",
        "    <tr>\n",
        "      <th>13   </th>\n",
        "      <td>   Abigail</td>\n",
        "      <td> F</td>\n",
        "      <td> 13085</td>\n",
        "    </tr>\n",
        "    <tr>\n",
        "      <th>14   </th>\n",
        "      <td>   Brianna</td>\n",
        "      <td> F</td>\n",
        "      <td> 12873</td>\n",
        "    </tr>\n",
        "    <tr>\n",
        "      <th>15   </th>\n",
        "      <td>    Olivia</td>\n",
        "      <td> F</td>\n",
        "      <td> 12849</td>\n",
        "    </tr>\n",
        "    <tr>\n",
        "      <th>16   </th>\n",
        "      <td>      Emma</td>\n",
        "      <td> F</td>\n",
        "      <td> 12533</td>\n",
        "    </tr>\n",
        "    <tr>\n",
        "      <th>17   </th>\n",
        "      <td>     Megan</td>\n",
        "      <td> F</td>\n",
        "      <td> 11433</td>\n",
        "    </tr>\n",
        "    <tr>\n",
        "      <th>18   </th>\n",
        "      <td>     Grace</td>\n",
        "      <td> F</td>\n",
        "      <td> 11281</td>\n",
        "    </tr>\n",
        "    <tr>\n",
        "      <th>19   </th>\n",
        "      <td>  Victoria</td>\n",
        "      <td> F</td>\n",
        "      <td> 10920</td>\n",
        "    </tr>\n",
        "    <tr>\n",
        "      <th>20   </th>\n",
        "      <td>    Rachel</td>\n",
        "      <td> F</td>\n",
        "      <td> 10655</td>\n",
        "    </tr>\n",
        "    <tr>\n",
        "      <th>21   </th>\n",
        "      <td>      Anna</td>\n",
        "      <td> F</td>\n",
        "      <td> 10569</td>\n",
        "    </tr>\n",
        "    <tr>\n",
        "      <th>22   </th>\n",
        "      <td>    Sydney</td>\n",
        "      <td> F</td>\n",
        "      <td> 10241</td>\n",
        "    </tr>\n",
        "    <tr>\n",
        "      <th>23   </th>\n",
        "      <td>   Destiny</td>\n",
        "      <td> F</td>\n",
        "      <td>  9842</td>\n",
        "    </tr>\n",
        "    <tr>\n",
        "      <th>24   </th>\n",
        "      <td>    Morgan</td>\n",
        "      <td> F</td>\n",
        "      <td>  9502</td>\n",
        "    </tr>\n",
        "    <tr>\n",
        "      <th>25   </th>\n",
        "      <td>  Jennifer</td>\n",
        "      <td> F</td>\n",
        "      <td>  9386</td>\n",
        "    </tr>\n",
        "    <tr>\n",
        "      <th>26   </th>\n",
        "      <td>   Jasmine</td>\n",
        "      <td> F</td>\n",
        "      <td>  9089</td>\n",
        "    </tr>\n",
        "    <tr>\n",
        "      <th>27   </th>\n",
        "      <td>     Haley</td>\n",
        "      <td> F</td>\n",
        "      <td>  9067</td>\n",
        "    </tr>\n",
        "    <tr>\n",
        "      <th>28   </th>\n",
        "      <td>     Julia</td>\n",
        "      <td> F</td>\n",
        "      <td>  8758</td>\n",
        "    </tr>\n",
        "    <tr>\n",
        "      <th>29   </th>\n",
        "      <td>   Kaitlyn</td>\n",
        "      <td> F</td>\n",
        "      <td>  8757</td>\n",
        "    </tr>\n",
        "    <tr>\n",
        "      <th>...</th>\n",
        "      <td>...</td>\n",
        "      <td>...</td>\n",
        "      <td>...</td>\n",
        "    </tr>\n",
        "    <tr>\n",
        "      <th>29728</th>\n",
        "      <td>     Youki</td>\n",
        "      <td> M</td>\n",
        "      <td>     5</td>\n",
        "    </tr>\n",
        "    <tr>\n",
        "      <th>29729</th>\n",
        "      <td>      Yuan</td>\n",
        "      <td> M</td>\n",
        "      <td>     5</td>\n",
        "    </tr>\n",
        "    <tr>\n",
        "      <th>29730</th>\n",
        "      <td>      Yuji</td>\n",
        "      <td> M</td>\n",
        "      <td>     5</td>\n",
        "    </tr>\n",
        "    <tr>\n",
        "      <th>29731</th>\n",
        "      <td>   Zabrien</td>\n",
        "      <td> M</td>\n",
        "      <td>     5</td>\n",
        "    </tr>\n",
        "    <tr>\n",
        "      <th>29732</th>\n",
        "      <td>    Zaccai</td>\n",
        "      <td> M</td>\n",
        "      <td>     5</td>\n",
        "    </tr>\n",
        "    <tr>\n",
        "      <th>29733</th>\n",
        "      <td> Zaccheaus</td>\n",
        "      <td> M</td>\n",
        "      <td>     5</td>\n",
        "    </tr>\n",
        "    <tr>\n",
        "      <th>29734</th>\n",
        "      <td> Zackeriah</td>\n",
        "      <td> M</td>\n",
        "      <td>     5</td>\n",
        "    </tr>\n",
        "    <tr>\n",
        "      <th>29735</th>\n",
        "      <td>  Zackorie</td>\n",
        "      <td> M</td>\n",
        "      <td>     5</td>\n",
        "    </tr>\n",
        "    <tr>\n",
        "      <th>29736</th>\n",
        "      <td>     Zaeem</td>\n",
        "      <td> M</td>\n",
        "      <td>     5</td>\n",
        "    </tr>\n",
        "    <tr>\n",
        "      <th>29737</th>\n",
        "      <td>    Zaiden</td>\n",
        "      <td> M</td>\n",
        "      <td>     5</td>\n",
        "    </tr>\n",
        "    <tr>\n",
        "      <th>29738</th>\n",
        "      <td>      Zaim</td>\n",
        "      <td> M</td>\n",
        "      <td>     5</td>\n",
        "    </tr>\n",
        "    <tr>\n",
        "      <th>29739</th>\n",
        "      <td>    Zakeem</td>\n",
        "      <td> M</td>\n",
        "      <td>     5</td>\n",
        "    </tr>\n",
        "    <tr>\n",
        "      <th>29740</th>\n",
        "      <td>     Zakia</td>\n",
        "      <td> M</td>\n",
        "      <td>     5</td>\n",
        "    </tr>\n",
        "    <tr>\n",
        "      <th>29741</th>\n",
        "      <td>    Zakiah</td>\n",
        "      <td> M</td>\n",
        "      <td>     5</td>\n",
        "    </tr>\n",
        "    <tr>\n",
        "      <th>29742</th>\n",
        "      <td>    Zamari</td>\n",
        "      <td> M</td>\n",
        "      <td>     5</td>\n",
        "    </tr>\n",
        "    <tr>\n",
        "      <th>29743</th>\n",
        "      <td>    Zamier</td>\n",
        "      <td> M</td>\n",
        "      <td>     5</td>\n",
        "    </tr>\n",
        "    <tr>\n",
        "      <th>29744</th>\n",
        "      <td>     Zamon</td>\n",
        "      <td> M</td>\n",
        "      <td>     5</td>\n",
        "    </tr>\n",
        "    <tr>\n",
        "      <th>29745</th>\n",
        "      <td>    Zanden</td>\n",
        "      <td> M</td>\n",
        "      <td>     5</td>\n",
        "    </tr>\n",
        "    <tr>\n",
        "      <th>29746</th>\n",
        "      <td>     Zarak</td>\n",
        "      <td> M</td>\n",
        "      <td>     5</td>\n",
        "    </tr>\n",
        "    <tr>\n",
        "      <th>29747</th>\n",
        "      <td>   Zayveon</td>\n",
        "      <td> M</td>\n",
        "      <td>     5</td>\n",
        "    </tr>\n",
        "    <tr>\n",
        "      <th>29748</th>\n",
        "      <td>      Zeev</td>\n",
        "      <td> M</td>\n",
        "      <td>     5</td>\n",
        "    </tr>\n",
        "    <tr>\n",
        "      <th>29749</th>\n",
        "      <td>    Zefram</td>\n",
        "      <td> M</td>\n",
        "      <td>     5</td>\n",
        "    </tr>\n",
        "    <tr>\n",
        "      <th>29750</th>\n",
        "      <td>    Zekiel</td>\n",
        "      <td> M</td>\n",
        "      <td>     5</td>\n",
        "    </tr>\n",
        "    <tr>\n",
        "      <th>29751</th>\n",
        "      <td>     Zelig</td>\n",
        "      <td> M</td>\n",
        "      <td>     5</td>\n",
        "    </tr>\n",
        "    <tr>\n",
        "      <th>29752</th>\n",
        "      <td>     Zemar</td>\n",
        "      <td> M</td>\n",
        "      <td>     5</td>\n",
        "    </tr>\n",
        "    <tr>\n",
        "      <th>29753</th>\n",
        "      <td>      Zeph</td>\n",
        "      <td> M</td>\n",
        "      <td>     5</td>\n",
        "    </tr>\n",
        "    <tr>\n",
        "      <th>29754</th>\n",
        "      <td>     Zeven</td>\n",
        "      <td> M</td>\n",
        "      <td>     5</td>\n",
        "    </tr>\n",
        "    <tr>\n",
        "      <th>29755</th>\n",
        "      <td>     Ziggy</td>\n",
        "      <td> M</td>\n",
        "      <td>     5</td>\n",
        "    </tr>\n",
        "    <tr>\n",
        "      <th>29756</th>\n",
        "      <td>        Zo</td>\n",
        "      <td> M</td>\n",
        "      <td>     5</td>\n",
        "    </tr>\n",
        "    <tr>\n",
        "      <th>29757</th>\n",
        "      <td>     Zyier</td>\n",
        "      <td> M</td>\n",
        "      <td>     5</td>\n",
        "    </tr>\n",
        "  </tbody>\n",
        "</table>\n",
        "<p>29758 rows \u00d7 3 columns</p>\n",
        "</div>"
       ],
       "metadata": {},
       "output_type": "pyout",
       "prompt_number": 4,
       "text": [
        "            name sex  births\n",
        "0          Emily   F   25949\n",
        "1         Hannah   F   23066\n",
        "2        Madison   F   19965\n",
        "3         Ashley   F   17991\n",
        "4          Sarah   F   17677\n",
        "5         Alexis   F   17622\n",
        "6       Samantha   F   17262\n",
        "7        Jessica   F   15698\n",
        "8      Elizabeth   F   15077\n",
        "9         Taylor   F   15076\n",
        "10        Lauren   F   14171\n",
        "11        Alyssa   F   13551\n",
        "12         Kayla   F   13309\n",
        "13       Abigail   F   13085\n",
        "14       Brianna   F   12873\n",
        "15        Olivia   F   12849\n",
        "16          Emma   F   12533\n",
        "17         Megan   F   11433\n",
        "18         Grace   F   11281\n",
        "19      Victoria   F   10920\n",
        "20        Rachel   F   10655\n",
        "21          Anna   F   10569\n",
        "22        Sydney   F   10241\n",
        "23       Destiny   F    9842\n",
        "24        Morgan   F    9502\n",
        "25      Jennifer   F    9386\n",
        "26       Jasmine   F    9089\n",
        "27         Haley   F    9067\n",
        "28         Julia   F    8758\n",
        "29       Kaitlyn   F    8757\n",
        "...          ...  ..     ...\n",
        "29728      Youki   M       5\n",
        "29729       Yuan   M       5\n",
        "29730       Yuji   M       5\n",
        "29731    Zabrien   M       5\n",
        "29732     Zaccai   M       5\n",
        "29733  Zaccheaus   M       5\n",
        "29734  Zackeriah   M       5\n",
        "29735   Zackorie   M       5\n",
        "29736      Zaeem   M       5\n",
        "29737     Zaiden   M       5\n",
        "29738       Zaim   M       5\n",
        "29739     Zakeem   M       5\n",
        "29740      Zakia   M       5\n",
        "29741     Zakiah   M       5\n",
        "29742     Zamari   M       5\n",
        "29743     Zamier   M       5\n",
        "29744      Zamon   M       5\n",
        "29745     Zanden   M       5\n",
        "29746      Zarak   M       5\n",
        "29747    Zayveon   M       5\n",
        "29748       Zeev   M       5\n",
        "29749     Zefram   M       5\n",
        "29750     Zekiel   M       5\n",
        "29751      Zelig   M       5\n",
        "29752      Zemar   M       5\n",
        "29753       Zeph   M       5\n",
        "29754      Zeven   M       5\n",
        "29755      Ziggy   M       5\n",
        "29756         Zo   M       5\n",
        "29757      Zyier   M       5\n",
        "\n",
        "[29758 rows x 3 columns]"
       ]
      }
     ],
     "prompt_number": 4
    },
    {
     "cell_type": "heading",
     "level": 2,
     "metadata": {},
     "source": [
      "2.1 Selecting columns and rows"
     ]
    },
    {
     "cell_type": "markdown",
     "metadata": {},
     "source": [
      "To select a column, we index with the name of the column, like this:"
     ]
    },
    {
     "cell_type": "code",
     "collapsed": false,
     "input": [
      "names2000['births']"
     ],
     "language": "python",
     "metadata": {},
     "outputs": [
      {
       "metadata": {},
       "output_type": "pyout",
       "prompt_number": 5,
       "text": [
        "0     25949\n",
        "1     23066\n",
        "2     19965\n",
        "3     17991\n",
        "4     17677\n",
        "5     17622\n",
        "6     17262\n",
        "7     15698\n",
        "8     15077\n",
        "9     15076\n",
        "10    14171\n",
        "11    13551\n",
        "12    13309\n",
        "13    13085\n",
        "14    12873\n",
        "...\n",
        "29743    5\n",
        "29744    5\n",
        "29745    5\n",
        "29746    5\n",
        "29747    5\n",
        "29748    5\n",
        "29749    5\n",
        "29750    5\n",
        "29751    5\n",
        "29752    5\n",
        "29753    5\n",
        "29754    5\n",
        "29755    5\n",
        "29756    5\n",
        "29757    5\n",
        "Name: births, Length: 29758, dtype: int64"
       ]
      }
     ],
     "prompt_number": 5
    },
    {
     "cell_type": "markdown",
     "metadata": {},
     "source": [
      "To get the first 5 rows of a dataframe, we can use a slice: `df[:5]`.\n",
      "\n",
      "This is a great way to get a sense for what kind of information is in the dataframe -- take a minute to look at the contents and get a feel for this dataset."
     ]
    },
    {
     "cell_type": "code",
     "collapsed": false,
     "input": [
      "names2000[5:10]"
     ],
     "language": "python",
     "metadata": {},
     "outputs": [
      {
       "html": [
        "<div style=\"max-height:1000px;max-width:1500px;overflow:auto;\">\n",
        "<table border=\"1\" class=\"dataframe\">\n",
        "  <thead>\n",
        "    <tr style=\"text-align: right;\">\n",
        "      <th></th>\n",
        "      <th>name</th>\n",
        "      <th>sex</th>\n",
        "      <th>births</th>\n",
        "    </tr>\n",
        "  </thead>\n",
        "  <tbody>\n",
        "    <tr>\n",
        "      <th>5</th>\n",
        "      <td>    Alexis</td>\n",
        "      <td> F</td>\n",
        "      <td> 17622</td>\n",
        "    </tr>\n",
        "    <tr>\n",
        "      <th>6</th>\n",
        "      <td>  Samantha</td>\n",
        "      <td> F</td>\n",
        "      <td> 17262</td>\n",
        "    </tr>\n",
        "    <tr>\n",
        "      <th>7</th>\n",
        "      <td>   Jessica</td>\n",
        "      <td> F</td>\n",
        "      <td> 15698</td>\n",
        "    </tr>\n",
        "    <tr>\n",
        "      <th>8</th>\n",
        "      <td> Elizabeth</td>\n",
        "      <td> F</td>\n",
        "      <td> 15077</td>\n",
        "    </tr>\n",
        "    <tr>\n",
        "      <th>9</th>\n",
        "      <td>    Taylor</td>\n",
        "      <td> F</td>\n",
        "      <td> 15076</td>\n",
        "    </tr>\n",
        "  </tbody>\n",
        "</table>\n",
        "</div>"
       ],
       "metadata": {},
       "output_type": "pyout",
       "prompt_number": 6,
       "text": [
        "        name sex  births\n",
        "5     Alexis   F   17622\n",
        "6   Samantha   F   17262\n",
        "7    Jessica   F   15698\n",
        "8  Elizabeth   F   15077\n",
        "9     Taylor   F   15076"
       ]
      }
     ],
     "prompt_number": 6
    },
    {
     "cell_type": "markdown",
     "metadata": {},
     "source": [
      "We can combine these to get the first 5 rows of a column:"
     ]
    },
    {
     "cell_type": "code",
     "collapsed": false,
     "input": [
      "names2000['births'][5:10]"
     ],
     "language": "python",
     "metadata": {},
     "outputs": [
      {
       "metadata": {},
       "output_type": "pyout",
       "prompt_number": 7,
       "text": [
        "5    17622\n",
        "6    17262\n",
        "7    15698\n",
        "8    15077\n",
        "9    15076\n",
        "Name: births, dtype: int64"
       ]
      }
     ],
     "prompt_number": 7
    },
    {
     "cell_type": "heading",
     "level": 2,
     "metadata": {},
     "source": [
      "2.2 Selecting multiple columns"
     ]
    },
    {
     "cell_type": "markdown",
     "metadata": {},
     "source": [
      "What if we just want to know the names and the birth counts, but not the gender? Pandas makes it really easy to select a subset of the columns: just index with list of columns you want."
     ]
    },
    {
     "cell_type": "code",
     "collapsed": false,
     "input": [
      "subtable = names2000[['name', 'births']]"
     ],
     "language": "python",
     "metadata": {},
     "outputs": [],
     "prompt_number": 8
    },
    {
     "cell_type": "markdown",
     "metadata": {},
     "source": [
      "That showed us a summary, and then we can look at the first 10 rows:"
     ]
    },
    {
     "cell_type": "code",
     "collapsed": false,
     "input": [
      "subtable[:10]"
     ],
     "language": "python",
     "metadata": {},
     "outputs": [
      {
       "html": [
        "<div style=\"max-height:1000px;max-width:1500px;overflow:auto;\">\n",
        "<table border=\"1\" class=\"dataframe\">\n",
        "  <thead>\n",
        "    <tr style=\"text-align: right;\">\n",
        "      <th></th>\n",
        "      <th>name</th>\n",
        "      <th>births</th>\n",
        "    </tr>\n",
        "  </thead>\n",
        "  <tbody>\n",
        "    <tr>\n",
        "      <th>0</th>\n",
        "      <td>     Emily</td>\n",
        "      <td> 25949</td>\n",
        "    </tr>\n",
        "    <tr>\n",
        "      <th>1</th>\n",
        "      <td>    Hannah</td>\n",
        "      <td> 23066</td>\n",
        "    </tr>\n",
        "    <tr>\n",
        "      <th>2</th>\n",
        "      <td>   Madison</td>\n",
        "      <td> 19965</td>\n",
        "    </tr>\n",
        "    <tr>\n",
        "      <th>3</th>\n",
        "      <td>    Ashley</td>\n",
        "      <td> 17991</td>\n",
        "    </tr>\n",
        "    <tr>\n",
        "      <th>4</th>\n",
        "      <td>     Sarah</td>\n",
        "      <td> 17677</td>\n",
        "    </tr>\n",
        "    <tr>\n",
        "      <th>5</th>\n",
        "      <td>    Alexis</td>\n",
        "      <td> 17622</td>\n",
        "    </tr>\n",
        "    <tr>\n",
        "      <th>6</th>\n",
        "      <td>  Samantha</td>\n",
        "      <td> 17262</td>\n",
        "    </tr>\n",
        "    <tr>\n",
        "      <th>7</th>\n",
        "      <td>   Jessica</td>\n",
        "      <td> 15698</td>\n",
        "    </tr>\n",
        "    <tr>\n",
        "      <th>8</th>\n",
        "      <td> Elizabeth</td>\n",
        "      <td> 15077</td>\n",
        "    </tr>\n",
        "    <tr>\n",
        "      <th>9</th>\n",
        "      <td>    Taylor</td>\n",
        "      <td> 15076</td>\n",
        "    </tr>\n",
        "  </tbody>\n",
        "</table>\n",
        "</div>"
       ],
       "metadata": {},
       "output_type": "pyout",
       "prompt_number": 9,
       "text": [
        "        name  births\n",
        "0      Emily   25949\n",
        "1     Hannah   23066\n",
        "2    Madison   19965\n",
        "3     Ashley   17991\n",
        "4      Sarah   17677\n",
        "5     Alexis   17622\n",
        "6   Samantha   17262\n",
        "7    Jessica   15698\n",
        "8  Elizabeth   15077\n",
        "9     Taylor   15076"
       ]
      }
     ],
     "prompt_number": 9
    },
    {
     "cell_type": "markdown",
     "metadata": {},
     "source": [
      "But it gets better! We can plot them!"
     ]
    },
    {
     "cell_type": "code",
     "collapsed": false,
     "input": [
      "import pandas as pd\n",
      "names2000 = pd.read_csv('names/yob2000.txt',names=['name','sex','births'])\n",
      "names2000[:10].plot(kind='bar')\n",
      "                        "
     ],
     "language": "python",
     "metadata": {},
     "outputs": [
      {
       "metadata": {},
       "output_type": "pyout",
       "prompt_number": 10,
       "text": [
        "<matplotlib.axes._subplots.AxesSubplot at 0x10fc4d310>"
       ]
      }
     ],
     "prompt_number": 10
    },
    {
     "cell_type": "code",
     "collapsed": false,
     "input": [
      "from matplotlib import pyplot as plt\n",
      "plt.show()"
     ],
     "language": "python",
     "metadata": {},
     "outputs": [],
     "prompt_number": 11
    },
    {
     "cell_type": "markdown",
     "metadata": {},
     "source": [
      "This is okay, but the bars are labeled with row numbers, since the row number is\n",
      "the default way of indexing rows. The easiest way to fix this is to do it when we read in the data."
     ]
    },
    {
     "cell_type": "code",
     "collapsed": false,
     "input": [
      "import pandas as pd\n",
      "import matplotlib.pylab as plt\n",
      "names2000 = pd.read_csv('names/yob2000.txt',names=['name','sex','births'],index_col='name')\n",
      "ax = names2000[:10].plot(kind='bar')\n",
      "#plt.show()    \n",
      "print names2000.plot.__doc__"
     ],
     "language": "python",
     "metadata": {},
     "outputs": [
      {
       "output_type": "stream",
       "stream": "stdout",
       "text": [
        "\n",
        "    Make line or bar plot of DataFrame's series with the index on the x-axis\n",
        "    using matplotlib / pylab.\n",
        "\n",
        "    Parameters\n",
        "    ----------\n",
        "    frame : DataFrame\n",
        "    x : label or position, default None\n",
        "    y : label or position, default None\n",
        "        Allows plotting of one column versus another\n",
        "    subplots : boolean, default False\n",
        "        Make separate subplots for each time series\n",
        "    sharex : boolean, default True\n",
        "        In case subplots=True, share x axis\n",
        "    sharey : boolean, default False\n",
        "        In case subplots=True, share y axis\n",
        "    use_index : boolean, default True\n",
        "        Use index as ticks for x axis\n",
        "    stacked : boolean, default False\n",
        "        If True, create stacked bar plot. Only valid for DataFrame input\n",
        "    sort_columns: boolean, default False\n",
        "        Sort column names to determine plot ordering\n",
        "    title : string\n",
        "        Title to use for the plot\n",
        "    grid : boolean, default None (matlab style default)\n",
        "        Axis grid lines\n",
        "    legend : boolean, default True\n",
        "        Place legend on axis subplots\n",
        "\n",
        "    ax : matplotlib axis object, default None\n",
        "    style : list or dict\n",
        "        matplotlib line style per column\n",
        "    kind : {'line', 'bar', 'barh', 'kde', 'density'}\n",
        "        bar : vertical bar plot\n",
        "        barh : horizontal bar plot\n",
        "        kde/density : Kernel Density Estimation plot\n",
        "    logx : boolean, default False\n",
        "        For line plots, use log scaling on x axis\n",
        "    logy : boolean, default False\n",
        "        For line plots, use log scaling on y axis\n",
        "    xticks : sequence\n",
        "        Values to use for the xticks\n",
        "    yticks : sequence\n",
        "        Values to use for the yticks\n",
        "    xlim : 2-tuple/list\n",
        "    ylim : 2-tuple/list\n",
        "    rot : int, default None\n",
        "        Rotation for ticks\n",
        "    secondary_y : boolean or sequence, default False\n",
        "        Whether to plot on the secondary y-axis\n",
        "        If a list/tuple, which columns to plot on secondary y-axis\n",
        "    mark_right: boolean, default True\n",
        "        When using a secondary_y axis, should the legend label the axis of\n",
        "        the various columns automatically\n",
        "    colormap : str or matplotlib colormap object, default None\n",
        "        Colormap to select colors from. If string, load colormap with that name\n",
        "        from matplotlib.\n",
        "    kwds : keywords\n",
        "        Options to pass to matplotlib plotting method\n",
        "\n",
        "    Returns\n",
        "    -------\n",
        "    ax_or_axes : matplotlib.AxesSubplot or list of them\n",
        "    \n"
       ]
      },
      {
       "output_type": "stream",
       "stream": "stdout",
       "text": [
        "\n",
        "    Make line or bar plot of DataFrame's series with the index on the x-axis\n",
        "    using matplotlib / pylab.\n",
        "\n",
        "    Parameters\n",
        "    ----------\n",
        "    frame : DataFrame\n",
        "    x : label or position, default None\n",
        "    y : label or position, default None\n",
        "        Allows plotting of one column versus another\n",
        "    subplots : boolean, default False\n",
        "        Make separate subplots for each time series\n",
        "    sharex : boolean, default True\n",
        "        In case subplots=True, share x axis\n",
        "    sharey : boolean, default False\n",
        "        In case subplots=True, share y axis\n",
        "    use_index : boolean, default True\n",
        "        Use index as ticks for x axis\n",
        "    stacked : boolean, default False\n",
        "        If True, create stacked bar plot. Only valid for DataFrame input\n",
        "    sort_columns: boolean, default False\n",
        "        Sort column names to determine plot ordering\n",
        "    title : string\n",
        "        Title to use for the plot\n",
        "    grid : boolean, default None (matlab style default)\n",
        "        Axis grid lines\n",
        "    legend : boolean, default True\n",
        "        Place legend on axis subplots\n",
        "\n",
        "    ax : matplotlib axis object, default None\n",
        "    style : list or dict\n",
        "        matplotlib line style per column\n",
        "    kind : {'line', 'bar', 'barh', 'kde', 'density'}\n",
        "        bar : vertical bar plot\n",
        "        barh : horizontal bar plot\n",
        "        kde/density : Kernel Density Estimation plot\n",
        "    logx : boolean, default False\n",
        "        For line plots, use log scaling on x axis\n",
        "    logy : boolean, default False\n",
        "        For line plots, use log scaling on y axis\n",
        "    xticks : sequence\n",
        "        Values to use for the xticks\n",
        "    yticks : sequence\n",
        "        Values to use for the yticks\n",
        "    xlim : 2-tuple/list\n",
        "    ylim : 2-tuple/list\n",
        "    rot : int, default None\n",
        "        Rotation for ticks\n",
        "    secondary_y : boolean or sequence, default False\n",
        "        Whether to plot on the secondary y-axis\n",
        "        If a list/tuple, which columns to plot on secondary y-axis\n",
        "    mark_right: boolean, default True\n",
        "        When using a secondary_y axis, should the legend label the axis of\n",
        "        the various columns automatically\n",
        "    colormap : str or matplotlib colormap object, default None\n",
        "        Colormap to select colors from. If string, load colormap with that name\n",
        "        from matplotlib.\n",
        "    kwds : keywords\n",
        "        Options to pass to matplotlib plotting method\n",
        "\n",
        "    Returns\n",
        "    -------\n",
        "    ax_or_axes : matplotlib.AxesSubplot or list of them\n",
        "    \n"
       ]
      }
     ],
     "prompt_number": 7
    },
    {
     "cell_type": "markdown",
     "metadata": {},
     "source": [
      "Again, ok,  but the labels are a little smushed."
     ]
    },
    {
     "cell_type": "code",
     "collapsed": false,
     "input": [
      "import pandas as pd\n",
      "import matplotlib.pylab as plt\n",
      "names2000 = pd.read_csv('names/yob2000.txt',names=['name','sex','births'],index_col='name')\n",
      "# Note that the plot command returns the axis.  This is critical for getting\n",
      "# at all kinds of fine tuning tools, as we're about to see.\n",
      "ax = names2000[:10].plot(kind='bar')\n",
      "# For this to work I DIDNT start ipython notebook with the --pylab option.\n",
      "# This means the figure doesnt display until AFTER we give the plt.show() command.\n",
      "labels = ax.get_xticklabels()\n",
      "for label in labels:\n",
      "    label.set_rotation(30)\n",
      "plt.show() "
     ],
     "language": "python",
     "metadata": {},
     "outputs": [],
     "prompt_number": 5
    },
    {
     "cell_type": "heading",
     "level": 2,
     "metadata": {},
     "source": [
      "Numpy"
     ]
    },
    {
     "cell_type": "code",
     "collapsed": false,
     "input": [
      "import numpy as np\n",
      "x = np.array([2,3,1,0])\n",
      "y =np.arange(10)\n",
      "z = 2 + x"
     ],
     "language": "python",
     "metadata": {},
     "outputs": [],
     "prompt_number": 2
    },
    {
     "cell_type": "markdown",
     "metadata": {},
     "source": [
      "Write expressions in the next cell to retrieve 1 from `x`, 3 from `y`, and 3 from `z`."
     ]
    },
    {
     "cell_type": "code",
     "collapsed": false,
     "input": [
      "x[2]\n",
      "y[3]\n",
      "z[2]"
     ],
     "language": "python",
     "metadata": {},
     "outputs": [
      {
       "metadata": {},
       "output_type": "pyout",
       "prompt_number": 6,
       "text": [
        "3"
       ]
      }
     ],
     "prompt_number": 6
    },
    {
     "cell_type": "markdown",
     "metadata": {},
     "source": [
      "In the next cell, write an expression that generates a 5 by 5 array filled with zeros, and another  that generates a 1 by 1 array with a 1 in it."
     ]
    },
    {
     "cell_type": "code",
     "collapsed": false,
     "input": [
      "five_by_five = np.zeros((5,5))\n",
      "one_by_one = np.ones((1,1))"
     ],
     "language": "python",
     "metadata": {},
     "outputs": [],
     "prompt_number": 8
    },
    {
     "cell_type": "code",
     "collapsed": false,
     "input": [
      "five_by_five"
     ],
     "language": "python",
     "metadata": {},
     "outputs": [
      {
       "metadata": {},
       "output_type": "pyout",
       "prompt_number": 9,
       "text": [
        "array([[ 0.,  0.,  0.,  0.,  0.],\n",
        "       [ 0.,  0.,  0.,  0.,  0.],\n",
        "       [ 0.,  0.,  0.,  0.,  0.],\n",
        "       [ 0.,  0.,  0.,  0.,  0.],\n",
        "       [ 0.,  0.,  0.,  0.,  0.]])"
       ]
      }
     ],
     "prompt_number": 9
    },
    {
     "cell_type": "code",
     "collapsed": false,
     "input": [
      "one_by_one"
     ],
     "language": "python",
     "metadata": {},
     "outputs": [
      {
       "metadata": {},
       "output_type": "pyout",
       "prompt_number": 10,
       "text": [
        "array([[ 1.]])"
       ]
      }
     ],
     "prompt_number": 10
    },
    {
     "cell_type": "code",
     "collapsed": false,
     "input": [
      "one_by_one == 1"
     ],
     "language": "python",
     "metadata": {},
     "outputs": [
      {
       "metadata": {},
       "output_type": "pyout",
       "prompt_number": 11,
       "text": [
        "array([[ True]], dtype=bool)"
       ]
      }
     ],
     "prompt_number": 11
    },
    {
     "cell_type": "code",
     "collapsed": false,
     "input": [
      "five_by_five == 0"
     ],
     "language": "python",
     "metadata": {},
     "outputs": [
      {
       "metadata": {},
       "output_type": "pyout",
       "prompt_number": 12,
       "text": [
        "array([[ True,  True,  True,  True,  True],\n",
        "       [ True,  True,  True,  True,  True],\n",
        "       [ True,  True,  True,  True,  True],\n",
        "       [ True,  True,  True,  True,  True],\n",
        "       [ True,  True,  True,  True,  True]], dtype=bool)"
       ]
      }
     ],
     "prompt_number": 12
    },
    {
     "cell_type": "markdown",
     "metadata": {},
     "source": [
      "In the next cell, write an expression that uses an assignment to a splice to make all the negative values in `a` be 0.  Attention: This can be done more easily in numpy than it can in normal Python.  See if you can do it the easy way."
     ]
    },
    {
     "cell_type": "code",
     "collapsed": false,
     "input": [
      "a = np.arange(10,-1,-1) - 3"
     ],
     "language": "python",
     "metadata": {},
     "outputs": [],
     "prompt_number": 17
    },
    {
     "cell_type": "code",
     "collapsed": false,
     "input": [
      "a"
     ],
     "language": "python",
     "metadata": {},
     "outputs": [
      {
       "metadata": {},
       "output_type": "pyout",
       "prompt_number": 18,
       "text": [
        "array([ 7,  6,  5,  4,  3,  2,  1,  0, -1, -2, -3])"
       ]
      }
     ],
     "prompt_number": 18
    },
    {
     "cell_type": "markdown",
     "metadata": {},
     "source": [
      "There are two ways, the old way you learned with lists, and the new, which only works with arrays, and builds on the concept of elementwse operation."
     ]
    },
    {
     "cell_type": "code",
     "collapsed": false,
     "input": [
      "a[-3:] = 0"
     ],
     "language": "python",
     "metadata": {},
     "outputs": [],
     "prompt_number": 21
    },
    {
     "cell_type": "code",
     "collapsed": false,
     "input": [
      "a"
     ],
     "language": "python",
     "metadata": {},
     "outputs": [
      {
       "metadata": {},
       "output_type": "pyout",
       "prompt_number": 16,
       "text": [
        "array([7, 6, 5, 4, 3, 2, 1, 0, 0, 0, 0])"
       ]
      }
     ],
     "prompt_number": 16
    },
    {
     "cell_type": "markdown",
     "metadata": {},
     "source": [
      "Here's the old way."
     ]
    },
    {
     "cell_type": "code",
     "collapsed": false,
     "input": [
      "a[-3:] = [0,0,0]"
     ],
     "language": "python",
     "metadata": {},
     "outputs": [],
     "prompt_number": 19
    },
    {
     "cell_type": "code",
     "collapsed": false,
     "input": [
      "a"
     ],
     "language": "python",
     "metadata": {},
     "outputs": [
      {
       "metadata": {},
       "output_type": "pyout",
       "prompt_number": 20,
       "text": [
        "array([7, 6, 5, 4, 3, 2, 1, 0, 0, 0, 0])"
       ]
      }
     ],
     "prompt_number": 20
    },
    {
     "cell_type": "markdown",
     "metadata": {},
     "source": [
      "In the next cell write an expression that produces an array containing result of multiplying 7 by each of the first 12 integers (1 - 12). There's a hard way to do this and an easy way.  The easy way uses elementwise operations."
     ]
    },
    {
     "cell_type": "code",
     "collapsed": false,
     "input": [
      "7 * np.arange(1,13)"
     ],
     "language": "python",
     "metadata": {},
     "outputs": [
      {
       "metadata": {},
       "output_type": "pyout",
       "prompt_number": 24,
       "text": [
        "array([ 7, 14, 21, 28, 35, 42, 49, 56, 63, 70, 77, 84])"
       ]
      }
     ],
     "prompt_number": 24
    },
    {
     "cell_type": "code",
     "collapsed": false,
     "input": [
      "times_table = np.ones((12,12))\n",
      "times_table"
     ],
     "language": "python",
     "metadata": {},
     "outputs": [
      {
       "metadata": {},
       "output_type": "pyout",
       "prompt_number": 33,
       "text": [
        "array([[ 1.,  1.,  1.,  1.,  1.,  1.,  1.,  1.,  1.,  1.,  1.,  1.],\n",
        "       [ 1.,  1.,  1.,  1.,  1.,  1.,  1.,  1.,  1.,  1.,  1.,  1.],\n",
        "       [ 1.,  1.,  1.,  1.,  1.,  1.,  1.,  1.,  1.,  1.,  1.,  1.],\n",
        "       [ 1.,  1.,  1.,  1.,  1.,  1.,  1.,  1.,  1.,  1.,  1.,  1.],\n",
        "       [ 1.,  1.,  1.,  1.,  1.,  1.,  1.,  1.,  1.,  1.,  1.,  1.],\n",
        "       [ 1.,  1.,  1.,  1.,  1.,  1.,  1.,  1.,  1.,  1.,  1.,  1.],\n",
        "       [ 1.,  1.,  1.,  1.,  1.,  1.,  1.,  1.,  1.,  1.,  1.,  1.],\n",
        "       [ 1.,  1.,  1.,  1.,  1.,  1.,  1.,  1.,  1.,  1.,  1.,  1.],\n",
        "       [ 1.,  1.,  1.,  1.,  1.,  1.,  1.,  1.,  1.,  1.,  1.,  1.],\n",
        "       [ 1.,  1.,  1.,  1.,  1.,  1.,  1.,  1.,  1.,  1.,  1.,  1.],\n",
        "       [ 1.,  1.,  1.,  1.,  1.,  1.,  1.,  1.,  1.,  1.,  1.,  1.],\n",
        "       [ 1.,  1.,  1.,  1.,  1.,  1.,  1.,  1.,  1.,  1.,  1.,  1.]])"
       ]
      }
     ],
     "prompt_number": 33
    },
    {
     "cell_type": "code",
     "collapsed": false,
     "input": [
      "times_table = times_table * np.arange(1,13)\n",
      "times_table"
     ],
     "language": "python",
     "metadata": {},
     "outputs": [
      {
       "metadata": {},
       "output_type": "pyout",
       "prompt_number": 34,
       "text": [
        "array([[  1.,   2.,   3.,   4.,   5.,   6.,   7.,   8.,   9.,  10.,  11.,\n",
        "         12.],\n",
        "       [  1.,   2.,   3.,   4.,   5.,   6.,   7.,   8.,   9.,  10.,  11.,\n",
        "         12.],\n",
        "       [  1.,   2.,   3.,   4.,   5.,   6.,   7.,   8.,   9.,  10.,  11.,\n",
        "         12.],\n",
        "       [  1.,   2.,   3.,   4.,   5.,   6.,   7.,   8.,   9.,  10.,  11.,\n",
        "         12.],\n",
        "       [  1.,   2.,   3.,   4.,   5.,   6.,   7.,   8.,   9.,  10.,  11.,\n",
        "         12.],\n",
        "       [  1.,   2.,   3.,   4.,   5.,   6.,   7.,   8.,   9.,  10.,  11.,\n",
        "         12.],\n",
        "       [  1.,   2.,   3.,   4.,   5.,   6.,   7.,   8.,   9.,  10.,  11.,\n",
        "         12.],\n",
        "       [  1.,   2.,   3.,   4.,   5.,   6.,   7.,   8.,   9.,  10.,  11.,\n",
        "         12.],\n",
        "       [  1.,   2.,   3.,   4.,   5.,   6.,   7.,   8.,   9.,  10.,  11.,\n",
        "         12.],\n",
        "       [  1.,   2.,   3.,   4.,   5.,   6.,   7.,   8.,   9.,  10.,  11.,\n",
        "         12.],\n",
        "       [  1.,   2.,   3.,   4.,   5.,   6.,   7.,   8.,   9.,  10.,  11.,\n",
        "         12.],\n",
        "       [  1.,   2.,   3.,   4.,   5.,   6.,   7.,   8.,   9.,  10.,  11.,\n",
        "         12.]])"
       ]
      }
     ],
     "prompt_number": 34
    },
    {
     "cell_type": "code",
     "collapsed": false,
     "input": [
      "times_table = times_table.transpose() * np.arange(1,13)"
     ],
     "language": "python",
     "metadata": {},
     "outputs": [
      {
       "metadata": {},
       "output_type": "pyout",
       "prompt_number": 35,
       "text": [
        "array([[   1.,    2.,    3.,    4.,    5.,    6.,    7.,    8.,    9.,\n",
        "          10.,   11.,   12.],\n",
        "       [   2.,    4.,    6.,    8.,   10.,   12.,   14.,   16.,   18.,\n",
        "          20.,   22.,   24.],\n",
        "       [   3.,    6.,    9.,   12.,   15.,   18.,   21.,   24.,   27.,\n",
        "          30.,   33.,   36.],\n",
        "       [   4.,    8.,   12.,   16.,   20.,   24.,   28.,   32.,   36.,\n",
        "          40.,   44.,   48.],\n",
        "       [   5.,   10.,   15.,   20.,   25.,   30.,   35.,   40.,   45.,\n",
        "          50.,   55.,   60.],\n",
        "       [   6.,   12.,   18.,   24.,   30.,   36.,   42.,   48.,   54.,\n",
        "          60.,   66.,   72.],\n",
        "       [   7.,   14.,   21.,   28.,   35.,   42.,   49.,   56.,   63.,\n",
        "          70.,   77.,   84.],\n",
        "       [   8.,   16.,   24.,   32.,   40.,   48.,   56.,   64.,   72.,\n",
        "          80.,   88.,   96.],\n",
        "       [   9.,   18.,   27.,   36.,   45.,   54.,   63.,   72.,   81.,\n",
        "          90.,   99.,  108.],\n",
        "       [  10.,   20.,   30.,   40.,   50.,   60.,   70.,   80.,   90.,\n",
        "         100.,  110.,  120.],\n",
        "       [  11.,   22.,   33.,   44.,   55.,   66.,   77.,   88.,   99.,\n",
        "         110.,  121.,  132.],\n",
        "       [  12.,   24.,   36.,   48.,   60.,   72.,   84.,   96.,  108.,\n",
        "         120.,  132.,  144.]])"
       ]
      }
     ],
     "prompt_number": 35
    },
    {
     "cell_type": "code",
     "collapsed": false,
     "input": [],
     "language": "python",
     "metadata": {},
     "outputs": []
    },
    {
     "cell_type": "heading",
     "level": 2,
     "metadata": {},
     "source": [
      "Using your own data"
     ]
    },
    {
     "cell_type": "markdown",
     "metadata": {},
     "source": [
      "Using your own data to make data frames sometimes requires a little preporcessing.  The basic\n",
      "idea is to created a dictionary whose keys are column names and whose values\n",
      "are the sequences of values for that column.  The trick is when you want to have an\n",
      "index for columns, as is often necessary when you wanbt to show meaningful plots.  That has to be a predefined sequence of values as well.\n",
      "The following example illustrates the idea."
     ]
    },
    {
     "cell_type": "heading",
     "level": 2,
     "metadata": {},
     "source": [
      "From [data science lab](http://datasciencelab.wordpress.com/2013/12/21/beautiful-plots-with-pandas-and-matplotlib/)"
     ]
    },
    {
     "cell_type": "code",
     "collapsed": false,
     "input": [
      "import pandas as pd\n",
      "import matplotlib as mpl\n",
      "from matplotlib.colors import LinearSegmentedColormap\n",
      "from matplotlib.lines import Line2D\n",
      "from matplotlib import pylab as plt\n",
      " \n",
      "countries = ['France','Spain','Sweden','Germany','Finland','Poland','Italy',\n",
      "             'United Kingdom','Romania','Greece','Bulgaria','Hungary',\n",
      "             'Portugal','Austria','Czech Republic','Ireland','Lithuania','Latvia',\n",
      "             'Croatia','Slovakia','Estonia','Denmark','Netherlands','Belgium']\n",
      "extensions = [547030,504782,450295,357022,338145,312685,301340,243610,238391,\n",
      "              131940,110879,93028,92090,83871,78867,70273,65300,64589,56594,\n",
      "              49035,45228,43094,41543,30528]\n",
      "populations = [63.8,47,9.55,81.8,5.42,38.3,61.1,63.2,21.3,11.4,7.35,\n",
      "               9.93,10.7,8.44,10.6,4.63,3.28,2.23,4.38,5.49,1.34,5.61,\n",
      "               16.8,10.8]\n",
      "life_expectancies = [81.8,82.1,81.8,80.7,80.5,76.4,82.4,80.5,73.8,80.8,73.5,\n",
      "                    74.6,79.9,81.1,77.7,80.7,72.1,72.2,77,75.4,74.4,79.4,81,80.5]\n",
      "data = {'extension' : pd.Series(extensions, index=countries),\n",
      "        'population' : pd.Series(populations, index=countries),\n",
      "        'life expectancy' : pd.Series(life_expectancies, index=countries)}\n",
      " \n",
      "df = pd.DataFrame(data)\n",
      "df = df.sort('life expectancy')"
     ],
     "language": "python",
     "metadata": {},
     "outputs": [],
     "prompt_number": 3
    },
    {
     "cell_type": "code",
     "collapsed": false,
     "input": [
      "fig, axes = plt.subplots(nrows=3, ncols=1)\n",
      "col_axes = []\n",
      "for i, c in enumerate(df.columns):\n",
      "    col_axes.append(df[c].plot(kind='bar', ax=axes[i], figsize=(12, 10), title=c))\n",
      "for axs in col_axes[:2]:\n",
      "    labels = axs.get_xticklabels()\n",
      "    for label in labels:\n",
      "        label.set_rotation(40)\n",
      "print fig.subplots_adjust(hspace=.6)\n",
      "plt.show()"
     ],
     "language": "python",
     "metadata": {},
     "outputs": [
      {
       "output_type": "stream",
       "stream": "stdout",
       "text": [
        "None\n"
       ]
      }
     ],
     "prompt_number": 15
    },
    {
     "cell_type": "code",
     "collapsed": false,
     "input": [],
     "language": "python",
     "metadata": {},
     "outputs": []
    }
   ],
   "metadata": {}
  }
 ]
}