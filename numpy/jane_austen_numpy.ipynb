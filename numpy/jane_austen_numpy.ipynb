{
 "cells": [
  {
   "cell_type": "markdown",
   "metadata": {
    "collapsed": false,
    "deletable": true,
    "editable": true
   },
   "source": [
    "## Using numpy arrays for frequency data"
   ]
  },
  {
   "cell_type": "markdown",
   "metadata": {
    "deletable": true,
    "editable": true
   },
   "source": [
    "In this section we build a 2D array representing a textual data set. There are tools that will do what we doing here much faster than the code you write, but the idea is for you to gain a better understanding of what the actual computational representation of the data is by building it yourself.\n",
    "\n",
    "Steps\n",
    "\n",
    "1.  We loop through a set of documents getting the vocab counts for each.  Our final vocabulary is the union of the vocabularies of the documents, i.e., every word we've seen in the data set.\n",
    "2. Let D be the number of documents.  Let V be the vocab size.  We build a DxV matrix M representing the frequency counts of each word in each document.  `M[i,j]` is the count of the `j`-th word in the `i`-th document.\n",
    "\n",
    "The matrix M can be passed directly to a machine learning algorithm as its training matrix.\n"
   ]
  },
  {
   "cell_type": "code",
   "execution_count": 2,
   "metadata": {
    "collapsed": false,
    "deletable": true,
    "editable": true
   },
   "outputs": [],
   "source": [
    "import numpy as np\n",
    "import numpy.linalg as LA\n",
    "from collections import Counter\n",
    "\n",
    "docset = ['pride_and_prejudice','northanger_abbey',\n",
    "          'emma', 'mansfield_park',\n",
    "          'sense_and_sensibility', 'persuasion']\n",
    "vocab = set()\n",
    "doc_counts = []\n",
    "for d in docset:\n",
    "    with open('austen/{0}.txt'.format(d),'r') as fh:\n",
    "        ctr = Counter(fh.read().lower().split())\n",
    "        vocab.update(ctr.keys())\n",
    "        doc_counts.append(ctr)\n",
    "\n",
    "vocab = sorted(list(vocab))\n",
    "(D,V) = (len(doc_counts), len(vocab))\n",
    "\n",
    "M = np.zeros((D,V))\n",
    "for i in range(D):\n",
    "    doc_ctr_i = doc_counts[i]\n",
    "    for j in range(V):\n",
    "        M[i,j] = doc_ctr_i[vocab[j]]\n",
    "\n",
    "# The words counts for each document.\n",
    "doc_sizes = LA.norm(M,ord=1,axis=1)\n",
    "\n",
    "def divide (x,y):\n",
    "    return x/y\n",
    "\n",
    "M_norm = np.apply_along_axis(divide,0,M,doc_sizes)\n",
    "        "
   ]
  },
  {
   "cell_type": "code",
   "execution_count": 24,
   "metadata": {
    "collapsed": false,
    "deletable": true,
    "editable": true
   },
   "outputs": [
    {
     "name": "stdout",
     "output_type": "stream",
     "text": [
      "735640.0\n"
     ]
    },
    {
     "data": {
      "text/plain": [
       "array([ 124588.,   80154.,  160449.,  162553.,  121590.,   86306.])"
      ]
     },
     "execution_count": 24,
     "metadata": {},
     "output_type": "execute_result"
    }
   ],
   "source": [
    "print sum(doc_sizes)\n",
    "doc_sizes"
   ]
  },
  {
   "cell_type": "markdown",
   "metadata": {
    "deletable": true,
    "editable": true
   },
   "source": [
    "Note that `M` gives the counts for a word in a document, and `M_norm` the proportion of the document the word occupies."
   ]
  },
  {
   "cell_type": "code",
   "execution_count": 11,
   "metadata": {
    "collapsed": false,
    "deletable": true,
    "editable": true
   },
   "outputs": [
    {
     "name": "stdout",
     "output_type": "stream",
     "text": [
      "(6, 39548) (6, 39548)\n",
      "1 northanger_abbey\n",
      "0 pride_and_prejudice\n",
      "34915 the\n",
      "3321.0 0.0414327419717\n",
      "4479.0 0.0359504928243\n"
     ]
    }
   ],
   "source": [
    "print M.shape, M_norm.shape\n",
    "print docset.index('northanger_abbey'), docset[1]\n",
    "print docset.index('pride_and_prejudice'),docset[0]\n",
    "print vocab.index('the'),vocab[34915]\n",
    "\n",
    "print M[1,34915], M_norm[1,34915]\n",
    "print M[0,34915], M_norm[0,34915]"
   ]
  },
  {
   "cell_type": "markdown",
   "metadata": {
    "deletable": true,
    "editable": true
   },
   "source": [
    "Read the code above carefully, make sure you understand it. Answer the following questions about `M` and `M_norm`.\n",
    "\n",
    "1.  What is the size of Jane Austen's vocabulary?  How many words long is the Jane Austen canon (the sum of the lengths [in words] of the 6 novels)?  Has Austen passed the million word milestone?\n",
    "1.  How many times does \"time\" occur in *Pride and Prejudice*?  Show the computations you use to compute this. \n",
    "2.  How many times does \"year\" occur in *Sense and Sensibility*?  Show your work.\n",
    "3.  Note that 'It' is not present in the vocabulary.\n",
    "    ```\n",
    "    >>> 'It' in vocab\n",
    "    False\n",
    "    ```\n",
    "    Can we conclude that Jane Austen never starts a sentence with 'It'?  Why or why not?\n",
    "4.  Compute an array which gives the counts for the word \"gentleman\" in all 6 Jane Austen novels.\n",
    "4.  Which novel has the largest number of tokens of \"truth\"?  Show your computations.\n",
    "5.  Which novel has the largest proportion of occurrences of \"lady\" and which the largest proportion of occurrences of \"gentleman\"?  Which word shows up more often in Austen's writings?\n"
   ]
  },
  {
   "cell_type": "code",
   "execution_count": null,
   "metadata": {
    "collapsed": true,
    "deletable": true,
    "editable": true
   },
   "outputs": [],
   "source": []
  }
 ],
 "metadata": {
  "kernelspec": {
   "display_name": "Python 2",
   "language": "python",
   "name": "python2"
  },
  "language_info": {
   "codemirror_mode": {
    "name": "ipython",
    "version": 2
   },
   "file_extension": ".py",
   "mimetype": "text/x-python",
   "name": "python",
   "nbconvert_exporter": "python",
   "pygments_lexer": "ipython2",
   "version": "2.7.13"
  },
  "toc": {
   "colors": {
    "hover_highlight": "#DAA520",
    "running_highlight": "#FF0000",
    "selected_highlight": "#FFD700"
   },
   "moveMenuLeft": true,
   "nav_menu": {
    "height": "42px",
    "width": "252px"
   },
   "navigate_menu": true,
   "number_sections": true,
   "sideBar": true,
   "threshold": 4,
   "toc_cell": false,
   "toc_section_display": "block",
   "toc_window_display": false,
   "widenNotebook": false
  }
 },
 "nbformat": 4,
 "nbformat_minor": 0
}
