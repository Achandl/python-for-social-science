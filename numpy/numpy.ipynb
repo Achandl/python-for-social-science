{
  "nbformat": 4,
  "nbformat_minor": 0,
  "metadata": {
    "kernelspec": {
      "display_name": "Python 3",
      "language": "python",
      "name": "python3"
    },
    "language_info": {
      "codemirror_mode": {
        "name": "ipython",
        "version": 3
      },
      "file_extension": ".py",
      "mimetype": "text/x-python",
      "name": "python",
      "nbconvert_exporter": "python",
      "pygments_lexer": "ipython3",
      "version": "3.6.5"
    },
    "toc": {
      "base_numbering": 1,
      "nav_menu": {
        "height": "190px",
        "width": "252px"
      },
      "number_sections": true,
      "sideBar": true,
      "skip_h1_title": false,
      "title_cell": "Table of Contents",
      "title_sidebar": "Contents",
      "toc_cell": false,
      "toc_position": {},
      "toc_section_display": "block",
      "toc_window_display": false
    },
    "colab": {
      "name": "numpy.ipynb",
      "provenance": []
    }
  },
  "cells": [
    {
      "cell_type": "markdown",
      "metadata": {
        "id": "8_MMnIga0FIj",
        "colab_type": "text"
      },
      "source": [
        "## Making ranges"
      ]
    },
    {
      "cell_type": "code",
      "metadata": {
        "id": "buYPCHse0FIk",
        "colab_type": "code",
        "colab": {
          "base_uri": "https://localhost:8080/",
          "height": 34
        },
        "outputId": "1a3508ca-99f7-4e6f-c2af-f27fcb138937"
      },
      "source": [
        "type(range(15))"
      ],
      "execution_count": 3,
      "outputs": [
        {
          "output_type": "execute_result",
          "data": {
            "text/plain": [
              "range"
            ]
          },
          "metadata": {
            "tags": []
          },
          "execution_count": 3
        }
      ]
    },
    {
      "cell_type": "code",
      "metadata": {
        "id": "rTlpgy_50FIo",
        "colab_type": "code",
        "colab": {
          "base_uri": "https://localhost:8080/",
          "height": 34
        },
        "outputId": "6422d533-f95b-4b3c-e253-4931e3e95d0a"
      },
      "source": [
        "x = list(range(15))\n",
        "x"
      ],
      "execution_count": 4,
      "outputs": [
        {
          "output_type": "execute_result",
          "data": {
            "text/plain": [
              "[0, 1, 2, 3, 4, 5, 6, 7, 8, 9, 10, 11, 12, 13, 14]"
            ]
          },
          "metadata": {
            "tags": []
          },
          "execution_count": 4
        }
      ]
    },
    {
      "cell_type": "code",
      "metadata": {
        "id": "UQn9eK9-0FIr",
        "colab_type": "code",
        "colab": {
          "base_uri": "https://localhost:8080/",
          "height": 85
        },
        "outputId": "8e9fde01-bdc3-4418-ade1-742ee15fa6f0"
      },
      "source": [
        "L = [3,5,7,8]\n",
        "for ind in range(len(L)):\n",
        "    print(ind)"
      ],
      "execution_count": 5,
      "outputs": [
        {
          "output_type": "stream",
          "text": [
            "0\n",
            "1\n",
            "2\n",
            "3\n"
          ],
          "name": "stdout"
        }
      ]
    },
    {
      "cell_type": "code",
      "metadata": {
        "id": "bof1A7rl0FIt",
        "colab_type": "code",
        "colab": {
          "base_uri": "https://localhost:8080/",
          "height": 85
        },
        "outputId": "900ce1ef-7918-4072-9d81-c9c1446e1215"
      },
      "source": [
        "\n",
        "\n",
        "for ind in range(len(L)):\n",
        "    print(L[ind])"
      ],
      "execution_count": 6,
      "outputs": [
        {
          "output_type": "stream",
          "text": [
            "3\n",
            "5\n",
            "7\n",
            "8\n"
          ],
          "name": "stdout"
        }
      ]
    },
    {
      "cell_type": "code",
      "metadata": {
        "id": "Ndv5QETf0FIv",
        "colab_type": "code",
        "colab": {
          "base_uri": "https://localhost:8080/",
          "height": 34
        },
        "outputId": "24673713-299e-4c46-b5a3-c442bff82a94"
      },
      "source": [
        "list(range(1,5))"
      ],
      "execution_count": 7,
      "outputs": [
        {
          "output_type": "execute_result",
          "data": {
            "text/plain": [
              "[1, 2, 3, 4]"
            ]
          },
          "metadata": {
            "tags": []
          },
          "execution_count": 7
        }
      ]
    },
    {
      "cell_type": "code",
      "metadata": {
        "id": "6xiFkEAe0FIx",
        "colab_type": "code",
        "colab": {
          "base_uri": "https://localhost:8080/",
          "height": 1000
        },
        "outputId": "65055f07-82f8-49e7-d1fc-43c76c3179a7"
      },
      "source": [
        "list(range(5,100))"
      ],
      "execution_count": 8,
      "outputs": [
        {
          "output_type": "execute_result",
          "data": {
            "text/plain": [
              "[5,\n",
              " 6,\n",
              " 7,\n",
              " 8,\n",
              " 9,\n",
              " 10,\n",
              " 11,\n",
              " 12,\n",
              " 13,\n",
              " 14,\n",
              " 15,\n",
              " 16,\n",
              " 17,\n",
              " 18,\n",
              " 19,\n",
              " 20,\n",
              " 21,\n",
              " 22,\n",
              " 23,\n",
              " 24,\n",
              " 25,\n",
              " 26,\n",
              " 27,\n",
              " 28,\n",
              " 29,\n",
              " 30,\n",
              " 31,\n",
              " 32,\n",
              " 33,\n",
              " 34,\n",
              " 35,\n",
              " 36,\n",
              " 37,\n",
              " 38,\n",
              " 39,\n",
              " 40,\n",
              " 41,\n",
              " 42,\n",
              " 43,\n",
              " 44,\n",
              " 45,\n",
              " 46,\n",
              " 47,\n",
              " 48,\n",
              " 49,\n",
              " 50,\n",
              " 51,\n",
              " 52,\n",
              " 53,\n",
              " 54,\n",
              " 55,\n",
              " 56,\n",
              " 57,\n",
              " 58,\n",
              " 59,\n",
              " 60,\n",
              " 61,\n",
              " 62,\n",
              " 63,\n",
              " 64,\n",
              " 65,\n",
              " 66,\n",
              " 67,\n",
              " 68,\n",
              " 69,\n",
              " 70,\n",
              " 71,\n",
              " 72,\n",
              " 73,\n",
              " 74,\n",
              " 75,\n",
              " 76,\n",
              " 77,\n",
              " 78,\n",
              " 79,\n",
              " 80,\n",
              " 81,\n",
              " 82,\n",
              " 83,\n",
              " 84,\n",
              " 85,\n",
              " 86,\n",
              " 87,\n",
              " 88,\n",
              " 89,\n",
              " 90,\n",
              " 91,\n",
              " 92,\n",
              " 93,\n",
              " 94,\n",
              " 95,\n",
              " 96,\n",
              " 97,\n",
              " 98,\n",
              " 99]"
            ]
          },
          "metadata": {
            "tags": []
          },
          "execution_count": 8
        }
      ]
    },
    {
      "cell_type": "code",
      "metadata": {
        "id": "MFWOESEf0FI0",
        "colab_type": "code",
        "colab": {
          "base_uri": "https://localhost:8080/",
          "height": 34
        },
        "outputId": "2c47960c-eee9-4f1a-8455-2fad2b138076"
      },
      "source": [
        "list(range(5,100,5))"
      ],
      "execution_count": 9,
      "outputs": [
        {
          "output_type": "execute_result",
          "data": {
            "text/plain": [
              "[5, 10, 15, 20, 25, 30, 35, 40, 45, 50, 55, 60, 65, 70, 75, 80, 85, 90, 95]"
            ]
          },
          "metadata": {
            "tags": []
          },
          "execution_count": 9
        }
      ]
    },
    {
      "cell_type": "code",
      "metadata": {
        "id": "WLqd30VB0FI3",
        "colab_type": "code",
        "colab": {
          "base_uri": "https://localhost:8080/",
          "height": 34
        },
        "outputId": "b515fcb5-288a-4b9d-b138-39176d32278b"
      },
      "source": [
        "list(range(10,0,-1))"
      ],
      "execution_count": 10,
      "outputs": [
        {
          "output_type": "execute_result",
          "data": {
            "text/plain": [
              "[10, 9, 8, 7, 6, 5, 4, 3, 2, 1]"
            ]
          },
          "metadata": {
            "tags": []
          },
          "execution_count": 10
        }
      ]
    },
    {
      "cell_type": "code",
      "metadata": {
        "id": "E3TggyXF0FI5",
        "colab_type": "code",
        "colab": {
          "base_uri": "https://localhost:8080/",
          "height": 34
        },
        "outputId": "a5d6e762-d4cb-45f0-a8ed-a9a40914d8df"
      },
      "source": [
        "list(range(10,-1,-1))"
      ],
      "execution_count": 11,
      "outputs": [
        {
          "output_type": "execute_result",
          "data": {
            "text/plain": [
              "[10, 9, 8, 7, 6, 5, 4, 3, 2, 1, 0]"
            ]
          },
          "metadata": {
            "tags": []
          },
          "execution_count": 11
        }
      ]
    },
    {
      "cell_type": "code",
      "metadata": {
        "id": "IQ9ESOhM0FI7",
        "colab_type": "code",
        "colab": {
          "base_uri": "https://localhost:8080/",
          "height": 34
        },
        "outputId": "1d868eab-4200-4b53-a52a-d288f8c08c9c"
      },
      "source": [
        "type(x)"
      ],
      "execution_count": 12,
      "outputs": [
        {
          "output_type": "execute_result",
          "data": {
            "text/plain": [
              "list"
            ]
          },
          "metadata": {
            "tags": []
          },
          "execution_count": 12
        }
      ]
    },
    {
      "cell_type": "code",
      "metadata": {
        "id": "_xnv7_8l0FI9",
        "colab_type": "code",
        "colab": {
          "base_uri": "https://localhost:8080/",
          "height": 51
        },
        "outputId": "d8c6ba66-2143-4edf-b01d-7b56348ddc66"
      },
      "source": [
        "L = list(range(10,-1,-1))\n",
        "print(L)\n",
        "L[2:8]"
      ],
      "execution_count": 13,
      "outputs": [
        {
          "output_type": "stream",
          "text": [
            "[10, 9, 8, 7, 6, 5, 4, 3, 2, 1, 0]\n"
          ],
          "name": "stdout"
        },
        {
          "output_type": "execute_result",
          "data": {
            "text/plain": [
              "[8, 7, 6, 5, 4, 3]"
            ]
          },
          "metadata": {
            "tags": []
          },
          "execution_count": 13
        }
      ]
    },
    {
      "cell_type": "code",
      "metadata": {
        "id": "KP6zZAmN0FI_",
        "colab_type": "code",
        "colab": {
          "base_uri": "https://localhost:8080/",
          "height": 34
        },
        "outputId": "b6908f0d-20c8-446c-973f-f71091c9f041"
      },
      "source": [
        "L[8:2:-1]"
      ],
      "execution_count": 14,
      "outputs": [
        {
          "output_type": "execute_result",
          "data": {
            "text/plain": [
              "[2, 3, 4, 5, 6, 7]"
            ]
          },
          "metadata": {
            "tags": []
          },
          "execution_count": 14
        }
      ]
    },
    {
      "cell_type": "code",
      "metadata": {
        "id": "GzUibfhN0FJB",
        "colab_type": "code",
        "colab": {
          "base_uri": "https://localhost:8080/",
          "height": 34
        },
        "outputId": "4a179aaf-af27-415c-b593-11e0aecf195d"
      },
      "source": [
        "L"
      ],
      "execution_count": 15,
      "outputs": [
        {
          "output_type": "execute_result",
          "data": {
            "text/plain": [
              "[10, 9, 8, 7, 6, 5, 4, 3, 2, 1, 0]"
            ]
          },
          "metadata": {
            "tags": []
          },
          "execution_count": 15
        }
      ]
    },
    {
      "cell_type": "code",
      "metadata": {
        "id": "cyD5H-Ze0FJD",
        "colab_type": "code",
        "colab": {
          "base_uri": "https://localhost:8080/",
          "height": 34
        },
        "outputId": "e10afd1b-81a9-4ac0-efda-d0ce50c63841"
      },
      "source": [
        "L[::-1]"
      ],
      "execution_count": 16,
      "outputs": [
        {
          "output_type": "execute_result",
          "data": {
            "text/plain": [
              "[0, 1, 2, 3, 4, 5, 6, 7, 8, 9, 10]"
            ]
          },
          "metadata": {
            "tags": []
          },
          "execution_count": 16
        }
      ]
    },
    {
      "cell_type": "markdown",
      "metadata": {
        "id": "Ajg_1H3c0FJF",
        "colab_type": "text"
      },
      "source": [
        "## 2.  Numpy arrays"
      ]
    },
    {
      "cell_type": "code",
      "metadata": {
        "id": "vmOhYEBn0FJG",
        "colab_type": "code",
        "colab": {
          "base_uri": "https://localhost:8080/",
          "height": 0
        },
        "outputId": "ebbb9e0a-2965-421c-a0b4-48dc4b5643d1"
      },
      "source": [
        "import numpy as np\n",
        "a = np.arange(15)\n",
        "print(a)\n",
        "a"
      ],
      "execution_count": 17,
      "outputs": [
        {
          "output_type": "stream",
          "text": [
            "[ 0  1  2  3  4  5  6  7  8  9 10 11 12 13 14]\n"
          ],
          "name": "stdout"
        },
        {
          "output_type": "execute_result",
          "data": {
            "text/plain": [
              "array([ 0,  1,  2,  3,  4,  5,  6,  7,  8,  9, 10, 11, 12, 13, 14])"
            ]
          },
          "metadata": {
            "tags": []
          },
          "execution_count": 17
        }
      ]
    },
    {
      "cell_type": "markdown",
      "metadata": {
        "id": "9Z97-Fo30FJH",
        "colab_type": "text"
      },
      "source": [
        "This is called an **array** and for now you can think of this as sequence with only one type.  You can do various sequence like things, with arrays, such as indexing by number and taking splices."
      ]
    },
    {
      "cell_type": "markdown",
      "metadata": {
        "id": "e3S6U6pR0FJI",
        "colab_type": "text"
      },
      "source": [
        "But we haven't yet seen what arrays really can do.   In addition to these sequence-like arrays there are also **2D arrays**, which are **tables of numbers**.  Here both row and column structure matter."
      ]
    },
    {
      "cell_type": "code",
      "metadata": {
        "id": "IAI6zend0FJI",
        "colab_type": "code",
        "colab": {
          "base_uri": "https://localhost:8080/",
          "height": 0
        },
        "outputId": "66ad2895-cad6-4dc8-a9db-a088ce24a271"
      },
      "source": [
        "LL_list = list(range(15))\n",
        "print(LL_list)\n",
        "LL = np.array([LL_list[0:5],LL_list[5:10],LL_list[10:15]])\n",
        "print(LL)"
      ],
      "execution_count": 18,
      "outputs": [
        {
          "output_type": "stream",
          "text": [
            "[0, 1, 2, 3, 4, 5, 6, 7, 8, 9, 10, 11, 12, 13, 14]\n",
            "[[ 0  1  2  3  4]\n",
            " [ 5  6  7  8  9]\n",
            " [10 11 12 13 14]]\n"
          ],
          "name": "stdout"
        }
      ]
    },
    {
      "cell_type": "code",
      "metadata": {
        "id": "p60PoEWb0FJK",
        "colab_type": "code",
        "colab": {
          "base_uri": "https://localhost:8080/",
          "height": 0
        },
        "outputId": "d891672d-e346-4084-e910-ea95d5205d1d"
      },
      "source": [
        "a[13]"
      ],
      "execution_count": 19,
      "outputs": [
        {
          "output_type": "execute_result",
          "data": {
            "text/plain": [
              "13"
            ]
          },
          "metadata": {
            "tags": []
          },
          "execution_count": 19
        }
      ]
    },
    {
      "cell_type": "code",
      "metadata": {
        "id": "FNURSADa0FJM",
        "colab_type": "code",
        "colab": {
          "base_uri": "https://localhost:8080/",
          "height": 0
        },
        "outputId": "8df98b75-f53d-46a0-a00c-be3f2edd2dd0"
      },
      "source": [
        "LL[2,3]"
      ],
      "execution_count": 20,
      "outputs": [
        {
          "output_type": "execute_result",
          "data": {
            "text/plain": [
              "13"
            ]
          },
          "metadata": {
            "tags": []
          },
          "execution_count": 20
        }
      ]
    },
    {
      "cell_type": "code",
      "metadata": {
        "id": "VReAWBh90FJO",
        "colab_type": "code",
        "colab": {
          "base_uri": "https://localhost:8080/",
          "height": 0
        },
        "outputId": "6232d0e0-5a32-41cc-c0ab-a860198ed6e4"
      },
      "source": [
        "LL[2,:]"
      ],
      "execution_count": 21,
      "outputs": [
        {
          "output_type": "execute_result",
          "data": {
            "text/plain": [
              "array([10, 11, 12, 13, 14])"
            ]
          },
          "metadata": {
            "tags": []
          },
          "execution_count": 21
        }
      ]
    },
    {
      "cell_type": "code",
      "metadata": {
        "id": "qOk7weON0FJR",
        "colab_type": "code",
        "colab": {
          "base_uri": "https://localhost:8080/",
          "height": 0
        },
        "outputId": "125af59d-30e9-476d-cb02-dc06b9da84f7"
      },
      "source": [
        "LL[2,0:2]"
      ],
      "execution_count": 22,
      "outputs": [
        {
          "output_type": "execute_result",
          "data": {
            "text/plain": [
              "array([10, 11])"
            ]
          },
          "metadata": {
            "tags": []
          },
          "execution_count": 22
        }
      ]
    },
    {
      "cell_type": "code",
      "metadata": {
        "id": "PsqgLUR80FJT",
        "colab_type": "code",
        "colab": {
          "base_uri": "https://localhost:8080/",
          "height": 0
        },
        "outputId": "1a4bf15c-a07f-4c73-fb43-dd242cb366f7"
      },
      "source": [
        "print(a)\n",
        "a[2]"
      ],
      "execution_count": 23,
      "outputs": [
        {
          "output_type": "stream",
          "text": [
            "[ 0  1  2  3  4  5  6  7  8  9 10 11 12 13 14]\n"
          ],
          "name": "stdout"
        },
        {
          "output_type": "execute_result",
          "data": {
            "text/plain": [
              "2"
            ]
          },
          "metadata": {
            "tags": []
          },
          "execution_count": 23
        }
      ]
    },
    {
      "cell_type": "markdown",
      "metadata": {
        "id": "Pbw87SCKweYP",
        "colab_type": "text"
      },
      "source": [
        "Here is a simpler way to define LL.  Use `np.arange`, which is like the default Python `arange`, except that it produces an array.  More on `reshape` below."
      ]
    },
    {
      "cell_type": "code",
      "metadata": {
        "id": "4D1BRMxywdAE",
        "colab_type": "code",
        "colab": {
          "base_uri": "https://localhost:8080/",
          "height": 0
        },
        "outputId": "ba354ad5-2bec-43f8-8d46-ac51b57ebf97"
      },
      "source": [
        "LL2 = np.arange(15).reshape((3,5))\n",
        "print(LL2)"
      ],
      "execution_count": 24,
      "outputs": [
        {
          "output_type": "stream",
          "text": [
            "[[ 0  1  2  3  4]\n",
            " [ 5  6  7  8  9]\n",
            " [10 11 12 13 14]]\n"
          ],
          "name": "stdout"
        }
      ]
    },
    {
      "cell_type": "markdown",
      "metadata": {
        "id": "TQqRMeTN0FJV",
        "colab_type": "text"
      },
      "source": [
        "`a_1d` is a 1D array.  `a` is a 2D array, meaning it has rows and columns."
      ]
    },
    {
      "cell_type": "code",
      "metadata": {
        "id": "Gz3DJFHQ0FJW",
        "colab_type": "code",
        "colab": {
          "base_uri": "https://localhost:8080/",
          "height": 0
        },
        "outputId": "b9ae38ba-c38a-492c-8da1-db15dfa8e8ab"
      },
      "source": [
        "a_1d = np.arange(15)\n",
        "print(a_1d)\n",
        "a = a_1d.reshape(3, 5)\n",
        "print(a)\n",
        "b = np.arange(15).reshape(5, 3)\n",
        "a = np.arange(15).reshape(3, 5)\n",
        "print(b)\n",
        "print(b.transpose())"
      ],
      "execution_count": 25,
      "outputs": [
        {
          "output_type": "stream",
          "text": [
            "[ 0  1  2  3  4  5  6  7  8  9 10 11 12 13 14]\n",
            "[[ 0  1  2  3  4]\n",
            " [ 5  6  7  8  9]\n",
            " [10 11 12 13 14]]\n",
            "[[ 0  1  2]\n",
            " [ 3  4  5]\n",
            " [ 6  7  8]\n",
            " [ 9 10 11]\n",
            " [12 13 14]]\n",
            "[[ 0  3  6  9 12]\n",
            " [ 1  4  7 10 13]\n",
            " [ 2  5  8 11 14]]\n"
          ],
          "name": "stdout"
        }
      ]
    },
    {
      "cell_type": "markdown",
      "metadata": {
        "id": "mYf7kyLx0FJX",
        "colab_type": "text"
      },
      "source": [
        "The need for 2D arrays is obvious if you've taken a linear algebra class.  They correspond to the mathematical object called a **matrix**.  One application for matrices is in solving systems of equations, but this really only scratches the surface.  A more fundamental application for a data scientist is they can represent all that is known about a single data set.  Generally each row represents an item (an individual or event in the data), and the entry in each column its value for a particular attribute. For example let's say each room in a hotel has lamps, tables, chairs, and beds, but in varying numbers.  We might represent the inventory of items in 5-room hotel with a 5x4 matrix (5 rows, 4 columns), as follows:\n",
        "\n",
        "```\n",
        "6  3 4 1\n",
        "5  2 3 2\n",
        "8  3 6 2\n",
        "5  1 3 1\n",
        "10 4 7 2\n",
        "```\n",
        "\n",
        "So the first row represents a room with 6 lamps, 3 tables, 4 chairs, and 1 bed.\n",
        "Now if we represent the cost of each item as 1D cost array (or **vector**) to use the mathematical term,\n",
        "\n",
        "```\n",
        "40 175 90 450,\n",
        "```\n",
        "\n",
        "where the costs are ordered in the same way as our columns above: lamps costs, table costs, chair costs, and bed costs.  Then we can compute the per room cost or the first room as follows:"
      ]
    },
    {
      "cell_type": "code",
      "metadata": {
        "id": "EiFrWFVj0FJY",
        "colab_type": "code",
        "colab": {
          "base_uri": "https://localhost:8080/",
          "height": 0
        },
        "outputId": "84236703-69cb-4ade-db9c-023313191727"
      },
      "source": [
        "6*40 + 3*175 + 4*90 + 1*450"
      ],
      "execution_count": 26,
      "outputs": [
        {
          "output_type": "execute_result",
          "data": {
            "text/plain": [
              "1575"
            ]
          },
          "metadata": {
            "tags": []
          },
          "execution_count": 26
        }
      ]
    },
    {
      "cell_type": "markdown",
      "metadata": {
        "id": "QkNlYIpfyWMz",
        "colab_type": "text"
      },
      "source": [
        "Now the computation above, the cost of the items in the first room, can also be done as the \"dot product\" (or \"dot\") of the first row of the room_matrix and the cost vector.  The dot product of two 1D arrays is just the sum of the product of the corresponding terms in the two arrays (they need to be the same length).  That is, \n",
        "\n",
        "```\n",
        "6*40 + 3*175 + 4*90 + 1*450\n",
        "```"
      ]
    },
    {
      "cell_type": "code",
      "metadata": {
        "id": "h5E6II3O0FJa",
        "colab_type": "code",
        "colab": {}
      },
      "source": [
        "room_matrix = \\\n",
        "np.array(\n",
        "[[6,  3, 4, 1],\n",
        "[5,  2, 3, 2],\n",
        "[8,  3, 6, 2],\n",
        "[5,  1, 3, 1],\n",
        "[10, 4, 7, 2]])\n",
        "\n",
        "cost_vector = np.array([40, 175, 90, 450])"
      ],
      "execution_count": 27,
      "outputs": []
    },
    {
      "cell_type": "code",
      "metadata": {
        "id": "hml9s_hZyiO1",
        "colab_type": "code",
        "colab": {
          "base_uri": "https://localhost:8080/",
          "height": 0
        },
        "outputId": "7864581e-452e-417f-e9e2-d253401c2c8c"
      },
      "source": [
        "cost_vector.dot(room_matrix[0,:])"
      ],
      "execution_count": 28,
      "outputs": [
        {
          "output_type": "execute_result",
          "data": {
            "text/plain": [
              "1575"
            ]
          },
          "metadata": {
            "tags": []
          },
          "execution_count": 28
        }
      ]
    },
    {
      "cell_type": "markdown",
      "metadata": {
        "id": "MamBlnqyzzXn",
        "colab_type": "text"
      },
      "source": [
        "If we ask for the dot product of an M x N array A with a 1D N-array B, the result is a 1D array containing the dot product of the M rows of A with B.  Applied to our example, the dot product of the room matrix with the cost vector yields the costs of the 5 rooms."
      ]
    },
    {
      "cell_type": "code",
      "metadata": {
        "id": "tZQkAmUV0FJb",
        "colab_type": "code",
        "colab": {
          "base_uri": "https://localhost:8080/",
          "height": 0
        },
        "outputId": "07419f22-b08f-479c-a611-76fe7eafe2bd"
      },
      "source": [
        "print(room_matrix)\n",
        "print(cost_vector)\n",
        "print(room_matrix.dot(cost_vector))"
      ],
      "execution_count": 29,
      "outputs": [
        {
          "output_type": "stream",
          "text": [
            "[[ 6  3  4  1]\n",
            " [ 5  2  3  2]\n",
            " [ 8  3  6  2]\n",
            " [ 5  1  3  1]\n",
            " [10  4  7  2]]\n",
            "[ 40 175  90 450]\n",
            "[1575 1720 2285 1095 2630]\n"
          ],
          "name": "stdout"
        }
      ]
    },
    {
      "cell_type": "markdown",
      "metadata": {
        "id": "c-tIfmT10FJd",
        "colab_type": "text"
      },
      "source": [
        "The mathematical name for the `dot` method, which computes the per room cost here, is **matrix multiplication**."
      ]
    },
    {
      "cell_type": "markdown",
      "metadata": {
        "id": "dSZHdojw0FJe",
        "colab_type": "text"
      },
      "source": [
        "Arrays have many attributes."
      ]
    },
    {
      "cell_type": "code",
      "metadata": {
        "id": "v1ROk32T0FJe",
        "colab_type": "code",
        "colab": {
          "base_uri": "https://localhost:8080/",
          "height": 0
        },
        "outputId": "cdd5b2ce-dd08-461d-9161-3062bf345851"
      },
      "source": [
        "print(a.shape)\n",
        "print(a.ndim)          # a is a 2D arrayam\n",
        "print(a.dtype.name)    # np.int64 maxint = 2**63 - 1\n",
        "print(a.itemsize)      # Such an int takes up 8 bytes of memory\n",
        "print(a.size)          # Number of elements\n",
        "print(type(a))\n",
        "print(np.ndarray)"
      ],
      "execution_count": 30,
      "outputs": [
        {
          "output_type": "stream",
          "text": [
            "(3, 5)\n",
            "2\n",
            "int64\n",
            "8\n",
            "15\n",
            "<class 'numpy.ndarray'>\n",
            "<class 'numpy.ndarray'>\n"
          ],
          "name": "stdout"
        }
      ]
    },
    {
      "cell_type": "markdown",
      "metadata": {
        "id": "59PkfJyxavBN",
        "colab_type": "text"
      },
      "source": [
        "The python interpreter and the print function will print out arrays differently (Although this is an option any Python type can take, most types look the same whether they're printed by `print` or the interpreter).  Either way, arrays look different from lists."
      ]
    },
    {
      "cell_type": "code",
      "metadata": {
        "id": "ccvE6k4J0FJg",
        "colab_type": "code",
        "colab": {
          "base_uri": "https://localhost:8080/",
          "height": 0
        },
        "outputId": "6d7c0a33-8c27-4bb4-c30a-4cfa85707bc8"
      },
      "source": [
        "b = np.array([6, 7, 8])\n",
        "print(b)\n",
        "print(type(b))\n",
        "b"
      ],
      "execution_count": 31,
      "outputs": [
        {
          "output_type": "stream",
          "text": [
            "[6 7 8]\n",
            "<class 'numpy.ndarray'>\n"
          ],
          "name": "stdout"
        },
        {
          "output_type": "execute_result",
          "data": {
            "text/plain": [
              "array([6, 7, 8])"
            ]
          },
          "metadata": {
            "tags": []
          },
          "execution_count": 31
        }
      ]
    },
    {
      "cell_type": "markdown",
      "metadata": {
        "id": "r2oexBUk0FJi",
        "colab_type": "text"
      },
      "source": [
        "A sequence of sequences can be used to define an array, but since the inner sequences are rows, they must all be the same length."
      ]
    },
    {
      "cell_type": "code",
      "metadata": {
        "id": "C5IaEmjj0FJi",
        "colab_type": "code",
        "colab": {
          "base_uri": "https://localhost:8080/",
          "height": 0
        },
        "outputId": "be7fc499-7389-4a9f-f5da-e5a3d5a79571"
      },
      "source": [
        "b = np.array( [ (1.5,2,3), (4,5,6) ] )\n",
        "b"
      ],
      "execution_count": 32,
      "outputs": [
        {
          "output_type": "execute_result",
          "data": {
            "text/plain": [
              "array([[1.5, 2. , 3. ],\n",
              "       [4. , 5. , 6. ]])"
            ]
          },
          "metadata": {
            "tags": []
          },
          "execution_count": 32
        }
      ]
    },
    {
      "cell_type": "markdown",
      "metadata": {
        "id": "MqcRxVmK0FJk",
        "colab_type": "text"
      },
      "source": [
        "Arrays can also contain complex numbers, but remember it takes two quantities to define a single complex number::"
      ]
    },
    {
      "cell_type": "code",
      "metadata": {
        "id": "sJZO33Y60FJl",
        "colab_type": "code",
        "colab": {
          "base_uri": "https://localhost:8080/",
          "height": 0
        },
        "outputId": "cb4da7ed-db80-4fc1-a4ba-e648f9edaad4"
      },
      "source": [
        "c = np.array( [ [1,2], [3,4] ], dtype=complex )\n",
        "c"
      ],
      "execution_count": 33,
      "outputs": [
        {
          "output_type": "execute_result",
          "data": {
            "text/plain": [
              "array([[1.+0.j, 2.+0.j],\n",
              "       [3.+0.j, 4.+0.j]])"
            ]
          },
          "metadata": {
            "tags": []
          },
          "execution_count": 33
        }
      ]
    },
    {
      "cell_type": "code",
      "metadata": {
        "id": "6C59KnpF1ery",
        "colab_type": "code",
        "colab": {
          "base_uri": "https://localhost:8080/",
          "height": 0
        },
        "outputId": "346fd7c6-acff-45cd-9ee2-658bf4a38172"
      },
      "source": [
        "c = np.array( [ [1+1j,2-3j], [3+5j,4+1j] ], dtype=complex )\n",
        "c"
      ],
      "execution_count": 34,
      "outputs": [
        {
          "output_type": "execute_result",
          "data": {
            "text/plain": [
              "array([[1.+1.j, 2.-3.j],\n",
              "       [3.+5.j, 4.+1.j]])"
            ]
          },
          "metadata": {
            "tags": []
          },
          "execution_count": 34
        }
      ]
    },
    {
      "cell_type": "markdown",
      "metadata": {
        "id": "ny4TBB0l0FJn",
        "colab_type": "text"
      },
      "source": [
        "A very convenient way to fill an array is to start with an array containing all 0's or 1's and then update the contents:"
      ]
    },
    {
      "cell_type": "code",
      "metadata": {
        "scrolled": true,
        "id": "9TVLWvj50FJn",
        "colab_type": "code",
        "colab": {
          "base_uri": "https://localhost:8080/",
          "height": 0
        },
        "outputId": "3c1034aa-e7f8-4e0d-869c-139ef720b77b"
      },
      "source": [
        "X = np.zeros( (3,4) )\n",
        "X"
      ],
      "execution_count": 35,
      "outputs": [
        {
          "output_type": "execute_result",
          "data": {
            "text/plain": [
              "array([[0., 0., 0., 0.],\n",
              "       [0., 0., 0., 0.],\n",
              "       [0., 0., 0., 0.]])"
            ]
          },
          "metadata": {
            "tags": []
          },
          "execution_count": 35
        }
      ]
    },
    {
      "cell_type": "markdown",
      "metadata": {
        "id": "06p6FQ7z3GXT",
        "colab_type": "text"
      },
      "source": [
        "## Reshaping of an array \n",
        "\n",
        "```\n",
        "A.reshape((m,n))\n",
        "```\n",
        "\n",
        "means recasting the data in and `A` into\n",
        "m rows and n columns.,  This means `A` has to have m x n \n",
        "cells.  Reshaping can be done on any array that has the right number\n",
        "of cells.  For example, a 2D 3x4 array can be reshaped into a 6x2\n",
        "array."
      ]
    },
    {
      "cell_type": "code",
      "metadata": {
        "id": "loTxKKQm0FJp",
        "colab_type": "code",
        "colab": {
          "base_uri": "https://localhost:8080/",
          "height": 85
        },
        "outputId": "eed9ebd2-378f-4981-9141-8beffa09a7c7"
      },
      "source": [
        "Y = np.arange(12).reshape((3,4))\n",
        "print(Y)\n",
        "Y[2,3]"
      ],
      "execution_count": 36,
      "outputs": [
        {
          "output_type": "stream",
          "text": [
            "[[ 0  1  2  3]\n",
            " [ 4  5  6  7]\n",
            " [ 8  9 10 11]]\n"
          ],
          "name": "stdout"
        },
        {
          "output_type": "execute_result",
          "data": {
            "text/plain": [
              "11"
            ]
          },
          "metadata": {
            "tags": []
          },
          "execution_count": 36
        }
      ]
    },
    {
      "cell_type": "markdown",
      "metadata": {
        "id": "eZoNIC0t0FJr",
        "colab_type": "text"
      },
      "source": [
        "## Indexing"
      ]
    },
    {
      "cell_type": "markdown",
      "metadata": {
        "id": "KkaJThzr0FJr",
        "colab_type": "text"
      },
      "source": [
        "Indexing works as it does with ordinary Python sequences, except that now there are two dimensions to worry about"
      ]
    },
    {
      "cell_type": "code",
      "metadata": {
        "id": "z8at8ksJ0FJr",
        "colab_type": "code",
        "colab": {
          "base_uri": "https://localhost:8080/",
          "height": 51
        },
        "outputId": "b77b1974-e596-4f9c-f40c-451092128469"
      },
      "source": [
        "L= list(range(12))\n",
        "print(L)\n",
        "L[0:3] = [3,4]\n",
        "print(L)"
      ],
      "execution_count": 37,
      "outputs": [
        {
          "output_type": "stream",
          "text": [
            "[0, 1, 2, 3, 4, 5, 6, 7, 8, 9, 10, 11]\n",
            "[3, 4, 3, 4, 5, 6, 7, 8, 9, 10, 11]\n"
          ],
          "name": "stdout"
        }
      ]
    },
    {
      "cell_type": "code",
      "metadata": {
        "id": "NDN2y36R0FJt",
        "colab_type": "code",
        "colab": {}
      },
      "source": [
        "X = np.zeros((3,4))"
      ],
      "execution_count": 38,
      "outputs": []
    },
    {
      "cell_type": "code",
      "metadata": {
        "id": "pDqCuu4C0FJv",
        "colab_type": "code",
        "colab": {
          "base_uri": "https://localhost:8080/",
          "height": 34
        },
        "outputId": "944f88a6-c6be-4d79-ea0f-22fcc44c56c4"
      },
      "source": [
        "X[0,0]"
      ],
      "execution_count": 39,
      "outputs": [
        {
          "output_type": "execute_result",
          "data": {
            "text/plain": [
              "0.0"
            ]
          },
          "metadata": {
            "tags": []
          },
          "execution_count": 39
        }
      ]
    },
    {
      "cell_type": "code",
      "metadata": {
        "id": "6BXsmLt30FJw",
        "colab_type": "code",
        "colab": {
          "base_uri": "https://localhost:8080/",
          "height": 34
        },
        "outputId": "e724472c-40c6-4ba5-a193-3a5d8fb91991"
      },
      "source": [
        "X[1,2]"
      ],
      "execution_count": 40,
      "outputs": [
        {
          "output_type": "execute_result",
          "data": {
            "text/plain": [
              "0.0"
            ]
          },
          "metadata": {
            "tags": []
          },
          "execution_count": 40
        }
      ]
    },
    {
      "cell_type": "code",
      "metadata": {
        "id": "6_3q5HkC0FJz",
        "colab_type": "code",
        "colab": {
          "base_uri": "https://localhost:8080/",
          "height": 85
        },
        "outputId": "b54323bb-31a0-427e-8e31-8c806b17f072"
      },
      "source": [
        "print(X)\n",
        "X[2,0]"
      ],
      "execution_count": 41,
      "outputs": [
        {
          "output_type": "stream",
          "text": [
            "[[0. 0. 0. 0.]\n",
            " [0. 0. 0. 0.]\n",
            " [0. 0. 0. 0.]]\n"
          ],
          "name": "stdout"
        },
        {
          "output_type": "execute_result",
          "data": {
            "text/plain": [
              "0.0"
            ]
          },
          "metadata": {
            "tags": []
          },
          "execution_count": 41
        }
      ]
    },
    {
      "cell_type": "code",
      "metadata": {
        "id": "0j6AGCsh7aXg",
        "colab_type": "code",
        "colab": {
          "base_uri": "https://localhost:8080/",
          "height": 266
        },
        "outputId": "112c4c72-dd07-4d28-f4e1-dad2e50ecc2e"
      },
      "source": [
        "Y = np.arange(12).reshape((3,4))\n",
        "print(Y)\n",
        "print(Y[2,3])\n",
        "print(Y[3,2])"
      ],
      "execution_count": 54,
      "outputs": [
        {
          "output_type": "stream",
          "text": [
            "[[ 0  1  2  3]\n",
            " [ 4  5  6  7]\n",
            " [ 8  9 10 11]]\n",
            "11\n"
          ],
          "name": "stdout"
        },
        {
          "output_type": "error",
          "ename": "IndexError",
          "evalue": "ignored",
          "traceback": [
            "\u001b[0;31m---------------------------------------------------------------------------\u001b[0m",
            "\u001b[0;31mIndexError\u001b[0m                                Traceback (most recent call last)",
            "\u001b[0;32m<ipython-input-54-2a1b186a32fc>\u001b[0m in \u001b[0;36m<module>\u001b[0;34m()\u001b[0m\n\u001b[1;32m      2\u001b[0m \u001b[0mprint\u001b[0m\u001b[0;34m(\u001b[0m\u001b[0mY\u001b[0m\u001b[0;34m)\u001b[0m\u001b[0;34m\u001b[0m\u001b[0;34m\u001b[0m\u001b[0m\n\u001b[1;32m      3\u001b[0m \u001b[0mprint\u001b[0m\u001b[0;34m(\u001b[0m\u001b[0mY\u001b[0m\u001b[0;34m[\u001b[0m\u001b[0;36m2\u001b[0m\u001b[0;34m,\u001b[0m\u001b[0;36m3\u001b[0m\u001b[0;34m]\u001b[0m\u001b[0;34m)\u001b[0m\u001b[0;34m\u001b[0m\u001b[0;34m\u001b[0m\u001b[0m\n\u001b[0;32m----> 4\u001b[0;31m \u001b[0mprint\u001b[0m\u001b[0;34m(\u001b[0m\u001b[0mY\u001b[0m\u001b[0;34m[\u001b[0m\u001b[0;36m3\u001b[0m\u001b[0;34m,\u001b[0m\u001b[0;36m2\u001b[0m\u001b[0;34m]\u001b[0m\u001b[0;34m)\u001b[0m\u001b[0;34m\u001b[0m\u001b[0;34m\u001b[0m\u001b[0m\n\u001b[0m",
            "\u001b[0;31mIndexError\u001b[0m: index 3 is out of bounds for axis 0 with size 3"
          ]
        }
      ]
    },
    {
      "cell_type": "markdown",
      "metadata": {
        "id": "P13a0sHIpOjF",
        "colab_type": "text"
      },
      "source": [
        "Reshaping an array creates a new array.  The original array can only be indexed according to its original shape:"
      ]
    },
    {
      "cell_type": "code",
      "metadata": {
        "id": "ReNomdHJ79tH",
        "colab_type": "code",
        "colab": {
          "base_uri": "https://localhost:8080/",
          "height": 215
        },
        "outputId": "779e8054-31e2-4e37-8d1b-bfea0d65b22d"
      },
      "source": [
        "Z = Y.reshape((4,3))\n",
        "print(Z[3,2])\n",
        "print(Y[3,2])"
      ],
      "execution_count": 55,
      "outputs": [
        {
          "output_type": "stream",
          "text": [
            "11\n"
          ],
          "name": "stdout"
        },
        {
          "output_type": "error",
          "ename": "IndexError",
          "evalue": "ignored",
          "traceback": [
            "\u001b[0;31m---------------------------------------------------------------------------\u001b[0m",
            "\u001b[0;31mIndexError\u001b[0m                                Traceback (most recent call last)",
            "\u001b[0;32m<ipython-input-55-13b0d8fef924>\u001b[0m in \u001b[0;36m<module>\u001b[0;34m()\u001b[0m\n\u001b[1;32m      1\u001b[0m \u001b[0mZ\u001b[0m \u001b[0;34m=\u001b[0m \u001b[0mY\u001b[0m\u001b[0;34m.\u001b[0m\u001b[0mreshape\u001b[0m\u001b[0;34m(\u001b[0m\u001b[0;34m(\u001b[0m\u001b[0;36m4\u001b[0m\u001b[0;34m,\u001b[0m\u001b[0;36m3\u001b[0m\u001b[0;34m)\u001b[0m\u001b[0;34m)\u001b[0m\u001b[0;34m\u001b[0m\u001b[0;34m\u001b[0m\u001b[0m\n\u001b[1;32m      2\u001b[0m \u001b[0mprint\u001b[0m\u001b[0;34m(\u001b[0m\u001b[0mZ\u001b[0m\u001b[0;34m[\u001b[0m\u001b[0;36m3\u001b[0m\u001b[0;34m,\u001b[0m\u001b[0;36m2\u001b[0m\u001b[0;34m]\u001b[0m\u001b[0;34m)\u001b[0m\u001b[0;34m\u001b[0m\u001b[0;34m\u001b[0m\u001b[0m\n\u001b[0;32m----> 3\u001b[0;31m \u001b[0mprint\u001b[0m\u001b[0;34m(\u001b[0m\u001b[0mY\u001b[0m\u001b[0;34m[\u001b[0m\u001b[0;36m3\u001b[0m\u001b[0;34m,\u001b[0m\u001b[0;36m2\u001b[0m\u001b[0;34m]\u001b[0m\u001b[0;34m)\u001b[0m\u001b[0;34m\u001b[0m\u001b[0;34m\u001b[0m\u001b[0m\n\u001b[0m",
            "\u001b[0;31mIndexError\u001b[0m: index 3 is out of bounds for axis 0 with size 3"
          ]
        }
      ]
    },
    {
      "cell_type": "markdown",
      "metadata": {
        "id": "Vod_Pd4Bpc8_",
        "colab_type": "text"
      },
      "source": [
        "However, the two arrays `Z` and `Y` still share the same **data**.  What that means is that changing one also changes the other:"
      ]
    },
    {
      "cell_type": "code",
      "metadata": {
        "id": "mwHVT2qupcdT",
        "colab_type": "code",
        "colab": {
          "base_uri": "https://localhost:8080/",
          "height": 340
        },
        "outputId": "f181c01c-94bd-4c88-b02c-1454a219012e"
      },
      "source": [
        "print('Y:')\n",
        "print(Y)\n",
        "print('Z:')\n",
        "print(Z)\n",
        "print('    ==>')\n",
        "Y[1,0] = 14\n",
        "print('Y:')\n",
        "print(Y)\n",
        "print('Z:')\n",
        "print(Z)"
      ],
      "execution_count": 56,
      "outputs": [
        {
          "output_type": "stream",
          "text": [
            "Y:\n",
            "[[ 0  1  2  3]\n",
            " [ 4  5  6  7]\n",
            " [ 8  9 10 11]]\n",
            "Z:\n",
            "[[ 0  1  2]\n",
            " [ 3  4  5]\n",
            " [ 6  7  8]\n",
            " [ 9 10 11]]\n",
            "    ==>\n",
            "Y:\n",
            "[[ 0  1  2  3]\n",
            " [14  5  6  7]\n",
            " [ 8  9 10 11]]\n",
            "Z:\n",
            "[[ 0  1  2]\n",
            " [ 3 14  5]\n",
            " [ 6  7  8]\n",
            " [ 9 10 11]]\n"
          ],
          "name": "stdout"
        }
      ]
    },
    {
      "cell_type": "markdown",
      "metadata": {
        "id": "TdJtAmuFEDzE",
        "colab_type": "text"
      },
      "source": [
        "Using `a` and `LL` as defined above:"
      ]
    },
    {
      "cell_type": "code",
      "metadata": {
        "colab_type": "code",
        "id": "NmfrpEljDzzp",
        "colab": {
          "base_uri": "https://localhost:8080/",
          "height": 51
        },
        "outputId": "723fbd5b-c664-40ae-ca2f-fe14d05d6fd3"
      },
      "source": [
        "print(a)\n",
        "a[13]"
      ],
      "execution_count": null,
      "outputs": [
        {
          "output_type": "stream",
          "text": [
            "[ 0  1  2  3  4  5  6  7  8  9 10 11 12 13 14]\n"
          ],
          "name": "stdout"
        },
        {
          "output_type": "execute_result",
          "data": {
            "text/plain": [
              "13"
            ]
          },
          "metadata": {
            "tags": []
          },
          "execution_count": 67
        }
      ]
    },
    {
      "cell_type": "code",
      "metadata": {
        "colab_type": "code",
        "id": "k6i0dFSWDzzt",
        "colab": {
          "base_uri": "https://localhost:8080/",
          "height": 85
        },
        "outputId": "bad9238b-a43c-4b00-adec-2bc1762e6502"
      },
      "source": [
        "print(LL)\n",
        "LL[2,3]"
      ],
      "execution_count": null,
      "outputs": [
        {
          "output_type": "stream",
          "text": [
            "[[ 0  1  2  3  4]\n",
            " [ 5  6  7  8  9]\n",
            " [10 11 12 13 14]]\n"
          ],
          "name": "stdout"
        },
        {
          "output_type": "execute_result",
          "data": {
            "text/plain": [
              "13"
            ]
          },
          "metadata": {
            "tags": []
          },
          "execution_count": 68
        }
      ]
    },
    {
      "cell_type": "markdown",
      "metadata": {
        "id": "XLjaohe1EQ_y",
        "colab_type": "text"
      },
      "source": [
        "An expression that returns the third row of `LL` as a 1D array:"
      ]
    },
    {
      "cell_type": "code",
      "metadata": {
        "colab_type": "code",
        "id": "cH_pxhsNDzzv",
        "colab": {
          "base_uri": "https://localhost:8080/",
          "height": 34
        },
        "outputId": "7b61be50-5257-40b1-813c-c7026b67cee7"
      },
      "source": [
        "LL[2,:]"
      ],
      "execution_count": null,
      "outputs": [
        {
          "output_type": "execute_result",
          "data": {
            "text/plain": [
              "array([10, 11, 12, 13, 14])"
            ]
          },
          "metadata": {
            "tags": []
          },
          "execution_count": 19
        }
      ]
    },
    {
      "cell_type": "markdown",
      "metadata": {
        "id": "bCT0qL-BEdcf",
        "colab_type": "text"
      },
      "source": [
        "An expression that returns a splice (the first two items) of the third row of `LL` as a 1D array:"
      ]
    },
    {
      "cell_type": "code",
      "metadata": {
        "colab_type": "code",
        "id": "ZMl_G2MWDzzz",
        "colab": {
          "base_uri": "https://localhost:8080/",
          "height": 34
        },
        "outputId": "743edb85-81e0-49f6-ba36-c9c0dadd141d"
      },
      "source": [
        "LL[2,0:2]"
      ],
      "execution_count": null,
      "outputs": [
        {
          "output_type": "execute_result",
          "data": {
            "text/plain": [
              "array([10, 11])"
            ]
          },
          "metadata": {
            "tags": []
          },
          "execution_count": 20
        }
      ]
    },
    {
      "cell_type": "markdown",
      "metadata": {
        "id": "HpYvVFaM0FJ1",
        "colab_type": "text"
      },
      "source": [
        "## Assignment\n",
        "\n",
        "Assigment works as it does with Python sequences, except that it now works in two dimensions"
      ]
    },
    {
      "cell_type": "code",
      "metadata": {
        "id": "e_UPJkVt0FJ1",
        "colab_type": "code",
        "colab": {
          "base_uri": "https://localhost:8080/",
          "height": 68
        },
        "outputId": "22715cb3-fd4b-4454-924a-5ad8a160a459"
      },
      "source": [
        "X[1,2] = 3\n",
        "X"
      ],
      "execution_count": null,
      "outputs": [
        {
          "output_type": "execute_result",
          "data": {
            "text/plain": [
              "array([[0., 0., 0., 0.],\n",
              "       [0., 0., 3., 0.],\n",
              "       [0., 0., 0., 0.]])"
            ]
          },
          "metadata": {
            "tags": []
          },
          "execution_count": 45
        }
      ]
    },
    {
      "cell_type": "code",
      "metadata": {
        "id": "LA7xUwux0FJ3",
        "colab_type": "code",
        "colab": {
          "base_uri": "https://localhost:8080/",
          "height": 68
        },
        "outputId": "f69bd531-dd20-4657-fc5d-c2f4dc2f3aa3"
      },
      "source": [
        "X = np.zeros( (3,4), dtype=int )\n",
        "ctr = 0\n",
        "(rows,cols) = X.shape\n",
        "for i in range(rows):\n",
        "    for j in range(cols):\n",
        "        ctr += 1\n",
        "        X[i,j] += ctr*10\n",
        "X"
      ],
      "execution_count": null,
      "outputs": [
        {
          "output_type": "execute_result",
          "data": {
            "text/plain": [
              "array([[ 10,  20,  30,  40],\n",
              "       [ 50,  60,  70,  80],\n",
              "       [ 90, 100, 110, 120]])"
            ]
          },
          "metadata": {
            "tags": []
          },
          "execution_count": 46
        }
      ]
    },
    {
      "cell_type": "code",
      "metadata": {
        "id": "24Ybi0g_0FJ5",
        "colab_type": "code",
        "colab": {
          "base_uri": "https://localhost:8080/",
          "height": 34
        },
        "outputId": "d407c512-aad0-4036-bbb9-b0db90acb5a6"
      },
      "source": [
        "type(X[1,2])"
      ],
      "execution_count": null,
      "outputs": [
        {
          "output_type": "execute_result",
          "data": {
            "text/plain": [
              "numpy.int64"
            ]
          },
          "metadata": {
            "tags": []
          },
          "execution_count": 47
        }
      ]
    },
    {
      "cell_type": "code",
      "metadata": {
        "scrolled": true,
        "id": "jHKtj4iK0FJ7",
        "colab_type": "code",
        "colab": {
          "base_uri": "https://localhost:8080/",
          "height": 68
        },
        "outputId": "fc3dfcd2-c96f-4197-e468-b34f39f0e54b"
      },
      "source": [
        "import numpy as np\n",
        "X = np.arange(10,130,10).reshape((3,4))\n",
        "X"
      ],
      "execution_count": null,
      "outputs": [
        {
          "output_type": "execute_result",
          "data": {
            "text/plain": [
              "array([[ 10,  20,  30,  40],\n",
              "       [ 50,  60,  70,  80],\n",
              "       [ 90, 100, 110, 120]])"
            ]
          },
          "metadata": {
            "tags": []
          },
          "execution_count": 48
        }
      ]
    },
    {
      "cell_type": "code",
      "metadata": {
        "id": "dCCDKJUI0FKA",
        "colab_type": "code",
        "colab": {
          "base_uri": "https://localhost:8080/",
          "height": 153
        },
        "outputId": "27dd4703-7556-4ad7-f375-d2bd4566a181"
      },
      "source": [
        "\n",
        "print(X)\n",
        "print(X[2,3])\n",
        "print(X[2,:])\n",
        "print(X[:,2])\n",
        "print(X[1:3,1:3])"
      ],
      "execution_count": null,
      "outputs": [
        {
          "output_type": "stream",
          "text": [
            "[[ 10  20  30  40  50]\n",
            " [ 60  70  80  90 100]\n",
            " [110 120 130 140 150]]\n",
            "140\n",
            "[110 120 130 140 150]\n",
            "[ 30  80 130]\n",
            "[[ 70  80]\n",
            " [120 130]]\n"
          ],
          "name": "stdout"
        }
      ]
    },
    {
      "cell_type": "code",
      "metadata": {
        "id": "HmbwSZF_0FKB",
        "colab_type": "code",
        "colab": {}
      },
      "source": [
        "Y = np.arange(10,160,10).reshape((3,5))"
      ],
      "execution_count": null,
      "outputs": []
    },
    {
      "cell_type": "markdown",
      "metadata": {
        "id": "fxT4GZeA0FKF",
        "colab_type": "text"
      },
      "source": [
        "The following expression gives the second row of `Y`\n",
        "\n",
        "```\n",
        "Y[1,:]\n",
        "```\n",
        "\n",
        "The following expression gives the 3rd column of `Y`:\n",
        "\n",
        "```\n",
        "Y[:,2]\n",
        "```\n",
        "\n",
        "Note that columns and rows are just 1D arrays; nothing identifies them as row vectors or column vectors.\n",
        "\n",
        "As a convenience, `numpy` lets you skip the `:` when you want a row.  In other words, the next two expressions are synonyms.  Note that you **need** the `:` if you want a column."
      ]
    },
    {
      "cell_type": "code",
      "metadata": {
        "id": "hr78aG2S0FKG",
        "colab_type": "code",
        "colab": {
          "base_uri": "https://localhost:8080/",
          "height": 51
        },
        "outputId": "eaf20dba-3bd2-45a6-cd37-075d19d2cdfa"
      },
      "source": [
        "print(Y[1,:])\n",
        "print(Y[1])"
      ],
      "execution_count": null,
      "outputs": [
        {
          "output_type": "stream",
          "text": [
            "[4 5 6 7]\n",
            "[4 5 6 7]\n"
          ],
          "name": "stdout"
        }
      ]
    },
    {
      "cell_type": "code",
      "metadata": {
        "id": "RGrq_DbY0FKH",
        "colab_type": "code",
        "colab": {
          "base_uri": "https://localhost:8080/",
          "height": 102
        },
        "outputId": "311c0c5c-53eb-48c4-bb64-bb6a30c75e8e"
      },
      "source": [
        "print(X)\n",
        "print(X[1,:], X[1,:].shape)\n",
        "print(X[:,1])"
      ],
      "execution_count": null,
      "outputs": [
        {
          "output_type": "stream",
          "text": [
            "[[ 10  20  30  40  50]\n",
            " [ 60  70  80  90 100]\n",
            " [110 120 130 140 150]]\n",
            "[ 60  70  80  90 100] (5,)\n",
            "[ 20  70 120]\n"
          ],
          "name": "stdout"
        }
      ]
    },
    {
      "cell_type": "markdown",
      "metadata": {
        "id": "IGbBMPTd0FKJ",
        "colab_type": "text"
      },
      "source": [
        "Next let's get part of a column or row.  The first two elements of the second column of `X`, followed by the first two elements of the second row of `X`:"
      ]
    },
    {
      "cell_type": "code",
      "metadata": {
        "id": "DLZ4IrqR0FKJ",
        "colab_type": "code",
        "colab": {
          "base_uri": "https://localhost:8080/",
          "height": 102
        },
        "outputId": "5174b2ab-8ec5-4c4e-e306-4486467c465a"
      },
      "source": [
        "print(X)\n",
        "print(X[1,:2])\n",
        "print(X[:2,1])"
      ],
      "execution_count": null,
      "outputs": [
        {
          "output_type": "stream",
          "text": [
            "[[ 10  20  30  40  50]\n",
            " [ 60  70  80  90 100]\n",
            " [110 120 130 140 150]]\n",
            "[60 70]\n",
            "[20 70]\n"
          ],
          "name": "stdout"
        }
      ]
    },
    {
      "cell_type": "markdown",
      "metadata": {
        "id": "FqFz2Z-r0FKK",
        "colab_type": "text"
      },
      "source": [
        "Now let's get a 2x2 subarray, consisting of the upper left hand corner of `X`, followed by the central part of the last two rows."
      ]
    },
    {
      "cell_type": "code",
      "metadata": {
        "id": "rJtG-WvJ0FKL",
        "colab_type": "code",
        "colab": {
          "base_uri": "https://localhost:8080/",
          "height": 136
        },
        "outputId": "48a7337c-b3de-4040-a1f7-3b6323777fee"
      },
      "source": [
        "print(X)\n",
        "print(X[:2,:2])\n",
        "print(X[1:,1:3])"
      ],
      "execution_count": null,
      "outputs": [
        {
          "output_type": "stream",
          "text": [
            "[[ 10  20  30  40  50]\n",
            " [ 60  70  80  90 100]\n",
            " [110 120 130 140 150]]\n",
            "[[10 20]\n",
            " [60 70]]\n",
            "[[ 70  80]\n",
            " [120 130]]\n"
          ],
          "name": "stdout"
        }
      ]
    },
    {
      "cell_type": "markdown",
      "metadata": {
        "id": "i0m2D2u_0FKN",
        "colab_type": "text"
      },
      "source": [
        "Array transposition is sometimes a nice way to get to the 2D array you eally want.  The transposition of an array `M` is called `M.T`, and the definition is that \n",
        "\n",
        "```\n",
        "M.T[i,j] = M[j,i]\n",
        "```\n",
        "\n",
        "So if `M` is an `m` x `n` array, then `M.T` is an `n` x `m`  array.   Look at `X.T` and verify these definitions.  The `m`th row of `X` becomes the `m`th column of `X.T`. The `n`th column  of `X` becomes the `n`th row of `X.T`."
      ]
    },
    {
      "cell_type": "code",
      "metadata": {
        "id": "4jlVHjXE0FKN",
        "colab_type": "code",
        "colab": {
          "base_uri": "https://localhost:8080/",
          "height": 187
        },
        "outputId": "1c5abb16-c196-48bf-ebe9-17e56937b0be"
      },
      "source": [
        "print(X)\n",
        "print()\n",
        "print(X.T)\n",
        "print(X[1,2], X.T[2,1])"
      ],
      "execution_count": null,
      "outputs": [
        {
          "output_type": "stream",
          "text": [
            "[[ 10  20  30  40  50]\n",
            " [ 60  70  80  90 100]\n",
            " [110 120 130 140 150]]\n",
            "\n",
            "[[ 10  60 110]\n",
            " [ 20  70 120]\n",
            " [ 30  80 130]\n",
            " [ 40  90 140]\n",
            " [ 50 100 150]]\n",
            "80 80\n"
          ],
          "name": "stdout"
        }
      ]
    },
    {
      "cell_type": "markdown",
      "metadata": {
        "id": "rsmIt3Ki0FKP",
        "colab_type": "text"
      },
      "source": [
        "Another set of examples.  The point to observe here is that `a` is a 1-dimensional array, which means that only one index is required, or allowed!"
      ]
    },
    {
      "cell_type": "code",
      "metadata": {
        "id": "DigdbrjB0FKP",
        "colab_type": "code",
        "colab": {
          "base_uri": "https://localhost:8080/",
          "height": 34
        },
        "outputId": "3cec3145-4f8e-49cf-f59d-e5a02a54494d"
      },
      "source": [
        "a = np.arange(10)**3\n",
        "a"
      ],
      "execution_count": null,
      "outputs": [
        {
          "output_type": "execute_result",
          "data": {
            "text/plain": [
              "array([  0,   1,   8,  27,  64, 125, 216, 343, 512, 729])"
            ]
          },
          "metadata": {
            "tags": []
          },
          "execution_count": 61
        }
      ]
    },
    {
      "cell_type": "markdown",
      "metadata": {
        "id": "BzUfFZXq0FKS",
        "colab_type": "text"
      },
      "source": [
        "What to do to see that it's 1-dimensional"
      ]
    },
    {
      "cell_type": "code",
      "metadata": {
        "scrolled": true,
        "id": "j5mejpFx0FKS",
        "colab_type": "code",
        "colab": {
          "base_uri": "https://localhost:8080/",
          "height": 34
        },
        "outputId": "80ec7c15-4030-45e7-e4d9-dd74b1c7769b"
      },
      "source": [
        "a.shape"
      ],
      "execution_count": null,
      "outputs": [
        {
          "output_type": "execute_result",
          "data": {
            "text/plain": [
              "(10,)"
            ]
          },
          "metadata": {
            "tags": []
          },
          "execution_count": 62
        }
      ]
    },
    {
      "cell_type": "code",
      "metadata": {
        "id": "lA6KZXpH0FKU",
        "colab_type": "code",
        "colab": {
          "base_uri": "https://localhost:8080/",
          "height": 34
        },
        "outputId": "a45be43d-f856-4254-d9ec-c8f0b86e44ba"
      },
      "source": [
        "a[2]"
      ],
      "execution_count": null,
      "outputs": [
        {
          "output_type": "execute_result",
          "data": {
            "text/plain": [
              "8"
            ]
          },
          "metadata": {
            "tags": []
          },
          "execution_count": 63
        }
      ]
    },
    {
      "cell_type": "markdown",
      "metadata": {
        "id": "4M2LHpknF5o3",
        "colab_type": "text"
      },
      "source": [
        "Attempting to access a 1D array with two indices is an `IndexError`:"
      ]
    },
    {
      "cell_type": "code",
      "metadata": {
        "id": "5rIY1uoB0FKW",
        "colab_type": "code",
        "colab": {
          "base_uri": "https://localhost:8080/",
          "height": 164
        },
        "outputId": "06c420e7-9de3-4974-9c54-164dd514ee4b"
      },
      "source": [
        "a[2,0]"
      ],
      "execution_count": null,
      "outputs": [
        {
          "output_type": "error",
          "ename": "IndexError",
          "evalue": "ignored",
          "traceback": [
            "\u001b[0;31m---------------------------------------------------------------------------\u001b[0m",
            "\u001b[0;31mIndexError\u001b[0m                                Traceback (most recent call last)",
            "\u001b[0;32m<ipython-input-64-a9001578d0c7>\u001b[0m in \u001b[0;36m<module>\u001b[0;34m()\u001b[0m\n\u001b[0;32m----> 1\u001b[0;31m \u001b[0ma\u001b[0m\u001b[0;34m[\u001b[0m\u001b[0;36m2\u001b[0m\u001b[0;34m,\u001b[0m\u001b[0;36m0\u001b[0m\u001b[0;34m]\u001b[0m\u001b[0;34m\u001b[0m\u001b[0;34m\u001b[0m\u001b[0m\n\u001b[0m",
            "\u001b[0;31mIndexError\u001b[0m: too many indices for array"
          ]
        }
      ]
    },
    {
      "cell_type": "markdown",
      "metadata": {
        "id": "WnJTzRGa0FKX",
        "colab_type": "text"
      },
      "source": [
        "So as a first approximation,indexing arrays works much as indexing lists does.  But there are some important differences.  First arrays can have more than one dimension,. hence more than index.  Second, assignment works a little differently."
      ]
    },
    {
      "cell_type": "code",
      "metadata": {
        "id": "ngngnHZS0FKY",
        "colab_type": "code",
        "colab": {
          "base_uri": "https://localhost:8080/",
          "height": 68
        },
        "outputId": "269cf526-26da-45c0-ad35-813203be426b"
      },
      "source": [
        "print(a)\n",
        "a[2:5]"
      ],
      "execution_count": null,
      "outputs": [
        {
          "output_type": "stream",
          "text": [
            "[-1000     1 -1000     3 -1000     5     6     7     8     9    10    11\n",
            "    12    13    14]\n"
          ],
          "name": "stdout"
        },
        {
          "output_type": "execute_result",
          "data": {
            "text/plain": [
              "array([-1000,     3, -1000])"
            ]
          },
          "metadata": {
            "tags": []
          },
          "execution_count": 72
        }
      ]
    },
    {
      "cell_type": "markdown",
      "metadata": {
        "id": "P7fihyOc0FKa",
        "colab_type": "text"
      },
      "source": [
        "A big difference between an array and a list is that arrays are more flexible about assignments.  The value assigned to a splice can be a scalar, in which case the assignment is \"broadcast\" to each of the cells in the slice (we discuss broadcasting in more detail in another `numpy` notebook)."
      ]
    },
    {
      "cell_type": "markdown",
      "metadata": {
        "id": "q2PCfAwj0FKa",
        "colab_type": "text"
      },
      "source": [
        "In th next cell we demonstrate assignment to a splice.  In normal Python the value that is assigned to a splice has to be a sequence.  But in numpy it is treated as an elementwise operation, so in the next  example, we assign the value -1000 to each of the positions in the splice."
      ]
    },
    {
      "cell_type": "code",
      "metadata": {
        "id": "vs8p6Uuu0FKb",
        "colab_type": "code",
        "colab": {
          "base_uri": "https://localhost:8080/",
          "height": 68
        },
        "outputId": "298d602a-b642-40e6-fa70-398f254f22fe"
      },
      "source": [
        "print(a)\n",
        "a[:6:2] = -1000    # equivalent to a[0:6:2] = -1000; from start to position 6, exclusive, set every 2nd element to -1000\n",
        "print(a)"
      ],
      "execution_count": null,
      "outputs": [
        {
          "output_type": "stream",
          "text": [
            "[ 0  1  2  3  4  5  6  7  8  9 10 11 12 13 14]\n",
            "[-1000     1 -1000     3 -1000     5     6     7     8     9    10    11\n",
            "    12    13    14]\n"
          ],
          "name": "stdout"
        }
      ]
    },
    {
      "cell_type": "markdown",
      "metadata": {
        "id": "PAtRJsKOG5OH",
        "colab_type": "text"
      },
      "source": [
        "## 3 (and more) D arrays"
      ]
    },
    {
      "cell_type": "markdown",
      "metadata": {
        "id": "Pi1IKHP40FKd",
        "colab_type": "text"
      },
      "source": [
        "There are also 3D arrays, which have a third dimension; each position along the third dimension defines a 2D array."
      ]
    },
    {
      "cell_type": "code",
      "metadata": {
        "id": "vA45H3o30FKe",
        "colab_type": "code",
        "colab": {}
      },
      "source": [
        "A =np.arange(24).reshape((2,3,4))\n",
        "A"
      ],
      "execution_count": null,
      "outputs": []
    },
    {
      "cell_type": "markdown",
      "metadata": {
        "id": "LnpVQ8__0FKf",
        "colab_type": "text"
      },
      "source": [
        " In a 2D array, a single index slice is a row or column (a 1D array).  In a 3D array, a single index slice is a 2D array."
      ]
    },
    {
      "cell_type": "code",
      "metadata": {
        "id": "9PEsvhO80FKf",
        "colab_type": "code",
        "colab": {}
      },
      "source": [
        "A[1,:,:]"
      ],
      "execution_count": null,
      "outputs": []
    },
    {
      "cell_type": "code",
      "metadata": {
        "id": "XPD2qQhK0FKh",
        "colab_type": "code",
        "colab": {}
      },
      "source": [
        "A[:,:,3]"
      ],
      "execution_count": null,
      "outputs": []
    },
    {
      "cell_type": "code",
      "metadata": {
        "id": "dDUF1pkR0FKi",
        "colab_type": "code",
        "colab": {}
      },
      "source": [
        "A[:,2,:]"
      ],
      "execution_count": null,
      "outputs": []
    },
    {
      "cell_type": "markdown",
      "metadata": {
        "id": "_5QacYd40FKk",
        "colab_type": "text"
      },
      "source": [
        "We will not be using 3D arrays much, and they will not be featured on quizzes.  But it's nice to know they're out there. \n",
        "\n",
        "An easy example of where you might want a 3D array is a color image. Specifying each pixel position in the image takes two numbers, and in a black and white image we can just have the cell at that position contain a single number representing the grayscale magnitude.  But for a color image we need three numbers, and it is very convenient for many purposes to use a third dimension for those three numbers; for example, using the third dimension for the color, and the first \"layer\" in the 3rd dimension for red, there is an easily retrievable 2D array representing all the \"red\" values for the image `I`:\n",
        "\n",
        "```\n",
        "I[:,:, 0]\n",
        "```\n",
        "\n",
        "In machine learning applications, especially in deep learning applications, 3D arrays and higher are not at all uncommon.  One reason is that it is very convenient (and efficient) to use one dimension for the batch number.  Another is that words in the input are often represented as \"vectors\" (1D arrays of floating point numbers).  Then\n",
        "\n",
        "```\n",
        "D[22, 12,:]\n",
        "```\n",
        "\n",
        "retrieves the word vector for the 13th word in the 23rd batch."
      ]
    },
    {
      "cell_type": "markdown",
      "metadata": {
        "id": "Ew6jQ3qa0FKk",
        "colab_type": "text"
      },
      "source": [
        "## 3.  Elementwise arithmetic operations"
      ]
    },
    {
      "cell_type": "code",
      "metadata": {
        "id": "-_DRebbv0FKk",
        "colab_type": "code",
        "colab": {}
      },
      "source": [
        ""
      ],
      "execution_count": null,
      "outputs": []
    },
    {
      "cell_type": "code",
      "metadata": {
        "id": "vK34WuAU0FKl",
        "colab_type": "code",
        "colab": {
          "base_uri": "https://localhost:8080/",
          "height": 85
        },
        "outputId": "268ebad5-95fd-4cbd-fd54-aba25730a742"
      },
      "source": [
        "import numpy as np\n",
        "a = np.array( [20,30,40,50] ).reshape((2,2))\n",
        "b = np.arange( 4 ).reshape((2,2))\n",
        "print(a)\n",
        "print(b)"
      ],
      "execution_count": null,
      "outputs": [
        {
          "output_type": "stream",
          "text": [
            "[[20 30]\n",
            " [40 50]]\n",
            "[[0 1]\n",
            " [2 3]]\n"
          ],
          "name": "stdout"
        }
      ]
    },
    {
      "cell_type": "code",
      "metadata": {
        "id": "gTWEQ80V0FKm",
        "colab_type": "code",
        "colab": {
          "base_uri": "https://localhost:8080/",
          "height": 51
        },
        "outputId": "7e312496-4638-486a-844c-71afc2882e99"
      },
      "source": [
        "a + b"
      ],
      "execution_count": null,
      "outputs": [
        {
          "output_type": "execute_result",
          "data": {
            "text/plain": [
              "array([[20, 31],\n",
              "       [42, 53]])"
            ]
          },
          "metadata": {
            "tags": []
          },
          "execution_count": 74
        }
      ]
    },
    {
      "cell_type": "code",
      "metadata": {
        "id": "SIxwMWUe0FKn",
        "colab_type": "code",
        "colab": {
          "base_uri": "https://localhost:8080/",
          "height": 51
        },
        "outputId": "a600c116-7e29-44ed-bc03-b0f7ed2cdafd"
      },
      "source": [
        "a * b"
      ],
      "execution_count": null,
      "outputs": [
        {
          "output_type": "execute_result",
          "data": {
            "text/plain": [
              "array([[  0,  30],\n",
              "       [ 80, 150]])"
            ]
          },
          "metadata": {
            "tags": []
          },
          "execution_count": 75
        }
      ]
    },
    {
      "cell_type": "code",
      "metadata": {
        "id": "OUnoMpH50FKp",
        "colab_type": "code",
        "colab": {
          "base_uri": "https://localhost:8080/",
          "height": 51
        },
        "outputId": "21f7a592-1b63-4005-d8e4-90d28cb245e9"
      },
      "source": [
        "a - b"
      ],
      "execution_count": null,
      "outputs": [
        {
          "output_type": "execute_result",
          "data": {
            "text/plain": [
              "array([[20, 29],\n",
              "       [38, 47]])"
            ]
          },
          "metadata": {
            "tags": []
          },
          "execution_count": 76
        }
      ]
    },
    {
      "cell_type": "markdown",
      "metadata": {
        "id": "ZeRZujnW0FKq",
        "colab_type": "text"
      },
      "source": [
        "In the next example we briefly illustrate **broadcasting**.  Elementwise operations are extended to apply between arrays and objects that are not arrays.  So for example, 2 * a (a is the array above) returns an array that contains all the elements of a multiplied by 2"
      ]
    },
    {
      "cell_type": "code",
      "metadata": {
        "scrolled": true,
        "id": "SBA4SztC0FKq",
        "colab_type": "code",
        "colab": {
          "base_uri": "https://localhost:8080/",
          "height": 102
        },
        "outputId": "b62a28dd-e195-433b-9828-72e0262fe13e"
      },
      "source": [
        "print(a)\n",
        "print()\n",
        "print(2 * a)"
      ],
      "execution_count": null,
      "outputs": [
        {
          "output_type": "stream",
          "text": [
            "[[20 30]\n",
            " [40 50]]\n",
            "\n",
            "[[ 40  60]\n",
            " [ 80 100]]\n"
          ],
          "name": "stdout"
        }
      ]
    },
    {
      "cell_type": "markdown",
      "metadata": {
        "id": "2Y7uBAAr0FKr",
        "colab_type": "text"
      },
      "source": [
        "This works by \"broadcasting\" 2 into an array the same size as a and then doing elementwise mutliplication on the two arrays.  We will say more about broadcasting in a subsequent notebook.\n",
        "\n",
        "The next example applies two operations to `a`, first `sin`, then multiplication by 10."
      ]
    },
    {
      "cell_type": "markdown",
      "metadata": {
        "id": "tcoK8vjA0FKt",
        "colab_type": "text"
      },
      "source": [
        "You can multiply two arrays of the same shape together as we did with `a` and `b`\n",
        "above, but you can't rely on broadcasting to figure out what to do with mismatched array sizes. In general, multiplying arrays of different sizes together will fail:"
      ]
    },
    {
      "cell_type": "code",
      "metadata": {
        "id": "fVQLV0vo0FKt",
        "colab_type": "code",
        "colab": {}
      },
      "source": [
        "c = np.array([3,2,1,5,4])\n",
        "print(a)\n",
        "c * a"
      ],
      "execution_count": null,
      "outputs": []
    },
    {
      "cell_type": "markdown",
      "metadata": {
        "id": "rBkWISFk0FKw",
        "colab_type": "text"
      },
      "source": [
        "The next example demonstrates the possibility of applying and broadcasting two operations to `a`, first `sin`, then multiplication by 10."
      ]
    },
    {
      "cell_type": "code",
      "metadata": {
        "id": "MvI7DgIS0FKw",
        "colab_type": "code",
        "colab": {}
      },
      "source": [
        "10*np.sin(a)"
      ],
      "execution_count": null,
      "outputs": []
    },
    {
      "cell_type": "markdown",
      "metadata": {
        "id": "tQ9oyiTS0FKx",
        "colab_type": "text"
      },
      "source": [
        "The same thing works with Boolean tests, a point we will will return to below."
      ]
    },
    {
      "cell_type": "code",
      "metadata": {
        "scrolled": true,
        "id": "vOOOfJM50FKy",
        "colab_type": "code",
        "colab": {
          "base_uri": "https://localhost:8080/",
          "height": 85
        },
        "outputId": "ac6cf9a5-7723-41bc-9cd0-b52872278d72"
      },
      "source": [
        "print(a)\n",
        "Y = a < 35\n",
        "print(Y)"
      ],
      "execution_count": null,
      "outputs": [
        {
          "output_type": "stream",
          "text": [
            "[[20 30]\n",
            " [40 50]]\n",
            "[[ True  True]\n",
            " [False False]]\n"
          ],
          "name": "stdout"
        }
      ]
    },
    {
      "cell_type": "code",
      "metadata": {
        "id": "8upSUR_g0FKz",
        "colab_type": "code",
        "colab": {}
      },
      "source": [
        "a[Y]"
      ],
      "execution_count": null,
      "outputs": []
    },
    {
      "cell_type": "code",
      "metadata": {
        "id": "FoyYZZe_0FK1",
        "colab_type": "code",
        "colab": {}
      },
      "source": [
        "print(a)\n",
        "print(b)\n",
        "a == b"
      ],
      "execution_count": null,
      "outputs": []
    },
    {
      "cell_type": "code",
      "metadata": {
        "id": "RJZi7jCH0FK2",
        "colab_type": "code",
        "colab": {}
      },
      "source": [
        "if a == b:\n",
        "    print(\"Hi!\")"
      ],
      "execution_count": null,
      "outputs": []
    },
    {
      "cell_type": "code",
      "metadata": {
        "id": "Howw7OMb0FK3",
        "colab_type": "code",
        "colab": {}
      },
      "source": [
        "A = np.array( [[1,1],\n",
        "            [0,1]] )\n",
        "B = np.array( [[2,0],\n",
        "            [3,4]] )"
      ],
      "execution_count": null,
      "outputs": []
    },
    {
      "cell_type": "code",
      "metadata": {
        "id": "aapgOy9-0FK4",
        "colab_type": "code",
        "colab": {}
      },
      "source": [
        "A * B  # elementwise product"
      ],
      "execution_count": null,
      "outputs": []
    },
    {
      "cell_type": "markdown",
      "metadata": {
        "id": "tGPIke-W0FK6",
        "colab_type": "text"
      },
      "source": [
        "## Fast and slow array creation"
      ]
    },
    {
      "cell_type": "markdown",
      "metadata": {
        "id": "T0faMUuiPhO-",
        "colab_type": "text"
      },
      "source": [
        "Here are two methods of filling in an array, one with a loop, another with the `numpy` builtin `np.fromfunction`, which needs a two argument function that will return the desired value for cell `[i,j]` in the array whden given the artgument `(i, j)`."
      ]
    },
    {
      "cell_type": "code",
      "metadata": {
        "colab_type": "code",
        "id": "AwDWWIlv0658",
        "colab": {
          "base_uri": "https://localhost:8080/",
          "height": 51
        },
        "outputId": "be7bc5e0-58e1-4063-ff1d-85cc050e8899"
      },
      "source": [
        "import numpy as np\n",
        "import time\n",
        "\n",
        "num_iters = 1000\n",
        "(rows, cols) = (768,1024)\n",
        "\n",
        "# Method A\n",
        "\n",
        "start = time.time()\n",
        "for iter_num in range(num_iters):\n",
        "  X = np.zeros( (rows,cols), dtype=int )\n",
        "  (rows,cols) = X.shape\n",
        "  for i in range(rows):\n",
        "      for j in range(cols):\n",
        "          #X[i,j] = 10 * i + j\n",
        "          X[i,j] = f(i,j)\n",
        "\n",
        "print('A:', get_avg_duration(start, num_iters), 'secs/iter')\n",
        "\n",
        "\n",
        "# Method B\n",
        "\n",
        "# make a rowsxcols array  `b` using the function `f`\n",
        "# where b[i,j] = f(i,j)\n",
        "start = time.time()\n",
        "for iter_num in range(num_iters):\n",
        "    b = np.fromfunction(f,(rows,cols))\n",
        "print('B:', get_avg_duration(start, num_iters), 'secs/iter')"
      ],
      "execution_count": 63,
      "outputs": [
        {
          "output_type": "stream",
          "text": [
            "A: 0.274717577457428 secs/iter\n",
            "B: 0.0034362633228302002 secs/iter\n"
          ],
          "name": "stdout"
        }
      ]
    },
    {
      "cell_type": "markdown",
      "metadata": {
        "id": "h4xipcim2Zlp",
        "colab_type": "text"
      },
      "source": [
        "The result on my machine was that using `np.fromfunction`  is a little under 2 orders of magnitude faster.  Try it on yours.\n",
        "\n",
        "Note a key point here.  The differences between these two ways of array filling are dependent on the sizes of the arrays being filled.  The same code run with small (for example, 4x5) arrays is a virtual tie."
      ]
    },
    {
      "cell_type": "markdown",
      "metadata": {
        "id": "BMeNEOpf0FK7",
        "colab_type": "text"
      },
      "source": [
        "## Elementwise Boolean operations, Masking"
      ]
    },
    {
      "cell_type": "markdown",
      "metadata": {
        "id": "B98kV2Lo0FK8",
        "colab_type": "text"
      },
      "source": [
        "A very important extension of elementwise operations is the extension to Boolean tests.\n",
        "\n",
        "Applying a Boolean test to an array returns an array of truth-values: Just as\n",
        "\n",
        "```\n",
        "3 + X\n",
        "```\n",
        "\n",
        "adds 3 to every element of array `X`, so\n",
        "\n",
        "```\n",
        "X > 2\n",
        "```\n",
        "\n",
        "returns an array of truth-values which tells us which elements of `X` are greater than 2."
      ]
    },
    {
      "cell_type": "code",
      "metadata": {
        "id": "ish4sNQZ0FK8",
        "colab_type": "code",
        "colab": {}
      },
      "source": [
        "import numpy as np\n",
        "X = np.array([1,5,2,7,9,4,3,-6])\n",
        "print(X)\n",
        "print(X >= 3)"
      ],
      "execution_count": null,
      "outputs": []
    },
    {
      "cell_type": "markdown",
      "metadata": {
        "id": "h4gyfdJ80FK9",
        "colab_type": "text"
      },
      "source": [
        "What is the point of having such things around?  \n",
        "\n",
        "Here it is:  Boolean arrays can be used to index other arrays.  They must be the same shape as the array\n",
        "they index.   So in the simplest case:"
      ]
    },
    {
      "cell_type": "code",
      "metadata": {
        "id": "Gz6aG0PN0FK9",
        "colab_type": "code",
        "colab": {}
      },
      "source": [
        "print(X)\n",
        "print(X[np.array([False,  True, False,  True,  True,  True,  True, False])])"
      ],
      "execution_count": null,
      "outputs": []
    },
    {
      "cell_type": "markdown",
      "metadata": {
        "id": "qlHK4zDv0FK_",
        "colab_type": "text"
      },
      "source": [
        "But now I can take advantage of the fact `X>=3` is a Boolean array to "
      ]
    },
    {
      "cell_type": "code",
      "metadata": {
        "id": "yjBtsxX70FLA",
        "colab_type": "code",
        "colab": {}
      },
      "source": [
        "print(X)\n",
        "print(X>=3)\n",
        "print(X[X>=3])"
      ],
      "execution_count": null,
      "outputs": []
    },
    {
      "cell_type": "markdown",
      "metadata": {
        "id": "88ppA0gu0FLB",
        "colab_type": "text"
      },
      "source": [
        "This returns exactly the members of X that are greater than or equal to 3."
      ]
    },
    {
      "cell_type": "markdown",
      "metadata": {
        "id": "BXS2kZy50FLB",
        "colab_type": "text"
      },
      "source": [
        "We could do the same with a list comprehension, but the array computation above is much faster:"
      ]
    },
    {
      "cell_type": "code",
      "metadata": {
        "scrolled": true,
        "id": "EVnI88mV0FLB",
        "colab_type": "code",
        "colab": {}
      },
      "source": [
        "np.array([x for x in X if x >= 3])"
      ],
      "execution_count": null,
      "outputs": []
    },
    {
      "cell_type": "markdown",
      "metadata": {
        "id": "wHrkYX8n0FLC",
        "colab_type": "text"
      },
      "source": [
        "Boolean arrays can also be used to **count** the number of elements in an array that satisfy some constraint. Although `len` works on arrays and could be used, `sum` is faster.  The Boolean `True` is treated as 1 and the Boolean `False` as 0, so summing a Boolean array counts\n",
        "the number of trues.  The following expression correctly counts the number of elements in `X` that are greater than or equal to 3."
      ]
    },
    {
      "cell_type": "code",
      "metadata": {
        "id": "-OtAjfVt0FLD",
        "colab_type": "code",
        "colab": {
          "base_uri": "https://localhost:8080/",
          "height": 34
        },
        "outputId": "e61f08a5-222a-42b2-8c23-60bc29bb0950"
      },
      "source": [
        "sum(X>=3)"
      ],
      "execution_count": null,
      "outputs": [
        {
          "output_type": "execute_result",
          "data": {
            "text/plain": [
              "array([4, 4, 4, 5])"
            ]
          },
          "metadata": {
            "tags": []
          },
          "execution_count": 90
        }
      ]
    },
    {
      "cell_type": "markdown",
      "metadata": {
        "id": "dxWu_DLv0FLE",
        "colab_type": "text"
      },
      "source": [
        "More on array operations and efficiency below.  It's a tricky subject."
      ]
    },
    {
      "cell_type": "markdown",
      "metadata": {
        "id": "ExBeyXRL0FLE",
        "colab_type": "text"
      },
      "source": [
        "The reason that `X[X>=3]` works has to do with a basic fact of array indexing we haven't\n",
        "really made explicit yet.  Any Boolean array Y of the right length can be used to index an array X if X and Y are the same length.  \n",
        "\n",
        "A hokey but essential example.  Suppose we have an array of length 8 and we want to access the first, third, and seventh elements.  We can of course do it with a Boolean array:"
      ]
    },
    {
      "cell_type": "code",
      "metadata": {
        "id": "AwHCvrUO0FLE",
        "colab_type": "code",
        "colab": {}
      },
      "source": [
        "X = np.arange(8) + 1\n",
        "Y = np.array([True,False,True,False,False,False,True,False])\n",
        "print(X)\n",
        "X[Y]"
      ],
      "execution_count": null,
      "outputs": []
    },
    {
      "cell_type": "markdown",
      "metadata": {
        "id": "Bfb_IrKG0FLG",
        "colab_type": "text"
      },
      "source": [
        "But there's a better way!"
      ]
    },
    {
      "cell_type": "markdown",
      "metadata": {
        "id": "0KMc7RvX0FLG",
        "colab_type": "text"
      },
      "source": [
        "Cook up a sequence consisting of the **indices** of the first, third, and seventh elements, namely:\n",
        "\n",
        "```\n",
        "[0,2,6]\n",
        "```\n",
        "\n",
        "Now use that sequence as a **fancy** index on X:"
      ]
    },
    {
      "cell_type": "code",
      "metadata": {
        "id": "XeBZvUpz0FLG",
        "colab_type": "code",
        "colab": {}
      },
      "source": [
        "X[[0,2,6]]"
      ],
      "execution_count": null,
      "outputs": []
    },
    {
      "cell_type": "markdown",
      "metadata": {
        "id": "CQH9gXZs0FLH",
        "colab_type": "text"
      },
      "source": [
        "Note the difference between what we just did and passing three different indices to the 1D array `X`,\n",
        "which is an error."
      ]
    },
    {
      "cell_type": "code",
      "metadata": {
        "id": "xW9RqGHn0FLH",
        "colab_type": "code",
        "colab": {}
      },
      "source": [
        "X[0,2,6]"
      ],
      "execution_count": null,
      "outputs": []
    },
    {
      "cell_type": "markdown",
      "metadata": {
        "id": "nVFKolrL0FLI",
        "colab_type": "text"
      },
      "source": [
        "Fancy indexing also works on 2D arrays."
      ]
    },
    {
      "cell_type": "code",
      "metadata": {
        "id": "LUHYcbnr0FLI",
        "colab_type": "code",
        "colab": {}
      },
      "source": [
        "Y = np.arange(12).reshape((3,4))\n",
        "print(Y)\n",
        "print(Y[[0,2],[1,2]])"
      ],
      "execution_count": null,
      "outputs": []
    },
    {
      "cell_type": "markdown",
      "metadata": {
        "id": "1KY6buR80FLK",
        "colab_type": "text"
      },
      "source": [
        "Back to Boolean operations.  Boolean operations work more or less as expected on 2D arrays:"
      ]
    },
    {
      "cell_type": "code",
      "metadata": {
        "id": "m66hqBE40FLK",
        "colab_type": "code",
        "colab": {}
      },
      "source": [
        "import numpy as np\n",
        "y = np.arange(35).reshape(5,7)\n",
        "y>3"
      ],
      "execution_count": null,
      "outputs": []
    },
    {
      "cell_type": "markdown",
      "metadata": {
        "id": "j5GfC87k0FLL",
        "colab_type": "text"
      },
      "source": [
        "Note that this Boolean array preserves the 5x7 shape of `y`."
      ]
    },
    {
      "cell_type": "code",
      "metadata": {
        "id": "s05eIRJD0FLL",
        "colab_type": "code",
        "colab": {}
      },
      "source": [
        "(y>3).shape"
      ],
      "execution_count": null,
      "outputs": []
    },
    {
      "cell_type": "markdown",
      "metadata": {
        "id": "MU5xvyST0FLM",
        "colab_type": "text"
      },
      "source": [
        "But if we use it to index elements of `y`, the result has to be a 1D array:"
      ]
    },
    {
      "cell_type": "code",
      "metadata": {
        "id": "W3jS4yc30FLM",
        "colab_type": "code",
        "colab": {}
      },
      "source": [
        "y[y>3]"
      ],
      "execution_count": null,
      "outputs": []
    },
    {
      "cell_type": "markdown",
      "metadata": {
        "id": "fVOVKKu00FLN",
        "colab_type": "text"
      },
      "source": [
        "Now suppose we have an array of data that has 4 columns, but we only want to keep the\n",
        "first, second and fourth columns.  Here's a simple way to do that using\n",
        "a Boolean array:"
      ]
    },
    {
      "cell_type": "code",
      "metadata": {
        "id": "D_OpNtkp0FLO",
        "colab_type": "code",
        "colab": {}
      },
      "source": [
        "X = np.arange(8).reshape((2,4)) + 1\n",
        "print(X)\n",
        "print(X[:,np.array([True,True,False,True])])"
      ],
      "execution_count": null,
      "outputs": []
    },
    {
      "cell_type": "markdown",
      "metadata": {
        "id": "N66SVbmK0FLQ",
        "colab_type": "text"
      },
      "source": [
        "Now Boolean arrays and Boolean masking is a great feature but it will occasionally cause you grief if you forget that something is an array and that a Boolean test will often return an array of truth values instead of a truth value.  \n",
        "\n",
        "Python will return an error if you try to use an array where a Boolean value is expected. The most common error of this sort is in an `if`-clause.  "
      ]
    },
    {
      "cell_type": "code",
      "metadata": {
        "id": "aVuGIvFg0FLQ",
        "colab_type": "code",
        "colab": {}
      },
      "source": [
        "y = np.zeros((2,2))\n",
        "# Hoping y is equivalent to False\n",
        "if y:\n",
        "    print('hi')"
      ],
      "execution_count": null,
      "outputs": []
    },
    {
      "cell_type": "markdown",
      "metadata": {
        "id": "Z20hS_jb0FLR",
        "colab_type": "text"
      },
      "source": [
        "And the result of any Boolean test that can be interpreted as an elementwise operation will raise the same error:"
      ]
    },
    {
      "cell_type": "code",
      "metadata": {
        "id": "fDdBPqhT0FLR",
        "colab_type": "code",
        "colab": {}
      },
      "source": [
        "if y == 0:\n",
        "    print('hi')"
      ],
      "execution_count": null,
      "outputs": []
    },
    {
      "cell_type": "code",
      "metadata": {
        "id": "wgt7LwZJ0FLU",
        "colab_type": "code",
        "colab": {}
      },
      "source": [
        "y[0,1] = 2\n",
        "y == 0"
      ],
      "execution_count": null,
      "outputs": []
    },
    {
      "cell_type": "markdown",
      "metadata": {
        "id": "lC577dCK0FLV",
        "colab_type": "text"
      },
      "source": [
        "This is what Python means by saying \"The truth value of an array with more than one element is ambiguous.\"  Generally it's a mixture of Truths and falsities, like real life."
      ]
    },
    {
      "cell_type": "code",
      "metadata": {
        "id": "WQL-cvh60FLV",
        "colab_type": "code",
        "colab": {}
      },
      "source": [
        ""
      ],
      "execution_count": null,
      "outputs": []
    },
    {
      "cell_type": "markdown",
      "metadata": {
        "id": "ZgJr86Hg0FLX",
        "colab_type": "text"
      },
      "source": [
        "## Data in the form of arrays"
      ]
    },
    {
      "cell_type": "markdown",
      "metadata": {
        "id": "UJyuhe0J0FLX",
        "colab_type": "text"
      },
      "source": [
        "Many python modules that provide data do so in array form.  As an example,\n",
        "we load the famous **iris data set** due to Ronald Fisher, familiar to many who've had a statistics class, but also to many who've a computer science or machine learning class in which data analysis plays a role."
      ]
    },
    {
      "cell_type": "code",
      "metadata": {
        "id": "dTP0PiYN0FLX",
        "colab_type": "code",
        "colab": {}
      },
      "source": [
        "from sklearn.datasets import load_iris\n",
        "data = load_iris()\n",
        "features = data['data']\n",
        "target = data['target']"
      ],
      "execution_count": null,
      "outputs": []
    },
    {
      "cell_type": "markdown",
      "metadata": {
        "id": "vU0h1yDg0FLY",
        "colab_type": "text"
      },
      "source": [
        "The name `data` has been set to a dictionary."
      ]
    },
    {
      "cell_type": "code",
      "metadata": {
        "id": "yqdQgVvP0FLY",
        "colab_type": "code",
        "colab": {
          "base_uri": "https://localhost:8080/",
          "height": 34
        },
        "outputId": "b4f92885-b0a2-45b3-926d-23ff0ae317f1"
      },
      "source": [
        "list(data.keys())"
      ],
      "execution_count": null,
      "outputs": [
        {
          "output_type": "execute_result",
          "data": {
            "text/plain": [
              "['data', 'target', 'target_names', 'DESCR', 'feature_names', 'filename']"
            ]
          },
          "metadata": {
            "tags": []
          },
          "execution_count": 92
        }
      ]
    },
    {
      "cell_type": "code",
      "metadata": {
        "id": "Vhz2ChTS0FLZ",
        "colab_type": "code",
        "colab": {
          "base_uri": "https://localhost:8080/",
          "height": 1000
        },
        "outputId": "5c11a9f0-15b4-4aba-98e7-5efecd9eb070"
      },
      "source": [
        "data"
      ],
      "execution_count": null,
      "outputs": [
        {
          "output_type": "execute_result",
          "data": {
            "text/plain": [
              "{'DESCR': '.. _iris_dataset:\\n\\nIris plants dataset\\n--------------------\\n\\n**Data Set Characteristics:**\\n\\n    :Number of Instances: 150 (50 in each of three classes)\\n    :Number of Attributes: 4 numeric, predictive attributes and the class\\n    :Attribute Information:\\n        - sepal length in cm\\n        - sepal width in cm\\n        - petal length in cm\\n        - petal width in cm\\n        - class:\\n                - Iris-Setosa\\n                - Iris-Versicolour\\n                - Iris-Virginica\\n                \\n    :Summary Statistics:\\n\\n    ============== ==== ==== ======= ===== ====================\\n                    Min  Max   Mean    SD   Class Correlation\\n    ============== ==== ==== ======= ===== ====================\\n    sepal length:   4.3  7.9   5.84   0.83    0.7826\\n    sepal width:    2.0  4.4   3.05   0.43   -0.4194\\n    petal length:   1.0  6.9   3.76   1.76    0.9490  (high!)\\n    petal width:    0.1  2.5   1.20   0.76    0.9565  (high!)\\n    ============== ==== ==== ======= ===== ====================\\n\\n    :Missing Attribute Values: None\\n    :Class Distribution: 33.3% for each of 3 classes.\\n    :Creator: R.A. Fisher\\n    :Donor: Michael Marshall (MARSHALL%PLU@io.arc.nasa.gov)\\n    :Date: July, 1988\\n\\nThe famous Iris database, first used by Sir R.A. Fisher. The dataset is taken\\nfrom Fisher\\'s paper. Note that it\\'s the same as in R, but not as in the UCI\\nMachine Learning Repository, which has two wrong data points.\\n\\nThis is perhaps the best known database to be found in the\\npattern recognition literature.  Fisher\\'s paper is a classic in the field and\\nis referenced frequently to this day.  (See Duda & Hart, for example.)  The\\ndata set contains 3 classes of 50 instances each, where each class refers to a\\ntype of iris plant.  One class is linearly separable from the other 2; the\\nlatter are NOT linearly separable from each other.\\n\\n.. topic:: References\\n\\n   - Fisher, R.A. \"The use of multiple measurements in taxonomic problems\"\\n     Annual Eugenics, 7, Part II, 179-188 (1936); also in \"Contributions to\\n     Mathematical Statistics\" (John Wiley, NY, 1950).\\n   - Duda, R.O., & Hart, P.E. (1973) Pattern Classification and Scene Analysis.\\n     (Q327.D83) John Wiley & Sons.  ISBN 0-471-22361-1.  See page 218.\\n   - Dasarathy, B.V. (1980) \"Nosing Around the Neighborhood: A New System\\n     Structure and Classification Rule for Recognition in Partially Exposed\\n     Environments\".  IEEE Transactions on Pattern Analysis and Machine\\n     Intelligence, Vol. PAMI-2, No. 1, 67-71.\\n   - Gates, G.W. (1972) \"The Reduced Nearest Neighbor Rule\".  IEEE Transactions\\n     on Information Theory, May 1972, 431-433.\\n   - See also: 1988 MLC Proceedings, 54-64.  Cheeseman et al\"s AUTOCLASS II\\n     conceptual clustering system finds 3 classes in the data.\\n   - Many, many more ...',\n",
              " 'data': array([[5.1, 3.5, 1.4, 0.2],\n",
              "        [4.9, 3. , 1.4, 0.2],\n",
              "        [4.7, 3.2, 1.3, 0.2],\n",
              "        [4.6, 3.1, 1.5, 0.2],\n",
              "        [5. , 3.6, 1.4, 0.2],\n",
              "        [5.4, 3.9, 1.7, 0.4],\n",
              "        [4.6, 3.4, 1.4, 0.3],\n",
              "        [5. , 3.4, 1.5, 0.2],\n",
              "        [4.4, 2.9, 1.4, 0.2],\n",
              "        [4.9, 3.1, 1.5, 0.1],\n",
              "        [5.4, 3.7, 1.5, 0.2],\n",
              "        [4.8, 3.4, 1.6, 0.2],\n",
              "        [4.8, 3. , 1.4, 0.1],\n",
              "        [4.3, 3. , 1.1, 0.1],\n",
              "        [5.8, 4. , 1.2, 0.2],\n",
              "        [5.7, 4.4, 1.5, 0.4],\n",
              "        [5.4, 3.9, 1.3, 0.4],\n",
              "        [5.1, 3.5, 1.4, 0.3],\n",
              "        [5.7, 3.8, 1.7, 0.3],\n",
              "        [5.1, 3.8, 1.5, 0.3],\n",
              "        [5.4, 3.4, 1.7, 0.2],\n",
              "        [5.1, 3.7, 1.5, 0.4],\n",
              "        [4.6, 3.6, 1. , 0.2],\n",
              "        [5.1, 3.3, 1.7, 0.5],\n",
              "        [4.8, 3.4, 1.9, 0.2],\n",
              "        [5. , 3. , 1.6, 0.2],\n",
              "        [5. , 3.4, 1.6, 0.4],\n",
              "        [5.2, 3.5, 1.5, 0.2],\n",
              "        [5.2, 3.4, 1.4, 0.2],\n",
              "        [4.7, 3.2, 1.6, 0.2],\n",
              "        [4.8, 3.1, 1.6, 0.2],\n",
              "        [5.4, 3.4, 1.5, 0.4],\n",
              "        [5.2, 4.1, 1.5, 0.1],\n",
              "        [5.5, 4.2, 1.4, 0.2],\n",
              "        [4.9, 3.1, 1.5, 0.2],\n",
              "        [5. , 3.2, 1.2, 0.2],\n",
              "        [5.5, 3.5, 1.3, 0.2],\n",
              "        [4.9, 3.6, 1.4, 0.1],\n",
              "        [4.4, 3. , 1.3, 0.2],\n",
              "        [5.1, 3.4, 1.5, 0.2],\n",
              "        [5. , 3.5, 1.3, 0.3],\n",
              "        [4.5, 2.3, 1.3, 0.3],\n",
              "        [4.4, 3.2, 1.3, 0.2],\n",
              "        [5. , 3.5, 1.6, 0.6],\n",
              "        [5.1, 3.8, 1.9, 0.4],\n",
              "        [4.8, 3. , 1.4, 0.3],\n",
              "        [5.1, 3.8, 1.6, 0.2],\n",
              "        [4.6, 3.2, 1.4, 0.2],\n",
              "        [5.3, 3.7, 1.5, 0.2],\n",
              "        [5. , 3.3, 1.4, 0.2],\n",
              "        [7. , 3.2, 4.7, 1.4],\n",
              "        [6.4, 3.2, 4.5, 1.5],\n",
              "        [6.9, 3.1, 4.9, 1.5],\n",
              "        [5.5, 2.3, 4. , 1.3],\n",
              "        [6.5, 2.8, 4.6, 1.5],\n",
              "        [5.7, 2.8, 4.5, 1.3],\n",
              "        [6.3, 3.3, 4.7, 1.6],\n",
              "        [4.9, 2.4, 3.3, 1. ],\n",
              "        [6.6, 2.9, 4.6, 1.3],\n",
              "        [5.2, 2.7, 3.9, 1.4],\n",
              "        [5. , 2. , 3.5, 1. ],\n",
              "        [5.9, 3. , 4.2, 1.5],\n",
              "        [6. , 2.2, 4. , 1. ],\n",
              "        [6.1, 2.9, 4.7, 1.4],\n",
              "        [5.6, 2.9, 3.6, 1.3],\n",
              "        [6.7, 3.1, 4.4, 1.4],\n",
              "        [5.6, 3. , 4.5, 1.5],\n",
              "        [5.8, 2.7, 4.1, 1. ],\n",
              "        [6.2, 2.2, 4.5, 1.5],\n",
              "        [5.6, 2.5, 3.9, 1.1],\n",
              "        [5.9, 3.2, 4.8, 1.8],\n",
              "        [6.1, 2.8, 4. , 1.3],\n",
              "        [6.3, 2.5, 4.9, 1.5],\n",
              "        [6.1, 2.8, 4.7, 1.2],\n",
              "        [6.4, 2.9, 4.3, 1.3],\n",
              "        [6.6, 3. , 4.4, 1.4],\n",
              "        [6.8, 2.8, 4.8, 1.4],\n",
              "        [6.7, 3. , 5. , 1.7],\n",
              "        [6. , 2.9, 4.5, 1.5],\n",
              "        [5.7, 2.6, 3.5, 1. ],\n",
              "        [5.5, 2.4, 3.8, 1.1],\n",
              "        [5.5, 2.4, 3.7, 1. ],\n",
              "        [5.8, 2.7, 3.9, 1.2],\n",
              "        [6. , 2.7, 5.1, 1.6],\n",
              "        [5.4, 3. , 4.5, 1.5],\n",
              "        [6. , 3.4, 4.5, 1.6],\n",
              "        [6.7, 3.1, 4.7, 1.5],\n",
              "        [6.3, 2.3, 4.4, 1.3],\n",
              "        [5.6, 3. , 4.1, 1.3],\n",
              "        [5.5, 2.5, 4. , 1.3],\n",
              "        [5.5, 2.6, 4.4, 1.2],\n",
              "        [6.1, 3. , 4.6, 1.4],\n",
              "        [5.8, 2.6, 4. , 1.2],\n",
              "        [5. , 2.3, 3.3, 1. ],\n",
              "        [5.6, 2.7, 4.2, 1.3],\n",
              "        [5.7, 3. , 4.2, 1.2],\n",
              "        [5.7, 2.9, 4.2, 1.3],\n",
              "        [6.2, 2.9, 4.3, 1.3],\n",
              "        [5.1, 2.5, 3. , 1.1],\n",
              "        [5.7, 2.8, 4.1, 1.3],\n",
              "        [6.3, 3.3, 6. , 2.5],\n",
              "        [5.8, 2.7, 5.1, 1.9],\n",
              "        [7.1, 3. , 5.9, 2.1],\n",
              "        [6.3, 2.9, 5.6, 1.8],\n",
              "        [6.5, 3. , 5.8, 2.2],\n",
              "        [7.6, 3. , 6.6, 2.1],\n",
              "        [4.9, 2.5, 4.5, 1.7],\n",
              "        [7.3, 2.9, 6.3, 1.8],\n",
              "        [6.7, 2.5, 5.8, 1.8],\n",
              "        [7.2, 3.6, 6.1, 2.5],\n",
              "        [6.5, 3.2, 5.1, 2. ],\n",
              "        [6.4, 2.7, 5.3, 1.9],\n",
              "        [6.8, 3. , 5.5, 2.1],\n",
              "        [5.7, 2.5, 5. , 2. ],\n",
              "        [5.8, 2.8, 5.1, 2.4],\n",
              "        [6.4, 3.2, 5.3, 2.3],\n",
              "        [6.5, 3. , 5.5, 1.8],\n",
              "        [7.7, 3.8, 6.7, 2.2],\n",
              "        [7.7, 2.6, 6.9, 2.3],\n",
              "        [6. , 2.2, 5. , 1.5],\n",
              "        [6.9, 3.2, 5.7, 2.3],\n",
              "        [5.6, 2.8, 4.9, 2. ],\n",
              "        [7.7, 2.8, 6.7, 2. ],\n",
              "        [6.3, 2.7, 4.9, 1.8],\n",
              "        [6.7, 3.3, 5.7, 2.1],\n",
              "        [7.2, 3.2, 6. , 1.8],\n",
              "        [6.2, 2.8, 4.8, 1.8],\n",
              "        [6.1, 3. , 4.9, 1.8],\n",
              "        [6.4, 2.8, 5.6, 2.1],\n",
              "        [7.2, 3. , 5.8, 1.6],\n",
              "        [7.4, 2.8, 6.1, 1.9],\n",
              "        [7.9, 3.8, 6.4, 2. ],\n",
              "        [6.4, 2.8, 5.6, 2.2],\n",
              "        [6.3, 2.8, 5.1, 1.5],\n",
              "        [6.1, 2.6, 5.6, 1.4],\n",
              "        [7.7, 3. , 6.1, 2.3],\n",
              "        [6.3, 3.4, 5.6, 2.4],\n",
              "        [6.4, 3.1, 5.5, 1.8],\n",
              "        [6. , 3. , 4.8, 1.8],\n",
              "        [6.9, 3.1, 5.4, 2.1],\n",
              "        [6.7, 3.1, 5.6, 2.4],\n",
              "        [6.9, 3.1, 5.1, 2.3],\n",
              "        [5.8, 2.7, 5.1, 1.9],\n",
              "        [6.8, 3.2, 5.9, 2.3],\n",
              "        [6.7, 3.3, 5.7, 2.5],\n",
              "        [6.7, 3. , 5.2, 2.3],\n",
              "        [6.3, 2.5, 5. , 1.9],\n",
              "        [6.5, 3. , 5.2, 2. ],\n",
              "        [6.2, 3.4, 5.4, 2.3],\n",
              "        [5.9, 3. , 5.1, 1.8]]),\n",
              " 'feature_names': ['sepal length (cm)',\n",
              "  'sepal width (cm)',\n",
              "  'petal length (cm)',\n",
              "  'petal width (cm)'],\n",
              " 'filename': '/usr/local/lib/python3.6/dist-packages/sklearn/datasets/data/iris.csv',\n",
              " 'target': array([0, 0, 0, 0, 0, 0, 0, 0, 0, 0, 0, 0, 0, 0, 0, 0, 0, 0, 0, 0, 0, 0,\n",
              "        0, 0, 0, 0, 0, 0, 0, 0, 0, 0, 0, 0, 0, 0, 0, 0, 0, 0, 0, 0, 0, 0,\n",
              "        0, 0, 0, 0, 0, 0, 1, 1, 1, 1, 1, 1, 1, 1, 1, 1, 1, 1, 1, 1, 1, 1,\n",
              "        1, 1, 1, 1, 1, 1, 1, 1, 1, 1, 1, 1, 1, 1, 1, 1, 1, 1, 1, 1, 1, 1,\n",
              "        1, 1, 1, 1, 1, 1, 1, 1, 1, 1, 1, 1, 2, 2, 2, 2, 2, 2, 2, 2, 2, 2,\n",
              "        2, 2, 2, 2, 2, 2, 2, 2, 2, 2, 2, 2, 2, 2, 2, 2, 2, 2, 2, 2, 2, 2,\n",
              "        2, 2, 2, 2, 2, 2, 2, 2, 2, 2, 2, 2, 2, 2, 2, 2, 2, 2]),\n",
              " 'target_names': array(['setosa', 'versicolor', 'virginica'], dtype='<U10')}"
            ]
          },
          "metadata": {
            "tags": []
          },
          "execution_count": 93
        }
      ]
    },
    {
      "cell_type": "markdown",
      "metadata": {
        "id": "kjyIEOMs0FLa",
        "colab_type": "text"
      },
      "source": [
        "The variable `features` has been set to `data['data']` and that is a `numpy` array:"
      ]
    },
    {
      "cell_type": "code",
      "metadata": {
        "id": "DXvM4ZuD0FLa",
        "colab_type": "code",
        "colab": {
          "base_uri": "https://localhost:8080/",
          "height": 272
        },
        "outputId": "ae0e20e0-1fe7-4fff-b738-588c9083a11c"
      },
      "source": [
        "print(features.shape)\n",
        "print(features.ndim)\n",
        "print(features.dtype.name)\n",
        "print(features.size)\n",
        "print(type(features))\n",
        "print(features[:10])"
      ],
      "execution_count": null,
      "outputs": [
        {
          "output_type": "stream",
          "text": [
            "(150, 4)\n",
            "2\n",
            "float64\n",
            "600\n",
            "<class 'numpy.ndarray'>\n",
            "[[5.1 3.5 1.4 0.2]\n",
            " [4.9 3.  1.4 0.2]\n",
            " [4.7 3.2 1.3 0.2]\n",
            " [4.6 3.1 1.5 0.2]\n",
            " [5.  3.6 1.4 0.2]\n",
            " [5.4 3.9 1.7 0.4]\n",
            " [4.6 3.4 1.4 0.3]\n",
            " [5.  3.4 1.5 0.2]\n",
            " [4.4 2.9 1.4 0.2]\n",
            " [4.9 3.1 1.5 0.1]]\n"
          ],
          "name": "stdout"
        }
      ]
    },
    {
      "cell_type": "markdown",
      "metadata": {
        "id": "9Czezff60FLb",
        "colab_type": "text"
      },
      "source": [
        "The last thing printed is the first 10 rows of `features`.  This array represents data\n",
        "about irises.  Each row represents a different iris and gives 4 measurements for that \n",
        "exemplar.  So there are 150 iris exemplars; with 4 measurements for each, that's 600 items of\n",
        "data in the array (`features.size`).  The data is used for classification studies.\n",
        "\n",
        "Let's apply what we've just learnt to pick a certain subset of the data. \n",
        "The first number\n",
        "in each row represents the **sepal length** of that particular iris exemplar (to be demonstrated below)."
      ]
    },
    {
      "cell_type": "markdown",
      "metadata": {
        "id": "L67OhNuL0FLb",
        "colab_type": "text"
      },
      "source": [
        "Find the flowers whose sepal length is exactly 5."
      ]
    },
    {
      "cell_type": "code",
      "metadata": {
        "scrolled": true,
        "id": "_8czCtB00FLb",
        "colab_type": "code",
        "colab": {
          "base_uri": "https://localhost:8080/",
          "height": 238
        },
        "outputId": "9f80893c-17ae-4fd3-fb58-d7b8712c025f"
      },
      "source": [
        "# 1D array: first column\n",
        "first_col = features[:,0]\n",
        "print(first_col == 5.0)"
      ],
      "execution_count": null,
      "outputs": [
        {
          "output_type": "stream",
          "text": [
            "[False False False False  True False False  True False False False False\n",
            " False False False False False False False False False False False False\n",
            " False  True  True False False False False False False False False  True\n",
            " False False False False  True False False  True False False False False\n",
            " False  True False False False False False False False False False False\n",
            "  True False False False False False False False False False False False\n",
            " False False False False False False False False False False False False\n",
            " False False False False False False False False False  True False False\n",
            " False False False False False False False False False False False False\n",
            " False False False False False False False False False False False False\n",
            " False False False False False False False False False False False False\n",
            " False False False False False False False False False False False False\n",
            " False False False False False False]\n"
          ],
          "name": "stdout"
        }
      ]
    },
    {
      "cell_type": "markdown",
      "metadata": {
        "id": "_TQUFKTv0FLc",
        "colab_type": "text"
      },
      "source": [
        "Then we use the Boolean array just constructed to index the rows, combined with a `:` to indicate we want all columns."
      ]
    },
    {
      "cell_type": "code",
      "metadata": {
        "scrolled": false,
        "id": "GnKHebDj0FLc",
        "colab_type": "code",
        "colab": {
          "base_uri": "https://localhost:8080/",
          "height": 187
        },
        "outputId": "05395b95-7038-42bf-f65a-ff8bf48b55d9"
      },
      "source": [
        "features[first_col == 5.0,:]"
      ],
      "execution_count": null,
      "outputs": [
        {
          "output_type": "execute_result",
          "data": {
            "text/plain": [
              "array([[5. , 3.6, 1.4, 0.2],\n",
              "       [5. , 3.4, 1.5, 0.2],\n",
              "       [5. , 3. , 1.6, 0.2],\n",
              "       [5. , 3.4, 1.6, 0.4],\n",
              "       [5. , 3.2, 1.2, 0.2],\n",
              "       [5. , 3.5, 1.3, 0.3],\n",
              "       [5. , 3.5, 1.6, 0.6],\n",
              "       [5. , 3.3, 1.4, 0.2],\n",
              "       [5. , 2. , 3.5, 1. ],\n",
              "       [5. , 2.3, 3.3, 1. ]])"
            ]
          },
          "metadata": {
            "tags": []
          },
          "execution_count": 96
        }
      ]
    },
    {
      "cell_type": "markdown",
      "metadata": {
        "id": "BEfS87Pw0FLd",
        "colab_type": "text"
      },
      "source": [
        "So there are only 10 plants out of 150 that have sepal lengths of exactly 5.\n",
        "\n",
        "Of course we can do this all in one step, with the same result:"
      ]
    },
    {
      "cell_type": "code",
      "metadata": {
        "id": "J1xpG91g0FLe",
        "colab_type": "code",
        "colab": {
          "base_uri": "https://localhost:8080/",
          "height": 187
        },
        "outputId": "baa1a2e3-39ff-4684-ebea-30b04d846ab8"
      },
      "source": [
        "features[features[:,0] == 5.0,:]"
      ],
      "execution_count": null,
      "outputs": [
        {
          "output_type": "execute_result",
          "data": {
            "text/plain": [
              "array([[5. , 3.6, 1.4, 0.2],\n",
              "       [5. , 3.4, 1.5, 0.2],\n",
              "       [5. , 3. , 1.6, 0.2],\n",
              "       [5. , 3.4, 1.6, 0.4],\n",
              "       [5. , 3.2, 1.2, 0.2],\n",
              "       [5. , 3.5, 1.3, 0.3],\n",
              "       [5. , 3.5, 1.6, 0.6],\n",
              "       [5. , 3.3, 1.4, 0.2],\n",
              "       [5. , 2. , 3.5, 1. ],\n",
              "       [5. , 2.3, 3.3, 1. ]])"
            ]
          },
          "metadata": {
            "tags": []
          },
          "execution_count": 97
        }
      ]
    },
    {
      "cell_type": "markdown",
      "metadata": {
        "id": "qi7Ox5hR0FLf",
        "colab_type": "text"
      },
      "source": [
        "Since we're indexing rows here, the `:` can also be left out:"
      ]
    },
    {
      "cell_type": "code",
      "metadata": {
        "scrolled": true,
        "id": "KyGOFSk70FLf",
        "colab_type": "code",
        "colab": {
          "base_uri": "https://localhost:8080/",
          "height": 187
        },
        "outputId": "9488af0f-4625-46d6-9668-75b5c0b229d0"
      },
      "source": [
        "features[features[:,0] == 5.0]"
      ],
      "execution_count": null,
      "outputs": [
        {
          "output_type": "execute_result",
          "data": {
            "text/plain": [
              "array([[5. , 3.6, 1.4, 0.2],\n",
              "       [5. , 3.4, 1.5, 0.2],\n",
              "       [5. , 3. , 1.6, 0.2],\n",
              "       [5. , 3.4, 1.6, 0.4],\n",
              "       [5. , 3.2, 1.2, 0.2],\n",
              "       [5. , 3.5, 1.3, 0.3],\n",
              "       [5. , 3.5, 1.6, 0.6],\n",
              "       [5. , 3.3, 1.4, 0.2],\n",
              "       [5. , 2. , 3.5, 1. ],\n",
              "       [5. , 2.3, 3.3, 1. ]])"
            ]
          },
          "metadata": {
            "tags": []
          },
          "execution_count": 98
        }
      ]
    },
    {
      "cell_type": "markdown",
      "metadata": {
        "id": "6GSV5QGO0FLh",
        "colab_type": "text"
      },
      "source": [
        "A more interesting use of Boolean array indexing is to find all the irises of a particular class, using the variable `target` defined when we loaded the data; `target` is an array containing the class of each iris in the data set:"
      ]
    },
    {
      "cell_type": "code",
      "metadata": {
        "id": "Fy0XA1zL0FLi",
        "colab_type": "code",
        "colab": {}
      },
      "source": [
        "print(type(target))\n",
        "print(target.shape)\n",
        "print(set(target))\n",
        "# Grab the first rows of both arrays\n",
        "print(features[0], target[0])\n",
        "# Grab row indexed 90 from both arrays\n",
        "print(features[90], target[90])"
      ],
      "execution_count": null,
      "outputs": []
    },
    {
      "cell_type": "markdown",
      "metadata": {
        "id": "OYSHMrKJ0FLk",
        "colab_type": "text"
      },
      "source": [
        "As the printouts indicate , `target` is a 1D array (a **vector**) of length 150, containing only the values 0,1, and 2.  These are the three classes to which an iris can belong.  There are exactly as many entries in the `target` array as there are rows in the `features` array. For any iris, its row-index in the `features` array is the index of its class in the `target`.  Above we printed the features and target class for irises 0 and 90.\n",
        "\n",
        "We can take advantage of this structure to find all the irises of class 1 very efficiently.\n",
        "Note that `target == 1` is a Boolean array of length 150."
      ]
    },
    {
      "cell_type": "code",
      "metadata": {
        "scrolled": true,
        "id": "9VQ7azPB0FLk",
        "colab_type": "code",
        "colab": {}
      },
      "source": [
        "target==1"
      ],
      "execution_count": null,
      "outputs": []
    },
    {
      "cell_type": "markdown",
      "metadata": {
        "id": "PYdsXCbi0FLl",
        "colab_type": "text"
      },
      "source": [
        "To find the irises of class 1, we simply use that Boolean array to specify the rows\n",
        "we want in the `features` array:"
      ]
    },
    {
      "cell_type": "code",
      "metadata": {
        "scrolled": false,
        "id": "PhUJ1AhI0FLl",
        "colab_type": "code",
        "colab": {}
      },
      "source": [
        "features[target==1,:].shape"
      ],
      "execution_count": null,
      "outputs": []
    },
    {
      "cell_type": "markdown",
      "metadata": {
        "id": "mX6RWyNs0FLm",
        "colab_type": "text"
      },
      "source": [
        "There are 50 rows whose class is `1`; you can verify for yourselves that are also 50 rows for classes 2 and 3.  This is a balanced data set."
      ]
    },
    {
      "cell_type": "markdown",
      "metadata": {
        "id": "_XWMGkbV0FLm",
        "colab_type": "text"
      },
      "source": [
        "Going back to the dictionary we loaded when we loaded the datset, we can\n",
        "find the meanings of our 4 columns:"
      ]
    },
    {
      "cell_type": "code",
      "metadata": {
        "scrolled": true,
        "id": "FZ4LrV7P0FLm",
        "colab_type": "code",
        "colab": {}
      },
      "source": [
        "data['feature_names']"
      ],
      "execution_count": null,
      "outputs": []
    },
    {
      "cell_type": "markdown",
      "metadata": {
        "id": "1NJfxL900FLn",
        "colab_type": "text"
      },
      "source": [
        "So our 4 columns have numerical data on these attributes. The column indexed 0 contains the sepal length measurement for 1 flower in our sample.  The column indexed 1 contains sepal width measurements. And so on."
      ]
    },
    {
      "cell_type": "markdown",
      "metadata": {
        "id": "iOSilYRT0FLo",
        "colab_type": "text"
      },
      "source": [
        "We know there are three classes (0, 1, and 2). We can look up their names under the `'target_names'` key of the dictionary we got when we loaded the data.  "
      ]
    },
    {
      "cell_type": "code",
      "metadata": {
        "scrolled": true,
        "id": "saJgds_C0FLo",
        "colab_type": "code",
        "colab": {}
      },
      "source": [
        "data['target_names']"
      ],
      "execution_count": null,
      "outputs": []
    },
    {
      "cell_type": "markdown",
      "metadata": {
        "id": "uXrmUBu20FLp",
        "colab_type": "text"
      },
      "source": [
        "So class 0 represent the iris species `setosa`, and so on."
      ]
    },
    {
      "cell_type": "markdown",
      "metadata": {
        "id": "z5qArrQX0FLp",
        "colab_type": "text"
      },
      "source": [
        "Here's what the entire target array looks like:"
      ]
    },
    {
      "cell_type": "code",
      "metadata": {
        "id": "FUtDfSVZ0FLp",
        "colab_type": "code",
        "colab": {}
      },
      "source": [
        "data['target']"
      ],
      "execution_count": null,
      "outputs": []
    },
    {
      "cell_type": "markdown",
      "metadata": {
        "id": "EQquVFNz0FLq",
        "colab_type": "text"
      },
      "source": [
        "Find the irises whose species is 1, and whose sepal length is greater than 5."
      ]
    },
    {
      "cell_type": "code",
      "metadata": {
        "id": "3Ec18MGZ0FLq",
        "colab_type": "code",
        "colab": {}
      },
      "source": [
        "# New smaller data table consisting of those flowers of species 1.\n",
        "species1 = features[target == 1,:]\n",
        "print(len(species1))\n",
        "species1[species1[:,0]>=5.0,:]\n",
        "print(len(species1[species1[:,0]>=5.0,:]))"
      ],
      "execution_count": null,
      "outputs": []
    },
    {
      "cell_type": "code",
      "metadata": {
        "id": "L086oO2z0FLr",
        "colab_type": "code",
        "colab": {}
      },
      "source": [
        "print(species1[:,0]>=5.0)\n",
        "sum(species1[:,0]>=5.0)"
      ],
      "execution_count": null,
      "outputs": []
    },
    {
      "cell_type": "markdown",
      "metadata": {
        "id": "4X9-uKon0FLs",
        "colab_type": "text"
      },
      "source": [
        "Now suppose we wanted to just see the **sepal lengths** (column 0) of the target class 1 irises, and compare them to the sepal lengths of the target class 0 irises, to see if sepal lengths provided a good way of telling the two classes apart.  We could do:"
      ]
    },
    {
      "cell_type": "code",
      "metadata": {
        "id": "pccqkfso0FLt",
        "colab_type": "code",
        "colab": {}
      },
      "source": [
        "print(features[target==1,0])\n",
        "print(features[target==0,0])"
      ],
      "execution_count": null,
      "outputs": []
    },
    {
      "cell_type": "markdown",
      "metadata": {
        "id": "ZvKesmeB0FLu",
        "colab_type": "text"
      },
      "source": [
        "And though there is some overlap, we see that there is a tendency for the column-0\n",
        "value be higher in target 1 than it is target class 0."
      ]
    },
    {
      "cell_type": "markdown",
      "metadata": {
        "id": "1tnGkWZa0FLu",
        "colab_type": "text"
      },
      "source": [
        "## Cosine"
      ]
    },
    {
      "cell_type": "markdown",
      "metadata": {
        "id": "uhVVoseE0FLu",
        "colab_type": "text"
      },
      "source": [
        "One way of measuring the similarity between two arrays `x` and `y`. is to take their cosine.  The name for this similarity measure is quite appropriate.  The cosine of `x` and `y` is a measure of the geometric cosine of the angle between them.  It is 1 when that angle is 0 (i.e., `x` and `y` are identical in direction), and -1 when the vectors point in opposite directions, and 0 when the vectors are orthogonal (the do not share a component in any direction).  It is computed by taking the dot product of the unit vectors pointing in the same direction as `x` and `y`.  To do this we divide `x` and `y` by their Euclidean length (`LA.norm` in the code below) and take the dot product of the results."
      ]
    },
    {
      "cell_type": "code",
      "metadata": {
        "id": "ReckNwYL0FLu",
        "colab_type": "code",
        "colab": {}
      },
      "source": [
        "import numpy as np\n",
        "import numpy.linalg as LA\n",
        "x = np.array([3,4])\n",
        "y = np.array([4,3])\n",
        "\n",
        "def find_unit_vector(x):\n",
        "    return x/LA.norm(x,ord=2)\n",
        "\n",
        "def cosine (x,y):\n",
        "    return (find_unit_vector(x)).dot(find_unit_vector(y))"
      ],
      "execution_count": null,
      "outputs": []
    },
    {
      "cell_type": "markdown",
      "metadata": {
        "id": "fhf9F9W90FLv",
        "colab_type": "text"
      },
      "source": [
        "The maximum possible value cosine can have for two vectors is `1.0`.  The maximum possible value is achieved when you compare a vector `x` with itself `x`.  So nothing can be more similar to `x` than `x` is to itself.  Whew.  That's reassuring."
      ]
    },
    {
      "cell_type": "markdown",
      "metadata": {
        "id": "g6ra8PinSlDR",
        "colab_type": "text"
      },
      "source": [
        "Check my claim about how similar things are top themselves."
      ]
    },
    {
      "cell_type": "code",
      "metadata": {
        "id": "YsUPcm3H0FLw",
        "colab_type": "code",
        "colab": {
          "base_uri": "https://localhost:8080/",
          "height": 34
        },
        "outputId": "87b8fcc1-43aa-4f90-8f91-093c4334db34"
      },
      "source": [
        "cosine(x,x)"
      ],
      "execution_count": null,
      "outputs": [
        {
          "output_type": "execute_result",
          "data": {
            "text/plain": [
              "1.0"
            ]
          },
          "metadata": {
            "tags": []
          },
          "execution_count": 101
        }
      ]
    },
    {
      "cell_type": "markdown",
      "metadata": {
        "id": "I0QocoE5SptX",
        "colab_type": "text"
      },
      "source": [
        "Let's mutliply x by -1 to get a vector pointing in exactly the opposite direction from `x`, and take the cosine of the two vectors."
      ]
    },
    {
      "cell_type": "code",
      "metadata": {
        "id": "iMH7s_X00FLx",
        "colab_type": "code",
        "colab": {
          "base_uri": "https://localhost:8080/",
          "height": 34
        },
        "outputId": "06625594-e0f0-48d2-e2df-2fbe1dbba522"
      },
      "source": [
        "cosine(x,-x)"
      ],
      "execution_count": null,
      "outputs": [
        {
          "output_type": "execute_result",
          "data": {
            "text/plain": [
              "-1.0"
            ]
          },
          "metadata": {
            "tags": []
          },
          "execution_count": 102
        }
      ]
    },
    {
      "cell_type": "markdown",
      "metadata": {
        "id": "mW-Hzf00S1Nm",
        "colab_type": "text"
      },
      "source": [
        "`x` and `y` are different but not **that** different. What value does `cos` assign to their similarity?"
      ]
    },
    {
      "cell_type": "code",
      "metadata": {
        "id": "rHiJjTmX0FLy",
        "colab_type": "code",
        "colab": {
          "base_uri": "https://localhost:8080/",
          "height": 34
        },
        "outputId": "ca9541a3-f81e-408e-9d83-aab1d85f4f0a"
      },
      "source": [
        "cosine(x,y)"
      ],
      "execution_count": null,
      "outputs": [
        {
          "output_type": "execute_result",
          "data": {
            "text/plain": [
              "0.96"
            ]
          },
          "metadata": {
            "tags": []
          },
          "execution_count": 103
        }
      ]
    },
    {
      "cell_type": "markdown",
      "metadata": {
        "id": "e4aoDyyYTOxl",
        "colab_type": "text"
      },
      "source": [
        "What does `find_unit_vector` really do?  It finds a vector pointing in exactly the same direction as `x` but having length 1.  How similar will `x` be to its unit vector?  To find that out for yourself, create a Code cell and execute:\n",
        "\n",
        "```\n",
        "cosine(x, find_unit_vector(x))\n",
        "```\n",
        "\n",
        "Before doing that, look at the definition of cosine again and\n",
        "try to predict what the value will be."
      ]
    },
    {
      "cell_type": "markdown",
      "metadata": {
        "id": "8uJxhtxmTDQU",
        "colab_type": "text"
      },
      "source": [
        "Does a unit vector really have have length 1?"
      ]
    },
    {
      "cell_type": "code",
      "metadata": {
        "id": "w53n-oB00FL0",
        "colab_type": "code",
        "colab": {
          "base_uri": "https://localhost:8080/",
          "height": 34
        },
        "outputId": "56dd1715-8588-491a-c241-291030d2f61f"
      },
      "source": [
        "LA.norm(find_unit_vector(x))"
      ],
      "execution_count": null,
      "outputs": [
        {
          "output_type": "execute_result",
          "data": {
            "text/plain": [
              "1.0"
            ]
          },
          "metadata": {
            "tags": []
          },
          "execution_count": 104
        }
      ]
    },
    {
      "cell_type": "code",
      "metadata": {
        "id": "iYLvBPTWUSO5",
        "colab_type": "code",
        "colab": {
          "base_uri": "https://localhost:8080/",
          "height": 34
        },
        "outputId": "9cce9387-bdf7-4012-a5c2-8de772c3a652"
      },
      "source": [
        "((135 * 6) + 120 + 40)* 1.11"
      ],
      "execution_count": null,
      "outputs": [
        {
          "output_type": "execute_result",
          "data": {
            "text/plain": [
              "1076.7"
            ]
          },
          "metadata": {
            "tags": []
          },
          "execution_count": 112
        }
      ]
    },
    {
      "cell_type": "markdown",
      "metadata": {
        "id": "YkCkGOGQ0FL0",
        "colab_type": "text"
      },
      "source": [
        "## Why use arrays?"
      ]
    },
    {
      "cell_type": "markdown",
      "metadata": {
        "id": "UO3QRVVT0FL1",
        "colab_type": "text"
      },
      "source": [
        "Arrays provide all kinds of indexing convenience for accessing data that\n",
        "is genuinely **tabular**.  Tabular data is data that has good reason for being represented in\n",
        "a table;  that is, there is good reason to think of the rows as a unit, and good reason\n",
        "to think of the columns as units.  And therefore, there is good reason to think we might want\n",
        "to apply some computational operations to columns and rows.  We'll explore those ideas a bit more\n",
        "in a future assignment.  \n",
        "\n",
        "All kinds of data is fundamentally tabular, as we'll see.  But although that's very important,\n",
        "it's probably not the main reason why so many scientists, engineers, and data analysts use `numpy`\n",
        "and other programming tools like `matlab` and `R` that provide tables, or **matrices** (the mathematical\n",
        "name for a similar concept), as a fundamental data structure.  The main reason is computational efficiency.\n",
        "\n",
        "Having a single data structure with predictable types and elementwise basic arithmetic operations makes\n",
        "it possible to write very efficient ways of performing more complex operations.  The code snippet. below\n",
        "demonstrates this by providing a timing comparison between two ways of computing the sum of the\n",
        "squares between 0 and 999 inclusive; the first is used in computing the variable `normal_py_sec`, is the ordinary Python way of computing such a sum:  Cook up a container of theose integers, square each of them and sum the result.\n",
        "The second, stored in the varibale `np_sec`, uses numpy arrays.  There is actually a very important\n",
        "mathematical operation **dot product** that multiplies all the corresponding elements of two vectors (elemntwise) and\n",
        "sums the result.  Using this `precompiled` fast math operation we speed the code up by a factor of about\n",
        " 80 on my machine, and your results, on your various home machines will be different, but in the same ballpark.\n",
        " "
      ]
    },
    {
      "cell_type": "code",
      "metadata": {
        "id": "kAcvxRmJ0FL1",
        "colab_type": "code",
        "colab": {
          "base_uri": "https://localhost:8080/",
          "height": 51
        },
        "outputId": "3737b0b4-1d23-4883-9847-7010ebbf72ff"
      },
      "source": [
        "import timeit\n",
        "import numpy as np\n",
        "\n",
        "py_sec = timeit.timeit('sum(x*x for x in range(1000))',\n",
        "                              number=10000)\n",
        "\n",
        "np_sec = timeit.timeit('na.dot(na)',\n",
        "                            setup=\"import numpy as np; na=np.arange(1000)\",\n",
        "                            number=10000)\n",
        "\n",
        "print(f\"Normal Python: {py_sec} sec\")\n",
        "\n",
        "print(f\"NumPy: {np_sec} sec\")"
      ],
      "execution_count": null,
      "outputs": [
        {
          "output_type": "stream",
          "text": [
            "Normal Python: 0.8127167950005969 sec\n",
            "NumPy: 0.01427987700299127 sec\n"
          ],
          "name": "stdout"
        }
      ]
    },
    {
      "cell_type": "markdown",
      "metadata": {
        "id": "NEBYwRlKV_5v",
        "colab_type": "text"
      },
      "source": [
        "Note that numpy arrays in and of themselves don't help.  In the code snippet below, we multiply the `na` array times itself and sum the result.  This code is actually *slower* than the basic Python code, because it pays the overhead of creating the `numpy` array but doesn't exploit it by using the proper optimized operation.  The lesson here is that coding so as to  take maximum advantage of the efficiencies of `numpy` can be tricky, but if you have a good reason to be efficient, it's definitely worth some experimentation. That starts with knowing about the kinds of builtin array specific functions `numpy` offers."
      ]
    },
    {
      "cell_type": "code",
      "metadata": {
        "id": "aSPSLReU0FL2",
        "colab_type": "code",
        "colab": {
          "base_uri": "https://localhost:8080/",
          "height": 34
        },
        "outputId": "4acac0c7-140f-4b98-a607-d811c6423ae9"
      },
      "source": [
        "naive_np_sec = timeit.timeit('sum(na*na)',\n",
        "                             setup=\"import numpy as np; na=np.arange(1000)\",\n",
        "                             number=10000)\n",
        "print((\"Naive NumPy: %f sec\" % naive_np_sec))"
      ],
      "execution_count": null,
      "outputs": [
        {
          "output_type": "stream",
          "text": [
            "Naive NumPy: 1.982286 sec\n"
          ],
          "name": "stdout"
        }
      ]
    },
    {
      "cell_type": "code",
      "metadata": {
        "id": "oEgfmdpg0FL3",
        "colab_type": "code",
        "colab": {}
      },
      "source": [
        ""
      ],
      "execution_count": null,
      "outputs": []
    }
  ]
}