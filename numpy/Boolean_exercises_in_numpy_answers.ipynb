{
  "nbformat": 4,
  "nbformat_minor": 0,
  "metadata": {
    "colab": {
      "name": "Boolean_exercises_in_numpy.ipynb",
      "provenance": []
    },
    "kernelspec": {
      "name": "python3",
      "display_name": "Python 3"
    }
  },
  "cells": [
    {
      "cell_type": "code",
      "metadata": {
        "id": "LXs4hfRjwmqL",
        "colab_type": "code",
        "colab": {}
      },
      "source": [
        ""
      ],
      "execution_count": null,
      "outputs": []
    },
    {
      "cell_type": "markdown",
      "metadata": {
        "id": "HuGC8V_kxKtK",
        "colab_type": "text"
      },
      "source": [
        "#Boolean operations, Boolean masks, and Boolean combinations\n",
        "\n",
        "In this exercise set, we load forest covertype data (Note: This will take a little while because it downloads a large dataset from the web). This is a multi class dataset that has data for 7 different forest covertypes (stored in the target attribute). There are 581,012 forest plots with 54 attributes each (stored in a 581012 x 54 array) The first ten attributes are numerical, the last 44 are Boolean (true/false) attributes. Each of the Boolean attributes represents a qualitative soil type attribute which is either present or absent. We will refer to all the attributes by their column index. Thus the first attribute is attribute 0 and the last (a Boolean attribute) is attribute 53."
      ]
    },
    {
      "cell_type": "code",
      "metadata": {
        "id": "t0a3FWEa49nE",
        "colab_type": "code",
        "colab": {
          "base_uri": "https://localhost:8080/",
          "height": 68
        },
        "outputId": "2ff8074c-39e0-4edd-85bf-a4bf3ecd7e98"
      },
      "source": [
        "#from sklearn.datasets import load_wine\n",
        "#wdata = load_wine()\n",
        "from sklearn.datasets import fetch_covtype\n",
        "data = fetch_covtype()\n",
        "print(data.data.shape)  # data.data is the 581012 x 54 array\n",
        "print(data.target.shape)     # data.target contains the class for each instance"
      ],
      "execution_count": 2,
      "outputs": [
        {
          "output_type": "stream",
          "text": [
            "Downloading https://ndownloader.figshare.com/files/5976039\n"
          ],
          "name": "stderr"
        },
        {
          "output_type": "stream",
          "text": [
            "(581012, 54)\n",
            "(581012,)\n"
          ],
          "name": "stdout"
        }
      ]
    },
    {
      "cell_type": "markdown",
      "metadata": {
        "id": "nlOSWhkBMKAK",
        "colab_type": "text"
      },
      "source": [
        "[The Boolean arrays and masks notebook](https://github.com/gawron/python-for-social-science/blob/master/numpy/02_06_Boolean_Arrays_and_Masks.ipynb) discusses combining Boolean arrays with Boolean operators `&` (conceptually 'and') and `|` (conceptually 'or') and  `~` (conceptually 'not').  Study the examples there, especially the examples used on the Seattle rainfall data.  Pay special attention to the use of parentheses, because using them correctly matters in solving the following problems.\n",
        "\n",
        "Each of the following problems concerns finding a particular set of rows in the covertypes dataset. For each set do two things: \n",
        " \n",
        "a. Construct a single Python expression which counts the number of rows in the set.\n",
        "b. Construct a single Python expression which returns all the rows of the covertype dataset that are in the set.  (Note: not just the Boolean array, but the rows you get when use the Boolean array as a mask).\n",
        " \n",
        " 1.  The rows in the covertype dataset which have a value greater than 300 for attribute 1.\n",
        " 2.  The rows which have attribute 12 (Note:  this is a qualitative soil attribute).\n",
        " 3.  The entire covertypes dataset excluding rows which belong either to covertype 3 or covertype 5.  (Note: you will have to use two arrays `data.data` and `data.target`).\n",
        " 4. The rows which have attribute 12 but do not have either covertype 3 or covertype 5.\n",
        " 5. The rows which are not in covertype 3 or 5, have a value greater than 300 for attribute 1, and have attribute 12.\n",
        "\n",
        "The `sklearn` description of the covertype dataset is out below. For a fuller understanding of the attributes in the dataset you can look at [the original UCI data set description.](https://archive.ics.uci.edu/ml/datasets/Covertype) but that is not necessary to solve the problem."
      ]
    },
    {
      "cell_type": "markdown",
      "metadata": {
        "id": "l2Lp1bqSttfS",
        "colab_type": "text"
      },
      "source": [
        "The `data` object loaded above is a wrapper which contains three attributes."
      ]
    },
    {
      "cell_type": "code",
      "metadata": {
        "id": "iazl3ExEt4xj",
        "colab_type": "code",
        "colab": {
          "base_uri": "https://localhost:8080/",
          "height": 34
        },
        "outputId": "19f65c55-475c-4f0c-9023-647419733c8f"
      },
      "source": [
        "dir(data)"
      ],
      "execution_count": 3,
      "outputs": [
        {
          "output_type": "execute_result",
          "data": {
            "text/plain": [
              "['DESCR', 'data', 'target']"
            ]
          },
          "metadata": {
            "tags": []
          },
          "execution_count": 3
        }
      ]
    },
    {
      "cell_type": "code",
      "metadata": {
        "id": "BfHVAWtW1w7k",
        "colab_type": "code",
        "colab": {
          "base_uri": "https://localhost:8080/",
          "height": 510
        },
        "outputId": "69896f40-c2d9-4b4d-83f4-502ca8a52263"
      },
      "source": [
        "print(data.DESCR)"
      ],
      "execution_count": 4,
      "outputs": [
        {
          "output_type": "stream",
          "text": [
            ".. _covtype_dataset:\n",
            "\n",
            "Forest covertypes\n",
            "-----------------\n",
            "\n",
            "The samples in this dataset correspond to 30×30m patches of forest in the US,\n",
            "collected for the task of predicting each patch's cover type,\n",
            "i.e. the dominant species of tree.\n",
            "There are seven covertypes, making this a multiclass classification problem.\n",
            "Each sample has 54 features, described on the\n",
            "`dataset's homepage <https://archive.ics.uci.edu/ml/datasets/Covertype>`__.\n",
            "Some of the features are boolean indicators,\n",
            "while others are discrete or continuous measurements.\n",
            "\n",
            "**Data Set Characteristics:**\n",
            "\n",
            "    =================   ============\n",
            "    Classes                        7\n",
            "    Samples total             581012\n",
            "    Dimensionality                54\n",
            "    Features                     int\n",
            "    =================   ============\n",
            "\n",
            ":func:`sklearn.datasets.fetch_covtype` will load the covertype dataset;\n",
            "it returns a dictionary-like object\n",
            "with the feature matrix in the ``data`` member\n",
            "and the target values in ``target``.\n",
            "The dataset will be downloaded from the web if necessary.\n",
            "\n"
          ],
          "name": "stdout"
        }
      ]
    },
    {
      "cell_type": "code",
      "metadata": {
        "id": "rfe-qK0disLj",
        "colab_type": "code",
        "colab": {}
      },
      "source": [
        ""
      ],
      "execution_count": null,
      "outputs": []
    },
    {
      "cell_type": "markdown",
      "metadata": {
        "id": "bXZsBxT6Br8C",
        "colab_type": "text"
      },
      "source": [
        "Example:  `data.data`  is a `numpy` array containing the attributes for the 581,012 samples.  \n"
      ]
    },
    {
      "cell_type": "code",
      "metadata": {
        "id": "utXMUvh53Aqm",
        "colab_type": "code",
        "colab": {
          "base_uri": "https://localhost:8080/",
          "height": 51
        },
        "outputId": "6194eecb-1f5c-4dea-d167-0d88c2c059f2"
      },
      "source": [
        "print(type(data.data))\n",
        "print(data.data.shape)"
      ],
      "execution_count": 14,
      "outputs": [
        {
          "output_type": "stream",
          "text": [
            "<class 'numpy.ndarray'>\n",
            "(581012, 54)\n"
          ],
          "name": "stdout"
        }
      ]
    },
    {
      "cell_type": "markdown",
      "metadata": {
        "id": "N2AaON1X25i1",
        "colab_type": "text"
      },
      "source": [
        "\n",
        "To compute the Boolean array  that identifies the rows in which attribute 0 is greater than 3000 you do"
      ]
    },
    {
      "cell_type": "code",
      "metadata": {
        "id": "dVZgDsBLLtxN",
        "colab_type": "code",
        "colab": {
          "base_uri": "https://localhost:8080/",
          "height": 51
        },
        "outputId": "e5343a78-2d88-46f8-89f9-ea3f603c3199"
      },
      "source": [
        "WW = data.data[:,0] > 3000\n",
        "print(WW)\n",
        "print(WW.shape, data.data.shape)"
      ],
      "execution_count": 13,
      "outputs": [
        {
          "output_type": "stream",
          "text": [
            "[False False False ... False False False]\n",
            "(581012,) (581012, 54)\n"
          ],
          "name": "stdout"
        }
      ]
    },
    {
      "cell_type": "markdown",
      "metadata": {
        "id": "KB4rsLeqjITw",
        "colab_type": "text"
      },
      "source": [
        "Note the Boolean array has the same number of rows as the entire dataset.  To find the rows that satisfy this condition, you use this Boolean array as a \n",
        "**mask**. That is, you do:"
      ]
    },
    {
      "cell_type": "code",
      "metadata": {
        "id": "9oDraH9zjNAk",
        "colab_type": "code",
        "colab": {
          "base_uri": "https://localhost:8080/",
          "height": 153
        },
        "outputId": "7047f46b-0111-4749-fb4e-f0652b72d367"
      },
      "source": [
        "print(data.data[WW,:])\n",
        "data.data[WW,:].shape"
      ],
      "execution_count": 12,
      "outputs": [
        {
          "output_type": "stream",
          "text": [
            "[[3008.   45.   14. ...    0.    0.    0.]\n",
            " [3073.  173.   12. ...    0.    0.    0.]\n",
            " [3067.  164.   11. ...    0.    0.    0.]\n",
            " ...\n",
            " [3125.  127.    5. ...    0.    0.    0.]\n",
            " [3126.  120.    4. ...    0.    0.    0.]\n",
            " [3124.  115.    5. ...    0.    0.    0.]]\n"
          ],
          "name": "stdout"
        },
        {
          "output_type": "execute_result",
          "data": {
            "text/plain": [
              "(286266, 54)"
            ]
          },
          "metadata": {
            "tags": []
          },
          "execution_count": 12
        }
      ]
    },
    {
      "cell_type": "markdown",
      "metadata": {
        "id": "ZboNOhxhuXo0",
        "colab_type": "text"
      },
      "source": [
        "Note the new array contains just the rows that satisfies condition `WW` , so it is smaller.\n",
        "\n",
        "The covertypes (or dominant tree) for each forest plot are in `data.target`.  The `target` attribute is often the attribute used to store the classes in an `sklearn` clasification dataset. There are seven classes."
      ]
    },
    {
      "cell_type": "code",
      "metadata": {
        "id": "uVjutdGL7KPL",
        "colab_type": "code",
        "colab": {
          "base_uri": "https://localhost:8080/",
          "height": 51
        },
        "outputId": "7965b8ca-efd9-47e6-fe0b-d51431008d2e"
      },
      "source": [
        "print(data.target.shape)\n",
        "print(set(data.target))"
      ],
      "execution_count": 17,
      "outputs": [
        {
          "output_type": "stream",
          "text": [
            "(581012,)\n",
            "{1, 2, 3, 4, 5, 6, 7}\n"
          ],
          "name": "stdout"
        }
      ]
    },
    {
      "cell_type": "markdown",
      "metadata": {
        "id": "67sLRncK3VE3",
        "colab_type": "text"
      },
      "source": [
        "Place your answer to questions 1a and 1b in the next cell."
      ]
    },
    {
      "cell_type": "code",
      "metadata": {
        "id": "7g9X2_Pb3cLq",
        "colab_type": "code",
        "colab": {}
      },
      "source": [
        ""
      ],
      "execution_count": null,
      "outputs": []
    },
    {
      "cell_type": "markdown",
      "metadata": {
        "colab_type": "text",
        "id": "u3-uU0iL35WX"
      },
      "source": [
        "Place your answer to questions 2a and 2b in the next cell."
      ]
    },
    {
      "cell_type": "code",
      "metadata": {
        "colab_type": "code",
        "id": "YvAWgjUs35WY",
        "colab": {}
      },
      "source": [
        ""
      ],
      "execution_count": null,
      "outputs": []
    },
    {
      "cell_type": "markdown",
      "metadata": {
        "colab_type": "text",
        "id": "ECin676y3wYE"
      },
      "source": [
        "Place your answer to questions 3a and 3b in the next cell."
      ]
    },
    {
      "cell_type": "code",
      "metadata": {
        "colab_type": "code",
        "id": "-iSR4qye3wYF",
        "colab": {}
      },
      "source": [
        ""
      ],
      "execution_count": null,
      "outputs": []
    },
    {
      "cell_type": "markdown",
      "metadata": {
        "colab_type": "text",
        "id": "gs_sNgos3xvO"
      },
      "source": [
        "Place your answer to questions 4a and 4b in the next cell."
      ]
    },
    {
      "cell_type": "code",
      "metadata": {
        "colab_type": "code",
        "id": "UKjXD0Of3xvP",
        "colab": {}
      },
      "source": [
        ""
      ],
      "execution_count": null,
      "outputs": []
    },
    {
      "cell_type": "markdown",
      "metadata": {
        "colab_type": "text",
        "id": "6wMP2yu736c-"
      },
      "source": [
        "Place your answer to questions 5a and 5b in the next cell."
      ]
    },
    {
      "cell_type": "code",
      "metadata": {
        "colab_type": "code",
        "id": "DPvT_qzq36c_",
        "colab": {}
      },
      "source": [
        ""
      ],
      "execution_count": null,
      "outputs": []
    },
    {
      "cell_type": "code",
      "metadata": {
        "id": "v0trgetm3Sc5",
        "colab_type": "code",
        "colab": {
          "base_uri": "https://localhost:8080/",
          "height": 51
        },
        "outputId": "468982c1-597b-4ef1-b3c2-b2bbee133a91"
      },
      "source": [
        "# Part a Count members of set\n",
        "print(sum((data.data[:,1] > 300) & ~((data.target == 3) | (data.target == 5)) & (data.data[:,12] == 1)))\n",
        "# Part b. Return the rows in the set\n",
        "#Also works\n",
        "#subdata = data.data[(data.data[:,1] > 300) & ~((data.target == 3) | (data.target == 5)) & (data.data[:,12] == 1),:]\n",
        "subdata = data.data[(data.data[:,1] > 300) & ~((data.target == 3) | (data.target == 5)) & (data.data[:,12] == 1)]\n",
        "subdata.shape"
      ],
      "execution_count": 16,
      "outputs": [
        {
          "output_type": "stream",
          "text": [
            "43815\n"
          ],
          "name": "stdout"
        },
        {
          "output_type": "execute_result",
          "data": {
            "text/plain": [
              "(43815, 54)"
            ]
          },
          "metadata": {
            "tags": []
          },
          "execution_count": 16
        }
      ]
    }
  ]
}