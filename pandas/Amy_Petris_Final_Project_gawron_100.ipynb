{
  "nbformat": 4,
  "nbformat_minor": 0,
  "metadata": {
    "kernelspec": {
      "display_name": "Python 3",
      "language": "python",
      "name": "python3"
    },
    "language_info": {
      "codemirror_mode": {
        "name": "ipython",
        "version": 3
      },
      "file_extension": ".py",
      "mimetype": "text/x-python",
      "name": "python",
      "nbconvert_exporter": "python",
      "pygments_lexer": "ipython3",
      "version": "3.8.5"
    },
    "toc": {
      "base_numbering": 1,
      "nav_menu": {
        "height": "208px",
        "width": "252px"
      },
      "number_sections": true,
      "sideBar": true,
      "skip_h1_title": false,
      "title_cell": "Table of Contents",
      "title_sidebar": "Contents",
      "toc_cell": false,
      "toc_position": {},
      "toc_section_display": "block",
      "toc_window_display": false
    },
    "colab": {
      "name": "Amy_Petris_Final_Project_gawron_100.ipynb",
      "provenance": []
    }
  },
  "cells": [
    {
      "cell_type": "markdown",
      "metadata": {
        "id": "odcPPsq4GRjp"
      },
      "source": [
        "# Introduction to PUMS Notebook"
      ]
    },
    {
      "cell_type": "markdown",
      "metadata": {
        "id": "z0tvSsB2GRjp"
      },
      "source": [
        "The U.S. Census website  contains numerous kinds of demographic  data about the United States.  In this section we focus on data collected in surveys conducted during the decennial  census, which is distinct from the more frequently collected American Community Survey data.  More especifically, we will  confine our attention to the [Census 2000 PUMS data](http://www2.census.gov/census_2000/datasets/PUMS/>). PUMS  stands for **Public Use Microdata Samples**.  It is called *Microdata* because the the records contain information about one person or one household.\n",
        "\n",
        "The discussion below assumes you have visited the PUMS ages on the Census Bureau site and downloaded at least two files, `revisedpums1_alabama.txt` and the data dictionary available in the Excel workbooks, `5%_PUMS_record_layout.xls`.  For more details see the book draft chapter on data, especially the section on PUMS data.  You also need the Python module `read_in_census_data`, which can also be downloaded from a link in the PUMS data section of the book draft."
      ]
    },
    {
      "cell_type": "markdown",
      "metadata": {
        "id": "XhprMqMXGRjp"
      },
      "source": [
        "## Getting and Situating the data"
      ]
    },
    {
      "cell_type": "markdown",
      "metadata": {
        "id": "gnRH9BGzGRjp"
      },
      "source": [
        "This noitebook presents only solution for loading the census data, for code and data you have uploaded on google drive.  For the alternative code for using files on your local machine,\n",
        "see the `importing_and_loading_files_in_colab`. notebook (intro module).\n",
        "\n",
        "In this example we will assume you have placed the following three files in a folder named  `census` on your Google Drive.\n",
        "\n",
        "1. [read_in_census_data.py](https://gawron.sdsu.edu/python_for_ss/course_core/book_draft/_static/read_in_census_data.py)\n",
        "2. 5%_PUMS_record_layout.xls\n",
        "3. [PUMS data for Alabam 1% 2010](https://gawron.sdsu.edu/python_for_ss/course_core/book_draft/_static/revisedpums1_alabama_01.txt)\n",
        "\n",
        "This link to [pums_example.zip](https://gawron.sdsu.edu/python_for_ss/course_core/book_draft/_static/pums_example.zip) leads to a zipfile containing all three of these files.\n"
      ]
    },
    {
      "cell_type": "markdown",
      "metadata": {
        "id": "Sgci-pLGGRjp"
      },
      "source": [
        "## Reading in the data dictionary"
      ]
    },
    {
      "cell_type": "markdown",
      "metadata": {
        "id": "W4YoHyFDGRjp"
      },
      "source": [
        "First you need to import the `read_in_census_data` module and read in the data dictionary in\n",
        "the Census web site Excel sheet."
      ]
    },
    {
      "cell_type": "markdown",
      "metadata": {
        "id": "tdjS07PpGRjp"
      },
      "source": [
        "**Attention!**:  This notebook as is will only work on google colab, and foer someone who has downloaded the data and code files onto a folder name \"census\" on their Google Drive."
      ]
    },
    {
      "cell_type": "code",
      "metadata": {
        "colab": {
          "base_uri": "https://localhost:8080/"
        },
        "id": "pehk1IJSGRjp",
        "outputId": "29d8a2ba-2ed1-496c-be64-49fe9020d31d"
      },
      "source": [
        "import importlib.util\n",
        "import os.path\n",
        "from google.colab import drive\n",
        "\n",
        "# Mount google drive to create a filesystem the notebook can use\n",
        "drive.mount('/content/gdrive') \n",
        "# Specify the code dir in the new filesystem.\n",
        "code_dir ='/content/gdrive/My Drive/census/'\n",
        "\n",
        "#from read_in_census_data import CensusInfo, DataFrameWrapper\n",
        "\n",
        "filename = os.path.join(code_dir, 'read_in_census_data.py')\n",
        "spec = importlib.util.spec_from_file_location(\"census\", filename)\n",
        "# Name for imported module will be census\n",
        "census = importlib.util.module_from_spec(spec)\n",
        "spec.loader.exec_module(census)\n",
        "data_dir = code_dir\n",
        "one_percent_data_file = os.path.join(data_dir,\n",
        "                                     'revisedpums1_alabama_01.txt')\n",
        "data_dictionary = os.path.join(data_dir,\n",
        "                               '5%_PUMS_record_layout.xls')\n",
        "ci = census.CensusInfo (data_dictionary)\n",
        "df = census.DataFrameWrapper(ci)"
      ],
      "execution_count": null,
      "outputs": [
        {
          "output_type": "stream",
          "text": [
            "Mounted at /content/gdrive\n",
            "Processing 'Housing Unit Record' Sheet\n",
            "\n",
            "Processing 'Person Record' Sheet\n",
            "\n"
          ],
          "name": "stdout"
        }
      ]
    },
    {
      "cell_type": "markdown",
      "metadata": {
        "id": "CaxVNQKrGRju"
      },
      "source": [
        "## Potential projects"
      ]
    },
    {
      "cell_type": "markdown",
      "metadata": {
        "id": "9LI7cMmdGRju"
      },
      "source": [
        "Here are some ideas for potential projects using the PUMS data.\n",
        "\n",
        "1) Compare income levels for a variety of levels of education state by state. This can be done\n",
        "   by creating bins for education level as in the example above.  You may wish to explore different\n",
        "   bins than the ones used in that example.  For this project you must do at least 10 states, and you must\n",
        "   choose states that represent some variety in population and urbanization.  You will need to turn in the Python\n",
        "   notebook, some prose and explaining and justifying what you did (2 pages), and you need to produce some graphs\n",
        "   plotting education level (x axis) and income levels (y axis).  Make sure you can get the data for\n",
        "   several states on one plot.  Use different colored lines.  Your intellectual goal is  to decide if differences in\n",
        "   education level explain the differences in income state by state, or whether there are other major factors. An\n",
        "   alternative visualization is to use maps like the maps we use for the campaign contribution to represent (state by state)\n",
        "   percentages of residents with a particular level of education reaching a certain income level. \n",
        "   \n",
        "2) Compare income levels for a variety of levels of education for whites and non-whites.  You can do this in\n",
        "   several states, optionally but you must do at least one.  You will need to turn in the Python\n",
        "   notebook, some prose and explaining and justifying what you did (2 pages), and you need to produce some graphs\n",
        "   plotting education level (x axis) and income levels (y axis).  Make sure you can get the data for\n",
        "   whites and non-whites on one plot.  Use different colored lines.  Your intellectual goal is  to decide if differences in\n",
        "   education level explain the differences in income for whites and non whites, or whether there are other major factors.\n",
        "   \n",
        "   "
      ]
    },
    {
      "cell_type": "code",
      "metadata": {
        "id": "bZYdsbJZGRju"
      },
      "source": [
        "def income_level (x):\n",
        "    \n",
        "    if 0 < x < 20000:\n",
        "        return 'poverty'\n",
        "    elif x < 45000:\n",
        "        return 'lower'\n",
        "    elif x < 140000:\n",
        "        return 'middle'\n",
        "    elif x < 150000:\n",
        "        return 'upper middle'\n",
        "    elif x < 400000:\n",
        "        return 'upper'\n",
        "    else:\n",
        "        return 'top 1 percent'"
      ],
      "execution_count": null,
      "outputs": []
    },
    {
      "cell_type": "code",
      "metadata": {
        "id": "FpplTAgvelfn"
      },
      "source": [
        "def education (x):\n",
        "    \n",
        "    if 9 <= x <= 11:\n",
        "        return 'HS'\n",
        "    elif x == 12:\n",
        "        return 'AA'\n",
        "    elif x == 13:\n",
        "        return 'BA'\n",
        "    elif x == 14:\n",
        "        return 'MA'\n",
        "    elif x > 14:\n",
        "        return 'HD'\n",
        "    else:\n",
        "        return 'ND'"
      ],
      "execution_count": null,
      "outputs": []
    },
    {
      "cell_type": "code",
      "metadata": {
        "id": "8_jETR6g2vUY"
      },
      "source": [
        "df = census.DataFrameWrapper(ci)\n",
        "# we select a subset of the columns.\n",
        "df.fill_frame ([], ci.person_record, one_percent_data_file, ci.one_percent_file, \\\n",
        "                'race','income','education')"
      ],
      "execution_count": null,
      "outputs": []
    },
    {
      "cell_type": "code",
      "metadata": {
        "id": "WAhnWzaV3JHc"
      },
      "source": [
        "df.save_frame(os.path.join(data_dir,'final_project_pums_extract.csv'),header=True)"
      ],
      "execution_count": null,
      "outputs": []
    },
    {
      "cell_type": "code",
      "metadata": {
        "id": "L4tQxu5N3SiB"
      },
      "source": [
        "import pandas as pd\n",
        "import numpy as np\n",
        "import matplotlib.pyplot as plt\n",
        "## Note default is to use header line to name cols.\n",
        "## header argument is for selecting cols or renaming cols\n",
        "## Specify dat types for all the codes that arent really intended to be treated as numbers\n",
        "## Let pandas try to figure out income,education, and age.\n",
        "dt_dict ={'serial_no':object,'race':object,'income':object, 'education':object}\n",
        "p_df = pd.read_csv(os.path.join(data_dir,'final_project_pums_extract.csv'),\n",
        "                   dtype=dt_dict)"
      ],
      "execution_count": null,
      "outputs": []
    },
    {
      "cell_type": "code",
      "metadata": {
        "colab": {
          "base_uri": "https://localhost:8080/",
          "height": 419
        },
        "id": "e-6D1PfQ3kZW",
        "outputId": "00d66b4b-20c0-41be-8ce3-372434419fd0"
      },
      "source": [
        "p_df"
      ],
      "execution_count": null,
      "outputs": [
        {
          "output_type": "execute_result",
          "data": {
            "text/html": [
              "<div>\n",
              "<style scoped>\n",
              "    .dataframe tbody tr th:only-of-type {\n",
              "        vertical-align: middle;\n",
              "    }\n",
              "\n",
              "    .dataframe tbody tr th {\n",
              "        vertical-align: top;\n",
              "    }\n",
              "\n",
              "    .dataframe thead th {\n",
              "        text-align: right;\n",
              "    }\n",
              "</style>\n",
              "<table border=\"1\" class=\"dataframe\">\n",
              "  <thead>\n",
              "    <tr style=\"text-align: right;\">\n",
              "      <th></th>\n",
              "      <th>serial_no</th>\n",
              "      <th>race</th>\n",
              "      <th>income</th>\n",
              "      <th>education</th>\n",
              "    </tr>\n",
              "  </thead>\n",
              "  <tbody>\n",
              "    <tr>\n",
              "      <th>0</th>\n",
              "      <td>0000117</td>\n",
              "      <td>47</td>\n",
              "      <td>047300</td>\n",
              "      <td>12</td>\n",
              "    </tr>\n",
              "    <tr>\n",
              "      <th>1</th>\n",
              "      <td>0000117</td>\n",
              "      <td>47</td>\n",
              "      <td>024300</td>\n",
              "      <td>12</td>\n",
              "    </tr>\n",
              "    <tr>\n",
              "      <th>2</th>\n",
              "      <td>0000117</td>\n",
              "      <td>47</td>\n",
              "      <td>NaN</td>\n",
              "      <td>00</td>\n",
              "    </tr>\n",
              "    <tr>\n",
              "      <th>3</th>\n",
              "      <td>0000127</td>\n",
              "      <td>47</td>\n",
              "      <td>000000</td>\n",
              "      <td>05</td>\n",
              "    </tr>\n",
              "    <tr>\n",
              "      <th>4</th>\n",
              "      <td>0000127</td>\n",
              "      <td>47</td>\n",
              "      <td>022000</td>\n",
              "      <td>10</td>\n",
              "    </tr>\n",
              "    <tr>\n",
              "      <th>...</th>\n",
              "      <td>...</td>\n",
              "      <td>...</td>\n",
              "      <td>...</td>\n",
              "      <td>...</td>\n",
              "    </tr>\n",
              "    <tr>\n",
              "      <th>44482</th>\n",
              "      <td>0999820</td>\n",
              "      <td>37</td>\n",
              "      <td>NaN</td>\n",
              "      <td>01</td>\n",
              "    </tr>\n",
              "    <tr>\n",
              "      <th>44483</th>\n",
              "      <td>0999820</td>\n",
              "      <td>37</td>\n",
              "      <td>000000</td>\n",
              "      <td>07</td>\n",
              "    </tr>\n",
              "    <tr>\n",
              "      <th>44484</th>\n",
              "      <td>0999826</td>\n",
              "      <td>37</td>\n",
              "      <td>000000</td>\n",
              "      <td>08</td>\n",
              "    </tr>\n",
              "    <tr>\n",
              "      <th>44485</th>\n",
              "      <td>0999826</td>\n",
              "      <td>37</td>\n",
              "      <td>NaN</td>\n",
              "      <td>05</td>\n",
              "    </tr>\n",
              "    <tr>\n",
              "      <th>44486</th>\n",
              "      <td>0999826</td>\n",
              "      <td>37</td>\n",
              "      <td>NaN</td>\n",
              "      <td>01</td>\n",
              "    </tr>\n",
              "  </tbody>\n",
              "</table>\n",
              "<p>44487 rows × 4 columns</p>\n",
              "</div>"
            ],
            "text/plain": [
              "      serial_no race  income education\n",
              "0       0000117   47  047300        12\n",
              "1       0000117   47  024300        12\n",
              "2       0000117   47     NaN        00\n",
              "3       0000127   47  000000        05\n",
              "4       0000127   47  022000        10\n",
              "...         ...  ...     ...       ...\n",
              "44482   0999820   37     NaN        01\n",
              "44483   0999820   37  000000        07\n",
              "44484   0999826   37  000000        08\n",
              "44485   0999826   37     NaN        05\n",
              "44486   0999826   37     NaN        01\n",
              "\n",
              "[44487 rows x 4 columns]"
            ]
          },
          "metadata": {
            "tags": []
          },
          "execution_count": 7
        }
      ]
    },
    {
      "cell_type": "code",
      "metadata": {
        "id": "x3ziJdqg37yq"
      },
      "source": [
        "p_df['white_only'] = p_df['race'].map(lambda x: x == '47')"
      ],
      "execution_count": null,
      "outputs": []
    },
    {
      "cell_type": "code",
      "metadata": {
        "id": "svST-H4M3_N1"
      },
      "source": [
        "p_df=p_df.dropna(axis=0)"
      ],
      "execution_count": null,
      "outputs": []
    },
    {
      "cell_type": "code",
      "metadata": {
        "colab": {
          "base_uri": "https://localhost:8080/"
        },
        "id": "rkBDhHDa4lOe",
        "outputId": "9b3e77d0-979f-4fc9-b846-d7e07c50805c"
      },
      "source": [
        "p_df['income'] = p_df['income'].astype(int)\n",
        "p_df['education'] = p_df['education'].astype(int)"
      ],
      "execution_count": null,
      "outputs": [
        {
          "output_type": "stream",
          "text": [
            "/usr/local/lib/python3.6/dist-packages/ipykernel_launcher.py:1: SettingWithCopyWarning: \n",
            "A value is trying to be set on a copy of a slice from a DataFrame.\n",
            "Try using .loc[row_indexer,col_indexer] = value instead\n",
            "\n",
            "See the caveats in the documentation: https://pandas.pydata.org/pandas-docs/stable/user_guide/indexing.html#returning-a-view-versus-a-copy\n",
            "  \"\"\"Entry point for launching an IPython kernel.\n",
            "/usr/local/lib/python3.6/dist-packages/ipykernel_launcher.py:2: SettingWithCopyWarning: \n",
            "A value is trying to be set on a copy of a slice from a DataFrame.\n",
            "Try using .loc[row_indexer,col_indexer] = value instead\n",
            "\n",
            "See the caveats in the documentation: https://pandas.pydata.org/pandas-docs/stable/user_guide/indexing.html#returning-a-view-versus-a-copy\n",
            "  \n"
          ],
          "name": "stderr"
        }
      ]
    },
    {
      "cell_type": "code",
      "metadata": {
        "colab": {
          "base_uri": "https://localhost:8080/"
        },
        "id": "UFZG3AfK5Ac2",
        "outputId": "48442de8-9ae2-438e-aa32-d7d34e3eb935"
      },
      "source": [
        "p_df['income_level'] = p_df['income'].map(income_level)\n",
        "p_df['degrees'] = p_df['education'].map(education)"
      ],
      "execution_count": null,
      "outputs": [
        {
          "output_type": "stream",
          "text": [
            "/usr/local/lib/python3.6/dist-packages/ipykernel_launcher.py:1: SettingWithCopyWarning: \n",
            "A value is trying to be set on a copy of a slice from a DataFrame.\n",
            "Try using .loc[row_indexer,col_indexer] = value instead\n",
            "\n",
            "See the caveats in the documentation: https://pandas.pydata.org/pandas-docs/stable/user_guide/indexing.html#returning-a-view-versus-a-copy\n",
            "  \"\"\"Entry point for launching an IPython kernel.\n",
            "/usr/local/lib/python3.6/dist-packages/ipykernel_launcher.py:2: SettingWithCopyWarning: \n",
            "A value is trying to be set on a copy of a slice from a DataFrame.\n",
            "Try using .loc[row_indexer,col_indexer] = value instead\n",
            "\n",
            "See the caveats in the documentation: https://pandas.pydata.org/pandas-docs/stable/user_guide/indexing.html#returning-a-view-versus-a-copy\n",
            "  \n"
          ],
          "name": "stderr"
        }
      ]
    },
    {
      "cell_type": "code",
      "metadata": {
        "colab": {
          "base_uri": "https://localhost:8080/",
          "height": 419
        },
        "id": "yXfQWCRR5KXS",
        "outputId": "053c8f16-a1e6-4015-9b93-9d53841e5771"
      },
      "source": [
        "p_df"
      ],
      "execution_count": null,
      "outputs": [
        {
          "output_type": "execute_result",
          "data": {
            "text/html": [
              "<div>\n",
              "<style scoped>\n",
              "    .dataframe tbody tr th:only-of-type {\n",
              "        vertical-align: middle;\n",
              "    }\n",
              "\n",
              "    .dataframe tbody tr th {\n",
              "        vertical-align: top;\n",
              "    }\n",
              "\n",
              "    .dataframe thead th {\n",
              "        text-align: right;\n",
              "    }\n",
              "</style>\n",
              "<table border=\"1\" class=\"dataframe\">\n",
              "  <thead>\n",
              "    <tr style=\"text-align: right;\">\n",
              "      <th></th>\n",
              "      <th>serial_no</th>\n",
              "      <th>race</th>\n",
              "      <th>income</th>\n",
              "      <th>education</th>\n",
              "      <th>white_only</th>\n",
              "      <th>income_level</th>\n",
              "      <th>degrees</th>\n",
              "    </tr>\n",
              "  </thead>\n",
              "  <tbody>\n",
              "    <tr>\n",
              "      <th>0</th>\n",
              "      <td>0000117</td>\n",
              "      <td>47</td>\n",
              "      <td>47300</td>\n",
              "      <td>12</td>\n",
              "      <td>True</td>\n",
              "      <td>middle</td>\n",
              "      <td>AA</td>\n",
              "    </tr>\n",
              "    <tr>\n",
              "      <th>1</th>\n",
              "      <td>0000117</td>\n",
              "      <td>47</td>\n",
              "      <td>24300</td>\n",
              "      <td>12</td>\n",
              "      <td>True</td>\n",
              "      <td>lower</td>\n",
              "      <td>AA</td>\n",
              "    </tr>\n",
              "    <tr>\n",
              "      <th>3</th>\n",
              "      <td>0000127</td>\n",
              "      <td>47</td>\n",
              "      <td>0</td>\n",
              "      <td>5</td>\n",
              "      <td>True</td>\n",
              "      <td>lower</td>\n",
              "      <td>ND</td>\n",
              "    </tr>\n",
              "    <tr>\n",
              "      <th>4</th>\n",
              "      <td>0000127</td>\n",
              "      <td>47</td>\n",
              "      <td>22000</td>\n",
              "      <td>10</td>\n",
              "      <td>True</td>\n",
              "      <td>lower</td>\n",
              "      <td>HS</td>\n",
              "    </tr>\n",
              "    <tr>\n",
              "      <th>5</th>\n",
              "      <td>0000127</td>\n",
              "      <td>47</td>\n",
              "      <td>0</td>\n",
              "      <td>5</td>\n",
              "      <td>True</td>\n",
              "      <td>lower</td>\n",
              "      <td>ND</td>\n",
              "    </tr>\n",
              "    <tr>\n",
              "      <th>...</th>\n",
              "      <td>...</td>\n",
              "      <td>...</td>\n",
              "      <td>...</td>\n",
              "      <td>...</td>\n",
              "      <td>...</td>\n",
              "      <td>...</td>\n",
              "      <td>...</td>\n",
              "    </tr>\n",
              "    <tr>\n",
              "      <th>44479</th>\n",
              "      <td>0999753</td>\n",
              "      <td>47</td>\n",
              "      <td>0</td>\n",
              "      <td>10</td>\n",
              "      <td>True</td>\n",
              "      <td>lower</td>\n",
              "      <td>HS</td>\n",
              "    </tr>\n",
              "    <tr>\n",
              "      <th>44480</th>\n",
              "      <td>0999765</td>\n",
              "      <td>47</td>\n",
              "      <td>30000</td>\n",
              "      <td>9</td>\n",
              "      <td>True</td>\n",
              "      <td>lower</td>\n",
              "      <td>HS</td>\n",
              "    </tr>\n",
              "    <tr>\n",
              "      <th>44481</th>\n",
              "      <td>0999820</td>\n",
              "      <td>37</td>\n",
              "      <td>300</td>\n",
              "      <td>7</td>\n",
              "      <td>False</td>\n",
              "      <td>poverty</td>\n",
              "      <td>ND</td>\n",
              "    </tr>\n",
              "    <tr>\n",
              "      <th>44483</th>\n",
              "      <td>0999820</td>\n",
              "      <td>37</td>\n",
              "      <td>0</td>\n",
              "      <td>7</td>\n",
              "      <td>False</td>\n",
              "      <td>lower</td>\n",
              "      <td>ND</td>\n",
              "    </tr>\n",
              "    <tr>\n",
              "      <th>44484</th>\n",
              "      <td>0999826</td>\n",
              "      <td>37</td>\n",
              "      <td>0</td>\n",
              "      <td>8</td>\n",
              "      <td>False</td>\n",
              "      <td>lower</td>\n",
              "      <td>ND</td>\n",
              "    </tr>\n",
              "  </tbody>\n",
              "</table>\n",
              "<p>35178 rows × 7 columns</p>\n",
              "</div>"
            ],
            "text/plain": [
              "      serial_no race  income  education  white_only income_level degrees\n",
              "0       0000117   47   47300         12        True       middle      AA\n",
              "1       0000117   47   24300         12        True        lower      AA\n",
              "3       0000127   47       0          5        True        lower      ND\n",
              "4       0000127   47   22000         10        True        lower      HS\n",
              "5       0000127   47       0          5        True        lower      ND\n",
              "...         ...  ...     ...        ...         ...          ...     ...\n",
              "44479   0999753   47       0         10        True        lower      HS\n",
              "44480   0999765   47   30000          9        True        lower      HS\n",
              "44481   0999820   37     300          7       False      poverty      ND\n",
              "44483   0999820   37       0          7       False        lower      ND\n",
              "44484   0999826   37       0          8       False        lower      ND\n",
              "\n",
              "[35178 rows x 7 columns]"
            ]
          },
          "metadata": {
            "tags": []
          },
          "execution_count": 12
        }
      ]
    },
    {
      "cell_type": "code",
      "metadata": {
        "id": "7cZm7K6chWXn"
      },
      "source": [
        "p_df_white = p_df[p_df['white_only']==True]"
      ],
      "execution_count": null,
      "outputs": []
    },
    {
      "cell_type": "code",
      "metadata": {
        "id": "XdCtXvEBncIs"
      },
      "source": [
        "p_df_nonwhite = p_df[p_df['white_only']==False]"
      ],
      "execution_count": null,
      "outputs": []
    },
    {
      "cell_type": "code",
      "metadata": {
        "colab": {
          "base_uri": "https://localhost:8080/",
          "height": 297
        },
        "id": "zuD9j1dTcFTL",
        "outputId": "8b3e81ac-19c1-4a18-ce0c-94a72daef4c6"
      },
      "source": [
        "xtab_w=pd.crosstab(p_df_white.degrees,p_df_white.income_level,margins=True)\n",
        "xtab_w"
      ],
      "execution_count": null,
      "outputs": [
        {
          "output_type": "execute_result",
          "data": {
            "text/html": [
              "<div>\n",
              "<style scoped>\n",
              "    .dataframe tbody tr th:only-of-type {\n",
              "        vertical-align: middle;\n",
              "    }\n",
              "\n",
              "    .dataframe tbody tr th {\n",
              "        vertical-align: top;\n",
              "    }\n",
              "\n",
              "    .dataframe thead th {\n",
              "        text-align: right;\n",
              "    }\n",
              "</style>\n",
              "<table border=\"1\" class=\"dataframe\">\n",
              "  <thead>\n",
              "    <tr style=\"text-align: right;\">\n",
              "      <th>income_level</th>\n",
              "      <th>lower</th>\n",
              "      <th>middle</th>\n",
              "      <th>poverty</th>\n",
              "      <th>upper</th>\n",
              "      <th>upper middle</th>\n",
              "      <th>All</th>\n",
              "    </tr>\n",
              "    <tr>\n",
              "      <th>degrees</th>\n",
              "      <th></th>\n",
              "      <th></th>\n",
              "      <th></th>\n",
              "      <th></th>\n",
              "      <th></th>\n",
              "      <th></th>\n",
              "    </tr>\n",
              "  </thead>\n",
              "  <tbody>\n",
              "    <tr>\n",
              "      <th>AA</th>\n",
              "      <td>791</td>\n",
              "      <td>166</td>\n",
              "      <td>322</td>\n",
              "      <td>4</td>\n",
              "      <td>2</td>\n",
              "      <td>1285</td>\n",
              "    </tr>\n",
              "    <tr>\n",
              "      <th>BA</th>\n",
              "      <td>1575</td>\n",
              "      <td>758</td>\n",
              "      <td>458</td>\n",
              "      <td>41</td>\n",
              "      <td>8</td>\n",
              "      <td>2840</td>\n",
              "    </tr>\n",
              "    <tr>\n",
              "      <th>HD</th>\n",
              "      <td>218</td>\n",
              "      <td>131</td>\n",
              "      <td>51</td>\n",
              "      <td>52</td>\n",
              "      <td>2</td>\n",
              "      <td>454</td>\n",
              "    </tr>\n",
              "    <tr>\n",
              "      <th>HS</th>\n",
              "      <td>8092</td>\n",
              "      <td>1021</td>\n",
              "      <td>4032</td>\n",
              "      <td>28</td>\n",
              "      <td>1</td>\n",
              "      <td>13174</td>\n",
              "    </tr>\n",
              "    <tr>\n",
              "      <th>MA</th>\n",
              "      <td>635</td>\n",
              "      <td>282</td>\n",
              "      <td>151</td>\n",
              "      <td>17</td>\n",
              "      <td>4</td>\n",
              "      <td>1089</td>\n",
              "    </tr>\n",
              "    <tr>\n",
              "      <th>ND</th>\n",
              "      <td>5107</td>\n",
              "      <td>139</td>\n",
              "      <td>1692</td>\n",
              "      <td>11</td>\n",
              "      <td>0</td>\n",
              "      <td>6949</td>\n",
              "    </tr>\n",
              "    <tr>\n",
              "      <th>All</th>\n",
              "      <td>16418</td>\n",
              "      <td>2497</td>\n",
              "      <td>6706</td>\n",
              "      <td>153</td>\n",
              "      <td>17</td>\n",
              "      <td>25791</td>\n",
              "    </tr>\n",
              "  </tbody>\n",
              "</table>\n",
              "</div>"
            ],
            "text/plain": [
              "income_level  lower  middle  poverty  upper  upper middle    All\n",
              "degrees                                                         \n",
              "AA              791     166      322      4             2   1285\n",
              "BA             1575     758      458     41             8   2840\n",
              "HD              218     131       51     52             2    454\n",
              "HS             8092    1021     4032     28             1  13174\n",
              "MA              635     282      151     17             4   1089\n",
              "ND             5107     139     1692     11             0   6949\n",
              "All           16418    2497     6706    153            17  25791"
            ]
          },
          "metadata": {
            "tags": []
          },
          "execution_count": 15
        }
      ]
    },
    {
      "cell_type": "code",
      "metadata": {
        "colab": {
          "base_uri": "https://localhost:8080/",
          "height": 297
        },
        "id": "Ml-DanyBngXL",
        "outputId": "b32a2418-2704-4d64-a3f9-c55c08db7be4"
      },
      "source": [
        "xtab_nw=pd.crosstab(p_df_nonwhite.degrees,p_df_nonwhite.income_level,margins=True)\n",
        "xtab_nw"
      ],
      "execution_count": null,
      "outputs": [
        {
          "output_type": "execute_result",
          "data": {
            "text/html": [
              "<div>\n",
              "<style scoped>\n",
              "    .dataframe tbody tr th:only-of-type {\n",
              "        vertical-align: middle;\n",
              "    }\n",
              "\n",
              "    .dataframe tbody tr th {\n",
              "        vertical-align: top;\n",
              "    }\n",
              "\n",
              "    .dataframe thead th {\n",
              "        text-align: right;\n",
              "    }\n",
              "</style>\n",
              "<table border=\"1\" class=\"dataframe\">\n",
              "  <thead>\n",
              "    <tr style=\"text-align: right;\">\n",
              "      <th>income_level</th>\n",
              "      <th>lower</th>\n",
              "      <th>middle</th>\n",
              "      <th>poverty</th>\n",
              "      <th>upper</th>\n",
              "      <th>upper middle</th>\n",
              "      <th>All</th>\n",
              "    </tr>\n",
              "    <tr>\n",
              "      <th>degrees</th>\n",
              "      <th></th>\n",
              "      <th></th>\n",
              "      <th></th>\n",
              "      <th></th>\n",
              "      <th></th>\n",
              "      <th></th>\n",
              "    </tr>\n",
              "  </thead>\n",
              "  <tbody>\n",
              "    <tr>\n",
              "      <th>AA</th>\n",
              "      <td>229</td>\n",
              "      <td>28</td>\n",
              "      <td>146</td>\n",
              "      <td>1</td>\n",
              "      <td>0</td>\n",
              "      <td>404</td>\n",
              "    </tr>\n",
              "    <tr>\n",
              "      <th>BA</th>\n",
              "      <td>339</td>\n",
              "      <td>90</td>\n",
              "      <td>123</td>\n",
              "      <td>2</td>\n",
              "      <td>1</td>\n",
              "      <td>555</td>\n",
              "    </tr>\n",
              "    <tr>\n",
              "      <th>HD</th>\n",
              "      <td>34</td>\n",
              "      <td>27</td>\n",
              "      <td>10</td>\n",
              "      <td>1</td>\n",
              "      <td>0</td>\n",
              "      <td>72</td>\n",
              "    </tr>\n",
              "    <tr>\n",
              "      <th>HS</th>\n",
              "      <td>2316</td>\n",
              "      <td>148</td>\n",
              "      <td>1893</td>\n",
              "      <td>7</td>\n",
              "      <td>2</td>\n",
              "      <td>4366</td>\n",
              "    </tr>\n",
              "    <tr>\n",
              "      <th>MA</th>\n",
              "      <td>144</td>\n",
              "      <td>46</td>\n",
              "      <td>42</td>\n",
              "      <td>1</td>\n",
              "      <td>0</td>\n",
              "      <td>233</td>\n",
              "    </tr>\n",
              "    <tr>\n",
              "      <th>ND</th>\n",
              "      <td>2728</td>\n",
              "      <td>35</td>\n",
              "      <td>988</td>\n",
              "      <td>6</td>\n",
              "      <td>0</td>\n",
              "      <td>3757</td>\n",
              "    </tr>\n",
              "    <tr>\n",
              "      <th>All</th>\n",
              "      <td>5790</td>\n",
              "      <td>374</td>\n",
              "      <td>3202</td>\n",
              "      <td>18</td>\n",
              "      <td>3</td>\n",
              "      <td>9387</td>\n",
              "    </tr>\n",
              "  </tbody>\n",
              "</table>\n",
              "</div>"
            ],
            "text/plain": [
              "income_level  lower  middle  poverty  upper  upper middle   All\n",
              "degrees                                                        \n",
              "AA              229      28      146      1             0   404\n",
              "BA              339      90      123      2             1   555\n",
              "HD               34      27       10      1             0    72\n",
              "HS             2316     148     1893      7             2  4366\n",
              "MA              144      46       42      1             0   233\n",
              "ND             2728      35      988      6             0  3757\n",
              "All            5790     374     3202     18             3  9387"
            ]
          },
          "metadata": {
            "tags": []
          },
          "execution_count": 16
        }
      ]
    },
    {
      "cell_type": "code",
      "metadata": {
        "id": "duKGr2ykiwhb"
      },
      "source": [
        "xtab_w_2= xtab_w.transpose()"
      ],
      "execution_count": null,
      "outputs": []
    },
    {
      "cell_type": "code",
      "metadata": {
        "colab": {
          "base_uri": "https://localhost:8080/",
          "height": 266
        },
        "id": "khRONDBskf0G",
        "outputId": "ac9e74d5-ab1f-4249-a849-486fcb67ab97"
      },
      "source": [
        "xtab_nw_2= xtab_nw.transpose()\n",
        "xtab_nw_2"
      ],
      "execution_count": null,
      "outputs": [
        {
          "output_type": "execute_result",
          "data": {
            "text/html": [
              "<div>\n",
              "<style scoped>\n",
              "    .dataframe tbody tr th:only-of-type {\n",
              "        vertical-align: middle;\n",
              "    }\n",
              "\n",
              "    .dataframe tbody tr th {\n",
              "        vertical-align: top;\n",
              "    }\n",
              "\n",
              "    .dataframe thead th {\n",
              "        text-align: right;\n",
              "    }\n",
              "</style>\n",
              "<table border=\"1\" class=\"dataframe\">\n",
              "  <thead>\n",
              "    <tr style=\"text-align: right;\">\n",
              "      <th>degrees</th>\n",
              "      <th>AA</th>\n",
              "      <th>BA</th>\n",
              "      <th>HD</th>\n",
              "      <th>HS</th>\n",
              "      <th>MA</th>\n",
              "      <th>ND</th>\n",
              "      <th>All</th>\n",
              "    </tr>\n",
              "    <tr>\n",
              "      <th>income_level</th>\n",
              "      <th></th>\n",
              "      <th></th>\n",
              "      <th></th>\n",
              "      <th></th>\n",
              "      <th></th>\n",
              "      <th></th>\n",
              "      <th></th>\n",
              "    </tr>\n",
              "  </thead>\n",
              "  <tbody>\n",
              "    <tr>\n",
              "      <th>lower</th>\n",
              "      <td>229</td>\n",
              "      <td>339</td>\n",
              "      <td>34</td>\n",
              "      <td>2316</td>\n",
              "      <td>144</td>\n",
              "      <td>2728</td>\n",
              "      <td>5790</td>\n",
              "    </tr>\n",
              "    <tr>\n",
              "      <th>middle</th>\n",
              "      <td>28</td>\n",
              "      <td>90</td>\n",
              "      <td>27</td>\n",
              "      <td>148</td>\n",
              "      <td>46</td>\n",
              "      <td>35</td>\n",
              "      <td>374</td>\n",
              "    </tr>\n",
              "    <tr>\n",
              "      <th>poverty</th>\n",
              "      <td>146</td>\n",
              "      <td>123</td>\n",
              "      <td>10</td>\n",
              "      <td>1893</td>\n",
              "      <td>42</td>\n",
              "      <td>988</td>\n",
              "      <td>3202</td>\n",
              "    </tr>\n",
              "    <tr>\n",
              "      <th>upper</th>\n",
              "      <td>1</td>\n",
              "      <td>2</td>\n",
              "      <td>1</td>\n",
              "      <td>7</td>\n",
              "      <td>1</td>\n",
              "      <td>6</td>\n",
              "      <td>18</td>\n",
              "    </tr>\n",
              "    <tr>\n",
              "      <th>upper middle</th>\n",
              "      <td>0</td>\n",
              "      <td>1</td>\n",
              "      <td>0</td>\n",
              "      <td>2</td>\n",
              "      <td>0</td>\n",
              "      <td>0</td>\n",
              "      <td>3</td>\n",
              "    </tr>\n",
              "    <tr>\n",
              "      <th>All</th>\n",
              "      <td>404</td>\n",
              "      <td>555</td>\n",
              "      <td>72</td>\n",
              "      <td>4366</td>\n",
              "      <td>233</td>\n",
              "      <td>3757</td>\n",
              "      <td>9387</td>\n",
              "    </tr>\n",
              "  </tbody>\n",
              "</table>\n",
              "</div>"
            ],
            "text/plain": [
              "degrees        AA   BA  HD    HS   MA    ND   All\n",
              "income_level                                     \n",
              "lower         229  339  34  2316  144  2728  5790\n",
              "middle         28   90  27   148   46    35   374\n",
              "poverty       146  123  10  1893   42   988  3202\n",
              "upper           1    2   1     7    1     6    18\n",
              "upper middle    0    1   0     2    0     0     3\n",
              "All           404  555  72  4366  233  3757  9387"
            ]
          },
          "metadata": {
            "tags": []
          },
          "execution_count": 18
        }
      ]
    },
    {
      "cell_type": "code",
      "metadata": {
        "colab": {
          "base_uri": "https://localhost:8080/",
          "height": 266
        },
        "id": "JW7kbmWy7OXo",
        "outputId": "ed8f3cf1-a135-419b-8aa3-aafcd76c5dbb"
      },
      "source": [
        "all_f = xtab_w_2['All'].map(lambda x: float(x))\n",
        "xtab_w_2['AA'] = xtab_w_2['AA']/all_f\n",
        "xtab_w_2['BA'] = xtab_w_2['BA']/all_f\n",
        "xtab_w_2['HD'] = xtab_w_2['HD']/all_f\n",
        "xtab_w_2['HS'] = xtab_w_2['HS']/all_f\n",
        "xtab_w_2['MA'] = xtab_w_2['MA']/all_f\n",
        "xtab_w_2['ND'] = xtab_w_2['ND']/all_f\n",
        "xtab_w_2['All'] = xtab_w_2['All']/all_f\n",
        "xtab_w_2"
      ],
      "execution_count": null,
      "outputs": [
        {
          "output_type": "execute_result",
          "data": {
            "text/html": [
              "<div>\n",
              "<style scoped>\n",
              "    .dataframe tbody tr th:only-of-type {\n",
              "        vertical-align: middle;\n",
              "    }\n",
              "\n",
              "    .dataframe tbody tr th {\n",
              "        vertical-align: top;\n",
              "    }\n",
              "\n",
              "    .dataframe thead th {\n",
              "        text-align: right;\n",
              "    }\n",
              "</style>\n",
              "<table border=\"1\" class=\"dataframe\">\n",
              "  <thead>\n",
              "    <tr style=\"text-align: right;\">\n",
              "      <th>degrees</th>\n",
              "      <th>AA</th>\n",
              "      <th>BA</th>\n",
              "      <th>HD</th>\n",
              "      <th>HS</th>\n",
              "      <th>MA</th>\n",
              "      <th>ND</th>\n",
              "      <th>All</th>\n",
              "    </tr>\n",
              "    <tr>\n",
              "      <th>income_level</th>\n",
              "      <th></th>\n",
              "      <th></th>\n",
              "      <th></th>\n",
              "      <th></th>\n",
              "      <th></th>\n",
              "      <th></th>\n",
              "      <th></th>\n",
              "    </tr>\n",
              "  </thead>\n",
              "  <tbody>\n",
              "    <tr>\n",
              "      <th>lower</th>\n",
              "      <td>0.048179</td>\n",
              "      <td>0.095931</td>\n",
              "      <td>0.013278</td>\n",
              "      <td>0.492874</td>\n",
              "      <td>0.038677</td>\n",
              "      <td>0.311061</td>\n",
              "      <td>1.0</td>\n",
              "    </tr>\n",
              "    <tr>\n",
              "      <th>middle</th>\n",
              "      <td>0.066480</td>\n",
              "      <td>0.303564</td>\n",
              "      <td>0.052463</td>\n",
              "      <td>0.408891</td>\n",
              "      <td>0.112936</td>\n",
              "      <td>0.055667</td>\n",
              "      <td>1.0</td>\n",
              "    </tr>\n",
              "    <tr>\n",
              "      <th>poverty</th>\n",
              "      <td>0.048017</td>\n",
              "      <td>0.068297</td>\n",
              "      <td>0.007605</td>\n",
              "      <td>0.601253</td>\n",
              "      <td>0.022517</td>\n",
              "      <td>0.252311</td>\n",
              "      <td>1.0</td>\n",
              "    </tr>\n",
              "    <tr>\n",
              "      <th>upper</th>\n",
              "      <td>0.026144</td>\n",
              "      <td>0.267974</td>\n",
              "      <td>0.339869</td>\n",
              "      <td>0.183007</td>\n",
              "      <td>0.111111</td>\n",
              "      <td>0.071895</td>\n",
              "      <td>1.0</td>\n",
              "    </tr>\n",
              "    <tr>\n",
              "      <th>upper middle</th>\n",
              "      <td>0.117647</td>\n",
              "      <td>0.470588</td>\n",
              "      <td>0.117647</td>\n",
              "      <td>0.058824</td>\n",
              "      <td>0.235294</td>\n",
              "      <td>0.000000</td>\n",
              "      <td>1.0</td>\n",
              "    </tr>\n",
              "    <tr>\n",
              "      <th>All</th>\n",
              "      <td>0.049824</td>\n",
              "      <td>0.110116</td>\n",
              "      <td>0.017603</td>\n",
              "      <td>0.510798</td>\n",
              "      <td>0.042224</td>\n",
              "      <td>0.269435</td>\n",
              "      <td>1.0</td>\n",
              "    </tr>\n",
              "  </tbody>\n",
              "</table>\n",
              "</div>"
            ],
            "text/plain": [
              "degrees             AA        BA        HD        HS        MA        ND  All\n",
              "income_level                                                                 \n",
              "lower         0.048179  0.095931  0.013278  0.492874  0.038677  0.311061  1.0\n",
              "middle        0.066480  0.303564  0.052463  0.408891  0.112936  0.055667  1.0\n",
              "poverty       0.048017  0.068297  0.007605  0.601253  0.022517  0.252311  1.0\n",
              "upper         0.026144  0.267974  0.339869  0.183007  0.111111  0.071895  1.0\n",
              "upper middle  0.117647  0.470588  0.117647  0.058824  0.235294  0.000000  1.0\n",
              "All           0.049824  0.110116  0.017603  0.510798  0.042224  0.269435  1.0"
            ]
          },
          "metadata": {
            "tags": []
          },
          "execution_count": 19
        }
      ]
    },
    {
      "cell_type": "code",
      "metadata": {
        "colab": {
          "base_uri": "https://localhost:8080/",
          "height": 266
        },
        "id": "vTjizi6MnxtH",
        "outputId": "70500fda-563a-4ac2-9358-c085c01bba82"
      },
      "source": [
        "all_f = xtab_nw_2['All'].map(lambda x: float(x))\n",
        "xtab_nw_2['AA'] = xtab_nw_2['AA']/all_f\n",
        "xtab_nw_2['BA'] = xtab_nw_2['BA']/all_f\n",
        "xtab_nw_2['HD'] = xtab_nw_2['HD']/all_f\n",
        "xtab_nw_2['HS'] = xtab_nw_2['HS']/all_f\n",
        "xtab_nw_2['MA'] = xtab_nw_2['MA']/all_f\n",
        "xtab_nw_2['ND'] = xtab_nw_2['ND']/all_f\n",
        "xtab_nw_2['All'] = xtab_nw_2['All']/all_f\n",
        "xtab_nw_2"
      ],
      "execution_count": null,
      "outputs": [
        {
          "output_type": "execute_result",
          "data": {
            "text/html": [
              "<div>\n",
              "<style scoped>\n",
              "    .dataframe tbody tr th:only-of-type {\n",
              "        vertical-align: middle;\n",
              "    }\n",
              "\n",
              "    .dataframe tbody tr th {\n",
              "        vertical-align: top;\n",
              "    }\n",
              "\n",
              "    .dataframe thead th {\n",
              "        text-align: right;\n",
              "    }\n",
              "</style>\n",
              "<table border=\"1\" class=\"dataframe\">\n",
              "  <thead>\n",
              "    <tr style=\"text-align: right;\">\n",
              "      <th>degrees</th>\n",
              "      <th>AA</th>\n",
              "      <th>BA</th>\n",
              "      <th>HD</th>\n",
              "      <th>HS</th>\n",
              "      <th>MA</th>\n",
              "      <th>ND</th>\n",
              "      <th>All</th>\n",
              "    </tr>\n",
              "    <tr>\n",
              "      <th>income_level</th>\n",
              "      <th></th>\n",
              "      <th></th>\n",
              "      <th></th>\n",
              "      <th></th>\n",
              "      <th></th>\n",
              "      <th></th>\n",
              "      <th></th>\n",
              "    </tr>\n",
              "  </thead>\n",
              "  <tbody>\n",
              "    <tr>\n",
              "      <th>lower</th>\n",
              "      <td>0.039551</td>\n",
              "      <td>0.058549</td>\n",
              "      <td>0.005872</td>\n",
              "      <td>0.400000</td>\n",
              "      <td>0.024870</td>\n",
              "      <td>0.471157</td>\n",
              "      <td>1.0</td>\n",
              "    </tr>\n",
              "    <tr>\n",
              "      <th>middle</th>\n",
              "      <td>0.074866</td>\n",
              "      <td>0.240642</td>\n",
              "      <td>0.072193</td>\n",
              "      <td>0.395722</td>\n",
              "      <td>0.122995</td>\n",
              "      <td>0.093583</td>\n",
              "      <td>1.0</td>\n",
              "    </tr>\n",
              "    <tr>\n",
              "      <th>poverty</th>\n",
              "      <td>0.045597</td>\n",
              "      <td>0.038413</td>\n",
              "      <td>0.003123</td>\n",
              "      <td>0.591193</td>\n",
              "      <td>0.013117</td>\n",
              "      <td>0.308557</td>\n",
              "      <td>1.0</td>\n",
              "    </tr>\n",
              "    <tr>\n",
              "      <th>upper</th>\n",
              "      <td>0.055556</td>\n",
              "      <td>0.111111</td>\n",
              "      <td>0.055556</td>\n",
              "      <td>0.388889</td>\n",
              "      <td>0.055556</td>\n",
              "      <td>0.333333</td>\n",
              "      <td>1.0</td>\n",
              "    </tr>\n",
              "    <tr>\n",
              "      <th>upper middle</th>\n",
              "      <td>0.000000</td>\n",
              "      <td>0.333333</td>\n",
              "      <td>0.000000</td>\n",
              "      <td>0.666667</td>\n",
              "      <td>0.000000</td>\n",
              "      <td>0.000000</td>\n",
              "      <td>1.0</td>\n",
              "    </tr>\n",
              "    <tr>\n",
              "      <th>All</th>\n",
              "      <td>0.043038</td>\n",
              "      <td>0.059124</td>\n",
              "      <td>0.007670</td>\n",
              "      <td>0.465111</td>\n",
              "      <td>0.024822</td>\n",
              "      <td>0.400234</td>\n",
              "      <td>1.0</td>\n",
              "    </tr>\n",
              "  </tbody>\n",
              "</table>\n",
              "</div>"
            ],
            "text/plain": [
              "degrees             AA        BA        HD        HS        MA        ND  All\n",
              "income_level                                                                 \n",
              "lower         0.039551  0.058549  0.005872  0.400000  0.024870  0.471157  1.0\n",
              "middle        0.074866  0.240642  0.072193  0.395722  0.122995  0.093583  1.0\n",
              "poverty       0.045597  0.038413  0.003123  0.591193  0.013117  0.308557  1.0\n",
              "upper         0.055556  0.111111  0.055556  0.388889  0.055556  0.333333  1.0\n",
              "upper middle  0.000000  0.333333  0.000000  0.666667  0.000000  0.000000  1.0\n",
              "All           0.043038  0.059124  0.007670  0.465111  0.024822  0.400234  1.0"
            ]
          },
          "metadata": {
            "tags": []
          },
          "execution_count": 20
        }
      ]
    },
    {
      "cell_type": "code",
      "metadata": {
        "id": "vTVlbLh1-XEj"
      },
      "source": [
        "xtab_w_2 = xtab_w_2.drop(['All'], axis=0)\n",
        "xtab_w_2 = xtab_w_2.drop(['All'], axis=1)"
      ],
      "execution_count": null,
      "outputs": []
    },
    {
      "cell_type": "code",
      "metadata": {
        "id": "ZqRL_M9Jn6LD"
      },
      "source": [
        "xtab_nw_2 = xtab_nw_2.drop(['All'], axis=0)\n",
        "xtab_nw_2 = xtab_nw_2.drop(['All'], axis=1)"
      ],
      "execution_count": null,
      "outputs": []
    },
    {
      "cell_type": "markdown",
      "metadata": {
        "id": "npccVIJlchuC"
      },
      "source": [
        ""
      ]
    },
    {
      "cell_type": "markdown",
      "metadata": {
        "id": "hhpxoPPoONIU"
      },
      "source": [
        "JMG. You need to learn how to use variables and loops.  This is close to unreadable because it does the same thing over and over without telling you so.  It would be a good exercise to try and turn this into a loop."
      ]
    },
    {
      "cell_type": "code",
      "metadata": {
        "colab": {
          "base_uri": "https://localhost:8080/",
          "height": 286
        },
        "id": "OrN4R3ePoaTQ",
        "outputId": "f96975be-00c4-4f25-85fa-71685e836d1b"
      },
      "source": [
        "white_bar_list = [plt.bar(['poverty','lower','middle','upper middle','upper'],xtab_w_2['ND'],color=('lightcoral'),align='edge', width= 0.25,label='White - ND'),\n",
        "                  plt.bar(['poverty','lower','middle','upper middle','upper'],xtab_w_2['HS'],color=('indianred'),align='edge', width= 0.25,bottom=xtab_w_2['ND'],label='White - HS'),\n",
        "                  plt.bar(['poverty','lower','middle','upper middle','upper'],xtab_w_2['AA'],color=('red'),align='edge', width= 0.25,bottom=xtab_w_2['ND']+xtab_w_2['HS'],label='White - AA'),\n",
        "                  plt.bar(['poverty','lower','middle','upper middle','upper'],xtab_w_2['BA'],color=('firebrick'),align='edge', width= 0.25,bottom=xtab_w_2['HS']+xtab_w_2['ND']+xtab_w_2['AA'],label='White - BA'),\n",
        "                  plt.bar(['poverty','lower','middle','upper middle','upper'],xtab_w_2['MA'],color=('brown'),align='edge', width= 0.25,bottom=xtab_w_2['ND']+xtab_w_2['HS']+xtab_w_2['BA']+xtab_w_2['AA'],label='White - MA'),\n",
        "                  plt.bar(['poverty','lower','middle','upper middle','upper'],xtab_w_2['HD'],color=('maroon'),align='edge', width= 0.25,bottom=xtab_w_2['MA']+xtab_w_2['ND']+xtab_w_2['HS']+xtab_w_2['BA']+xtab_w_2['AA'],label='White - HD')]\n",
        "\n",
        "nonwhite_bar_list = [plt.bar(['poverty','lower','middle','upper middle','upper'],xtab_nw_2['ND'],color=('lightsteelblue'),align='edge', width= -0.25,label='Nonwhite - ND'),\n",
        "                  plt.bar(['poverty','lower','middle','upper middle','upper'],xtab_nw_2['HS'],color=('cornflowerblue'),align='edge', width= -0.25,bottom=xtab_nw_2['ND'],label='Nonwhite - HS'),\n",
        "                  plt.bar(['poverty','lower','middle','upper middle','upper'],xtab_nw_2['AA'],color=('dodgerblue'),align='edge', width= -0.25,bottom=xtab_nw_2['ND']+xtab_nw_2['HS'],label='Nonwhite - AA'),\n",
        "                  plt.bar(['poverty','lower','middle','upper middle','upper'],xtab_nw_2['BA'],color=('royalblue'),align='edge', width= -0.25,bottom=xtab_nw_2['HS']+xtab_nw_2['ND']+xtab_nw_2['AA'],label='Nonwhite - BA'),\n",
        "                  plt.bar(['poverty','lower','middle','upper middle','upper'],xtab_nw_2['MA'],color=('blue'),align='edge', width= -0.25,bottom=xtab_nw_2['ND']+xtab_nw_2['HS']+xtab_nw_2['BA']+xtab_nw_2['AA'],label='Nonwhite - MA'),\n",
        "                  plt.bar(['poverty','lower','middle','upper middle','upper'],xtab_nw_2['HD'],color=('darkblue'),align='edge', width= -0.25,bottom=xtab_nw_2['MA']+xtab_nw_2['ND']+xtab_nw_2['HS']+xtab_nw_2['BA']+xtab_nw_2['AA'],label='Nonwhite - HD')]\n",
        "\n",
        "plt.legend(handles=[white_bar_list[0], white_bar_list[1],white_bar_list[2],white_bar_list[3],white_bar_list[4],white_bar_list[5],\n",
        "                    nonwhite_bar_list[0],nonwhite_bar_list[1],nonwhite_bar_list[2],nonwhite_bar_list[3],nonwhite_bar_list[4],nonwhite_bar_list[5]], title='Race - Degree', bbox_to_anchor=(1.05, 1), loc='upper left')"
      ],
      "execution_count": null,
      "outputs": [
        {
          "output_type": "execute_result",
          "data": {
            "text/plain": [
              "<matplotlib.legend.Legend at 0x7f1bce37f438>"
            ]
          },
          "metadata": {
            "tags": []
          },
          "execution_count": 23
        },
        {
          "output_type": "display_data",
          "data": {
            "image/png": "[encoded data removed]",
            "text/plain": [
              "<Figure size 432x288 with 1 Axes>"
            ]
          },
          "metadata": {
            "tags": [],
            "needs_background": "light"
          }
        }
      ]
    },
    {
      "cell_type": "markdown",
      "metadata": {
        "id": "8hZnQXIGNXiK"
      },
      "source": [
        "JMG Good plot, nice choices of colors.\n",
        "\n",
        "Some thought put into how to tell the story.\n",
        "\n"
      ]
    },
    {
      "cell_type": "code",
      "metadata": {
        "id": "N8QcUsHiph04"
      },
      "source": [
        ""
      ],
      "execution_count": null,
      "outputs": []
    },
    {
      "cell_type": "code",
      "metadata": {
        "id": "KGRkRupzoiUS"
      },
      "source": [
        "xtab_w_t=pd.crosstab(p_df_white.degrees,p_df_white.income_level,margins=True)\n",
        "xtab_nw_t=pd.crosstab(p_df_nonwhite.degrees,p_df_nonwhite.income_level,margins=True)\n"
      ],
      "execution_count": null,
      "outputs": []
    },
    {
      "cell_type": "code",
      "metadata": {
        "colab": {
          "base_uri": "https://localhost:8080/",
          "height": 297
        },
        "id": "h7rztCHlBF10",
        "outputId": "9d8d1209-3fba-4d9f-9c31-2c3ad627ce53"
      },
      "source": [
        "all_f = xtab_w_t['All'].map(lambda x: float(x))\n",
        "xtab_w_t['poverty'] = xtab_w_t['poverty']/all_f\n",
        "xtab_w_t['lower'] = xtab_w_t['lower']/all_f\n",
        "xtab_w_t['middle'] = xtab_w_t['middle']/all_f\n",
        "xtab_w_t['upper middle'] = xtab_w_t['upper middle']/all_f\n",
        "xtab_w_t['upper'] = xtab_w_t['upper']/all_f\n",
        "xtab_w_t['All'] = xtab_w_t['All']/all_f\n",
        "xtab_w_t"
      ],
      "execution_count": null,
      "outputs": [
        {
          "output_type": "execute_result",
          "data": {
            "text/html": [
              "<div>\n",
              "<style scoped>\n",
              "    .dataframe tbody tr th:only-of-type {\n",
              "        vertical-align: middle;\n",
              "    }\n",
              "\n",
              "    .dataframe tbody tr th {\n",
              "        vertical-align: top;\n",
              "    }\n",
              "\n",
              "    .dataframe thead th {\n",
              "        text-align: right;\n",
              "    }\n",
              "</style>\n",
              "<table border=\"1\" class=\"dataframe\">\n",
              "  <thead>\n",
              "    <tr style=\"text-align: right;\">\n",
              "      <th>income_level</th>\n",
              "      <th>lower</th>\n",
              "      <th>middle</th>\n",
              "      <th>poverty</th>\n",
              "      <th>upper</th>\n",
              "      <th>upper middle</th>\n",
              "      <th>All</th>\n",
              "    </tr>\n",
              "    <tr>\n",
              "      <th>degrees</th>\n",
              "      <th></th>\n",
              "      <th></th>\n",
              "      <th></th>\n",
              "      <th></th>\n",
              "      <th></th>\n",
              "      <th></th>\n",
              "    </tr>\n",
              "  </thead>\n",
              "  <tbody>\n",
              "    <tr>\n",
              "      <th>AA</th>\n",
              "      <td>0.615564</td>\n",
              "      <td>0.129183</td>\n",
              "      <td>0.250584</td>\n",
              "      <td>0.003113</td>\n",
              "      <td>0.001556</td>\n",
              "      <td>1.0</td>\n",
              "    </tr>\n",
              "    <tr>\n",
              "      <th>BA</th>\n",
              "      <td>0.554577</td>\n",
              "      <td>0.266901</td>\n",
              "      <td>0.161268</td>\n",
              "      <td>0.014437</td>\n",
              "      <td>0.002817</td>\n",
              "      <td>1.0</td>\n",
              "    </tr>\n",
              "    <tr>\n",
              "      <th>HD</th>\n",
              "      <td>0.480176</td>\n",
              "      <td>0.288546</td>\n",
              "      <td>0.112335</td>\n",
              "      <td>0.114537</td>\n",
              "      <td>0.004405</td>\n",
              "      <td>1.0</td>\n",
              "    </tr>\n",
              "    <tr>\n",
              "      <th>HS</th>\n",
              "      <td>0.614240</td>\n",
              "      <td>0.077501</td>\n",
              "      <td>0.306057</td>\n",
              "      <td>0.002125</td>\n",
              "      <td>0.000076</td>\n",
              "      <td>1.0</td>\n",
              "    </tr>\n",
              "    <tr>\n",
              "      <th>MA</th>\n",
              "      <td>0.583104</td>\n",
              "      <td>0.258953</td>\n",
              "      <td>0.138659</td>\n",
              "      <td>0.015611</td>\n",
              "      <td>0.003673</td>\n",
              "      <td>1.0</td>\n",
              "    </tr>\n",
              "    <tr>\n",
              "      <th>ND</th>\n",
              "      <td>0.734926</td>\n",
              "      <td>0.020003</td>\n",
              "      <td>0.243488</td>\n",
              "      <td>0.001583</td>\n",
              "      <td>0.000000</td>\n",
              "      <td>1.0</td>\n",
              "    </tr>\n",
              "    <tr>\n",
              "      <th>All</th>\n",
              "      <td>0.636579</td>\n",
              "      <td>0.096817</td>\n",
              "      <td>0.260013</td>\n",
              "      <td>0.005932</td>\n",
              "      <td>0.000659</td>\n",
              "      <td>1.0</td>\n",
              "    </tr>\n",
              "  </tbody>\n",
              "</table>\n",
              "</div>"
            ],
            "text/plain": [
              "income_level     lower    middle   poverty     upper  upper middle  All\n",
              "degrees                                                                \n",
              "AA            0.615564  0.129183  0.250584  0.003113      0.001556  1.0\n",
              "BA            0.554577  0.266901  0.161268  0.014437      0.002817  1.0\n",
              "HD            0.480176  0.288546  0.112335  0.114537      0.004405  1.0\n",
              "HS            0.614240  0.077501  0.306057  0.002125      0.000076  1.0\n",
              "MA            0.583104  0.258953  0.138659  0.015611      0.003673  1.0\n",
              "ND            0.734926  0.020003  0.243488  0.001583      0.000000  1.0\n",
              "All           0.636579  0.096817  0.260013  0.005932      0.000659  1.0"
            ]
          },
          "metadata": {
            "tags": []
          },
          "execution_count": 25
        }
      ]
    },
    {
      "cell_type": "code",
      "metadata": {
        "colab": {
          "base_uri": "https://localhost:8080/",
          "height": 297
        },
        "id": "3QT1pDy5Bjf3",
        "outputId": "3746cb79-09de-4b88-bcdb-fc5f96d3331a"
      },
      "source": [
        "all_f = xtab_nw_t['All'].map(lambda x: float(x))\n",
        "xtab_nw_t['poverty'] = xtab_nw_t['poverty']/all_f\n",
        "xtab_nw_t['lower'] = xtab_nw_t['lower']/all_f\n",
        "xtab_nw_t['middle'] = xtab_nw_t['middle']/all_f\n",
        "xtab_nw_t['upper middle'] = xtab_nw_t['upper middle']/all_f\n",
        "xtab_nw_t['upper'] = xtab_nw_t['upper']/all_f\n",
        "xtab_nw_t['All'] = xtab_nw_t['All']/all_f\n",
        "xtab_w_t"
      ],
      "execution_count": null,
      "outputs": [
        {
          "output_type": "execute_result",
          "data": {
            "text/html": [
              "<div>\n",
              "<style scoped>\n",
              "    .dataframe tbody tr th:only-of-type {\n",
              "        vertical-align: middle;\n",
              "    }\n",
              "\n",
              "    .dataframe tbody tr th {\n",
              "        vertical-align: top;\n",
              "    }\n",
              "\n",
              "    .dataframe thead th {\n",
              "        text-align: right;\n",
              "    }\n",
              "</style>\n",
              "<table border=\"1\" class=\"dataframe\">\n",
              "  <thead>\n",
              "    <tr style=\"text-align: right;\">\n",
              "      <th>income_level</th>\n",
              "      <th>lower</th>\n",
              "      <th>middle</th>\n",
              "      <th>poverty</th>\n",
              "      <th>upper</th>\n",
              "      <th>upper middle</th>\n",
              "      <th>All</th>\n",
              "    </tr>\n",
              "    <tr>\n",
              "      <th>degrees</th>\n",
              "      <th></th>\n",
              "      <th></th>\n",
              "      <th></th>\n",
              "      <th></th>\n",
              "      <th></th>\n",
              "      <th></th>\n",
              "    </tr>\n",
              "  </thead>\n",
              "  <tbody>\n",
              "    <tr>\n",
              "      <th>AA</th>\n",
              "      <td>0.615564</td>\n",
              "      <td>0.129183</td>\n",
              "      <td>0.250584</td>\n",
              "      <td>0.003113</td>\n",
              "      <td>0.001556</td>\n",
              "      <td>1.0</td>\n",
              "    </tr>\n",
              "    <tr>\n",
              "      <th>BA</th>\n",
              "      <td>0.554577</td>\n",
              "      <td>0.266901</td>\n",
              "      <td>0.161268</td>\n",
              "      <td>0.014437</td>\n",
              "      <td>0.002817</td>\n",
              "      <td>1.0</td>\n",
              "    </tr>\n",
              "    <tr>\n",
              "      <th>HD</th>\n",
              "      <td>0.480176</td>\n",
              "      <td>0.288546</td>\n",
              "      <td>0.112335</td>\n",
              "      <td>0.114537</td>\n",
              "      <td>0.004405</td>\n",
              "      <td>1.0</td>\n",
              "    </tr>\n",
              "    <tr>\n",
              "      <th>HS</th>\n",
              "      <td>0.614240</td>\n",
              "      <td>0.077501</td>\n",
              "      <td>0.306057</td>\n",
              "      <td>0.002125</td>\n",
              "      <td>0.000076</td>\n",
              "      <td>1.0</td>\n",
              "    </tr>\n",
              "    <tr>\n",
              "      <th>MA</th>\n",
              "      <td>0.583104</td>\n",
              "      <td>0.258953</td>\n",
              "      <td>0.138659</td>\n",
              "      <td>0.015611</td>\n",
              "      <td>0.003673</td>\n",
              "      <td>1.0</td>\n",
              "    </tr>\n",
              "    <tr>\n",
              "      <th>ND</th>\n",
              "      <td>0.734926</td>\n",
              "      <td>0.020003</td>\n",
              "      <td>0.243488</td>\n",
              "      <td>0.001583</td>\n",
              "      <td>0.000000</td>\n",
              "      <td>1.0</td>\n",
              "    </tr>\n",
              "    <tr>\n",
              "      <th>All</th>\n",
              "      <td>0.636579</td>\n",
              "      <td>0.096817</td>\n",
              "      <td>0.260013</td>\n",
              "      <td>0.005932</td>\n",
              "      <td>0.000659</td>\n",
              "      <td>1.0</td>\n",
              "    </tr>\n",
              "  </tbody>\n",
              "</table>\n",
              "</div>"
            ],
            "text/plain": [
              "income_level     lower    middle   poverty     upper  upper middle  All\n",
              "degrees                                                                \n",
              "AA            0.615564  0.129183  0.250584  0.003113      0.001556  1.0\n",
              "BA            0.554577  0.266901  0.161268  0.014437      0.002817  1.0\n",
              "HD            0.480176  0.288546  0.112335  0.114537      0.004405  1.0\n",
              "HS            0.614240  0.077501  0.306057  0.002125      0.000076  1.0\n",
              "MA            0.583104  0.258953  0.138659  0.015611      0.003673  1.0\n",
              "ND            0.734926  0.020003  0.243488  0.001583      0.000000  1.0\n",
              "All           0.636579  0.096817  0.260013  0.005932      0.000659  1.0"
            ]
          },
          "metadata": {
            "tags": []
          },
          "execution_count": 26
        }
      ]
    },
    {
      "cell_type": "code",
      "metadata": {
        "id": "F_o_Su7mBu7B"
      },
      "source": [
        "xtab_w_t = xtab_w_t.drop(['All'], axis=0)\n",
        "xtab_w_t = xtab_w_t.drop(['All'], axis=1)"
      ],
      "execution_count": null,
      "outputs": []
    },
    {
      "cell_type": "code",
      "metadata": {
        "id": "Y9ZrMGptB0Ln"
      },
      "source": [
        "xtab_nw_t = xtab_nw_t.drop(['All'], axis=0)\n",
        "xtab_nw_t = xtab_nw_t.drop(['All'], axis=1)"
      ],
      "execution_count": null,
      "outputs": []
    },
    {
      "cell_type": "code",
      "metadata": {
        "colab": {
          "base_uri": "https://localhost:8080/",
          "height": 282
        },
        "id": "XzbkUn1BB3ot",
        "outputId": "3f4d4c93-ac16-4b6d-8124-bd4154bf5159"
      },
      "source": [
        "white_bar_list_t = [plt.bar(['ND','HS','AA','BA','MA','HD'],xtab_w_t['poverty'],color=('lightcoral'),align='edge', width= 0.25,label='White - Poverty'),\n",
        "                  plt.bar(['ND','HS','AA','BA','MA','HD'],xtab_w_t['lower'],color=('indianred'),align='edge', width= 0.25,bottom=xtab_w_t['poverty'],label='White - Lower'),\n",
        "                  plt.bar(['ND','HS','AA','BA','MA','HD'],xtab_w_t['middle'],color=('red'),align='edge', width= 0.25,bottom=xtab_w_t['poverty']+xtab_w_t['lower'],label='White - Middle'),\n",
        "                  plt.bar(['ND','HS','AA','BA','MA','HD'],xtab_w_t['upper middle'],color=('firebrick'),align='edge', width= 0.25,bottom=xtab_w_t['poverty']+xtab_w_t['lower']+xtab_w_t['middle'],label='White - Upper Middle'),\n",
        "                  plt.bar(['ND','HS','AA','BA','MA','HD'],xtab_w_t['upper'],color=('brown'),align='edge', width= 0.25,bottom=xtab_w_t['poverty']+xtab_w_t['lower']+xtab_w_t['middle']+xtab_w_t['upper middle'],label='White - Upper'),\n",
        "                  ]\n",
        "\n",
        "nonwhite_bar_list_t = [plt.bar(['ND','HS','AA','BA','MA','HD'],xtab_nw_t['poverty'],color=('lightsteelblue'),align='edge', width= -0.25,label='Nonwhite - Poverty'),\n",
        "                  plt.bar(['ND','HS','AA','BA','MA','HD'],xtab_nw_t['lower'],color=('cornflowerblue'),align='edge', width= -0.25,bottom=xtab_nw_t['poverty'],label='Nonwhite - Lower'),\n",
        "                  plt.bar(['ND','HS','AA','BA','MA','HD'],xtab_nw_t['middle'],color=('dodgerblue'),align='edge', width= -0.25,bottom=xtab_nw_t['poverty']+xtab_nw_t['lower'],label='Nonwhite - Middle'),\n",
        "                  plt.bar(['ND','HS','AA','BA','MA','HD'],xtab_nw_t['upper middle'],color=('royalblue'),align='edge', width= -0.25,bottom=xtab_nw_t['poverty']+xtab_nw_t['lower']+xtab_nw_t['middle'],label='Nonwhite - Upper Middle'),\n",
        "                  plt.bar(['ND','HS','AA','BA','MA','HD'],xtab_nw_t['upper'],color=('blue'),align='edge', width= -0.25,bottom=xtab_nw_t['poverty']+xtab_nw_t['lower']+xtab_nw_t['middle']+xtab_nw_t['upper middle'],label='Nonwhite - Upper'),\n",
        "                  ]\n",
        "\n",
        "plt.legend(handles=[white_bar_list_t[0], white_bar_list_t[1],white_bar_list_t[2],white_bar_list_t[3],white_bar_list_t[4],\n",
        "                    nonwhite_bar_list_t[0],nonwhite_bar_list_t[1],nonwhite_bar_list_t[2],nonwhite_bar_list_t[3],nonwhite_bar_list_t[4]], title='Race - Income', bbox_to_anchor=(1.05, 1), loc='upper left')"
      ],
      "execution_count": null,
      "outputs": [
        {
          "output_type": "execute_result",
          "data": {
            "text/plain": [
              "<matplotlib.legend.Legend at 0x7f1bce202278>"
            ]
          },
          "metadata": {
            "tags": []
          },
          "execution_count": 29
        },
        {
          "output_type": "display_data",
          "data": {
            "image/png": "[encoded data removed]",
            "text/plain": [
              "<Figure size 432x288 with 1 Axes>"
            ]
          },
          "metadata": {
            "tags": [],
            "needs_background": "light"
          }
        }
      ]
    }
  ]
}