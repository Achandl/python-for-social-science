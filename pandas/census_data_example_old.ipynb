{
 "metadata": {
  "name": ""
 },
 "nbformat": 3,
 "nbformat_minor": 0,
 "worksheets": [
  {
   "cells": [
    {
     "cell_type": "heading",
     "level": 1,
     "metadata": {},
     "source": [
      "Introduction to PUMS Notebook"
     ]
    },
    {
     "cell_type": "markdown",
     "metadata": {},
     "source": [
      "The U.S. Census website  contains numerous kinds of demographic  data about the United States.  In this section we focus on data collected in surveys conducted during the decennial  census, which is distinct from the more frequently collected American Community Survey data.  More especifically, we will  confine our attention to the [Census 2000 PUMS data](http://www2.census.gov/census_2000/datasets/PUMS/>). PUMS  stands for **Public Use Microdata Samples**.  It is called *Microdata* because the the records contain information about one person or one household.\n",
      "\n",
      "The discussion below assumes you have visited the PUMS ages on the Census Bureau site and downloaded at least two files, `revisedpums1_alabama.txt` and the data dictionary available in the Excel workbooks, `5%_PUMS_record_layout.xls`.  For more details see the book draft chapter on data, especially the section on PUMS data.  You also need the Python module `read_in_census_data`, which can also be downloaded from a link in the PUMS data section of the book draft."
     ]
    },
    {
     "cell_type": "heading",
     "level": 2,
     "metadata": {},
     "source": [
      "Reading in the data dictionary"
     ]
    },
    {
     "cell_type": "markdown",
     "metadata": {},
     "source": [
      "First you need to import the `read_in_census_data` module and read in the data dictionary in\n",
      "the Census web site Excel sheet."
     ]
    },
    {
     "cell_type": "code",
     "collapsed": false,
     "input": [
      "from read_in_census_data import CensusInfo, DataFrameWrapper\n",
      "\n",
      "one_percent_data_file = 'revisedpums1_alabama_01.txt'\n",
      "data_dictionary = '5%_PUMS_record_layout.xls'\n",
      "ci = CensusInfo (data_dictionary)"
     ],
     "language": "python",
     "metadata": {},
     "outputs": [
      {
       "output_type": "stream",
       "stream": "stdout",
       "text": [
        "Processing 'Housing Unit Record' Sheet\n",
        "\n",
        "Processing 'Person Record' Sheet\n",
        "\n"
       ]
      }
     ],
     "prompt_number": 1
    },
    {
     "cell_type": "markdown",
     "metadata": {},
     "source": [
      "You can now access information about various variable in the Census data.  You need to supply the variable name (or a legal synonym), the record type (person or household) and the file type (15 or 5%).   Below we look at information for the 'RELATE'\n",
      "variable, which defines the relationship of a parson to the head of the household.  This is a person record variable (`ci.record_types[1]`) in a 1% file (`ci.file_types[1]`)."
     ]
    },
    {
     "cell_type": "code",
     "collapsed": false,
     "input": [
      "    ci.print_var_info('RELATE',ci.record_types[1],ci.file_types[1])"
     ],
     "language": "python",
     "metadata": {},
     "outputs": [
      {
       "output_type": "stream",
       "stream": "stdout",
       "text": [
        "Person Record RELATE 1% file {u'RT': u'P', u'BEG': 17, u'LEN': 2, u'DESCRIPTION': u'Relationship'}\n",
        "\n",
        "     Relationship\n",
        "     ============\n",
        "     01  Householder\n",
        "     02  Husband/wife\n",
        "     03  Natural born son/daughter\n",
        "     04  Adopted son/daughter\n",
        "     05  Stepson/Stepdaughter\n",
        "     06  Brother/sister\n",
        "     07  Father/mother\n",
        "     08  Grandchild\n",
        "     09  Parent-in-law\n",
        "     10  Son-in-law/daughter-in-law\n",
        "     11  Other relative\n",
        "     12  Brother-in-law/sister-in-law\n",
        "     13  Nephew/niece\n",
        "     14  Grandparent\n",
        "     15  Uncle/aunt\n",
        "     16  Cousin\n",
        "     17  Roomer/boarder\n",
        "     18  Housemate/roommate\n",
        "     19  Unmarried partner\n",
        "     20  Foster child\n",
        "     21  Other nonrelative\n",
        "     22  Institutionalized GQ person\n",
        "     23  Noninstitutionalized GQ person\n",
        "\n"
       ]
      }
     ],
     "prompt_number": 2
    },
    {
     "cell_type": "markdown",
     "metadata": {},
     "source": [
      "In the next code snippet, we get a sample line from the alabama file:"
     ]
    },
    {
     "cell_type": "code",
     "collapsed": false,
     "input": [
      "    line = ci.get_sample_record_from_db (one_percent_data_file)"
     ],
     "language": "python",
     "metadata": {},
     "outputs": [
      {
       "output_type": "stream",
       "stream": "stdout",
       "text": [
        "Opening revisedpums1_alabama_01.txt\n",
        "P00001170100014001000010310010110000010147010100100012099999904200000 000101000000300010     01400  70    9997    9997202020202020220000020011000000020031000010     01400  70    9997    9997010100370010000000108190622     313029-1111201052045004730000000000-01500000000000000000000000000000000000004580000047300501\n"
       ]
      }
     ],
     "prompt_number": 23
    },
    {
     "cell_type": "markdown",
     "metadata": {},
     "source": [
      "The next code snippets print info about various variables:"
     ]
    },
    {
     "cell_type": "code",
     "collapsed": false,
     "input": [
      "    #To get info about a DB variable, 3 things must be specfied\n",
      "    # file type (1 per cent or 5 per cent), record type (person or household)\n",
      "    # and the variable name (column name)\n",
      "    (var0,record_type, file_type) = ('RELATE',ci.record_types[1],ci.file_types[1])\n",
      "    # To get avilable info about the VALUE of a variable (usually an opaque code)\n",
      "    # Get the val of this variable for this line\n",
      "    val = ci.get_db_val(line, var0, record_type)\n",
      "    var_values_info = ci.variable_values_dictionary[record_type][(var0,file_type)]\n",
      "    \n",
      "    # Print some of the info just retrieved.\n",
      "    print var0,  record_type, val, var_values_info[val]\n",
      "\n",
      "    #ci.print_var_info ('EDUC', ci.person_record)\n",
      "    ci.print_var_info ('education', ci.person_record)\n",
      "    #ci.print_var_info ('RACE3', ci.person_record)\n",
      "    ci.print_var_info ('race', ci.person_record)\n",
      "    ci.print_var_info ('income', ci.person_record)\n",
      "\n",
      "    # Common to both household and person records, links them\n",
      "\n",
      "    ci.print_var_info('serial_no',ci.household_record)\n",
      "\n",
      "    ci.print_var_info('serial_no',ci.person_record)\n",
      "\n",
      "    ci.print_var_info('num_persons',ci.household_record)\n",
      "\n",
      "    try:\n",
      "        ci.print_var_info('num_persons',ci.person_record)\n",
      "    except Exception as e:\n",
      "        print e.message"
     ],
     "language": "python",
     "metadata": {},
     "outputs": []
    },
    {
     "cell_type": "heading",
     "level": 2,
     "metadata": {},
     "source": [
      "Use the following code to pick out some variables of interest."
     ]
    },
    {
     "cell_type": "code",
     "collapsed": false,
     "input": [
      "\n",
      "for rt in ci.record_types:\n",
      "    print rt\n",
      "    print '=' * len(rt)\n",
      "    print\n",
      "    rt_dict = ci.data_dictionary[rt]\n",
      "    banner = '%-5s %14s  %s' % ('Var', 'Synonym', 'Description')\n",
      "    print banner\n",
      "    print '=' * len(banner)\n",
      "    print\n",
      "    for var in sorted(rt_dict.keys()):\n",
      "        syns = ', '.join(ci.backward_syns[var])\n",
      "        print '%-9s %10s  %s' % (var, syns, rt_dict[var]['DESCRIPTION'])\n",
      "    print"
     ],
     "language": "python",
     "metadata": {},
     "outputs": [
      {
       "output_type": "stream",
       "stream": "stdout",
       "text": [
        "Housing Unit Record\n",
        "===================\n",
        "\n",
        "Var          Synonym  Description\n",
        "=================================\n",
        "\n",
        "ACRES                 Acreage\n",
        "ACRESA                Acreage Allocation Flag\n",
        "AGSALES               Sales of Agricultural Products in 1999\n",
        "AGSALESA              Sales of Agricultural Products in 1999 Allocation Flag\n",
        "AREATYP1              Metropolitan Area: SuperPUMA Relationship to MA\n",
        "AREATYP5              Metropolitan Area: PUMA Relationship to MA\n",
        "BEDRMS                Number of Bedrooms\n",
        "BEDRMSA               Number of Bedrooms Allocation Flag\n",
        "BLDGSZ                Size of Building\n",
        "BLDGSZA               Size of Building Allocation Flag\n",
        "BUSINES               Commercial Business on Property\n",
        "BUSINESA              Commercial Business on Property Allocation Flag\n",
        "CKITCH                Complete Kitchen Facilities\n",
        "CKITCHA               Complete Kitchen Facilities Allocation Flag\n",
        "CONDFEE               Condominium Fee (monthly)\n",
        "CONDFEEA              Condominium Fee (monthly) Allocation Flag\n",
        "CPLUMB                Complete Plumbing Facilities\n",
        "CPLUMBA               Complete Plumbing Facilities Allocation Flag\n",
        "DIVISION              Division Code\n",
        "ELEC                  Cost of Electricity (annual)\n",
        "ELECA                 Cost of Electricity (annual) Allocation Flag\n",
        "EMPSTAT               Family Type and Employment Status\n",
        "FINC                  Family Total Income in 1999\n",
        "FINC                  Family Total Income in 1999\n",
        "FNF                   Farm/Nonfarm Recode\n",
        "FUEL                  Heating Fuel\n",
        "FUELA                 Heating Fuel Allocation Flag\n",
        "GAS                   Cost of Gas (annual)\n",
        "GASA                  Cost of Gas (annual) Allocation Flag\n",
        "GRAPI                 Gross Rent as a Percentage of Household Income\n",
        "GRENT                 Gross Rent\n",
        "HAUG                  Augmentation Flag\n",
        "HHL                   Household Language\n",
        "HHT                   Household/Family Type\n",
        "HINC                  Household Total Income in 1999\n",
        "HINC                  Household Total Income in 1999\n",
        "HSUB                  Substitution Flag\n",
        "HWEIGHT               Housing unit weight\n",
        "INSAMT                Property Insurance Amount (annual)\n",
        "INSAMTA               Property Insurance Amount (annual) Allocation Flag\n",
        "INSINCL               Property Insurance Status\n",
        "INSINCLA              Property Insurance Status Allocation Flag\n",
        "LNDPUMA1              Land Area of SuperPUMA\n",
        "LNDPUMA5              Land Area of PUMA\n",
        "LNGI                  Linguistic Isolation\n",
        "MEALS                 Meals Included in Rent\n",
        "MEALSA                Meals Included in Rent Allocation Flag\n",
        "MHCOST                Mobile Home Costs\n",
        "MHCOSTA               Mobile Home Costs Allocation Flag\n",
        "MHLOAN                Mobile Home Loan Status\n",
        "MHLOANA               Mobile Home Loan Status Allocation Flag\n",
        "MORTG1                Mortgage Status\n",
        "MORTG1A               Mortgage Status Allocation Flag\n",
        "MORTG2                Second Mortgage Status\n",
        "MORTG2A               Second Mortgage Status Allocation Flag\n",
        "MRT1AMT               Mortgage Payment (monthly amount)\n",
        "MRT1AMTA              Mortgage Payment (monthly amount) Allocation Flag\n",
        "MRT2AMT               Second Mortgage Payment (monthly amount)\n",
        "MRT2AMTA              Second Mortgage Payment (monthly amount) Allocation Flag\n",
        "MSACMSA1              Metropolitan Area: MSA/CMSA for SuperPUMA\n",
        "MSACMSA5              Metropolitan Area (MA): MSA/CMSA for PUMA\n",
        "MSAPMSA1              Metropolitan Area: MSA/PMSA for SuperPUMA\n",
        "MSAPMSA5              Metropolitan Area: MSA/PMSA for PUMA\n",
        "NOC                   Number of own children under 18 years in household\n",
        "NPF                   Number of people in family\n",
        "NRC                   Number of related children under 18 years in household\n",
        "OIL                   Cost of Oil, Kerosene, or Wood (annual)\n",
        "OILA                  Cost of Oil, Kerosene, or Wood (annual) Allocation Flag\n",
        "P18                   Number of people under 18 years in household\n",
        "P65                   Number of people 65 years and over in household\n",
        "PAOC                  Presence and Age of Own Children under 18 years\n",
        "PARC                  Presence and Age of Related Children under 18 years\n",
        "PERSONS   num_persons  Number of person records following this housing record\n",
        "PHONE                 Telephone Availability\n",
        "PHONEA                Telephone Availability Allocation Flag\n",
        "PSF                   Presence of Subfamily in Household\n",
        "PUMA1                 Super Public Use Microdata Area Code (SuperPUMA)\n",
        "PUMA5                 Public Use Microdata Area Code (PUMA)\n",
        "RECTYPE               Record Type\n",
        "REGION                Region  Code\n",
        "RENT                  Monthly Rent\n",
        "RENTA                 Monthly Rent Allocation Flag\n",
        "ROOMS                 Number of Rooms\n",
        "ROOMSA                Number of Rooms Allocation Flag\n",
        "SAMPLE                Sample Identifier\n",
        "SERIALNO   serial_no  Housing/Group Quarters (GQ) Unit Serial Number\n",
        "SMOC                  Selected Monthly Owner Costs\n",
        "SMOC                  Selected Monthly Owner Costs\n",
        "SMOCAPI               Selected Monthly Owner Costs as a Percentage of Household Income\n",
        "SRNT                  Specified Rent Indicator\n",
        "STATE                 State Code\n",
        "SUBSAMPL              Subsample number\n",
        "SVAL                  Specified Value Indicator\n",
        "TAXAMT                Property Tax Amount (annual)\n",
        "TAXAMTA               Property Tax Amount (annual) Allocation Flag\n",
        "TAXINCL               Property Tax Status\n",
        "TAXINCLA              Property Tax Status Allocation Flag\n",
        "TENURE                Home Ownership\n",
        "TENUREA               Home Ownership Allocation Flag\n",
        "TOTPUMA1              Total Area of SuperPUMA\n",
        "TOTPUMA5              Total Area of PUMA\n",
        "UNITTYPE              Type of unit\n",
        "VACSTAT               Vacancy Status\n",
        "VACSTATA              Vacancy Status Allocation Flag\n",
        "VALUE                 Property Value\n",
        "VALUEA                Property Value Allocation Flag\n",
        "VEHICL                Number of Vehicles Available\n",
        "VEHICLA               Number of Vehicles Available Allocation Flag\n",
        "WATER                 Cost of Water and Sewer (annual)\n",
        "WATERA                Cost of Water and Sewer (annual) Allocation Flag\n",
        "WIF                   Number of workers in family\n",
        "WORKEXP               Family Type and Work Experience of Householder\n",
        "YRBUILT               Year Building Built\n",
        "YRBUILTA              Year Building Built Allocation Flag\n",
        "YRMOVED               Year Moved In\n",
        "YRMOVEDA              Year Moved In Allocation Flag\n",
        "\n",
        "Person Record\n",
        "=============\n",
        "\n",
        "Var          Synonym  Description\n",
        "=================================\n",
        "\n",
        "ABGO                  Able to Go Out Disability\n",
        "ABGOA                 Able to Go Out Disability Allocation Flag\n",
        "ABSENT                Absent from Work\n",
        "ABWORK                Employment Disability\n",
        "ABWORKA               Employment Disability Allocation Flag\n",
        "AGE              age  Age\n",
        "AGEA                  Age Allocation Flag\n",
        "AIAN                  American Indian and Alaska Native recode\n",
        "ANCA                  Ancestry Allocation Flag\n",
        "ANCFRST1              Ancestry Code 1 for 1% file\n",
        "ANCFRST5              Ancestry Code 1 for 5% file\n",
        "ANCR                  Ancestry Recode\n",
        "ANCSCND1              Ancestry Code 2 for 1% file\n",
        "ANCSCND5              Ancestry Code 2 for 5% file\n",
        "ASIAN          asian  Asian recode\n",
        "BACKWRK               Back to Work\n",
        "BLACK          black  Black or African American recode\n",
        "CARPOOL               Vehicle Occupancy\n",
        "CARPOOLA              Vehicle Occupancy Allocation Flag\n",
        "CITIZEN      citizen  Citizenship Status \n",
        "CITIZENA              Citizenship Status Allocation Flag\n",
        "CLWKR                 Class of Worker\n",
        "CLWKRA                Class of Worker Allocation Flag\n",
        "DDP                   Data-defined Person Flag\n",
        "DISABLE               Disability Recode\n",
        "EARNS                 Person's Total Earnings in 1999\n",
        "EDUC       education  Educational Attainment\n",
        "EDUCA                 Educational Attainment Allocation Flag\n",
        "ENGABIL   nonnative_speaker  English Ability \n",
        "ENGABILA              English Ability Allocation Flag\n",
        "ENROLL                School Enrollment; Attended since February 1, 2000\n",
        "ENROLLA               School Enrollment: Attended since February 1, 2000 Allocation Flag\n",
        "ESP                   Employment Status of Parent(s)\n",
        "ESR                   Employment Status Recode\n",
        "ESRA                  Employment Status Allocation Flag\n",
        "FILLER                \n",
        "GRADE                 School Enrollment: Grade Level Attending\n",
        "GRADEA                School Enrollment: Grade Level Attending Allocation Flag\n",
        "GRANDC                Presence of Grandchildren under 18 years\n",
        "GRANDCA               Presence of Grandchildren under 18 years Allocation Flag\n",
        "HISPAN                Hispanic or Latino Origin\n",
        "HISPANA               Hispanic or Latino Origin Allocation Flag\n",
        "HOURS                 Hours per Week in 1999\n",
        "HOURSA                Hours per Week in 1999 Allocation Flag\n",
        "HOWLONG               Length of Responsibility for Grandchildren\n",
        "HOWLONGA              Length of Responsibility for Grandchildren Allocation Flag\n",
        "INCINT                Interest Income in 1999\n",
        "INCINTA               Interest Income in 1999 Allocation Flag\n",
        "INCOTH                Other Income in 1999\n",
        "INCOTHA               Other Income in 1999 Allocation Flag\n",
        "INCPA                 Public Assistance Income in 1999\n",
        "INCPAA                Public Assistance Income in 1999 Allocation Flag\n",
        "INCRET                Retirement Income in 1999\n",
        "INCRETA               Retirement Income in 1999 Allocation Flag\n",
        "INCSE                 Self-Employment Income in 1999\n",
        "INCSEA                Self-Employment Income in 1999 Allocation Flag\n",
        "INCSS                 Social Security Income in 1999\n",
        "INCSSA                Social Security Income in 1999 Allocation Flag\n",
        "INCSSI                Supplemental Security Income in 1999\n",
        "INCSSIA               Supplemental Security Income in 1999 Allocation Flag\n",
        "INCTOT                Person's Total Income in 1999\n",
        "INCTOTA               Person's Total Income in 1999 Allocation Flag\n",
        "INCWS         income  Wage/Salary Income in 1999\n",
        "INCWSA                Wage/Salary Income in 1999 Allocation Flag\n",
        "INDCEN                Industry (Census)\n",
        "INDCENA               Industry (Census) Allocation Flag\n",
        "INDNAICS              Industry (NAICS)\n",
        "LANG1      language1  Language Spoken for 1% file\n",
        "LANG5      language5  Language Spoken for 5% file\n",
        "LANGA                 Language Spoken Allocation Flag\n",
        "LASTWRK               Year Last Worked\n",
        "LASTWRKA              Year Last Worked Allocation Flag\n",
        "LAYOFF                Layoff from Job\n",
        "LOOKWRK               Looking for Work\n",
        "LVTIME                Time Leaving for Work\n",
        "LVTIMEA               Time Leaving for Work Allocation Flag\n",
        "MARSTAT      married  Marital Status\n",
        "MARSTATA              Marital Status Allocation Flag\n",
        "MENTAL                Mental Disability\n",
        "MENTALA               Mental Disability Allocation Flag\n",
        "MIGAREA1              Migration SuperPUMA Relationship to MA\n",
        "MIGAREA5              Migration PUMA Relationship to MA\n",
        "MIGCMA1               Migration MA: MSA/CMSA for Migration SuperPUMA\n",
        "MIGCMA5               Migration MA: MSA/CMSA for Migration PUMA\n",
        "MIGPMA1               Migration MA: MSA/PMSA for Migration SuperPUMA\n",
        "MIGPMA5               Migration MA: MSA/PMSA for Migration PUMA\n",
        "MIGPUMA1              Migration SuperPUMA\n",
        "MIGPUMA5              Migration PUMA\n",
        "MIGST1                Migration State or Foreign Country Code for 1% file\n",
        "MIGST5                Migration State or Foreign Country Code for 5% file\n",
        "MIGSTA                Migration State or Foreign County Code Allocation Flag\n",
        "MILTARY               Military Service \n",
        "MILTARYA              Military Service Allocation Flag\n",
        "MILYRS                Years of Military Service\n",
        "MILYRSA               Years of Military Service Allocation Flag\n",
        "MOB                   Residence 5 Years Ago\n",
        "MOBA                  Residence 5 Years Ago Allocation Flag\n",
        "MSP                   Married, Spouse Present Recode\n",
        "NHPI                  Native and Other Pacific Islander recode\n",
        "NUMRACE               Number of Major Race Groups Marked\n",
        "OC                    Own Child Indicator\n",
        "OCCCEN1               Occupation (Census) for 1% file\n",
        "OCCCEN5               Occupation (Census) for 5% file\n",
        "OCCCENA               Occupation (Census) Allocation Flag\n",
        "OCCSOC1               Occupation (SOC) for 1% file\n",
        "OCCSOC5               Occupation (SOC) for 5% file\n",
        "OTHER                 Some other race recode\n",
        "PAOCF                 Presence and Age of Own Children, Females\n",
        "PAUG                  Augmented Person Flag\n",
        "PHYSCL                Physical Disability\n",
        "PHYSCLA               Physical Disability Allocation Flag\n",
        "PNUM                  Person Sequence Number\n",
        "POB1                  Place of Birth for 1% file\n",
        "POB5                  Place of Birth for 5% file\n",
        "POBA                  Place of Birth Allocation Flag\n",
        "POVERTY               Person's Poverty Status\n",
        "POWAREA1              Place of Work SuperPUMA Relationship to MA\n",
        "POWAREA5              Place of Work PUMA Relationship to MA\n",
        "POWCMA1               Place of Work MA: MSA/CMSA for Place of Work SuperPUMA\n",
        "POWCMA5               Place of Work MA: MSA/CMSA for Place of Work PUMA\n",
        "POWPMA1               Place of Work MA: MSA/PMSA for Place of Work SuperPUMA\n",
        "POWPMA5               Place of Work MA: MSA/PMSA for Place of Work PUMA\n",
        "POWPUMA1              Place of Work SuperPUMA\n",
        "POWPUMA5              Place of Work PUMA\n",
        "POWST1                Place of Work State or Foreign Country Code for 1% file\n",
        "POWST5                Place of Work State or Foreign Country Code for 5% file\n",
        "POWSTA                Place of Work State or Foreign Country Code Allocation Flag\n",
        "PWEIGHT               Person Weight\n",
        "RACE1                 Race Recode 1\n",
        "RACE2                 Race Recode 2\n",
        "RACE3           race  Race Recode 3\n",
        "RACEA                 Race Allocation Flag\n",
        "RC                    Related Child Indicator\n",
        "RECALL                Return-to-Work Recall\n",
        "RECTYPE               Record Type\n",
        "RELATE    relationship  Relationship\n",
        "RELATEA               Relationship Allocation Flag\n",
        "RSPNSBL               Responsible for Grandchildren\n",
        "RSPNSBLA              Responsible for Grandchildren Allocation Flag\n",
        "SENSORY               Sensory Disability\n",
        "SENSORYA              Sensory Disability Allocation Flag\n",
        "SERIALNO   serial_no  Housing/Group Quarters (GQ) Unit Serial Number\n",
        "SEX           gender  Sex\n",
        "SEXA                  Sex Allocation Flag\n",
        "SFN                   Subfamily Number for this person\n",
        "SFREL                 Subfamily Relationship\n",
        "SLFCARE               Self-Care Disability\n",
        "SLFCAREA              Self-Care Disability Allocation Flag\n",
        "SPEAK                 Non-English Language\n",
        "SPEAKA                Non-English Language Allocation Flag\n",
        "TRVMNS                Means of Transportation to Work\n",
        "TRVMNSA               Means of Transportation to Work Allocation Flag\n",
        "TRVTIME               Travel Time to Work\n",
        "TRVTIMEA              Travel Time to Work Allocation Flag\n",
        "VPS1                  Veteran's Period of Service 1:  On active duty April 1995 or later\n",
        "VPS2                  Veteran's Period of Service 2:  On active duty August 1990 to March 1995 (including Persian Gulf War)\n",
        "VPS3                  Veteran's Period of Service 3:  On active duty September 1980 to July 1990\n",
        "VPS4                  Veteran's Period of Service 4:  On active duty May 1975 to August 1980\n",
        "VPS5                  Veteran's Period of Service 5: On active duty during the Vietnam Era (August 1964 to April 1975)\n",
        "VPS6                  Veteran's Period of Service 6:  On active duty February 1955 to July 1964\n",
        "VPS7                  Veteran's Period of Service 7:  On active duty during the Korean War (June 1950 to January 1955)\n",
        "VPS8                  Veteran's Period of Service 8:  On active duty during World War II (September 1940 to July 1947)\n",
        "VPS9                  Veteran's Period of Service 9: On active duty any other time\n",
        "VPSA                  Veteran's Period of Service Allocation Flag\n",
        "VPSR                  Veteran's Period of Service Recode\n",
        "WEEKS                 Weeks Worked in 1999\n",
        "WEEKSA                Weeks Worked in 1999 Allocation Flag\n",
        "WHITE          white  White recode\n",
        "WRKLYR                Worked in 1999\n",
        "WRKLYRA               Worked in 1999 Allocation Flag\n",
        "YR2US                 Year of Entry to United States\n",
        "YR2USA                Year of Entry to United States Allocation Flag\n",
        "\n"
       ]
      }
     ],
     "prompt_number": 17
    },
    {
     "cell_type": "heading",
     "level": 2,
     "metadata": {},
     "source": [
      "Learn more about the values of variable of interest with the following code."
     ]
    },
    {
     "cell_type": "markdown",
     "metadata": {},
     "source": [
      "But remember you have to get the record type right.  The following fails because \"INCWS\" (Wage/salaray income) is not\n",
      "a variable for HOUSHOLD records."
     ]
    },
    {
     "cell_type": "code",
     "collapsed": false,
     "input": [
      "ci.print_var_info('INCWS',ci.household_record)"
     ],
     "language": "python",
     "metadata": {},
     "outputs": [
      {
       "ename": "AssertionError",
       "evalue": "INCWS is not a known variable for a Housing Unit Record",
       "output_type": "pyerr",
       "traceback": [
        "\u001b[0;31m---------------------------------------------------------------------------\u001b[0m\n\u001b[0;31mAssertionError\u001b[0m                            Traceback (most recent call last)",
        "\u001b[0;32m<ipython-input-10-b83e0f88dcae>\u001b[0m in \u001b[0;36m<module>\u001b[0;34m()\u001b[0m\n\u001b[0;32m----> 1\u001b[0;31m \u001b[0mci\u001b[0m\u001b[0;34m.\u001b[0m\u001b[0mprint_var_info\u001b[0m\u001b[0;34m(\u001b[0m\u001b[0;34m'INCWS'\u001b[0m\u001b[0;34m,\u001b[0m\u001b[0mci\u001b[0m\u001b[0;34m.\u001b[0m\u001b[0mhousehold_record\u001b[0m\u001b[0;34m)\u001b[0m\u001b[0;34m\u001b[0m\u001b[0m\n\u001b[0m",
        "\u001b[0;32m/Users/gawron/ext/src/sphinx/python_for_ss/ipython_notebooks/read_in_census_data.pyc\u001b[0m in \u001b[0;36mprint_var_info\u001b[0;34m(self, var0, record_type, file_type)\u001b[0m\n\u001b[1;32m    453\u001b[0m             \u001b[0mfile_type\u001b[0m \u001b[0;34m=\u001b[0m \u001b[0mself\u001b[0m\u001b[0;34m.\u001b[0m\u001b[0mfile_type\u001b[0m\u001b[0;34m\u001b[0m\u001b[0m\n\u001b[1;32m    454\u001b[0m \u001b[0;34m\u001b[0m\u001b[0m\n\u001b[0;32m--> 455\u001b[0;31m         \u001b[0mnew_var0\u001b[0m \u001b[0;34m=\u001b[0m \u001b[0mself\u001b[0m\u001b[0;34m.\u001b[0m\u001b[0mcheck_record_type_field\u001b[0m\u001b[0;34m(\u001b[0m\u001b[0mrecord_type\u001b[0m\u001b[0;34m,\u001b[0m\u001b[0mvar0\u001b[0m\u001b[0;34m)\u001b[0m\u001b[0;34m\u001b[0m\u001b[0m\n\u001b[0m\u001b[1;32m    456\u001b[0m \u001b[0;34m\u001b[0m\u001b[0m\n\u001b[1;32m    457\u001b[0m         \u001b[0;34m(\u001b[0m\u001b[0mvar_info\u001b[0m\u001b[0;34m,\u001b[0m\u001b[0mvar_values_info\u001b[0m\u001b[0;34m)\u001b[0m \u001b[0;34m=\u001b[0m\u001b[0;31m \u001b[0m\u001b[0;31m\\\u001b[0m\u001b[0;34m\u001b[0m\u001b[0m\n",
        "\u001b[0;32m/Users/gawron/ext/src/sphinx/python_for_ss/ipython_notebooks/read_in_census_data.pyc\u001b[0m in \u001b[0;36mcheck_record_type_field\u001b[0;34m(self, record_type, field)\u001b[0m\n\u001b[1;32m    505\u001b[0m                       \u001b[0;34m'%s=>%s is not a known variable for a %s'\u001b[0m \u001b[0;34m%\u001b[0m \u001b[0;34m(\u001b[0m\u001b[0mfield\u001b[0m\u001b[0;34m,\u001b[0m \u001b[0mnew_field\u001b[0m\u001b[0;34m,\u001b[0m \u001b[0mrecord_type\u001b[0m\u001b[0;34m)\u001b[0m\u001b[0;34m\u001b[0m\u001b[0m\n\u001b[1;32m    506\u001b[0m             \u001b[0;32mexcept\u001b[0m \u001b[0mKeyError\u001b[0m\u001b[0;34m:\u001b[0m\u001b[0;34m\u001b[0m\u001b[0m\n\u001b[0;32m--> 507\u001b[0;31m                 \u001b[0;31m#raise Exception, '%s is not a known variable or variable synonym for a %s' % (field, record_type)\u001b[0m\u001b[0;34m\u001b[0m\u001b[0;34m\u001b[0m\u001b[0m\n\u001b[0m\u001b[1;32m    508\u001b[0m                 \u001b[0;32mraise\u001b[0m \u001b[0me\u001b[0m\u001b[0;34m\u001b[0m\u001b[0m\n\u001b[1;32m    509\u001b[0m             \u001b[0mfield\u001b[0m \u001b[0;34m=\u001b[0m \u001b[0mnew_field\u001b[0m\u001b[0;34m\u001b[0m\u001b[0m\n",
        "\u001b[0;31mAssertionError\u001b[0m: INCWS is not a known variable for a Housing Unit Record"
       ]
      }
     ],
     "prompt_number": 10
    },
    {
     "cell_type": "code",
     "collapsed": false,
     "input": [
      "ci.print_var_info('INCWS',ci.person_record)"
     ],
     "language": "python",
     "metadata": {},
     "outputs": [
      {
       "output_type": "stream",
       "stream": "stdout",
       "text": [
        "Person Record INCWS 5% file {u'RT': u'P', u'BEG': 244, u'LEN': 6, u'DESCRIPTION': u'Wage/Salary Income in 1999'}\n",
        "\n",
        "     Wage/Salary Income in 1999\n",
        "     ==========================\n",
        "     (u'000000', u' ')  No/none\n",
        "     (u'000001', u'174999')  $1 to $174,999\n",
        "     175000  Topcode\n",
        "     175000+  State mean of topcoded values\n",
        "      blank  Not in universe (Under 15 years)\n",
        "\n"
       ]
      }
     ],
     "prompt_number": 11
    },
    {
     "cell_type": "markdown",
     "metadata": {},
     "source": [
      "Values at or above topcode are not directly represented.  Instead the mean for values above topcode (for that particular state) are substituted.  You can find out what these means are for topcoded housing and person records [here](http://webapp1.dlib.indiana.edu/virtual_disk_library/index.cgi/5688252/FID3502/Document/Appendix%20H.txt).  In addition, each variable has a **universe**, a set of entities for which it is supposed to represent information.  For the Wage salary income variable INCWS, that universe is persons 15 years of age or over.  Persons under 15 years of age have a blank in that column.  That represents different information than a 0 (which means a person 15 or older earning no salary income).  What is the right thing to do with such records  when computing average salaries?"
     ]
    },
    {
     "cell_type": "markdown",
     "metadata": {},
     "source": [
      "Let's do gender next."
     ]
    },
    {
     "cell_type": "code",
     "collapsed": false,
     "input": [
      "ci.print_var_info('gender',ci.person_record)"
     ],
     "language": "python",
     "metadata": {},
     "outputs": [
      {
       "output_type": "stream",
       "stream": "stdout",
       "text": [
        "Person Record gender => SEX 1% file {u'RT': u'P', u'BEG': 23, u'LEN': 1, u'DESCRIPTION': u'Sex'}\n",
        "\n",
        "     Sex\n",
        "     ===\n",
        "     1  Male\n",
        "     2  Female\n",
        "\n"
       ]
      }
     ],
     "prompt_number": 72
    },
    {
     "cell_type": "markdown",
     "metadata": {},
     "source": [
      "Many variable are just BOOLEAN variables.  They represent whether or not the person or household falls in some category with a 1 or a 2.  The MENTAL (mental disability) variable shown next is an example.  Variables are sometimes accompanied by **allocation** variables, which give information about how the value of that variable for that particular record was arrived at.  For example the MENTAL variable has an accompanying MENTALA allocation variable, which can have the value 1 or 0, with a 1 indicating that the value of the MENTAL variable was missing in the raw data and was inferred by one of a number of allocation methods outlined [here](https://usa.ipums.org/usa/flags.shtml).  Whether or not allocated data should be excluded is a complicated subject having to do with the methods used for allocation and whether a bias may have been introduced."
     ]
    },
    {
     "cell_type": "code",
     "collapsed": false,
     "input": [
      "ci.print_var_info('MENTAL',ci.person_record)"
     ],
     "language": "python",
     "metadata": {},
     "outputs": [
      {
       "output_type": "stream",
       "stream": "stdout",
       "text": [
        "Person Record MENTAL 5% file {u'RT': u'P', u'BEG': 123, u'LEN': 1, u'DESCRIPTION': u'Mental Disability'}\n",
        "\n",
        "     Mental Disability\n",
        "     =================\n",
        "     1  Yes\n",
        "     2  No \n",
        "     blank  Not in universe (Under 5 years)\n",
        "\n"
       ]
      }
     ],
     "prompt_number": 16
    },
    {
     "cell_type": "code",
     "collapsed": false,
     "input": [
      "ci.print_var_info('MENTALA',ci.person_record)"
     ],
     "language": "python",
     "metadata": {},
     "outputs": [
      {
       "output_type": "stream",
       "stream": "stdout",
       "text": [
        "Person Record MENTALA 5% file {u'RT': u'P', u'BEG': 124, u'LEN': 1, u'DESCRIPTION': u'Mental Disability Allocation Flag'}\n",
        "\n",
        "     Mental Disability Allocation Flag\n",
        "     =================================\n",
        "     0  Not allocated\n",
        "     1  Allocated\n",
        "\n"
       ]
      }
     ],
     "prompt_number": 17
    },
    {
     "cell_type": "code",
     "collapsed": false,
     "input": [
      "ci.print_var_info('PHYSCL',ci.person_record)"
     ],
     "language": "python",
     "metadata": {},
     "outputs": [
      {
       "output_type": "stream",
       "stream": "stdout",
       "text": [
        "Person Record PHYSCL 5% file {u'RT': u'P', u'BEG': 121, u'LEN': 1, u'DESCRIPTION': u'Physical Disability'}\n",
        "\n",
        "     Physical Disability\n",
        "     ===================\n",
        "     1  Yes\n",
        "     2  No \n",
        "     blank  Not in universe (Under 5 years)\n",
        "\n"
       ]
      }
     ],
     "prompt_number": 13
    },
    {
     "cell_type": "code",
     "collapsed": false,
     "input": [
      "ci.print_var_info('PHYSCLA',ci.person_record)"
     ],
     "language": "python",
     "metadata": {},
     "outputs": [
      {
       "output_type": "stream",
       "stream": "stdout",
       "text": [
        "Person Record PHYSCLA 5% file {u'RT': u'P', u'BEG': 122, u'LEN': 1, u'DESCRIPTION': u'Physical Disability Allocation Flag'}\n",
        "\n",
        "     Physical Disability Allocation Flag\n",
        "     ===================================\n",
        "     0  Not allocated\n",
        "     1  Allocated\n",
        "\n"
       ]
      }
     ],
     "prompt_number": 18
    },
    {
     "cell_type": "markdown",
     "metadata": {},
     "source": [
      "More verbose data is printed out for a variable that has a complex value set."
     ]
    },
    {
     "cell_type": "code",
     "collapsed": false,
     "input": [
      "ci.print_var_info('education',ci.person_record)"
     ],
     "language": "python",
     "metadata": {},
     "outputs": [
      {
       "output_type": "stream",
       "stream": "stdout",
       "text": [
        "Person Record education => EDUC 5% file {u'RT': u'P', u'BEG': 53, u'LEN': 2, u'DESCRIPTION': u'Educational Attainment'}\n",
        "\n",
        "     Educational Attainment\n",
        "     ======================\n",
        "     00  Not in universe (Under 3 years)\n",
        "     01  No schooling completed\n",
        "     02  Nursery school to 4th grade\n",
        "     03  5th grade or 6th grade\n",
        "     04  7th grade or 8th grade\n",
        "     05  9th grade\n",
        "     06  10th grade\n",
        "     07  11th grade\n",
        "     08  12th grade, no diploma\n",
        "     09  High school graduate\n",
        "     10  Some college, but less than 1 year\n",
        "     11  One or more years of college, no degree\n",
        "     12  Associate degree\n",
        "     13  Bachelor's degree\n",
        "     14  Master's degree\n",
        "     15  Professional degree\n",
        "     16  Doctorate degree\n",
        "\n"
       ]
      }
     ],
     "prompt_number": 19
    },
    {
     "cell_type": "markdown",
     "metadata": {},
     "source": [
      "In some cases information about a code value must be gotten by going back to [the Census 2000 PUMS data](http://www2.census.gov/census_2000/datasets/PUMS/)  and downloading some further documentation.  This is true of two very important types of information, occupation and location.  For example, information about the metropolitan area of a household is coded using FIPS MSA/CMSA codes.  The coding explanations are stored in documents available state by state and named according to a standard convention. The name template is \"PUMEQ[filetype]-[StateCode].TXT\", where filetype is 1 (for 1%) or 5 (for 5%), and \"StateCode\" is a standard two-letter state code.\n",
      "\n",
      "So, for example, the file giving all the location code info for the 1% file for Alabmama is named \"PUMEQ1-AL.TXT\".  So the geographical meaning of code '0040-9360', the MSA/CMSA codes shown below, will be found there.  "
     ]
    },
    {
     "cell_type": "code",
     "collapsed": false,
     "input": [
      "ci.print_var_info('MSACMSA1',ci.household_record)"
     ],
     "language": "python",
     "metadata": {},
     "outputs": [
      {
       "output_type": "stream",
       "stream": "stdout",
       "text": [
        "Housing Unit Record MSACMSA1 1% file {u'RT': u'H', u'BEG': 32, u'LEN': 4, u'DESCRIPTION': u'Metropolitan Area: MSA/CMSA for SuperPUMA'}\n",
        "\n",
        "     Metropolitan Area: MSA/CMSA for SuperPUMA\n",
        "     =========================================\n",
        "     (u'0040', u'9360')  FIPS MSA/CMSA Code\n",
        "     9997  Mixed MSA/CMSA and nonmetropolitan territory\n",
        "     9998  2 or more partial and/or entire MSAs/PMSAs\n",
        "     9999  Not in metropolitan area\n",
        "\n"
       ]
      }
     ],
     "prompt_number": 75
    },
    {
     "cell_type": "markdown",
     "metadata": {},
     "source": [
      "On the other hand, although the record below suggests we look in something called Appendix G for the language codes, they actually appear to be stored in a file called 5%_PUMS_language.xls.  The codes are the same for 1% and 5% data, and so a lot of this auxiliaryu documentation is stored only in the 5% portion of the website."
     ]
    },
    {
     "cell_type": "code",
     "collapsed": false,
     "input": [
      "ci.print_var_info('LANG1',ci.person_record)"
     ],
     "language": "python",
     "metadata": {},
     "outputs": [
      {
       "output_type": "stream",
       "stream": "stdout",
       "text": [
        "Person Record LANG1 1% file {u'RT': u'P', u'BEG': 66, u'LEN': 3, u'DESCRIPTION': u'Language Spoken for 1% file'}\n",
        "\n",
        "     Language Spoken for 1% file\n",
        "     ===========================\n",
        "     (u'001', u'999')  See Appendix G\n",
        "     000  Not in universe (Less than 5 years or SPEAK = 2)\n",
        "\n"
       ]
      }
     ],
     "prompt_number": 77
    },
    {
     "cell_type": "heading",
     "level": 2,
     "metadata": {},
     "source": [
      "Selecting a subset of the data"
     ]
    },
    {
     "cell_type": "code",
     "collapsed": false,
     "input": [
      " df = DataFrameWrapper(ci)\n",
      " # we select a subset of the columns.\n",
      " df.fill_frame ([], ci.person_record, one_percent_data_file, ci.one_percent_file, \\\n",
      "                'race','education','income','gender','age','relationship')\n",
      "df.rows[:5]"
     ],
     "language": "python",
     "metadata": {},
     "outputs": [
      {
       "metadata": {},
       "output_type": "pyout",
       "prompt_number": 20,
       "text": [
        "[['0000117', '47', '12', '047300', '1', '31', '01'],\n",
        " ['0000117', '47', '12', '024300', '2', '25', '02'],\n",
        " ['0000117', '47', '00', '      ', '1', '00', '03'],\n",
        " ['0000127', '47', '05', '000000', '1', '22', '01'],\n",
        " ['0000127', '47', '10', '022000', '2', '35', '02']]"
       ]
      }
     ],
     "prompt_number": 20
    },
    {
     "cell_type": "markdown",
     "metadata": {},
     "source": [
      "Note that the household serial_no field is included automatically, because this is the column\n",
      "that let us link this to other records (to other persons in the same household, so that\n",
      "we can aggregate information about households."
     ]
    },
    {
     "cell_type": "code",
     "collapsed": false,
     "input": [
      "df.header"
     ],
     "language": "python",
     "metadata": {},
     "outputs": [
      {
       "metadata": {},
       "output_type": "pyout",
       "prompt_number": 5,
       "text": [
        "['serial_no', 'race', 'education', 'income', 'gender', 'age', 'relationship']"
       ]
      }
     ],
     "prompt_number": 5
    },
    {
     "cell_type": "markdown",
     "metadata": {},
     "source": [
      "Order of the original rows is preserved so the first two person records are about two people in the\n",
      "same household."
     ]
    },
    {
     "cell_type": "code",
     "collapsed": false,
     "input": [
      "df.rows[:5]"
     ],
     "language": "python",
     "metadata": {},
     "outputs": [
      {
       "metadata": {},
       "output_type": "pyout",
       "prompt_number": 6,
       "text": [
        "[['0000117', '47', '12', '047300', '1', '31', '01'],\n",
        " ['0000117', '47', '12', '024300', '2', '25', '02'],\n",
        " ['0000117', '47', '00', '      ', '1', '00', '03'],\n",
        " ['0000127', '47', '05', '000000', '1', '22', '01'],\n",
        " ['0000127', '47', '10', '022000', '2', '35', '02']]"
       ]
      }
     ],
     "prompt_number": 6
    },
    {
     "cell_type": "code",
     "collapsed": false,
     "input": [
      "df.save_frame('alabama_pums_extract.csv',header=True)"
     ],
     "language": "python",
     "metadata": {},
     "outputs": [],
     "prompt_number": 21
    },
    {
     "cell_type": "code",
     "collapsed": false,
     "input": [
      "import pandas as pd\n",
      "import numpy as np\n",
      "## Note default is to use header line to name cols.\n",
      "## header argument is for selecting cols or renaming cols\n",
      "## Specify dat types for all the codes that arent really intended to be treated as numbers\n",
      "## Let pandas try to figure out income,education, and age.\n",
      "dt_dict ={'serial_no':object,'race':object,'gender':object,'relationship':object}\n",
      "p_df = pd.read_csv('/Users/gawron/ext/src/sphinx/python_for_ss/ipython_notebooks/alabama_pums_extract.csv',\n",
      "                   dtype=dt_dict)"
     ],
     "language": "python",
     "metadata": {},
     "outputs": [],
     "prompt_number": 69
    },
    {
     "cell_type": "markdown",
     "metadata": {},
     "source": [
      "Just for practice, save this file.  The version we're saving is identical\n",
      "to the one we just read in."
     ]
    },
    {
     "cell_type": "code",
     "collapsed": false,
     "input": [
      "p_df.to_csv('alabama_pums_extract3.csv',index=False)"
     ],
     "language": "python",
     "metadata": {},
     "outputs": [],
     "prompt_number": 28
    },
    {
     "cell_type": "code",
     "collapsed": false,
     "input": [
      "p_df"
     ],
     "language": "python",
     "metadata": {},
     "outputs": [
      {
       "html": [
        "<pre>\n",
        "&lt;class 'pandas.core.frame.DataFrame'&gt;\n",
        "Int64Index: 44487 entries, 0 to 44486\n",
        "Data columns (total 7 columns):\n",
        "serial_no       44487  non-null values\n",
        "race            44487  non-null values\n",
        "education       44487  non-null values\n",
        "income          35178  non-null values\n",
        "gender          44487  non-null values\n",
        "age             44487  non-null values\n",
        "relationship    44487  non-null values\n",
        "dtypes: float64(1), int64(2), object(4)\n",
        "</pre>"
       ],
       "metadata": {},
       "output_type": "pyout",
       "prompt_number": 70,
       "text": [
        "<class 'pandas.core.frame.DataFrame'>\n",
        "Int64Index: 44487 entries, 0 to 44486\n",
        "Data columns (total 7 columns):\n",
        "serial_no       44487  non-null values\n",
        "race            44487  non-null values\n",
        "education       44487  non-null values\n",
        "income          35178  non-null values\n",
        "gender          44487  non-null values\n",
        "age             44487  non-null values\n",
        "relationship    44487  non-null values\n",
        "dtypes: float64(1), int64(2), object(4)"
       ]
      }
     ],
     "prompt_number": 70
    },
    {
     "cell_type": "markdown",
     "metadata": {},
     "source": [
      "Let's look at a sample record.  Note the use of `ix`.  Along with `loc`, this is one of\n",
      "Panda's two most important indexing methods.  It allows both numerical and name based indexing.\n",
      "Here we just use a number to look at the 279th row:"
     ]
    },
    {
     "cell_type": "code",
     "collapsed": false,
     "input": [
      "p_df.ix[278]"
     ],
     "language": "python",
     "metadata": {},
     "outputs": [
      {
       "metadata": {},
       "output_type": "pyout",
       "prompt_number": 71,
       "text": [
        "serial_no       0006874\n",
        "race                 47\n",
        "education            11\n",
        "income            18600\n",
        "gender                2\n",
        "age                  31\n",
        "relationship         01\n",
        "Name: 278, dtype: object"
       ]
      }
     ],
     "prompt_number": 71
    },
    {
     "cell_type": "markdown",
     "metadata": {},
     "source": [
      "So this is a 31 year old white male head of household (race code 47 =   white alone, gender 1 = male,\n",
      "relationship 1 = head of household, with an income of $18,600, who completed\n",
      "one or more years of college but did not receive a degree."
     ]
    },
    {
     "cell_type": "heading",
     "level": 2,
     "metadata": {},
     "source": [
      "Appendix: Data types"
     ]
    },
    {
     "cell_type": "code",
     "collapsed": false,
     "input": [
      "p_df.dtypes"
     ],
     "language": "python",
     "metadata": {},
     "outputs": [
      {
       "metadata": {},
       "output_type": "pyout",
       "prompt_number": 30,
       "text": [
        "serial_no        object\n",
        "race             object\n",
        "education         int64\n",
        "income          float64\n",
        "gender           object\n",
        "age               int64\n",
        "relationship     object\n",
        "dtype: object"
       ]
      }
     ],
     "prompt_number": 30
    },
    {
     "cell_type": "markdown",
     "metadata": {},
     "source": [
      "Notice income,education, and age are integers and floats respectively,  That's good because we're going to want to do aggregation operations like mean and sum on income.  We're going to use the numerical values in education to bin education levels.\n",
      "Below we single out the class of folks with high school diplomas or above (`EDUCATION` >= 9).\n",
      "\n",
      "Let's look at how to change data types, which we'll need to do below.  First we cook up a\n",
      "simple example."
     ]
    },
    {
     "cell_type": "code",
     "collapsed": false,
     "input": [
      "df2 = pd.DataFrame([['1','2'],['34','56']],columns= ['h','t'])\n",
      "              \n",
      "\n",
      "df2.dtypes"
     ],
     "language": "python",
     "metadata": {},
     "outputs": [
      {
       "metadata": {},
       "output_type": "pyout",
       "prompt_number": 49,
       "text": [
        "h    object\n",
        "t    object\n",
        "dtype: object"
       ]
      }
     ],
     "prompt_number": 49
    },
    {
     "cell_type": "code",
     "collapsed": false,
     "input": [
      "\n",
      "df2['h'].astype(int)"
     ],
     "language": "python",
     "metadata": {},
     "outputs": [
      {
       "metadata": {},
       "output_type": "pyout",
       "prompt_number": 51,
       "text": [
        "0     1\n",
        "1    34\n",
        "Name: h, dtype: int64"
       ]
      }
     ],
     "prompt_number": 51
    },
    {
     "cell_type": "code",
     "collapsed": false,
     "input": [
      "df2['h'] = df2['h'].astype(int)"
     ],
     "language": "python",
     "metadata": {},
     "outputs": [],
     "prompt_number": 53
    },
    {
     "cell_type": "code",
     "collapsed": false,
     "input": [
      "df2.dtypes"
     ],
     "language": "python",
     "metadata": {},
     "outputs": [
      {
       "metadata": {},
       "output_type": "pyout",
       "prompt_number": 54,
       "text": [
        "h     int64\n",
        "t    object\n",
        "dtype: object"
       ]
      }
     ],
     "prompt_number": 54
    },
    {
     "cell_type": "heading",
     "level": 2,
     "metadata": {},
     "source": [
      "Aggregation"
     ]
    },
    {
     "cell_type": "code",
     "collapsed": false,
     "input": [
      "p_df"
     ],
     "language": "python",
     "metadata": {},
     "outputs": [
      {
       "html": [
        "<pre>\n",
        "&lt;class 'pandas.core.frame.DataFrame'&gt;\n",
        "Int64Index: 44487 entries, 0 to 44486\n",
        "Data columns (total 8 columns):\n",
        "serial_no       44487  non-null values\n",
        "race            44487  non-null values\n",
        "education       44487  non-null values\n",
        "income          35178  non-null values\n",
        "gender          44487  non-null values\n",
        "age             44487  non-null values\n",
        "relationship    44487  non-null values\n",
        "white_only      44487  non-null values\n",
        "dtypes: bool(1), float64(1), int64(1), object(5)\n",
        "</pre>"
       ],
       "metadata": {},
       "output_type": "pyout",
       "prompt_number": 37,
       "text": [
        "<class 'pandas.core.frame.DataFrame'>\n",
        "Int64Index: 44487 entries, 0 to 44486\n",
        "Data columns (total 8 columns):\n",
        "serial_no       44487  non-null values\n",
        "race            44487  non-null values\n",
        "education       44487  non-null values\n",
        "income          35178  non-null values\n",
        "gender          44487  non-null values\n",
        "age             44487  non-null values\n",
        "relationship    44487  non-null values\n",
        "white_only      44487  non-null values\n",
        "dtypes: bool(1), float64(1), int64(1), object(5)"
       ]
      }
     ],
     "prompt_number": 37
    },
    {
     "cell_type": "code",
     "collapsed": false,
     "input": [
      "p_df.columns"
     ],
     "language": "python",
     "metadata": {},
     "outputs": [
      {
       "metadata": {},
       "output_type": "pyout",
       "prompt_number": 20,
       "text": [
        "Index([u'serial_no', u'race', u'education', u'income', u'gender', u'age', u'relationship'], dtype=object)"
       ]
      }
     ],
     "prompt_number": 20
    },
    {
     "cell_type": "code",
     "collapsed": false,
     "input": [
      "p_df[p_df['race'] == '47']"
     ],
     "language": "python",
     "metadata": {},
     "outputs": [
      {
       "html": [
        "<pre>\n",
        "&lt;class 'pandas.core.frame.DataFrame'&gt;\n",
        "Int64Index: 31798 entries, 0 to 44480\n",
        "Data columns (total 7 columns):\n",
        "serial_no       31798  non-null values\n",
        "race            31798  non-null values\n",
        "education       31798  non-null values\n",
        "income          25791  non-null values\n",
        "gender          31798  non-null values\n",
        "age             31798  non-null values\n",
        "relationship    31798  non-null values\n",
        "dtypes: float64(1), int64(1), object(5)\n",
        "</pre>"
       ],
       "metadata": {},
       "output_type": "pyout",
       "prompt_number": 24,
       "text": [
        "<class 'pandas.core.frame.DataFrame'>\n",
        "Int64Index: 31798 entries, 0 to 44480\n",
        "Data columns (total 7 columns):\n",
        "serial_no       31798  non-null values\n",
        "race            31798  non-null values\n",
        "education       31798  non-null values\n",
        "income          25791  non-null values\n",
        "gender          31798  non-null values\n",
        "age             31798  non-null values\n",
        "relationship    31798  non-null values\n",
        "dtypes: float64(1), int64(1), object(5)"
       ]
      }
     ],
     "prompt_number": 24
    },
    {
     "cell_type": "code",
     "collapsed": false,
     "input": [
      "p_df['race'].map(lambda x: x == '47')"
     ],
     "language": "python",
     "metadata": {},
     "outputs": [
      {
       "metadata": {},
       "output_type": "pyout",
       "prompt_number": 26,
       "text": [
        "0      True\n",
        "1      True\n",
        "2      True\n",
        "3      True\n",
        "4      True\n",
        "5      True\n",
        "6      True\n",
        "7      True\n",
        "8      True\n",
        "9      True\n",
        "10     True\n",
        "11    False\n",
        "12     True\n",
        "13     True\n",
        "14     True\n",
        "...\n",
        "44472     True\n",
        "44473     True\n",
        "44474     True\n",
        "44475     True\n",
        "44476    False\n",
        "44477    False\n",
        "44478    False\n",
        "44479     True\n",
        "44480     True\n",
        "44481    False\n",
        "44482    False\n",
        "44483    False\n",
        "44484    False\n",
        "44485    False\n",
        "44486    False\n",
        "Name: race, Length: 44487, dtype: bool"
       ]
      }
     ],
     "prompt_number": 26
    },
    {
     "cell_type": "code",
     "collapsed": false,
     "input": [
      "p_df['white_only'] = p_df['race'].map(lambda x: x == '47')\n",
      "p_df['high_school'] = p_df['education'].map(lambda x: x >= 9)"
     ],
     "language": "python",
     "metadata": {},
     "outputs": [],
     "prompt_number": 31
    },
    {
     "cell_type": "code",
     "collapsed": false,
     "input": [
      "p_df"
     ],
     "language": "python",
     "metadata": {},
     "outputs": [
      {
       "html": [
        "<pre>\n",
        "&lt;class 'pandas.core.frame.DataFrame'&gt;\n",
        "Int64Index: 44487 entries, 0 to 44486\n",
        "Data columns (total 9 columns):\n",
        "serial_no       44487  non-null values\n",
        "race            44487  non-null values\n",
        "education       44487  non-null values\n",
        "income          35178  non-null values\n",
        "gender          44487  non-null values\n",
        "age             44487  non-null values\n",
        "relationship    44487  non-null values\n",
        "white_only      44487  non-null values\n",
        "high_school     44487  non-null values\n",
        "dtypes: bool(2), float64(1), int64(2), object(4)\n",
        "</pre>"
       ],
       "metadata": {},
       "output_type": "pyout",
       "prompt_number": 32,
       "text": [
        "<class 'pandas.core.frame.DataFrame'>\n",
        "Int64Index: 44487 entries, 0 to 44486\n",
        "Data columns (total 9 columns):\n",
        "serial_no       44487  non-null values\n",
        "race            44487  non-null values\n",
        "education       44487  non-null values\n",
        "income          35178  non-null values\n",
        "gender          44487  non-null values\n",
        "age             44487  non-null values\n",
        "relationship    44487  non-null values\n",
        "white_only      44487  non-null values\n",
        "high_school     44487  non-null values\n",
        "dtypes: bool(2), float64(1), int64(2), object(4)"
       ]
      }
     ],
     "prompt_number": 32
    },
    {
     "cell_type": "code",
     "collapsed": false,
     "input": [
      "grouped0 = p_df['income'].groupby(p_df['white_only'])"
     ],
     "language": "python",
     "metadata": {},
     "outputs": [],
     "prompt_number": 38
    },
    {
     "cell_type": "code",
     "collapsed": false,
     "input": [
      "grouped0"
     ],
     "language": "python",
     "metadata": {},
     "outputs": [
      {
       "metadata": {},
       "output_type": "pyout",
       "prompt_number": 39,
       "text": [
        "<pandas.core.groupby.SeriesGroupBy object at 0x11179fb90>"
       ]
      }
     ],
     "prompt_number": 39
    },
    {
     "cell_type": "code",
     "collapsed": false,
     "input": [],
     "language": "python",
     "metadata": {},
     "outputs": [],
     "prompt_number": 68
    },
    {
     "cell_type": "code",
     "collapsed": false,
     "input": [
      "grouped0.mean()"
     ],
     "language": "python",
     "metadata": {},
     "outputs": [
      {
       "metadata": {},
       "output_type": "pyout",
       "prompt_number": 40,
       "text": [
        "white_only\n",
        "False         11294.922766\n",
        "True          17556.744213\n",
        "dtype: float64"
       ]
      }
     ],
     "prompt_number": 40
    },
    {
     "cell_type": "markdown",
     "metadata": {},
     "source": [
      "This number seems rather low.  One reason is we're including those people outside the universe\n",
      "in the calculation (5 year old children, for example), giving them income 0.\n",
      "We fix this as follows:"
     ]
    },
    {
     "cell_type": "code",
     "collapsed": false,
     "input": [
      "grouped2 = p_df[p_df['income']>0]['income'].groupby(p_df['white_only'])"
     ],
     "language": "python",
     "metadata": {},
     "outputs": [],
     "prompt_number": 79
    },
    {
     "cell_type": "markdown",
     "metadata": {},
     "source": [
      "Let's break this apart into pieces."
     ]
    },
    {
     "cell_type": "code",
     "collapsed": false,
     "input": [
      "p_df[p_df['income']>0]"
     ],
     "language": "python",
     "metadata": {},
     "outputs": [
      {
       "html": [
        "<pre>\n",
        "&lt;class 'pandas.core.frame.DataFrame'&gt;\n",
        "Int64Index: 20712 entries, 0 to 44481\n",
        "Data columns (total 8 columns):\n",
        "serial_no       20712  non-null values\n",
        "race            20712  non-null values\n",
        "education       20712  non-null values\n",
        "income          20712  non-null values\n",
        "gender          20712  non-null values\n",
        "age             20712  non-null values\n",
        "relationship    20712  non-null values\n",
        "white_only      20712  non-null values\n",
        "dtypes: bool(1), float64(1), int64(1), object(5)\n",
        "</pre>"
       ],
       "metadata": {},
       "output_type": "pyout",
       "prompt_number": 70,
       "text": [
        "<class 'pandas.core.frame.DataFrame'>\n",
        "Int64Index: 20712 entries, 0 to 44481\n",
        "Data columns (total 8 columns):\n",
        "serial_no       20712  non-null values\n",
        "race            20712  non-null values\n",
        "education       20712  non-null values\n",
        "income          20712  non-null values\n",
        "gender          20712  non-null values\n",
        "age             20712  non-null values\n",
        "relationship    20712  non-null values\n",
        "white_only      20712  non-null values\n",
        "dtypes: bool(1), float64(1), int64(1), object(5)"
       ]
      }
     ],
     "prompt_number": 70
    },
    {
     "cell_type": "markdown",
     "metadata": {},
     "source": [
      "This gives the same 8-column table with records that have no income filtered out, so it's a much shorter table."
     ]
    },
    {
     "cell_type": "code",
     "collapsed": false,
     "input": [
      "p_df[p_df['income']>0]['income']"
     ],
     "language": "python",
     "metadata": {},
     "outputs": [
      {
       "metadata": {},
       "output_type": "pyout",
       "prompt_number": 71,
       "text": [
        "0      47300\n",
        "1      24300\n",
        "4      22000\n",
        "6       5000\n",
        "7      13000\n",
        "10     21800\n",
        "11     32000\n",
        "12     56000\n",
        "13     42000\n",
        "14     70000\n",
        "18     24000\n",
        "21     17000\n",
        "22      7000\n",
        "28       750\n",
        "30    148000\n",
        "...\n",
        "44454     7500\n",
        "44455    29000\n",
        "44456     6000\n",
        "44457    14000\n",
        "44458    45000\n",
        "44459    33000\n",
        "44466    30000\n",
        "44467    15900\n",
        "44469    12000\n",
        "44470     1400\n",
        "44473      500\n",
        "44476     2000\n",
        "44477    12000\n",
        "44480    30000\n",
        "44481      300\n",
        "Name: income, Length: 20712, dtype: float64"
       ]
      }
     ],
     "prompt_number": 71
    },
    {
     "cell_type": "markdown",
     "metadata": {},
     "source": [
      "Now we've got just the income column of that table.  Now we do the 'split' step of 'split/apply/combine'.  One group is 'white_only' = True and and the 'white_only = False'."
     ]
    },
    {
     "cell_type": "code",
     "collapsed": false,
     "input": [
      "grouped2 = p_df[p_df['income']>0]['income'].groupby(p_df['white_only'])"
     ],
     "language": "python",
     "metadata": {},
     "outputs": [],
     "prompt_number": 74
    },
    {
     "cell_type": "code",
     "collapsed": false,
     "input": [
      "grouped2.mean()"
     ],
     "language": "python",
     "metadata": {},
     "outputs": [
      {
       "metadata": {},
       "output_type": "pyout",
       "prompt_number": 75,
       "text": [
        "white_only\n",
        "False         20276.427615\n",
        "True          29245.365239\n",
        "dtype: float64"
       ]
      }
     ],
     "prompt_number": 75
    },
    {
     "cell_type": "code",
     "collapsed": false,
     "input": [
      "grouped2 = p_df.groupby(['white_only'])"
     ],
     "language": "python",
     "metadata": {},
     "outputs": [],
     "prompt_number": 52
    },
    {
     "cell_type": "code",
     "collapsed": false,
     "input": [
      "totals2 = grouped2.income.sum().fillna(0)"
     ],
     "language": "python",
     "metadata": {},
     "outputs": [],
     "prompt_number": 54
    },
    {
     "cell_type": "code",
     "collapsed": false,
     "input": [
      "totals2"
     ],
     "language": "python",
     "metadata": {},
     "outputs": [
      {
       "metadata": {},
       "output_type": "pyout",
       "prompt_number": 55,
       "text": [
        "white_only\n",
        "False         106025440\n",
        "True          452805990\n",
        "Name: income, dtype: float64"
       ]
      }
     ],
     "prompt_number": 55
    },
    {
     "cell_type": "code",
     "collapsed": false,
     "input": [
      "totals.keys()"
     ],
     "language": "python",
     "metadata": {},
     "outputs": [
      {
       "metadata": {},
       "output_type": "pyout",
       "prompt_number": 59,
       "text": [
        "Index([False, True], dtype=object)"
       ]
      }
     ],
     "prompt_number": 59
    },
    {
     "cell_type": "heading",
     "level": 2,
     "metadata": {},
     "source": [
      "A more complex example (education)"
     ]
    },
    {
     "cell_type": "code",
     "collapsed": false,
     "input": [
      "p_df['white_only'] = p_df['race'].map(lambda x: x == '47')\n",
      "p_df['high_school'] = p_df['education'].map(lambda x: x >= 9)\n",
      "p_df2 = p_df.ix[:,['high_school','white_only']]"
     ],
     "language": "python",
     "metadata": {},
     "outputs": [],
     "prompt_number": 47
    },
    {
     "cell_type": "markdown",
     "metadata": {},
     "source": [
      "We make a data frame consisting of just the columns we're interested in using `ix`."
     ]
    },
    {
     "cell_type": "code",
     "collapsed": false,
     "input": [
      "p_df2"
     ],
     "language": "python",
     "metadata": {},
     "outputs": [
      {
       "html": [
        "<pre>\n",
        "&lt;class 'pandas.core.frame.DataFrame'&gt;\n",
        "Int64Index: 44487 entries, 0 to 44486\n",
        "Data columns (total 2 columns):\n",
        "high_school    44487  non-null values\n",
        "white_only     44487  non-null values\n",
        "dtypes: bool(2)\n",
        "</pre>"
       ],
       "metadata": {},
       "output_type": "pyout",
       "prompt_number": 48,
       "text": [
        "<class 'pandas.core.frame.DataFrame'>\n",
        "Int64Index: 44487 entries, 0 to 44486\n",
        "Data columns (total 2 columns):\n",
        "high_school    44487  non-null values\n",
        "white_only     44487  non-null values\n",
        "dtypes: bool(2)"
       ]
      }
     ],
     "prompt_number": 48
    },
    {
     "cell_type": "markdown",
     "metadata": {},
     "source": [
      "We now want counts for the entire data set of each pairing of the high_school diploma\n",
      "variable with the white_only variable.  This is done with `crosstab`."
     ]
    },
    {
     "cell_type": "code",
     "collapsed": false,
     "input": [
      "xtab = pd.crosstab(p_df2.white_only,p_df2.high_school,margins=True)\n",
      "xtab"
     ],
     "language": "python",
     "metadata": {},
     "outputs": [
      {
       "html": [
        "<div style=\"max-height:1000px;max-width:1500px;overflow:auto;\">\n",
        "<table border=\"1\" class=\"dataframe\">\n",
        "  <thead>\n",
        "    <tr style=\"text-align: right;\">\n",
        "      <th>high_school</th>\n",
        "      <th>False</th>\n",
        "      <th>True</th>\n",
        "      <th>All</th>\n",
        "    </tr>\n",
        "    <tr>\n",
        "      <th>white_only</th>\n",
        "      <th></th>\n",
        "      <th></th>\n",
        "      <th></th>\n",
        "    </tr>\n",
        "  </thead>\n",
        "  <tbody>\n",
        "    <tr>\n",
        "      <th>False</th>\n",
        "      <td>  7059</td>\n",
        "      <td>  5630</td>\n",
        "      <td> 12689</td>\n",
        "    </tr>\n",
        "    <tr>\n",
        "      <th>True</th>\n",
        "      <td> 12956</td>\n",
        "      <td> 18842</td>\n",
        "      <td> 31798</td>\n",
        "    </tr>\n",
        "    <tr>\n",
        "      <th>All</th>\n",
        "      <td> 20015</td>\n",
        "      <td> 24472</td>\n",
        "      <td> 44487</td>\n",
        "    </tr>\n",
        "  </tbody>\n",
        "</table>\n",
        "</div>"
       ],
       "metadata": {},
       "output_type": "pyout",
       "prompt_number": 66,
       "text": [
        "high_school  False   True    All\n",
        "white_only                      \n",
        "False         7059   5630  12689\n",
        "True         12956  18842  31798\n",
        "All          20015  24472  44487"
       ]
      }
     ],
     "prompt_number": 66
    },
    {
     "cell_type": "markdown",
     "metadata": {},
     "source": [
      "Turning these into percentages turns out to be a little harder than I thought.  Maybe there's\n",
      "an easier way?  Intuitively, we want to divide each column by the last column, so that all the entries\n",
      "in the False row are divided by 12689 and all the entries in the True row by 31798 and all the entries\n",
      "in the All row by 44487.  First we need a version of the last column that is floats rather than integers:"
     ]
    },
    {
     "cell_type": "code",
     "collapsed": false,
     "input": [
      "all_f = xtab['All'].map(lambda x: float(x))\n",
      "all_f"
     ],
     "language": "python",
     "metadata": {},
     "outputs": [
      {
       "metadata": {},
       "output_type": "pyout",
       "prompt_number": 67,
       "text": [
        "white_only\n",
        "False         12689\n",
        "True          31798\n",
        "All           44487\n",
        "Name: All, dtype: float64"
       ]
      }
     ],
     "prompt_number": 67
    },
    {
     "cell_type": "markdown",
     "metadata": {},
     "source": [
      "Next we'll just divide each column of `xtab` in turn by `all_f`, resetting each column to\n",
      "be the resulting column of percentages:"
     ]
    },
    {
     "cell_type": "code",
     "collapsed": false,
     "input": [
      "xtab[False] = xtab[False]/all_f\n",
      "xtab[True] = xtab[True]/all_f\n",
      "xtab['All'] = xtab['All']/all_f\n",
      "xtab\n",
      "#xtab.columns"
     ],
     "language": "python",
     "metadata": {},
     "outputs": [
      {
       "html": [
        "<div style=\"max-height:1000px;max-width:1500px;overflow:auto;\">\n",
        "<table border=\"1\" class=\"dataframe\">\n",
        "  <thead>\n",
        "    <tr style=\"text-align: right;\">\n",
        "      <th>high_school</th>\n",
        "      <th>False</th>\n",
        "      <th>True</th>\n",
        "      <th>All</th>\n",
        "    </tr>\n",
        "    <tr>\n",
        "      <th>white_only</th>\n",
        "      <th></th>\n",
        "      <th></th>\n",
        "      <th></th>\n",
        "    </tr>\n",
        "  </thead>\n",
        "  <tbody>\n",
        "    <tr>\n",
        "      <th>False</th>\n",
        "      <td> 0.556309</td>\n",
        "      <td> 0.443691</td>\n",
        "      <td> 1</td>\n",
        "    </tr>\n",
        "    <tr>\n",
        "      <th>True</th>\n",
        "      <td> 0.407447</td>\n",
        "      <td> 0.592553</td>\n",
        "      <td> 1</td>\n",
        "    </tr>\n",
        "    <tr>\n",
        "      <th>All</th>\n",
        "      <td> 0.449907</td>\n",
        "      <td> 0.550093</td>\n",
        "      <td> 1</td>\n",
        "    </tr>\n",
        "  </tbody>\n",
        "</table>\n",
        "</div>"
       ],
       "metadata": {},
       "output_type": "pyout",
       "prompt_number": 64,
       "text": [
        "high_school     False      True  All\n",
        "white_only                          \n",
        "False        0.556309  0.443691    1\n",
        "True         0.407447  0.592553    1\n",
        "All          0.449907  0.550093    1"
       ]
      }
     ],
     "prompt_number": 64
    },
    {
     "cell_type": "heading",
     "level": 2,
     "metadata": {},
     "source": [
      "Potential projects"
     ]
    },
    {
     "cell_type": "markdown",
     "metadata": {},
     "source": [
      "Here are some idea for potential projects using the PUMS data.\n",
      "\n",
      "1) Compare income levels for a variety of levels of education. This can be done\n",
      "   by creating bins for education level.  For example having a high school\n",
      "   diploma but no higher degree is represented by [9 <= 'EDUCATION' < 12]\n",
      "   \n",
      "1) Compare income levels for a variety of levels of education state by state.\n",
      "   \n",
      "   "
     ]
    },
    {
     "cell_type": "code",
     "collapsed": false,
     "input": [],
     "language": "python",
     "metadata": {},
     "outputs": []
    }
   ],
   "metadata": {}
  }
 ]
}