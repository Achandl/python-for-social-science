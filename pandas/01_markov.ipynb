{
 "metadata": {
  "name": "",
  "signature": "sha256:e132c430897c1eb72567fe592efaa3baf2530e31da3a6c7b715ae037b701b70b"
 },
 "nbformat": 3,
 "nbformat_minor": 0,
 "worksheets": [
  {
   "cells": [
    {
     "cell_type": "markdown",
     "metadata": [],
     "source": [
      "> This is one of the 100 recipes of the [IPython Cookbook](http://ipython-books.github.io/), the definitive guide to high-performance scientific computing and data science in Python.\n"
     ]
    },
    {
     "cell_type": "markdown",
     "metadata": {},
     "source": [
      "# 13.1. Simulating a discrete-time Markov chain"
     ]
    },
    {
     "cell_type": "markdown",
     "metadata": {},
     "source": [
      "1. Let's import NumPy and matplotlib."
     ]
    },
    {
     "cell_type": "code",
     "collapsed": false,
     "input": [
      "import numpy as np\n",
      "import matplotlib as mpl\n",
      "import matplotlib.pyplot as plt\n",
      "%matplotlib inline"
     ],
     "language": "python",
     "metadata": {},
     "outputs": [],
     "prompt_number": 1
    },
    {
     "cell_type": "markdown",
     "metadata": {},
     "source": [
      "2. We consider a population that cannot comprise more than $N=100$ individuals. We also define birth and death rates."
     ]
    },
    {
     "cell_type": "code",
     "collapsed": false,
     "input": [
      "N = 100  # maximum population size\n",
      "a = .5/N  # birth rate\n",
      "b = .5/N  # death rate\n",
      "a"
     ],
     "language": "python",
     "metadata": {},
     "outputs": [
      {
       "metadata": {},
       "output_type": "pyout",
       "prompt_number": 2,
       "text": [
        "0.005"
       ]
      }
     ],
     "prompt_number": 2
    },
    {
     "cell_type": "markdown",
     "metadata": {},
     "source": [
      "3. We will simulate a Markov chain on the finite space $\\{0, 1, \\ldots, N\\}$. Each state represents a population size. The vector $x$ will contain the population size at each time step. We set the initial state to $x_0=25$, i.e. there are 25 individuals in the population at initialization time."
     ]
    },
    {
     "cell_type": "code",
     "collapsed": false,
     "input": [
      "nsteps = 1000\n",
      "x = np.zeros(nsteps)\n",
      "x[0] = 25\n",
      "x[:20]"
     ],
     "language": "python",
     "metadata": {},
     "outputs": [
      {
       "metadata": {},
       "output_type": "pyout",
       "prompt_number": 3,
       "text": [
        "array([ 25.,   0.,   0.,   0.,   0.,   0.,   0.,   0.,   0.,   0.,   0.,\n",
        "         0.,   0.,   0.,   0.,   0.,   0.,   0.,   0.,   0.])"
       ]
      }
     ],
     "prompt_number": 3
    },
    {
     "cell_type": "markdown",
     "metadata": {},
     "source": [
      "4. We now simulate our chain. At each time step $t$, there is a new birth with probability $a \\cdot x_t$, and independently, there is a new death with probability $b \\cdot x_t$. These probabilities are proportional to the size of the population at that time. If the population size reaches $0$ or $N$, the evolution stops."
     ]
    },
    {
     "cell_type": "code",
     "collapsed": false,
     "input": [
      "for t in range(nsteps - 1):\n",
      "    if 0 < x[t] < N-1:\n",
      "        # Is there a birth?\n",
      "        birth = np.random.rand() <= a*x[t]\n",
      "        # Is there a death?\n",
      "        death = np.random.rand() <= b*x[t]\n",
      "        # We update the population size.\n",
      "        x[t+1] = x[t] + 1*birth - 1*death\n",
      "    # The evolution stops if we reach $0$ or $N$.\n",
      "    else:\n",
      "        x[t+1] = x[t]"
     ],
     "language": "python",
     "metadata": {},
     "outputs": [],
     "prompt_number": 4
    },
    {
     "cell_type": "code",
     "collapsed": false,
     "input": [
      "x[:25]"
     ],
     "language": "python",
     "metadata": {},
     "outputs": [
      {
       "metadata": {},
       "output_type": "pyout",
       "prompt_number": 5,
       "text": [
        "array([ 25.,  25.,  25.,  25.,  26.,  26.,  27.,  27.,  27.,  27.,  27.,\n",
        "        27.,  27.,  26.,  26.,  26.,  26.,  26.,  26.,  26.,  27.,  27.,\n",
        "        27.,  27.,  27.])"
       ]
      }
     ],
     "prompt_number": 5
    },
    {
     "cell_type": "code",
     "collapsed": false,
     "input": [
      "x[-25:]"
     ],
     "language": "python",
     "metadata": {},
     "outputs": [
      {
       "metadata": {},
       "output_type": "pyout",
       "prompt_number": 6,
       "text": [
        "array([ 46.,  47.,  48.,  49.,  49.,  50.,  50.,  51.,  51.,  51.,  52.,\n",
        "        52.,  53.,  53.,  53.,  54.,  54.,  53.,  53.,  54.,  54.,  54.,\n",
        "        54.,  53.,  54.])"
       ]
      }
     ],
     "prompt_number": 6
    },
    {
     "cell_type": "code",
     "collapsed": false,
     "input": [
      "x[t]"
     ],
     "language": "python",
     "metadata": {},
     "outputs": [
      {
       "metadata": {},
       "output_type": "pyout",
       "prompt_number": 33,
       "text": [
        "37.0"
       ]
      }
     ],
     "prompt_number": 33
    },
    {
     "cell_type": "markdown",
     "metadata": {},
     "source": [
      "5. Let's look at the evolution of the population size."
     ]
    },
    {
     "cell_type": "code",
     "collapsed": false,
     "input": [
      "plt.figure(figsize=(6,3));\n",
      "plt.plot(x);"
     ],
     "language": "python",
     "metadata": {},
     "outputs": [
      {
       "metadata": {},
       "output_type": "display_data",
       "png": "[encoded data removed]",
       "text": [
        "<matplotlib.figure.Figure at 0x10cebd910>"
       ]
      }
     ],
     "prompt_number": 7
    },
    {
     "cell_type": "markdown",
     "metadata": {},
     "source": [
      "We see that, at every time, the population size can stays stable, increase by 1, or decrease by 1."
     ]
    },
    {
     "cell_type": "heading",
     "level": 2,
     "metadata": {},
     "source": [
      "Smoothing the result"
     ]
    },
    {
     "cell_type": "markdown",
     "metadata": {},
     "source": [
      "We give a preliminary demonstration of some of the features of Pandas byt turning the above data into a pandas DataFrame in order make use of one of the analytical features Pandas offers.  The above data plot is very jagged due to the fact that each point represents small but discrete changes  (+ or - 1) in the daily population.  We use a panda **rolling mean**  plot to smooth the curve."
     ]
    },
    {
     "cell_type": "code",
     "collapsed": false,
     "input": [
      "import pandas as pd\n",
      "df = pd.DataFrame(x)"
     ],
     "language": "python",
     "metadata": {},
     "outputs": [],
     "prompt_number": 8
    },
    {
     "cell_type": "code",
     "collapsed": false,
     "input": [
      "from IPython.html.widgets import interact\n",
      "@interact\n",
      "def plot(n=(1, 100)):\n",
      "    plt.figure(figsize=(8,4));\n",
      "    pd.rolling_mean(df[0], n).dropna().plot();\n",
      "    plt.ylim(0, 40);\n",
      "    plt.show();"
     ],
     "language": "python",
     "metadata": {},
     "outputs": [
      {
       "metadata": {},
       "output_type": "display_data",
       "png": "[encoded data removed]",
       "text": [
        "<matplotlib.figure.Figure at 0x10d3a2d10>"
       ]
      }
     ],
     "prompt_number": 9
    },
    {
     "cell_type": "heading",
     "level": 2,
     "metadata": {},
     "source": [
      "Multiple trials"
     ]
    },
    {
     "cell_type": "markdown",
     "metadata": {},
     "source": [
      "6. Now, we will simulate many independent trials of this Markov chain. We could run the previous simulation with a loop, but it would be very slow (two nested `for` loops). Instead, we *vectorize* the simulation by considering all independent trials at once. There is a single loop over time. At every time step, we update all trials simultaneously with vectorized operations on vectors. The vector `x` now contains the population size of all trials, at a particular time. At initialization time, the population sizes are set to random numbers between $0$ and $N$."
     ]
    },
    {
     "cell_type": "code",
     "collapsed": false,
     "input": [
      "import numpy as np\n",
      "(ntrials,P) = 100,100\n",
      "x = np.random.randint(size=ntrials,\n",
      "                      low=0, high=N)\n",
      "x\n",
      "upd = (0 < x) & (x < N - 1)\n",
      "print upd\n",
      "#(np.random.rand(ntrials) <= a*x)\n",
      "#1*(np.random.rand(ntrials) <= a*x)"
     ],
     "language": "python",
     "metadata": {},
     "outputs": [
      {
       "output_type": "stream",
       "stream": "stdout",
       "text": [
        "[ True  True  True  True  True  True  True  True  True  True  True  True\n",
        "  True  True  True  True  True  True  True  True  True  True  True  True\n",
        "  True  True  True  True False  True  True  True  True False  True  True\n",
        "  True  True  True  True  True  True  True  True  True  True  True  True\n",
        "  True  True  True  True  True  True  True  True  True  True  True  True\n",
        "  True  True  True  True  True False  True  True  True  True  True  True\n",
        "  True  True False  True  True False  True  True  True  True  True  True\n",
        "  True  True  True  True  True  True  True  True  True  True  True  True\n",
        "  True  True  True  True]\n"
       ]
      }
     ],
     "prompt_number": 12
    },
    {
     "cell_type": "code",
     "collapsed": false,
     "input": [
      "#print np.ones(len(x[upd]))\n",
      "print len(x[upd])\n",
      "#upd[0] = False\n",
      "#upd[37],upd,x[upd],len(x[upd]), x, len(x)\n",
      "#x[upd] += np.ones(len(x[upd]))\n",
      "#x\n",
      "#len(x[upd])\n",
      "#1 * Z"
     ],
     "language": "python",
     "metadata": {},
     "outputs": [
      {
       "output_type": "stream",
       "stream": "stdout",
       "text": [
        "95\n"
       ]
      }
     ],
     "prompt_number": 17
    },
    {
     "cell_type": "markdown",
     "metadata": {},
     "source": [
      "7. We define a function that performs the simulation. At every time step, we find the trials that undergo births and deaths by generating random vectors, and we update the population sizes with vector operations."
     ]
    },
    {
     "cell_type": "code",
     "collapsed": false,
     "input": [
      "def simulate(x, nsteps):\n",
      "    \"\"\"Run the simulation.\"\"\"\n",
      "    for _ in range(nsteps - 1):\n",
      "        # Which trials to update?\n",
      "        upd = (0 < x) & (x < N-1)\n",
      "        # In which trials do births occur?\n",
      "        birth = 1*(np.random.rand(ntrials) <= a*x)\n",
      "        # In which trials do deaths occur?\n",
      "        death = 1*(np.random.rand(ntrials) <= b*x)\n",
      "        # We update the population size for all trials.\n",
      "        x[upd] += birth[upd] - death[upd]"
     ],
     "language": "python",
     "metadata": {},
     "outputs": [],
     "prompt_number": 18
    },
    {
     "cell_type": "markdown",
     "metadata": {},
     "source": [
      "8. Now, we will look at the histograms of the population size at different times. These histograms represent the probability distribution of the Markov chain, estimated with independent trials (Monte Carlo method)."
     ]
    },
    {
     "cell_type": "code",
     "collapsed": false,
     "input": [
      "bins = np.linspace(0, N, 25);"
     ],
     "language": "python",
     "metadata": {},
     "outputs": [],
     "prompt_number": 19
    },
    {
     "cell_type": "code",
     "collapsed": false,
     "input": [
      "N,len(bins),bins"
     ],
     "language": "python",
     "metadata": {},
     "outputs": [
      {
       "metadata": {},
       "output_type": "pyout",
       "prompt_number": 20,
       "text": [
        "(100, 25, array([   0.        ,    4.16666667,    8.33333333,   12.5       ,\n",
        "          16.66666667,   20.83333333,   25.        ,   29.16666667,\n",
        "          33.33333333,   37.5       ,   41.66666667,   45.83333333,\n",
        "          50.        ,   54.16666667,   58.33333333,   62.5       ,\n",
        "          66.66666667,   70.83333333,   75.        ,   79.16666667,\n",
        "          83.33333333,   87.5       ,   91.66666667,   95.83333333,  100.        ]))"
       ]
      }
     ],
     "prompt_number": 20
    },
    {
     "cell_type": "code",
     "collapsed": false,
     "input": [
      "plt.figure(figsize=(12,3));\n",
      "nsteps_list = [10, 1000, 10000]\n",
      "for i, nsteps in enumerate(nsteps_list):\n",
      "    plt.subplot(1, len(nsteps_list), i + 1);\n",
      "    simulate(x, nsteps)\n",
      "    plt.hist(x, bins=bins);\n",
      "    plt.xlabel(\"Population size\");\n",
      "    if i == 0:\n",
      "        plt.ylabel(\"Histogram\");\n",
      "    plt.title(\"{0:d} time steps\".format(nsteps));"
     ],
     "language": "python",
     "metadata": {},
     "outputs": [
      {
       "metadata": {},
       "output_type": "display_data",
       "png": "[encoded data removed]",
       "text": [
        "<matplotlib.figure.Figure at 0x10d392190>"
       ]
      }
     ],
     "prompt_number": 23
    },
    {
     "cell_type": "markdown",
     "metadata": {},
     "source": [
      "Whereas, initially, the population sizes look equally distributed between $0$ and $N$, they appear to converge to $0$ or $N$ after a sufficiently long time. This is because the states $0$ and $N$ are **absorbing**: once reached, the chain cannot leave those states. Furthermore, these states can be reached from any other state."
     ]
    },
    {
     "cell_type": "markdown",
     "metadata": {},
     "source": [
      "> You'll find all the explanations, figures, references, and much more in the book (to be released later this summer).\n",
      "\n",
      "> [IPython Cookbook](http://ipython-books.github.io/), by [Cyrille Rossant](http://cyrille.rossant.net), Packt Publishing, 2014 (500 pages)."
     ]
    }
   ],
   "metadata": {}
  }
 ]
}