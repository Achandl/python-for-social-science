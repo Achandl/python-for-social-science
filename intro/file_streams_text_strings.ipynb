{
 "cells": [
  {
   "cell_type": "markdown",
   "metadata": {
    "slideshow": {
     "slide_type": "slide"
    }
   },
   "source": [
    "## Reading files"
   ]
  },
  {
   "cell_type": "code",
   "execution_count": 1,
   "metadata": {
    "slideshow": {
     "slide_type": "fragment"
    }
   },
   "outputs": [],
   "source": [
    "homer = open('homer_characters.txt','r').read()"
   ]
  },
  {
   "cell_type": "code",
   "execution_count": 2,
   "metadata": {
    "slideshow": {
     "slide_type": "fragment"
    }
   },
   "outputs": [
    {
     "data": {
      "text/plain": [
       "'Abarbarea         AB Abarbarea, Trojan fountain nymph\\nAbas              19 Abas, brother of Polyeidu'"
      ]
     },
     "execution_count": 2,
     "metadata": {},
     "output_type": "execute_result"
    }
   ],
   "source": [
    "homer[:100]"
   ]
  },
  {
   "cell_type": "code",
   "execution_count": 3,
   "metadata": {
    "slideshow": {
     "slide_type": "slide"
    }
   },
   "outputs": [],
   "source": [
    "fh = open('homer_characters.txt','r')"
   ]
  },
  {
   "cell_type": "code",
   "execution_count": 4,
   "metadata": {},
   "outputs": [
    {
     "data": {
      "text/plain": [
       "<open file 'homer_characters.txt', mode 'r' at 0x1023254b0>"
      ]
     },
     "execution_count": 4,
     "metadata": {},
     "output_type": "execute_result"
    }
   ],
   "source": [
    "fh"
   ]
  },
  {
   "cell_type": "markdown",
   "metadata": {
    "slideshow": {
     "slide_type": "slide"
    }
   },
   "source": [
    "## File stream iterator"
   ]
  },
  {
   "cell_type": "code",
   "execution_count": 5,
   "metadata": {
    "slideshow": {
     "slide_type": "fragment"
    }
   },
   "outputs": [
    {
     "data": {
      "text/plain": [
       "'Abarbarea         AB Abarbarea, Trojan fountain nymph\\n'"
      ]
     },
     "execution_count": 5,
     "metadata": {},
     "output_type": "execute_result"
    }
   ],
   "source": [
    "next(fh)"
   ]
  },
  {
   "cell_type": "code",
   "execution_count": 6,
   "metadata": {
    "slideshow": {
     "slide_type": "fragment"
    }
   },
   "outputs": [
    {
     "data": {
      "text/plain": [
       "'Abas              19 Abas, brother of Polyeidus, killed by Diomedes\\n'"
      ]
     },
     "execution_count": 6,
     "metadata": {},
     "output_type": "execute_result"
    }
   ],
   "source": [
    "next(fh)"
   ]
  },
  {
   "cell_type": "code",
   "execution_count": 5,
   "metadata": {
    "scrolled": true,
    "slideshow": {
     "slide_type": "slide"
    }
   },
   "outputs": [
    {
     "name": "stdout",
     "output_type": "stream",
     "text": [
      "Abarbarea         AB Abarbarea, Trojan fountain nymph\n",
      "Abas              19 Abas, brother of Polyeidus, killed by Diomedes\n",
      "Ablerus           25 Ablerus, Trojan soldier killed by Antilochus\n",
      "Acamas            02 Acamas, son of Antenor, lieutenant of Aeneas\n",
      "Acamas_2          1U Acamas, Thracian commander, killed by Great\n",
      "Achilles          AC Achilles, angry warrior, swift-footed chief of Myrmidons from Phthia\n",
      "Actor             57 Actor, brother of Augeias\n",
      "Adamas            3W Adamas, son of Asius, killed by Meriones\n",
      "Adrestus          03 Adrestus, son of Merops, co-leader of Adresteians\n",
      "Adrestus_2        A1 Adrestus, Trojan warrior killed by Patroclus\n",
      "Aegaeon           AZ Aegaeon, hundred-armed giant, brother of Cronus\n",
      "Aeneas            AE Aeneas, leader of Dardanians\n",
      "Aenius            Q2 Aenius, charioteer from Paeonia killed by Achilles\n",
      "Aeolus            WI Aeolus, lord of winds\n",
      "Aesepus           1Z Aesepus, son of Bucolion and Abarbarea, killed by Euryalus\n",
      "Aesymnus          71 Aesymnus, Greek warrior killed by Hector\n",
      "Aethra            AA Aethra, Trojan lady in waiting\n",
      "Agamede           6V Agamede, eldest daughter of Augeias\n",
      "Agamemnon         AG Agamemnon, king of Argos and Mycenae, leader of Greek forces\n",
      "Agapenor          9P Agapenor, king of Arcadians\n",
      "Agastrophus       3G Agastrophus, Trojan warrior killed by Diomedes\n",
      "Agathon           T2 Agathon, son of Priam\n",
      "Agelaus           2M Agelaus, Trojan warrior killed by Diomedes\n",
      "Agelaus_2         72 Agelaus, Greek warrior killed by Hector\n",
      "Agenor            AO Agenor, heir of Antenor, assists Aeneas\n",
      "Agrius            52 Agrius, brother of Oeneus\n",
      "Alastor           1N Alastor, Lycian speared by Odysseus\n",
      "Alastor_2         8W Alastor, Pylian commander\n",
      "Alcandrus         1P Alcandrus, Lycian speared by Odysseus\n",
      "Alcathous         3T Alcathous, brother-in-law of Aeneas, killed by Idomeneus\n",
      "Alcimedon         5E Alcimedon, Myrmidon leader\n",
      "Alcimus           8J Alcimus, friend of Achilles\n",
      "Alcmaon           6P Alcmaon, Greek warrior killed by Sarpedon\n",
      "Alcmene           62 Alcmene, mother of Heracles\n",
      "Altes             S2 Altes, king of the Leleges, father of Laothoe\n",
      "Althea            7I Althea, wife of Oeneus, curses Meleager\n",
      "Amazons           2G Amazons, warlike community of women\n",
      "Amisodarus        H0 Amisodarus, father of Atymnius and Maris\n",
      "Amopaon           2T Amopaon, Trojan warrior shot by Teucer\n",
      "Amphiclus         E0 Amphiclus, Trojan warrior killed by Meges\n",
      "Amphidamas        7B Amphidamas, Argonaut from Cythera\n",
      "Amphimachus       0M Amphimachus, vain brother of Nastes, co-leader of Carians\n",
      "Amphimachus_2     9O Amphimachus, son of Cteatus, leader of an Epeian flotilla\n",
      "Amphion           6H Amphion, lieutenant of Meges\n",
      "Amphius           04 Amphius, son of Merops, co-leader of Adresteians\n",
      "Amphius_2         1J Amphius, fighter from Paesus, killed by Great\n",
      "Amphoterus        P0 Amphoterus, Trojan warrior killed by Patroclus\n",
      "Amyntor           7L Amyntor, father of Phoenix\n",
      "Ancaeus           61 Ancaeus, wrestler once beaten by Nestor\n",
      "Anchialus         8E Anchialus, veteran Greek fighter slain by Hector\n",
      "Anchises          AI Anchises, father of Aeneas\n",
      "Andromache        AH Andromache, wife of Hector\n",
      "Anteia            29 Anteia, wife of Oeneus\n",
      "Antenor           AN Antenor, aged councilor to Priam\n",
      "Antilochus        AL Antilochus, son of Nestor\n",
      "Antimachus        36 Antimachus, Trojan councillor\n",
      "Antiphates        44 Antiphates, Trojan warrior killed by Leonteus\n",
      "Antiphonus        V2 Antiphonus, son of Priam\n",
      "Antiphus          0K Antiphus, brother of Mesthles, co-leader of Maeonian forces\n",
      "Antiphus_2        34 Antiphus, son of Priam, killed by Agamemnon\n",
      "Antiphus_3        9F Antiphus, grandson of Heracles, leader of troops from Dodecanese islands\n",
      "Aphareus          7T Aphareus, Greek captain of 100 spearmen, killed by Aeneas\n",
      "Aphrodite         AF Aphrodite (Venus), daughter of Zeus and Dione, roots for Trojans\n",
      "Apisaon           3S Apisaon, Trojan warrior killed by Eurypylus\n",
      "Apisaon_2         N1 Apisaon, Trojan warrior killed by Lycomedes\n",
      "Apollo            AP Apollo, son of Zeus and Leto, roots for Trojans\n",
      "Arcesilaus        9Z Arcesilaus, Boeotian leader\n",
      "Archelochus       01 Archelochus, son of Antenor, lieutenant of Aeneas\n",
      "Archeptolemus     2L Archeptolemus, Eniopeus's replacement\n",
      "Archesilaus       5W Archesilaus, friend of Menestheus, killed by Hector\n",
      "Areilycus         C0 Areilycus, Trojan warrior killed by Patroclus\n",
      "Areilycus_2       60 Areilycus, Greek warrior killed by Polydamus\n",
      "Areithous         G2 Areithous, driver of Rhigmus, killed by Achilles\n",
      "Areithous_2       7Y Areithous, king of Arne in Thrace\n",
      "Ares              AR Ares (Mars), son of Zeus, roots for Trojans\n",
      "Aretaon           24 Aretaon, Trojan soldier killed by Teucer\n",
      "Aretus            O1 Aretus, son of Priam, killed by Automedon\n",
      "Ariadne           8Z Ariadne, daughter of Minos\n",
      "Artemis           AM Artemis (Cynthia/Diana), daughter of Zeus and Leto, roots for Trojans\n",
      "Asaeus            77 Asaeus, Greek warrior killed by Hector\n",
      "Ascalaphus        9X Ascalaphus, twin brother of Ialmenus\n",
      "Ascanius          0I Ascanius, godlike co-leader of Phrygian forces\n",
      "Ascanius_2        4L Ascanius, Trojan warrior\n",
      "Asclepius         97 Asclepius, famous physician, father of Machaon and Podaleirius\n",
      "Asius             06 Asius, leader of Hellespontian forces\n",
      "Assaracus         R1 Assaracus, son of Tros, grandfather of Aeneas\n",
      "Asteropaeus       3V Asteropaeus, leader of the Paeonians\n",
      "Astyalus          22 Astyalus, Trojan killed by Polypoetes\n",
      "Astynous          17 Astynous, Trojan killed by Diomedes\n",
      "Astynous_2        4X Astynous, charioteer for Polydamus\n",
      "Astyoche          9V Astyoche, mother of Ascalaphus and Ialmenus\n",
      "Astyocheia        9J Astyocheia, captured at Ephyra by Heracles\n",
      "Astypylus         N2 Astypylus, charioteer from Paeonia killed by Achilles\n",
      "Ate               MC Ate, goddess of mischief, eldest daughter of Zeus\n",
      "Athene            AT Athene (Minerva), daughter of Zeus, favors Greeks\n",
      "Atreus            AS Atreus, high king, father of Agamemnon and Menelaus\n",
      "Atymnius          F0 Atymnius, friend of Sarpedon, Trojan warrior killed by Antilochus\n",
      "Augeias           AU Augeias, king in Elis, stables cleaned by Heracles\n",
      "Autolycus         7C Autolycus, sly grandfather of Odysseus\n",
      "Automedon         AD Automedon, charioteer of Achilles\n",
      "Autonous          B1 Autonous, Trojan warrior killed by Patroclus\n",
      "Autonous_2        76 Autonous, Greek warrior killed by Hector\n",
      "Axius             RA Axius, god of river in Macedonia\n",
      "Axylus            1V Axylus, popular nobleman in suburban Troy, killed by Diomedes\n",
      "Bathycles         5C Bathycles, wealthy Myrmidon, killed by Glaucus\n",
      "Bellerophon       BL Bellerophon, king of Lycia after killing Chimera, Solymi, Amazons\n",
      "Bias              6I Bias, lieutenant of Menestheus\n",
      "Bias_2            8T Bias, Pylian commander\n",
      "Bienor            32 Bienor, Trojan commander killed by Agamemnon\n",
      "Boreas            BO Boreas, the north wind\n",
      "Borus             5L Borus, putative father of Menestheus_2\n",
      "Briseis           BR Briseis, prize in Achilles harem\n",
      "Bucolion          21 Bucolion, illegitimate eldest son of Laomedon\n",
      "Calchas           CA Calchas, wise prophet\n",
      "Caletor           4V Caletor, son of Clytius, killed by Great\n",
      "Calysius          1W Calysius, charioteer of Axylus, killed by Diomedes\n",
      "Cassandra         4A Cassandra, prophetess, daughter of Priam\n",
      "Castor            CT Castor, brother of Helen, tamer of horses\n",
      "Cebriones         2W Cebriones, half-brother of Hector, Archeptolemus's replacement\n",
      "Charis            CI Charis, wife of Hephaestus\n",
      "Charops           3L Charops, Trojan warrior, brother of Socus, killed by Odysseus\n",
      "Chersidamas       3K Chersidamas, Trojan warrior killed by Odysseus\n",
      "Chimera           CM Chimera, monster with head of lioness and tail of snake\n",
      "Chiron            CN Chiron, centaur, instructor of Asclepius and Achilles\n",
      "Chromius          0F Chromius, co-leader of Mysian forces\n",
      "Chromius_2        1E Chromius, son of Priam, killed by Diomedes\n",
      "Chromius_3        1O Chromius, Lycian speared by Odysseus\n",
      "Chromius_4        2R Chromius, Trojan warrior shot by Teucer\n",
      "Chromius_5        8V Chromius, Pylian commander\n",
      "Chryseis          CS Chryseis, daughter of Chryses\n",
      "Chryses           CH Chryses, priest of Apollo\n",
      "Chrysothemis      7P Chrysothemis, daughter of Agamemnon\n",
      "Cinyras           78 Cinyras, king of Cyprus\n",
      "Cisses            3A Cisses, father of Theano, guardian of Iphidamus\n",
      "Cleitus           4W Cleitus, Trojan warrior killed by Teucer\n",
      "Cleobolus         I0 Cleobolus, Trojan warrior killed by Little\n",
      "Cleopatra         7H Cleopatra, wife of Meleager, daughter of Idas and Marpessa\n",
      "Clonius           9Y Clonius, Boeotian leader slain by Agenor\n",
      "Clymene           CL Clymene, Trojan lady in waiting, cow-eyed\n",
      "Clysonomus        86 Clysonomus, boy killed in quarrel by young Patroclus\n",
      "Clytia            7K Clytia, beautiful slave girl of Amyntor\n",
      "Clytius           0Q Clytius, brother of Priam\n",
      "Clytomedes        63 Clytomedes, boxer once beaten by Nestor\n",
      "Coeranus          1M Coeranus, Lycian speared by Odysseus\n",
      "Coeranus_2        59 Coeranus, charioteer of Meriones, killed by Hector\n",
      "Coon              3B Coon, eldest son of Antenor, killed by Agamemnon after wounding him\n",
      "Copreus           5Q Copreus, herald of Eurystheus\n",
      "Crethon           8H Crethon, twin brother of Orsilochus_2, lopped down by Aeneas\n",
      "Croesmus          4Z Croesmus, Trojan warrior killed by Meges\n",
      "Cronus            CR Cronus (Saturn), father of Hades, Poseidon, Zeus\n",
      "Daedalus          8Y Daedalus, Athenian architect\n",
      "Daetor            2Q Daetor, Trojan warrior shot by Teucer\n",
      "Damasus           41 Damasus, Trojan warrior killed by Polypoetes\n",
      "Danae             68 Danae, mother of Perseus, had beautiful ankles\n",
      "Dardanus          A2 Dardanus, brother of Loagonus, killed by Achilles\n",
      "Dares             10 Dares, noble priest of Hephaestus in Troy\n",
      "Death             DE Death, twin brother of Sleep\n",
      "Deicoon           1H Deicoon, friend of Aeneas, killed by Agamemnon\n",
      "Deiochus          5U Deiochus, Greek warrior killed by Paris\n",
      "Deiopites         3H Deiopites, Trojan warrior killed by Odysseus\n",
      "Deiphobus         DP Deiphobus, son of Priam and Hecuba\n",
      "Deipyle           6F Deipyle, mother of Diomedes\n",
      "Deipylus          8L Deipylus, companion of Sthenelus\n",
      "Deipyrus          7S Deipyrus, Greek captain of 100 spearmen, killed by Helenus\n",
      "Deisenor          M1 Deisenor, Trojan leader\n",
      "Demeter           DM Demeter (Ceres), goddess with beautiful hair, mother of Persephone\n",
      "Democoon          0X Democoon, bastard son of Priam, killed by Odysseus\n",
      "Demoleon          U1 Demoleon, son of Antenor, killed by Achilles\n",
      "Demuchus          Y1 Demuchus, Trojan warrior killed by Achilles\n",
      "Deucalion         E2 Deucalion, Trojan warrior killed by Achilles\n",
      "Dia               69 Dia, mother of Peirithous\n",
      "Diomede           7E Diomede, slave girl captured by Achilles on Lesbos\n",
      "Diomedes          DI Diomedes, king of middle Argos, Tiryns, and Aegina\n",
      "Dione             DN Dione, consort of Zeus\n",
      "Dionysus          DT Dionysus (Bacchus), god of wine\n",
      "Diores            9M Diores, leader of an Epeian flotilla, killed by Peirous\n",
      "Dius              X2 Dius, arrogant son of Priam\n",
      "Dolon             2X Dolon, rich, swift-footed, ugly Trojan\n",
      "Dolops            A0 Dolops, son of Lampus, killed by Menelaus\n",
      "Dolops_2          74 Dolops, Greek warrior killed by Hector\n",
      "Doryclus          3N Doryclus, illegitmate son of Priam, killed by Great\n",
      "Dracius           6G Dracius, lieutenant of Meges\n",
      "Dresus            1X Dresus, Trojan killed by Euryalus\n",
      "Dryops            X1 Dryops, Trojan warrior killed by Achilles\n",
      "Echecles          5I Echecles, married Polymele after Eudorus was born\n",
      "Echeclus          C1 Echeclus, Trojan warrior killed by Patroclus\n",
      "Echeclus_2        D2 Echeclus, son of Agenor, Trojan warrior killed by Achilles\n",
      "Echemmon          1D Echemmon, son of Priam, killed by Diomedes\n",
      "Echepolus         0V Echepolus, killed by Antilochus\n",
      "Echepolus_2       6C Echepolus, subject of Agamemnon who avoids the war\n",
      "Echius            S0 Echius, Trojan warrior killed by Patroclus\n",
      "Echius_2          7V Echius, father of Mecisteus_2\n",
      "Eeriboea          EE Eeriboea, stepmother of Ephialtes and Otus\n",
      "Eetion            2I Eetion, king of Cilicia, father of Andromache\n",
      "Eetion_2          H2 Eetion, guest-friend of Priam\n",
      "Eileithyia        5G Eileithyia, daughter of Hera, goddess of childbirth\n",
      "Eioneus           80 Eioneus, Greek from Magnesia, slain by Hector\n",
      "Elasus            G1 Elasus, Trojan warrior killed by Patroclus\n",
      "Elatus            26 Elatus, soldier from Pedasus, killed by Agamemnon\n",
      "Elephenor         9S Elephenor, leader of the long-haired Abantes\n",
      "Eniopeus          2K Eniopeus, Hector's charioteer, killed by Diomedes\n",
      "Ennomus           0G Ennomus, augur and co-leader of Mysian forces\n",
      "Ennomus_2         3J Ennomus, Trojan warrior killed by Odysseus\n",
      "Enyo              EN Enyo (Bellona), goddess of war\n",
      "Eos               EO Eos (Aurora), rosy-fingered and saffron-robed goddess of dawn\n",
      "Epaltes           Q0 Epaltes, Trojan warrior killed by Patroclus\n",
      "Epeigeus          5D Epeigeus, Myrmidon leader killed by Hector\n",
      "Epeius            56 Epeius, huge Greek warrior, champion boxer\n",
      "Ephialtes         EF Ephialtes, giant, brother of Otus\n",
      "Epicles           47 Epicles, comrade of Sarpedon, killed by Great\n",
      "Epistor           E1 Epistor, Trojan warrior killed by Patroclus\n",
      "Epistrophus       0E Epistrophus, co-leader of Halizonian forces\n",
      "Epistrophus_2     9D Epistrophus, brother of Mynes, slain by Achilles\n",
      "Epistrophus_3     9T Epistrophus, son of Iphitus, Phocian leader\n",
      "Erechtheus        9R Erechtheus, ancient ruler of Athens\n",
      "Ereuthalion       7W Ereuthalion, favorite squire of Lycurgus\n",
      "Erichtonius       S1 Erichtonius, richest man alive, father of Tros\n",
      "Erinnyes          ER Erinnyes (Furies), goddesses of vengeance\n",
      "Erymas            K0 Erymas, Trojan warrior killed by Idomeneus\n",
      "Erymas_2          O0 Erymas, Trojan warrior killed by Patroclus\n",
      "Eteocles          8P Eteocles, brother of Polyneices\n",
      "Euchenor          6L Euchenor, son of Polyidus, killed by Paris\n",
      "Eudorus           5K Eudorus, Myrmidon leader, son of Hermes and Polymele\n",
      "Eumelus           9A Eumelus, leader of Thessalian contingent\n",
      "Euneus            8I Euneus, king of Lemnos, son of Janos and Hypsipyle\n",
      "Euphemus          0A Euphemus, leader of Ciconian spearmen\n",
      "Euphorbus         J1 Euphorbus, son of Panthous, killed by Menelaus after wounding Patroclus\n",
      "Europa            64 Europa, mother of Rhadamanthus and Minos\n",
      "Eurus             EU Eurus, the east wind\n",
      "Euryalus          EA Euryalus, lieutenant of Diomedes\n",
      "Euryalus_2        N0 Euryalus, Trojan warrior killed by Patroclus\n",
      "Eurybates         EB Eurybates, herald of Agamemnon\n",
      "Eurymedon         EM Eurymedon, Greek charioteer\n",
      "Eurynome          90 Eurynome, daughter of Oceanus\n",
      "Eurypylus         EP Eurypylus, leader of forty ships from Thessaly\n",
      "Eurystheus        7U Eurystheus, king of Mycenae, made Heracles labor\n",
      "Evippus           V0 Evippus, Trojan warrior killed by Patroclus\n",
      "False             FD False Dream, messenger of Zeus\n",
      "Ganymede          1G Ganymede, son of Tros, made cupbearer to Olympian by Zeus\n",
      "Glaucus           GL Glaucus, comrade and squire of Sarpedon, grandson of Bellerophon\n",
      "Glaucus_2         84 Glaucus, son of Sisyphus, father of Bellerophon\n",
      "Gorgythion        2V Gorgythion, son of Priam, shot by Teucer\n",
      "Graces            GR Graces, handmaidens of Aphrodite\n",
      "Great             AJ Great Ajax, king of Salamis\n",
      "Greek             GS Greek soldiers, collectively\n",
      "Guneus            92 Guneus, king of Cyphus, leader of Thessailian contingent\n",
      "Hades             HD Hades (Pluto), king of the underworld\n",
      "Haemon            8U Haemon, Pylian commander\n",
      "Halius            1Q Halius, Lycian speared by Odysseus\n",
      "Harpalion         4G Harpalion, son of Pylaemenes, killed by Meriones\n",
      "Hebe              HB Hebe, daughter of Zeus and Hera, goddess of youth\n",
      "Hecamede          6Y Hecamede, female slave presented by Achilles to Nestor\n",
      "Hector            HT Hector, eldest son of Priam and Hecuba, brilliant commander of Trojan army\n",
      "Hecuba            HC Hecuba, wife of Priam, queen of Troy\n",
      "Helen             HL Helen, wife of Menelaus, brought to Troy by Paris\n",
      "Helenus           HN Helenus, son of Priam, soothsayer\n",
      "Helenus_2         8A Helenus, Greek fighter, slain by Hector\n",
      "Hephaestus        HP Hephaestus (Vulcan), crippled son of Zeus and Hera, favors Greeks\n",
      "Hera              HE Hera (Juno), wife of Zeus, favors Greeks\n",
      "Heracles          HR Heracles (Hercules), heroic strong man\n",
      "Hermes            HM Hermes (Mercury), son of Zeus, slightly favors the Greeks\n",
      "Hesione           1L Hesione, daughter of Laomedon, rescued by Heracles\n",
      "Hicetaon          0R Hicetaon, brother of Priam\n",
      "Hippocoon         2Z Hippocoon, cousin of Rhesus\n",
      "Hippodameia       4C Hippodameia, talented eldest daughter of Anchises\n",
      "Hippodamus        3E Hippodamus, Trojan warrior killed by Odysseus\n",
      "Hippodamus_2      V1 Hippodamus, driver of Demoleon, killed by Achilles\n",
      "Hippolochus       2D Hippolochus, son of Bellerophon and Philonoe, father of Glaucus\n",
      "Hippolochus_2     38 Hippolochus, son of Antimachus, killed by Agamemnon\n",
      "Hipponous         6Z Hipponous, Greek warrior killed by Hector\n",
      "Hippothous        07 Hippothous, twin brother of Pylaeus, co-leader of Pelasgians\n",
      "Hippothous_2      W2 Hippothous, son of Priam\n",
      "Hippotion         4R Hippotion, Trojan warrior killed by Meriones\n",
      "Homer             HO Homer, the poet\n",
      "Hours             HA Hours (Horae), goddesses of the seasons\n",
      "Hypeirochus       3F Hypeirochus, Trojan warrior killed by Odysseus\n",
      "Hypeiron          18 Hypeiron, Trojan killed by Diomedes\n",
      "Hyperenor         4U Hyperenor, son of Panthous, Trojan warrior killed by Menelaus\n",
      "Hypsenor          16 Hypsenor, son of Trojan priest, killed by Eurypylus\n",
      "Hypsenor_2        6N Hypsenor, Greek warrior slain by Deiphobus\n",
      "Hypsipyle         6D Hypsipyle, wife of Jason\n",
      "Hyrtius           4P Hyrtius, Trojan warrior killed by Great\n",
      "Ialmenus          9W Ialmenus, son of Ares and Astyoche, leader of Minyans\n",
      "Iamenus           3X Iamenus, fighter with Asius\n",
      "Iamenus_2         46 Iamenus, Trojan warrior killed by Leonteus\n",
      "Iasus             5V Iasus, Athenian leader killed by Aeneas\n",
      "Idaeus            IA Idaeus, Trojan herald\n",
      "Idaeus_2          0Z Idaeus, brother of Phegeus, saved by Hephaestus\n",
      "Idas              7G Idas, strongest man of his day\n",
      "Idomeneus         ID Idomeneus, king of Crete\n",
      "Ilioneus          4O Ilioneus, Trojan warrior killed by Peneleos\n",
      "Ilus              Q1 Ilus, son of Tros, ancient king of Troy\n",
      "Imbrius           48 Imbrius, husband of Medesicaste, killed by Teucer\n",
      "Iobates           2A Iobates, ancient king of Lycia, father of Anteia and Philonoe\n",
      "Ipheus            U0 Ipheus, Trojan warrior killed by Patroclus\n",
      "Iphianassa        7N Iphianassa, daughter of Agamemnon\n",
      "Iphiclus          5Y Iphiclus, runner once beaten by Nestor\n",
      "Iphidamus         39 Iphidamus, son of Antenor and Theano, killed by Agamemnon\n",
      "Iphinous          7Z Iphinous, Greek warrior slain by Glaucus\n",
      "Iphis             7D Iphis, slave girl captured by Achilles on Scyros\n",
      "Iphition          T1 Iphition, Trojan warrior killed by Achilles\n",
      "Iris              IR Iris, golden-winged Olympian messenger\n",
      "Isander           2C Isander, son of Bellerophon and Philonoe\n",
      "Isus              35 Isus, illegitimate son of Priam, killed by Agamemnon\n",
      "Itymoneus         6X Itymoneus, Elean cattleman killed by Nestor\n",
      "Janos             6E Janos, leader of the Argonauts\n",
      "Lampus            0P Lampus, brother of Priam\n",
      "Laodamas          4Y Laodamas, Trojan warrior killed by Great\n",
      "Laodameia         2E Laodameia, daughter of Bellerophon and Philonoe\n",
      "Laodice           LA Laodice, loveliest daughter of Priam and Hecuba\n",
      "Laodice_2         7O Laodice, daughter of Agamemnon\n",
      "Laodocus          58 Laodocus, comrade of Antilochus\n",
      "Laogonus          Z0 Laogonus, Trojan warrior killed by Meriones\n",
      "Laomedon          1K Laomedon, king of Troy, father of Priam, killed by Heracles\n",
      "Laothoe           I2 Laothoe, concubine of Priam\n",
      "Leiocritus        5B Leiocritus, Greek warrior killed by Aeneas\n",
      "Leitus            LT Leitus, leader of Boeotians\n",
      "Leonteus          93 Leonteus, co-leader with Polypoetes of Thessalian contingent\n",
      "Leto              LE Leto (Latona), mother of Artemis and Apollo\n",
      "Leucus            8M Leucus, companion of Odysseus\n",
      "Licymnius         9I Licymnius, uncle of Heracles, murdered by Tlepolemus\n",
      "Little            AX Little Ajax, king of Locris, handiest with a spear\n",
      "Loagonus          Z1 Loagonus, Trojan warrior killed by Achilles\n",
      "Lycaon            LY Lycaon, brother of Paris\n",
      "Lycomedes         7R Lycomedes, Greek captain of 100 spearmen\n",
      "Lycon             J0 Lycon, Trojan warrior killed by Peneleos\n",
      "Lycophontes       2S Lycophontes, Trojan warrior shot by Teucer\n",
      "Lycophron         5T Lycophron, squire of Great, killed by Hector\n",
      "Lycurgus          7X Lycurgus, Arcadian warrior, killer of Areithous_2\n",
      "Lycurgus_2        87 Lycurgus, king of the Edonians\n",
      "Lysander          3P Lysander, Trojan warrior killed by Great\n",
      "Machaon           95 Machaon, physician and co-leader of Thessalian contingent\n",
      "Maeon             8O Maeon, Theban warrior, spared by Tydeus\n",
      "Maris             G0 Maris, friend of Sarpedon, Trojan warrior killed by Thrasymedes\n",
      "Marpessa          7F Marpessa, had beautiful ankles\n",
      "Mecisteus         55 Mecisteus, father of Euryalus\n",
      "Mecisteus_2       6M Mecisteus, companion of Antilochus, killed by Polydamus\n",
      "Medesicaste       49 Medesicaste, illegitimate daughter of Priam\n",
      "Medon             K1 Medon, Trojan leader\n",
      "Medon_2           98 Medon, step-brother of Little, replaced Philoctetes as leader of Thessalian contingent\n",
      "Meges             MG Meges, son of Phylus, flotilla leader from western islands\n",
      "Melanippus        2U Melanippus, Trojan warrior shot by Teucer\n",
      "Melanippus_2      B0 Melanippus, neighber of Priam, killed by Antilochus\n",
      "Melanippus_3      F1 Melanippus, Trojan warrior killed by Patroclus\n",
      "Melanippus_4      8K Melanippus, Greek leader\n",
      "Melanthius        28 Melanthius, Trojan soldier killed by Eurypylus\n",
      "Melas             51 Melas, brother of Oeneus\n",
      "Meleager          7J Meleager, son of Oeneus and Althea\n",
      "Menelaus          ME Menelaus, brother of Agamemnon, king of Sparta\n",
      "Menesthes         8F Menesthes, veteran Greek fighter dispatched by Hector\n",
      "Menestheus        MT Menestheus, Athenian leader, renowned chariot-fighter\n",
      "Menestheus_2      5O Menestheus, Myrmidon leader, son of Polydora and Spercheius\n",
      "Menesthius        81 Menesthius, son of Areithous_2, killed by Paris\n",
      "Menoetius         6S Menoetius, father of Patroclus\n",
      "Menon             45 Menon, Trojan warrior killed by Leonteus\n",
      "Meriones          MR Meriones, comrade and squire of Idomeneus\n",
      "Mermerus          4Q Mermerus, Trojan warrior killed by Antilochus\n",
      "Merops            05 Merops, king of Percote, soothsayer\n",
      "Mesthles          0J Mesthles, brother of Antiphus, co-leader of Maeonian forces\n",
      "Mestor            30 Mestor, deceased son of Priam\n",
      "Minos             66 Minos, ancient king of Crete\n",
      "Mnesus            O2 Mnesus, charioteer from Paeonia killed by Achilles\n",
      "Moira             MO Moira, personification of Fate\n",
      "Molion            3D Molion, charioteer of Thymbraeus, killed by Odysseus\n",
      "Moliones          5A Moliones, twin brothers, purported sons of Actor\n",
      "Moliones_2        6T Moliones, twin sons of Poseidon\n",
      "Molus             7A Molus, father of Meriones\n",
      "Morys             4M Morys, Trojan warrior killed by Meriones\n",
      "Mulius            H1 Mulius, Trojan warrior killed by Patroclus\n",
      "Mulius_2          C2 Mulius, Trojan warrior killed by Achilles\n",
      "Mulius_3          6U Mulius, husband of Agamede, killed by Nestor\n",
      "Muses             MU Muses, nine sisters who like to sing\n",
      "Mydon             1I Mydon, Pylaemenes's driver, killed by Antilochus\n",
      "Mydon_2           M2 Mydon, charioteer from Paeonia killed by Achilles\n",
      "Mygdon            0U Mygdon, king of Phrygia\n",
      "Mynes             9E Mynes, spearman slain by Achilles\n",
      "Nastes            0L Nastes, brother of Amphimachus, co-leader of Carian forces\n",
      "Neleus            6W Neleus, king of Pylos, father of Nestor\n",
      "Nereids           NR Nereids, sisters of Thetis\n",
      "Nestor            NE Nestor, venerable king of Pylus and Dorium\n",
      "Night             NI Night, goddess of nighttime\n",
      "Niobe             53 Niobe, queen of Thebes\n",
      "Nireus            9H Nireus, Symian leader, handsomest Greek excluding Achilles\n",
      "Noemon            1R Noemon, Lycian speared by Odysseus\n",
      "Noemon_2          6B Noemon, comrade of Antilochus\n",
      "Notus             NO Notus, the south wind\n",
      "Oceanus           OC Oceanus, father of all streams\n",
      "Odius             0D Odius, co-leader of Halizonian forces\n",
      "Odius_2           7M Odius, Greek herald\n",
      "Odysseus          OD Odysseus (Ulysses), crafty king of Ithaca\n",
      "Oedipus           54 Oedipus, king of Thebes\n",
      "Oeneus            82 Oeneus, king of Calydon\n",
      "Oenomaus          40 Oenomaus, fighter with Asius\n",
      "Oileus            33 Oileus, charioteer of Bienor, killed by Agamemnon\n",
      "Olympian          OG Olympian gods, collectively\n",
      "Ophelestes        2P Ophelestes, Trojan warrior shot by Teucer\n",
      "Ophelestes_2      R2 Ophelestes, charioteer from Paeonia killed by Achilles\n",
      "Opheltius         1Y Opheltius, Trojan killed by Euryalus\n",
      "Opheltius_2       73 Opheltius, Greek warrior killed by Hector\n",
      "Opites            75 Opites, Greek warrior killed by Hector\n",
      "Oresbius          89 Oresbius, Boeotian landowner, slain by Hector\n",
      "Orestes           3Y Orestes, fighter with Asius, killed by Leonteus\n",
      "Orestes_2         7Q Orestes, son of Agamemnon, student deferred from draft\n",
      "Orestes_3         8C Orestes, Greek charioteer, slain by Hector\n",
      "Ormenus           2O Ormenus, Trojan warrior shot by Teucer\n",
      "Ormenus_2         43 Ormenus, Trojan warrior killed by Polypoetes\n",
      "Orsilochus        2N Orsilochus, Trojan warrior shot by Teucer\n",
      "Orsilochus_2      8G Orsilochus, twin brother of Crethon, lopped down by Aeneas\n",
      "Orthaeus          4I Orthaeus, Trojan warrior\n",
      "Orus              70 Orus, Greek warrior killed by Hector\n",
      "Othryoneus        4B Othryoneus, suitor of Cassandra, killed by Idomeneus\n",
      "Otreus            0T Otreus, king of Phrygia\n",
      "Otus              OT Otus, giant, brother of Ephialtes\n",
      "Otus_2            5R Otus, comrade of Meges, killed by Polydamus\n",
      "Palmys            4K Palmys, Trojan warrior\n",
      "Pammon            U2 Pammon, son of Priam\n",
      "Pandarus          PN Pandarus, son of Lycaon, archer who breaks truce\n",
      "Pandion           6Q Pandion, bow-bearer of Teucer\n",
      "Pandocus          3O Pandocus, Trojan warrior killed by Great\n",
      "Panthous          0N Panthous, Trojan elder, formerly priest at Delphi\n",
      "Paris             PS Paris (Alexander), son of Priam and friend of Aphrodite\n",
      "Patroclus         PA Patroclus, righthand man of Achilles\n",
      "Pedaeus           15 Pedaeus, son of Antenor but not Theano, killed by Meges\n",
      "Pedasus           20 Pedasus, twin brother of Aesepus, killed by Euryalus\n",
      "Peirithous        6A Peirithous, son of Zeus and Dia, king of the Lapiths\n",
      "Peirous           09 Peirous, chief of Thracians, killed by Thoas_2\n",
      "Peisander         37 Peisander, son of Antimachus, killed by Agamemnon\n",
      "Peisander_2       4F Peisander, Trojan warrior killed by Menelaus\n",
      "Peisander_3       5F Peisander, Myrmidon leader\n",
      "Pelagon           1T Pelagon, attendant of Sarpedon\n",
      "Pelagon_2         8X Pelagon, Pylian commander\n",
      "Pelegon           J2 Pelegon, father of Asteropaeus, son of Axius and Periboea\n",
      "Peleus            PE Peleus, father of Achilles\n",
      "Pelops            PC Pelops, charioteer god\n",
      "Peneleos          PB Peneleos, leader of Boeotians\n",
      "Periboea          K2 Periboea, mother of Pelegon\n",
      "Perimus           D1 Perimus, Trojan warrior killed by Patroclus\n",
      "Periphas          88 Periphas, huge fighter, bravest of the Aetolians\n",
      "Periphetes        4T Periphetes, Trojan warrior killed by Teucer\n",
      "Periphetes_2      5P Periphetes, son of Copreus\n",
      "Persephone        PP Persephone (Proserpina), wife of Hades, queen of nether world\n",
      "Perseus           67 Perseus, Greek hero\n",
      "Phaestus          11 Phaestus, son of Maeonian nobleman, speared by Idomeneus\n",
      "Phalces           4H Phalces, Trojan warrior, killed by Antilochus\n",
      "Phegeus           0Y Phegeus, son of Dares, killed by Diomedes\n",
      "Pheidas           6J Pheidas, lieutenant of Menestheus\n",
      "Pheidippus        9G Pheidippus, brother of Antiphus_3, leader of troops from Dodecanese islands\n",
      "Phereclus         13 Phereclus, Trojan shipbuilder, killed by Meriones\n",
      "Philoctetes       99 Philoctetes, famous archer bitten by a snake\n",
      "Philonoe          2B Philonoe, wife of Bellerophon\n",
      "Phoenix           PX Phoenix, king of Dolopians, tutor and foster father of Achilles\n",
      "Phorcys           0H Phorcys, co-leader of Phrygian forces\n",
      "Phylacus          27 Phylacus, Trojan soldier killed by Leitus\n",
      "Phylas            5H Phylas, father of Polymele\n",
      "Phyleus           5X Phyleus, javelin-thrower once beaten by Nestor\n",
      "Phylus            FY Phylus, son of Augeias, horseman favored by Zeus\n",
      "Pidytes           23 Pidytes, warrior from Percote, killed by Odysseus\n",
      "Podaleirius       96 Podaleirius, physician and co-leader of Thessalian contingent\n",
      "Podarces          9B Podarces, brother of Protesilaus, leader of Thessalian contingent\n",
      "Podarge           PH Podarge, a harpy (snatcher)\n",
      "Podes             P1 Podes, son of Eetion, killed by Menelaus\n",
      "Polites           PL Polites, son of Priam\n",
      "Polybus           31 Polybus, son of Antenor\n",
      "Polydamus         PD Polydamus, Trojan prince, son of Panthous\n",
      "Polydeuces        PU Polydeuces (Pollux), twin brother of Castor, boxer\n",
      "Polydora          5N Polydora, sister of Achilles\n",
      "Polydorus         W1 Polydorus, youngest and favorite son of Priam, killed by Achilles\n",
      "Polydorus_2       5M Polydorus, javelin-thrower once beaten by Nestor\n",
      "Polyeidus         1A Polyeidus, son of Trojan soothsayer, killed by Diomedes\n",
      "Polyidus          6K Polyidus, seer from Corinth\n",
      "Polymele          5J Polymele, singer and dancer\n",
      "Polymelus         W0 Polymelus, Trojan warrior killed by Patroclus\n",
      "Polyneices        8Q Polyneices, king of Thebes\n",
      "Polyphetes        4J Polyphetes, Trojan warrior\n",
      "Polypoetes        94 Polypoetes, son of Peirithous, co-leader of Thessalian contingent\n",
      "Polyxeinus        9L Polyxeinus, leader of an Epeian flotilla\n",
      "Popyphontes       8N Popyphontes, Theban warrior, killed by Tydeus\n",
      "Poseidon          PO Poseidon (Neptune), king of the sea, favors Greeks\n",
      "Priam             PR Priam, king of Troy, son of Laomedon\n",
      "Proetus           83 Proetus, king of Tiryns, overlord of Bellerophon\n",
      "Promachus         5Z Promachus, Greek warrior killed by Acamas\n",
      "Pronous           L0 Pronous, Trojan warrior killed by Patroclus\n",
      "Protesilaus       9C Protesilaus, the first Greek to land and the first casualty\n",
      "Prothoenor        PT Prothoenor, Boeotian chief\n",
      "Prothoon          4S Prothoon, Trojan warrior killed by Teucer\n",
      "Prothous          91 Prothous, commander of Magnesian forces\n",
      "Prytanis          1S Prytanis, Lycian speared by Odysseus\n",
      "Pylaemenes        0C Pylaemenes, leader of Paphlagonian forces\n",
      "Pylaeus           08 Pylaeus, twin brother of Hippothous, co-leader of Pelasgians\n",
      "Pylartes          3R Pylartes, Trojan warrior killed by Great\n",
      "Pylartes_2        I1 Pylartes, Trojan warrior killed by Patroclus\n",
      "Pylon             42 Pylon, Trojan warrior killed by Polypoetes\n",
      "Pyraechmes        0B Pyraechmes, leader of Paeonian archers\n",
      "Pyrasus           3Q Pyrasus, Trojan warrior killed by Great\n",
      "Pyris             T0 Pyris, Trojan warrior killed by Patroclus\n",
      "Rhadamanthus      65 Rhadamanthus, brother of Minos\n",
      "Rhea              RH Rhea, consort of Cronus, mother of Zeus, Hera, Poseidon, Hades\n",
      "Rhesus            2Y Rhesus, Thracian king, murdured in sleep by Diomedes\n",
      "Rhigmus           F2 Rhigmus, Trojan warrior killed by Achilles\n",
      "Robots            RO Robots, golden handmaidens fabricated by Hephaestus\n",
      "Rumor             RU Rumor, goddess and servant of Zeus\n",
      "Sarpedon          SA Sarpedon, son of Zeus and Laodameia, leader of the Lycians\n",
      "Satnius           4N Satnius, Trojan warrior killed by Little\n",
      "Scamandrius       12 Scamandrius, Trojan archer trained by Artemis, speared by Menelaus\n",
      "Scamandrius_2     2J Scamandrius, infant son of Hector and Andromache, nicknamed Astyanax\n",
      "Schedius          5S Schedius, Greek warrior killed by Hector\n",
      "Schedius_2        9U Schedius, son of Iphitus, Phocian leader\n",
      "Semele            SE Semele, mother of Dionysus\n",
      "Simoeis           SI Simoeis, river god, tributary of Xanthus\n",
      "Simoeisius        0W Simoeisius, killed by Great\n",
      "Sisyphus          85 Sisyphus, crafty son of Aeolus\n",
      "Sleep             SL Sleep, twin brother of Death\n",
      "Socus             3M Socus, wealthy Trojan warrior, killed by Odysseus\n",
      "Solymi            2F Solymi, Lycian tribe\n",
      "Spercheius        SP Spercheius, tireless river god\n",
      "Sthenelaus        Y0 Sthenelaus, Trojan warrior killed by Patroclus\n",
      "Sthenelus         ST Sthenelus, lieutenant of Diomedes\n",
      "Stichius          6O Stichius, lieutenant of Menestheus, killed by Hector\n",
      "Strife            SF Strife, twin of Ares\n",
      "Talthybius        TA Talthybius, herald of Agamemnon\n",
      "Telamon           TE Telamon, father of Great and Teucer\n",
      "Tethys            TT Tethys, wife of Oceanus\n",
      "Teucer            TU Teucer, half brother of Great\n",
      "Teuthras          8D Teuthras, Greek from Magnesia, slain by Hector\n",
      "Thalpius          9N Thalpius, leader of an Epeian flotilla\n",
      "Thamyris          9Q Thamyris, Thracian bard\n",
      "Theano            14 Theano, wife of Antenor, priestess of Athene\n",
      "Themis            TI Themis, fair-cheeked goddess of law\n",
      "Thersilochus      L1 Thersilochus, Trojan leader\n",
      "Thersilochus_2    L2 Thersilochus, charioteer from Paeonia killed by Achilles\n",
      "Thersites         TR Thersites, ugliest man in Greek army\n",
      "Thestor           M0 Thestor, Trojan warrior killed by Patroclus\n",
      "Thetis            TH Thetis, sea nymph, mother of Achilles\n",
      "Thoas             D0 Thoas, Trojan warrior killed by Menelaus\n",
      "Thoas_2           9K Thoas, leader of Aetolians\n",
      "Thoon             1C Thoon, brother of Xanthus_3, killed by Diomedes\n",
      "Thoon_2           3I Thoon, Trojan warrior killed by Odysseus\n",
      "Thoon_3           3Z Thoon, fighter with Asius, killed by Antilochus\n",
      "Thootes           6R Thootes, Greek herald\n",
      "Thrasius          P2 Thrasius, charioteer from Paeonia killed by Achilles\n",
      "Thrasymedes       TM Thrasymedes, son of Nestor\n",
      "Thrasymelus       X0 Thrasymelus, charioteer of Sarpedon, killed by Patroclus\n",
      "Thyestes          TY Thyestes, sheep breeder, brother of Atreus\n",
      "Thymbraeus        3C Thymbraeus, Trojan warrior killed by Diomedes\n",
      "Thymoetes         0O Thymoetes, Trojan elder\n",
      "Tithonus          79 Tithonus, son of Laomedon, mortal consort of Eos\n",
      "Tlepolemus        TL Tlepolemus, son of Heracles and Astyocheia, king of Rhodes\n",
      "Tlepolemus_2      R0 Tlepolemus, Trojan warrior killed by Patroclus\n",
      "Trechus           8B Trechus, Aetolian fighter, slain by Hector\n",
      "Troilus           3U Troilus, deceased son of Priam\n",
      "Trojan            TS Trojan soldiers, collectively\n",
      "Trojan_2          2H Trojan noblewomen, assembled by Hecuba\n",
      "Tros              1F Tros, ancient king of Troy\n",
      "Tros_2            B2 Tros, son of Alastor, Trojan warrior killed by Achilles\n",
      "Tydeus            8R Tydeus, king of Calydon, son of Oeneus, father of Diomedes\n",
      "Ucalegon          0S Ucalegon, Trojan elder\n",
      "Xanthus           XA Xanthus, son of Zeus, god of the river Scamander\n",
      "Xanthus_2         XB Xanthus and Balius, Achilles's divine horses, sired by Zephyr\n",
      "Xanthus_3         1B Xanthus, brother of Thoon, killed by Diomedes\n",
      "Zephyr            ZF Zephyr, the west wind\n",
      "Zeus              ZE Zeus (Jove/Jupiter), king of the gods\n"
     ]
    }
   ],
   "source": [
    "fh = open('homer_characters.txt','r')\n",
    "for line in fh:\n",
    "    print(line.strip())"
   ]
  },
  {
   "cell_type": "code",
   "execution_count": 7,
   "metadata": {
    "collapsed": true,
    "slideshow": {
     "slide_type": "slide"
    }
   },
   "outputs": [
    {
     "data": {
      "text/plain": [
       "'Abarbarea         AB Abarbarea, Trojan fountain nymph\\nAbas              19 Abas, brother of Polyeidu'"
      ]
     },
     "execution_count": 7,
     "metadata": {},
     "output_type": "execute_result"
    }
   ],
   "source": [
    "homer[:100]"
   ]
  },
  {
   "cell_type": "code",
   "execution_count": 2,
   "metadata": {
    "slideshow": {
     "slide_type": "slide"
    }
   },
   "outputs": [],
   "source": [
    "import re\n",
    "words = re.findall(r'\\w+', open('homer_characters.txt').read().lower())"
   ]
  },
  {
   "cell_type": "code",
   "execution_count": 3,
   "metadata": {
    "slideshow": {
     "slide_type": "slide"
    }
   },
   "outputs": [
    {
     "data": {
      "text/plain": [
       "['abarbarea',\n",
       " 'ab',\n",
       " 'abarbarea',\n",
       " 'trojan',\n",
       " 'fountain',\n",
       " 'nymph',\n",
       " 'abas',\n",
       " '19',\n",
       " 'abas',\n",
       " 'brother']"
      ]
     },
     "execution_count": 3,
     "metadata": {},
     "output_type": "execute_result"
    }
   ],
   "source": [
    "words[:10]"
   ]
  },
  {
   "cell_type": "code",
   "execution_count": 4,
   "metadata": {
    "slideshow": {
     "slide_type": "slide"
    }
   },
   "outputs": [],
   "source": [
    "words.sort()"
   ]
  },
  {
   "cell_type": "code",
   "execution_count": 5,
   "metadata": {
    "slideshow": {
     "slide_type": "fragment"
    }
   },
   "outputs": [
    {
     "data": {
      "text/plain": [
       "['01', '02', '03', '04', '05', '06', '07', '08', '09', '0a']"
      ]
     },
     "execution_count": 5,
     "metadata": {},
     "output_type": "execute_result"
    }
   ],
   "source": [
    "words[:10]"
   ]
  },
  {
   "cell_type": "code",
   "execution_count": 6,
   "metadata": {
    "slideshow": {
     "slide_type": "fragment"
    }
   },
   "outputs": [],
   "source": [
    "words.sort(reverse=True)"
   ]
  },
  {
   "cell_type": "code",
   "execution_count": 13,
   "metadata": {
    "slideshow": {
     "slide_type": "fragment"
    }
   },
   "outputs": [
    {
     "data": {
      "text/plain": [
       "['zf', 'zeus', 'zeus', 'zeus', 'zeus', 'zeus', 'zeus', 'zeus', 'zeus', 'zeus']"
      ]
     },
     "execution_count": 13,
     "metadata": {},
     "output_type": "execute_result"
    }
   ],
   "source": [
    "words[:10]"
   ]
  },
  {
   "cell_type": "markdown",
   "metadata": {
    "slideshow": {
     "slide_type": "slide"
    }
   },
   "source": [
    "## NLTK (Natural Language Tool kit)"
   ]
  },
  {
   "cell_type": "code",
   "execution_count": 18,
   "metadata": {
    "slideshow": {
     "slide_type": "fragment"
    }
   },
   "outputs": [],
   "source": [
    "import nltk"
   ]
  },
  {
   "cell_type": "code",
   "execution_count": null,
   "metadata": {
    "slideshow": {
     "slide_type": "fragment"
    }
   },
   "outputs": [],
   "source": [
    "nltk.download()"
   ]
  },
  {
   "cell_type": "markdown",
   "metadata": {
    "slideshow": {
     "slide_type": "slide"
    }
   },
   "source": [
    "## File streams"
   ]
  },
  {
   "cell_type": "code",
   "execution_count": 7,
   "metadata": {
    "slideshow": {
     "slide_type": "fragment"
    }
   },
   "outputs": [
    {
     "data": {
      "text/plain": [
       "<open file 'pride_and_prejudice.txt', mode 'r' at 0x102e8f030>"
      ]
     },
     "execution_count": 7,
     "metadata": {},
     "output_type": "execute_result"
    }
   ],
   "source": [
    "file_obj = open('pride_and_prejudice.txt','r')\n",
    "file_obj"
   ]
  },
  {
   "cell_type": "code",
   "execution_count": 9,
   "metadata": {
    "slideshow": {
     "slide_type": "slide"
    }
   },
   "outputs": [],
   "source": [
    "ofh = open('foo.txt','w')\n",
    "print('Great news!', file=ofh)\n",
    "print(\"Monty Python lives!\", file=ofh)\n",
    "print('Hooray!', file=ofh)\n",
    "ofh.close()"
   ]
  },
  {
   "cell_type": "code",
   "execution_count": 10,
   "metadata": {
    "slideshow": {
     "slide_type": "slide"
    }
   },
   "outputs": [
    {
     "name": "stdout",
     "output_type": "stream",
     "text": [
      "Great news!\n",
      "\n",
      "Monty Python lives!\n",
      "\n",
      "Hooray!\n",
      "\n"
     ]
    },
    {
     "data": {
      "text/plain": [
       "''"
      ]
     },
     "execution_count": 10,
     "metadata": {},
     "output_type": "execute_result"
    }
   ],
   "source": [
    "ifh = open('foo.txt','r')\n",
    "line1 = ifh.readline()\n",
    "print(line1)\n",
    "line2 = ifh.readline()\n",
    "print(line2)\n",
    "line3 = ifh.readline()\n",
    "print(line3)\n",
    "line4 = ifh.readline()\n",
    "line4"
   ]
  },
  {
   "cell_type": "code",
   "execution_count": 11,
   "metadata": {
    "slideshow": {
     "slide_type": "slide"
    }
   },
   "outputs": [
    {
     "name": "stdout",
     "output_type": "stream",
     "text": [
      "Great news!\n",
      "\n",
      "Monty Python lives!\n",
      "\n",
      "Hooray!\n",
      "\n"
     ]
    }
   ],
   "source": [
    "ifh = open('foo.txt','r')\n",
    "line1 = next(ifh)\n",
    "print(line1)\n",
    "line2 = next(ifh)\n",
    "print(line2)\n",
    "line3 = next(ifh)\n",
    "print(line3)"
   ]
  },
  {
   "cell_type": "code",
   "execution_count": 12,
   "metadata": {
    "slideshow": {
     "slide_type": "fragment"
    }
   },
   "outputs": [
    {
     "ename": "StopIteration",
     "evalue": "",
     "output_type": "error",
     "traceback": [
      "\u001b[0;31m---------------------------------------------------------------------------\u001b[0m",
      "\u001b[0;31mStopIteration\u001b[0m                             Traceback (most recent call last)",
      "\u001b[0;32m<ipython-input-12-f3795d00c7b3>\u001b[0m in \u001b[0;36m<module>\u001b[0;34m()\u001b[0m\n\u001b[0;32m----> 1\u001b[0;31m \u001b[0mline4\u001b[0m \u001b[0;34m=\u001b[0m \u001b[0mifh\u001b[0m\u001b[0;34m.\u001b[0m\u001b[0mnext\u001b[0m\u001b[0;34m(\u001b[0m\u001b[0;34m)\u001b[0m\u001b[0;34m\u001b[0m\u001b[0m\n\u001b[0m",
      "\u001b[0;31mStopIteration\u001b[0m: "
     ]
    }
   ],
   "source": [
    "line4 = next(ifh)"
   ]
  },
  {
   "cell_type": "markdown",
   "metadata": {
    "slideshow": {
     "slide_type": "slide"
    }
   },
   "source": [
    "## Reading *Pride and Prejudice*"
   ]
  },
  {
   "cell_type": "code",
   "execution_count": 13,
   "metadata": {
    "slideshow": {
     "slide_type": "fragment"
    }
   },
   "outputs": [],
   "source": [
    "from collections import Counter\n",
    "ctr = Counter()\n",
    "token_ctr = 0\n",
    "with open('pride_and_prejudice.txt','r') as file_handle:\n",
    "      for line in file_handle:\n",
    "          line_words = line.strip().split()\n",
    "          for word in line_words:\n",
    "              token_ctr += 1\n",
    "              ctr[word] += 1"
   ]
  },
  {
   "cell_type": "markdown",
   "metadata": {},
   "source": [
    "We now discover"
   ]
  },
  {
   "cell_type": "code",
   "execution_count": 14,
   "metadata": {
    "slideshow": {
     "slide_type": "slide"
    }
   },
   "outputs": [
    {
     "name": "stdout",
     "output_type": "stream",
     "text": [
      "13638\n",
      "124588\n"
     ]
    }
   ],
   "source": [
    "print len(ctr)\n",
    "  print token_ctr"
   ]
  },
  {
   "cell_type": "markdown",
   "metadata": {
    "slideshow": {
     "slide_type": "fragment"
    }
   },
   "source": [
    "What happened?  The vocabulary size is 13,638; that's what we're counting:"
   ]
  },
  {
   "cell_type": "code",
   "execution_count": 15,
   "metadata": {
    "slideshow": {
     "slide_type": "slide"
    }
   },
   "outputs": [
    {
     "data": {
      "text/plain": [
       "[('the', 4205),\n",
       " ('to', 4121),\n",
       " ('of', 3660),\n",
       " ('and', 3309),\n",
       " ('a', 1945),\n",
       " ('her', 1858),\n",
       " ('in', 1813),\n",
       " ('was', 1796),\n",
       " ('I', 1740),\n",
       " ('that', 1419)]"
      ]
     },
     "execution_count": 15,
     "metadata": {},
     "output_type": "execute_result"
    }
   ],
   "source": [
    "ctr.most_common(10)"
   ]
  },
  {
   "cell_type": "markdown",
   "metadata": {
    "slideshow": {
     "slide_type": "fragment"
    }
   },
   "source": [
    "The number of word  tokens is 124,588.  Counting tokens is\n",
    "what gets us the raw numbers like 4205 and 4121"
   ]
  },
  {
   "cell_type": "code",
   "execution_count": 16,
   "metadata": {},
   "outputs": [
    {
     "data": {
      "text/plain": [
       "[3,\n",
       " 1,\n",
       " 29,\n",
       " 4,\n",
       " 8,\n",
       " 1,\n",
       " 2,\n",
       " 1,\n",
       " 5,\n",
       " 1,\n",
       " 5,\n",
       " 1,\n",
       " 1,\n",
       " 1,\n",
       " 1,\n",
       " 1,\n",
       " 1,\n",
       " 1,\n",
       " 1,\n",
       " 2,\n",
       " 2,\n",
       " 1,\n",
       " 1,\n",
       " 1,\n",
       " 2,\n",
       " 1,\n",
       " 4,\n",
       " 2,\n",
       " 1,\n",
       " 1,\n",
       " 5,\n",
       " 1,\n",
       " 1,\n",
       " 6,\n",
       " 1,\n",
       " 1,\n",
       " 1,\n",
       " 2,\n",
       " 4,\n",
       " 1,\n",
       " 1,\n",
       " 2,\n",
       " 1,\n",
       " 2,\n",
       " 1,\n",
       " 89,\n",
       " 114,\n",
       " 1,\n",
       " 2,\n",
       " 1,\n",
       " 18,\n",
       " 11,\n",
       " 22,\n",
       " 1,\n",
       " 1,\n",
       " 1,\n",
       " 1,\n",
       " 2,\n",
       " 1,\n",
       " 3,\n",
       " 1,\n",
       " 1,\n",
       " 1,\n",
       " 3,\n",
       " 2,\n",
       " 1,\n",
       " 1,\n",
       " 2,\n",
       " 1,\n",
       " 2,\n",
       " 1,\n",
       " 2,\n",
       " 1,\n",
       " 1,\n",
       " 1,\n",
       " 1,\n",
       " 1,\n",
       " 8,\n",
       " 3,\n",
       " 2,\n",
       " 2,\n",
       " 1,\n",
       " 3,\n",
       " 1,\n",
       " 1,\n",
       " 2,\n",
       " 27,\n",
       " 1,\n",
       " 1,\n",
       " 1,\n",
       " 1,\n",
       " 1,\n",
       " 1,\n",
       " 1,\n",
       " 8,\n",
       " 1,\n",
       " 1,\n",
       " 2,\n",
       " 1,\n",
       " 5,\n",
       " 1,\n",
       " 1,\n",
       " 1,\n",
       " 1,\n",
       " 1,\n",
       " 2,\n",
       " 2,\n",
       " 1,\n",
       " 2,\n",
       " 1,\n",
       " 2,\n",
       " 2,\n",
       " 2,\n",
       " 3,\n",
       " 3,\n",
       " 1,\n",
       " 6,\n",
       " 4,\n",
       " 3,\n",
       " 1,\n",
       " 36,\n",
       " 1,\n",
       " 1,\n",
       " 1,\n",
       " 14,\n",
       " 1,\n",
       " 1,\n",
       " 31,\n",
       " 2,\n",
       " 1,\n",
       " 1,\n",
       " 4,\n",
       " 1,\n",
       " 3,\n",
       " 31,\n",
       " 5,\n",
       " 3,\n",
       " 1,\n",
       " 1,\n",
       " 1,\n",
       " 2,\n",
       " 1,\n",
       " 2,\n",
       " 5,\n",
       " 1,\n",
       " 1,\n",
       " 1,\n",
       " 1,\n",
       " 8,\n",
       " 18,\n",
       " 1,\n",
       " 1,\n",
       " 4,\n",
       " 1,\n",
       " 2,\n",
       " 1,\n",
       " 1,\n",
       " 1,\n",
       " 1,\n",
       " 1,\n",
       " 1,\n",
       " 3,\n",
       " 1,\n",
       " 1,\n",
       " 1,\n",
       " 1,\n",
       " 1,\n",
       " 3,\n",
       " 1,\n",
       " 2,\n",
       " 1,\n",
       " 1,\n",
       " 1,\n",
       " 2,\n",
       " 19,\n",
       " 4,\n",
       " 1,\n",
       " 2,\n",
       " 42,\n",
       " 1,\n",
       " 1,\n",
       " 1,\n",
       " 1,\n",
       " 3,\n",
       " 4,\n",
       " 1,\n",
       " 1,\n",
       " 1,\n",
       " 1,\n",
       " 1,\n",
       " 162,\n",
       " 2,\n",
       " 2,\n",
       " 1,\n",
       " 1,\n",
       " 1,\n",
       " 2,\n",
       " 37,\n",
       " 1,\n",
       " 1,\n",
       " 13,\n",
       " 1,\n",
       " 1,\n",
       " 5,\n",
       " 3,\n",
       " 2,\n",
       " 1,\n",
       " 1,\n",
       " 1,\n",
       " 1,\n",
       " 2,\n",
       " 10,\n",
       " 1,\n",
       " 1,\n",
       " 2,\n",
       " 3,\n",
       " 2,\n",
       " 3,\n",
       " 7,\n",
       " 1,\n",
       " 2,\n",
       " 1,\n",
       " 1,\n",
       " 2,\n",
       " 2,\n",
       " 1,\n",
       " 2,\n",
       " 3,\n",
       " 1,\n",
       " 1,\n",
       " 1,\n",
       " 3,\n",
       " 1,\n",
       " 1,\n",
       " 73,\n",
       " 1,\n",
       " 4,\n",
       " 12,\n",
       " 4,\n",
       " 1,\n",
       " 2,\n",
       " 1,\n",
       " 1,\n",
       " 2,\n",
       " 1,\n",
       " 1,\n",
       " 2,\n",
       " 2,\n",
       " 3,\n",
       " 1,\n",
       " 3,\n",
       " 1,\n",
       " 3,\n",
       " 2,\n",
       " 1,\n",
       " 1,\n",
       " 3,\n",
       " 1,\n",
       " 5,\n",
       " 1,\n",
       " 2,\n",
       " 1,\n",
       " 1,\n",
       " 1,\n",
       " 1,\n",
       " 1,\n",
       " 5,\n",
       " 2,\n",
       " 1,\n",
       " 1,\n",
       " 1,\n",
       " 4,\n",
       " 10,\n",
       " 1,\n",
       " 2,\n",
       " 4,\n",
       " 6,\n",
       " 1,\n",
       " 1,\n",
       " 2,\n",
       " 2,\n",
       " 3,\n",
       " 1,\n",
       " 6,\n",
       " 1,\n",
       " 1,\n",
       " 1,\n",
       " 1,\n",
       " 1,\n",
       " 2,\n",
       " 1,\n",
       " 27,\n",
       " 1,\n",
       " 1,\n",
       " 10,\n",
       " 1,\n",
       " 3,\n",
       " 1,\n",
       " 1,\n",
       " 3,\n",
       " 5,\n",
       " 1,\n",
       " 1,\n",
       " 3,\n",
       " 20,\n",
       " 1,\n",
       " 1,\n",
       " 2,\n",
       " 1,\n",
       " 1,\n",
       " 1,\n",
       " 1,\n",
       " 3,\n",
       " 1,\n",
       " 1,\n",
       " 1,\n",
       " 1,\n",
       " 3,\n",
       " 1,\n",
       " 1,\n",
       " 1,\n",
       " 1,\n",
       " 3,\n",
       " 3,\n",
       " 1,\n",
       " 13,\n",
       " 2,\n",
       " 1,\n",
       " 3,\n",
       " 1,\n",
       " 11,\n",
       " 1,\n",
       " 20,\n",
       " 3,\n",
       " 3,\n",
       " 4,\n",
       " 1,\n",
       " 1,\n",
       " 1,\n",
       " 1,\n",
       " 1,\n",
       " 1,\n",
       " 1,\n",
       " 3,\n",
       " 19,\n",
       " 15,\n",
       " 1,\n",
       " 2,\n",
       " 1,\n",
       " 1,\n",
       " 7,\n",
       " 6,\n",
       " 1,\n",
       " 1,\n",
       " 1,\n",
       " 4,\n",
       " 3,\n",
       " 29,\n",
       " 3,\n",
       " 1,\n",
       " 1,\n",
       " 1,\n",
       " 3,\n",
       " 8,\n",
       " 1,\n",
       " 1,\n",
       " 18,\n",
       " 20,\n",
       " 1,\n",
       " 1,\n",
       " 1,\n",
       " 1,\n",
       " 1,\n",
       " 6,\n",
       " 3,\n",
       " 1,\n",
       " 2,\n",
       " 1,\n",
       " 1,\n",
       " 14,\n",
       " 9,\n",
       " 2,\n",
       " 114,\n",
       " 1,\n",
       " 1,\n",
       " 7,\n",
       " 3,\n",
       " 80,\n",
       " 6,\n",
       " 157,\n",
       " 2,\n",
       " 1,\n",
       " 37,\n",
       " 1,\n",
       " 6,\n",
       " 1,\n",
       " 1,\n",
       " 7,\n",
       " 71,\n",
       " 1,\n",
       " 1,\n",
       " 1,\n",
       " 1,\n",
       " 3,\n",
       " 10,\n",
       " 3,\n",
       " 12,\n",
       " 1,\n",
       " 3,\n",
       " 76,\n",
       " 21,\n",
       " 1,\n",
       " 1,\n",
       " 2,\n",
       " 1,\n",
       " 1,\n",
       " 1,\n",
       " 1,\n",
       " 2,\n",
       " 1,\n",
       " 5,\n",
       " 1,\n",
       " 1,\n",
       " 1,\n",
       " 6,\n",
       " 1,\n",
       " 2,\n",
       " 1,\n",
       " 1,\n",
       " 2,\n",
       " 1,\n",
       " 1,\n",
       " 4,\n",
       " 3,\n",
       " 1,\n",
       " 1,\n",
       " 1,\n",
       " 1,\n",
       " 1,\n",
       " 1,\n",
       " 1,\n",
       " 1,\n",
       " 1,\n",
       " 1,\n",
       " 1,\n",
       " 6,\n",
       " 2,\n",
       " 1,\n",
       " 1,\n",
       " 1,\n",
       " 1,\n",
       " 1,\n",
       " 2,\n",
       " 1,\n",
       " 1,\n",
       " 23,\n",
       " 2,\n",
       " 1,\n",
       " 1,\n",
       " 6,\n",
       " 5,\n",
       " 3,\n",
       " 2,\n",
       " 2,\n",
       " 12,\n",
       " 1,\n",
       " 53,\n",
       " 1,\n",
       " 64,\n",
       " 1,\n",
       " 5,\n",
       " 1,\n",
       " 1,\n",
       " 1,\n",
       " 18,\n",
       " 3,\n",
       " 1,\n",
       " 1,\n",
       " 4,\n",
       " 3,\n",
       " 1,\n",
       " 4,\n",
       " 1,\n",
       " 4,\n",
       " 5,\n",
       " 43,\n",
       " 1,\n",
       " 33,\n",
       " 1,\n",
       " 1,\n",
       " 1,\n",
       " 1,\n",
       " 3,\n",
       " 5,\n",
       " 2,\n",
       " 1,\n",
       " 1,\n",
       " 1,\n",
       " 1,\n",
       " 1,\n",
       " 4,\n",
       " 209,\n",
       " 16,\n",
       " 1,\n",
       " 1,\n",
       " 1,\n",
       " 5,\n",
       " 2,\n",
       " 2,\n",
       " 1,\n",
       " 7,\n",
       " 1,\n",
       " 4,\n",
       " 4,\n",
       " 2,\n",
       " 21,\n",
       " 1,\n",
       " 1,\n",
       " 1,\n",
       " 2,\n",
       " 2,\n",
       " 3,\n",
       " 4,\n",
       " 1,\n",
       " 3,\n",
       " 39,\n",
       " 1,\n",
       " 2,\n",
       " 1,\n",
       " 5,\n",
       " 6,\n",
       " 1,\n",
       " 9,\n",
       " 3,\n",
       " 7,\n",
       " 1,\n",
       " 1,\n",
       " 1,\n",
       " 1,\n",
       " 1,\n",
       " 1,\n",
       " 3,\n",
       " 1,\n",
       " 1,\n",
       " 1,\n",
       " 3,\n",
       " 1,\n",
       " 1,\n",
       " 288,\n",
       " 2,\n",
       " 3,\n",
       " 1,\n",
       " 1,\n",
       " 29,\n",
       " 4,\n",
       " 1,\n",
       " 2,\n",
       " 6,\n",
       " 1,\n",
       " 2,\n",
       " 4,\n",
       " 3,\n",
       " 1,\n",
       " 1,\n",
       " 1,\n",
       " 1,\n",
       " 1,\n",
       " 1,\n",
       " 1,\n",
       " 2,\n",
       " 2,\n",
       " 1,\n",
       " 1,\n",
       " 2,\n",
       " 32,\n",
       " 1,\n",
       " 23,\n",
       " 1,\n",
       " 1,\n",
       " 1,\n",
       " 1,\n",
       " 1,\n",
       " 1,\n",
       " 6,\n",
       " 1,\n",
       " 2,\n",
       " 1,\n",
       " 30,\n",
       " 5,\n",
       " 1,\n",
       " 1,\n",
       " 1,\n",
       " 19,\n",
       " 2,\n",
       " 1,\n",
       " 1,\n",
       " 2,\n",
       " 1,\n",
       " 2,\n",
       " 6,\n",
       " 1,\n",
       " 3,\n",
       " 6,\n",
       " 1,\n",
       " 2,\n",
       " 2,\n",
       " 1,\n",
       " 1,\n",
       " 1,\n",
       " 1,\n",
       " 1,\n",
       " 4,\n",
       " 2,\n",
       " 1,\n",
       " 2,\n",
       " 1,\n",
       " 2,\n",
       " 1,\n",
       " 1,\n",
       " 1,\n",
       " 22,\n",
       " 28,\n",
       " 8,\n",
       " 9,\n",
       " 1,\n",
       " 2,\n",
       " 7,\n",
       " 1,\n",
       " 1,\n",
       " 1,\n",
       " 1,\n",
       " 2,\n",
       " 6,\n",
       " 3,\n",
       " 1,\n",
       " 1,\n",
       " 1,\n",
       " 4,\n",
       " 4,\n",
       " 2,\n",
       " 1,\n",
       " 1,\n",
       " 10,\n",
       " 1125,\n",
       " 1,\n",
       " 6,\n",
       " 16,\n",
       " 1,\n",
       " 211,\n",
       " 5,\n",
       " 1,\n",
       " 1,\n",
       " 1,\n",
       " 1,\n",
       " 1,\n",
       " 1,\n",
       " 4,\n",
       " 1,\n",
       " 26,\n",
       " 1,\n",
       " 1,\n",
       " 8,\n",
       " 1,\n",
       " 2,\n",
       " 2,\n",
       " 1,\n",
       " 7,\n",
       " 14,\n",
       " 1,\n",
       " 19,\n",
       " 1,\n",
       " 1,\n",
       " 2,\n",
       " 1,\n",
       " 3,\n",
       " 4,\n",
       " 1,\n",
       " 1,\n",
       " 1,\n",
       " 2,\n",
       " 28,\n",
       " 10,\n",
       " 39,\n",
       " 1,\n",
       " 1,\n",
       " 2,\n",
       " 1,\n",
       " 14,\n",
       " 3,\n",
       " 1,\n",
       " 1,\n",
       " 1,\n",
       " 2,\n",
       " 1,\n",
       " 1003,\n",
       " 1,\n",
       " 2,\n",
       " 2,\n",
       " 1,\n",
       " 1,\n",
       " 5,\n",
       " 1,\n",
       " 1,\n",
       " 2,\n",
       " 1,\n",
       " 1,\n",
       " 1,\n",
       " 1,\n",
       " 2,\n",
       " 2,\n",
       " 1,\n",
       " 1,\n",
       " 1,\n",
       " 1,\n",
       " 2,\n",
       " 1,\n",
       " 1,\n",
       " 1,\n",
       " 1,\n",
       " 6,\n",
       " 2,\n",
       " 4,\n",
       " 1,\n",
       " 6,\n",
       " 1,\n",
       " 1,\n",
       " 2,\n",
       " 1,\n",
       " 8,\n",
       " 1,\n",
       " 1,\n",
       " 1,\n",
       " 1,\n",
       " 1,\n",
       " 1,\n",
       " 2,\n",
       " 1,\n",
       " 1,\n",
       " 1,\n",
       " 1,\n",
       " 2,\n",
       " 1,\n",
       " 1,\n",
       " 1,\n",
       " 1,\n",
       " 1,\n",
       " 2,\n",
       " 1,\n",
       " 1,\n",
       " 1,\n",
       " 55,\n",
       " 3,\n",
       " 1,\n",
       " 1,\n",
       " 24,\n",
       " 4,\n",
       " 1,\n",
       " 12,\n",
       " 1,\n",
       " 2,\n",
       " 1,\n",
       " 7,\n",
       " 1,\n",
       " 2,\n",
       " 1,\n",
       " 1,\n",
       " 1,\n",
       " 1,\n",
       " 1,\n",
       " 1,\n",
       " 1,\n",
       " 1,\n",
       " 1,\n",
       " 1,\n",
       " 1,\n",
       " 1,\n",
       " 7,\n",
       " 46,\n",
       " 12,\n",
       " 6,\n",
       " 1,\n",
       " 1,\n",
       " 1,\n",
       " 1,\n",
       " 3,\n",
       " 1,\n",
       " 2,\n",
       " 8,\n",
       " 2,\n",
       " 1,\n",
       " 1,\n",
       " 2,\n",
       " 5,\n",
       " 1,\n",
       " 2,\n",
       " 1,\n",
       " 2,\n",
       " 1,\n",
       " 2,\n",
       " 1,\n",
       " 1,\n",
       " 28,\n",
       " 1,\n",
       " 1,\n",
       " 1,\n",
       " 3,\n",
       " 1,\n",
       " 1,\n",
       " 2,\n",
       " 1,\n",
       " 2,\n",
       " 1,\n",
       " 1,\n",
       " 1,\n",
       " 4,\n",
       " 136,\n",
       " 1,\n",
       " 1,\n",
       " 1,\n",
       " 1,\n",
       " 2,\n",
       " 2,\n",
       " 3,\n",
       " 3,\n",
       " 1,\n",
       " 3,\n",
       " 2,\n",
       " 2,\n",
       " 1,\n",
       " 3,\n",
       " 3,\n",
       " 1,\n",
       " 1,\n",
       " 1,\n",
       " 1,\n",
       " 1,\n",
       " 1,\n",
       " 1,\n",
       " 1,\n",
       " 1,\n",
       " 2,\n",
       " 3,\n",
       " 1,\n",
       " 1,\n",
       " 1,\n",
       " 2,\n",
       " 1,\n",
       " 2,\n",
       " 1,\n",
       " 2,\n",
       " 3,\n",
       " 1,\n",
       " 1,\n",
       " 6,\n",
       " 6,\n",
       " 5,\n",
       " 1,\n",
       " 5,\n",
       " 1,\n",
       " 1,\n",
       " 1,\n",
       " 3,\n",
       " 2,\n",
       " 1,\n",
       " 1,\n",
       " 55,\n",
       " 1,\n",
       " 1,\n",
       " 1,\n",
       " 1,\n",
       " 1,\n",
       " 16,\n",
       " 1,\n",
       " 6,\n",
       " 1,\n",
       " 2,\n",
       " 2,\n",
       " 2,\n",
       " 1,\n",
       " 6,\n",
       " 1,\n",
       " 38,\n",
       " 2,\n",
       " 2,\n",
       " 1,\n",
       " 1,\n",
       " 6,\n",
       " 2,\n",
       " 3,\n",
       " 2,\n",
       " 3,\n",
       " 1,\n",
       " 9,\n",
       " 1,\n",
       " 1,\n",
       " 6,\n",
       " 30,\n",
       " 14,\n",
       " 3,\n",
       " 1,\n",
       " 1,\n",
       " 1,\n",
       " 13,\n",
       " 8,\n",
       " 4,\n",
       " 1,\n",
       " 67,\n",
       " 2,\n",
       " 1,\n",
       " 1,\n",
       " 1,\n",
       " 2,\n",
       " 7,\n",
       " 1,\n",
       " 1,\n",
       " 7,\n",
       " 1,\n",
       " 1,\n",
       " 2,\n",
       " 1,\n",
       " 1,\n",
       " 1,\n",
       " 57,\n",
       " 1,\n",
       " 5,\n",
       " 1,\n",
       " 2,\n",
       " 2,\n",
       " 7,\n",
       " 2,\n",
       " 2,\n",
       " 1,\n",
       " 1,\n",
       " 1,\n",
       " 2,\n",
       " 1,\n",
       " 3,\n",
       " 13,\n",
       " 14,\n",
       " 3,\n",
       " 3,\n",
       " 3,\n",
       " 5,\n",
       " 1,\n",
       " 1,\n",
       " 5,\n",
       " 2,\n",
       " 4,\n",
       " 1,\n",
       " 2,\n",
       " 1,\n",
       " 12,\n",
       " 5,\n",
       " 1,\n",
       " 2,\n",
       " 1,\n",
       " 3,\n",
       " 3,\n",
       " 10,\n",
       " 5,\n",
       " 3,\n",
       " 1,\n",
       " 3,\n",
       " 1,\n",
       " 3,\n",
       " 1,\n",
       " 1,\n",
       " 1,\n",
       " 2,\n",
       " 7,\n",
       " 1,\n",
       " 1,\n",
       " 2,\n",
       " 5,\n",
       " 33,\n",
       " 1,\n",
       " 3,\n",
       " 1,\n",
       " 9,\n",
       " 2,\n",
       " 1,\n",
       " 1,\n",
       " 4,\n",
       " 1,\n",
       " 5,\n",
       " 1,\n",
       " 4,\n",
       " 25,\n",
       " 1,\n",
       " 2,\n",
       " 5,\n",
       " 4,\n",
       " 1,\n",
       " 2,\n",
       " 4,\n",
       " 7,\n",
       " 1,\n",
       " 4,\n",
       " 1,\n",
       " 3,\n",
       " ...]"
      ]
     },
     "execution_count": 16,
     "metadata": {},
     "output_type": "execute_result"
    }
   ],
   "source": [
    "list(ctr.values())"
   ]
  },
  {
   "cell_type": "code",
   "execution_count": 16,
   "metadata": {
    "slideshow": {
     "slide_type": "fragment"
    }
   },
   "outputs": [
    {
     "data": {
      "text/plain": [
       "124588"
      ]
     },
     "execution_count": 16,
     "metadata": {},
     "output_type": "execute_result"
    }
   ],
   "source": [
    "sum(ctr.values())"
   ]
  },
  {
   "cell_type": "markdown",
   "metadata": {
    "slideshow": {
     "slide_type": "slide"
    }
   },
   "source": [
    "There is an even simpler way to use a counter::"
   ]
  },
  {
   "cell_type": "code",
   "execution_count": 17,
   "metadata": {
    "slideshow": {
     "slide_type": "fragment"
    }
   },
   "outputs": [],
   "source": [
    "ctr2 = Counter(open('pride_and_prejudice.txt','r'))"
   ]
  },
  {
   "cell_type": "markdown",
   "metadata": {
    "slideshow": {
     "slide_type": "fragment"
    }
   },
   "source": [
    "In this case however, we iterate through the file-like-object\n",
    "as in a `for` loop, which means we iterate line by line.\n",
    "So what the counter will be counting will be lines:"
   ]
  },
  {
   "cell_type": "code",
   "execution_count": 18,
   "metadata": {
    "slideshow": {
     "slide_type": "slide"
    }
   },
   "outputs": [
    {
     "data": {
      "text/plain": [
       "[('\\r\\n', 2394),\n",
       " ('                          * * * * *\\r\\n', 6),\n",
       " ('them.\"\\r\\n', 3),\n",
       " ('it.\\r\\n', 3),\n",
       " ('them.\\r\\n', 3),\n",
       " ('family.\\r\\n', 2),\n",
       " ('do.\"\\r\\n', 2),\n",
       " ('between Mr. Darcy and herself.\\r\\n', 2),\n",
       " ('almost no restrictions whatsoever.  You may copy it, give it away or\\r\\n',\n",
       "  2),\n",
       " ('together.\\r\\n', 2)]"
      ]
     },
     "execution_count": 18,
     "metadata": {},
     "output_type": "execute_result"
    }
   ],
   "source": [
    "ctr2.most_common(10)"
   ]
  },
  {
   "cell_type": "markdown",
   "metadata": {
    "slideshow": {
     "slide_type": "slide"
    }
   },
   "source": [
    "What would we be counting if we did the following?"
   ]
  },
  {
   "cell_type": "code",
   "execution_count": 23,
   "metadata": {
    "slideshow": {
     "slide_type": "fragment"
    }
   },
   "outputs": [
    {
     "data": {
      "text/plain": [
       "[(' ', 113924),\n",
       " ('e', 70339),\n",
       " ('t', 47283),\n",
       " ('a', 42155),\n",
       " ('o', 41138),\n",
       " ('n', 38428),\n",
       " ('i', 36271),\n",
       " ('h', 33880),\n",
       " ('s', 33292),\n",
       " ('r', 33290)]"
      ]
     },
     "execution_count": 23,
     "metadata": {},
     "output_type": "execute_result"
    }
   ],
   "source": [
    "ctr3 = Counter(open('pride_and_prejudice.txt','r').read())\n",
    "ctr3.most_common(10)"
   ]
  },
  {
   "cell_type": "markdown",
   "metadata": {
    "slideshow": {
     "slide_type": "slide"
    }
   },
   "source": [
    "And now?"
   ]
  },
  {
   "cell_type": "code",
   "execution_count": 20,
   "metadata": {
    "slideshow": {
     "slide_type": "fragment"
    }
   },
   "outputs": [
    {
     "data": {
      "text/plain": [
       "[('the', 4205),\n",
       " ('to', 4121),\n",
       " ('of', 3660),\n",
       " ('and', 3309),\n",
       " ('a', 1945),\n",
       " ('her', 1858),\n",
       " ('in', 1813),\n",
       " ('was', 1796),\n",
       " ('I', 1740),\n",
       " ('that', 1419)]"
      ]
     },
     "execution_count": 20,
     "metadata": {},
     "output_type": "execute_result"
    }
   ],
   "source": [
    "ctr4 = Counter(open('pride_and_prejudice.txt','r').read().split())\n",
    "ctr4.most_common(10)"
   ]
  },
  {
   "cell_type": "code",
   "execution_count": 21,
   "metadata": {
    "slideshow": {
     "slide_type": "slide"
    }
   },
   "outputs": [
    {
     "data": {
      "text/plain": [
       "398"
      ]
     },
     "execution_count": 21,
     "metadata": {},
     "output_type": "execute_result"
    }
   ],
   "source": [
    "ctr4['Elizabeth']"
   ]
  },
  {
   "cell_type": "code",
   "execution_count": 22,
   "metadata": {
    "slideshow": {
     "slide_type": "fragment"
    }
   },
   "outputs": [
    {
     "data": {
      "text/plain": [
       "13"
      ]
     },
     "execution_count": 22,
     "metadata": {},
     "output_type": "execute_result"
    }
   ],
   "source": [
    "ctr4['Lizzy']"
   ]
  },
  {
   "cell_type": "code",
   "execution_count": 23,
   "metadata": {
    "slideshow": {
     "slide_type": "fragment"
    }
   },
   "outputs": [
    {
     "data": {
      "text/plain": [
       "215"
      ]
     },
     "execution_count": 23,
     "metadata": {},
     "output_type": "execute_result"
    }
   ],
   "source": [
    "ctr['Darcy']"
   ]
  },
  {
   "cell_type": "markdown",
   "metadata": {
    "slideshow": {
     "slide_type": "slide"
    }
   },
   "source": [
    "This is an interesting statistic.  Darcy's mention count is a little over half that of Elizbeths's.\n",
    "Those who know the book will remember that Elizabeth is in many more scenes\n",
    "than Darcy.  The fact that Darcy's mention count is over half that of Elizabeth's means that he is being mentioned in\n",
    "a lot of scenes in which he isn't present.  It would be interesting to know what percentage of \"Darcy\" mentions\n",
    "are made in scenes in which he is absent.  And of course it would also be interesting to know the number of scenes \n",
    "in which Elizabeth is mentioned but is absent, which is no doubt much lower.  But if you think about it, this is \n",
    "going to be a hard number to come up with automatically.  In fact, just segmenting the text into scenes is no trivial\n",
    "task for a computer,  This is just a very simple example of the kind of information that it is difficult to\n",
    "extract from text."
   ]
  },
  {
   "cell_type": "markdown",
   "metadata": {},
   "source": [
    "## Other types of filelike objects"
   ]
  },
  {
   "cell_type": "code",
   "execution_count": 24,
   "metadata": {},
   "outputs": [
    {
     "data": {
      "text/plain": [
       "<addinfourl at 4403238456 whose fp = <socket._fileobject object at 0x1065a91d0>>"
      ]
     },
     "execution_count": 24,
     "metadata": {},
     "output_type": "execute_result"
    }
   ],
   "source": [
    "from collections import Counter\n",
    "from urllib.request import  urlopen\n",
    "book_url = 'http://www.gutenberg.org/ebooks/1342.txt.utf-8' # Pride & Prejudice URL\n",
    "handle = urlopen(book_url)\n",
    "handle"
   ]
  },
  {
   "cell_type": "code",
   "execution_count": 30,
   "metadata": {},
   "outputs": [
    {
     "data": {
      "text/plain": [
       "'with this eBook or online at www.gutenberg.org\\r\\n'"
      ]
     },
     "execution_count": 30,
     "metadata": {},
     "output_type": "execute_result"
    }
   ],
   "source": [
    "next(handle)"
   ]
  },
  {
   "cell_type": "code",
   "execution_count": 3,
   "metadata": {},
   "outputs": [
    {
     "data": {
      "text/plain": [
       "'\\r\\n'"
      ]
     },
     "execution_count": 3,
     "metadata": {},
     "output_type": "execute_result"
    }
   ],
   "source": [
    "next(handle)"
   ]
  },
  {
   "cell_type": "code",
   "execution_count": 4,
   "metadata": {},
   "outputs": [
    {
     "data": {
      "text/plain": [
       "'This eBook is for the use of anyone anywhere at no cost and with\\r\\n'"
      ]
     },
     "execution_count": 4,
     "metadata": {},
     "output_type": "execute_result"
    }
   ],
   "source": [
    "handle.readline()"
   ]
  },
  {
   "cell_type": "code",
   "execution_count": 31,
   "metadata": {
    "scrolled": true
   },
   "outputs": [
    {
     "name": "stdout",
     "output_type": "stream",
     "text": [
      "\r\n",
      "\n",
      "\r\n",
      "\n",
      "Title: Pride and Prejudice\r\n",
      "\n",
      "\r\n",
      "\n",
      "Author: Jane Austen\r\n",
      "\n",
      "\r\n",
      "\n",
      "Posting Date: August 26, 2008 [EBook #1342]\r\n",
      "\n",
      "Release Date: June, 1998\r\n",
      "\n",
      "Last updated: February 15, 2015]\r\n",
      "\n",
      "\r\n",
      "\n",
      "Language: English\r\n",
      "\n",
      "\r\n",
      "\n",
      "\r\n",
      "\n",
      "*** START OF THIS PROJECT GUTENBERG EBOOK PRIDE AND PREJUDICE ***\r\n",
      "\n",
      "\r\n",
      "\n",
      "\r\n",
      "\n",
      "\r\n",
      "\n",
      "\r\n",
      "\n",
      "Produced by Anonymous Volunteers\r\n",
      "\n",
      "\r\n",
      "\n",
      "\r\n",
      "\n",
      "\r\n",
      "\n",
      "\r\n",
      "\n",
      "\r\n",
      "\n",
      "PRIDE AND PREJUDICE\r\n",
      "\n",
      "\r\n",
      "\n",
      "By Jane Austen\r\n",
      "\n",
      "\r\n",
      "\n",
      "\r\n",
      "\n",
      "\r\n",
      "\n",
      "Chapter 1\r\n",
      "\n",
      "\r\n",
      "\n",
      "\r\n",
      "\n",
      "It is a truth universally acknowledged, that a single man in possession\r\n",
      "\n",
      "of a good fortune, must be in want of a wife.\r\n",
      "\n",
      "\r\n",
      "\n",
      "However little known the feelings or views of such a man may be on his\r\n",
      "\n",
      "first entering a neighbourhood, this truth is so well fixed in the minds\r\n",
      "\n",
      "of the surrounding families, that he is considered the rightful property\r\n",
      "\n",
      "of some one or other of their daughters.\r\n",
      "\n",
      "\r\n",
      "\n",
      "\"My dear Mr. Bennet,\" said his lady to him one day, \"have you heard that\r\n",
      "\n",
      "Netherfield Park is let at last?\"\r\n",
      "\n",
      "\r\n",
      "\n",
      "Mr. Bennet replied that he had not.\r\n",
      "\n",
      "\r\n",
      "\n",
      "\"But it is,\" returned she; \"for Mrs. Long has just been here, and she\r\n",
      "\n",
      "told me all about it.\"\r\n",
      "\n",
      "\r\n",
      "\n",
      "Mr. Bennet made no answer.\r\n",
      "\n"
     ]
    }
   ],
   "source": [
    "for (i,line) in enumerate(handle):\n",
    "    if i < 50:\n",
    "        print(line)\n",
    "    else:\n",
    "        break"
   ]
  },
  {
   "cell_type": "code",
   "execution_count": 6,
   "metadata": {
    "scrolled": true
   },
   "outputs": [
    {
     "name": "stdout",
     "output_type": "stream",
     "text": [
      "﻿The Project Gutenberg EBook of Pride and Prejudice, by Jane Austen\r\n",
      "\n",
      "\r\n",
      "\n",
      "This eBook is for the use of anyone anywhere at no cost and with\r\n",
      "\n",
      "almost no restrictions whatsoever.  You may copy it, give it away or\r\n",
      "\n",
      "re-use it under the terms of the Project Gutenberg License included\r\n",
      "\n",
      "with this eBook or online at www.gutenberg.org\r\n",
      "\n",
      "\r\n",
      "\n",
      "\r\n",
      "\n",
      "Title: Pride and Prejudice\r\n",
      "\n",
      "\r\n",
      "\n",
      "Author: Jane Austen\r\n",
      "\n",
      "\r\n",
      "\n",
      "Posting Date: August 26, 2008 [EBook #1342]\r\n",
      "\n",
      "Release Date: June, 1998\r\n",
      "\n",
      "[Last updated: October 12, 2012]\r\n",
      "\n",
      "\r\n",
      "\n",
      "Language: English\r\n",
      "\n",
      "\r\n",
      "\n",
      "\r\n",
      "\n",
      "*** START OF THIS PROJECT GUTENBERG EBOOK PRIDE AND PREJUDICE ***\r\n",
      "\n",
      "\r\n",
      "\n",
      "\r\n",
      "\n",
      "\r\n",
      "\n",
      "\r\n",
      "\n",
      "Produced by Anonymous Volunteers\r\n",
      "\n",
      "\r\n",
      "\n",
      "\r\n",
      "\n",
      "\r\n",
      "\n",
      "\r\n",
      "\n",
      "\r\n",
      "\n",
      "PRIDE AND PREJUDICE\r\n",
      "\n",
      "\r\n",
      "\n",
      "By Jane Austen\r\n",
      "\n",
      "\r\n",
      "\n",
      "\r\n",
      "\n",
      "\r\n",
      "\n",
      "Chapter 1\r\n",
      "\n",
      "\r\n",
      "\n",
      "\r\n",
      "\n",
      "It is a truth universally acknowledged, that a single man in possession\r\n",
      "\n",
      "of a good fortune, must be in want of a wife.\r\n",
      "\n",
      "\r\n",
      "\n",
      "However little known the feelings or views of such a man may be on his\r\n",
      "\n",
      "first entering a neighbourhood, this truth is so well fixed in the minds\r\n",
      "\n",
      "of the surrounding families, that he is considered the rightful property\r\n",
      "\n",
      "of some one or other of their daughters.\r\n",
      "\n",
      "\r\n",
      "\n",
      "\"My dear Mr. Bennet,\" said his lady to him one day, \"have you heard that\r\n",
      "\n",
      "Netherfield Park is let at last?\"\r\n",
      "\n",
      "\r\n",
      "\n"
     ]
    }
   ],
   "source": [
    "import zipfile\n",
    "myzip = zipfile.ZipFile('pride_and_prejudice.zip','r')\n",
    "with myzip.open('pride_and_prejudice.txt','r') as ifh:\n",
    "     for (i,line) in enumerate(ifh):\n",
    "         if i < 50:\n",
    "            print(line)\n",
    "         else:\n",
    "            break"
   ]
  },
  {
   "cell_type": "code",
   "execution_count": null,
   "metadata": {},
   "outputs": [],
   "source": []
  }
 ],
 "metadata": {
  "celltoolbar": "Slideshow",
  "kernelspec": {
   "display_name": "Python 3",
   "language": "python",
   "name": "python3"
  },
  "language_info": {
   "codemirror_mode": {
    "name": "ipython",
    "version": 3
   },
   "file_extension": ".py",
   "mimetype": "text/x-python",
   "name": "python",
   "nbconvert_exporter": "python",
   "pygments_lexer": "ipython3",
   "version": "3.6.4"
  },
  "toc": {
   "colors": {
    "hover_highlight": "#DAA520",
    "running_highlight": "#FF0000",
    "selected_highlight": "#FFD700"
   },
   "moveMenuLeft": true,
   "nav_menu": {
    "height": "121px",
    "width": "252px"
   },
   "navigate_menu": true,
   "number_sections": true,
   "sideBar": true,
   "threshold": 4,
   "toc_cell": false,
   "toc_section_display": "block",
   "toc_window_display": false,
   "widenNotebook": false
  }
 },
 "nbformat": 4,
 "nbformat_minor": 1
}
