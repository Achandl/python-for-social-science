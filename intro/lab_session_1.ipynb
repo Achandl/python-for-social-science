{
 "cells": [
  {
   "cell_type": "markdown",
   "metadata": {},
   "source": [
    "For the next few lines of code to work for you, you need to have downloaded a copy of *Pride and Prejudice*, \n",
    "from Project Gutenberg, for example, as indicated in the lecture, and placed it in the directory where \n",
    "you started up ipython.  You then need to edit line 5 in the code below to reflect the actual location \n",
    "of the file."
   ]
  },
  {
   "cell_type": "code",
   "execution_count": 11,
   "metadata": {},
   "outputs": [],
   "source": [
    "from collections import Counter\n",
    "ctr = Counter()\n",
    "token_ctr = 0\n",
    "\n",
    "with open('pride_and_prejudice.txt','r') as file_handle:\n",
    "     for line in file_handle:\n",
    "         line_words = line.strip().split()\n",
    "         for word in line_words:\n",
    "             token_ctr += 1\n",
    "             ctr[word] += 1"
   ]
  },
  {
   "cell_type": "code",
   "execution_count": 12,
   "metadata": {},
   "outputs": [],
   "source": [
    "token_ctr"
   ]
  },
  {
   "cell_type": "code",
   "execution_count": 13,
   "metadata": {},
   "outputs": [],
   "source": [
    "with open('pride_and_prejudice.txt') as fh:\n",
    "    file_str = fh.read()"
   ]
  },
  {
   "cell_type": "markdown",
   "metadata": {},
   "source": [
    "Consider the next line and try to guess what it will return (be sure to be clear about the type of `X`)."
   ]
  },
  {
   "cell_type": "code",
   "execution_count": null,
   "metadata": {},
   "outputs": [],
   "source": [
    "X = open('pride_and_prejudice.txt').read()"
   ]
  },
  {
   "cell_type": "markdown",
   "metadata": {},
   "source": [
    "[Answer here]"
   ]
  },
  {
   "cell_type": "code",
   "execution_count": 14,
   "metadata": {},
   "outputs": [],
   "source": [
    "file_str[1000:1500]"
   ]
  },
  {
   "cell_type": "code",
   "execution_count": 15,
   "metadata": {},
   "outputs": [],
   "source": [
    "len(file_str)\n",
    "#print file_str[:1000]"
   ]
  },
  {
   "cell_type": "code",
   "execution_count": 16,
   "metadata": {},
   "outputs": [],
   "source": [
    "len(ctr)"
   ]
  },
  {
   "cell_type": "code",
   "execution_count": 17,
   "metadata": {},
   "outputs": [],
   "source": [
    "token_ctr"
   ]
  },
  {
   "cell_type": "markdown",
   "metadata": {},
   "source": [
    "What are `file_str`, `ctr`, and `token_ctr`?  How do the last two differ?  What is the type of `ctr` and the type\n",
    "of `token_ctr`?"
   ]
  },
  {
   "cell_type": "markdown",
   "metadata": {},
   "source": [
    "[Answer here]"
   ]
  },
  {
   "cell_type": "code",
   "execution_count": 7,
   "metadata": {},
   "outputs": [
    {
     "data": {
      "text/plain": [
       "[('the', 4205),\n",
       " ('to', 4121),\n",
       " ('of', 3660),\n",
       " ('and', 3309),\n",
       " ('a', 1945),\n",
       " ('her', 1858),\n",
       " ('in', 1813),\n",
       " ('was', 1796),\n",
       " ('I', 1740),\n",
       " ('that', 1419)]"
      ]
     },
     "execution_count": 7,
     "metadata": {},
     "output_type": "execute_result"
    }
   ],
   "source": [
    "ctr.most_common(10)"
   ]
  },
  {
   "cell_type": "code",
   "execution_count": 8,
   "metadata": {},
   "outputs": [
    {
     "data": {
      "text/plain": [
       "398"
      ]
     },
     "execution_count": 8,
     "metadata": {},
     "output_type": "execute_result"
    }
   ],
   "source": [
    "ctr['Elizabeth']"
   ]
  },
  {
   "cell_type": "markdown",
   "metadata": {},
   "source": [
    "Does case matter with `ctr`?  This is not a question you should answer by introspection.  Experiment!  Think of words\n",
    "that will almost certainly occur both capitalized and uncapitalized and try them.  Given what you now know, how many times do  singular indefinite articles occur in `Pride and Prejudice`.  If you dont't know what a singular indefinite article is, ask!\n",
    "Are singular indefinite articles more or less common than definite articles?  Why might that be?"
   ]
  },
  {
   "cell_type": "markdown",
   "metadata": {},
   "source": [
    "[Answer here]"
   ]
  },
  {
   "cell_type": "code",
   "execution_count": 19,
   "metadata": {},
   "outputs": [],
   "source": [
    "fh = open('pride_and_prejudice.txt','r')"
   ]
  },
  {
   "cell_type": "markdown",
   "metadata": {},
   "source": [
    "In the next cell, type `fh` and `[Shift]-[Enter]` to see what kind of container `fh` is."
   ]
  },
  {
   "cell_type": "code",
   "execution_count": 1,
   "metadata": {},
   "outputs": [],
   "source": []
  },
  {
   "cell_type": "code",
   "execution_count": 11,
   "metadata": {},
   "outputs": [
    {
     "data": {
      "text/plain": [
       "'\\xef\\xbb\\xbfThe Project Gutenberg EBook of Pride and Prejudice, by Jane Austen\\r\\n'"
      ]
     },
     "execution_count": 11,
     "metadata": {},
     "output_type": "execute_result"
    }
   ],
   "source": [
    "next(fh)"
   ]
  },
  {
   "cell_type": "markdown",
   "metadata": {},
   "source": [
    "In the next cell, get to the first sentence of the novel text by repeatedly using `fh.next()`.  You don't have to keep typing it, you can just type it once and repeatedly do `[Shift]-[Enter]`.  What is returned will change each time."
   ]
  },
  {
   "cell_type": "code",
   "execution_count": null,
   "metadata": {},
   "outputs": [],
   "source": []
  },
  {
   "cell_type": "markdown",
   "metadata": {},
   "source": [
    "Now that we've gotten to the text of the novel, let's experiment with the kinds of things `next` is returning.  They are of course **lines** of the text file.  The lines being returned are exactly the successive values of the variable `line`\n",
    "in the the `for` loop above:\n",
    "\n",
    "    for line in file_handle:\n",
    "    \n",
    "We are now going to experiment with an individual line example to understand what `strip` and `split` do in:\n",
    "\n",
    "        line_words = line.strip().split()"
   ]
  },
  {
   "cell_type": "code",
   "execution_count": 20,
   "metadata": {},
   "outputs": [
    {
     "data": {
      "text/plain": [
       "'\\xef\\xbb\\xbfThe Project Gutenberg EBook of Pride and Prejudice, by Jane Austen\\r\\n'"
      ]
     },
     "execution_count": 20,
     "metadata": {},
     "output_type": "execute_result"
    }
   ],
   "source": [
    "line = next(fh)\n",
    "line"
   ]
  },
  {
   "cell_type": "markdown",
   "metadata": {},
   "source": [
    "The characters at the end are how newlines are represented in  the file (the exact details differ in different operating systems)."
   ]
  },
  {
   "cell_type": "code",
   "execution_count": null,
   "metadata": {},
   "outputs": [],
   "source": [
    "line.strip()"
   ]
  },
  {
   "cell_type": "markdown",
   "metadata": {},
   "source": [
    "What happened?"
   ]
  },
  {
   "cell_type": "markdown",
   "metadata": {},
   "source": [
    "[Answer here]"
   ]
  },
  {
   "cell_type": "markdown",
   "metadata": {},
   "source": [
    "line.strip().split()"
   ]
  },
  {
   "cell_type": "markdown",
   "metadata": {},
   "source": [
    "What happened?"
   ]
  },
  {
   "cell_type": "code",
   "execution_count": null,
   "metadata": {},
   "outputs": [],
   "source": [
    "fh = open('pride_and_prejudice.txt','r')\n",
    "text = fh.read()"
   ]
  },
  {
   "cell_type": "markdown",
   "metadata": {},
   "source": [
    "What is text?  Be sure to also say what type of Python object it is.  Don't know? Point your cursor at a cell and experiment!"
   ]
  },
  {
   "cell_type": "markdown",
   "metadata": {},
   "source": [
    "[Answer here]"
   ]
  },
  {
   "cell_type": "code",
   "execution_count": 6,
   "metadata": {},
   "outputs": [
    {
     "data": {
      "text/plain": [
       "13424"
      ]
     },
     "execution_count": 6,
     "metadata": {},
     "output_type": "execute_result"
    }
   ],
   "source": [
    "fh = open('pride_and_prejudice.txt','r')\n",
    "ctr = 0\n",
    "for line in fh:\n",
    "    ctr += 1\n",
    "ctr"
   ]
  },
  {
   "cell_type": "markdown",
   "metadata": {},
   "source": [
    "What does the value of `ctr` count?"
   ]
  },
  {
   "cell_type": "markdown",
   "metadata": {},
   "source": [
    "[Answer here]"
   ]
  },
  {
   "cell_type": "code",
   "execution_count": 7,
   "metadata": {},
   "outputs": [
    {
     "ename": "StopIteration",
     "evalue": "",
     "output_type": "error",
     "traceback": [
      "\u001b[0;31m---------------------------------------------------------------------------\u001b[0m\n\u001b[0;31mStopIteration\u001b[0m                             Traceback (most recent call last)",
      "\u001b[0;32m<ipython-input-7-f34e1ba57acf>\u001b[0m in \u001b[0;36m<module>\u001b[0;34m()\u001b[0m\n\u001b[0;32m----> 1\u001b[0;31m \u001b[0mfh\u001b[0m\u001b[0;34m.\u001b[0m\u001b[0mnext\u001b[0m\u001b[0;34m(\u001b[0m\u001b[0;34m)\u001b[0m\u001b[0;34m\u001b[0m\u001b[0m\n\u001b[0m",
      "\u001b[0;31mStopIteration\u001b[0m: "
     ]
    }
   ],
   "source": [
    "next(fh)"
   ]
  },
  {
   "cell_type": "markdown",
   "metadata": {},
   "source": [
    "You can't loop through a file handle a second time, once it's been looped through once.  You have to open a new file\n",
    "handle with a new `open` command."
   ]
  },
  {
   "cell_type": "code",
   "execution_count": 9,
   "metadata": {},
   "outputs": [],
   "source": [
    "fh = open('pride_and_prejudice.txt','r')\n",
    "ctr = 0\n",
    "for line in fh:\n",
    "    ctr += 1\n",
    "    if ctr > 200:\n",
    "        break\n",
    "    else:\n",
    "        print(line, end=' ')"
   ]
  },
  {
   "cell_type": "markdown",
   "metadata": {},
   "source": [
    "In the code above, there is a comma after the print statement.  Experiment with removing it.  What is the difference?  Experiment with adding a comma after simple print statements like `print \"Hi\"`.  Experiment with print-statements like `print \"Hi\", \"there\", \",\", \"big\" \"boy\"`.  What does adding the comma mean?  What does omitting it mean?"
   ]
  },
  {
   "cell_type": "markdown",
   "metadata": {},
   "source": [
    "[Answer here]"
   ]
  },
  {
   "cell_type": "code",
   "execution_count": null,
   "metadata": {},
   "outputs": [],
   "source": []
  },
  {
   "cell_type": "markdown",
   "metadata": {},
   "source": [
    "## Writing information to files"
   ]
  },
  {
   "cell_type": "code",
   "execution_count": 1,
   "metadata": {},
   "outputs": [],
   "source": [
    "word_count = dict(walk=3,talk=1,the=422)\n",
    "ofh = open('counts.txt','w')"
   ]
  },
  {
   "cell_type": "code",
   "execution_count": 5,
   "metadata": {},
   "outputs": [],
   "source": [
    "for (word,count) in list(word_count.items()):\n",
    "    print(word, count, file=ofh)\n",
    "ofh.close()"
   ]
  },
  {
   "cell_type": "code",
   "execution_count": 6,
   "metadata": {},
   "outputs": [
    {
     "data": {
      "text/plain": [
       "{'talk': 1, 'the': 422, 'walk': 3}"
      ]
     },
     "execution_count": 6,
     "metadata": {},
     "output_type": "execute_result"
    }
   ],
   "source": [
    "word_count"
   ]
  },
  {
   "cell_type": "code",
   "execution_count": 7,
   "metadata": {},
   "outputs": [
    {
     "data": {
      "text/plain": [
       "['the', 'talk', 'walk']"
      ]
     },
     "execution_count": 7,
     "metadata": {},
     "output_type": "execute_result"
    }
   ],
   "source": [
    "list(word_count.keys())"
   ]
  },
  {
   "cell_type": "code",
   "execution_count": 8,
   "metadata": {},
   "outputs": [
    {
     "data": {
      "text/plain": [
       "[('the', 422), ('talk', 1), ('walk', 3)]"
      ]
     },
     "execution_count": 8,
     "metadata": {},
     "output_type": "execute_result"
    }
   ],
   "source": [
    "list(word_count.items())"
   ]
  },
  {
   "cell_type": "code",
   "execution_count": 3,
   "metadata": {},
   "outputs": [
    {
     "data": {
      "text/plain": [
       "[422, 1, 3]"
      ]
     },
     "execution_count": 3,
     "metadata": {},
     "output_type": "execute_result"
    }
   ],
   "source": [
    "list(word_count.values())"
   ]
  },
  {
   "cell_type": "markdown",
   "metadata": {},
   "source": [
    "## Other types of filelike objects"
   ]
  },
  {
   "cell_type": "code",
   "execution_count": null,
   "metadata": {},
   "outputs": [],
   "source": [
    "from collections import Counter\n",
    "from urllib.request import  urlopen\n",
    "book_url = 'http://www.gutenberg.org/ebooks/1342.txt.utf-8' # Pride & Prejudice URL\n",
    "handle = urlopen(book_url)\n",
    "handle"
   ]
  },
  {
   "cell_type": "markdown",
   "metadata": {},
   "source": [
    "Look at the next code cell and try to guess what kind of object `X` is."
   ]
  },
  {
   "cell_type": "code",
   "execution_count": null,
   "metadata": {},
   "outputs": [],
   "source": [
    "X = urlopen('http://www.gutenberg.org/ebooks/1342.txt.utf-8').readline()"
   ]
  },
  {
   "cell_type": "markdown",
   "metadata": {},
   "source": [
    "In the next cell, write some code to verify your guess.  In other words, if you think `X` is a file handle, what piece of code would you execute to verify that guess?"
   ]
  },
  {
   "cell_type": "code",
   "execution_count": null,
   "metadata": {},
   "outputs": [],
   "source": []
  },
  {
   "cell_type": "markdown",
   "metadata": {},
   "source": [
    "What is the difference between the `read` method and the `readline` method."
   ]
  },
  {
   "cell_type": "markdown",
   "metadata": {},
   "source": [
    "[Answer here]"
   ]
  },
  {
   "cell_type": "markdown",
   "metadata": {},
   "source": [
    "## Making a script"
   ]
  },
  {
   "cell_type": "markdown",
   "metadata": {},
   "source": [
    "In this exercise you will do something OUTSIDE the notebook.  You will experiment with creating a file and placing code in it."
   ]
  },
  {
   "cell_type": "code",
   "execution_count": null,
   "metadata": {},
   "outputs": [],
   "source": [
    "import sys\n",
    "\n",
    "def word_freqs(filename):\n",
    "    freqdist = Counter()\n",
    "    filehandle = open(filename, 'r')\n",
    "    for line in filehandle:\n",
    "        line_list = line.split()\n",
    "        for word in line_list\n",
    "           freqdist[word] += 1\n",
    "    print freq_dist.most_common(10)\n",
    "    return freqdist\n",
    "\n",
    "\n",
    "if __name__ == '__main__':\n",
    "   if len(sys.argv) == 2:\n",
    "      filename = sys.argv[1]\n",
    "    word_freqs(filename)"
   ]
  },
  {
   "cell_type": "markdown",
   "metadata": {},
   "source": [
    "Take the code above, and cut and paste it into a tex file, using the editor you are introduced in class.  If you are using this notebook in a Linux system in the Compl Ling lab, a very likely choice is `gedit`.  Then try and run it on the `pride_and_prejudice.txt` text file from a terminal window."
   ]
  },
  {
   "cell_type": "markdown",
   "metadata": {},
   "source": [
    "## Extra credit"
   ]
  },
  {
   "cell_type": "markdown",
   "metadata": {},
   "source": [
    "Extra credit!  Create your own zombies parody of `Pride and Prejudice and Zombies`.  Create a sequence of zombie attack scenes and insert them (between paragraphs, please!) into a new file that contains all the original text plus the inserted scenes, entitled `pride_and_prejudice_and_zombies.txt`.  And please try not to break the flow!"
   ]
  },
  {
   "cell_type": "code",
   "execution_count": null,
   "metadata": {},
   "outputs": [],
   "source": []
  }
 ],
 "metadata": {
  "kernelspec": {
   "display_name": "Python 3",
   "language": "python",
   "name": "python3"
  },
  "language_info": {
   "codemirror_mode": {
    "name": "ipython",
    "version": 3
   },
   "file_extension": ".py",
   "mimetype": "text/x-python",
   "name": "python",
   "nbconvert_exporter": "python",
   "pygments_lexer": "ipython3",
   "version": "3.6.4"
  },
  "toc": {
   "colors": {
    "hover_highlight": "#DAA520",
    "running_highlight": "#FF0000",
    "selected_highlight": "#FFD700"
   },
   "moveMenuLeft": true,
   "nav_menu": {
    "height": "85px",
    "width": "252px"
   },
   "navigate_menu": true,
   "number_sections": true,
   "sideBar": true,
   "threshold": 4,
   "toc_cell": false,
   "toc_section_display": "block",
   "toc_window_display": false,
   "widenNotebook": false
  }
 },
 "nbformat": 4,
 "nbformat_minor": 1
}
