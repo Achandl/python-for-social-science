{
  "nbformat": 4,
  "nbformat_minor": 0,
  "metadata": {
    "colab": {
      "name": "Copy of gawron2_running_python.ipynb",
      "provenance": [],
      "collapsed_sections": []
    },
    "kernelspec": {
      "display_name": "Python 3",
      "language": "python",
      "name": "python3"
    },
    "language_info": {
      "codemirror_mode": {
        "name": "ipython",
        "version": 3
      },
      "file_extension": ".py",
      "mimetype": "text/x-python",
      "name": "python",
      "nbconvert_exporter": "python",
      "pygments_lexer": "ipython3",
      "version": "3.7.6"
    },
    "toc": {
      "base_numbering": 1,
      "nav_menu": {
        "height": "85px",
        "width": "252px"
      },
      "number_sections": true,
      "sideBar": true,
      "skip_h1_title": false,
      "title_cell": "Table of Contents",
      "title_sidebar": "Contents",
      "toc_cell": false,
      "toc_position": {},
      "toc_section_display": "block",
      "toc_window_display": false
    }
  },
  "cells": [
    {
      "cell_type": "markdown",
      "metadata": {
        "id": "UZw4IFWVvTwQ",
        "colab_type": "text"
      },
      "source": [
        "Note:  If you are looking at this notebook on github and wondering how on earth to run it have a look [at this section of the online book](https://gawron.sdsu.edu/python_for_ss/course_core/book_draft/Introduction/starting_up_python.html).  Bear in mind you'll not only need to download the \"Open in colab\" extension of your Chrome browser.  You'll also need to be logged in to your Google account."
      ]
    },
    {
      "cell_type": "markdown",
      "metadata": {
        "colab_type": "text",
        "id": "x9s5jJ4klqDx"
      },
      "source": [
        "# Running python"
      ]
    },
    {
      "cell_type": "markdown",
      "metadata": {
        "colab_type": "text",
        "id": "teAxBAjhlqDy"
      },
      "source": [
        "The first command in the cell below will start off many notebooks.  It loads matplotlib (graphing) tools and numpy (extended math) tools into Python.  It also guarantees your plots will appear in the notebook rather than in a separate window."
      ]
    },
    {
      "cell_type": "code",
      "metadata": {
        "colab_type": "code",
        "id": "SKB31DKrlqD1",
        "colab": {
          "base_uri": "https://localhost:8080/",
          "height": 85
        },
        "outputId": "cbee5d00-2a8b-47b9-94e7-83ad5aef8618"
      },
      "source": [
        "%pylab inline"
      ],
      "execution_count": null,
      "outputs": [
        {
          "output_type": "stream",
          "text": [
            "Populating the interactive namespace from numpy and matplotlib\n"
          ],
          "name": "stdout"
        },
        {
          "output_type": "stream",
          "text": [
            "/usr/local/lib/python3.6/dist-packages/IPython/core/magics/pylab.py:161: UserWarning: pylab import has clobbered these variables: ['pi', 'e']\n",
            "`%matplotlib` prevents importing * from pylab and numpy\n",
            "  \"\\n`%matplotlib` prevents importing * from pylab and numpy\"\n"
          ],
          "name": "stderr"
        }
      ]
    },
    {
      "cell_type": "code",
      "metadata": {
        "colab_type": "code",
        "id": "2a4Ebz5AlqD8",
        "colab": {}
      },
      "source": [
        "total_secs = 7684\n",
        "hours = total_secs // 3600\n",
        "secs_still_remaining = total_secs % 3600\n",
        "minutes =  secs_still_remaining // 60\n",
        "secs_finally_remaining = secs_still_remaining  % 60"
      ],
      "execution_count": null,
      "outputs": []
    },
    {
      "cell_type": "markdown",
      "metadata": {
        "colab_type": "text",
        "id": "-z86imZUlqD_"
      },
      "source": [
        "If youve just loaded this notebook, you might want to run the commands in the cell above.  This is done by placing your cursor in the cell and hitting the enter key **while** holding down shift, which we will henceforth write as `[Shift]`-`[Enter]`.  After you do that the 5 variables will have the values they were assigned in the cell. "
      ]
    },
    {
      "cell_type": "code",
      "metadata": {
        "colab_type": "code",
        "id": "HeDbeOsZlqEA",
        "colab": {},
        "outputId": "8029e9d3-f190-4b64-d876-1c6163343128"
      },
      "source": [
        "total_secs  + 1"
      ],
      "execution_count": null,
      "outputs": [
        {
          "output_type": "execute_result",
          "data": {
            "text/plain": [
              "7685"
            ]
          },
          "metadata": {
            "tags": []
          },
          "execution_count": 4
        }
      ]
    },
    {
      "cell_type": "code",
      "metadata": {
        "colab_type": "code",
        "id": "JS6Hr6xxlqED",
        "colab": {},
        "outputId": "a89999bd-9c59-4da3-ff6e-3ede6f0a02ce"
      },
      "source": [
        "hours"
      ],
      "execution_count": null,
      "outputs": [
        {
          "output_type": "execute_result",
          "data": {
            "text/plain": [
              "2"
            ]
          },
          "metadata": {
            "tags": []
          },
          "execution_count": 5
        }
      ]
    },
    {
      "cell_type": "code",
      "metadata": {
        "colab_type": "code",
        "id": "87nSqyjklqEG",
        "colab": {},
        "outputId": "e12767b1-3e36-4829-caaa-b3ab765e5364"
      },
      "source": [
        "minutes"
      ],
      "execution_count": null,
      "outputs": [
        {
          "output_type": "execute_result",
          "data": {
            "text/plain": [
              "8"
            ]
          },
          "metadata": {
            "tags": []
          },
          "execution_count": 6
        }
      ]
    },
    {
      "cell_type": "code",
      "metadata": {
        "colab_type": "code",
        "id": "g35ld2tUlqEK",
        "colab": {},
        "outputId": "7fe86f9b-b5a6-4ec1-afda-26ce6f5a5c50"
      },
      "source": [
        "secs_still_remaining"
      ],
      "execution_count": null,
      "outputs": [
        {
          "output_type": "execute_result",
          "data": {
            "text/plain": [
              "484"
            ]
          },
          "metadata": {
            "tags": []
          },
          "execution_count": 7
        }
      ]
    },
    {
      "cell_type": "code",
      "metadata": {
        "colab_type": "code",
        "id": "QpbHNDK_lqEN",
        "colab": {},
        "outputId": "2c1f6cba-0da9-4418-ddff-13912155a176"
      },
      "source": [
        "secs_finally_remaining"
      ],
      "execution_count": null,
      "outputs": [
        {
          "output_type": "execute_result",
          "data": {
            "text/plain": [
              "4"
            ]
          },
          "metadata": {
            "tags": []
          },
          "execution_count": 8
        }
      ]
    },
    {
      "cell_type": "markdown",
      "metadata": {
        "colab_type": "text",
        "id": "C5Ulk3VslqEQ"
      },
      "source": [
        "To look at the values of a set of variables you can do what we just did, typing each variable to Python, but there are some other options.  One is to type a tuple to Python, to look at several variables at once."
      ]
    },
    {
      "cell_type": "code",
      "metadata": {
        "colab_type": "code",
        "id": "54WkydbllqER",
        "colab": {},
        "outputId": "6d712cee-a64b-4544-f2e0-a758d9897b62"
      },
      "source": [
        "(total_secs, hours, minutes, secs_still_remaining,secs_finally_remaining)"
      ],
      "execution_count": null,
      "outputs": [
        {
          "output_type": "execute_result",
          "data": {
            "text/plain": [
              "(7684, 2, 8, 484, 4)"
            ]
          },
          "metadata": {
            "tags": []
          },
          "execution_count": 9
        }
      ]
    },
    {
      "cell_type": "markdown",
      "metadata": {
        "colab_type": "text",
        "id": "q7br_VDjlqEU"
      },
      "source": [
        "Another is to use Python's print statement."
      ]
    },
    {
      "cell_type": "code",
      "metadata": {
        "colab_type": "code",
        "id": "F9lgEGXglqEU",
        "colab": {},
        "outputId": "2132f435-fe00-4fa6-b6d2-47c3ff72d61d"
      },
      "source": [
        "print(\"Hrs =\", hours, \"mins =\", minutes, \"secs =\", secs_finally_remaining)"
      ],
      "execution_count": null,
      "outputs": [
        {
          "output_type": "stream",
          "text": [
            "Hrs = 2 mins = 8 secs = 4\n"
          ],
          "name": "stdout"
        }
      ]
    },
    {
      "cell_type": "markdown",
      "metadata": {
        "colab_type": "text",
        "id": "v9Xmmm--lqEX"
      },
      "source": [
        "Some important features of the `print` statement are illustrated.  `print` takes any number of arguments, separated by commas.  The commas are interpreted as spaces.  The final argument is not followed by a comma so print adds a newline character (\"\\n\").  The syntax of `print` is like nothing else in Python (no parens), and has been changed in Python 3.0, so this is how we'll be using it."
      ]
    },
    {
      "cell_type": "markdown",
      "metadata": {
        "colab_type": "text",
        "id": "TdfbhwySlqEY"
      },
      "source": [
        "# Python arithmetic "
      ]
    },
    {
      "cell_type": "markdown",
      "metadata": {
        "colab_type": "text",
        "id": "LUmgRRRWlqEZ"
      },
      "source": [
        "Lets look at each of the lines in the code and see what it computes.  Python has two division operators, '//' and '/'. This is illustrated in the next line."
      ]
    },
    {
      "cell_type": "code",
      "metadata": {
        "colab_type": "code",
        "id": "m6fl1vcnlqEa",
        "colab": {},
        "outputId": "0fd2cc60-3c33-4c8c-8585-f8f0cd52415a"
      },
      "source": [
        "total_secs // 3600"
      ],
      "execution_count": null,
      "outputs": [
        {
          "output_type": "execute_result",
          "data": {
            "text/plain": [
              "2"
            ]
          },
          "metadata": {
            "tags": []
          },
          "execution_count": 11
        }
      ]
    },
    {
      "cell_type": "markdown",
      "metadata": {
        "colab_type": "text",
        "id": "GecQMaQ1lqEd"
      },
      "source": [
        "Note that even though the value of *total_secs* is 7684, the value returned is an integer.  The '//' operator always rounds off to the nearest integer when necessary.  "
      ]
    },
    {
      "cell_type": "code",
      "metadata": {
        "colab_type": "code",
        "id": "tn14JrgJlqEe",
        "colab": {},
        "outputId": "85a92661-a217-49b3-e50d-c16aef734754"
      },
      "source": [
        "7200.1//3600"
      ],
      "execution_count": null,
      "outputs": [
        {
          "output_type": "execute_result",
          "data": {
            "text/plain": [
              "2.0"
            ]
          },
          "metadata": {
            "tags": []
          },
          "execution_count": 12
        }
      ]
    },
    {
      "cell_type": "markdown",
      "metadata": {
        "colab_type": "text",
        "id": "VEpDsT9RlqEh"
      },
      "source": [
        "The '%' operator (also called the **modulus** operator) computes the *remainder* in a division."
      ]
    },
    {
      "cell_type": "code",
      "metadata": {
        "colab_type": "code",
        "id": "JFjIFROIlqEh",
        "colab": {},
        "outputId": "6ffa936f-a022-4676-c7af-77fa56350af5"
      },
      "source": [
        "total_secs % 3600"
      ],
      "execution_count": null,
      "outputs": [
        {
          "output_type": "execute_result",
          "data": {
            "text/plain": [
              "484"
            ]
          },
          "metadata": {
            "tags": []
          },
          "execution_count": 13
        }
      ]
    },
    {
      "cell_type": "code",
      "metadata": {
        "colab_type": "code",
        "id": "CdUWppz2lqEk",
        "colab": {},
        "outputId": "3fd7fec1-d0d1-4c17-e830-4b8b9a6a03c5"
      },
      "source": [
        "345.3 % 3"
      ],
      "execution_count": null,
      "outputs": [
        {
          "output_type": "execute_result",
          "data": {
            "text/plain": [
              "0.30000000000001137"
            ]
          },
          "metadata": {
            "tags": []
          },
          "execution_count": 14
        }
      ]
    },
    {
      "cell_type": "markdown",
      "metadata": {
        "colab_type": "text",
        "id": "whOazm8UlqEn"
      },
      "source": [
        "## Basic arithmetic"
      ]
    },
    {
      "cell_type": "markdown",
      "metadata": {
        "colab_type": "text",
        "id": "g68FE0_blqEn"
      },
      "source": [
        "Multiplication"
      ]
    },
    {
      "cell_type": "code",
      "metadata": {
        "colab_type": "code",
        "id": "lnZDltEYlqEp",
        "colab": {},
        "outputId": "cd4857e9-aac1-4553-a167-8bd98fce826c"
      },
      "source": [
        "3 * 2"
      ],
      "execution_count": null,
      "outputs": [
        {
          "output_type": "execute_result",
          "data": {
            "text/plain": [
              "6"
            ]
          },
          "metadata": {
            "tags": []
          },
          "execution_count": 15
        }
      ]
    },
    {
      "cell_type": "markdown",
      "metadata": {
        "colab_type": "text",
        "id": "-z2LnvEjlqEt"
      },
      "source": [
        "Addition"
      ]
    },
    {
      "cell_type": "code",
      "metadata": {
        "colab_type": "code",
        "id": "nYm0jGY2lqEu",
        "colab": {},
        "outputId": "51b900d8-84f9-4a40-ee2a-ec2f1445fb03"
      },
      "source": [
        "3 + 2"
      ],
      "execution_count": null,
      "outputs": [
        {
          "output_type": "execute_result",
          "data": {
            "text/plain": [
              "5"
            ]
          },
          "metadata": {
            "tags": []
          },
          "execution_count": 16
        }
      ]
    },
    {
      "cell_type": "markdown",
      "metadata": {
        "colab_type": "text",
        "id": "KX_F9O2BlqEy"
      },
      "source": [
        "Subtraction"
      ]
    },
    {
      "cell_type": "code",
      "metadata": {
        "colab_type": "code",
        "id": "tQmvhITolqEz",
        "colab": {},
        "outputId": "7ed11841-c802-46ef-ef6a-598afefa0d4b"
      },
      "source": [
        "3 - 2"
      ],
      "execution_count": null,
      "outputs": [
        {
          "output_type": "execute_result",
          "data": {
            "text/plain": [
              "1"
            ]
          },
          "metadata": {
            "tags": []
          },
          "execution_count": 17
        }
      ]
    },
    {
      "cell_type": "markdown",
      "metadata": {
        "colab_type": "text",
        "id": "PaqeCq0qlqE2"
      },
      "source": [
        "Raising to a power"
      ]
    },
    {
      "cell_type": "code",
      "metadata": {
        "colab_type": "code",
        "id": "HuunR6ZblqE3",
        "colab": {},
        "outputId": "fb64faa3-c620-43a1-9017-e69554af1e51"
      },
      "source": [
        "3 ** 2"
      ],
      "execution_count": null,
      "outputs": [
        {
          "output_type": "execute_result",
          "data": {
            "text/plain": [
              "9"
            ]
          },
          "metadata": {
            "tags": []
          },
          "execution_count": 18
        }
      ]
    },
    {
      "cell_type": "markdown",
      "metadata": {
        "colab_type": "text",
        "id": "M7uODFS0lqE6"
      },
      "source": [
        "Taking the log.  The next line is log of 3."
      ]
    },
    {
      "cell_type": "code",
      "metadata": {
        "colab_type": "code",
        "id": "F7-uXHiHlqE6",
        "colab": {},
        "outputId": "d02aba77-b040-44ae-c405-d2e53e006bc6"
      },
      "source": [
        "log(3)"
      ],
      "execution_count": null,
      "outputs": [
        {
          "output_type": "execute_result",
          "data": {
            "text/plain": [
              "1.0986122886681098"
            ]
          },
          "metadata": {
            "tags": []
          },
          "execution_count": 19
        }
      ]
    },
    {
      "cell_type": "markdown",
      "metadata": {
        "colab_type": "text",
        "id": "St96VgO5lqE9"
      },
      "source": [
        "In regular Python, this would be a `NameError` because the *log function* is not one of the builtin Python math functions.  But because we executed `%pylab` when we started up this notebook, all the extended math functions defined in the `numpy` module are defined.  One of those is `log`.  As an example of some possible pitfalls, we'll compare this `log` with the more vanilla version from the standard Python `math` module.  `math.log` does give the same answers for real numbers."
      ]
    },
    {
      "cell_type": "code",
      "metadata": {
        "colab_type": "code",
        "id": "xWuzczGalqE_",
        "colab": {
          "base_uri": "https://localhost:8080/",
          "height": 34
        },
        "outputId": "1f558e21-fb2e-4cf2-e40a-f0cdbdcd51d9"
      },
      "source": [
        "import math\n",
        "math.log(3)"
      ],
      "execution_count": null,
      "outputs": [
        {
          "output_type": "execute_result",
          "data": {
            "text/plain": [
              "1.0986122886681098"
            ]
          },
          "metadata": {
            "tags": []
          },
          "execution_count": 3
        }
      ]
    },
    {
      "cell_type": "markdown",
      "metadata": {
        "colab_type": "text",
        "id": "tSZ8J3EylqFB"
      },
      "source": [
        "By default, math.log does natural logarithms, as does `numpy.log`, so if you dont specify the base, it is **e**.  But unlike the numpy implementation, `math.log` lets you choose other bases."
      ]
    },
    {
      "cell_type": "code",
      "metadata": {
        "colab_type": "code",
        "id": "N3W2eCvRlqFC",
        "colab": {},
        "outputId": "9f000653-331a-446c-e16c-d196840b0b35"
      },
      "source": [
        "math.log(3,2)"
      ],
      "execution_count": null,
      "outputs": [
        {
          "output_type": "execute_result",
          "data": {
            "text/plain": [
              "1.5849625007211563"
            ]
          },
          "metadata": {
            "tags": []
          },
          "execution_count": 21
        }
      ]
    },
    {
      "cell_type": "markdown",
      "metadata": {
        "colab_type": "text",
        "id": "vNxr1jGKlqFE"
      },
      "source": [
        "Trying this with the `numpy.log` raises an exception.  `numpy.log` does take a second argument but it's used for purposes we won't delve into right now."
      ]
    },
    {
      "cell_type": "code",
      "metadata": {
        "colab_type": "code",
        "id": "L-EcWtrXlqFF",
        "colab": {},
        "outputId": "4f93078e-996c-477b-8662-0289f911b457"
      },
      "source": [
        "log(3,2)"
      ],
      "execution_count": null,
      "outputs": [
        {
          "output_type": "error",
          "ename": "TypeError",
          "evalue": "return arrays must be of ArrayType",
          "traceback": [
            "\u001b[0;31m---------------------------------------------------------------------------\u001b[0m",
            "\u001b[0;31mTypeError\u001b[0m                                 Traceback (most recent call last)",
            "\u001b[0;32m<ipython-input-22-e5ab6086b242>\u001b[0m in \u001b[0;36m<module>\u001b[0;34m()\u001b[0m\n\u001b[0;32m----> 1\u001b[0;31m \u001b[0mlog\u001b[0m\u001b[0;34m(\u001b[0m\u001b[0;36m3\u001b[0m\u001b[0;34m,\u001b[0m\u001b[0;36m2\u001b[0m\u001b[0;34m)\u001b[0m\u001b[0;34m\u001b[0m\u001b[0m\n\u001b[0m",
            "\u001b[0;31mTypeError\u001b[0m: return arrays must be of ArrayType"
          ]
        }
      ]
    },
    {
      "cell_type": "code",
      "metadata": {
        "colab_type": "code",
        "id": "xrFNJwLLlqFH",
        "colab": {
          "base_uri": "https://localhost:8080/",
          "height": 34
        },
        "outputId": "c566d1fe-9309-4ba0-9809-deb29d36b0a7"
      },
      "source": [
        "from math import e\n",
        "math.log(e)"
      ],
      "execution_count": null,
      "outputs": [
        {
          "output_type": "execute_result",
          "data": {
            "text/plain": [
              "1.0"
            ]
          },
          "metadata": {
            "tags": []
          },
          "execution_count": 4
        }
      ]
    },
    {
      "cell_type": "code",
      "metadata": {
        "colab_type": "code",
        "id": "-j7o52Z9lqFK",
        "colab": {
          "base_uri": "https://localhost:8080/",
          "height": 34
        },
        "outputId": "35a234d4-50f9-4c5a-be58-8871e964eaea"
      },
      "source": [
        "e"
      ],
      "execution_count": null,
      "outputs": [
        {
          "output_type": "execute_result",
          "data": {
            "text/plain": [
              "2.718281828459045"
            ]
          },
          "metadata": {
            "tags": []
          },
          "execution_count": 5
        }
      ]
    },
    {
      "cell_type": "code",
      "metadata": {
        "colab_type": "code",
        "id": "uSGh1_GclqFN",
        "colab": {}
      },
      "source": [
        "math.log(4)"
      ],
      "execution_count": null,
      "outputs": []
    },
    {
      "cell_type": "code",
      "metadata": {
        "colab_type": "code",
        "id": "_xbdw0VMlqFP",
        "colab": {}
      },
      "source": [
        "math.log(4,2)"
      ],
      "execution_count": null,
      "outputs": []
    },
    {
      "cell_type": "markdown",
      "metadata": {
        "colab_type": "text",
        "id": "XnRmiiO8lqFS"
      },
      "source": [
        "The numpy version of log is pretty geeky. For example, it's defined for complex numbers."
      ]
    },
    {
      "cell_type": "code",
      "metadata": {
        "colab_type": "code",
        "id": "2JfHfmJSlqFT",
        "colab": {}
      },
      "source": [
        "log(3+2j)"
      ],
      "execution_count": null,
      "outputs": []
    },
    {
      "cell_type": "markdown",
      "metadata": {
        "colab_type": "text",
        "id": "guzlhKbYlqFW"
      },
      "source": [
        "The regular Python version of log is not."
      ]
    },
    {
      "cell_type": "code",
      "metadata": {
        "colab_type": "code",
        "id": "iCFtOO3olqFW",
        "colab": {}
      },
      "source": [
        "math.log(3+2j)"
      ],
      "execution_count": null,
      "outputs": []
    },
    {
      "cell_type": "markdown",
      "metadata": {
        "colab_type": "text",
        "id": "qCPY3vLUlqFb"
      },
      "source": [
        "The Python *math* module is very spare and lacks a number of important mathematical tools of interest to data scientists.  Later on in this course we will be introduced to the more complete set of tools available in the *numpy* module."
      ]
    },
    {
      "cell_type": "markdown",
      "metadata": {
        "colab_type": "text",
        "id": "fCyujxkLlqFc"
      },
      "source": [
        "## Student confirmation section"
      ]
    },
    {
      "cell_type": "markdown",
      "metadata": {
        "colab_type": "text",
        "id": "f5LzpcwYlqFc"
      },
      "source": [
        "Evaluate the cell below, to find out the value of the expression. "
      ]
    },
    {
      "cell_type": "code",
      "metadata": {
        "colab_type": "code",
        "id": "uYavvgpslqFd",
        "colab": {
          "base_uri": "https://localhost:8080/",
          "height": 34
        },
        "outputId": "7be21211-e61c-4746-cbb7-d3e17facb4b8"
      },
      "source": [
        "from math import pi\n",
        "pow(e,(0+1j)*pi)"
      ],
      "execution_count": null,
      "outputs": [
        {
          "output_type": "execute_result",
          "data": {
            "text/plain": [
              "(-1+1.2246467991473532e-16j)"
            ]
          },
          "metadata": {
            "tags": []
          },
          "execution_count": 7
        }
      ]
    },
    {
      "cell_type": "code",
      "metadata": {
        "colab_type": "code",
        "id": "VZvDdThJCIuq",
        "colab": {
          "base_uri": "https://localhost:8080/",
          "height": 34
        },
        "outputId": "4988ff92-89af-47dd-fbb8-98678d39f567"
      },
      "source": [
        "pow(e,(1j*pi))"
      ],
      "execution_count": null,
      "outputs": [
        {
          "output_type": "execute_result",
          "data": {
            "text/plain": [
              "(-1+1.2246467991473532e-16j)"
            ]
          },
          "metadata": {
            "tags": []
          },
          "execution_count": 11
        }
      ]
    },
    {
      "cell_type": "code",
      "metadata": {
        "colab_type": "code",
        "id": "BFt69_yllqFg",
        "colab": {
          "base_uri": "https://localhost:8080/",
          "height": 34
        },
        "outputId": "93d48913-9f27-42f0-e35d-69d9938d2381"
      },
      "source": [
        "log(-1+0j)"
      ],
      "execution_count": null,
      "outputs": [
        {
          "output_type": "execute_result",
          "data": {
            "text/plain": [
              "3.141592653589793j"
            ]
          },
          "metadata": {
            "tags": []
          },
          "execution_count": 14
        }
      ]
    },
    {
      "cell_type": "markdown",
      "metadata": {
        "colab_type": "text",
        "id": "8GtKWyXzD83X"
      },
      "source": [
        ""
      ]
    },
    {
      "cell_type": "markdown",
      "metadata": {
        "colab_type": "text",
        "id": "vyQgJo2slqFi"
      },
      "source": [
        "# Textbook problems"
      ]
    },
    {
      "cell_type": "markdown",
      "metadata": {
        "colab_type": "text",
        "id": "B_uZD7hulqFj"
      },
      "source": [
        "Recall the first cell in this notebook."
      ]
    },
    {
      "cell_type": "code",
      "metadata": {
        "colab_type": "code",
        "id": "Ppj7a-qalqFj",
        "colab": {}
      },
      "source": [
        "total_secs = 7684\n",
        "hours = total_secs // 3600\n",
        "secs_still_remaining = total_secs % 3600\n",
        "minutes =  secs_still_remaining // 60\n",
        "secs_finally_remaining = secs_still_remaining  % 60"
      ],
      "execution_count": null,
      "outputs": []
    },
    {
      "cell_type": "markdown",
      "metadata": {
        "colab_type": "text",
        "id": "0TqVexkglqFm"
      },
      "source": [
        "Each of these 5 lines involves assigning a value to a **name** or **variable**.  Pythonistas use both terms (there is a slight technical difference that needn't worry us now).  For example, the first line assigns the value 7684 to the **name** `total_secs`.  The second line assigns whatever you get by dividing `total_secs` by 3600 to the name `hours`. And so on."
      ]
    },
    {
      "cell_type": "markdown",
      "metadata": {
        "colab_type": "text",
        "id": "uP9b_MwhlqFn"
      },
      "source": [
        "Above, we printed out information about all the above computations as follows:"
      ]
    },
    {
      "cell_type": "code",
      "metadata": {
        "colab_type": "code",
        "id": "lw3OCwBelqFn",
        "colab": {},
        "outputId": "72503512-a449-4b80-e058-7c87ed202741"
      },
      "source": [
        "print(\"Hrs =\", hours, \"mins =\", minutes, \"secs =\", secs_finally_remaining)"
      ],
      "execution_count": null,
      "outputs": [
        {
          "output_type": "stream",
          "text": [
            "Hrs = 2 mins = 8 secs = 4\n"
          ],
          "name": "stdout"
        }
      ]
    },
    {
      "cell_type": "markdown",
      "metadata": {
        "colab_type": "text",
        "id": "X0ZtKIkylqFq"
      },
      "source": [
        "There's a somewhat cooler way to do the same thing that looks like this:"
      ]
    },
    {
      "cell_type": "code",
      "metadata": {
        "colab_type": "code",
        "id": "fzTKL2CllqFq",
        "colab": {},
        "outputId": "2578d067-d79a-4c1b-84c7-b76621be7195"
      },
      "source": [
        "print(f\"Hrs = {hours} mins = {minutes} secs = {secs_finally_remaining}\")"
      ],
      "execution_count": null,
      "outputs": [
        {
          "output_type": "stream",
          "text": [
            "Hrs = 2 mins = 8 secs = 4\n"
          ],
          "name": "stdout"
        }
      ]
    },
    {
      "cell_type": "markdown",
      "metadata": {
        "colab_type": "text",
        "id": "39ROOwnzlqFt"
      },
      "source": [
        "When we print the string, the bracketed names `{hours}`, `{minutes}` and `{secs_finally_remaining}` are all replaced with the values of the names. For this to work, the names have to have been given values beforehand (as we did above), and we have to tell Python that this is a special kind of string that has variable slots by prefixing the string with \"f\".  Not surprisingly, these kind of strings are called **f-strings**."
      ]
    },
    {
      "cell_type": "markdown",
      "metadata": {
        "colab_type": "text",
        "id": "YkL8e4sllqFu"
      },
      "source": [
        "**Exercise 1**. For your first exercise, use the cell below. Use a variable to represent a person's name, and print a message to the person using an f-string.  For example the name might be Bozo and the message might be \"Hey Bozo, you're pants are on fire!\""
      ]
    },
    {
      "cell_type": "code",
      "metadata": {
        "colab_type": "code",
        "id": "T9zWvHK2lqFu",
        "colab": {},
        "outputId": "e645698f-a27a-4ae7-ed79-1bfe441047c1"
      },
      "source": [
        "name = \"Bozo\"\n",
        "print(f\"Hey {name}, your pants are on fire!\")"
      ],
      "execution_count": null,
      "outputs": [
        {
          "output_type": "stream",
          "text": [
            "Hey Bozo, your pants are on fire!\n"
          ],
          "name": "stdout"
        }
      ]
    },
    {
      "cell_type": "code",
      "metadata": {
        "colab_type": "code",
        "id": "90VxY7CVlqFz",
        "colab": {}
      },
      "source": [
        ""
      ],
      "execution_count": 1,
      "outputs": []
    },
    {
      "cell_type": "markdown",
      "metadata": {
        "colab_type": "text",
        "id": "lo_pYBj9lqF6"
      },
      "source": [
        "Your second exercise will make use of the string methods `title`, `upper` and `lower`, illustrated below:"
      ]
    },
    {
      "cell_type": "code",
      "metadata": {
        "colab_type": "code",
        "id": "MLzyyLj0lqF6",
        "colab": {},
        "outputId": "43e6bfdc-3e64-404a-fa08-fe588e1e3a80"
      },
      "source": [
        "alphabet = 'abcdefghijklmopqrstuvwxyz'\n",
        "sentence = 'The quick brown fox jumped over the lazy yellow dog.'\n",
        "\n",
        "print(alphabet)\n",
        "print (alphabet.title())\n",
        "print(alphabet.lower())\n",
        "print(alphabet.upper())\n",
        "print()\n",
        "print(sentence)\n",
        "print (sentence.title())\n",
        "print(sentence.lower())\n",
        "print(sentence.upper())"
      ],
      "execution_count": null,
      "outputs": [
        {
          "output_type": "stream",
          "text": [
            "abcdefghijklmopqrstuvwxyz\n",
            "Abcdefghijklmopqrstuvwxyz\n",
            "abcdefghijklmopqrstuvwxyz\n",
            "ABCDEFGHIJKLMOPQRSTUVWXYZ\n",
            "\n",
            "The quick brown fox jumped over the lazy yellow dog.\n",
            "The Quick Brown Fox Jumped Over The Lazy Yellow Dog.\n",
            "the quick brown fox jumped over the lazy yellow dog.\n",
            "THE QUICK BROWN FOX JUMPED OVER THE LAZY YELLOW DOG.\n"
          ],
          "name": "stdout"
        }
      ]
    },
    {
      "cell_type": "markdown",
      "metadata": {
        "colab_type": "text",
        "id": "nkbOUQAFlqF9"
      },
      "source": [
        "**Exercise 2**.\n",
        "In the next cell, use a variable to represent a person's name and print that name in lower case, upper case, and title case.  Be sure to use f-strings."
      ]
    },
    {
      "cell_type": "code",
      "metadata": {
        "colab_type": "code",
        "id": "5fvdK047lqF-",
        "colab": {}
      },
      "source": [
        ""
      ],
      "execution_count": 2,
      "outputs": []
    },
    {
      "cell_type": "markdown",
      "metadata": {
        "colab_type": "text",
        "id": "E-eiqq1OlqGI"
      },
      "source": [
        "**Exercise 3**.  Find a quote whose source you know and print the quote and the name of its author.  For example, as a particularly challenging example, you might want to print out\n",
        "\n",
        "```\n",
        "\"There's a sucker born every minute,\" P. T. Barnum once said.\n",
        "```\n",
        "Your answer should go in the next cell.  To understand how to create a string with quotes inside it, you might need to look at [the introduction to strings in the online textbook.](https://gawron.sdsu.edu/python_for_ss/course_core/book_draft/Python_introduction/python_types_first_pass.html#strings)"
      ]
    },
    {
      "cell_type": "code",
      "metadata": {
        "colab_type": "code",
        "id": "uX2zwapplqGI",
        "colab": {}
      },
      "source": [
        ""
      ],
      "execution_count": 3,
      "outputs": []
    },
    {
      "cell_type": "markdown",
      "metadata": {
        "colab_type": "text",
        "id": "MPH4R-5VlqGL"
      },
      "source": [
        "For your next exercise, you'll make use of some Python methods that trim white space (space, tab, newline) off strings.  These are illustrated below.  First `rstrip`:"
      ]
    },
    {
      "cell_type": "code",
      "metadata": {
        "colab_type": "code",
        "id": "lAOD9wPwlqGM",
        "colab": {},
        "outputId": "6590e6d7-97d0-44a6-c0ac-9296fd3fa412"
      },
      "source": [
        "X = \"fred\"\n",
        "print(X)\n",
        "Y = \"fred \"  # add an extra space at the end ...\n",
        "print(Y)  # Looks deceptively just like printing X, BUT\n",
        "print(\"X == Y: \", X == Y, \" len X:\",len(X), \"len Y:\", len(Y))\n",
        "Z = Y.rstrip()  # Now strip away white space on the right.\n",
        "print(\"X == Z: \", X == Z, \" len X:\",len(X), \"len Z:\", len(Z))"
      ],
      "execution_count": null,
      "outputs": [
        {
          "output_type": "stream",
          "text": [
            "fred\n",
            "fred \n",
            "X == Y:  False  len X: 4 len Y: 5\n",
            "X == Z:  True  len X: 4 len Z: 4\n"
          ],
          "name": "stdout"
        }
      ]
    },
    {
      "cell_type": "markdown",
      "metadata": {
        "colab_type": "text",
        "id": "eHgyH3wClqGP"
      },
      "source": [
        "Now the mirror image method, `lstrip`:"
      ]
    },
    {
      "cell_type": "code",
      "metadata": {
        "colab_type": "code",
        "id": "ASeNPvy8lqGP",
        "scrolled": false,
        "colab": {}
      },
      "source": [
        "X = \"fred\"\n",
        "print(X)\n",
        "Y = \" fred\"  # add an extra space at the beginning ...\n",
        "print(Y)  # This time X and Y print out differently\n",
        "print(\"X == Y: \", X == Y, \" len X:\",len(X), \"len Y:\", len(Y))\n",
        "Z = Y.lstrip()  # Now strip away white space on the left.\n",
        "print(\"X == Z: \", X == Z, \" len X:\",len(X), \"len Z:\", len(Z))"
      ],
      "execution_count": null,
      "outputs": []
    },
    {
      "cell_type": "markdown",
      "metadata": {
        "colab_type": "text",
        "id": "E972_yhIlqGT"
      },
      "source": [
        "Now a convenient variant that strips white space on both the right and left sides, a very frequently used method in text preocessing."
      ]
    },
    {
      "cell_type": "code",
      "metadata": {
        "colab_type": "code",
        "id": "WJv8aA8plqGT",
        "colab": {}
      },
      "source": [
        "X = \"fred\"\n",
        "print(X)\n",
        "Y = \" fred \"  # add an extra space at the beginning and at the end...\n",
        "print(Y)  # X and Y print out differently\n",
        "print(\"X == Y: \", X == Y, \" len X:\",len(X), \"len Y:\", len(Y))\n",
        "Z = Y.strip()  # Now strip away white space on both sides.\n",
        "print(\"X == Z: \", X == Z, \" len X:\",len(X), \"len Z:\", len(Z))"
      ],
      "execution_count": null,
      "outputs": []
    },
    {
      "cell_type": "code",
      "metadata": {
        "colab_type": "code",
        "id": "ardnSazClqGV",
        "colab": {}
      },
      "source": [
        "len(Z)"
      ],
      "execution_count": null,
      "outputs": []
    },
    {
      "cell_type": "markdown",
      "metadata": {
        "colab_type": "text",
        "id": "Wd7r7lUTlqGa"
      },
      "source": [
        "**Exercise 4**.  In the next cell, use a variable to represent a person's name and include some white space both before and after the name.  Print the name once so the white space around the name is displayed.  Then print the name using each of the three stripping functions `lstrip`, `rstrip`, and `strip`."
      ]
    },
    {
      "cell_type": "code",
      "metadata": {
        "colab_type": "code",
        "id": "ExH1MQgWlqGa",
        "colab": {}
      },
      "source": [
        ""
      ],
      "execution_count": 4,
      "outputs": []
    },
    {
      "cell_type": "markdown",
      "metadata": {
        "id": "F8PQx7aM2NpY",
        "colab_type": "text"
      },
      "source": [
        ""
      ]
    },
    {
      "cell_type": "code",
      "metadata": {
        "colab_type": "code",
        "id": "ocpwxle4lqGc",
        "colab": {}
      },
      "source": [
        ""
      ],
      "execution_count": null,
      "outputs": []
    }
  ]
}