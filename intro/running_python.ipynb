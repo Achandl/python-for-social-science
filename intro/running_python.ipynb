{
 "cells": [
  {
   "cell_type": "markdown",
   "metadata": {},
   "source": [
    "# Running python"
   ]
  },
  {
   "cell_type": "markdown",
   "metadata": {},
   "source": [
    "This first command in the cell below will start off many notebooks.  It loadsmatplotlib (graphing) tools and numpy (extended math) tools into Python.  It also guarantees your plots will appear in the notebook rather than in a separate window."
   ]
  },
  {
   "cell_type": "code",
   "execution_count": 2,
   "metadata": {},
   "outputs": [
    {
     "name": "stdout",
     "output_type": "stream",
     "text": [
      "Populating the interactive namespace from numpy and matplotlib\n"
     ]
    },
    {
     "name": "stderr",
     "output_type": "stream",
     "text": [
      "/Users/gawron/anaconda3/lib/python3.6/site-packages/IPython/core/magics/pylab.py:160: UserWarning: pylab import has clobbered these variables: ['pi']\n",
      "`%matplotlib` prevents importing * from pylab and numpy\n",
      "  \"\\n`%matplotlib` prevents importing * from pylab and numpy\"\n"
     ]
    }
   ],
   "source": [
    "%pylab inline"
   ]
  },
  {
   "cell_type": "code",
   "execution_count": 3,
   "metadata": {},
   "outputs": [],
   "source": [
    "total_secs = 7684\n",
    "hours = total_secs // 3600\n",
    "secs_still_remaining = total_secs % 3600\n",
    "minutes =  secs_still_remaining // 60\n",
    "secs_finally_remaining = secs_still_remaining  % 60"
   ]
  },
  {
   "cell_type": "markdown",
   "metadata": {},
   "source": [
    "If youve just loaded this notebook, you might want to run the commands in the cell above.  This is done by placing your cursor in the cell and hitting the enter key **while** holding down shift, which we will henceforth write as `[Shift]`-`[Enter]`.  After you do that the 5 variables will have the values they were assigned in the cell. "
   ]
  },
  {
   "cell_type": "code",
   "execution_count": 4,
   "metadata": {},
   "outputs": [
    {
     "data": {
      "text/plain": [
       "7685"
      ]
     },
     "execution_count": 4,
     "metadata": {},
     "output_type": "execute_result"
    }
   ],
   "source": [
    "total_secs  + 1"
   ]
  },
  {
   "cell_type": "code",
   "execution_count": 5,
   "metadata": {},
   "outputs": [
    {
     "data": {
      "text/plain": [
       "2"
      ]
     },
     "execution_count": 5,
     "metadata": {},
     "output_type": "execute_result"
    }
   ],
   "source": [
    "hours"
   ]
  },
  {
   "cell_type": "code",
   "execution_count": 6,
   "metadata": {},
   "outputs": [
    {
     "data": {
      "text/plain": [
       "8"
      ]
     },
     "execution_count": 6,
     "metadata": {},
     "output_type": "execute_result"
    }
   ],
   "source": [
    "minutes"
   ]
  },
  {
   "cell_type": "code",
   "execution_count": 7,
   "metadata": {},
   "outputs": [
    {
     "data": {
      "text/plain": [
       "484"
      ]
     },
     "execution_count": 7,
     "metadata": {},
     "output_type": "execute_result"
    }
   ],
   "source": [
    "secs_still_remaining"
   ]
  },
  {
   "cell_type": "code",
   "execution_count": 8,
   "metadata": {},
   "outputs": [
    {
     "data": {
      "text/plain": [
       "4"
      ]
     },
     "execution_count": 8,
     "metadata": {},
     "output_type": "execute_result"
    }
   ],
   "source": [
    "secs_finally_remaining"
   ]
  },
  {
   "cell_type": "markdown",
   "metadata": {},
   "source": [
    "To look at the values of a set of variables you can do what we just did, typing each variable to Python, but there are some other options.  One is to type a tuple to Python, to look at several variables at once."
   ]
  },
  {
   "cell_type": "code",
   "execution_count": 9,
   "metadata": {},
   "outputs": [
    {
     "data": {
      "text/plain": [
       "(7684, 2, 8, 484, 4)"
      ]
     },
     "execution_count": 9,
     "metadata": {},
     "output_type": "execute_result"
    }
   ],
   "source": [
    "(total_secs, hours, minutes, secs_still_remaining,secs_finally_remaining)"
   ]
  },
  {
   "cell_type": "markdown",
   "metadata": {},
   "source": [
    "Another is to use Python's print statement."
   ]
  },
  {
   "cell_type": "code",
   "execution_count": 10,
   "metadata": {},
   "outputs": [
    {
     "name": "stdout",
     "output_type": "stream",
     "text": [
      "Hrs = 2 mins = 8 secs = 4\n"
     ]
    }
   ],
   "source": [
    "print(\"Hrs =\", hours, \"mins =\", minutes, \"secs =\", secs_finally_remaining)"
   ]
  },
  {
   "cell_type": "markdown",
   "metadata": {},
   "source": [
    "Some important features of the `print` statement are illustrated.  `print` takes any number of arguments, separated by commas.  The commas are interpreted as spaces.  The final argument is not followed by a comma so print adds a newline character (\"\\n\").  The syntax of `print` is like nothing else in Python (no parens), and has been changed in Python 3.0, so this is how we'll be using it."
   ]
  },
  {
   "cell_type": "markdown",
   "metadata": {},
   "source": [
    "# Python arithmetic "
   ]
  },
  {
   "cell_type": "markdown",
   "metadata": {},
   "source": [
    "Lets look at each of the lines in the code and see what it computes.  Python has two division operators, '//' and '/'. This is illustrated in the next line."
   ]
  },
  {
   "cell_type": "code",
   "execution_count": 11,
   "metadata": {},
   "outputs": [
    {
     "data": {
      "text/plain": [
       "2"
      ]
     },
     "execution_count": 11,
     "metadata": {},
     "output_type": "execute_result"
    }
   ],
   "source": [
    "total_secs // 3600"
   ]
  },
  {
   "cell_type": "markdown",
   "metadata": {},
   "source": [
    "Note that even though the value of *total_secs* is 7684, the value returned is an integer.  The '//' operator always rounds off to the nearest integer when necessary.  "
   ]
  },
  {
   "cell_type": "code",
   "execution_count": 12,
   "metadata": {},
   "outputs": [
    {
     "data": {
      "text/plain": [
       "2.0"
      ]
     },
     "execution_count": 12,
     "metadata": {},
     "output_type": "execute_result"
    }
   ],
   "source": [
    "7200.1//3600"
   ]
  },
  {
   "cell_type": "markdown",
   "metadata": {},
   "source": [
    "The '%' operator (also called the **modulus** operator) computes the *remainder* in a division."
   ]
  },
  {
   "cell_type": "code",
   "execution_count": 13,
   "metadata": {},
   "outputs": [
    {
     "data": {
      "text/plain": [
       "484"
      ]
     },
     "execution_count": 13,
     "metadata": {},
     "output_type": "execute_result"
    }
   ],
   "source": [
    "total_secs % 3600"
   ]
  },
  {
   "cell_type": "code",
   "execution_count": 14,
   "metadata": {},
   "outputs": [
    {
     "data": {
      "text/plain": [
       "0.30000000000001137"
      ]
     },
     "execution_count": 14,
     "metadata": {},
     "output_type": "execute_result"
    }
   ],
   "source": [
    "345.3 % 3"
   ]
  },
  {
   "cell_type": "markdown",
   "metadata": {},
   "source": [
    "## Basic arithmetic"
   ]
  },
  {
   "cell_type": "markdown",
   "metadata": {},
   "source": [
    "Multiplication"
   ]
  },
  {
   "cell_type": "code",
   "execution_count": 15,
   "metadata": {},
   "outputs": [
    {
     "data": {
      "text/plain": [
       "6"
      ]
     },
     "execution_count": 15,
     "metadata": {},
     "output_type": "execute_result"
    }
   ],
   "source": [
    "3 * 2"
   ]
  },
  {
   "cell_type": "markdown",
   "metadata": {},
   "source": [
    "Addition"
   ]
  },
  {
   "cell_type": "code",
   "execution_count": 16,
   "metadata": {},
   "outputs": [
    {
     "data": {
      "text/plain": [
       "5"
      ]
     },
     "execution_count": 16,
     "metadata": {},
     "output_type": "execute_result"
    }
   ],
   "source": [
    "3 + 2"
   ]
  },
  {
   "cell_type": "markdown",
   "metadata": {},
   "source": [
    "Subtraction"
   ]
  },
  {
   "cell_type": "code",
   "execution_count": 17,
   "metadata": {},
   "outputs": [
    {
     "data": {
      "text/plain": [
       "1"
      ]
     },
     "execution_count": 17,
     "metadata": {},
     "output_type": "execute_result"
    }
   ],
   "source": [
    "3 - 2"
   ]
  },
  {
   "cell_type": "markdown",
   "metadata": {},
   "source": [
    "Raising to a power"
   ]
  },
  {
   "cell_type": "code",
   "execution_count": 18,
   "metadata": {},
   "outputs": [
    {
     "data": {
      "text/plain": [
       "9"
      ]
     },
     "execution_count": 18,
     "metadata": {},
     "output_type": "execute_result"
    }
   ],
   "source": [
    "3 ** 2"
   ]
  },
  {
   "cell_type": "markdown",
   "metadata": {},
   "source": [
    "Taking the log.  The next line is log of 3."
   ]
  },
  {
   "cell_type": "code",
   "execution_count": 19,
   "metadata": {},
   "outputs": [
    {
     "data": {
      "text/plain": [
       "1.0986122886681098"
      ]
     },
     "execution_count": 19,
     "metadata": {},
     "output_type": "execute_result"
    }
   ],
   "source": [
    "log(3)"
   ]
  },
  {
   "cell_type": "markdown",
   "metadata": {},
   "source": [
    "In regular Python, this would be a `NameError` because the *log function* is not one of the builtin Python math functions.  But because we executed `%pylab` when we started up this notebook, all the extended math functions defined in the `numpy` module are defined.  One of those is `log`.  As an example of some possible pitfalls, we'll compare this `log` with the more vanilla version from the standard Python `math` module.  `math.log` does give the same answers for real numbers."
   ]
  },
  {
   "cell_type": "code",
   "execution_count": 20,
   "metadata": {},
   "outputs": [
    {
     "data": {
      "text/plain": [
       "1.0986122886681098"
      ]
     },
     "execution_count": 20,
     "metadata": {},
     "output_type": "execute_result"
    }
   ],
   "source": [
    "import math\n",
    "math.log(3)"
   ]
  },
  {
   "cell_type": "markdown",
   "metadata": {},
   "source": [
    "By default, math.log does natural logarithms, as does `numpy.log`, so if you dont specify the base, it is **e**.  But unlike the numpy implementation, `math.log` lets you choose other bases."
   ]
  },
  {
   "cell_type": "code",
   "execution_count": 21,
   "metadata": {},
   "outputs": [
    {
     "data": {
      "text/plain": [
       "1.5849625007211563"
      ]
     },
     "execution_count": 21,
     "metadata": {},
     "output_type": "execute_result"
    }
   ],
   "source": [
    "math.log(3,2)"
   ]
  },
  {
   "cell_type": "markdown",
   "metadata": {},
   "source": [
    "Trying this with the `numpy.log` raises an exception.  `numpy.log` does take a second argument but it's used for purposes we won't delve into right now."
   ]
  },
  {
   "cell_type": "code",
   "execution_count": 22,
   "metadata": {},
   "outputs": [
    {
     "ename": "TypeError",
     "evalue": "return arrays must be of ArrayType",
     "output_type": "error",
     "traceback": [
      "\u001b[0;31m---------------------------------------------------------------------------\u001b[0m",
      "\u001b[0;31mTypeError\u001b[0m                                 Traceback (most recent call last)",
      "\u001b[0;32m<ipython-input-22-e5ab6086b242>\u001b[0m in \u001b[0;36m<module>\u001b[0;34m()\u001b[0m\n\u001b[0;32m----> 1\u001b[0;31m \u001b[0mlog\u001b[0m\u001b[0;34m(\u001b[0m\u001b[0;36m3\u001b[0m\u001b[0;34m,\u001b[0m\u001b[0;36m2\u001b[0m\u001b[0;34m)\u001b[0m\u001b[0;34m\u001b[0m\u001b[0m\n\u001b[0m",
      "\u001b[0;31mTypeError\u001b[0m: return arrays must be of ArrayType"
     ]
    }
   ],
   "source": [
    "log(3,2)"
   ]
  },
  {
   "cell_type": "code",
   "execution_count": null,
   "metadata": {},
   "outputs": [],
   "source": [
    "from math import e\n",
    "math.log(e)"
   ]
  },
  {
   "cell_type": "code",
   "execution_count": null,
   "metadata": {},
   "outputs": [],
   "source": [
    "e"
   ]
  },
  {
   "cell_type": "code",
   "execution_count": null,
   "metadata": {},
   "outputs": [],
   "source": [
    "math.log(4)"
   ]
  },
  {
   "cell_type": "code",
   "execution_count": null,
   "metadata": {},
   "outputs": [],
   "source": [
    "math.log(4,2)"
   ]
  },
  {
   "cell_type": "markdown",
   "metadata": {},
   "source": [
    "The numpy version of log is pretty geeky. For example, it's defined for complex numbers."
   ]
  },
  {
   "cell_type": "code",
   "execution_count": null,
   "metadata": {},
   "outputs": [],
   "source": [
    "log(3+2j)"
   ]
  },
  {
   "cell_type": "markdown",
   "metadata": {},
   "source": [
    "The regular Python version of log is not."
   ]
  },
  {
   "cell_type": "code",
   "execution_count": null,
   "metadata": {},
   "outputs": [],
   "source": [
    "math.log(3+2j)"
   ]
  },
  {
   "cell_type": "markdown",
   "metadata": {},
   "source": [
    "The Python *math* module is very spare and lacks a number of important mathematical tools of interest to data scientists.  Later on in this course we will be introduced to the more complete set of tools available in the *numpy* module."
   ]
  },
  {
   "cell_type": "markdown",
   "metadata": {},
   "source": [
    "## Student confirmation section"
   ]
  },
  {
   "cell_type": "markdown",
   "metadata": {},
   "source": [
    "Evaluate the cell below, to find out the value of the expression. "
   ]
  },
  {
   "cell_type": "code",
   "execution_count": 23,
   "metadata": {},
   "outputs": [
    {
     "data": {
      "text/plain": [
       "(-1+1.2246467991473532e-16j)"
      ]
     },
     "execution_count": 23,
     "metadata": {},
     "output_type": "execute_result"
    }
   ],
   "source": [
    "from math import pi\n",
    "pow(e,(0+1j)*pi)"
   ]
  },
  {
   "cell_type": "code",
   "execution_count": 24,
   "metadata": {},
   "outputs": [
    {
     "data": {
      "text/plain": [
       "3.141592653589793j"
      ]
     },
     "execution_count": 24,
     "metadata": {},
     "output_type": "execute_result"
    }
   ],
   "source": [
    "log(-1+0j)"
   ]
  },
  {
   "cell_type": "markdown",
   "metadata": {},
   "source": [
    "# Textbook problems"
   ]
  },
  {
   "cell_type": "markdown",
   "metadata": {},
   "source": [
    "Recall the first cell in this notebook."
   ]
  },
  {
   "cell_type": "code",
   "execution_count": 25,
   "metadata": {},
   "outputs": [],
   "source": [
    "total_secs = 7684\n",
    "hours = total_secs // 3600\n",
    "secs_still_remaining = total_secs % 3600\n",
    "minutes =  secs_still_remaining // 60\n",
    "secs_finally_remaining = secs_still_remaining  % 60"
   ]
  },
  {
   "cell_type": "markdown",
   "metadata": {},
   "source": [
    "Each of these 5 lines involves assigning a value to a **name** or **variable**.  Pythonistas use both terms (there is a slight technical difference that needn't worry us now).  For example, the first line assigns the value 7684 to the **name** `total_secs`.  The second line assigns whatever you get by dividing `total_secs` by 3600 to the name `hours`. And so on."
   ]
  },
  {
   "cell_type": "markdown",
   "metadata": {},
   "source": [
    "Above, we printed out information about all the above computations as follows:"
   ]
  },
  {
   "cell_type": "code",
   "execution_count": 27,
   "metadata": {},
   "outputs": [
    {
     "name": "stdout",
     "output_type": "stream",
     "text": [
      "Hrs = 2 mins = 8 secs = 4\n"
     ]
    }
   ],
   "source": [
    "print(\"Hrs =\", hours, \"mins =\", minutes, \"secs =\", secs_finally_remaining)"
   ]
  },
  {
   "cell_type": "markdown",
   "metadata": {},
   "source": [
    "There's a somewhat cooler way to do the same thing that looks like this:"
   ]
  },
  {
   "cell_type": "code",
   "execution_count": 26,
   "metadata": {},
   "outputs": [
    {
     "name": "stdout",
     "output_type": "stream",
     "text": [
      "Hrs = 2 mins = 8 secs = 4\n"
     ]
    }
   ],
   "source": [
    "print(f\"Hrs = {hours} mins = {minutes} secs = {secs_finally_remaining}\")"
   ]
  },
  {
   "cell_type": "markdown",
   "metadata": {},
   "source": [
    "When we print the string, the bracketed names `{hours}`, `{minutes}` and `{secs_finally_remaining}` are all replaced with the values of the names. For this to work, the names have to have been given values beforehand (as we did above), and we have to tell Python that this is a special kind of string that has variable slots by prefixing the string with \"f\".  Not surprisingly, these kind of strings are called **f-strings**."
   ]
  },
  {
   "cell_type": "markdown",
   "metadata": {},
   "source": [
    "**Exercise 1**. For your first exercise, use the cell below. Use a variable to represent a person's name, and print a message to the person using an f-string.  For example the name might be Bozo and the message might be \"Hey Bozo, you're pants are on fire!\""
   ]
  },
  {
   "cell_type": "code",
   "execution_count": 28,
   "metadata": {},
   "outputs": [
    {
     "name": "stdout",
     "output_type": "stream",
     "text": [
      "Hey Bozo, your pants are on fire!\n"
     ]
    }
   ],
   "source": [
    "name = \"Bozo\"\n",
    "print(f\"Hey {name}, your pants are on fire!\")"
   ]
  },
  {
   "cell_type": "code",
   "execution_count": 32,
   "metadata": {},
   "outputs": [],
   "source": [
    "X = f\"Hey {name}, your pants are on fire!\""
   ]
  },
  {
   "cell_type": "code",
   "execution_count": 34,
   "metadata": {},
   "outputs": [
    {
     "name": "stdout",
     "output_type": "stream",
     "text": [
      "Hey Fred, your pants are on fire!\n"
     ]
    }
   ],
   "source": [
    "name = \"Sam\"\n",
    "print (X)"
   ]
  },
  {
   "cell_type": "markdown",
   "metadata": {},
   "source": [
    "Your second exercise will make use of the string methods `title`, `upper` and `lower`, illustrated below:"
   ]
  },
  {
   "cell_type": "code",
   "execution_count": 35,
   "metadata": {},
   "outputs": [
    {
     "name": "stdout",
     "output_type": "stream",
     "text": [
      "abcdefghijklmopqrstuvwxyz\n",
      "Abcdefghijklmopqrstuvwxyz\n",
      "abcdefghijklmopqrstuvwxyz\n",
      "ABCDEFGHIJKLMOPQRSTUVWXYZ\n",
      "\n",
      "The quick brown fox jumped over the lazy yellow dog.\n",
      "The Quick Brown Fox Jumped Over The Lazy Yellow Dog.\n",
      "the quick brown fox jumped over the lazy yellow dog.\n",
      "THE QUICK BROWN FOX JUMPED OVER THE LAZY YELLOW DOG.\n"
     ]
    }
   ],
   "source": [
    "alphabet = 'abcdefghijklmopqrstuvwxyz'\n",
    "sentence = 'The quick brown fox jumped over the lazy yellow dog.'\n",
    "\n",
    "print(alphabet)\n",
    "print (alphabet.title())\n",
    "print(alphabet.lower())\n",
    "print(alphabet.upper())\n",
    "print()\n",
    "print(sentence)\n",
    "print (sentence.title())\n",
    "print(sentence.lower())\n",
    "print(sentence.upper())"
   ]
  },
  {
   "cell_type": "markdown",
   "metadata": {},
   "source": [
    "**Exercise 2**.\n",
    "In the next cell, use a variable to represent a person's name and print that name in lower case, upper case, and title case.  Be sure to use f-strings."
   ]
  },
  {
   "cell_type": "code",
   "execution_count": 42,
   "metadata": {},
   "outputs": [
    {
     "name": "stdout",
     "output_type": "stream",
     "text": [
      "ronald reagan Ronald Reagan  RONALD REAGAN  ronald reagan\n"
     ]
    }
   ],
   "source": [
    "name = 'ronald reagan'\n",
    "print(f\"{name} {name.title()}  {name.upper()}  {name.lower()}\")"
   ]
  },
  {
   "cell_type": "code",
   "execution_count": 41,
   "metadata": {},
   "outputs": [
    {
     "data": {
      "text/plain": [
       "'Ronald Reagan'"
      ]
     },
     "execution_count": 41,
     "metadata": {},
     "output_type": "execute_result"
    }
   ],
   "source": [
    "name.title()"
   ]
  },
  {
   "cell_type": "markdown",
   "metadata": {},
   "source": [
    "**Exercise 3**.  Find a quote whose source you know and print the quote and the name of its author.  For example, as a particularly challenging example, you might want to print out\n",
    "\n",
    "```\n",
    "\"There's a sucker born every minute,\" P. T. Barnum once said.\n",
    "```\n",
    "Your answer should go in the next cell.  To understand how to create a string with quotes inside it, you might need to look at [the introduction to strings in the online textbook.](https://gawron.sdsu.edu/python_for_ss/course_core/book_draft/Python_introduction/python_types_first_pass.html#strings)"
   ]
  },
  {
   "cell_type": "code",
   "execution_count": 46,
   "metadata": {},
   "outputs": [
    {
     "name": "stdout",
     "output_type": "stream",
     "text": [
      "\"There's a sucker born every minute,\" P. T. Barnum once said.\n"
     ]
    }
   ],
   "source": [
    "X = '\"There\\'s a sucker born every minute,\" P. T. Barnum once said.'\n",
    "print(X)"
   ]
  },
  {
   "cell_type": "markdown",
   "metadata": {},
   "source": [
    "For your next exercise, you'll make use of some Python methods that trim white space (space, tab, newline) off strings.  These are illustrated below.  First `rstrip`:"
   ]
  },
  {
   "cell_type": "code",
   "execution_count": 43,
   "metadata": {},
   "outputs": [
    {
     "name": "stdout",
     "output_type": "stream",
     "text": [
      "fred\n",
      "fred \n",
      "X == Y:  False  len X: 4 len Y: 5\n",
      "X == Z:  True  len X: 4 len Z: 4\n"
     ]
    }
   ],
   "source": [
    "X = \"fred\"\n",
    "print(X)\n",
    "Y = \"fred \"  # add an extra space at the end ...\n",
    "print(Y)  # Looks deceptively just like printing X, BUT\n",
    "print(\"X == Y: \", X == Y, \" len X:\",len(X), \"len Y:\", len(Y))\n",
    "Z = Y.rstrip()  # Now strip away white space on the right.\n",
    "print(\"X == Z: \", X == Z, \" len X:\",len(X), \"len Z:\", len(Z))"
   ]
  },
  {
   "cell_type": "markdown",
   "metadata": {},
   "source": [
    "Now the mirror image method, `lstrip`:"
   ]
  },
  {
   "cell_type": "code",
   "execution_count": null,
   "metadata": {
    "scrolled": false
   },
   "outputs": [],
   "source": [
    "X = \"fred\"\n",
    "print(X)\n",
    "Y = \" fred\"  # add an extra space at the beginning ...\n",
    "print(Y)  # This time X and Y print out differently\n",
    "print(\"X == Y: \", X == Y, \" len X:\",len(X), \"len Y:\", len(Y))\n",
    "Z = Y.lstrip()  # Now strip away white space on the left.\n",
    "print(\"X == Z: \", X == Z, \" len X:\",len(X), \"len Z:\", len(Z))"
   ]
  },
  {
   "cell_type": "markdown",
   "metadata": {},
   "source": [
    "Now a convenient variant that strips white space on both the right and left sides, a very frequently used method in text preocessing."
   ]
  },
  {
   "cell_type": "code",
   "execution_count": null,
   "metadata": {},
   "outputs": [],
   "source": [
    "X = \"fred\"\n",
    "print(X)\n",
    "Y = \" fred \"  # add an extra space at the beginning and at the end...\n",
    "print(Y)  # X and Y print out differently\n",
    "print(\"X == Y: \", X == Y, \" len X:\",len(X), \"len Y:\", len(Y))\n",
    "Z = Y.strip()  # Now strip away white space on both sides.\n",
    "print(\"X == Z: \", X == Z, \" len X:\",len(X), \"len Z:\", len(Z))"
   ]
  },
  {
   "cell_type": "code",
   "execution_count": null,
   "metadata": {},
   "outputs": [],
   "source": [
    "len(Z)"
   ]
  },
  {
   "cell_type": "markdown",
   "metadata": {},
   "source": [
    "**Exercise 4**.  In the next cell, use a variable to reprsent a person's name and include some white space both before and after the name.  Print the name once so the white space around the name is displayed.  Then print the name using each of the three stripping functions `lstrip`, `rstrip`, and `strip`."
   ]
  },
  {
   "cell_type": "code",
   "execution_count": 44,
   "metadata": {},
   "outputs": [
    {
     "name": "stdout",
     "output_type": "stream",
     "text": [
      " Rambo   Rambo Rambo  Rambo\n"
     ]
    }
   ],
   "source": [
    "X = \" Rambo \"\n",
    "print(X, X.rstrip(), X.lstrip(), X.strip())"
   ]
  },
  {
   "cell_type": "code",
   "execution_count": null,
   "metadata": {},
   "outputs": [],
   "source": []
  }
 ],
 "metadata": {
  "kernelspec": {
   "display_name": "Python 3",
   "language": "python",
   "name": "python3"
  },
  "language_info": {
   "codemirror_mode": {
    "name": "ipython",
    "version": 3
   },
   "file_extension": ".py",
   "mimetype": "text/x-python",
   "name": "python",
   "nbconvert_exporter": "python",
   "pygments_lexer": "ipython3",
   "version": "3.6.5"
  },
  "toc": {
   "base_numbering": 1,
   "nav_menu": {
    "height": "85px",
    "width": "252px"
   },
   "number_sections": true,
   "sideBar": true,
   "skip_h1_title": false,
   "title_cell": "Table of Contents",
   "title_sidebar": "Contents",
   "toc_cell": false,
   "toc_position": {},
   "toc_section_display": "block",
   "toc_window_display": false
  }
 },
 "nbformat": 4,
 "nbformat_minor": 1
}
