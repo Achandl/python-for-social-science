{
 "cells": [
  {
   "cell_type": "code",
   "execution_count": 1,
   "metadata": {},
   "outputs": [],
   "source": [
    "import sys\n",
    "import re\n",
    "\n",
    "\n",
    "\n",
    "def find_cap_words(filename):\n",
    "    cap_words = set()\n",
    "    with open(filename, 'r') as filehandle:\n",
    "        ## Loop through each line and in each line loop\n",
    "        ## through each word\n",
    "        for line in filehandle:\n",
    "            line_list = line.split()\n",
    "            for word in line_list:\n",
    "                if word.istitle():\n",
    "                    cap_words.add(word)\n",
    "    return cap_words\n",
    "\n",
    "\n",
    "def print_cap_words (filename,cap_words):\n",
    "    #(base,ext) = filename.split('.')\n",
    "    #new_filename = base + '_caps' + '.' + ext\n",
    "    new_filename = filename[:-4] + '_name.txt'\n",
    "    with open(new_filename, 'w') as ofh:\n",
    "        print('\\n'.join(cap_words), file=ofh)"
   ]
  },
  {
   "cell_type": "code",
   "execution_count": 2,
   "metadata": {},
   "outputs": [
    {
     "name": "stdout",
     "output_type": "stream",
     "text": [
      "1204 ['Darcy!', '\"Can', '[Last', 'Domain', 'Many', 'Hunsford,', 'Darcy,', 'Make', 'Darcy.', '\"Another', 'Hunsford.', '\"Mamma,\"', 'Lodge', 'Darcy;', 'Pride', 'Darcy?', 'Tuesday.', 'Tuesday,', '\"Neglect!', 'Importance', 'Bath;', 'Dr.', '\"Why,', '\"So', 'Tuesday;', 'Long.', 'Words', '_His_', 'Not', 'Believe', '\"Except,\"', 'Day', 'Nor', '\"None', 'Carter,', 'Recovering', '\"Nay,\"', 'Mrs.', 'Gouldings', \"'Lady\", 'Yet', 'Militia', '\"Some', '\"Information', 'Volunteers', 'Where', 'Netherfield?\"', 'Sarah,', '\"That', 'Charlotte', 'Harringtons', '1.F.3.', 'Pope', '1.F.3,', 'Mary,\"', 'Vain', 'Wickham;', 'Wickham!', 'Eastbourne', 'Does', 'Imprudent', 'Unless', 'Tuesday', 'Breakfast', '\"Certainly,\"', 'Wickham,', 'George', 'Author:', 'Take', 'There,', 'Jane!\"', '\"Indeed,', '\"Engaged', 'And,', 'Date:', '\"Bingley.\"', '\"Did', 'Long', 'Pleased', '\"Certainly,', 'Annesley', 'Only', '\"Nonsense,', \"'This\", 'Stupid', 'South.', 'Jane', 'Collins', 'General', 'Wilfully', 'Hertfordshire.\"', 'Kitty,\"', 'Collins.\"', 'Consoled', 'Brighton?\"', 'Then,', 'House!', '1.F.2.', 'Public', '1.C']\n"
     ]
    }
   ],
   "source": [
    "filename = 'pride_and_prejudice.txt'\n",
    "cap_words = find_cap_words(filename)\n",
    "print(len(cap_words), list(cap_words)[:100])"
   ]
  },
  {
   "cell_type": "markdown",
   "metadata": {},
   "source": [
    "## Regular expression-based approach"
   ]
  },
  {
   "cell_type": "code",
   "execution_count": 3,
   "metadata": {},
   "outputs": [],
   "source": [
    "def find_cap_words_re(filename):\n",
    "    cap_word_re = r'\\b([A-Z][a-z]+)\\b'\n",
    "    with open(filename, 'r') as fh:\n",
    "        file_str = fh.read()\n",
    "    return set(re.findall(cap_word_re, file_str))"
   ]
  },
  {
   "cell_type": "code",
   "execution_count": 26,
   "metadata": {},
   "outputs": [
    {
     "data": {
      "text/plain": [
       "['F3', 'Beethoven']"
      ]
     },
     "execution_count": 26,
     "metadata": {},
     "output_type": "execute_result"
    }
   ],
   "source": [
    "x = set(re.findall(r'\\b([A-Z][a-z]+)\\b', open(filename, 'r').read()))\n",
    "cap_word_re = r'\\b([A-Z]\\w+)\\b'\n",
    "fd = re.findall(cap_word_re,'F3 I 22 love Beethoven')\n",
    "fd"
   ]
  },
  {
   "cell_type": "code",
   "execution_count": 4,
   "metadata": {},
   "outputs": [
    {
     "name": "stdout",
     "output_type": "stream",
     "text": [
      "595 ['Many', 'Title', 'Dining', 'Does', 'Take', 'Lodge', 'Pride', 'Painful', 'Foundation', 'Liverpool', 'Importance', 'Words', 'Not', 'Now', 'Day', 'Nor', 'Scarcely', 'Recovering', 'Volunteers', 'Where', 'Haye', 'Charlotte', 'Harringtons', 'Pope', 'Just', 'Vain', 'Eastbourne', 'Go', 'Breakfast', 'Must', 'George', 'None', 'Long', 'Pleased', 'Annesley', 'Only', 'Jane', 'Collins', 'Wilfully', 'Consoled', 'Theatre', 'Hear', 'Imagine', 'Put', 'During', 'True', 'Professor', 'Proud', 'Contact', 'Green', 'Mr', 'My', 'Tuesday', 'Teasing', 'Hatfield', 'Archive', 'Dear', 'Militia', 'Assistance', 'Lizzy', 'Compared', 'Things', 'Clarke', 'When', 'Three', 'Pemberley', 'August', 'June', 'Something', 'Royalty', 'Allowing', 'Michaelmas', 'Removed', 'Undoubtedly', 'Clement', 'Those', 'Brighton', 'Chatsworth', 'Lane', 'October', 'Reflection', 'These', 'Plain', 'Mount', 'Wednesday', 'St', 'Already', 'So', 'Madam', 'Unhappy', 'Believe', 'Family', 'Bennets', 'Bath', 'Birmingham', 'Our', 'Your', 'Conjectures', 'La', 'Mississippi']\n"
     ]
    },
    {
     "data": {
      "text/plain": [
       "True"
      ]
     },
     "execution_count": 4,
     "metadata": {},
     "output_type": "execute_result"
    }
   ],
   "source": [
    "filename = 'pride_and_prejudice.txt'\n",
    "cap_words = find_cap_words_re(filename)\n",
    "print(len(cap_words), list(cap_words)[:100])\n",
    "'Darcy' in cap_words"
   ]
  },
  {
   "cell_type": "code",
   "execution_count": 18,
   "metadata": {},
   "outputs": [],
   "source": [
    "filename = 'pride_and_prejudice.txt'\n",
    "new_filename = filename[:-4] + '_name.txt'\n",
    "output_str = '\\n'.join(cap_words)\n",
    "with open(new_filename, 'w') as ofh:\n",
    "     #print >> ofh, '\\n'.join(cap_words)\n",
    "     for w in cap_words:\n",
    "         print(w, file=ofh)\n",
    "#print output_str[:100]"
   ]
  },
  {
   "cell_type": "code",
   "execution_count": null,
   "metadata": {},
   "outputs": [],
   "source": []
  }
 ],
 "metadata": {
  "kernelspec": {
   "display_name": "Python 3",
   "language": "python",
   "name": "python3"
  },
  "language_info": {
   "codemirror_mode": {
    "name": "ipython",
    "version": 3
   },
   "file_extension": ".py",
   "mimetype": "text/x-python",
   "name": "python",
   "nbconvert_exporter": "python",
   "pygments_lexer": "ipython3",
   "version": "3.6.4"
  },
  "toc": {
   "colors": {
    "hover_highlight": "#DAA520",
    "running_highlight": "#FF0000",
    "selected_highlight": "#FFD700"
   },
   "moveMenuLeft": true,
   "nav_menu": {
    "height": "30px",
    "width": "252px"
   },
   "navigate_menu": true,
   "number_sections": true,
   "sideBar": true,
   "threshold": 4,
   "toc_cell": false,
   "toc_section_display": "block",
   "toc_window_display": false,
   "widenNotebook": false
  }
 },
 "nbformat": 4,
 "nbformat_minor": 1
}
