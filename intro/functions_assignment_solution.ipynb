{
 "cells": [
  {
   "cell_type": "markdown",
   "metadata": {
    "id": "zkxJB1jq5Jlp"
   },
   "source": [
    "# Functions, types, loops assignment"
   ]
  },
  {
   "cell_type": "markdown",
   "metadata": {
    "id": "PAFLrNx55Jlr"
   },
   "source": [
    "## Exercise 1"
   ]
  },
  {
   "cell_type": "markdown",
   "metadata": {
    "id": "hdgBnmn35Jls"
   },
   "source": [
    "Add a line of code that will generate the give output::\n",
    " \n",
    "     In [ ]: a_list = [2,7,8, 19]\n",
    "             YOUR CODE HERE\n",
    "     Out [ ]: 2\n",
    "     \n",
    "NOTE: The idea of this kind of exercise is to write a line of code\n",
    "that will produce the given output, 2 in this case.  Your\n",
    "answer goes in the next cell, which is a code cell.  It should this be an\n",
    "expression that operates on `a_list`.  A simple correct answer is:\n",
    "\n",
    "     In [ ]: a_list = [2,7,8, 19]\n",
    "             a_list[0]\n",
    "     Out [ ]: 2\n",
    "     \n",
    "Don't forget to evaluate the cell after you've written in your answer to generate Python's output and check your answer!\n"
   ]
  },
  {
   "cell_type": "code",
   "execution_count": null,
   "metadata": {
    "colab": {
     "base_uri": "https://localhost:8080/",
     "height": 34
    },
    "id": "flls5QgJ5Jlu",
    "outputId": "6a92bdd9-1386-444e-9068-a84f7d6689d8"
   },
   "outputs": [
    {
     "data": {
      "text/plain": [
       "2"
      ]
     },
     "execution_count": 3,
     "metadata": {
      "tags": []
     },
     "output_type": "execute_result"
    }
   ],
   "source": [
    "a_list = [2,7,8, 19]\n",
    "a_list[0]"
   ]
  },
  {
   "cell_type": "markdown",
   "metadata": {
    "id": "dHGSoiwM5Jl3"
   },
   "source": [
    "## Exercise 2"
   ]
  },
  {
   "cell_type": "markdown",
   "metadata": {
    "id": "MRH331ed5Jl4"
   },
   "source": [
    "  Write a line of code that produces the given output.  Use a splice with a \"steps\" component.\n",
    "   \n",
    "    In [ ]: X = 'abcdefghij'\n",
    "             YOUR CODE HERE\n",
    "    Out [ ]: 'acegi'"
   ]
  },
  {
   "cell_type": "code",
   "execution_count": 47,
   "metadata": {
    "colab": {
     "base_uri": "https://localhost:8080/",
     "height": 35
    },
    "id": "Fshzdp6j5Jl8",
    "outputId": "bffbd35f-f19e-4853-80da-85ab170ef6ee"
   },
   "outputs": [
    {
     "data": {
      "text/plain": [
       "'acegi'"
      ]
     },
     "execution_count": 47,
     "metadata": {},
     "output_type": "execute_result"
    }
   ],
   "source": [
    "X  = 'abcdefghij'\n",
    "X[::2]"
   ]
  },
  {
   "cell_type": "markdown",
   "metadata": {
    "id": "3IwwoYaY5JmC"
   },
   "source": [
    "## Exercise 3"
   ]
  },
  {
   "cell_type": "markdown",
   "metadata": {
    "id": "bA-C6yG_5JmD"
   },
   "source": [
    " Write a line of code that produces the given output: \n",
    "   \n",
    "     In [ ]: S, T = set('abc'), set('cde')\n",
    "           YOUR CODE HERE\n",
    "     Out [ ]: {'c'}\n",
    "\n",
    "Hint.  Each Python type has its own methods.  For instance, strings have a `.title()` method that capitalizes them.  For this problem use a method that is particular to **sets** on the two sets `S` and `T`.  Look\n",
    "at [Van DerPlas's Whirlwind Tour, Ch. 6](https://github.com/jakevdp/WhirlwindTourOfPython/blob/6f1daf714fe52a8dde6a288674ba46a7feed8816/06-Built-in-Data-Structures.ipynb) for a nice discussion of set methods."
   ]
  },
  {
   "cell_type": "code",
   "execution_count": 49,
   "metadata": {
    "id": "p77aFJL95JmD"
   },
   "outputs": [],
   "source": [
    " S, T = set('abc'), set('cde')"
   ]
  },
  {
   "cell_type": "code",
   "execution_count": null,
   "metadata": {
    "colab": {
     "base_uri": "https://localhost:8080/",
     "height": 34
    },
    "id": "V3vbNqGUPDYY",
    "outputId": "c14c3cc6-7663-40b9-b1b4-75cc1e8c5f8b"
   },
   "outputs": [
    {
     "data": {
      "text/plain": [
       "{'c'}"
      ]
     },
     "execution_count": 7,
     "metadata": {
      "tags": []
     },
     "output_type": "execute_result"
    }
   ],
   "source": [
    "S & T  "
   ]
  },
  {
   "cell_type": "code",
   "execution_count": null,
   "metadata": {
    "id": "Cvm4rxzTKaL_",
    "outputId": "a0b00cd5-148a-4d00-daf3-fce1c68c7918"
   },
   "outputs": [
    {
     "data": {
      "text/plain": [
       "({'a', 'b', 'c'}, {'c', 'd', 'e'})"
      ]
     },
     "execution_count": 8,
     "metadata": {
      "tags": []
     },
     "output_type": "execute_result"
    }
   ],
   "source": [
    "S, T  # JMG unchanged"
   ]
  },
  {
   "cell_type": "code",
   "execution_count": null,
   "metadata": {
    "id": "8ti4xInwKaMC",
    "outputId": "7ef05bc2-008d-4206-d294-c1c04cbc5c9a"
   },
   "outputs": [
    {
     "data": {
      "text/plain": [
       "{'c'}"
      ]
     },
     "execution_count": 9,
     "metadata": {
      "tags": []
     },
     "output_type": "execute_result"
    }
   ],
   "source": [
    "S.intersection(T)   # Alternative solution"
   ]
  },
  {
   "cell_type": "markdown",
   "metadata": {
    "id": "Vca65FqOKaMH"
   },
   "source": [
    "Althoguh close, this doesnt quite work."
   ]
  },
  {
   "cell_type": "code",
   "execution_count": 50,
   "metadata": {
    "colab": {
     "base_uri": "https://localhost:8080/"
    },
    "id": "8fwvp2vLKaMH",
    "outputId": "552c1829-0128-458f-9818-508855c9c9b6"
   },
   "outputs": [
    {
     "name": "stdout",
     "output_type": "stream",
     "text": [
      "None\n"
     ]
    }
   ],
   "source": [
    "print(S.intersection_update(T))  # None returned"
   ]
  },
  {
   "cell_type": "code",
   "execution_count": 5,
   "metadata": {
    "colab": {
     "base_uri": "https://localhost:8080/"
    },
    "id": "D8T0qCIyKaMK",
    "outputId": "e6a6b5fc-d1f2-416e-9da5-a2d8a490bd2c"
   },
   "outputs": [
    {
     "data": {
      "text/plain": [
       "{'c'}"
      ]
     },
     "execution_count": 5,
     "metadata": {
      "tags": []
     },
     "output_type": "execute_result"
    }
   ],
   "source": [
    "S  # S changed, 2 lines of code needed"
   ]
  },
  {
   "cell_type": "code",
   "execution_count": 9,
   "metadata": {
    "colab": {
     "base_uri": "https://localhost:8080/"
    },
    "id": "8v0cU6W0MaW9",
    "outputId": "b91c927f-9f2e-4bda-f254-d883bd94fb92"
   },
   "outputs": [
    {
     "data": {
      "text/plain": [
       "{'c', 'd', 'e'}"
      ]
     },
     "execution_count": 9,
     "metadata": {
      "tags": []
     },
     "output_type": "execute_result"
    }
   ],
   "source": [
    "T"
   ]
  },
  {
   "cell_type": "code",
   "execution_count": 54,
   "metadata": {},
   "outputs": [],
   "source": [
    "L = list('abc')\n",
    "L.append('d')\n"
   ]
  },
  {
   "cell_type": "code",
   "execution_count": 55,
   "metadata": {},
   "outputs": [
    {
     "data": {
      "text/plain": [
       "['a', 'b', 'c', 'd']"
      ]
     },
     "execution_count": 55,
     "metadata": {},
     "output_type": "execute_result"
    }
   ],
   "source": [
    "L"
   ]
  },
  {
   "cell_type": "code",
   "execution_count": 56,
   "metadata": {},
   "outputs": [
    {
     "data": {
      "text/plain": [
       "['a', 'b', 'c', 'd', 'e']"
      ]
     },
     "execution_count": 56,
     "metadata": {},
     "output_type": "execute_result"
    }
   ],
   "source": [
    "L  + ['e']"
   ]
  },
  {
   "cell_type": "code",
   "execution_count": 57,
   "metadata": {},
   "outputs": [
    {
     "data": {
      "text/plain": [
       "['a', 'b', 'c', 'd']"
      ]
     },
     "execution_count": 57,
     "metadata": {},
     "output_type": "execute_result"
    }
   ],
   "source": [
    "L"
   ]
  },
  {
   "cell_type": "markdown",
   "metadata": {
    "id": "CAi4U6IxL3xj"
   },
   "source": []
  },
  {
   "cell_type": "markdown",
   "metadata": {
    "id": "A5j1X02F5JmI"
   },
   "source": [
    "## Exercise 4"
   ]
  },
  {
   "cell_type": "markdown",
   "metadata": {
    "id": "LrDd3QF55JmJ"
   },
   "source": [
    " Write a line of code that produces the given output: \n",
    "   \n",
    "     In [ ]: a_list = [2,7,8, 19]\n",
    "           YOUR CODE HERE\n",
    "     Out [ ]: [22,27,28,39]\n",
    "    \n",
    "Hint: Try a list comprehension. Look at [Whirlwind Tour](https://github.com/jakevdp/WhirlwindTourOfPython/blob/6f1daf714fe52a8dde6a288674ba46a7feed8816/11-List-Comprehensions.ipynb) for a quick review of list comprehensions."
   ]
  },
  {
   "cell_type": "code",
   "execution_count": 10,
   "metadata": {
    "colab": {
     "base_uri": "https://localhost:8080/"
    },
    "id": "lLRuAWhI5JmK",
    "outputId": "c76b2484-e45a-4bc0-864b-27634fd10604"
   },
   "outputs": [
    {
     "data": {
      "text/plain": [
       "[22, 27, 28, 39]"
      ]
     },
     "execution_count": 10,
     "metadata": {
      "tags": []
     },
     "output_type": "execute_result"
    }
   ],
   "source": [
    "a_list = [2,7,8, 19]\n",
    "[x + 20 for x in a_list]"
   ]
  },
  {
   "cell_type": "code",
   "execution_count": 58,
   "metadata": {},
   "outputs": [
    {
     "data": {
      "text/plain": [
       "{22, 27, 28}"
      ]
     },
     "execution_count": 58,
     "metadata": {},
     "output_type": "execute_result"
    }
   ],
   "source": [
    "a_list = [2,7,8, 8]\n",
    "\n",
    "{x + 20 for x in a_list}"
   ]
  },
  {
   "cell_type": "code",
   "execution_count": 59,
   "metadata": {},
   "outputs": [
    {
     "data": {
      "text/plain": [
       "{22, 27, 28}"
      ]
     },
     "execution_count": 59,
     "metadata": {},
     "output_type": "execute_result"
    }
   ],
   "source": [
    "set([x + 20 for x in a_list])"
   ]
  },
  {
   "cell_type": "code",
   "execution_count": 60,
   "metadata": {},
   "outputs": [
    {
     "data": {
      "text/plain": [
       "{2: 22, 7: 27, 8: 28}"
      ]
     },
     "execution_count": 60,
     "metadata": {},
     "output_type": "execute_result"
    }
   ],
   "source": [
    "{x: x + 20 for x in a_list}"
   ]
  },
  {
   "cell_type": "markdown",
   "metadata": {
    "id": "BPADmAih5JmR"
   },
   "source": [
    "## Exercise 5"
   ]
  },
  {
   "cell_type": "markdown",
   "metadata": {
    "id": "rsXNoqKd5JmT"
   },
   "source": [
    "Write a line of code that produces the given output.\n",
    "\n",
    "Hint Remember that list comprehensions can also be used as filters. Look at [Whirlwind Tour](https://github.com/jakevdp/WhirlwindTourOfPython/blob/6f1daf714fe52a8dde6a288674ba46a7feed8816/11-List-Comprehensions.ipynb) for a quick review of list comprehensions.\n",
    "\n",
    "```\n",
    "In [ ]: a_list = [2,7,8, 19]\n",
    "In [ ]: # Your code           \n",
    "Out [ ]: [22,27]\n",
    " ```"
   ]
  },
  {
   "cell_type": "code",
   "execution_count": null,
   "metadata": {
    "id": "b6CEm0Tb5JmT"
   },
   "outputs": [],
   "source": [
    "a_list = [2,7,8, 19]"
   ]
  },
  {
   "cell_type": "code",
   "execution_count": 11,
   "metadata": {
    "colab": {
     "base_uri": "https://localhost:8080/"
    },
    "id": "06kSPWYCKaMU",
    "outputId": "27521037-6524-45ae-b7d3-02a390e911cd"
   },
   "outputs": [
    {
     "data": {
      "text/plain": [
       "[22, 27]"
      ]
     },
     "execution_count": 11,
     "metadata": {
      "tags": []
     },
     "output_type": "execute_result"
    }
   ],
   "source": [
    "[x + 20 for x in a_list if x < 8]  # if clauxde is the FILTER"
   ]
  },
  {
   "cell_type": "markdown",
   "metadata": {
    "id": "zjBxWIgjKaMX"
   },
   "source": [
    "This solution does not use the list comprehension as a filter.  THie feliering is done with the splice `a_list[:2]`."
   ]
  },
  {
   "cell_type": "code",
   "execution_count": null,
   "metadata": {
    "colab": {
     "base_uri": "https://localhost:8080/",
     "height": 34
    },
    "id": "uwloVNvP5JmY",
    "outputId": "aadcdf17-9ea4-4ded-fc15-27310f3dd87b"
   },
   "outputs": [
    {
     "data": {
      "text/plain": [
       "[22, 27]"
      ]
     },
     "execution_count": 9,
     "metadata": {
      "tags": []
     },
     "output_type": "execute_result"
    }
   ],
   "source": [
    "# YOUR CODE GOES UNDER HERE\n",
    "[x + 20 for x in a_list[:2]]"
   ]
  },
  {
   "cell_type": "markdown",
   "metadata": {
    "id": "HvS68zv_5Jmd"
   },
   "source": [
    "## Exercise 6"
   ]
  },
  {
   "cell_type": "markdown",
   "metadata": {
    "id": "_yRUxfXg5Jme"
   },
   "source": [
    "Write a function that finds all the consonants in a string.  As a help, the list of vowels is given below.  The beginning\n",
    "of the function definition has been given with a `pass` as the body.  \n",
    "\n",
    "It should work as in the following examples.\n",
    "\n",
    "```\n",
    ">>> find_consonants('baker')\n",
    "'bkr'\n",
    ">>> find_consonants('abracadabra')\n",
    "'brcdbr'\n",
    ">>> find_consonants('mississippi is the place for me')\n",
    "'mssssppsthplcfrm'\n",
    "```\n",
    "\n",
    "As the argument of the function, use the name that has been supplied.\n",
    "Replace the `pass` with the correct definition of the function.\n",
    "\n",
    "For those interested in more of a challenge, you may add 'sometimes y' to the list of vowels. The letter `'y'` is a vowel in \"Mary\" and \"Plymouth\" and \"play\", but not in \"youth\"."
   ]
  },
  {
   "cell_type": "code",
   "execution_count": 7,
   "metadata": {
    "id": "eF6b9QEu5Jmf"
   },
   "outputs": [],
   "source": [
    "vowels = 'aeiou'\n",
    "nonconsonants = 'aeiou '\n",
    "\n",
    "def find_consonants_almost(string):\n",
    "    return ''.join([x for x in string if x not in vowels])\n",
    "\n",
    "def find_consonants(string):\n",
    "    return ''.join([x for x in string if x not in nonconsonants])"
   ]
  },
  {
   "cell_type": "code",
   "execution_count": 65,
   "metadata": {},
   "outputs": [
    {
     "data": {
      "text/plain": [
       "'abc'"
      ]
     },
     "execution_count": 65,
     "metadata": {},
     "output_type": "execute_result"
    }
   ],
   "source": [
    "''.join(list('abc'))"
   ]
  },
  {
   "cell_type": "code",
   "execution_count": 18,
   "metadata": {
    "colab": {
     "base_uri": "https://localhost:8080/",
     "height": 35
    },
    "id": "DSonCWGNKaMc",
    "outputId": "c40e07a7-b9d9-462f-f519-9832774e0205"
   },
   "outputs": [
    {
     "data": {
      "application/vnd.google.colaboratory.intrinsic+json": {
       "type": "string"
      },
      "text/plain": [
       "'bkr'"
      ]
     },
     "execution_count": 18,
     "metadata": {
      "tags": []
     },
     "output_type": "execute_result"
    }
   ],
   "source": [
    "find_consonants('baker')"
   ]
  },
  {
   "cell_type": "code",
   "execution_count": 19,
   "metadata": {
    "colab": {
     "base_uri": "https://localhost:8080/",
     "height": 35
    },
    "id": "LVRpVtYjKaMe",
    "outputId": "77e3cd71-e4bd-4c94-996f-4a4015b13ada"
   },
   "outputs": [
    {
     "data": {
      "application/vnd.google.colaboratory.intrinsic+json": {
       "type": "string"
      },
      "text/plain": [
       "'brcdbr'"
      ]
     },
     "execution_count": 19,
     "metadata": {
      "tags": []
     },
     "output_type": "execute_result"
    }
   ],
   "source": [
    "find_consonants('abracadabra')"
   ]
  },
  {
   "cell_type": "code",
   "execution_count": 61,
   "metadata": {
    "colab": {
     "base_uri": "https://localhost:8080/",
     "height": 35
    },
    "id": "6cmjgWsjKaMi",
    "outputId": "0fc1d873-381a-45c0-d963-fb6749f591f8"
   },
   "outputs": [
    {
     "data": {
      "text/plain": [
       "'msssspp s th plc fr m'"
      ]
     },
     "execution_count": 61,
     "metadata": {},
     "output_type": "execute_result"
    }
   ],
   "source": [
    "find_consonants_almost('mississippi is the place for me')"
   ]
  },
  {
   "cell_type": "code",
   "execution_count": 62,
   "metadata": {
    "colab": {
     "base_uri": "https://localhost:8080/",
     "height": 35
    },
    "id": "MVS3XLplKaMk",
    "outputId": "3b3e39f9-967d-44e7-82de-5cfbc7ce0e79"
   },
   "outputs": [
    {
     "data": {
      "text/plain": [
       "'mssssppsthplcfrm'"
      ]
     },
     "execution_count": 62,
     "metadata": {},
     "output_type": "execute_result"
    }
   ],
   "source": [
    "find_consonants('mississippi is the place for me')"
   ]
  },
  {
   "cell_type": "markdown",
   "metadata": {
    "id": "KVu_QtYiKaMo"
   },
   "source": [
    "JMG:  Your  first version does not work correctly on\n",
    "\n",
    "```\n",
    "'mississippi is the place for me'\n",
    "```\n",
    "\n",
    "Your second version does `print(string)` but should do `return string`.  Note the quotation marks in the example outputs  above, which your outputs lack."
   ]
  },
  {
   "cell_type": "code",
   "execution_count": null,
   "metadata": {
    "colab": {
     "base_uri": "https://localhost:8080/",
     "height": 34
    },
    "id": "LGwT-rpaQxC0",
    "outputId": "ea0f3567-4010-4ab2-e5f5-12110a822602"
   },
   "outputs": [
    {
     "name": "stdout",
     "output_type": "stream",
     "text": [
      "bkr\n"
     ]
    }
   ],
   "source": [
    "find_consonants('baker')"
   ]
  },
  {
   "cell_type": "code",
   "execution_count": null,
   "metadata": {
    "colab": {
     "base_uri": "https://localhost:8080/",
     "height": 34
    },
    "id": "Wtf6-4tyc81-",
    "outputId": "dc93b95a-ab63-4f0c-d0c3-b3c8267be833"
   },
   "outputs": [
    {
     "name": "stdout",
     "output_type": "stream",
     "text": [
      "brcdbr\n"
     ]
    }
   ],
   "source": [
    "find_consonants('abracadabra')"
   ]
  },
  {
   "cell_type": "code",
   "execution_count": null,
   "metadata": {
    "colab": {
     "base_uri": "https://localhost:8080/",
     "height": 34
    },
    "id": "TLZM4GJvc91r",
    "outputId": "c66fd184-8b7b-4246-b56c-10cec8807f1e"
   },
   "outputs": [
    {
     "name": "stdout",
     "output_type": "stream",
     "text": [
      "mssssppsthplcfrm\n"
     ]
    }
   ],
   "source": [
    "find_consonants('mississippi is the place for me')"
   ]
  },
  {
   "cell_type": "markdown",
   "metadata": {},
   "source": [
    "The following solution is correct but not preferred because strong concatenation is notoriously slow in python.\n"
   ]
  },
  {
   "cell_type": "code",
   "execution_count": 6,
   "metadata": {},
   "outputs": [],
   "source": [
    "def find_consonants_slow(st):\n",
    "  new_string = \"\"\n",
    "  for i in st:\n",
    "    if i not in vowels:\n",
    "      new_string = new_string + i\n",
    "   \n",
    "  return new_string  "
   ]
  },
  {
   "cell_type": "code",
   "execution_count": 66,
   "metadata": {},
   "outputs": [
    {
     "data": {
      "text/plain": [
       "'brcdbr'"
      ]
     },
     "execution_count": 66,
     "metadata": {},
     "output_type": "execute_result"
    }
   ],
   "source": [
    "find_consonants_slow('abracadabra')"
   ]
  },
  {
   "cell_type": "code",
   "execution_count": 23,
   "metadata": {
    "colab": {
     "base_uri": "https://localhost:8080/"
    },
    "id": "T2xtSrwSKaMu",
    "outputId": "e6429cf9-8e60-4ca6-82a3-84b445117e5d"
   },
   "outputs": [
    {
     "name": "stdout",
     "output_type": "stream",
     "text": [
      "mssssppsthplcfrm\n",
      "brcdr\n",
      "yrd\n",
      "pl\n"
     ]
    }
   ],
   "source": [
    "# Version with \"y\"\n",
    "def find_consonants_sometimes_y(string):\n",
    "    nonconsonants_y = 'aeiouy '\n",
    "    rest = [x for x in string[1:] if x not in nonconsonants_y]\n",
    "    first = [y for y in string[0] if y not in nonconsonants]\n",
    "    return ''.join(first + rest)\n",
    "\n",
    "print(find_consonants_sometimes_y('mississippi is the place for me'))\n",
    "print(find_consonants_sometimes_y('abracadra'))\n",
    "print(find_consonants_sometimes_y('yard'))\n",
    "print(find_consonants_sometimes_y('play'))"
   ]
  },
  {
   "cell_type": "markdown",
   "metadata": {
    "id": "ax0WCrtR5Jmk"
   },
   "source": [
    "## Exercise 7"
   ]
  },
  {
   "cell_type": "markdown",
   "metadata": {
    "id": "Ht41uZsk5Jml"
   },
   "source": [
    " Write a line of code that operates on `XX` and produces the given output: \n",
    "   \n",
    "     In [ ]: XX = 'bad good sad happy'\n",
    "           YOUR CODE HERE\n",
    "     Out [ ]: [True, False, True, False]\n",
    "  \n",
    " Hint:  Try a list comprehension that collects\n",
    "  a list of the results of a Boolean test.  But remember that the elements of a string\n",
    "  are characters.  You can turn `XX` into a list of length 4 with a simple operation \n",
    "  discussed in the python_types_nb.\n"
   ]
  },
  {
   "cell_type": "code",
   "execution_count": 67,
   "metadata": {
    "colab": {
     "base_uri": "https://localhost:8080/"
    },
    "id": "76mlSzY25Jmm",
    "outputId": "35b89339-7159-4515-f692-38708ae1912d"
   },
   "outputs": [
    {
     "data": {
      "text/plain": [
       "[True, False, True, False]"
      ]
     },
     "execution_count": 67,
     "metadata": {},
     "output_type": "execute_result"
    }
   ],
   "source": [
    "XX = 'bad good sad happy' \n",
    "# Your code here\n",
    "x = XX.split(\" \") \n",
    "[len(i) == 3 for i in x]"
   ]
  },
  {
   "cell_type": "code",
   "execution_count": 68,
   "metadata": {
    "colab": {
     "base_uri": "https://localhost:8080/"
    },
    "id": "-NvRjuJ9PXkC",
    "outputId": "58f8555a-9571-4997-9bd6-0287e5e6d9f6"
   },
   "outputs": [
    {
     "name": "stdout",
     "output_type": "stream",
     "text": [
      "['bad', 'good', '', 'sad', '', '', 'happy']\n",
      "['bad', 'good', 'sad', 'happy']\n"
     ]
    }
   ],
   "source": [
    "XX = 'bad good  sad   happy' \n",
    "x = XX.split(\" \") \n",
    "print(x)\n",
    "y = XX.split()\n",
    "print(y)"
   ]
  },
  {
   "cell_type": "markdown",
   "metadata": {
    "id": "cSN8h_5e5Jmr"
   },
   "source": [
    "## Exercise 8"
   ]
  },
  {
   "cell_type": "markdown",
   "metadata": {
    "id": "dyzhDhV55Jmr"
   },
   "source": [
    "You're having a big party.\n",
    "\n",
    "The guests will be boys and girls.   The lists are defined for you in the next cell.\n",
    "\n",
    "You want to make sure there are enough dance partners and that they are all compatible.  Write a single list comprehension that will compute every possible pairing of a boy with a girl.  \n",
    "\n",
    "Hint The list the list comprehension builds will be a list of pairs."
   ]
  },
  {
   "cell_type": "code",
   "execution_count": 28,
   "metadata": {
    "colab": {
     "base_uri": "https://localhost:8080/"
    },
    "id": "WaT3ZKmp5Jmu",
    "outputId": "20624ffa-25ce-4976-8163-e9c80738bcd8"
   },
   "outputs": [
    {
     "data": {
      "text/plain": [
       "[('Huey', 'Susan'),\n",
       " ('Huey', 'Paula'),\n",
       " ('Huey', 'Barbara'),\n",
       " ('Huey', 'Felicia'),\n",
       " ('Fred', 'Susan'),\n",
       " ('Fred', 'Paula'),\n",
       " ('Fred', 'Barbara'),\n",
       " ('Fred', 'Felicia'),\n",
       " ('Jason', 'Susan'),\n",
       " ('Jason', 'Paula'),\n",
       " ('Jason', 'Barbara'),\n",
       " ('Jason', 'Felicia'),\n",
       " ('Ed', 'Susan'),\n",
       " ('Ed', 'Paula'),\n",
       " ('Ed', 'Barbara'),\n",
       " ('Ed', 'Felicia'),\n",
       " ('Albert', 'Susan'),\n",
       " ('Albert', 'Paula'),\n",
       " ('Albert', 'Barbara'),\n",
       " ('Albert', 'Felicia'),\n",
       " ('Louie', 'Susan'),\n",
       " ('Louie', 'Paula'),\n",
       " ('Louie', 'Barbara'),\n",
       " ('Louie', 'Felicia')]"
      ]
     },
     "execution_count": 28,
     "metadata": {
      "tags": []
     },
     "output_type": "execute_result"
    }
   ],
   "source": [
    "boys = 'Huey Fred Jason Ed Albert Louie'.split()\n",
    "girls = 'Susan Paula Barbara Felicia'.split()\n",
    "# Your code here\n",
    "[(x,y) for x in boys for y in girls]"
   ]
  },
  {
   "cell_type": "markdown",
   "metadata": {
    "id": "gdbBklLQ5Jm2"
   },
   "source": [
    "## Exercise 9"
   ]
  },
  {
   "cell_type": "markdown",
   "metadata": {
    "id": "VOGCKQZF5Jm2"
   },
   "source": [
    "You suddenly remember that boys don't always dance with girls and girls don't always dance with boys.\n",
    "And there are people who are neither who are also guests at the party.  You compile a list of neithers.  \n",
    "\n",
    "Using the `boys` and `girls` lists from the last problem and the `neither` list below,\n",
    "write another list comprehension that finds **all** the possible dance partners, that is\n",
    "every pair of guests at the party, regardless of whether they are boys or girls or neither.\n",
    "But remember: people can't dance with themselves.  \n",
    "\n",
    "If your final list has 169 members, people are dancing with themselves.\n",
    "\n",
    "If your final list has 156 members, it's because you have both ('Huey', 'Fred') and ('Fred', 'Huey') as possible dance partners. This is a bug.  They are just one happy couple.\n",
    "One way to fix this is do a set comprehension but then the final set you collect can't\n",
    "just be a set of two-member tuples or you'll have 156 of them.\n",
    "\n",
    "Another way to fix this is with `enumerate` as shown in the function-nb notebook.\n",
    "\n",
    "The correct answer has 78 dance couples."
   ]
  },
  {
   "cell_type": "code",
   "execution_count": 69,
   "metadata": {
    "colab": {
     "base_uri": "https://localhost:8080/"
    },
    "id": "Uz-RVXYBbvM3",
    "outputId": "b40bee3a-3aa4-460f-bc2d-1e93827207c3"
   },
   "outputs": [
    {
     "data": {
      "text/plain": [
       "78"
      ]
     },
     "execution_count": 69,
     "metadata": {},
     "output_type": "execute_result"
    }
   ],
   "source": [
    "neither = 'Lee Sam Kim'.split()\n",
    "# Your code here\n",
    "boys = 'Huey Fred Jason Ed Albert Louie'.split()\n",
    "girls = 'Susan Paula Barbara Felicia'.split()\n",
    "all_dancers = neither + boys + girls # combine lists\n",
    "\n",
    "L = [(x,y) for (i,x) in enumerate(all_dancers) for y in all_dancers[i+1:]]\n",
    "len(L)"
   ]
  },
  {
   "cell_type": "code",
   "execution_count": 31,
   "metadata": {
    "colab": {
     "base_uri": "https://localhost:8080/"
    },
    "id": "9k2m5slDRyRM",
    "outputId": "23fa2372-ae3d-4506-fe00-930ebca7c00a"
   },
   "outputs": [
    {
     "data": {
      "text/plain": [
       "[(0, 'Lee'),\n",
       " (1, 'Sam'),\n",
       " (2, 'Kim'),\n",
       " (3, 'Huey'),\n",
       " (4, 'Fred'),\n",
       " (5, 'Jason'),\n",
       " (6, 'Ed'),\n",
       " (7, 'Albert'),\n",
       " (8, 'Louie'),\n",
       " (9, 'Susan'),\n",
       " (10, 'Paula'),\n",
       " (11, 'Barbara'),\n",
       " (12, 'Felicia')]"
      ]
     },
     "execution_count": 31,
     "metadata": {
      "tags": []
     },
     "output_type": "execute_result"
    }
   ],
   "source": [
    "[(i,x) for (i,x) in enumerate(all_dancers)]"
   ]
  },
  {
   "cell_type": "markdown",
   "metadata": {
    "id": "s3RhidfnKaM6"
   },
   "source": [
    "An equivalent, less efficient solution.\n",
    "\n",
    "There is a cost to the comparison operation (using `<`). The difference is minimal for string comparison of short strings, which is what we have here. It might be a difference story if we were comparing DNA strings (strings millions of characters long)."
   ]
  },
  {
   "cell_type": "code",
   "execution_count": 32,
   "metadata": {
    "colab": {
     "base_uri": "https://localhost:8080/"
    },
    "id": "R_7dG5QsKaM7",
    "outputId": "5a97a8b0-7a2e-45b9-daf9-96b82a4df147"
   },
   "outputs": [
    {
     "data": {
      "text/plain": [
       "78"
      ]
     },
     "execution_count": 32,
     "metadata": {
      "tags": []
     },
     "output_type": "execute_result"
    }
   ],
   "source": [
    "L2 = [(x, y) for x in all_dancers for y in all_dancers if x < y]\n",
    "len(L2)"
   ]
  },
  {
   "cell_type": "markdown",
   "metadata": {
    "id": "W9soV1REKaM9"
   },
   "source": [
    "Timing difference demonstration (results will vary from machine to machine):"
   ]
  },
  {
   "cell_type": "code",
   "execution_count": 70,
   "metadata": {
    "colab": {
     "base_uri": "https://localhost:8080/"
    },
    "id": "zjnb2IKnKaM9",
    "outputId": "46d9ba9a-1380-4b20-ed7d-b4514849eb57"
   },
   "outputs": [
    {
     "name": "stdout",
     "output_type": "stream",
     "text": [
      "7.481 secs\n",
      "9.901 secs\n",
      "Process 1 was 32.35% faster\n"
     ]
    }
   ],
   "source": [
    "import time\n",
    "\n",
    "def time_function (N, f, *args):\n",
    "    s = time.time()\n",
    "    # Run it many times to minimize the chance of resource fluctuation\n",
    "    for i in range(N):\n",
    "        f(*args)\n",
    "    e = time.time()\n",
    "    d = e - s\n",
    "    print('{0:.3f} secs'.format(d))\n",
    "    return d\n",
    "\n",
    "#. Notice the use of `lambda` here and think about why it's necessary.\n",
    "f1 = lambda : [(x,y) for (i,x) in enumerate(all_dancers) for y in all_dancers[i+1:]]\n",
    "f2 = lambda : [(x, y) for x in all_dancers for y in all_dancers if x < y]\n",
    "N = 1000000 # Run each code chunk 1 million times.\n",
    "\n",
    "d1 = time_function(N, f1)\n",
    "d2 = time_function(N, f2)\n",
    "\n",
    "\n",
    "# Variant that also works.  Note use of all_dancers in lambda, how time_function is called\n",
    "#f1 = lambda all_dancers : [(x,y) for (i,x) in enumerate(all_dancers) for y in all_dancers[i+1:]]\n",
    "#f2 = lambda all_dancers: [(x, y) for x in all_dancers for y in all_dancers if x < y]\n",
    "#N = 1000000 # Run each code chunk 1 million times.\n",
    "\n",
    "#d1 = time_function(N, f1, all_dancers)\n",
    "#d2 = time_function(N, f2, all_dancers)\n",
    "\n",
    "\n",
    "\n",
    "print(f'Process 1 was {(d2-d1)/d1:.2%} faster')\n",
    "\n"
   ]
  },
  {
   "cell_type": "code",
   "execution_count": 71,
   "metadata": {},
   "outputs": [
    {
     "data": {
      "text/plain": [
       "1602114295.757462"
      ]
     },
     "execution_count": 71,
     "metadata": {},
     "output_type": "execute_result"
    }
   ],
   "source": [
    "time.time()"
   ]
  },
  {
   "cell_type": "code",
   "execution_count": 72,
   "metadata": {},
   "outputs": [
    {
     "data": {
      "text/plain": [
       "1602114307.878399"
      ]
     },
     "execution_count": 72,
     "metadata": {},
     "output_type": "execute_result"
    }
   ],
   "source": [
    "time.time()"
   ]
  },
  {
   "cell_type": "markdown",
   "metadata": {},
   "source": [
    "Another example using functions defined earlier in this NB"
   ]
  },
  {
   "cell_type": "code",
   "execution_count": 73,
   "metadata": {},
   "outputs": [
    {
     "name": "stdout",
     "output_type": "stream",
     "text": [
      "16.646 secs\n",
      "21.615 secs\n",
      "Process 1 was 29.85% faster\n"
     ]
    }
   ],
   "source": [
    "# Cooking up long test string\n",
    "test_str = 'mississippi is the place for me'  * 10\n",
    "d1 = time_function(N, find_consonants, test_str)\n",
    "d2 = time_function(N, find_consonants_slow, test_str)\n",
    "print(f'Process 1 was {(d2-d1)/d1:.2%} faster')"
   ]
  },
  {
   "cell_type": "markdown",
   "metadata": {
    "id": "8iQlqFnz5Jm8"
   },
   "source": [
    "## Exercise 9"
   ]
  },
  {
   "cell_type": "markdown",
   "metadata": {
    "id": "ZljO3V-B5Jm9"
   },
   "source": [
    "Write a **function** that return `True` for any  integer that has a remainder of 1 when divided by 3, and `False` for all other integers.  It should return nothing (`None`) for non integers.  It's okay to have an error for non numbers.\n",
    "\n",
    "Here is how it should  work:\n",
    "\n",
    "```\n",
    ">>> print(remainder_one(2))\n",
    "False\n",
    ">>> print(remainder_one(16))\n",
    "True\n",
    ">>> print(remainder_one(16.1))\n",
    "None\n",
    ">>> remainder_one(16.1)\n",
    "```\n"
   ]
  },
  {
   "cell_type": "code",
   "execution_count": 41,
   "metadata": {
    "colab": {
     "base_uri": "https://localhost:8080/"
    },
    "id": "CusKRmt4WLb5",
    "outputId": "81d9f2bb-d277-409c-8e49-766601078410"
   },
   "outputs": [
    {
     "data": {
      "text/plain": [
       "1"
      ]
     },
     "execution_count": 41,
     "metadata": {
      "tags": []
     },
     "output_type": "execute_result"
    }
   ],
   "source": [
    "16 % 3"
   ]
  },
  {
   "cell_type": "markdown",
   "metadata": {
    "id": "lxlZ2zHuKaNB"
   },
   "source": [
    "A lot of you did something like one of the two following functions."
   ]
  },
  {
   "cell_type": "code",
   "execution_count": 77,
   "metadata": {},
   "outputs": [
    {
     "data": {
      "text/plain": [
       "(bool, bool, NoneType)"
      ]
     },
     "execution_count": 77,
     "metadata": {},
     "output_type": "execute_result"
    }
   ],
   "source": [
    "type(True), type(False), type(None)"
   ]
  },
  {
   "cell_type": "code",
   "execution_count": 78,
   "metadata": {
    "id": "4SdEQoCE5Jm9"
   },
   "outputs": [],
   "source": [
    "\n",
    "def wrong_remainder_one_a (x):\n",
    "    if type(x) == int and x % 3 == 1:\n",
    "      return \"True\"\n",
    "    elif type(x) == int and x % 3 != 1:\n",
    "      return \"False\"\n",
    "    else:\n",
    "      return None\n",
    "        \n",
    "def wrong_remainder_one_b (x):\n",
    "    if type(x) == int and x % 3 == 1:\n",
    "      print(True)\n",
    "    elif type(x) == int and x % 3 != 1:\n",
    "      print(False)\n",
    "    else:\n",
    "      print(None)"
   ]
  },
  {
   "cell_type": "code",
   "execution_count": 80,
   "metadata": {},
   "outputs": [
    {
     "name": "stdout",
     "output_type": "stream",
     "text": [
      "True\n",
      "None\n"
     ]
    }
   ],
   "source": [
    "x = wrong_remainder_one_b(4)\n",
    "print(x)"
   ]
  },
  {
   "cell_type": "markdown",
   "metadata": {
    "id": "5gJRzqrtKaND"
   },
   "source": [
    "There are two separate issues illustrated by the `a` and `b` functions.\n",
    "What you return and whether you print something or return something.\n",
    "\n",
    "Issue one (the `a` function):  The intention was that you should return `True` or `False`, which  are builtin names in Python which have type `Boolean`.   Notice there are no string quotes. That's because none are needed."
   ]
  },
  {
   "cell_type": "code",
   "execution_count": 44,
   "metadata": {
    "colab": {
     "base_uri": "https://localhost:8080/"
    },
    "id": "E3XA3A1xKaNE",
    "outputId": "e6be58e8-c9d2-4cb3-f251-462d34392f34"
   },
   "outputs": [
    {
     "data": {
      "text/plain": [
       "(bool, bool)"
      ]
     },
     "execution_count": 44,
     "metadata": {
      "tags": []
     },
     "output_type": "execute_result"
    }
   ],
   "source": [
    "type(True),type(False)"
   ]
  },
  {
   "cell_type": "code",
   "execution_count": null,
   "metadata": {
    "id": "Ez5gOFPJKaNG",
    "outputId": "10764e4f-3671-452e-dfe0-87147e1f27b9"
   },
   "outputs": [
    {
     "data": {
      "text/plain": [
       "False"
      ]
     },
     "execution_count": 45,
     "metadata": {
      "tags": []
     },
     "output_type": "execute_result"
    }
   ],
   "source": [
    "False"
   ]
  },
  {
   "cell_type": "code",
   "execution_count": 81,
   "metadata": {
    "colab": {
     "base_uri": "https://localhost:8080/"
    },
    "id": "UxaASkEeKaNI",
    "outputId": "049a9b93-6066-4cd8-8f2d-fee48ed238e3"
   },
   "outputs": [
    {
     "name": "stdout",
     "output_type": "stream",
     "text": [
      "It's true!\n"
     ]
    }
   ],
   "source": [
    "if False:\n",
    "    print(\"It's a lie!\")\n",
    "elif True:\n",
    "    print(\"It's true!\")"
   ]
  },
  {
   "cell_type": "markdown",
   "metadata": {
    "id": "iK1mHAgAKaNK"
   },
   "source": [
    "These are the values returned by Boolean tests."
   ]
  },
  {
   "cell_type": "code",
   "execution_count": 82,
   "metadata": {
    "colab": {
     "base_uri": "https://localhost:8080/"
    },
    "id": "3_4wGPPzKaNK",
    "outputId": "c1adb395-f1ce-4fc6-f234-ef1581374fdc"
   },
   "outputs": [
    {
     "data": {
      "text/plain": [
       "True"
      ]
     },
     "execution_count": 82,
     "metadata": {},
     "output_type": "execute_result"
    }
   ],
   "source": [
    "(2 == 2)"
   ]
  },
  {
   "cell_type": "code",
   "execution_count": 83,
   "metadata": {
    "colab": {
     "base_uri": "https://localhost:8080/"
    },
    "id": "2t0U-yrRKaNN",
    "outputId": "88edef1f-9c3c-4370-d5a4-6a2141ecb01d"
   },
   "outputs": [
    {
     "data": {
      "text/plain": [
       "False"
      ]
     },
     "execution_count": 83,
     "metadata": {},
     "output_type": "execute_result"
    }
   ],
   "source": [
    "(2 == 3)"
   ]
  },
  {
   "cell_type": "code",
   "execution_count": 84,
   "metadata": {
    "colab": {
     "base_uri": "https://localhost:8080/"
    },
    "id": "-R0MePttKaNO",
    "outputId": "eceaa02a-8542-41af-df5b-a1a60f3689f5"
   },
   "outputs": [
    {
     "data": {
      "text/plain": [
       "False"
      ]
     },
     "execution_count": 84,
     "metadata": {},
     "output_type": "execute_result"
    }
   ],
   "source": [
    "X = (2 == 3)\n",
    "X"
   ]
  },
  {
   "cell_type": "markdown",
   "metadata": {
    "id": "MvVlk3z7KaNR"
   },
   "source": [
    "So the following code is equivalent to the if branch above:"
   ]
  },
  {
   "cell_type": "code",
   "execution_count": 85,
   "metadata": {
    "colab": {
     "base_uri": "https://localhost:8080/"
    },
    "id": "rHx_OoJeKaNR",
    "outputId": "eb010f74-3432-41f4-e2ec-01f801cd854e"
   },
   "outputs": [
    {
     "name": "stdout",
     "output_type": "stream",
     "text": [
      "It's really true!\n"
     ]
    }
   ],
   "source": [
    "if 2 == 3:\n",
    "    print(\"It's a lie!\")\n",
    "elif 2 == 2:\n",
    "    print(\"It's really true!\")"
   ]
  },
  {
   "cell_type": "markdown",
   "metadata": {
    "id": "73NF5AgUKaNT"
   },
   "source": [
    "The problem with writing a function that returns `\"True\"` and `\"False\"` instead of `True` and `False` is that it\n",
    "will have unexpected behavior when used a Boolean test.\n",
    "\n",
    "Consider an example that should return `False` and watch what happens with the example that instead returns\n",
    "`\"False\"`."
   ]
  },
  {
   "cell_type": "code",
   "execution_count": 86,
   "metadata": {
    "colab": {
     "base_uri": "https://localhost:8080/"
    },
    "id": "n3QGvYoxKaNU",
    "outputId": "5e75be41-ef47-47d8-a2d7-f1a35ee72139"
   },
   "outputs": [
    {
     "name": "stdout",
     "output_type": "stream",
     "text": [
      "It doesn't\n"
     ]
    }
   ],
   "source": [
    "if wrong_remainder_one_a(5):\n",
    "    print(\"It doesn't\")\n",
    "elif wrong_remainder_one_a(4):\n",
    "    print(\"It has a remainder of one\")"
   ]
  },
  {
   "cell_type": "markdown",
   "metadata": {
    "id": "JDIkdI38KaNW"
   },
   "source": [
    "Why is the wrong print statement firing?  Especially since our function works exactly as planned!"
   ]
  },
  {
   "cell_type": "code",
   "execution_count": 87,
   "metadata": {
    "colab": {
     "base_uri": "https://localhost:8080/",
     "height": 35
    },
    "id": "7fvamBlkKaNX",
    "outputId": "ea06efb3-3527-4965-d791-6ab86b5b5052"
   },
   "outputs": [
    {
     "data": {
      "text/plain": [
       "'False'"
      ]
     },
     "execution_count": 87,
     "metadata": {},
     "output_type": "execute_result"
    }
   ],
   "source": [
    "wrong_remainder_one_a(5)"
   ]
  },
  {
   "cell_type": "markdown",
   "metadata": {
    "id": "eaFRXnJZKaNZ"
   },
   "source": [
    "The problem is that any non-empty string counts as `True` in a Boolean test context.\n",
    "[Boolean results](https://gawron.sdsu.edu/python_for_ss/course_core/book_draft/programming_intro/boolean_results.html)\n",
    "\n",
    "The string `\"False\"` is non-empty, so when it is cast into a Boolean (= interpreted as a Boolean)  in a Boolean test context, it is cast as `True`.\n",
    "\n",
    "The moral:  when requested to write a function that returns `True` and `False`,  return the Boolean Python\n",
    "expressions."
   ]
  },
  {
   "cell_type": "markdown",
   "metadata": {
    "id": "Kgydb86YKaNZ"
   },
   "source": [
    "Issue Two:  You're printing something rather than returning something.\n",
    "\n",
    "The instructions ruled this possibility out.  First of all a function that\n",
    "just prints messages and has no `return` statements in it returns neither `True`\n",
    "nor `False`; it always returns `None`.  Once again, this function will not function\n",
    "as expected in a Boolean test context:"
   ]
  },
  {
   "cell_type": "code",
   "execution_count": 88,
   "metadata": {
    "colab": {
     "base_uri": "https://localhost:8080/"
    },
    "id": "YMwquCg3KaNZ",
    "outputId": "9ea23463-4539-499c-f498-8926b030de81"
   },
   "outputs": [
    {
     "name": "stdout",
     "output_type": "stream",
     "text": [
      "False\n",
      "True\n"
     ]
    }
   ],
   "source": [
    "if wrong_remainder_one_b(5):\n",
    "    print(\"It has a remainder of one\")\n",
    "elif wrong_remainder_one_b(4):\n",
    "    print(\"It doesn't\")"
   ]
  },
  {
   "cell_type": "markdown",
   "metadata": {
    "id": "Po1ba5rCKaNd"
   },
   "source": [
    "It satisfies neither Boolean test, since it always returns `None` (which casts as Boolean `False`). Therefore\n",
    "**neither** of the messages is printed out. \n",
    "\n",
    "Meanwhile it intrusively printing out its conclusions about every example it's called on.  \n",
    "\n",
    "But the writer of a piece of code like the one above probably just wants to print his own print messages.   In general it is not a good idea to sprinkle your code with lots of print messages  (except possibly when debugging).  They're generally hard to interpret when used in larger code blocks (like the messages above) unless you know the exact code context they're coming from.  So the default way to write a function is to **return** something (not **print** it) that precisely captures the information that the function is computing.\n",
    "\n",
    "Note: to rigorously **test** what a function returns, set a variable to its value and do an `==` test:\n",
    "Then we see the contrast between what's wanted and what it does for both our flawed answers."
   ]
  },
  {
   "cell_type": "code",
   "execution_count": 55,
   "metadata": {
    "colab": {
     "base_uri": "https://localhost:8080/"
    },
    "id": "9LbeahvNKaNe",
    "outputId": "f0a642c4-043a-42d4-ad83-7a9226137d08"
   },
   "outputs": [
    {
     "data": {
      "text/plain": [
       "False"
      ]
     },
     "execution_count": 55,
     "metadata": {
      "tags": []
     },
     "output_type": "execute_result"
    }
   ],
   "source": [
    "x = wrong_remainder_one_a(4)\n",
    "x == True"
   ]
  },
  {
   "cell_type": "code",
   "execution_count": null,
   "metadata": {
    "id": "mjvssxU9KaNh",
    "outputId": "873b9e3c-9914-407e-9339-87774eda3c61"
   },
   "outputs": [
    {
     "name": "stdout",
     "output_type": "stream",
     "text": [
      "True\n"
     ]
    },
    {
     "data": {
      "text/plain": [
       "False"
      ]
     },
     "execution_count": 64,
     "metadata": {
      "tags": []
     },
     "output_type": "execute_result"
    }
   ],
   "source": [
    "x = wrong_remainder_one_b(4)\n",
    "x == True"
   ]
  },
  {
   "cell_type": "markdown",
   "metadata": {
    "id": "fz-elMQzKaNj"
   },
   "source": [
    "So what we want is something along the lines of:"
   ]
  },
  {
   "cell_type": "code",
   "execution_count": null,
   "metadata": {
    "id": "f-Xa_zP1KaNk"
   },
   "outputs": [],
   "source": [
    "def remainder_one (x):\n",
    "    if isinstance(x, int):\n",
    "      if x%3 == 1:\n",
    "       return True \n",
    "      else:\n",
    "       return False\n",
    "    else:\n",
    "      return None"
   ]
  },
  {
   "cell_type": "markdown",
   "metadata": {
    "id": "pI3R8EnHKaNm"
   },
   "source": [
    "But this is equivalent to a surprisingly simple alternative.\n",
    "\n",
    "Check out the next cell.."
   ]
  },
  {
   "cell_type": "code",
   "execution_count": null,
   "metadata": {
    "id": "xn2Nt9S-KaNm"
   },
   "outputs": [],
   "source": [
    "\n",
    "def remainder_one(x):\n",
    "    if isinstance(x, int):\n",
    "        return (x % 3)  == 1"
   ]
  },
  {
   "cell_type": "code",
   "execution_count": 26,
   "metadata": {},
   "outputs": [
    {
     "data": {
      "text/plain": [
       "True"
      ]
     },
     "execution_count": 26,
     "metadata": {},
     "output_type": "execute_result"
    }
   ],
   "source": [
    "Res = 'x' < 'y'\n",
    "Res"
   ]
  },
  {
   "cell_type": "code",
   "execution_count": 31,
   "metadata": {},
   "outputs": [
    {
     "data": {
      "text/plain": [
       "(bool, bool)"
      ]
     },
     "execution_count": 31,
     "metadata": {},
     "output_type": "execute_result"
    }
   ],
   "source": [
    "type(False),type(True)"
   ]
  },
  {
   "cell_type": "code",
   "execution_count": 32,
   "metadata": {},
   "outputs": [
    {
     "data": {
      "text/plain": [
       "NoneType"
      ]
     },
     "execution_count": 32,
     "metadata": {},
     "output_type": "execute_result"
    }
   ],
   "source": [
    "type(None)"
   ]
  },
  {
   "cell_type": "markdown",
   "metadata": {
    "id": "5kvXpxQ0KaNn"
   },
   "source": [
    "This completely satisfies all the directions:\n",
    "\n",
    "**Write a function that returns `True` for any  integer that has a remainder of 1 when divided by 3, and `False` for all other integers.  It should return nothing (`None`) for non integers.  It's okay to have an error for non numbers.**\n",
    "\n",
    "The idea of the function above is to just return the result of the Boolean test (`True` or\n",
    "`False`) in the appropriate circumstances.   What are the appropriate circumstances?  Well, according to the specs, when `x` is an integer, and that's what the `if`-clause checks.\n",
    "\n",
    "What about when `x` is not a integer?  There is no `return` statement covering that case.  What that means is that\n",
    "when `x` is not an integer, the function will return `None`, and that is exactly what the directions\n",
    "call for. \n",
    "\n",
    "This is actually a very typical way of writing a Boolean test function.  We often have three cases we have to deal with, a two-way branch (do X in case A and Y in case Y), and a whole slew of cases not of interest (do nothing). It is very natural to use Python's builtin distinction between `True`, `False` and `None` to  classify the cases."
   ]
  },
  {
   "cell_type": "markdown",
   "metadata": {
    "id": "lk39AKoHKaNo"
   },
   "source": [
    "Demonstrating all the examples"
   ]
  },
  {
   "cell_type": "code",
   "execution_count": null,
   "metadata": {
    "colab": {
     "base_uri": "https://localhost:8080/"
    },
    "id": "4GqcZgDymzL5",
    "outputId": "e010b66f-5e90-4a5f-ebd3-aa733d04b398"
   },
   "outputs": [
    {
     "data": {
      "text/plain": [
       "False"
      ]
     },
     "execution_count": 67,
     "metadata": {
      "tags": []
     },
     "output_type": "execute_result"
    }
   ],
   "source": [
    "remainder_one(2)"
   ]
  },
  {
   "cell_type": "code",
   "execution_count": null,
   "metadata": {
    "colab": {
     "base_uri": "https://localhost:8080/"
    },
    "id": "eGSefICZnmGV",
    "outputId": "1b1bb9a1-5d59-459e-9613-94b480a994a1"
   },
   "outputs": [
    {
     "data": {
      "text/plain": [
       "True"
      ]
     },
     "execution_count": 68,
     "metadata": {
      "tags": []
     },
     "output_type": "execute_result"
    }
   ],
   "source": [
    "remainder_one(16)"
   ]
  },
  {
   "cell_type": "code",
   "execution_count": null,
   "metadata": {
    "id": "FKxJ_P8EnpNi"
   },
   "outputs": [],
   "source": [
    "remainder_one(16.1)"
   ]
  },
  {
   "cell_type": "code",
   "execution_count": null,
   "metadata": {
    "id": "fxQJ-fc4KaNv",
    "outputId": "76cf424f-5125-45c0-92bc-55775d6fa69a"
   },
   "outputs": [
    {
     "data": {
      "text/plain": [
       "True"
      ]
     },
     "execution_count": 71,
     "metadata": {
      "tags": []
     },
     "output_type": "execute_result"
    }
   ],
   "source": [
    "result = remainder_one(16.1)\n",
    "result == None"
   ]
  },
  {
   "cell_type": "markdown",
   "metadata": {
    "id": "bQFaTP9t5JnC"
   },
   "source": [
    "## Exercise 10"
   ]
  },
  {
   "cell_type": "markdown",
   "metadata": {
    "id": "BAASKupv5JnE"
   },
   "source": [
    "Write a function that converts temperatures (as\n",
    "numbers) from Fahrenheit to Celsius scale. The temperature should be\n",
    "optional and its default value should be 32.  Here are some examples showing\n",
    "how you **call** the `fahrenheit-to_celsius` function and what it returns:\n",
    "\n",
    "```\n",
    "    In [ ]:  fahrenheit_to_celsius(212)\n",
    "    Out [ ]: 100\n",
    "    In [ ]: fahrenheit_to_celsius(-40)\n",
    "    Out [ ]: -40.0\n",
    "    In [ ]:  fahrenheit_to_celsius(32)\n",
    "    Out [ ]: 0\n",
    "    In [ ]:  fahrenheit_to_celsius()\n",
    "    Out [ ]: 0    \n",
    "```\n",
    "\n",
    "Please include a cell printing out your validation tests to show you have checked your work (which of course you **always** do).   \n",
    "To create new cells to demonstrate all the examples, you hold down the `[Control]` key while pressing `M` and then typing `b` (for \"below\").\n"
   ]
  },
  {
   "cell_type": "code",
   "execution_count": 38,
   "metadata": {
    "id": "-Ci_894QLCKn"
   },
   "outputs": [],
   "source": [
    "def fahrenheit_to_celsius(f = 32):\n",
    "    #return [your answer goes here\n",
    "    return (f - 32) * 5/9 "
   ]
  },
  {
   "cell_type": "code",
   "execution_count": 34,
   "metadata": {
    "colab": {
     "base_uri": "https://localhost:8080/",
     "height": 34
    },
    "id": "jvxsajACLE0l",
    "outputId": "10fc271d-c858-45ea-d89c-f36d5328ae96"
   },
   "outputs": [
    {
     "name": "stdout",
     "output_type": "stream",
     "text": [
      "100.0\n"
     ]
    }
   ],
   "source": [
    "fahrenheit_to_celsius(212)"
   ]
  },
  {
   "cell_type": "code",
   "execution_count": 35,
   "metadata": {
    "colab": {
     "base_uri": "https://localhost:8080/",
     "height": 34
    },
    "id": "KYknO-5ZLHBs",
    "outputId": "dfff3da3-f1a3-4fb6-bcb5-251b0380c63d"
   },
   "outputs": [
    {
     "name": "stdout",
     "output_type": "stream",
     "text": [
      "-40.0\n"
     ]
    }
   ],
   "source": [
    "fahrenheit_to_celsius(-40)"
   ]
  },
  {
   "cell_type": "code",
   "execution_count": 36,
   "metadata": {
    "colab": {
     "base_uri": "https://localhost:8080/",
     "height": 34
    },
    "id": "yLBzBB4GLI9N",
    "outputId": "c22301cb-2635-479e-ef64-d9148be0c0d9"
   },
   "outputs": [
    {
     "name": "stdout",
     "output_type": "stream",
     "text": [
      "0.0\n"
     ]
    }
   ],
   "source": [
    "fahrenheit_to_celsius(32)"
   ]
  },
  {
   "cell_type": "code",
   "execution_count": 37,
   "metadata": {
    "colab": {
     "base_uri": "https://localhost:8080/",
     "height": 34
    },
    "id": "YuapEw_eLtCS",
    "outputId": "ffd046e4-5de1-4299-f31b-3d199acc8723"
   },
   "outputs": [
    {
     "name": "stdout",
     "output_type": "stream",
     "text": [
      "0.0\n"
     ]
    }
   ],
   "source": [
    "fahrenheit_to_celsius()\n"
   ]
  },
  {
   "cell_type": "markdown",
   "metadata": {
    "id": "YaS0_zve5JnK"
   },
   "source": [
    "## Exercise 11"
   ]
  },
  {
   "cell_type": "markdown",
   "metadata": {
    "id": "WmmwwKHm5JnL"
   },
   "source": [
    "Write a function that can compute the difference between two temperatures.  Assume the\n",
    "input temperatures are Fahrenheit and the output temperatures are Celsius. You should take the differences in Celsus, as shown in the examples below.   Your\n",
    "definition should **call** the `fahrenheit_to_celsius`  function you defined in the previous problem, so **don't** just copy and paste the code from there.  Assume the first argument is obligatory and then the second argument is optional.  When the second argument is omitted, just return the result of converting the first argument to Celsius.\n",
    "Show that you have checked your work, using all of the following examples.\n",
    "\n",
    "Here is how the function should work:\n",
    "\n",
    "```\n",
    "    In [ ]:  fahrenheit_to_celsius_diff(212,32)\n",
    "    Out [ ]: 100\n",
    "    In [ ]: fahrenheit_to_celsius_diff(-40, 212)\n",
    "    Out [ ]: -140.0\n",
    "    In [ ]:  fahrenheit_to_celsius_diff(212)\n",
    "    Out [ ]: 100\n",
    "    In [ ]:  fahrenheit_to_celsius_diff(212, 0)\n",
    "    Out [ ]: 117.78\n",
    "\n",
    "```\n"
   ]
  },
  {
   "cell_type": "markdown",
   "metadata": {
    "id": "4RyP8ndhKaN-"
   },
   "source": [
    "Some of you couuldnt get this problem right because of the way you solved the last one.\n",
    "\n",
    "This bug is illustrated in `buggy_fahrenheit_to_celsius_diff` below.  If you defined \n",
    "`fahrenheit_to_celsius` to print numerical values instead of returning them, you can't do\n",
    "arithmetic with the result of `fahrenheit_to_celsius`."
   ]
  },
  {
   "cell_type": "code",
   "execution_count": 89,
   "metadata": {
    "id": "UaSJlFB05JnM",
    "scrolled": true
   },
   "outputs": [],
   "source": [
    "def fahrenheit_to_celsius_diff(x, y = 32):\n",
    "    x_cel = fahrenheit_to_celsius(x)\n",
    "    y_cel = fahrenheit_to_celsius(y)\n",
    "    return x_cel - y_cel\n",
    " \n",
    "def bogus_fahrenheit_to_celsius(f = 32):\n",
    "    #return [your answer goes here\n",
    "    print((f - 32) * 5/9)\n",
    "    \n",
    "def buggy_fahrenheit_to_celsius_diff(x, y = 32):\n",
    "    x_cel = bogus_fahrenheit_to_celsius(x)\n",
    "    y_cel = bogus_fahrenheit_to_celsius(y)\n",
    "    return x_cel - y_cel"
   ]
  },
  {
   "cell_type": "code",
   "execution_count": 90,
   "metadata": {
    "colab": {
     "base_uri": "https://localhost:8080/",
     "height": 283
    },
    "id": "OMMzSOk6b4p4",
    "outputId": "f6f61f0c-fe10-4fb8-da23-efdd80d720bb"
   },
   "outputs": [
    {
     "name": "stdout",
     "output_type": "stream",
     "text": [
      "100.0\n",
      "0.0\n"
     ]
    },
    {
     "ename": "TypeError",
     "evalue": "unsupported operand type(s) for -: 'NoneType' and 'NoneType'",
     "output_type": "error",
     "traceback": [
      "\u001b[0;31m---------------------------------------------------------------------------\u001b[0m",
      "\u001b[0;31mTypeError\u001b[0m                                 Traceback (most recent call last)",
      "\u001b[0;32m<ipython-input-90-a284e673c456>\u001b[0m in \u001b[0;36m<module>\u001b[0;34m\u001b[0m\n\u001b[0;32m----> 1\u001b[0;31m \u001b[0mbuggy_fahrenheit_to_celsius_diff\u001b[0m\u001b[0;34m(\u001b[0m\u001b[0;36m212\u001b[0m\u001b[0;34m,\u001b[0m \u001b[0;36m32\u001b[0m\u001b[0;34m)\u001b[0m\u001b[0;34m\u001b[0m\u001b[0;34m\u001b[0m\u001b[0m\n\u001b[0m",
      "\u001b[0;32m<ipython-input-89-b4df638ca41f>\u001b[0m in \u001b[0;36mbuggy_fahrenheit_to_celsius_diff\u001b[0;34m(x, y)\u001b[0m\n\u001b[1;32m     11\u001b[0m     \u001b[0mx_cel\u001b[0m \u001b[0;34m=\u001b[0m \u001b[0mbogus_fahrenheit_to_celsius\u001b[0m\u001b[0;34m(\u001b[0m\u001b[0mx\u001b[0m\u001b[0;34m)\u001b[0m\u001b[0;34m\u001b[0m\u001b[0;34m\u001b[0m\u001b[0m\n\u001b[1;32m     12\u001b[0m     \u001b[0my_cel\u001b[0m \u001b[0;34m=\u001b[0m \u001b[0mbogus_fahrenheit_to_celsius\u001b[0m\u001b[0;34m(\u001b[0m\u001b[0my\u001b[0m\u001b[0;34m)\u001b[0m\u001b[0;34m\u001b[0m\u001b[0;34m\u001b[0m\u001b[0m\n\u001b[0;32m---> 13\u001b[0;31m     \u001b[0;32mreturn\u001b[0m \u001b[0mx_cel\u001b[0m \u001b[0;34m-\u001b[0m \u001b[0my_cel\u001b[0m\u001b[0;34m\u001b[0m\u001b[0;34m\u001b[0m\u001b[0m\n\u001b[0m",
      "\u001b[0;31mTypeError\u001b[0m: unsupported operand type(s) for -: 'NoneType' and 'NoneType'"
     ]
    }
   ],
   "source": [
    "buggy_fahrenheit_to_celsius_diff(212, 32)"
   ]
  },
  {
   "cell_type": "code",
   "execution_count": 42,
   "metadata": {
    "colab": {
     "base_uri": "https://localhost:8080/",
     "height": 34
    },
    "id": "3iJGDAjE5JnP",
    "outputId": "1257b8e6-386e-4e37-a055-96e5ce4143a3"
   },
   "outputs": [
    {
     "name": "stdout",
     "output_type": "stream",
     "text": [
      "100.0\n"
     ]
    }
   ],
   "source": [
    "fahrenheit_to_celsius_diff(212,32)"
   ]
  },
  {
   "cell_type": "code",
   "execution_count": null,
   "metadata": {
    "colab": {
     "base_uri": "https://localhost:8080/",
     "height": 34
    },
    "id": "-1iF2vKgNxml",
    "outputId": "6984cd9c-6322-4058-efa0-48238c8d78e6"
   },
   "outputs": [
    {
     "data": {
      "text/plain": [
       "-140.0"
      ]
     },
     "execution_count": 79,
     "metadata": {
      "tags": []
     },
     "output_type": "execute_result"
    }
   ],
   "source": [
    "fahrenheit_to_celsius_diff(-40, 212)\n"
   ]
  },
  {
   "cell_type": "code",
   "execution_count": null,
   "metadata": {
    "colab": {
     "base_uri": "https://localhost:8080/",
     "height": 34
    },
    "id": "JQ-3pCu4PCJ5",
    "outputId": "b2e513ba-2f7c-4607-ba07-cdd689c615d2"
   },
   "outputs": [
    {
     "data": {
      "text/plain": [
       "100.0"
      ]
     },
     "execution_count": 80,
     "metadata": {
      "tags": []
     },
     "output_type": "execute_result"
    }
   ],
   "source": [
    "fahrenheit_to_celsius_diff(212)\n"
   ]
  },
  {
   "cell_type": "code",
   "execution_count": null,
   "metadata": {
    "colab": {
     "base_uri": "https://localhost:8080/",
     "height": 34
    },
    "id": "U9UP9UK3POk0",
    "outputId": "c2027fd0-478b-4ef5-d7f4-e73b18e7b651"
   },
   "outputs": [
    {
     "data": {
      "text/plain": [
       "117.77777777777777"
      ]
     },
     "execution_count": 81,
     "metadata": {
      "tags": []
     },
     "output_type": "execute_result"
    }
   ],
   "source": [
    "fahrenheit_to_celsius_diff(212, 0)\n"
   ]
  },
  {
   "cell_type": "code",
   "execution_count": 43,
   "metadata": {},
   "outputs": [
    {
     "ename": "SyntaxError",
     "evalue": "'return' outside function (<ipython-input-43-11933160dcdf>, line 1)",
     "output_type": "error",
     "traceback": [
      "\u001b[0;36m  File \u001b[0;32m\"<ipython-input-43-11933160dcdf>\"\u001b[0;36m, line \u001b[0;32m1\u001b[0m\n\u001b[0;31m    return 3\u001b[0m\n\u001b[0m    ^\u001b[0m\n\u001b[0;31mSyntaxError\u001b[0m\u001b[0;31m:\u001b[0m 'return' outside function\n"
     ]
    }
   ],
   "source": []
  },
  {
   "cell_type": "markdown",
   "metadata": {
    "id": "ywbMJVvH5JnW"
   },
   "source": [
    "## Sudoku:  More list comprehension"
   ]
  },
  {
   "cell_type": "markdown",
   "metadata": {
    "id": "tLi8zV8-5JnX"
   },
   "source": [
    "This is the dreaded blank page problem I promised you at the beginning of the course.\n",
    "\n",
    "You are essentially beging asked to write a non-trivial function from scratch.  I try below to give you some hints, so try to read through the material.  It will be of help, especiaslly if you (a) are new to Sudoku; or (b) new to Python or to programming."
   ]
  },
  {
   "cell_type": "markdown",
   "metadata": {
    "id": "4ZJ_DpR-5JnY"
   },
   "source": [
    "For this exercise, execute the code below; we will use it, but only briefly discuss how it works. "
   ]
  },
  {
   "cell_type": "code",
   "execution_count": 91,
   "metadata": {
    "id": "caNOOswG5JnY"
   },
   "outputs": [],
   "source": [
    "def cross(A, B):\n",
    "    \"Cross product of elements in A and elements in B.\"\n",
    "    return [a+b for a in A for b in B]\n",
    "\n",
    "\n",
    "digits   = '123456789'\n",
    "rows     = 'ABCDEFGHI'\n",
    "cols     = digits\n",
    "squares  = cross(rows, cols)\n",
    "unitlist = ([cross(rows, c) for c in cols] +\n",
    "            [cross(r, cols) for r in rows] +\n",
    "            [cross(rs, cs) for rs in ('ABC','DEF','GHI') for cs in ('123','456','789')])\n",
    "\n",
    "# Assign to each square s A set of sets of squares\n",
    "units = dict((s, [u for u in unitlist if s in u])\n",
    "             for s in squares)\n",
    "## Assign to each square s a set of squares, namely those that cant have the same value as s.\n",
    "peers = dict((s, set(sum(units[s],[]))-set([s]))\n",
    "             for s in squares)\n",
    "\n",
    "# Turn a puzzle string into a dictionary.\n",
    "def grid_values(grid):\n",
    "    \"Convert grid into a dict of {square: char} with '0' or '.' for empties.\"\n",
    "    chars = [c for c in grid if c in digits or c in '0.']\n",
    "    assert len(chars) == 81\n",
    "    return dict(list(zip(squares, chars)))\n",
    "\n",
    "def simple_grid_values (grid):\n",
    "    \"Convert grid into a dict of {square: char} with no restriction on contents\"\n",
    "    assert len(grid) == 81\n",
    "    return dict(list(zip(squares, grid)))\n",
    "  \n",
    "################ Display as 2-D grid ################\n",
    "\n",
    "def display(values):\n",
    "    \"\"\"Display these values as a 2-D grid. \n",
    "    \n",
    "    Repeat a string `S` `n` times by using `S * 3`.\n",
    "    \"\"\"\n",
    "    # This loop: convert 0's to something less visually prominent (`.`)\n",
    "    for s in squares:\n",
    "        if values[s] == '0':\n",
    "            values[s] = '.'\n",
    "    # Choos the width of a cell in the grid by finding the widest square name\n",
    "    width = 1+max(len(values[s]) for s in squares)\n",
    "    # Cook up a filler line ('-'s interrupted by '+'s) to be used to mark boxes\n",
    "    line = '+'.join(['-'*(width*3)]*3)\n",
    "    for r in rows:\n",
    "        print(''.join(values[r+c].center(width)+('|' if c in '36' else '')\n",
    "                      for c in cols))\n",
    "        # Every third row, print filler line following row contents.\n",
    "        if r in 'CF': print(line)\n",
    "    print()\n",
    "\n",
    "##############################################################################################\n",
    "#  S o m e    D a t a    t o    P r a c t i c e     O n\n",
    "##############################################################################################\n",
    "grid1  = '003020600900305001001806400008102900700000008006708200002609500800203009005010300'\n",
    "grid1_soln = '483921657967345821251876493548132976729564138136798245372689514814253769695417382'\n",
    "grid2  = '003020600900305001001806400008102900700000008006708200002689500800203009005010300'\n",
    "# Some illegal grids (they break the rules of Sudoku)\n",
    "grid3  = '003020600900305001001806400008102900700000008006708200002609500800203089005010300'\n",
    "grid4  = '003020609900305001001806400008102900700000008006708200002609500800203009005010300'\n",
    "grid5  = '003020600900305061001806400008102900700000008006708200002609500800203009005010300'\n",
    "g5_peers = peers['G5']\n",
    "sgv = simple_grid_values(squares)\n",
    "for s in g5_peers:\n",
    "    sgv[s] = '__'"
   ]
  },
  {
   "cell_type": "markdown",
   "metadata": {
    "id": "EX1jZB_h5Jnc"
   },
   "source": [
    "First some preliminaries, introducing the idea of a sudoku puzzle, for those who've never tried one.  According to Norvig:\n",
    "\n",
    ">A Sudoku puzzle is a grid of 81 squares; the majority of enthusiasts label the columns 1-9, the rows A-I [as in the grid below].\n",
    "\n",
    "The grid below introduces **names** for the 81 squares in a grid."
   ]
  },
  {
   "cell_type": "code",
   "execution_count": null,
   "metadata": {
    "colab": {
     "base_uri": "https://localhost:8080/",
     "height": 221
    },
    "id": "RlkPmhKS5Jnd",
    "outputId": "8430a482-51fd-41db-d064-b2f9ffc0533c",
    "scrolled": false
   },
   "outputs": [
    {
     "name": "stdout",
     "output_type": "stream",
     "text": [
      " A1 A2 A3| A4 A5 A6| A7 A8 A9\n",
      " B1 B2 B3| B4 B5 B6| B7 B8 B9\n",
      " C1 C2 C3| C4 C5 C6| C7 C8 C9\n",
      "---------+---------+---------\n",
      " D1 D2 D3| D4 D5 D6| D7 D8 D9\n",
      " E1 E2 E3| E4 E5 E6| E7 E8 E9\n",
      " F1 F2 F3| F4 F5 F6| F7 F8 F9\n",
      "---------+---------+---------\n",
      " G1 G2 G3| G4 G5 G6| G7 G8 G9\n",
      " H1 H2 H3| H4 H5 H6| H7 H8 H9\n",
      " I1 I2 I3| I4 I5 I6| I7 I8 I9\n",
      "\n"
     ]
    }
   ],
   "source": [
    "display(simple_grid_values(squares))"
   ]
  },
  {
   "cell_type": "markdown",
   "metadata": {
    "id": "BzhVshG25Jng"
   },
   "source": [
    "Also according to Norvig\n",
    ">A collection of nine squares (column, row, or box) is called a **unit** and the squares that share a unit the **peers**. A puzzle leaves some squares blank and fills others with digits, and the whole idea is: A puzzle is solved if the squares in each unit are filled with a permutation of the digits 1 to 9.\n",
    "\n",
    "Thus in each unit of a solved puzzle, all the digits must appear, and no duplications are allowed. The next square shows a puzzle, and below that its unique solution."
   ]
  },
  {
   "cell_type": "code",
   "execution_count": null,
   "metadata": {
    "colab": {
     "base_uri": "https://localhost:8080/",
     "height": 459
    },
    "id": "DiOnkWAx5Jnh",
    "outputId": "1064eecc-1289-4624-f2a7-b1570c6702c2"
   },
   "outputs": [
    {
     "name": "stdout",
     "output_type": "stream",
     "text": [
      ". . 3 |. 2 . |6 . . \n",
      "9 . . |3 . 5 |. . 1 \n",
      ". . 1 |8 . 6 |4 . . \n",
      "------+------+------\n",
      ". . 8 |1 . 2 |9 . . \n",
      "7 . . |. . . |. . 8 \n",
      ". . 6 |7 . 8 |2 . . \n",
      "------+------+------\n",
      ". . 2 |6 . 9 |5 . . \n",
      "8 . . |2 . 3 |. . 9 \n",
      ". . 5 |. 1 . |3 . . \n",
      "\n",
      "     ... => ...\n",
      "\n",
      "4 8 3 |9 2 1 |6 5 7 \n",
      "9 6 7 |3 4 5 |8 2 1 \n",
      "2 5 1 |8 7 6 |4 9 3 \n",
      "------+------+------\n",
      "5 4 8 |1 3 2 |9 7 6 \n",
      "7 2 9 |5 6 4 |1 3 8 \n",
      "1 3 6 |7 9 8 |2 4 5 \n",
      "------+------+------\n",
      "3 7 2 |6 8 9 |5 1 4 \n",
      "8 1 4 |2 5 3 |7 6 9 \n",
      "6 9 5 |4 1 7 |3 8 2 \n",
      "\n"
     ]
    }
   ],
   "source": [
    "display(grid_values(grid1))\n",
    "print('     ... => ...')\n",
    "print()\n",
    "display(grid_values(  grid1_soln))"
   ]
  },
  {
   "cell_type": "markdown",
   "metadata": {
    "id": "600cn9yH5Jno"
   },
   "source": [
    "According to Norvig's terminology, the *peers* of a square are the squares in the same column, or the same row, or the same box.  The peers of `G5` are show below as unfilled boxes:"
   ]
  },
  {
   "cell_type": "code",
   "execution_count": null,
   "metadata": {
    "colab": {
     "base_uri": "https://localhost:8080/",
     "height": 221
    },
    "id": "gFEH2-8J5Jno",
    "outputId": "2d6ba9aa-16fa-4259-87f9-d7ddd576fc19"
   },
   "outputs": [
    {
     "name": "stdout",
     "output_type": "stream",
     "text": [
      " A1 A2 A3| A4 __ A6| A7 A8 A9\n",
      " B1 B2 B3| B4 __ B6| B7 B8 B9\n",
      " C1 C2 C3| C4 __ C6| C7 C8 C9\n",
      "---------+---------+---------\n",
      " D1 D2 D3| D4 __ D6| D7 D8 D9\n",
      " E1 E2 E3| E4 __ E6| E7 E8 E9\n",
      " F1 F2 F3| F4 __ F6| F7 F8 F9\n",
      "---------+---------+---------\n",
      " __ __ __| __ G5 __| __ __ __\n",
      " H1 H2 H3| __ __ __| H7 H8 H9\n",
      " I1 I2 I3| __ __ __| I7 I8 I9\n",
      "\n"
     ]
    }
   ],
   "source": [
    "display(sgv)"
   ]
  },
  {
   "cell_type": "markdown",
   "metadata": {
    "id": "SEEuOE_t5Jnu"
   },
   "source": [
    "As the example shows, a square S has 20 peers.  There are \n",
    "16 from S's row and column;  in principle there are 8 squares from the 9-square box S is in but 4 of those already count as peers in virtue of being in the same row or column as S.  So 20 distinct peers."
   ]
  },
  {
   "cell_type": "markdown",
   "metadata": {
    "id": "62IQWsE45Jnu"
   },
   "source": [
    "The cell below contains a small extract of the code used in Peter Norvig's sudoku solver, which is discussed in the section of the online book devoted to list comprehensions.  After the code is executed the name `squares` contains the names of the 81 legal squares in a Sudoku game.  "
   ]
  },
  {
   "cell_type": "markdown",
   "metadata": {
    "id": "cZlhz7FS5Jnv"
   },
   "source": [
    "The code below is a simplified subset of the code defined above.  This code is redundant with the code above,  THe reason it;'s here is that it's slightly simpler than that code and understanding this part of the code will help you complete this exercise.  You should make sure you understand how it works."
   ]
  },
  {
   "cell_type": "code",
   "execution_count": 15,
   "metadata": {
    "id": "m58A_Kd-5Jnw"
   },
   "outputs": [],
   "source": [
    "def cross(A, B):\n",
    "    \"\"\"\n",
    "    Cross product of elements in sequence A and elements in sequence B. \n",
    "    When a and b are strings, we just concatenate them.\n",
    "    \"\"\"\n",
    "    return [a+b for a in A for b in B]\n",
    "\n",
    "\n",
    "digits   = '123456789'\n",
    "rows     = 'ABCDEFGHI'\n",
    "cols     = digits\n",
    "squares  = cross(rows, cols)\n",
    "unitlist = ([cross(rows, c) for c in cols] +\n",
    "            [cross(r, cols) for r in rows] +\n",
    "            [cross(rs, cs) for rs in ('ABC','DEF','GHI') for cs in ('123','456','789')])\n",
    "\n",
    "# Assign to each square s A set of sets of squares\n",
    "units = dict((s, [u for u in unitlist if s in u])\n",
    "             for s in squares)\n",
    "## Assign to each square s a set of squares, namely those that cant have the same value as s.\n",
    "peers = dict((s, set(sum(units[s],[]))-set([s]))\n",
    "             for s in squares)\n",
    "\n",
    "\n",
    "def grid_values(grid):\n",
    "    \"Convert grid into a dict of {square: char} with '0' or '.' for empties.\"\n",
    "    chars = [c for c in grid if c in digits or c in '0.']\n",
    "    assert len(chars) == 81\n",
    "    return dict(list(zip(squares, chars)))\n",
    "\n",
    "digits   = '123456789'\n",
    "rows     = 'ABCDEFGHI'\n",
    "cols     = digits\n",
    "squares  = cross(rows, cols)\n",
    "unitlist = ([cross(rows, c) for c in cols] +\n",
    "            [cross(r, cols) for r in rows] +\n",
    "            [cross(rs, cs) for rs in ('ABC','DEF','GHI') for cs in ('123','456','789')])\n",
    "\n",
    "# Assign to each square s A set of sets of squares\n",
    "units = dict((s, [u for u in unitlist if s in u])\n",
    "             for s in squares)\n",
    "## Assign to each square s a set of squares, namely those that cant have the same value as s.\n",
    "peers = dict((s, set(sum(units[s],[]))-set([s]))\n",
    "             for s in squares)\n",
    "\n",
    "##############################################################################################\n",
    "#  S o m e    D a t a    t o    P r a c t i c e     O n\n",
    "##############################################################################################\n",
    "grid1  = '003020600900305001001806400008102900700000008006708200002609500800203009005010300'\n",
    "grid1_soln = '483921657967345821251876493548132976729564138136798245372689514814253769695417382'\n",
    "grid2  = '003020600900305001001806400008102900700000008006708200002689500800203009005010300'\n",
    "# Some illegal grids (they break the rules of Sudoku)\n",
    "grid3  = '003020600900305001001806400008102900700000008006708200002609500800203089005010300'\n",
    "grid4  = '003020609900305001001806400008102900700000008006708200002609500800203009005010300'\n",
    "grid5  = '003020600900305061001806400008102900700000008006708200002609500800203009005010300'"
   ]
  },
  {
   "cell_type": "markdown",
   "metadata": {
    "id": "objTyigE5Jnz"
   },
   "source": [
    "The name `units` contains a dictionary, which contains square names as keys.  For any square `s`, `units[s]` is the three groups of squares that contain `s`'s peers.\n",
    "So `units['H8']` contains column 8, row H, and the box in the lower right hand part of the puzzle to which square `H8` belongs:"
   ]
  },
  {
   "cell_type": "code",
   "execution_count": null,
   "metadata": {
    "colab": {
     "base_uri": "https://localhost:8080/",
     "height": 68
    },
    "id": "HxP0h70g5Jn0",
    "outputId": "3dbb1b22-0724-4355-c613-46054aae88d8"
   },
   "outputs": [
    {
     "data": {
      "text/plain": [
       "[['A8', 'B8', 'C8', 'D8', 'E8', 'F8', 'G8', 'H8', 'I8'],\n",
       " ['H1', 'H2', 'H3', 'H4', 'H5', 'H6', 'H7', 'H8', 'H9'],\n",
       " ['G7', 'G8', 'G9', 'H7', 'H8', 'H9', 'I7', 'I8', 'I9']]"
      ]
     },
     "execution_count": 34,
     "metadata": {
      "tags": []
     },
     "output_type": "execute_result"
    }
   ],
   "source": [
    "units['H8']"
   ]
  },
  {
   "cell_type": "markdown",
   "metadata": {
    "id": "ZHfvMJKq5Jn4"
   },
   "source": [
    "`peers` is a dictionary which is a little more convenient to use for this assignment. For each square `S`, `peers[S]` is the set of squares that cannot contain the same value as `S`.\n",
    "For example: "
   ]
  },
  {
   "cell_type": "code",
   "execution_count": null,
   "metadata": {
    "colab": {
     "base_uri": "https://localhost:8080/",
     "height": 357
    },
    "id": "GDrF5Cue5Jn5",
    "outputId": "80e4fc2c-beb4-4f10-faea-609090c8565c",
    "scrolled": true
   },
   "outputs": [
    {
     "data": {
      "text/plain": [
       "{'A8',\n",
       " 'B8',\n",
       " 'C8',\n",
       " 'D8',\n",
       " 'E8',\n",
       " 'F8',\n",
       " 'G7',\n",
       " 'G8',\n",
       " 'G9',\n",
       " 'H1',\n",
       " 'H2',\n",
       " 'H3',\n",
       " 'H4',\n",
       " 'H5',\n",
       " 'H6',\n",
       " 'H7',\n",
       " 'H9',\n",
       " 'I7',\n",
       " 'I8',\n",
       " 'I9'}"
      ]
     },
     "execution_count": 35,
     "metadata": {
      "tags": []
     },
     "output_type": "execute_result"
    }
   ],
   "source": [
    "peers['H8']"
   ]
  },
  {
   "cell_type": "markdown",
   "metadata": {
    "id": "pD7HB_fU5Jn9"
   },
   "source": [
    "`peers[\"H8\"]` is computed just by unioning together the three sets of squares in `units[H8]` and removing `H8`.  We use sets to remove duplicates, so `peers[\"H8\"]` contains exactly 20 squares."
   ]
  },
  {
   "cell_type": "markdown",
   "metadata": {
    "id": "ybmeuH3M5Jn9"
   },
   "source": [
    "In the first code cell in this section, we defined a sudoku puzzle grid we called `grid1`.  `grid1` is a legal grid, as we can see by displaying  it."
   ]
  },
  {
   "cell_type": "code",
   "execution_count": null,
   "metadata": {
    "colab": {
     "base_uri": "https://localhost:8080/",
     "height": 221
    },
    "id": "yZtdLJa25Jn-",
    "outputId": "e7b640e2-95ae-47ea-bf8b-079309bbb04f",
    "scrolled": true
   },
   "outputs": [
    {
     "name": "stdout",
     "output_type": "stream",
     "text": [
      ". . 3 |. 2 . |6 . . \n",
      "9 . . |3 . 5 |. . 1 \n",
      ". . 1 |8 . 6 |4 . . \n",
      "------+------+------\n",
      ". . 8 |1 . 2 |9 . . \n",
      "7 . . |. . . |. . 8 \n",
      ". . 6 |7 . 8 |2 . . \n",
      "------+------+------\n",
      ". . 2 |6 . 9 |5 . . \n",
      "8 . . |2 . 3 |. . 9 \n",
      ". . 5 |. 1 . |3 . . \n",
      "\n"
     ]
    }
   ],
   "source": [
    "display(grid_values(grid1))"
   ]
  },
  {
   "cell_type": "markdown",
   "metadata": {
    "id": "XNsT8jVK5JoB"
   },
   "source": [
    "It will be useful to keep in mind something the `display` functions does.  `grid1` is s string.  `grid_values` converts that string into a dictionary, and `display` only works on the dictionary representation.  In solving this problem, you will find it convenient to work with the dictionary representation of a puzzle, just as the `display` function does."
   ]
  },
  {
   "cell_type": "code",
   "execution_count": null,
   "metadata": {
    "colab": {
     "base_uri": "https://localhost:8080/",
     "height": 71
    },
    "id": "cu_yD40D5JoC",
    "outputId": "d915c493-acd0-4d1e-bd2f-aaa9a33fa274"
   },
   "outputs": [
    {
     "name": "stdout",
     "output_type": "stream",
     "text": [
      "003020600900305001001806400008102900700000008006708200002609500800203009005010300\n",
      "{'A1': '0', 'A2': '0', 'A3': '3', 'A4': '0', 'A5': '2', 'A6': '0', 'A7': '6', 'A8': '0', 'A9': '0', 'B1': '9', 'B2': '0', 'B3': '0', 'B4': '3', 'B5': '0', 'B6': '5', 'B7': '0', 'B8': '0', 'B9': '1', 'C1': '0', 'C2': '0', 'C3': '1', 'C4': '8', 'C5': '0', 'C6': '6', 'C7': '4', 'C8': '0', 'C9': '0', 'D1': '0', 'D2': '0', 'D3': '8', 'D4': '1', 'D5': '0', 'D6': '2', 'D7': '9', 'D8': '0', 'D9': '0', 'E1': '7', 'E2': '0', 'E3': '0', 'E4': '0', 'E5': '0', 'E6': '0', 'E7': '0', 'E8': '0', 'E9': '8', 'F1': '0', 'F2': '0', 'F3': '6', 'F4': '7', 'F5': '0', 'F6': '8', 'F7': '2', 'F8': '0', 'F9': '0', 'G1': '0', 'G2': '0', 'G3': '2', 'G4': '6', 'G5': '0', 'G6': '9', 'G7': '5', 'G8': '0', 'G9': '0', 'H1': '8', 'H2': '0', 'H3': '0', 'H4': '2', 'H5': '0', 'H6': '3', 'H7': '0', 'H8': '0', 'H9': '9', 'I1': '0', 'I2': '0', 'I3': '5', 'I4': '0', 'I5': '1', 'I6': '0', 'I7': '3', 'I8': '0', 'I9': '0'}\n"
     ]
    }
   ],
   "source": [
    "print(grid1)\n",
    "print(grid_values(grid1))"
   ]
  },
  {
   "cell_type": "markdown",
   "metadata": {
    "id": "ykBcqWMd5JoJ"
   },
   "source": [
    "`grid2` Is the same as `grid1` but we have added an `8` to row `G`. `grid2` is also a legal grid."
   ]
  },
  {
   "cell_type": "code",
   "execution_count": null,
   "metadata": {
    "colab": {
     "base_uri": "https://localhost:8080/",
     "height": 221
    },
    "id": "f2Slc2xh5JoK",
    "outputId": "534e84df-d841-4057-ef9a-5d986eb959d3"
   },
   "outputs": [
    {
     "name": "stdout",
     "output_type": "stream",
     "text": [
      ". . 3 |. 2 . |6 . . \n",
      "9 . . |3 . 5 |. . 1 \n",
      ". . 1 |8 . 6 |4 . . \n",
      "------+------+------\n",
      ". . 8 |1 . 2 |9 . . \n",
      "7 . . |. . . |. . 8 \n",
      ". . 6 |7 . 8 |2 . . \n",
      "------+------+------\n",
      ". . 2 |6 8 9 |5 . . \n",
      "8 . . |2 . 3 |. . 9 \n",
      ". . 5 |. 1 . |3 . . \n",
      "\n"
     ]
    }
   ],
   "source": [
    "display(grid_values(grid2))"
   ]
  },
  {
   "cell_type": "markdown",
   "metadata": {
    "id": "2T2LkFpN5Joi"
   },
   "source": [
    "However `grid3` is illegal.  There are 2 8's in row `H`."
   ]
  },
  {
   "cell_type": "code",
   "execution_count": null,
   "metadata": {
    "colab": {
     "base_uri": "https://localhost:8080/",
     "height": 221
    },
    "id": "ege3nXd55Jor",
    "outputId": "b1371934-590d-406d-e6da-e928ca1a5f8a",
    "scrolled": false
   },
   "outputs": [
    {
     "name": "stdout",
     "output_type": "stream",
     "text": [
      ". . 3 |. 2 . |6 . . \n",
      "9 . . |3 . 5 |. . 1 \n",
      ". . 1 |8 . 6 |4 . . \n",
      "------+------+------\n",
      ". . 8 |1 . 2 |9 . . \n",
      "7 . . |. . . |. . 8 \n",
      ". . 6 |7 . 8 |2 . . \n",
      "------+------+------\n",
      ". . 2 |6 . 9 |5 . . \n",
      "8 . . |2 . 3 |. 8 9 \n",
      ". . 5 |. 1 . |3 . . \n",
      "\n"
     ]
    }
   ],
   "source": [
    "display(grid_values(grid3))"
   ]
  },
  {
   "cell_type": "markdown",
   "metadata": {
    "id": "z6ZqcVGa5Jo0"
   },
   "source": [
    "`grid4` is also illegal.  There are 2 9's in the last column."
   ]
  },
  {
   "cell_type": "code",
   "execution_count": null,
   "metadata": {
    "colab": {
     "base_uri": "https://localhost:8080/",
     "height": 221
    },
    "id": "yMzhGEpB5Jo1",
    "outputId": "95194e37-7ca2-4aec-e69f-2fb7b42518e2",
    "scrolled": true
   },
   "outputs": [
    {
     "name": "stdout",
     "output_type": "stream",
     "text": [
      ". . 3 |. 2 . |6 . 9 \n",
      "9 . . |3 . 5 |. . 1 \n",
      ". . 1 |8 . 6 |4 . . \n",
      "------+------+------\n",
      ". . 8 |1 . 2 |9 . . \n",
      "7 . . |. . . |. . 8 \n",
      ". . 6 |7 . 8 |2 . . \n",
      "------+------+------\n",
      ". . 2 |6 . 9 |5 . . \n",
      "8 . . |2 . 3 |. . 9 \n",
      ". . 5 |. 1 . |3 . . \n",
      "\n"
     ]
    }
   ],
   "source": [
    "display(grid_values(grid4))"
   ]
  },
  {
   "cell_type": "markdown",
   "metadata": {
    "id": "OeyqQE5j5Jo6"
   },
   "source": [
    "`grid5` is illegal because there are two 6's in the upper right hand box."
   ]
  },
  {
   "cell_type": "code",
   "execution_count": null,
   "metadata": {
    "colab": {
     "base_uri": "https://localhost:8080/",
     "height": 221
    },
    "id": "RmU3tA2x5Jo7",
    "outputId": "dd913523-8936-40b7-9db2-4142b7325a28"
   },
   "outputs": [
    {
     "name": "stdout",
     "output_type": "stream",
     "text": [
      ". . 3 |. 2 . |6 . . \n",
      "9 . . |3 . 5 |. 6 1 \n",
      ". . 1 |8 . 6 |4 . . \n",
      "------+------+------\n",
      ". . 8 |1 . 2 |9 . . \n",
      "7 . . |. . . |. . 8 \n",
      ". . 6 |7 . 8 |2 . . \n",
      "------+------+------\n",
      ". . 2 |6 . 9 |5 . . \n",
      "8 . . |2 . 3 |. . 9 \n",
      ". . 5 |. 1 . |3 . . \n",
      "\n"
     ]
    }
   ],
   "source": [
    "display(grid_values(grid5))"
   ]
  },
  {
   "cell_type": "markdown",
   "metadata": {
    "id": "4JzcceZv5JpA"
   },
   "source": [
    "Your assignment is to write a function that will print out `Invalid` if the grid that is\n",
    "passed in as an argument is illegal and will print out `Valid` if the grid is legal.  It should work as follows:\n",
    "\n",
    "```\n",
    "test(grid_values(grid1))\n",
    "test(grid_values(grid2))\n",
    "test(grid_values(grid3))\n",
    "test(grid_values(grid4))\n",
    "test(grid_values(grid5))\n",
    "```\n",
    "\n",
    "When you finish your code and execute the lines above, the following should print out:\n",
    "\n",
    "```\n",
    "   Valid!\n",
    "   Valid!\n",
    "   Invalid!\n",
    "   Invalid!\n",
    "   Invalid!\n",
    "```"
   ]
  },
  {
   "cell_type": "markdown",
   "metadata": {
    "collapsed": true,
    "id": "Y1FGpw6U5JpC"
   },
   "source": [
    "### Some hints"
   ]
  },
  {
   "cell_type": "markdown",
   "metadata": {
    "id": "ePs9QKv65JpD"
   },
   "source": [
    "1.  The way to test if a grid is valid is to check each unit in `unitlist` to see if \n",
    "    any of the squares in that unit have duplicates.  There are 27 units to check,\n",
    "    9 rows, 9 columns, and 9 boxes.  \n",
    "    \n",
    "    So your code will begin\n",
    "        \n",
    "    ```\n",
    "    def test(grid):\n",
    "        for u in unitlist:\n",
    "            [your code checking if the filled squares in u contain any duplicates]\n",
    "    ```\n",
    " "
   ]
  },
  {
   "cell_type": "markdown",
   "metadata": {
    "id": "c7aKIO1O5JpE"
   },
   "source": [
    "                 \n",
    "2.  Keep in mind that `grid` is a dictionary whose keys are names of\n",
    "    squares (strings) and whose values are the numbers filling the squares.  You will be\n",
    "    checking on the equality of **values**.  The way to  get the value of a square `s` is\n",
    "    `grid[s]`.  If your code never mentions `grid`, there's something seriously wrong.\n",
    " \n",
    "3.  So now your code begins:\n",
    "    \n",
    "       ```\n",
    "        def test(grid):\n",
    "               for u in units:\n",
    "                    vals = [your code for getting all the VALUES of the FILLED squares in u]\n",
    "                    if [your test that vals contains any duplicates]:\n",
    "                        [your code for what to do.  You've just discovered the grid is invalid!]\n",
    "       ```\n",
    "    The reason it says the values of the FILLED squares is that you need to ignore blank squares.  \n",
    "    So in collecting the values of the squares in `u` (line beginning `vals =`) you need to filter out the \n",
    "    blank squares. You can assume a blank square contains the **string** `\"0\"`, so your test is that square is filled is that its value is **not** equal to `\"0\"`.  The Python test for checking that `X` is not  equal to `Y` is\n",
    "    \n",
    "        ```\n",
    "        X != Y\n",
    "        ```\n",
    "        \n",
    "    This evaluates to `True` when `X` and `Y` are not equal.  In sum, the line beginning `vals =` can be\n",
    "    a simple list comprehension which loops through the squares of `u` collecting values and filtering out empty squares.\n",
    "    \n",
    "    Checking that a list of things contains no duplicates can send you down rabbitholes. That's not\n",
    "    really the purpose of this exercise.  As a hint to one way to do this,  consider that `set(L)`\n",
    "    will remove the duplicates of `L`.  Now use that fact to write a line of Python that tests \n",
    "    whether `L` has duplicates.\n",
    "\n",
    "4.  The way to print 'Invalid!' only once once you have found a bad square\n",
    "    is to print it and stop executing the function at once after you print. That can be \n",
    "    done as follows:\n",
    "    \n",
    "       ```\n",
    "       print (\"Invalid!\")\n",
    "       return\n",
    "       ```\n",
    "5.  You also need to print(\"Valid!\") when you are finally sure the grid is valid.  You are being\n",
    "    left to figure how to strategically place that `print` command so that it only executes\n",
    "    when appropriate."
   ]
  },
  {
   "cell_type": "markdown",
   "metadata": {
    "id": "dKO28D4A5JpF"
   },
   "source": [
    "Retrieving the value of a square:"
   ]
  },
  {
   "cell_type": "code",
   "execution_count": null,
   "metadata": {
    "colab": {
     "base_uri": "https://localhost:8080/",
     "height": 35
    },
    "id": "jvlBfqja5JpG",
    "outputId": "54d9a7a0-855c-4e8a-e4b7-369860776ac0"
   },
   "outputs": [
    {
     "data": {
      "application/vnd.google.colaboratory.intrinsic+json": {
       "type": "string"
      },
      "text/plain": [
       "'3'"
      ]
     },
     "execution_count": 14,
     "metadata": {
      "tags": []
     },
     "output_type": "execute_result"
    }
   ],
   "source": [
    "pdict = grid_values(grid5)\n",
    "pdict['A3']"
   ]
  },
  {
   "cell_type": "markdown",
   "metadata": {
    "id": "qvKWxygg5JpL"
   },
   "source": [
    "Retrieving the value of an empty square:"
   ]
  },
  {
   "cell_type": "code",
   "execution_count": null,
   "metadata": {
    "colab": {
     "base_uri": "https://localhost:8080/",
     "height": 35
    },
    "id": "12N8JQ745JpM",
    "outputId": "06bc95f8-7d15-41d8-c569-551d867bfaea"
   },
   "outputs": [
    {
     "data": {
      "application/vnd.google.colaboratory.intrinsic+json": {
       "type": "string"
      },
      "text/plain": [
       "'0'"
      ]
     },
     "execution_count": 15,
     "metadata": {
      "tags": []
     },
     "output_type": "execute_result"
    }
   ],
   "source": [
    "pdict['A1']"
   ]
  },
  {
   "cell_type": "code",
   "execution_count": null,
   "metadata": {
    "id": "rvoaa948Cd1Q"
   },
   "outputs": [],
   "source": [
    "grid_dict1 = grid_values(grid1)\n",
    "grid_dict2 = grid_values(grid2)\n",
    "grid_dict3 = grid_values(grid3)\n",
    "grid_dict4 = grid_values(grid4)\n",
    "grid_dict5 = grid_values(grid5)"
   ]
  },
  {
   "cell_type": "markdown",
   "metadata": {
    "id": "I53anCs3KaOw"
   },
   "source": [
    "Complexity of the two solutions"
   ]
  },
  {
   "cell_type": "code",
   "execution_count": 93,
   "metadata": {},
   "outputs": [
    {
     "data": {
      "text/plain": [
       "['A1', 'B1', 'C1', 'D1', 'E1', 'F1', 'G1', 'H1', 'I1']"
      ]
     },
     "execution_count": 93,
     "metadata": {},
     "output_type": "execute_result"
    }
   ],
   "source": [
    "unitlist[0]"
   ]
  },
  {
   "cell_type": "code",
   "execution_count": 65,
   "metadata": {
    "colab": {
     "base_uri": "https://localhost:8080/"
    },
    "id": "R9ol6bRzKaOw",
    "outputId": "48223672-5df6-44b7-cbc2-0973e6befad6"
   },
   "outputs": [
    {
     "data": {
      "text/plain": [
       "(2187, 1620)"
      ]
     },
     "execution_count": 65,
     "metadata": {
      "tags": []
     },
     "output_type": "execute_result"
    }
   ],
   "source": [
    "3**7, 81 * 20"
   ]
  },
  {
   "cell_type": "code",
   "execution_count": 94,
   "metadata": {
    "id": "oB5wxqsP6kzN"
   },
   "outputs": [],
   "source": [
    "# loop through each unit.  check for duplicates.  27 * 81 = 3^7\n",
    "def test(grid):\n",
    "    for u in unitlist:\n",
    "        # vals = [your code for getting all the VALUES of the FILLED squares in u]\n",
    "        vals = [grid[s] for s in u if grid[s] != '0']\n",
    "        # [your test that vals contains any duplicates]:\n",
    "        if len(vals) != len(set(vals)):\n",
    "            # [your code for what to do.  You've just discovered the grid is invalid!]\n",
    "            print(\"Invalid!\")\n",
    "            return\n",
    "    print(\"Valid!\")"
   ]
  },
  {
   "cell_type": "markdown",
   "metadata": {
    "id": "XxjZncOJ5JpT"
   },
   "source": [
    "Here is the cell to use to test your code.  Note:  It's just as important that your function prints\n",
    "'Valid!' for valid grids as it is that it prints 'Invalid!' for invalid ones."
   ]
  },
  {
   "cell_type": "code",
   "execution_count": 95,
   "metadata": {
    "colab": {
     "base_uri": "https://localhost:8080/"
    },
    "id": "K-SDWr7B5JpU",
    "outputId": "0e314b98-2236-44a0-b0e7-b99865937f56"
   },
   "outputs": [
    {
     "name": "stdout",
     "output_type": "stream",
     "text": [
      "Valid!\n",
      "Valid!\n",
      "Invalid!\n",
      "Invalid!\n",
      "Invalid!\n"
     ]
    }
   ],
   "source": [
    "pdict1 = grid_values(grid1)  # Valid\n",
    "pdict2 = grid_values(grid2)  # Valid\n",
    "pdict3 = grid_values(grid3)  # Invalid\n",
    "pdict4 = grid_values(grid4)  # Invalid\n",
    "pdict5 = grid_values(grid5)  # Invalid\n",
    "test(pdict1)\n",
    "test(pdict2)\n",
    "test(pdict3)\n",
    "test(pdict4)\n",
    "test(pdict5)"
   ]
  },
  {
   "cell_type": "markdown",
   "metadata": {
    "id": "FN5Sk1p-KaO1"
   },
   "source": [
    "Alterbatove solution (loop through each square, check peers) [81 * 20]"
   ]
  },
  {
   "cell_type": "code",
   "execution_count": 63,
   "metadata": {
    "id": "RnvC1nf95Jpc"
   },
   "outputs": [],
   "source": [
    "def test(grid):\n",
    "  for s in squares:\n",
    "    val = grid[s]\n",
    "    peer_values = [grid[p] for p in peers[s] if grid[p] != '0']\n",
    "    if val != '0' and val in peer_values:\n",
    "      print (\"Invalid!\")\n",
    "      return\n",
    "  \n",
    "  print(\"Valid!\")\n",
    "  return"
   ]
  },
  {
   "cell_type": "code",
   "execution_count": null,
   "metadata": {},
   "outputs": [],
   "source": []
  }
 ],
 "metadata": {
  "colab": {
   "collapsed_sections": [
    "PAFLrNx55Jlr",
    "dHGSoiwM5Jl3",
    "3IwwoYaY5JmC",
    "A5j1X02F5JmI",
    "BPADmAih5JmR",
    "HvS68zv_5Jmd",
    "ax0WCrtR5Jmk",
    "cSN8h_5e5Jmr",
    "gdbBklLQ5Jm2",
    "8iQlqFnz5Jm8",
    "bQFaTP9t5JnC",
    "YaS0_zve5JnK"
   ],
   "name": "Copy of AbigailCallahan_functions_assignment.ipynb",
   "provenance": []
  },
  "kernelspec": {
   "display_name": "Python 3",
   "language": "python",
   "name": "python3"
  },
  "language_info": {
   "codemirror_mode": {
    "name": "ipython",
    "version": 3
   },
   "file_extension": ".py",
   "mimetype": "text/x-python",
   "name": "python",
   "nbconvert_exporter": "python",
   "pygments_lexer": "ipython3",
   "version": "3.7.6"
  },
  "toc": {
   "base_numbering": 1,
   "nav_menu": {
    "height": "310px",
    "width": "252px"
   },
   "number_sections": true,
   "sideBar": true,
   "skip_h1_title": false,
   "title_cell": "Table of Contents",
   "title_sidebar": "Contents",
   "toc_cell": false,
   "toc_position": {},
   "toc_section_display": "block",
   "toc_window_display": false
  }
 },
 "nbformat": 4,
 "nbformat_minor": 1
}
