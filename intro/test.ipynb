{
 "cells": [
  {
   "cell_type": "markdown",
   "metadata": {},
   "source": [
    "# Midterm study Notebook"
   ]
  },
  {
   "cell_type": "markdown",
   "metadata": {},
   "source": [
    "The problems in Part One are taken from a previous quiz.  Write the value of each expression in the space provided. A helpful reminder.  When applied to strings, '<' checks alphabetical order.  So\n",
    "\n",
    "```\n",
    ">>> 'a' < 'b'\n",
    "True\n",
    ">>> 'b' < 'a'\n",
    "False\n",
    ">>> 'a' < 'a'\n",
    "False\n",
    "```\n",
    "\n",
    "When applied to strings '+' does concatenation:\n",
    "\n",
    "```\n",
    ">>> 'a' + 'x'\n",
    "'ax'\n",
    "```\n"
   ]
  },
  {
   "cell_type": "markdown",
   "metadata": {},
   "source": [
    "## Part One"
   ]
  },
  {
   "cell_type": "code",
   "execution_count": 1,
   "metadata": {},
   "outputs": [],
   "source": [
    "lender_rates = {'Fannie Mae': .05, 'Bank of America': .065, 'Quicken Loans': .045}\n",
    "prime_interest_rate = .04\n",
    "amount_above_prime = [lender_rates[x] - prime_interest_rate for x in lender_rates.keys()]\n",
    "loan_amounts = [100000, 150000, 200000, 500000]\n",
    "interest_due = [x * prime_interest_rate for x in loan_amounts]\n",
    "prime_mortgages = [x <= 200000 and x > 100000 for x in loan_amounts]\n",
    "prime_mortgages2 = [x for x in loan_amounts if x <= 200000 and x > 100000]\n",
    "shoe_string = 'adidas_ultra_boost'"
   ]
  },
  {
   "cell_type": "code",
   "execution_count": 2,
   "metadata": {},
   "outputs": [
    {
     "data": {
      "text/plain": [
       "({'Fannie Mae': 0.05, 'Bank of America': 0.065, 'Quicken Loans': 0.045},\n",
       " 0.04,\n",
       " [0.010000000000000002, 0.025, 0.0049999999999999975],\n",
       " [100000, 150000, 200000, 500000],\n",
       " [4000.0, 6000.0, 8000.0, 20000.0],\n",
       " [False, True, True, False])"
      ]
     },
     "execution_count": 2,
     "metadata": {},
     "output_type": "execute_result"
    }
   ],
   "source": [
    "(lender_rates, prime_interest_rate, amount_above_prime, \n",
    " loan_amounts, interest_due, prime_mortgages)"
   ]
  },
  {
   "cell_type": "code",
   "execution_count": 2,
   "metadata": {},
   "outputs": [],
   "source": [
    "lowercase_letters = 'abcdefghijklmnopqrstuvwxyz'\n",
    "uppercase_letters = lowercase_letters.upper()\n",
    "letters = lowercase_letters + uppercase_letters\n",
    "digits = '0123456789'\n",
    "address = '5500 Campanile Drive'\n",
    "missing_stuff = '5500  '\n",
    "vowels = 'aeiou'\n",
    "word = 'facetious'\n",
    "Y = [x for x in letters if x < 'd' or x > 'j']\n",
    "W = [x for x in letters if x == 'd' or x == 'j' or x < 'q']\n",
    "Z = [x > 'd' and x < 'j' for x in letters]\n",
    "R = [x for x in word if x in vowels]\n",
    "#. This is a dictionary comprehension.  Look at how it works\n",
    "vowel2index = {v:i for (i, v) in enumerate(vowels)}\n",
    "index2vowel = {v:k for (k,v) in vowel2index.items()}"
   ]
  },
  {
   "cell_type": "markdown",
   "metadata": {},
   "source": [
    "# Exercises"
   ]
  },
  {
   "cell_type": "markdown",
   "metadata": {},
   "source": [
    "# A\n",
    "\n",
    "Define a consonant to be any character in `letters` that is not in `vowels`.  Construct a single Python expression that returns a string consisting of the consonants in `word`.\n",
    "Note: you will not receive credit for simply writing an expression that **lists** the answer.  For example.\n",
    "\n",
    "```\n",
    "'fcts'\n",
    "```\n",
    "\n",
    "A full-credit solution must compute the answer using `vowels`, `letters` and `word`."
   ]
  },
  {
   "cell_type": "code",
   "execution_count": 22,
   "metadata": {},
   "outputs": [],
   "source": []
  },
  {
   "cell_type": "markdown",
   "metadata": {},
   "source": [
    "# B\n",
    "\n",
    "Determine what values of x the following test is true for:\n",
    "\n",
    "```\n",
    "vowels[x] == index2vowel[x]\n",
    "```\n",
    "\n",
    "Write a loop that contains the following expression in the body \n",
    "\n",
    "```\n",
    "print(x, vowels[x] == index2vowel[x])\n",
    "```\n",
    "\n",
    "and loops through all values of `x` for which it is `True`.  It should print `x`\n",
    "and `True` for each value of `x` that makes `vowels[x] == index2vowel[x]` `True`."
   ]
  },
  {
   "cell_type": "code",
   "execution_count": 9,
   "metadata": {},
   "outputs": [],
   "source": []
  },
  {
   "cell_type": "markdown",
   "metadata": {},
   "source": [
    " "
   ]
  },
  {
   "cell_type": "markdown",
   "metadata": {},
   "source": [
    "# C\n",
    "\n",
    "Write some code that returns a string consisting of the letters that are both in `digits` and in `address`.  "
   ]
  },
  {
   "cell_type": "code",
   "execution_count": null,
   "metadata": {},
   "outputs": [],
   "source": []
  },
  {
   "cell_type": "markdown",
   "metadata": {},
   "source": [
    "# D\n",
    "\n",
    "Write some code that returns a string consisting of the letters that are either in `uppercase_letters` or in `address`."
   ]
  },
  {
   "cell_type": "code",
   "execution_count": 21,
   "metadata": {},
   "outputs": [
    {
     "data": {
      "text/plain": [
       "'5500  '"
      ]
     },
     "execution_count": 21,
     "metadata": {},
     "output_type": "execute_result"
    }
   ],
   "source": [
    "missing_stuff = '5500  '\n",
    "def find_digits (inp):\n",
    "    return ''.join([x for x in inp if (x in digits or x == ' ')])\n",
    "find_digits(address)"
   ]
  },
  {
   "cell_type": "code",
   "execution_count": 22,
   "metadata": {},
   "outputs": [
    {
     "data": {
      "text/plain": [
       "True"
      ]
     },
     "execution_count": 22,
     "metadata": {},
     "output_type": "execute_result"
    }
   ],
   "source": [
    "find_digits(address) == missing_stuff"
   ]
  },
  {
   "cell_type": "code",
   "execution_count": 25,
   "metadata": {
    "scrolled": true
   },
   "outputs": [
    {
     "data": {
      "text/plain": [
       "True"
      ]
     },
     "execution_count": 25,
     "metadata": {},
     "output_type": "execute_result"
    }
   ],
   "source": [
    "find_digits(digits) == digits"
   ]
  },
  {
   "cell_type": "markdown",
   "metadata": {},
   "source": [
    "# E\n",
    "\n",
    "Write a function called `find_digits` that will take any string and return a **string** containing the digits  and spaces in that string.  For the digits use  `digits` (defined above)  After writing the function, apply it to `address` (as defined above).  The answer should be\n",
    "\n",
    "```\n",
    "'5500  '\n",
    "```\n",
    "\n",
    "Then apply the function to `address` again and test whether the function returns a value `==` to `missing_stuff`.  The result should be as follows:\n",
    "\n",
    "```\n",
    ">>> find_digits(address) == missing_stuff\n",
    "True\n",
    "```\n",
    "\n",
    "Then apply the function to `digits` and test whether the function returns a value `==` to `digits`.   Show that result to prove your function does the right thing.\n"
   ]
  },
  {
   "cell_type": "code",
   "execution_count": null,
   "metadata": {},
   "outputs": [],
   "source": []
  },
  {
   "cell_type": "markdown",
   "metadata": {},
   "source": [
    "# F\n",
    "\n",
    "Modify `find_digits` as defined in problem  **E** so that its argument is optional and it behaves as follows:\n",
    "\n",
    "```\n",
    ">>> find_digits() == find_digits('radish')\n",
    "True\n",
    ">>> find_digits() == find_digits('fumigate')\n",
    "True\n",
    "```\n",
    "\n",
    "Note:  All the previously discussed examples using `find_digits` should continue to behave as before.  Also, there are many answers to this problem.  Try to keep things simple."
   ]
  },
  {
   "cell_type": "code",
   "execution_count": null,
   "metadata": {},
   "outputs": [],
   "source": []
  },
  {
   "cell_type": "markdown",
   "metadata": {},
   "source": [
    "# F \n",
    "\n",
    "Now write a function `remove_char` that has two arguments, `inp` and `char`, an\n",
    "input string and a character; `remove_char` returns an exact copy of `inp`\n",
    "except that all instances of `char` have been removed.   If `char` does not\n",
    "occur in `inp`, it should return `inp` unchanged\n",
    "\n",
    "It should behave as follows:\n",
    "\n",
    "```\n",
    ">>> remove_char(vowels, 'a')\n",
    "'eiou'\n",
    ">>> remove_char(vowels, 'o')\n",
    "'aeiu'\n",
    ">>> remove_char(vowels, 'o') == 'aeio'\n",
    "True\n",
    ">>> remove_char('beep', 'a') == 'beep'\n",
    "True\n",
    ">>> remove_char('infinitive', 'q')\n",
    "'infinitive'\n",
    "```\n",
    "\n"
   ]
  },
  {
   "cell_type": "code",
   "execution_count": null,
   "metadata": {},
   "outputs": [],
   "source": []
  },
  {
   "cell_type": "markdown",
   "metadata": {},
   "source": [
    " "
   ]
  },
  {
   "cell_type": "markdown",
   "metadata": {},
   "source": [
    "# G\n",
    "\n",
    "Now **modify** `remove_char` from problem F so that it ignores\n",
    "case but does everything it did before.\n",
    "\n",
    "It should behave as follows:\n",
    "\n",
    "```\n",
    ">>> remove_char(vowels, 'A')\n",
    "'eiou'\n",
    ">>> remove_char('AEIOU', 'o')\n",
    "'AEIU'\n",
    ">>> remove_char('AeiOU', 'o')\n",
    "'AeiU'\n",
    ">>> remove_char(vowels, 'a')\n",
    "'eiou'\n",
    ">>> remove_char('AEIOU', 'O')\n",
    "'AEIU'\n",
    ">>> remove_char(vowels, 'o') == 'aeio'\n",
    "True\n",
    ">>> remove_char('Mississippi', 'I')\n",
    "'Msssspp'\n",
    "```\n"
   ]
  },
  {
   "cell_type": "code",
   "execution_count": null,
   "metadata": {},
   "outputs": [],
   "source": []
  },
  {
   "cell_type": "markdown",
   "metadata": {},
   "source": [
    " "
   ]
  },
  {
   "cell_type": "markdown",
   "metadata": {},
   "source": [
    "# H\n",
    "\n",
    "Consider `vowel2index`.  It is a mapping from vowels to integers.  Write amn expression that returns the integer associated with `\"b\"` in `vowel2index`.  Note:  This question has a **very** simple answer.  It is about\n",
    "whether you understand what type of data structure `vowel2index` is, and how you use it."
   ]
  },
  {
   "cell_type": "markdown",
   "metadata": {},
   "source": [
    " "
   ]
  },
  {
   "cell_type": "markdown",
   "metadata": {
    "collapsed": true
   },
   "source": [
    "# I\n",
    "\n",
    "Write a simple one-line Python expression that operates on `vowels` and returns \n",
    "\n",
    "```\n",
    "'axexixoxu'\n",
    "```"
   ]
  },
  {
   "cell_type": "code",
   "execution_count": null,
   "metadata": {},
   "outputs": [],
   "source": [
    " "
   ]
  },
  {
   "cell_type": "markdown",
   "metadata": {},
   "source": [
    " "
   ]
  },
  {
   "cell_type": "markdown",
   "metadata": {},
   "source": [
    " "
   ]
  },
  {
   "cell_type": "markdown",
   "metadata": {
    "collapsed": true
   },
   "source": [
    "# J\n",
    "\n",
    "\n",
    "Write a Python expression which operates on `consonants` and returns the following value\n",
    "\n",
    "```\n",
    "'gh'\n",
    "```"
   ]
  },
  {
   "cell_type": "markdown",
   "metadata": {},
   "source": [
    " "
   ]
  },
  {
   "cell_type": "markdown",
   "metadata": {},
   "source": [
    " "
   ]
  },
  {
   "cell_type": "markdown",
   "metadata": {},
   "source": [
    "# K\n",
    "\n",
    "Write a Python expression which operates on `Z` and returns the following value\n",
    "\n",
    "```\n",
    "[False, False, False]\n",
    "```"
   ]
  },
  {
   "cell_type": "markdown",
   "metadata": {},
   "source": [
    " "
   ]
  },
  {
   "cell_type": "markdown",
   "metadata": {},
   "source": [
    " "
   ]
  },
  {
   "cell_type": "markdown",
   "metadata": {},
   "source": [
    " "
   ]
  },
  {
   "cell_type": "markdown",
   "metadata": {},
   "source": [
    " "
   ]
  },
  {
   "cell_type": "markdown",
   "metadata": {},
   "source": [
    " "
   ]
  },
  {
   "cell_type": "markdown",
   "metadata": {},
   "source": [
    " "
   ]
  },
  {
   "cell_type": "markdown",
   "metadata": {},
   "source": [
    "##       Part Two"
   ]
  },
  {
   "cell_type": "markdown",
   "metadata": {},
   "source": [
    "Write functions that behave according to the descriptions given."
   ]
  },
  {
   "cell_type": "markdown",
   "metadata": {},
   "source": [
    "# 1\n",
    "\n",
    "Write a function (`tweeners`) that takes two lowercse letters as arguments and returns the\n",
    "string consisting of all the letters in the alphabet between them (in alphabetical order)\n",
    "\n",
    "```\n",
    ">>> tweeners('a','c')\n",
    "'b'\n",
    ">>> tweeners('m',  'r')\n",
    "'nopq'\n",
    ">>> tweeners('m',  'n')\n",
    "''\n",
    "```\n",
    "\n",
    "If the letters passed in are not in alphabetical order, `tweeners` should return the empty string:\n",
    "\n",
    "```\n",
    ">>> tweeners('c',  'a')\n",
    "''\n",
    "```\n",
    "\n",
    "Hint:  This has a really simply answer.  Think list comprehension.  Think filtering."
   ]
  },
  {
   "cell_type": "code",
   "execution_count": 29,
   "metadata": {},
   "outputs": [
    {
     "ename": "NameError",
     "evalue": "name 'xor' is not defined",
     "output_type": "error",
     "traceback": [
      "\u001b[0;31m---------------------------------------------------------------------------\u001b[0m",
      "\u001b[0;31mNameError\u001b[0m                                 Traceback (most recent call last)",
      "\u001b[0;32m<ipython-input-29-15816eb88ced>\u001b[0m in \u001b[0;36m<module>\u001b[0;34m\u001b[0m\n\u001b[0;32m----> 1\u001b[0;31m \u001b[0mxor\u001b[0m\u001b[0;34m\u001b[0m\u001b[0;34m\u001b[0m\u001b[0m\n\u001b[0m",
      "\u001b[0;31mNameError\u001b[0m: name 'xor' is not defined"
     ]
    }
   ],
   "source": [
    "xor"
   ]
  },
  {
   "cell_type": "markdown",
   "metadata": {},
   "source": [
    " "
   ]
  },
  {
   "cell_type": "code",
   "execution_count": null,
   "metadata": {},
   "outputs": [],
   "source": []
  },
  {
   "cell_type": "markdown",
   "metadata": {},
   "source": [
    "# 2\n",
    "\n",
    "Write a function called `nonoverlap`\n",
    "which takes four letters as arguments.   Call them `first`, `second`,`third`' and `fourth`; `nonoverlap` should first find the string consisting of all the letters in the alphabet between them `first` and `second`.  Call those letters `fs`,\n",
    "\n",
    "It should call the function `tweeners` (defined in the last problem)\n",
    "to do this.  Note: **No credit for a solution that ignores this instruction**.   \n",
    "\n",
    "The function `nonoverlap` should\n",
    "also call `tweeners` on `third` and `fourth`.   Call the result of that\n",
    "`tf`; `nonoverlap` should then return a string consisting of the letters which are \n",
    "are in either `fs` or `tf` but are not in both.\n",
    "It doesn't matter what order they're in.\n",
    "\n",
    "Some examples\n",
    "\n",
    "```\n",
    ">>> print(tweeners('a','e'))\n",
    "bcd\n",
    ">>> print(tweeners('c','g'))\n",
    "def\n",
    ">>> print(nonoverlap('a','e','m','r'))\n",
    "bcdnopq\n",
    ">>> print(nonoverlap('a','e','c','g'))\n",
    "bcef\n",
    ">>> print(nonoverlap('c','g','a','e'))\n",
    "bcef\n",
    ">>> print(nonoverlap('e','a','c','g'))\n",
    "def\n",
    "```\n",
    "\n",
    "\n",
    "Finally,  the last two arguments of `product_successor_ratio` should be\n",
    "optional.  Here are the results when they are omitted.\n",
    "\n",
    "```\n",
    ">>> print(product_successor_ratio(5,9,1))\n",
    "23.0\n",
    ">>> print(product_successor_ratio(5,9))\n",
    "23.0\n",
    "```"
   ]
  },
  {
   "cell_type": "code",
   "execution_count": 5,
   "metadata": {},
   "outputs": [
    {
     "name": "stdout",
     "output_type": "stream",
     "text": [
      "bcd\n",
      "def\n",
      "bcdnopq\n",
      "bcef\n",
      "bcef\n",
      "def\n",
      "-\n",
      "\n",
      "\n"
     ]
    }
   ],
   "source": [
    "\n",
    "def tweeners(a,b):\n",
    "    return ''.join([x for x in lowercase_letters if a < x < b])\n",
    "\n",
    "def nonoverlap(a,b,c='',d=''):\n",
    "    ab,cd = tweeners(a,b), tweeners(c,d)\n",
    "    either = [x for x in lowercase_letters if x in ab or x in cd ]\n",
    "    both = [x for x in lowercase_letters if x in ab and x in cd ]\n",
    "    return ''.join([x for x in either if x not in both])\n",
    "\n",
    "\n",
    "print(tweeners('a','e'))\n",
    "print(tweeners('c','g'))\n",
    "print(nonoverlap('a','e','m','r'))\n",
    "print(nonoverlap('a','e','c','g'))\n",
    "print(nonoverlap('c','g','a','e'))\n",
    "print(nonoverlap('e','a','c','g'))\n",
    "print('-')\n",
    "print(nonoverlap('e','a'))\n",
    "print(nonoverlap('e','a','c'))"
   ]
  },
  {
   "cell_type": "markdown",
   "metadata": {},
   "source": [
    " "
   ]
  },
  {
   "cell_type": "markdown",
   "metadata": {},
   "source": [
    "## Part 3"
   ]
  },
  {
   "cell_type": "markdown",
   "metadata": {},
   "source": [
    "Reminders: `range(n)` returns a list of the integers from 0 up to but not including `n`.\n",
    "\n",
    "```\n",
    ">>> range(10)\n",
    "[0,1,2,3,4,5,6,7,8,9]\n",
    "```\n",
    "\n",
    "`'str0'.join(str_seq)`  returns a string gotten by joining together the elements of `str_seq` with `str0`. It is the opposite of `split`.  It is an error if the elements of `str_seq` are not all strings:\n",
    "\n",
    "```\n",
    ">>> ''.join(['a','b','c'])\n",
    "'abc'\n",
    ">>> 'x'.join(['a','b','c'])\n",
    "'axbxc'\n",
    ">>> 'x'.join([1,2,3])\n",
    "TypeError      \n",
    "...\n",
    "TypeError: sequence item 0: expected string, int found\n",
    ">>> 'i'.join(['m','ss','ss','pp',''])\n",
    "'mississippi'\n",
    ">>> 'i'.join(['m','ss','ss','pp'])\n",
    "'mississipp'\n",
    "```\n",
    "\n",
    "\n"
   ]
  },
  {
   "cell_type": "code",
   "execution_count": 72,
   "metadata": {},
   "outputs": [],
   "source": [
    "letters = ('a', 'b', 'c', 'd', 'e', 'f', 'g', \n",
    "           'h', 'i', 'j', 'k', 'l', 'm', 'n', \n",
    "           'o', 'p', 'q', 'r', 's', 't', 'u', \n",
    "           'v', 'w', 'x', 'y', 'z')\n",
    "vowels = 'aeiou'\n",
    "digits = list(range(4))\n",
    "word_list = ['beap','pine', 'bake', 'isle']\n",
    "weird_list = [word_list[x][x] for x in digits]\n",
    "word3 = ''.join([x[1] for x in word_list])\n",
    "word4 = 'x'.join(['o','o','o',''])\n",
    "char_list = [x for x in word4 if x in vowels]\n",
    "word1 = 'rambunctious'\n",
    "word2 = 'mellifluous'\n",
    "WW = word1 + word2\n",
    "Z = [x for x in WW if x in 'lmn']\n",
    "favorite_words = {'Noam Chomsky': word2, 'Leonard Bloomfield': word1, 'John Rupert Firth': word3}"
   ]
  },
  {
   "cell_type": "markdown",
   "metadata": {},
   "source": [
    "# a\n",
    "\n",
    "Write out an expression which applies to `word3` and returns\n",
    "\n",
    "```\n",
    "'rambunctious'\n",
    "```"
   ]
  },
  {
   "cell_type": "markdown",
   "metadata": {},
   "source": [
    " "
   ]
  },
  {
   "cell_type": "markdown",
   "metadata": {},
   "source": [
    "# b\n",
    "\n",
    "Find a value for `L` (a list)  for which the following piece of code produces the result shown.  There are some helpful examples above.\n",
    "\n",
    "```\n",
    ">>> 'i'.join(L)\n",
    "'mississippi'\n",
    "```"
   ]
  },
  {
   "cell_type": "markdown",
   "metadata": {},
   "source": [
    " "
   ]
  },
  {
   "cell_type": "markdown",
   "metadata": {},
   "source": [
    "# c\n",
    "\n",
    "What is the Python type of `digits` (as defined above)?"
   ]
  },
  {
   "cell_type": "markdown",
   "metadata": {},
   "source": [
    "# d\n",
    "\n",
    "What is the Python type of `digits[0]`?"
   ]
  },
  {
   "cell_type": "markdown",
   "metadata": {},
   "source": [
    "# e\n",
    "\n",
    "Find a value for `word_list2` (a list) which makes the code below have the given value\n",
    "(see the example using `weird_list` and `word_list` above).\n",
    "\n",
    "```\n",
    ">>> [word_list2[x][x] for x in digits]\n",
    "['v ','o','t','e']\n",
    "```\n"
   ]
  },
  {
   "cell_type": "markdown",
   "metadata": {},
   "source": [
    " "
   ]
  },
  {
   "cell_type": "markdown",
   "metadata": {},
   "source": [
    " "
   ]
  },
  {
   "cell_type": "markdown",
   "metadata": {},
   "source": [
    "# f\n",
    "\n",
    "Write an expression which returns the **set** of vowels in  `char_list`."
   ]
  },
  {
   "cell_type": "markdown",
   "metadata": {},
   "source": [
    " "
   ]
  },
  {
   "cell_type": "markdown",
   "metadata": {
    "collapsed": true
   },
   "source": [
    " "
   ]
  },
  {
   "cell_type": "markdown",
   "metadata": {},
   "source": [
    "# g \n",
    "\n",
    "Write an expression which operates on `favorite_word` and returns:\n",
    "\n",
    "```\n",
    "'ias'\n",
    "```"
   ]
  },
  {
   "cell_type": "markdown",
   "metadata": {},
   "source": [
    " "
   ]
  },
  {
   "cell_type": "markdown",
   "metadata": {},
   "source": [
    "# h\n",
    "\n",
    "Write an expression which operates on `favorite_word` and returns:\n",
    "\n",
    "```\n",
    "'bun'\n",
    "```\n",
    "\n",
    "Hint: Use a splice.  Remember that `favorite_word` is a dictionary. Values are retrieved from a dictionary by keys, and therefore it makes no sense to use numerical indices (or splices) directly on a dictionary.  But you might be able to use a splice on something inside the dictionary."
   ]
  },
  {
   "cell_type": "markdown",
   "metadata": {},
   "source": [
    " "
   ]
  },
  {
   "cell_type": "markdown",
   "metadata": {},
   "source": [
    "# i\n",
    "\n",
    "Write an expression which retrieves\n",
    "\n",
    "```\n",
    "['a','b','c','x','y''z']\n",
    "```\n",
    "\n",
    "from `letters`.  Hint: use a list comprehension with a filtering condition."
   ]
  },
  {
   "cell_type": "markdown",
   "metadata": {},
   "source": [
    "## Part 4"
   ]
  },
  {
   "cell_type": "code",
   "execution_count": null,
   "metadata": {},
   "outputs": [],
   "source": []
  },
  {
   "cell_type": "code",
   "execution_count": 73,
   "metadata": {},
   "outputs": [],
   "source": [
    "employees = ['happy', 'sleepy', 'dopey', 'bashful', 'grumpy', 'doc', 'sneezy']\n",
    "employeeEmail = {'happy': ['sleepy','dopey'], 'dopey':['dopey'],'doc': employees,\n",
    "                 'sleepy': ['bashful','doc', 'happy'],'grumpy':[],\n",
    "                 'bashful': ['dopey']}\n",
    "#employeeEmail[1] = ['norman']\n",
    "secret_word = 'utilitarian'\n",
    "flip = {'0':'1', '1':'0'}\n",
    "bit_string = '001110'\n",
    "flipped = [flip[x] for x in bit_string]"
   ]
  },
  {
   "cell_type": "markdown",
   "metadata": {},
   "source": [
    "# 1\n",
    "\n",
    "Write an expression which operates on `employees` and returns\n",
    "\n",
    "```\n",
    "['dopey', 'bashful', 'grumpy']\n",
    "```"
   ]
  },
  {
   "cell_type": "markdown",
   "metadata": {},
   "source": [
    "# 2\n",
    "\n",
    "Write an expression which operates on `employees` and returns\n",
    "\n",
    "```\n",
    "y\n",
    "```"
   ]
  },
  {
   "cell_type": "markdown",
   "metadata": {},
   "source": [
    "employeeEmail['happy'][1][-1]"
   ]
  },
  {
   "cell_type": "markdown",
   "metadata": {},
   "source": [
    "# 3\n",
    "\n",
    "Write an expression which operates on `employeeEmail` and returns\n",
    "\n",
    "```\n",
    "\"rump\"\n",
    "```"
   ]
  },
  {
   "cell_type": "markdown",
   "metadata": {},
   "source": [
    "# 4\n",
    "\n",
    "Write an expression which operates on `secret_word` and returns\n",
    "\n",
    "```\n",
    "'arian'\n",
    "```"
   ]
  },
  {
   "cell_type": "markdown",
   "metadata": {},
   "source": [
    "# 5\n",
    "\n",
    "Write an expression which operates on `secret_word` and returns\n",
    "\n",
    "```\n",
    "[False, False, True, False, True, False, True, False, True, True, False]\n",
    "```"
   ]
  },
  {
   "cell_type": "markdown",
   "metadata": {},
   "source": [
    "# 6\n",
    "\n",
    "`flipped` is defined above as\n",
    "\n",
    "```\n",
    "flipped = [flip[x] for x in bit_string]\n",
    "```\n",
    "\n",
    "The current value of `flipped` is\n",
    "\n",
    "```\n",
    "['1', '1', '0', '0', '0', '1']\n",
    "```\n",
    "\n",
    "Redefine `flip` so that the value of `flipped` becomes\n",
    "\n",
    "```\n",
    "[0, 0, 1, 1, 1, 0].\n",
    "```\n"
   ]
  },
  {
   "cell_type": "markdown",
   "metadata": {},
   "source": [
    "Part 5"
   ]
  },
  {
   "cell_type": "code",
   "execution_count": 14,
   "metadata": {
    "collapsed": true
   },
   "outputs": [],
   "source": [
    "import numpy as np\n",
    "x = np.array([5,13,23,47,9])\n",
    "y = np.ones((5,))\n",
    "z = np.ones((5,2))"
   ]
  },
  {
   "cell_type": "markdown",
   "metadata": {},
   "source": [
    "# a\n",
    "\n",
    "Write out an expression which return the shape of `x`,"
   ]
  },
  {
   "cell_type": "code",
   "execution_count": null,
   "metadata": {},
   "outputs": [],
   "source": []
  },
  {
   "cell_type": "markdown",
   "metadata": {},
   "source": [
    "# b\n",
    "\n",
    "Write out an expression which operates on and returns\n",
    "\n",
    "```\n",
    "array([10, 26, 46, 94, 18])\n",
    "```"
   ]
  },
  {
   "cell_type": "code",
   "execution_count": null,
   "metadata": {},
   "outputs": [],
   "source": []
  },
  {
   "cell_type": "markdown",
   "metadata": {},
   "source": [
    "# c\n",
    "\n",
    "Write out an expression that returns an array containing the elementwise sum of the elements in `x` and `y`."
   ]
  },
  {
   "cell_type": "code",
   "execution_count": null,
   "metadata": {},
   "outputs": [],
   "source": []
  },
  {
   "cell_type": "markdown",
   "metadata": {},
   "source": [
    "# d\n",
    "\n",
    "Consider:"
   ]
  },
  {
   "cell_type": "code",
   "execution_count": null,
   "metadata": {
    "collapsed": true
   },
   "outputs": [],
   "source": [
    "x + z"
   ]
  },
  {
   "cell_type": "markdown",
   "metadata": {},
   "source": [
    "Explain why you get the result that you get for `x + z`. "
   ]
  },
  {
   "cell_type": "markdown",
   "metadata": {},
   "source": []
  },
  {
   "cell_type": "markdown",
   "metadata": {},
   "source": [
    "# e\n",
    "\n",
    "Note the following:"
   ]
  },
  {
   "cell_type": "code",
   "execution_count": 31,
   "metadata": {
    "scrolled": true
   },
   "outputs": [
    {
     "data": {
      "text/plain": [
       "array([ True,  True, False, False,  True], dtype=bool)"
      ]
     },
     "execution_count": 31,
     "metadata": {},
     "output_type": "execute_result"
    }
   ],
   "source": [
    "x < 20"
   ]
  },
  {
   "cell_type": "markdown",
   "metadata": {},
   "source": [
    "The result above is called a **Boolean array** because it only contains instances of the\n",
    "type `bool` (`True` and `False`). Such Boolean arrays can be used to index arrays (basically\n",
    "if they are of the same length).  Using a Boolean array this way is called using a **Boolean mask**."
   ]
  },
  {
   "cell_type": "markdown",
   "metadata": {},
   "source": [
    "# e (ctd.)\n",
    "\n",
    "Using a Boolean mask, write an expression that returns an array containing the members of `x` that\n",
    "are less than `20`."
   ]
  },
  {
   "cell_type": "markdown",
   "metadata": {},
   "source": [
    "# f\n",
    "\n",
    "Now consider"
   ]
  },
  {
   "cell_type": "code",
   "execution_count": 34,
   "metadata": {},
   "outputs": [
    {
     "data": {
      "text/plain": [
       "array([[1, 2],\n",
       "       [2, 1],\n",
       "       [5, 5],\n",
       "       [9, 4]])"
      ]
     },
     "execution_count": 34,
     "metadata": {},
     "output_type": "execute_result"
    }
   ],
   "source": [
    "two_d_array = np.array([[1,2],[2,1],[5,5],[9,4]])\n",
    "two_d_array"
   ]
  },
  {
   "cell_type": "markdown",
   "metadata": {},
   "source": [
    "Write an expression that returns the second row of `two_d_array`."
   ]
  },
  {
   "cell_type": "code",
   "execution_count": null,
   "metadata": {},
   "outputs": [],
   "source": []
  },
  {
   "cell_type": "markdown",
   "metadata": {},
   "source": [
    "Write an expression that returns `two_d_array` omitting the first row."
   ]
  },
  {
   "cell_type": "code",
   "execution_count": null,
   "metadata": {},
   "outputs": [],
   "source": [
    " "
   ]
  },
  {
   "cell_type": "markdown",
   "metadata": {},
   "source": [
    "Write an expression that returns the following subarray of `two_d_array`.\n",
    "\n",
    "```\n",
    "array([[2, 1],\n",
    "       [5, 5]])\n",
    "```"
   ]
  },
  {
   "cell_type": "markdown",
   "metadata": {},
   "source": [
    "## Linear Mapping Example"
   ]
  },
  {
   "cell_type": "code",
   "execution_count": 7,
   "metadata": {},
   "outputs": [
    {
     "data": {
      "text/plain": [
       "<matplotlib.collections.PathCollection at 0x7fe683804a90>"
      ]
     },
     "execution_count": 7,
     "metadata": {},
     "output_type": "execute_result"
    },
    {
     "data": {
      "image/png": "[encoded data removed]",
      "text/plain": [
       "<Figure size 432x288 with 1 Axes>"
      ]
     },
     "metadata": {
      "needs_background": "light"
     },
     "output_type": "display_data"
    }
   ],
   "source": [
    "import matplotlib as mpl\n",
    "from matplotlib import pyplot as plt\n",
    "import numpy as np\n",
    "\n",
    "def LinMap (x,y):\n",
    "    \"\"\"\n",
    "    The map for the matrix:\n",
    "   \n",
    "       |2  1|\n",
    "       |1  2|    \n",
    "    \"\"\"\n",
    "    return ((2*x) + y, x + (2*y))\n",
    "\n",
    "# Well do a scatter plot of a 25x25 grid\n",
    "nx,ny = 25, 25\n",
    "# We'll map the unit square\n",
    "x = np.linspace(0, 1, nx)\n",
    "y = np.linspace(0, 1, ny)\n",
    "# Xcoords,Ycoords of all points in the square grid\n",
    "xv, yv = np.meshgrid(x, y)\n",
    "\n",
    "# taking advantage of ufunctions\n",
    "(sxv,sxy) = LinMap(xv,yv)\n",
    " \n",
    "plt.scatter(sxv,sxy)"
   ]
  },
  {
   "cell_type": "code",
   "execution_count": 5,
   "metadata": {},
   "outputs": [
    {
     "data": {
      "text/plain": [
       "(25, 25)"
      ]
     },
     "execution_count": 5,
     "metadata": {},
     "output_type": "execute_result"
    }
   ],
   "source": [
    "sxv.shape"
   ]
  },
  {
   "cell_type": "code",
   "execution_count": 6,
   "metadata": {},
   "outputs": [
    {
     "data": {
      "text/plain": [
       "<function matplotlib.pyplot.scatter(x, y, s=None, c=None, marker=None, cmap=None, norm=None, vmin=None, vmax=None, alpha=None, linewidths=None, verts=<deprecated parameter>, edgecolors=None, *, plotnonfinite=False, data=None, **kwargs)>"
      ]
     },
     "execution_count": 6,
     "metadata": {},
     "output_type": "execute_result"
    }
   ],
   "source": [
    "plt.scatter"
   ]
  },
  {
   "cell_type": "code",
   "execution_count": null,
   "metadata": {},
   "outputs": [],
   "source": []
  }
 ],
 "metadata": {
  "kernelspec": {
   "display_name": "Python 3",
   "language": "python",
   "name": "python3"
  },
  "language_info": {
   "codemirror_mode": {
    "name": "ipython",
    "version": 3
   },
   "file_extension": ".py",
   "mimetype": "text/x-python",
   "name": "python",
   "nbconvert_exporter": "python",
   "pygments_lexer": "ipython3",
   "version": "3.8.5"
  },
  "toc": {
   "base_numbering": 1,
   "nav_menu": {
    "height": "103px",
    "width": "252px"
   },
   "number_sections": true,
   "sideBar": true,
   "skip_h1_title": false,
   "title_cell": "Table of Contents",
   "title_sidebar": "Contents",
   "toc_cell": false,
   "toc_position": {},
   "toc_section_display": "block",
   "toc_window_display": false
  }
 },
 "nbformat": 4,
 "nbformat_minor": 1
}
