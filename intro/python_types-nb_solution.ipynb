{
 "cells": [
  {
   "cell_type": "markdown",
   "metadata": {
    "slideshow": {
     "slide_type": "slide"
    }
   },
   "source": [
    "<font size=7> <b> Python types assignment </b></font>"
   ]
  },
  {
   "cell_type": "markdown",
   "metadata": {
    "slideshow": {
     "slide_type": "slide"
    }
   },
   "source": [
    "This is your first Python assignment.  We accomplish several things with this assignment.\n",
    "\n",
    "1. We will make sure your Python is installed correctly and that some of the basic components we want it to have are working correctly, in particular, `IPython` and `jupyter notebook`.  \n",
    "2. We will try to get you comfortable working with a jupyter notebook. You need to be able to execute the code in it, observe the results, and write down some of what you see.  \n",
    "3. Equally important, you need to be able to create a new notebook file that has your work in it, **save** your work and turn it in.  You will turn your work in by emailing a copy of the `.ipynb` file to me.  \n",
    "4. As a last resort, you can save it as a `.html` file, bring that html file up in your browser, and print the html file to give me a hard copy. \n",
    "5. In any case, I recommend saving a hard copy in case anything goes wrong with the email version of your work that you send me.  Next, we go through each of these steps in turn. "
   ]
  },
  {
   "cell_type": "markdown",
   "metadata": {
    "slideshow": {
     "slide_type": "notes"
    }
   },
   "source": [
    " However before reading those steps, I recommend that you pull down the `Help` Menu from the Notebook Menubar above and select `User Interface Tour` which we took in class together.  This will give you a quick review of the terminology used for the various parts of the IPython screen, which we will be referring to below. Pay particular attention to where the Notebook Menu Bar is."
   ]
  },
  {
   "cell_type": "code",
   "execution_count": null,
   "metadata": {
    "collapsed": true
   },
   "outputs": [],
   "source": []
  },
  {
   "cell_type": "code",
   "execution_count": null,
   "metadata": {},
   "outputs": [],
   "source": [
    "3 + 4"
   ]
  },
  {
   "cell_type": "code",
   "execution_count": 3,
   "metadata": {
    "slideshow": {
     "slide_type": "slide"
    }
   },
   "outputs": [
    {
     "data": {
      "image/png": "[encoded data removed]",
      "text/plain": [
       "<IPython.core.display.Image object>"
      ]
     },
     "execution_count": 3,
     "metadata": {
      "image/png": {
       "width": 250
      }
     },
     "output_type": "execute_result"
    }
   ],
   "source": [
    "from IPython.display import Image\n",
    "Image(filename='jupyter_logo.png',width=250)"
   ]
  },
  {
   "cell_type": "markdown",
   "metadata": {
    "slideshow": {
     "slide_type": "subslide"
    }
   },
   "source": [
    "The Note book menu bar is just below a logo that looks a lot like this one."
   ]
  },
  {
   "cell_type": "markdown",
   "metadata": {
    "slideshow": {
     "slide_type": "slide"
    }
   },
   "source": [
    "# Work Flow"
   ]
  },
  {
   "cell_type": "markdown",
   "metadata": {
    "slideshow": {
     "slide_type": "fragment"
    }
   },
   "source": [
    "**Create your own notebook file**.  After you have read these directions, , you should pull down the `File` menu that appears on the Notebook Menu Bar and choose `Make a Copy`.  This will create a new Tab in your browser containing all the material in this notebook with a new name including the word `Copy`.  If you don't see the `Make a Copy` option, it's probably because you are using the wrong menu bar.  You need the Ipython Notebook menubar, not your browser's menu bar.\n",
    "The Ipython Menu Bar is just below the IP[y]: Notebook header with the Ipython logo which looks like this (execute the next cell to see the image)."
   ]
  },
  {
   "cell_type": "markdown",
   "metadata": {
    "slideshow": {
     "slide_type": "skip"
    }
   },
   "source": [
    "You should switch to the tab containing the newly created copy and pull down the `File` menu again and choose `Rename`.  Rename the notebook to be `<yourname>_ipython_types`.  For example I would rename my assignment to be `mark_gawron_python_types`.  That will create a new file named `mark_gawron_python_types.ipynb` in the same directory as I started ipython notebook in.  This is the file you will work on and eventually attach to an email to me to turn in your homework.  You should copy and rename as soon as you can in your notebook session.  Following these steps will not change the original notebook file you downloaded to do this assignment.  So if anything goes wrong you can go back to that to start over.  If you skip the copy step, you will end up overwriting the original copy you downloaded when you rename, and you will not be able to go back to the original, until you download a new copy of the notebook."
   ]
  },
  {
   "cell_type": "markdown",
   "metadata": {
    "slideshow": {
     "slide_type": "fragment"
    }
   },
   "source": [
    "**Saving**. After you have renamed the file, you can save your further work just by pulling down the same file menu and choosing `Save and Checkpoint`.  You will notice the menu includes another selection `Revert to Checkpoint`.  Once you have established a checkpoint this allows you to revert to that saved state.  This is very useful if things go wrong and you get into a state where Python does not seem to respond.  More on that below.  But just remember this:  **Save your work**.  Save it often.  "
   ]
  },
  {
   "cell_type": "markdown",
   "metadata": {
    "slideshow": {
     "slide_type": "fragment"
    }
   },
   "source": [
    "**Terminating Python and restarting**.  If Python does not seem to be responding to you when you execute commands that should have a response (like asking for the value of a variable by just typing the variable name), you can restart Python by pulling down the `Kernel` menu and choosing `Interrupt`.  Or at any time, whether it's after an `Interrupt` or not, you can choose `Kernel>Restart`.  **Caution**: This will have the effect of wiping Python's memory clean.  So none of the definitions you have already executed will be in effect.  That means if you want to work with an expression that depends on something previously defined, you will have to re-execute all the definitions it depends on.  See the section on interacting with IPython notebook."
   ]
  },
  {
   "cell_type": "markdown",
   "metadata": {
    "slideshow": {
     "slide_type": "fragment"
    }
   },
   "source": [
    "**Ending your IPython notebook session**.  Select `Close and halt` from the `File` menu.  This kills the Python process running behind your notebook.  But it does not kill the program that is interacting with you through your web browser, called the `Notebook Server`.  This is still running back in the window you originally started the notebook from.  To  kill this program, go back that terminal window and type `Ctrl-C`.  Or just ignore it.  It's not hurting anyone."
   ]
  },
  {
   "cell_type": "markdown",
   "metadata": {
    "slideshow": {
     "slide_type": "fragment"
    }
   },
   "source": [
    "**Creating an html version of your notebook session**.  Only when you want to create a hard copy of your ipython sesssion. Exit and terminate your notebook session.  Then, in the same terminal window you started your ipython notebook session from, do:\n",
    "\n",
    "    ipython nbconvert --to html python_types.ipynb\n",
    "\n",
    "This will create a new file called `python_types.html` in the same directory.  You can open this file p with your browser and print it."
   ]
  },
  {
   "cell_type": "markdown",
   "metadata": {
    "slideshow": {
     "slide_type": "fragment"
    }
   },
   "source": [
    "**Emailing your assignment to me**. Email only `.ipynb` files or `.py` files.  No `.html` files. The contents of an `.html` can only be turned in as a hard copy. My email address is `gawron@mail.sdsu.edu`."
   ]
  },
  {
   "cell_type": "markdown",
   "metadata": {
    "slideshow": {
     "slide_type": "slide"
    }
   },
   "source": [
    "# Interacting with IPython Notebook"
   ]
  },
  {
   "cell_type": "markdown",
   "metadata": {
    "slideshow": {
     "slide_type": "notes"
    }
   },
   "source": [
    "1. **Basic concept**.  An IPython notebook is a kind of spreadsheet consisting of a sequence of **cells** of two types, called **Code cells** and **Markdown cells**. These two types of cells let you do two different things, enter text and interact with Python.  The code cells all begin with `In [<integer>]: `.  Any time you wish, you can double click on a code cell and edit it, adding or deleting material.  When you're done editing, position your cursor in the code cell and hit the `[Enter]` key while holding down the shift key, which we will henceforth write as `[Shift]`-`[Enter]`.  This will execute the code in that cell and give you Python's response (**if there is one**).  Keep in mind that Python is responding to the **last** line typed in the cell and some Python statements don't all call for a response.  For example, if you type `2+3` in a code cell and hit `[Shift]`-`[Enter]`, Python will respond `5`, But if you type `X=2+3`, Python says nothing.  It merely changes its state so that the variable `X` is now defined and now has the value `5`.\n",
    "2. **Code cell dependencies**.  Is everything defined?   When you load up a Python notebook, Python doesn't automatically execute all the code in code cells. It waits for you to tell it to. Frequently a code cell will have expressions that will depend on other expressions being defined or on some Python module being loaded, and those things will have happened in cells above the one you're editing.  In that case, executing the cell you're editing **before** executing the cells above will cause a Python error, often a `NameError`.  There are two ways to fix this.  One is to execute the cell with the needed definition and then re-execute the cell you were editing.  This is the scalpel solution.  The hammer solution is to pull down the `Cell` menu and select `Run all above`.  As time goes on and our notebooks become more and more complicated, the hammer solution will work less and less often, or you will become impatient with waiting for unnecessary pieces of code to finish executing.  At that point it will be a good idea to understand the dependencies among code cells and just execute the cells you need for your current editing purposes. Often this will be as simple as just executing the cells in the section of the notebook you're working on.\n",
    "3.  **Help**.  Of course the way to get help is to pull down the `Help` menu, but it is worth pointing out that most of the items there are not for beginners.  The two most important items are\n",
    "    1. Notebook Help.  This takes you to some web pages that are basically a Tutorial on IPython notebook. Highly recommended.\n",
    "    2. Keyboard shortcuts.  This includes all the ways to get things done with keyboard commands, which are often more efficient than menu shuffling.  Most of the commands begin with `Ctrl-m`.  As with `[Shift]`-`[Enter]`, this means holding down the first key while pressing the second.  So `Ctrl-m` means *hold down the `Control` key while pressing the `m` key.*\n",
    "4.  **Creating new cells**.  Eventually you will be doing assignments in which you create new code cells and new markdown cells.  For now cells of both types have been provided below for you to put your answers in.  When you want to start creating cells, you can use keyboard commands shown in the Keyboard shortcut help that will put new cells above and below the cell your cursor is in.  By default a new cell is a code cell.  There is also a keyboard shortcut for turning a code cell into a markdown cell."
   ]
  },
  {
   "cell_type": "markdown",
   "metadata": {
    "slideshow": {
     "slide_type": "slide"
    }
   },
   "source": [
    "# Tuples"
   ]
  },
  {
   "cell_type": "markdown",
   "metadata": {
    "slideshow": {
     "slide_type": "slide"
    }
   },
   "source": [
    "To start the assignment, recall the directions you were given in class about how to use IPython notebook.  Position your cursor in the next cell (numbered 2) and hit the `[Enter]` key while holding down the shift key, which we will henceforth write as `[Shift]`-`[Enter]`.  Nothing will happen.  But you will have defined the variable T to be a tuple with three members."
   ]
  },
  {
   "cell_type": "code",
   "execution_count": 32,
   "metadata": {
    "slideshow": {
     "slide_type": "subslide"
    }
   },
   "outputs": [],
   "source": [
    "T = ('a','b','c')"
   ]
  },
  {
   "cell_type": "code",
   "execution_count": 33,
   "metadata": {
    "scrolled": true
   },
   "outputs": [
    {
     "data": {
      "text/plain": [
       "'c'"
      ]
     },
     "execution_count": 33,
     "metadata": {},
     "output_type": "execute_result"
    }
   ],
   "source": [
    "T[2]"
   ]
  },
  {
   "cell_type": "code",
   "execution_count": 36,
   "metadata": {},
   "outputs": [
    {
     "data": {
      "text/plain": [
       "'a'"
      ]
     },
     "execution_count": 36,
     "metadata": {},
     "output_type": "execute_result"
    }
   ],
   "source": [
    "T[-3]"
   ]
  },
  {
   "cell_type": "markdown",
   "metadata": {
    "slideshow": {
     "slide_type": "slide"
    }
   },
   "source": [
    "The cell below contains an error. To see what the error is, position your cursor in the cell and type `[Shift]`-`[Enter]`. Explain what the error is in the cell 2 cells down (labeled `Enter your answer here`). (It is not a `NameError`; if you get a `NameError`, that's because you haven't executed the cell that defines the variable `T` first.)  Explain how you could define `T` differently so that the expression in the cell below would not be an error."
   ]
  },
  {
   "cell_type": "code",
   "execution_count": 37,
   "metadata": {
    "slideshow": {
     "slide_type": "fragment"
    }
   },
   "outputs": [
    {
     "ename": "TypeError",
     "evalue": "'tuple' object does not support item assignment",
     "output_type": "error",
     "traceback": [
      "\u001b[0;31m---------------------------------------------------------------------------\u001b[0m",
      "\u001b[0;31mTypeError\u001b[0m                                 Traceback (most recent call last)",
      "\u001b[0;32m<ipython-input-37-5986fa890b94>\u001b[0m in \u001b[0;36m<module>\u001b[0;34m()\u001b[0m\n\u001b[0;32m----> 1\u001b[0;31m \u001b[0mT\u001b[0m\u001b[0;34m[\u001b[0m\u001b[0;36m1\u001b[0m\u001b[0;34m]\u001b[0m \u001b[0;34m=\u001b[0m \u001b[0;34m'1'\u001b[0m\u001b[0;34m\u001b[0m\u001b[0m\n\u001b[0m",
      "\u001b[0;31mTypeError\u001b[0m: 'tuple' object does not support item assignment"
     ]
    }
   ],
   "source": [
    "T[1] = '1'"
   ]
  },
  {
   "cell_type": "markdown",
   "metadata": {
    "slideshow": {
     "slide_type": "fragment"
    }
   },
   "source": [
    "Tuples do not support assignment. (They are immutable)."
   ]
  },
  {
   "cell_type": "markdown",
   "metadata": {
    "slideshow": {
     "slide_type": "slide"
    }
   },
   "source": [
    "In the cell below, write an expression that computes the length of `T`. Execute the expression by typing `[Shift]`-`[Enter]` and check that you get the right result.  If you don't remember how to compute the length of a tuple, you can check [this introductory book-draft material on Python tuples](http://www-rohan.sdsu.edu/~gawron/python_for_ss/course_core/book_draft/Python_introduction/tuples.html) OR you can do a Google seach on \"Python tuple length\"."
   ]
  },
  {
   "cell_type": "code",
   "execution_count": 40,
   "metadata": {
    "slideshow": {
     "slide_type": "subslide"
    }
   },
   "outputs": [
    {
     "data": {
      "text/plain": [
       "3"
      ]
     },
     "execution_count": 40,
     "metadata": {},
     "output_type": "execute_result"
    }
   ],
   "source": [
    "#Your answer here\n",
    "len(T)"
   ]
  },
  {
   "cell_type": "markdown",
   "metadata": {
    "slideshow": {
     "slide_type": "slide"
    }
   },
   "source": [
    "# Lists"
   ]
  },
  {
   "cell_type": "code",
   "execution_count": 42,
   "metadata": {
    "slideshow": {
     "slide_type": "slide"
    }
   },
   "outputs": [],
   "source": [
    "Mothers = [('George Clooney', 'Rosemary Clooney'), \n",
    "           ('Jimmy Carter',  'Lillian Carter'), \n",
    "           ('George H. W. Bush','Dorothy Walker Bush'), \n",
    "           ('George W. Bush', 'Barbara Bush'),\n",
    "           ('Liza Minnelli', 'Judy Garland')]"
   ]
  },
  {
   "cell_type": "code",
   "execution_count": 4,
   "metadata": {},
   "outputs": [
    {
     "data": {
      "text/plain": [
       "('George Clooney', 'Rosemary Clooney')"
      ]
     },
     "execution_count": 4,
     "metadata": {},
     "output_type": "execute_result"
    }
   ],
   "source": [
    "Mothers[0]"
   ]
  },
  {
   "cell_type": "markdown",
   "metadata": {
    "slideshow": {
     "slide_type": "subslide"
    }
   },
   "source": [
    "In the next cell, write an expression that retrieves the value `\"Judy Garland\"` from `Mothers`.  For example, the expression `Mothers[0]` retrieves the value `('George Clooney', 'Rosemary Clooney'),`.  Test your answer by typing `[Shift]`-`[Enter]` to see what you get.  If you get `NameError`, it's because you didn't first execute the expression in the cell above to define the variable `Mothers`.  To do that position your cursor in the cell above and type `[Shift]`-`[Enter]`."
   ]
  },
  {
   "cell_type": "code",
   "execution_count": 48,
   "metadata": {
    "slideshow": {
     "slide_type": "subslide"
    }
   },
   "outputs": [
    {
     "data": {
      "text/plain": [
       "'Judy Garland'"
      ]
     },
     "execution_count": 48,
     "metadata": {},
     "output_type": "execute_result"
    }
   ],
   "source": [
    "Mothers[4][1]"
   ]
  },
  {
   "cell_type": "markdown",
   "metadata": {
    "slideshow": {
     "slide_type": "slide"
    }
   },
   "source": [
    "In the next cell, type a single expression that retrieves the value `z` from `Mothers` and sets  a variable to that value.  This answer will be of the  form `Something = Something`.  The first something will be a variable name.   Python will raise a `SyntaxError` if you use a reserved name."
   ]
  },
  {
   "cell_type": "code",
   "execution_count": 53,
   "metadata": {
    "slideshow": {
     "slide_type": "subslide"
    }
   },
   "outputs": [],
   "source": [
    "Y = Mothers[4][0][2]"
   ]
  },
  {
   "cell_type": "markdown",
   "metadata": {
    "slideshow": {
     "slide_type": "slide"
    }
   },
   "source": [
    "# Strings"
   ]
  },
  {
   "cell_type": "markdown",
   "metadata": {
    "slideshow": {
     "slide_type": "slide"
    }
   },
   "source": [
    "The cell below defines a string.  Execute that definition. (This is another way of saying, \"Place your cursor in the cell and type `[Shift]`-`[Enter]`)\".  Notice that when you evaluate this cell, Python doesn't seem to do anything.  Nevertheless it has changed its state to reflect the fact that the variable `Example_str` has been defined to denote a particular string."
   ]
  },
  {
   "cell_type": "code",
   "execution_count": 54,
   "metadata": {
    "slideshow": {
     "slide_type": "subslide"
    }
   },
   "outputs": [],
   "source": [
    "Example_str = \"program\""
   ]
  },
  {
   "cell_type": "markdown",
   "metadata": {
    "slideshow": {
     "slide_type": "subslide"
    }
   },
   "source": [
    "In the next cell, write and execute an expression that retrieves the value `\"r\"` from `Example_str`.  There are two *r*'s in the string, so there are two possible answers."
   ]
  },
  {
   "cell_type": "code",
   "execution_count": 55,
   "metadata": {},
   "outputs": [
    {
     "data": {
      "text/plain": [
       "'r'"
      ]
     },
     "execution_count": 55,
     "metadata": {},
     "output_type": "execute_result"
    }
   ],
   "source": [
    "Example_str[1]"
   ]
  },
  {
   "cell_type": "markdown",
   "metadata": {
    "slideshow": {
     "slide_type": "slide"
    }
   },
   "source": [
    "The string `program` has the nice property that at least one of its substrings is an English word.  In the cell below write a single Python expression that retrieves the word 'pro' from `Example_str`. You might need to review the lecture material on [string slices](http://www-rohan.sdsu.edu/~gawron/python_for_ss/course_core/book_draft/Python_introduction/strings.html).  Evaluate it with `[Shift]`-`[Enter]` to check your answer.  "
   ]
  },
  {
   "cell_type": "code",
   "execution_count": 66,
   "metadata": {},
   "outputs": [],
   "source": [
    "L = list('abc')\n",
    "M = L[:]"
   ]
  },
  {
   "cell_type": "code",
   "execution_count": 67,
   "metadata": {},
   "outputs": [
    {
     "data": {
      "text/plain": [
       "(['a', 'c', 'c'], ['a', 'b', 'c'])"
      ]
     },
     "execution_count": 67,
     "metadata": {},
     "output_type": "execute_result"
    }
   ],
   "source": [
    "L[1] = 'c'\n",
    "L, M"
   ]
  },
  {
   "cell_type": "code",
   "execution_count": 59,
   "metadata": {
    "slideshow": {
     "slide_type": "subslide"
    }
   },
   "outputs": [
    {
     "data": {
      "text/plain": [
       "'program'"
      ]
     },
     "execution_count": 59,
     "metadata": {},
     "output_type": "execute_result"
    }
   ],
   "source": [
    "Example_str[:]"
   ]
  },
  {
   "cell_type": "code",
   "execution_count": 57,
   "metadata": {},
   "outputs": [
    {
     "data": {
      "text/plain": [
       "'rog'"
      ]
     },
     "execution_count": 57,
     "metadata": {},
     "output_type": "execute_result"
    }
   ],
   "source": [
    "Example_str[1:4]"
   ]
  },
  {
   "cell_type": "markdown",
   "metadata": {
    "slideshow": {
     "slide_type": "subslide"
    }
   },
   "source": [
    "In the same cell (the cell above), on new lines, write two more expressions that retrieve two other strings; one should retrieve the English word 'ram', another the string 'rog'. Each time you add a line to the cell, type `[Shift]`-`[Enter]`. Notice that when there's more than one line in the cell, Python only seems to be responding to the last line.  This is how the Python *Interpreter* (the program you are interacting with when you type commands to Python) works.  Despite the fact that Python only responds to the last line, **all** the lines are being executed. "
   ]
  },
  {
   "cell_type": "markdown",
   "metadata": {
    "slideshow": {
     "slide_type": "slide"
    }
   },
   "source": [
    "# Dictionaries"
   ]
  },
  {
   "cell_type": "markdown",
   "metadata": {},
   "source": [
    "We begin discussing dictionaries with an observation about our last example, `Mothers`, a list of pairs.  A list of pairs is probably not the most convenient way to represent this information.  Our most likely use of the information is to try to look up some individual's mother, but in order to do that with a list, we have to searrch through the list, looking for the pair that contains information about that individual.  What we want is a data structure that allows you ask for information by individual (instead of list index) --- the information is **indexed** by individual.  That is a dictionary.  Fortunately there is a very easy way to turn a list of pairs into a dictionary."
   ]
  },
  {
   "cell_type": "code",
   "execution_count": 68,
   "metadata": {},
   "outputs": [],
   "source": [
    "ddm = dict(Mothers)"
   ]
  },
  {
   "cell_type": "code",
   "execution_count": 69,
   "metadata": {},
   "outputs": [
    {
     "data": {
      "text/plain": [
       "{'George Clooney': 'Rosemary Clooney',\n",
       " 'Jimmy Carter': 'Lillian Carter',\n",
       " 'George H. W. Bush': 'Dorothy Walker Bush',\n",
       " 'George W. Bush': 'Barbara Bush',\n",
       " 'Liza Minnelli': 'Judy Garland'}"
      ]
     },
     "execution_count": 69,
     "metadata": {},
     "output_type": "execute_result"
    }
   ],
   "source": [
    "ddm"
   ]
  },
  {
   "cell_type": "code",
   "execution_count": 70,
   "metadata": {},
   "outputs": [
    {
     "data": {
      "text/plain": [
       "'Barbara Bush'"
      ]
     },
     "execution_count": 70,
     "metadata": {},
     "output_type": "execute_result"
    }
   ],
   "source": [
    "ddm['George W. Bush']"
   ]
  },
  {
   "cell_type": "markdown",
   "metadata": {},
   "source": [
    "In the next cell is another Python expression.  Before evaluating the cell, examine it carefully and try to predict what the result of evaluating it will be.  Then in the cell below that, explain the result that you got."
   ]
  },
  {
   "cell_type": "code",
   "execution_count": 71,
   "metadata": {},
   "outputs": [
    {
     "ename": "TypeError",
     "evalue": "list indices must be integers or slices, not str",
     "output_type": "error",
     "traceback": [
      "\u001b[0;31m---------------------------------------------------------------------------\u001b[0m",
      "\u001b[0;31mTypeError\u001b[0m                                 Traceback (most recent call last)",
      "\u001b[0;32m<ipython-input-71-97c69d266365>\u001b[0m in \u001b[0;36m<module>\u001b[0;34m()\u001b[0m\n\u001b[0;32m----> 1\u001b[0;31m \u001b[0mMothers\u001b[0m\u001b[0;34m[\u001b[0m\u001b[0;34m'George W. Bush'\u001b[0m\u001b[0;34m]\u001b[0m\u001b[0;34m\u001b[0m\u001b[0m\n\u001b[0m",
      "\u001b[0;31mTypeError\u001b[0m: list indices must be integers or slices, not str"
     ]
    }
   ],
   "source": [
    "Mothers['George W. Bush']"
   ]
  },
  {
   "cell_type": "markdown",
   "metadata": {},
   "source": [
    "`Mothers` is a list and therefore it does not supportkeyword indexing.  This is a TypeError."
   ]
  },
  {
   "cell_type": "markdown",
   "metadata": {},
   "source": [
    "This transforms a list of pairs with the first member of each pair as a key and the second member as its value.  So `ddm` is now a dictionary with individuals as keys, and their mothers as values."
   ]
  },
  {
   "cell_type": "code",
   "execution_count": 72,
   "metadata": {},
   "outputs": [
    {
     "data": {
      "text/plain": [
       "'Rosemary Clooney'"
      ]
     },
     "execution_count": 72,
     "metadata": {},
     "output_type": "execute_result"
    }
   ],
   "source": [
    "ddm['George Clooney']"
   ]
  },
  {
   "cell_type": "markdown",
   "metadata": {
    "slideshow": {
     "slide_type": "slide"
    }
   },
   "source": [
    "So now you know how to transform a list of pairs into a dictionary, with the first member of each pair as a key and the second member as its value.\n",
    "\n",
    "There are two other ways to define dictionaries which are both worth knowing.  We start with the easiest to type."
   ]
  },
  {
   "cell_type": "code",
   "execution_count": 81,
   "metadata": {
    "slideshow": {
     "slide_type": "subslide"
    }
   },
   "outputs": [],
   "source": [
    "dd = dict(name = 'Guido van Rossum',\n",
    "          job_title = 'Benevolent Dictator for Life',\n",
    "          native_language = \"Dutch\",\n",
    "          favorite_non_native_language = 'English',\n",
    "          favorite_computer_language = \"Perl\")"
   ]
  },
  {
   "cell_type": "code",
   "execution_count": 82,
   "metadata": {},
   "outputs": [
    {
     "data": {
      "text/plain": [
       "'Perl'"
      ]
     },
     "execution_count": 82,
     "metadata": {},
     "output_type": "execute_result"
    }
   ],
   "source": [
    "dd['favorite_computer_language']"
   ]
  },
  {
   "cell_type": "markdown",
   "metadata": {
    "slideshow": {
     "slide_type": "fragment"
    }
   },
   "source": [
    "In the next cell down, write a single expression to retrieve the value `\"Benevolent Dictator for Life\"` from `dd`."
   ]
  },
  {
   "cell_type": "code",
   "execution_count": 85,
   "metadata": {
    "slideshow": {
     "slide_type": "skip"
    }
   },
   "outputs": [
    {
     "data": {
      "text/plain": [
       "'Benevolent Dictator for Life'"
      ]
     },
     "execution_count": 85,
     "metadata": {},
     "output_type": "execute_result"
    }
   ],
   "source": [
    "dd['job_title']"
   ]
  },
  {
   "cell_type": "markdown",
   "metadata": {
    "slideshow": {
     "slide_type": "fragment"
    }
   },
   "source": [
    "In the next cell down write an expression that *adds* information to `dd`.  Specifically add the *key* `favorite_tv_show` and set its value to be `\"Monty Python's Flying Circus\"`.  Note that strings can have spaces in them and still be valid strings."
   ]
  },
  {
   "cell_type": "code",
   "execution_count": null,
   "metadata": {},
   "outputs": [],
   "source": [
    "dd['favorite_tv_show'] = \"Monty Python's Flying Circus\""
   ]
  },
  {
   "cell_type": "markdown",
   "metadata": {},
   "source": [
    "An equivalent answer:"
   ]
  },
  {
   "cell_type": "code",
   "execution_count": null,
   "metadata": {},
   "outputs": [],
   "source": [
    "dd.update(favorite_tv_show = \"Monty Python's Flying Circus\")"
   ]
  },
  {
   "cell_type": "markdown",
   "metadata": {},
   "source": [
    "In the next cell correct an error in our data.  Guido van Rossum's favorite computer\n",
    "language is not Perl.  It is Python.  Write an expression that corrects the error."
   ]
  },
  {
   "cell_type": "code",
   "execution_count": 86,
   "metadata": {},
   "outputs": [],
   "source": [
    "dd['favorite_computer_language'] = 'Python'"
   ]
  },
  {
   "cell_type": "markdown",
   "metadata": {
    "slideshow": {
     "slide_type": "slide"
    }
   },
   "source": [
    "In the next cell we use a different syntax for defining a dictionary."
   ]
  },
  {
   "cell_type": "code",
   "execution_count": 16,
   "metadata": {
    "slideshow": {
     "slide_type": "slide"
    }
   },
   "outputs": [],
   "source": [
    "mystery_sentence_letter_counts = {' ': 9, 'e': 5, 'o': 5, 'l': 3, 'd': 2,\n",
    "                                  'h': 2, 'r': 2, 'u': 2, 'w': 2, 'y': 2, '.': 1, \n",
    "                                  'a': 1, 'c': 1, 'b': 1, 'g': 1, 'f': 1, \n",
    "                                  'i': 1, 'k': 1, 'j': 1, 'm': 1, 'n': 1, 'q': 1, \n",
    "                                  'p': 1, 't': 2, 'v': 1, 'x': 1, 'z': 1}"
   ]
  },
  {
   "cell_type": "markdown",
   "metadata": {},
   "source": [
    "Notice some of the features of this dictionary `mystery_letter_counts`.  They keys are all single characters and the values are all integers.  Moreover, there is one key for each letter of the alphabet.  Plus there are keys for space and a punctuation mark, period ('.').  There are 28 keys in all. \n",
    "\n",
    "There is nothing special about the fact that the keys are single characters here.  In Python characters are just strings that happen to have length 1.  And all of the ways we've used to define dictionaries will work with any string as keys, whether length 1, or highly varied lengths.\n",
    "\n",
    "Using the same syntax as is used in defining `mystery_sentence_letter_counts` (curly braces and colons),\n",
    "write another definition of `dd` in the next cell.  Your answer should define exactly the same dictionary,\n",
    "but using a different syntax.  Here's how your definition might might start:\n",
    "\n",
    "```\n",
    "dd = {'name': 'Guido van Rossum',\n",
    "      ....\n",
    "      }\n",
    "```"
   ]
  },
  {
   "cell_type": "code",
   "execution_count": 17,
   "metadata": {},
   "outputs": [],
   "source": [
    "mystery_sentence_letter_counts0 = dict(h = 9, a = 1, i = 1)"
   ]
  },
  {
   "cell_type": "markdown",
   "metadata": {
    "slideshow": {
     "slide_type": "skip"
    }
   },
   "source": [
    "The  dictionary `mystery_letter_counts` stores the number of times each of 28 characters occurs in a particular sentence of English.  We will call this sentence the mystery sentence.  (You are welcome to guess what the mystery sentence is, obviously a sentence that includes all 26 letters of the alphabet). "
   ]
  },
  {
   "cell_type": "markdown",
   "metadata": {
    "slideshow": {
     "slide_type": "fragment"
    }
   },
   "source": [
    "In the cell below, write an expression that retrieves the value `9` from `mystery_sentence_letter_counts`. "
   ]
  },
  {
   "cell_type": "code",
   "execution_count": 18,
   "metadata": {
    "slideshow": {
     "slide_type": "fragment"
    }
   },
   "outputs": [
    {
     "data": {
      "text/plain": [
       "9"
      ]
     },
     "execution_count": 18,
     "metadata": {},
     "output_type": "execute_result"
    }
   ],
   "source": [
    "mystery_sentence_letter_counts[' ']"
   ]
  },
  {
   "cell_type": "markdown",
   "metadata": {},
   "source": [
    "How might we get a dictionary like `myster-letter_counts` defined?   Yes, typing it in is one option. But there are easier ways:"
   ]
  },
  {
   "cell_type": "code",
   "execution_count": 19,
   "metadata": {
    "slideshow": {
     "slide_type": "slide"
    }
   },
   "outputs": [
    {
     "data": {
      "text/plain": [
       "{'t': 2,\n",
       " 'h': 2,\n",
       " 'e': 5,\n",
       " ' ': 9,\n",
       " 'q': 1,\n",
       " 'u': 2,\n",
       " 'i': 1,\n",
       " 'c': 1,\n",
       " 'k': 1,\n",
       " 'b': 1,\n",
       " 'r': 2,\n",
       " 'o': 5,\n",
       " 'w': 2,\n",
       " 'n': 1,\n",
       " 'f': 1,\n",
       " 'x': 1,\n",
       " 'j': 1,\n",
       " 'm': 1,\n",
       " 'p': 1,\n",
       " 'd': 2,\n",
       " 'v': 1,\n",
       " 'l': 3,\n",
       " 'a': 1,\n",
       " 'z': 1,\n",
       " 'y': 2,\n",
       " 'g': 1,\n",
       " '.': 1}"
      ]
     },
     "execution_count": 19,
     "metadata": {},
     "output_type": "execute_result"
    }
   ],
   "source": [
    "Sentence = 'the quick brown fox jumped over the lazy yellow dog.'\n",
    "letter_freqs = dict()\n",
    "for letter in Sentence:\n",
    "    if letter in letter_freqs:\n",
    "        letter_freqs[letter] += 1\n",
    "    else:\n",
    "        letter_freqs[letter] = 1\n",
    "letter_freqs"
   ]
  },
  {
   "cell_type": "markdown",
   "metadata": {
    "slideshow": {
     "slide_type": "fragment"
    }
   },
   "source": [
    "This dictionary named `letter_freqs` is defined in line 3 and filled with information in a `for` loop that begin on line 4 and ends on line 5.  The variable `Sentence` is defined to be a string (line 2) and the `for` loop steps through each character of that string and adds 1 to its count in the dictionary (line 5).  You may have noticed that the keys and counts in the dictionary `letter_freqs` were the same as those in the dictionary `letter_counts`, defined in one of the cells above.  "
   ]
  },
  {
   "cell_type": "markdown",
   "metadata": {},
   "source": [
    "Let's build a dictionary very like  `letter_freqs` on a slightly different string:"
   ]
  },
  {
   "cell_type": "code",
   "execution_count": 98,
   "metadata": {
    "slideshow": {
     "slide_type": "slide"
    }
   },
   "outputs": [],
   "source": [
    "Sentence = 'the quick brown fox jumped over the lazy yellow dog.'\n",
    "Sentence2 = 'The quick brown fox jumped over the lazy yellow dog.'\n",
    "letter_freqs2 = dict()\n",
    "for letter in Sentence2:\n",
    "    if letter in letter_freqs2:\n",
    "        letter_freqs2[letter] += 1\n",
    "    else:\n",
    "        letter_freqs2[letter] = 1"
   ]
  },
  {
   "cell_type": "code",
   "execution_count": 99,
   "metadata": {},
   "outputs": [
    {
     "data": {
      "text/plain": [
       "({'t': 2,\n",
       "  'h': 2,\n",
       "  'e': 5,\n",
       "  ' ': 9,\n",
       "  'q': 1,\n",
       "  'u': 2,\n",
       "  'i': 1,\n",
       "  'c': 1,\n",
       "  'k': 1,\n",
       "  'b': 1,\n",
       "  'r': 2,\n",
       "  'o': 5,\n",
       "  'w': 2,\n",
       "  'n': 1,\n",
       "  'f': 1,\n",
       "  'x': 1,\n",
       "  'j': 1,\n",
       "  'm': 1,\n",
       "  'p': 1,\n",
       "  'd': 2,\n",
       "  'v': 1,\n",
       "  'l': 3,\n",
       "  'a': 1,\n",
       "  'z': 1,\n",
       "  'y': 2,\n",
       "  'g': 1,\n",
       "  '.': 1},\n",
       " {'T': 1,\n",
       "  'h': 2,\n",
       "  'e': 5,\n",
       "  ' ': 9,\n",
       "  'q': 1,\n",
       "  'u': 2,\n",
       "  'i': 1,\n",
       "  'c': 1,\n",
       "  'k': 1,\n",
       "  'b': 1,\n",
       "  'r': 2,\n",
       "  'o': 5,\n",
       "  'w': 2,\n",
       "  'n': 1,\n",
       "  'f': 1,\n",
       "  'x': 1,\n",
       "  'j': 1,\n",
       "  'm': 1,\n",
       "  'p': 1,\n",
       "  'd': 2,\n",
       "  'v': 1,\n",
       "  't': 1,\n",
       "  'l': 3,\n",
       "  'a': 1,\n",
       "  'z': 1,\n",
       "  'y': 2,\n",
       "  'g': 1,\n",
       "  '.': 1})"
      ]
     },
     "execution_count": 99,
     "metadata": {},
     "output_type": "execute_result"
    }
   ],
   "source": [
    "letter_freqs, letter_freqs2"
   ]
  },
  {
   "cell_type": "markdown",
   "metadata": {
    "slideshow": {
     "slide_type": "fragment"
    }
   },
   "source": [
    "There is an important difference between the string `Sentence` and the string `Sentence2`.  What is it? How is the difference reflected in `letter_freqs2`.  "
   ]
  },
  {
   "cell_type": "markdown",
   "metadata": {
    "slideshow": {
     "slide_type": "subslide"
    }
   },
   "source": [
    "[Double click on this text (or \"markup\") cell and write your answer here.]\n",
    "There is a case difference in the the first occurrence of the word \"the/The\".  This makes a difference in the counts, which are kept separately for \"THe\" and 'the'."
   ]
  },
  {
   "cell_type": "markdown",
   "metadata": {},
   "source": [
    "Finally here's a very simple way to do what we just did in the `for` loop.  `Python` has many specialized kinds of dictionaries you can `import`, thus adding them to what you get in your builtin `Python`.   One of these is called a `Counter`.  \n",
    "\n",
    "You use a `Counter` to count the kinds of things contained in a container.  Here's how to count the number of times each character occurs in a string."
   ]
  },
  {
   "cell_type": "code",
   "execution_count": 100,
   "metadata": {},
   "outputs": [
    {
     "data": {
      "text/plain": [
       "Counter({'i': 4,\n",
       "         ' ': 14,\n",
       "         'h': 6,\n",
       "         'a': 5,\n",
       "         'v': 1,\n",
       "         'e': 5,\n",
       "         'c': 2,\n",
       "         'k': 1,\n",
       "         'd': 2,\n",
       "         'o': 5,\n",
       "         'u': 4,\n",
       "         't': 4,\n",
       "         'n': 4,\n",
       "         'm': 2,\n",
       "         'y': 3,\n",
       "         'q': 1,\n",
       "         'r': 2,\n",
       "         'l': 2,\n",
       "         'x': 1,\n",
       "         's': 3,\n",
       "         'w': 1,\n",
       "         'f': 1,\n",
       "         'g': 3,\n",
       "         'b': 1,\n",
       "         'j': 1,\n",
       "         'p': 2,\n",
       "         '.': 1})"
      ]
     },
     "execution_count": 100,
     "metadata": {},
     "output_type": "execute_result"
    }
   ],
   "source": [
    "import collections\n",
    "mslc = collections.Counter('i have checked out on many queer lax days with flying bats jumping through hoops.')\n",
    "mslc"
   ]
  },
  {
   "cell_type": "markdown",
   "metadata": {
    "slideshow": {
     "slide_type": "fragment"
    }
   },
   "source": [
    "In the cell below write an expression that retrieves the number of times the letter `e` occurred in the mystery sentence from `mslc`."
   ]
  },
  {
   "cell_type": "code",
   "execution_count": 101,
   "metadata": {
    "slideshow": {
     "slide_type": "fragment"
    }
   },
   "outputs": [
    {
     "data": {
      "text/plain": [
       "5"
      ]
     },
     "execution_count": 101,
     "metadata": {},
     "output_type": "execute_result"
    }
   ],
   "source": [
    "mslc['e']"
   ]
  },
  {
   "cell_type": "markdown",
   "metadata": {},
   "source": [
    "In the cell below, define the same dictionary we called `letter_freqs2` above, using the string `Sentence2` and a `Counter`.  Your answer should be just one line of code."
   ]
  },
  {
   "cell_type": "code",
   "execution_count": 102,
   "metadata": {},
   "outputs": [],
   "source": [
    "letter_freqs2 = collections.Counter(Sentence2)"
   ]
  },
  {
   "cell_type": "code",
   "execution_count": 103,
   "metadata": {},
   "outputs": [
    {
     "data": {
      "text/plain": [
       "Counter({'T': 1,\n",
       "         'h': 2,\n",
       "         'e': 5,\n",
       "         ' ': 9,\n",
       "         'q': 1,\n",
       "         'u': 2,\n",
       "         'i': 1,\n",
       "         'c': 1,\n",
       "         'k': 1,\n",
       "         'b': 1,\n",
       "         'r': 2,\n",
       "         'o': 5,\n",
       "         'w': 2,\n",
       "         'n': 1,\n",
       "         'f': 1,\n",
       "         'x': 1,\n",
       "         'j': 1,\n",
       "         'm': 1,\n",
       "         'p': 1,\n",
       "         'd': 2,\n",
       "         'v': 1,\n",
       "         't': 1,\n",
       "         'l': 3,\n",
       "         'a': 1,\n",
       "         'z': 1,\n",
       "         'y': 2,\n",
       "         'g': 1,\n",
       "         '.': 1})"
      ]
     },
     "execution_count": 103,
     "metadata": {},
     "output_type": "execute_result"
    }
   ],
   "source": [
    "letter_freqs2"
   ]
  },
  {
   "cell_type": "markdown",
   "metadata": {
    "slideshow": {
     "slide_type": "slide"
    }
   },
   "source": [
    "# Filling a Dictionary with information"
   ]
  },
  {
   "cell_type": "markdown",
   "metadata": {
    "slideshow": {
     "slide_type": "skip"
    }
   },
   "source": [
    "Now let's look at a more practical example of defining a dictionary."
   ]
  },
  {
   "cell_type": "code",
   "execution_count": 104,
   "metadata": {},
   "outputs": [
    {
     "data": {
      "image/png": "[encoded data removed]",
      "text/plain": [
       "<IPython.core.display.Image object>"
      ]
     },
     "execution_count": 104,
     "metadata": {
      "image/png": {
       "width": 300
      }
     },
     "output_type": "execute_result"
    }
   ],
   "source": [
    "from IPython.display import Image\n",
    "Image(filename='practice_toy_graph.png',width=300)"
   ]
  },
  {
   "cell_type": "markdown",
   "metadata": {},
   "source": [
    "Using the example of the Enron email graph discussed in the online text as your model, represent the above graph as a dictionary. (By the way, the graph represents high school friendships.  A link between individual A and individual B means A and B are friends).  There are 8 individuals in the graph.  Your dictionary should have 8 keys. If `dd` is your dictionary, the `dd['Sue Anne']` should return Sue Anne's friends."
   ]
  },
  {
   "cell_type": "code",
   "execution_count": null,
   "metadata": {
    "collapsed": true
   },
   "outputs": [],
   "source": [
    "dd = {'Bobbie Rae': ['Barbara'],\n",
    "      'Barbara' : ['Sue Anne', 'Billie Joe', \n",
    "                    'Bobbie_Rae'],\n",
    "       'Sue Anne': ['Hugo', 'Harry', 'Barbara', 'Sam'],\n",
    "       'Sam': ['Sue Anne', 'Billy Joe', 'Ricky'],\n",
    "       'Billy Joe': ['Barbara', 'Sam'],\n",
    "       'Hugo': ['Harry', 'Sue Anne'],\n",
    "       'Harry': ['Hugo', 'Sue Anne'],\n",
    "       'Ricky': ['Sam']     \n",
    "     }"
   ]
  },
  {
   "cell_type": "markdown",
   "metadata": {
    "slideshow": {
     "slide_type": "slide"
    }
   },
   "source": [
    "# Data structure key: the elements of a sequence"
   ]
  },
  {
   "cell_type": "markdown",
   "metadata": {
    "slideshow": {
     "slide_type": "slide"
    }
   },
   "source": [
    "There are several things we want to be able to do with a sequence.  \n",
    "   1.  We want to be able store and retrieve elements in a particular position.\n",
    "   2.  We want to be able to efficiently list all the elements of the sequence in order and perhaps do some thing\n",
    "       with them.\n",
    "The `for`  loop we used in the previous section lets us efficiently step through all the elements of a sequence\n",
    "and do some uniform thing to all of them.  For example, the next `for` loop just prints all the elements of Sentence2.\n",
    "Evaluate it and make sure you understand why it works the way it does."
   ]
  },
  {
   "cell_type": "code",
   "execution_count": 106,
   "metadata": {
    "scrolled": true,
    "slideshow": {
     "slide_type": "slide"
    }
   },
   "outputs": [
    {
     "name": "stdout",
     "output_type": "stream",
     "text": [
      "T\n",
      "h\n",
      "e\n",
      " \n",
      "q\n",
      "u\n",
      "i\n",
      "c\n",
      "k\n",
      " \n",
      "b\n",
      "r\n",
      "o\n",
      "w\n",
      "n\n",
      " \n",
      "f\n",
      "o\n",
      "x\n",
      " \n",
      "j\n",
      "u\n",
      "m\n",
      "p\n",
      "e\n",
      "d\n",
      " \n",
      "o\n",
      "v\n",
      "e\n",
      "r\n",
      " \n",
      "t\n",
      "h\n",
      "e\n",
      " \n",
      "l\n",
      "a\n",
      "z\n",
      "y\n",
      " \n",
      "y\n",
      "e\n",
      "l\n",
      "l\n",
      "o\n",
      "w\n",
      " \n",
      "d\n",
      "o\n",
      "g\n",
      ".\n"
     ]
    }
   ],
   "source": [
    "Sentence2 = 'The quick brown fox jumped over the lazy yellow dog.'\n",
    "for letter in Sentence2:\n",
    "    print(letter)"
   ]
  },
  {
   "cell_type": "markdown",
   "metadata": {
    "slideshow": {
     "slide_type": "slide"
    }
   },
   "source": [
    "Now suppose we wanted to print all the **words** in `Sentence2`, each on a line all its own. "
   ]
  },
  {
   "cell_type": "markdown",
   "metadata": {
    "slideshow": {
     "slide_type": "notes"
    }
   },
   "source": [
    " \n",
    "\n",
    "Well we can't do that with a simple  `for` loop with a string like `Sentence2`.  This is because the words in `Sentence2` are all different lengths and therefore they turn out to be different-sized splices. The next cell prints out the first\n",
    "three words using splices. Evaluate it and make sure you understand why the splices work the way they do."
   ]
  },
  {
   "cell_type": "code",
   "execution_count": null,
   "metadata": {
    "collapsed": true,
    "slideshow": {
     "slide_type": "subslide"
    }
   },
   "outputs": [],
   "source": [
    "# First we need a splice 3 characters long starting at the beginning of the string.\n",
    "Sentence2 = 'The quick brown fox jumped over the lazy yellow dog.'\n",
    "print(Sentence2[0:3]) # Now skip the space\n",
    "print(Sentence2[4:9]) # Now skip the space\n",
    "print(Sentence2[10:16])"
   ]
  },
  {
   "cell_type": "markdown",
   "metadata": {
    "slideshow": {
     "slide_type": "slide"
    }
   },
   "source": [
    "## An easier way"
   ]
  },
  {
   "cell_type": "markdown",
   "metadata": {
    "slideshow": {
     "slide_type": "notes"
    }
   },
   "source": [
    "Fortunately there's a much easier way to print out the words.  We turn the string into a list, each of whose elements is a word in the string.  Then we use a simple `for` loop."
   ]
  },
  {
   "cell_type": "code",
   "execution_count": 1,
   "metadata": {
    "slideshow": {
     "slide_type": "subslide"
    }
   },
   "outputs": [
    {
     "name": "stdout",
     "output_type": "stream",
     "text": [
      "The\n",
      "quick\n",
      "brown\n",
      "fox\n",
      "jumped\n",
      "over\n",
      "the\n",
      "lazy\n",
      "yellow\n",
      "dog.\n"
     ]
    }
   ],
   "source": [
    "Sentence2 = 'The quick brown fox jumped over the lazy yellow dog.'\n",
    "word_list = Sentence2.split()\n",
    "for word in word_list:\n",
    "    print(word)"
   ]
  },
  {
   "cell_type": "code",
   "execution_count": 2,
   "metadata": {},
   "outputs": [
    {
     "data": {
      "text/plain": [
       "['The',\n",
       " 'quick',\n",
       " 'brown',\n",
       " 'fox',\n",
       " 'jumped',\n",
       " 'over',\n",
       " 'the',\n",
       " 'lazy',\n",
       " 'yellow',\n",
       " 'dog.']"
      ]
     },
     "execution_count": 2,
     "metadata": {},
     "output_type": "execute_result"
    }
   ],
   "source": [
    "Sentence2.split()"
   ]
  },
  {
   "cell_type": "markdown",
   "metadata": {
    "slideshow": {
     "slide_type": "slide"
    }
   },
   "source": [
    "The next cell shows what `split` does.  It creates a list of strings by breaking the original string up at the spaces."
   ]
  },
  {
   "cell_type": "code",
   "execution_count": 3,
   "metadata": {
    "slideshow": {
     "slide_type": "subslide"
    }
   },
   "outputs": [
    {
     "data": {
      "text/plain": [
       "['The',\n",
       " 'quick',\n",
       " 'brown',\n",
       " 'fox',\n",
       " 'jumped',\n",
       " 'over',\n",
       " 'the',\n",
       " 'lazy',\n",
       " 'yellow',\n",
       " 'dog.']"
      ]
     },
     "execution_count": 3,
     "metadata": {},
     "output_type": "execute_result"
    }
   ],
   "source": [
    "Sentence2 = 'The quick brown fox jumped over the lazy yellow dog.'\n",
    "Sentence2.split()"
   ]
  },
  {
   "cell_type": "markdown",
   "metadata": {
    "slideshow": {
     "slide_type": "notes"
    }
   },
   "source": [
    " Notice the spaces themselves are not included. When we split \"on\" some element of a string, that element is regarded as a *separator character* and the things of interest are the things between separators.  `split` is actually a much more general function that can split a string on any character and return the substrings separated by that element.  So for example if we split `Sentence2` on `u`, we get three pieces back, because there are two `u`'s."
   ]
  },
  {
   "cell_type": "code",
   "execution_count": 4,
   "metadata": {
    "slideshow": {
     "slide_type": "slide"
    }
   },
   "outputs": [
    {
     "data": {
      "text/plain": [
       "['The q', 'ick brown fox j', 'mped over the lazy yellow dog.']"
      ]
     },
     "execution_count": 4,
     "metadata": {},
     "output_type": "execute_result"
    }
   ],
   "source": [
    "Sentence2 = 'The quick brown fox jumped over the lazy yellow dog.'\n",
    "Sentence2.split('u')"
   ]
  },
  {
   "cell_type": "markdown",
   "metadata": {
    "slideshow": {
     "slide_type": "notes"
    }
   },
   "source": [
    "Notice that this time the elements of the list returned by `split` did include spaces. "
   ]
  },
  {
   "cell_type": "markdown",
   "metadata": {
    "slideshow": {
     "slide_type": "slide"
    }
   },
   "source": [
    " \n",
    "Try to guess what we'll get in the next example before looking at the result in the output cell. We will try to split `Sentence2` on `y`.  How many pieces will there be and what will the second piece be?"
   ]
  },
  {
   "cell_type": "code",
   "execution_count": null,
   "metadata": {
    "slideshow": {
     "slide_type": "subslide"
    }
   },
   "outputs": [],
   "source": [
    "Sentence2 = 'The quick brown fox jumped over the lazy yellow dog.'\n",
    "Sentence2.split('y')"
   ]
  },
  {
   "cell_type": "markdown",
   "metadata": {
    "slideshow": {
     "slide_type": "slide"
    }
   },
   "source": [
    "More usefully, data is often stored in files with some special character used as a 'separator'.  For example, if you save an Excel file in `.csv` format, the comma character (\",\") is used as a separator, and a table of people, their ages, and their phone numbers might look like this:\n",
    "\n",
    "```\n",
    " fred,22,7891234\n",
    " alice,28,9070077\n",
    " joe,20,8742399\n",
    "```\n",
    "\n",
    "The next cell shows what you get you get when you split one of these lines on comma:"
   ]
  },
  {
   "cell_type": "code",
   "execution_count": null,
   "metadata": {
    "slideshow": {
     "slide_type": "fragment"
    }
   },
   "outputs": [],
   "source": [
    "'joe,20,8742399'.split(\",\")"
   ]
  },
  {
   "cell_type": "markdown",
   "metadata": {
    "slideshow": {
     "slide_type": "notes"
    }
   },
   "source": [
    "Notice the numbers are not Python numbers; they are strings of digits, because splitting a string always returns a list of strings.\n",
    "\n",
    "The `default` character that `split` splits on is actually a set of characters, anything that counts as whitespaces.  That includes space (' '), tab ('\\t'), a line return, because turning a string into a list of words is often fairly useful.  This is what we did with `Sentence2` above.\n",
    "\n",
    "Try to guess what the result of the following split will be:"
   ]
  },
  {
   "cell_type": "code",
   "execution_count": 112,
   "metadata": {},
   "outputs": [
    {
     "data": {
      "text/plain": [
       "['Rose',\n",
       " 'are',\n",
       " 'red;',\n",
       " 'violets',\n",
       " 'are',\n",
       " 'blue.',\n",
       " 'Sugar',\n",
       " 'is',\n",
       " 'sweet.',\n",
       " 'And',\n",
       " 'so',\n",
       " 'are',\n",
       " 'you.']"
      ]
     },
     "execution_count": 112,
     "metadata": {},
     "output_type": "execute_result"
    }
   ],
   "source": [
    "S = \"\"\"Rose are red;\n",
    "       violets are blue.\n",
    "       Sugar is sweet.\n",
    "       And so are you.\n",
    "       \"\"\"\n",
    "S.split()"
   ]
  },
  {
   "cell_type": "markdown",
   "metadata": {
    "slideshow": {
     "slide_type": "notes"
    }
   },
   "source": [
    "The moral of this section is that different kinds of sequences can have different kinds of elements.  Strings are probably best thought of as having characters (strings of length 1) as their elements, and that's the only convenient way\n",
    "to loop through them, one character at a time.  Lists are more flexible.  An element of the list can itself be a sequence, and so we can arrange for a list to have chunks of any size as its elements. We just pick whatever chunks are useful, and in strings of text, the word chunks are useful, and the default version of splitting gives us (approximately) a list of word chunks."
   ]
  },
  {
   "cell_type": "markdown",
   "metadata": {
    "slideshow": {
     "slide_type": "slide"
    }
   },
   "source": [
    "## Counting words"
   ]
  },
  {
   "cell_type": "markdown",
   "metadata": {},
   "source": [
    "Let's review how we did counting above."
   ]
  },
  {
   "cell_type": "code",
   "execution_count": 6,
   "metadata": {
    "slideshow": {
     "slide_type": "slide"
    }
   },
   "outputs": [],
   "source": [
    "from collections import Counter\n",
    "Sentence = 'the quick brown fox jumped over the lazy yellow dog.'\n",
    "letter_freqs2 = Counter(Sentence2)"
   ]
  },
  {
   "cell_type": "markdown",
   "metadata": {},
   "source": [
    "Bearing in mind that we can initilaize a `Counter` with any kind of sequence, revise the code above so that what is counted is words, not characters."
   ]
  },
  {
   "cell_type": "code",
   "execution_count": 7,
   "metadata": {},
   "outputs": [],
   "source": [
    "letter_freqs2 = Counter(Sentence2.split())"
   ]
  },
  {
   "cell_type": "code",
   "execution_count": 8,
   "metadata": {},
   "outputs": [
    {
     "data": {
      "text/plain": [
       "Counter({'The': 1,\n",
       "         'quick': 1,\n",
       "         'brown': 1,\n",
       "         'fox': 1,\n",
       "         'jumped': 1,\n",
       "         'over': 1,\n",
       "         'the': 1,\n",
       "         'lazy': 1,\n",
       "         'yellow': 1,\n",
       "         'dog.': 1})"
      ]
     },
     "execution_count": 8,
     "metadata": {},
     "output_type": "execute_result"
    }
   ],
   "source": [
    "letter_freqs2"
   ]
  },
  {
   "cell_type": "markdown",
   "metadata": {
    "slideshow": {
     "slide_type": "slide"
    }
   },
   "source": [
    "# Embedded Structure"
   ]
  },
  {
   "cell_type": "code",
   "execution_count": 9,
   "metadata": {
    "slideshow": {
     "slide_type": "slide"
    }
   },
   "outputs": [],
   "source": [
    "Higgledypiggledy = [1, ['a','b','c'], (1.4, 'Sam')]"
   ]
  },
  {
   "cell_type": "markdown",
   "metadata": {
    "slideshow": {
     "slide_type": "fragment"
    }
   },
   "source": [
    "We saw this example above.  Here we emphasize the fact that some container types can contain containers, either of the same type  or of different types. `Higgledypiggledy` is a list that contains a list and a tuple."
   ]
  },
  {
   "cell_type": "code",
   "execution_count": 10,
   "metadata": {
    "slideshow": {
     "slide_type": "fragment"
    }
   },
   "outputs": [
    {
     "data": {
      "text/plain": [
       "['a', 'b', 'c']"
      ]
     },
     "execution_count": 10,
     "metadata": {},
     "output_type": "execute_result"
    }
   ],
   "source": [
    "Higgledypiggledy[1]"
   ]
  },
  {
   "cell_type": "code",
   "execution_count": 11,
   "metadata": {
    "slideshow": {
     "slide_type": "fragment"
    }
   },
   "outputs": [
    {
     "data": {
      "text/plain": [
       "'c'"
      ]
     },
     "execution_count": 11,
     "metadata": {},
     "output_type": "execute_result"
    }
   ],
   "source": [
    "Higgledypiggledy[1][2]"
   ]
  },
  {
   "cell_type": "code",
   "execution_count": null,
   "metadata": {
    "slideshow": {
     "slide_type": "slide"
    }
   },
   "outputs": [],
   "source": [
    "What value does executing this cell return?"
   ]
  },
  {
   "cell_type": "code",
   "execution_count": 12,
   "metadata": {
    "slideshow": {
     "slide_type": "fragment"
    }
   },
   "outputs": [
    {
     "data": {
      "text/plain": [
       "'M'"
      ]
     },
     "execution_count": 12,
     "metadata": {},
     "output_type": "execute_result"
    }
   ],
   "source": [
    "dd = dict(name = 'Mark Gawron',\n",
    "          language = 'Python',\n",
    "          favorite_tv_show = \"Monty Python's Flying Circus\",\n",
    "          favorite_desert = 'Apple pie')\n",
    "dd['name'][0]"
   ]
  },
  {
   "cell_type": "markdown",
   "metadata": {
    "slideshow": {
     "slide_type": "slide"
    }
   },
   "source": [
    "What value does executing this cell return?"
   ]
  },
  {
   "cell_type": "code",
   "execution_count": 13,
   "metadata": {
    "slideshow": {
     "slide_type": "fragment"
    }
   },
   "outputs": [
    {
     "data": {
      "text/plain": [
       "'Mark'"
      ]
     },
     "execution_count": 13,
     "metadata": {},
     "output_type": "execute_result"
    }
   ],
   "source": [
    "dd = dict(name = 'Mark Gawron',\n",
    "          language = 'Python',\n",
    "          favorite_tv_show = \"Monty Python's Flying Circus\",\n",
    "          favorite_desert = 'Apple pie')\n",
    "dd['name'].split()[0]"
   ]
  },
  {
   "cell_type": "code",
   "execution_count": 133,
   "metadata": {},
   "outputs": [
    {
     "data": {
      "text/plain": [
       "'Mark'"
      ]
     },
     "execution_count": 133,
     "metadata": {},
     "output_type": "execute_result"
    }
   ],
   "source": [
    "dd['name'].split()[0]"
   ]
  },
  {
   "cell_type": "markdown",
   "metadata": {
    "slideshow": {
     "slide_type": "skip"
    }
   },
   "source": [
    "In the next exercise we try to retrieve some data."
   ]
  },
  {
   "cell_type": "code",
   "execution_count": 14,
   "metadata": {
    "slideshow": {
     "slide_type": "slide"
    }
   },
   "outputs": [],
   "source": [
    "dd = dict(name = 'Mark Gawron',\n",
    "          language = 'Python',\n",
    "          favorite_tv_show = \"Monty Python's Flying Circus\",\n",
    "          favorite_desert = 'Apple pie')"
   ]
  },
  {
   "cell_type": "markdown",
   "metadata": {
    "slideshow": {
     "slide_type": "fragment"
    }
   },
   "source": [
    "In the next cell, Write a single expression that retrieves the word `Flying` from `dd`."
   ]
  },
  {
   "cell_type": "code",
   "execution_count": 15,
   "metadata": {
    "slideshow": {
     "slide_type": "fragment"
    }
   },
   "outputs": [
    {
     "data": {
      "text/plain": [
       "'Flying'"
      ]
     },
     "execution_count": 15,
     "metadata": {},
     "output_type": "execute_result"
    }
   ],
   "source": [
    "dd['favorite_tv_show'].split()[2]"
   ]
  },
  {
   "cell_type": "markdown",
   "metadata": {
    "slideshow": {
     "slide_type": "slide"
    }
   },
   "source": [
    "# Takeaways"
   ]
  },
  {
   "cell_type": "markdown",
   "metadata": {
    "slideshow": {
     "slide_type": "subslide"
    }
   },
   "source": [
    "1. Different types => different constructions for retrieving information\n",
    "2. Different types => different operations that work\n",
    "3. In any container, what the elements are matters for retrieving information, for counting, for looping through the elements\n",
    "4. Containers have hierarchical structure.  Containers may have containers as elements.\n",
    "5. Python syntax allows for hierarchical structure (`X[y][z]`)"
   ]
  },
  {
   "cell_type": "markdown",
   "metadata": {},
   "source": [
    "<font size = 6> <b> Appendix:  Networks (Dictionaries) [Extra Credit: Note solved yet, not needed for Quiz] </b></font>"
   ]
  },
  {
   "cell_type": "markdown",
   "metadata": {},
   "source": [
    "This section presents a brief preview of `Networkx`, an important Python module that provides a number of\n",
    "tools for building and analyzing networks. Suppose we return to the example of our high school friendship network,\n",
    "which we represented above in a dictionary."
   ]
  },
  {
   "cell_type": "code",
   "execution_count": 5,
   "metadata": {},
   "outputs": [
    {
     "data": {
      "image/png": "[encoded data removed]",
      "text/plain": [
       "<IPython.core.display.Image object>"
      ]
     },
     "execution_count": 5,
     "metadata": {
      "image/png": {
       "width": 300
      }
     },
     "output_type": "execute_result"
    }
   ],
   "source": [
    "from IPython.display import Image\n",
    "Image(filename='practice_toy_graph.png',width=300)"
   ]
  },
  {
   "cell_type": "markdown",
   "metadata": {},
   "source": [
    "Alternatively, suppose we have a file `practice_toy_graph.el` whose contents look like this\n",
    "\n",
    "```\n",
    "Sue_Anne  Sam \n",
    "Sue_Anne  Hugo\n",
    "Sue_Anne  Harry\n",
    "Sam  Billy_Joe\n",
    "Billy_Joe  Barbara\n",
    "Harry  Hugo\n",
    "Barbara  Bobbie_Rae\n",
    "Sam  Ricky\n",
    "Barbara  Sue_Anne\n",
    "```\n",
    "\n",
    "Here's the \".el\" extension signals the file is in \"edgelist\" format, the simplest way to\n",
    "represent graph information. Note that this representation looks a little like a \n",
    "list of pairs.  We can turn this into a useful graph representation using \n",
    "`networkx`,  a Python package for handling\n",
    "networks; `networkx`  provides a way of reading a file in the above format into\n",
    "an internal representation of a graph, a little different from the dictionary\n",
    "representation we used above, but with the same information."
   ]
  },
  {
   "cell_type": "code",
   "execution_count": 1,
   "metadata": {},
   "outputs": [],
   "source": [
    "import networkx as nx\n",
    "G = nx.read_edgelist('practice_toy_graph.el')"
   ]
  },
  {
   "cell_type": "markdown",
   "metadata": {},
   "source": [
    "G is now a `networkx` graph object:"
   ]
  },
  {
   "cell_type": "code",
   "execution_count": 2,
   "metadata": {},
   "outputs": [
    {
     "data": {
      "text/plain": [
       "<networkx.classes.graph.Graph at 0x1087295c0>"
      ]
     },
     "execution_count": 2,
     "metadata": {},
     "output_type": "execute_result"
    }
   ],
   "source": [
    "G"
   ]
  },
  {
   "cell_type": "markdown",
   "metadata": {},
   "source": [
    "We find a list of pairs-like representation of the edges in our graph if we look at something called `G.edges`."
   ]
  },
  {
   "cell_type": "code",
   "execution_count": 3,
   "metadata": {
    "scrolled": true
   },
   "outputs": [
    {
     "data": {
      "text/plain": [
       "EdgeView([('Sue_Anne', 'Sam'), ('Sue_Anne', 'Hugo'), ('Sue_Anne', 'Harry'), ('Sue_Anne', 'Barbara'), ('Sam', 'Billy_Joe'), ('Sam', 'Ricky'), ('Billy_Joe', 'Barbara'), ('Barbara', 'Bobbie_Rae'), ('Harry', 'Hugo')])"
      ]
     },
     "execution_count": 3,
     "metadata": {},
     "output_type": "execute_result"
    }
   ],
   "source": [
    "G.edges"
   ]
  },
  {
   "cell_type": "markdown",
   "metadata": {},
   "source": [
    "We will talk more about the `x.y` syntax later when we talk about classes and class instances.  For now, we will just note that **objects** (the graph `G` is an object) have **attributes** (`edges` is an attribute of `G`), and `G.edges` denotes the list-of-pairs like data you see above. Each member of this \"list\" represents a link in the graph, or a friendship.\n",
    "\n",
    "The graph `G` has a number of attributes.  Another attribute is `nodes`, which stores a list-like view of the people (nodes) in the friendship network."
   ]
  },
  {
   "cell_type": "code",
   "execution_count": 4,
   "metadata": {},
   "outputs": [
    {
     "data": {
      "text/plain": [
       "NodeView(('Sue_Anne', 'Sam', 'Billy_Joe', 'Barbara', 'Harry', 'Hugo', 'Bobbie_Rae', 'Ricky'))"
      ]
     },
     "execution_count": 4,
     "metadata": {},
     "output_type": "execute_result"
    }
   ],
   "source": [
    "G.nodes"
   ]
  },
  {
   "cell_type": "markdown",
   "metadata": {},
   "source": [
    "It turns out that even  though `G` is not a dictionary, we can treat it like one, using the nodes in `G.nodes` as its keys:"
   ]
  },
  {
   "cell_type": "code",
   "execution_count": 5,
   "metadata": {},
   "outputs": [
    {
     "name": "stdout",
     "output_type": "stream",
     "text": [
      "Sue_Anne {'Sam': {}, 'Hugo': {}, 'Harry': {}, 'Barbara': {}}\n",
      "Sam {'Sue_Anne': {}, 'Billy_Joe': {}, 'Ricky': {}}\n",
      "Billy_Joe {'Sam': {}, 'Barbara': {}}\n",
      "Barbara {'Billy_Joe': {}, 'Bobbie_Rae': {}, 'Sue_Anne': {}}\n",
      "Harry {'Hugo': {}, 'Sue_Anne': {}}\n",
      "Hugo {'Harry': {}, 'Sue_Anne': {}}\n",
      "Bobbie_Rae {'Barbara': {}}\n",
      "Ricky {'Sam': {}}\n"
     ]
    }
   ],
   "source": [
    "for n in G.nodes():\n",
    "    print(('{0} {1}'.format(n, G[n])))\n",
    "    #print('{0:<15} {1}'.format(n, G[n]))"
   ]
  },
  {
   "cell_type": "markdown",
   "metadata": {},
   "source": [
    "One of the attractions of using a graph package like `Networkx` instead of \"rolling our own\" representation of a graph, is that it provides a lot of efficient functions for doing things one would want to do with graphs.  For example, we might want to **draw** them.  Typically there is a lot of complexity in any visualization software, and visualization is a good place to start letting the pros do it.  In fact `networkx` makes use of still another package to do its drawing, `matplotlib (pylab)`, the same Python package we will use for drawing graphs later."
   ]
  },
  {
   "cell_type": "code",
   "execution_count": 6,
   "metadata": {
    "collapsed": true
   },
   "outputs": [
    {
     "name": "stdout",
     "output_type": "stream",
     "text": [
      "Populating the interactive namespace from numpy and matplotlib\n"
     ]
    },
    {
     "data": {
      "image/png": "[encoded data removed]",
      "text/plain": [
       "<Figure size 432x288 with 1 Axes>"
      ]
     },
     "metadata": {},
     "output_type": "display_data"
    }
   ],
   "source": [
    "%pylab inline\n",
    "nx.draw_networkx(G)"
   ]
  },
  {
   "cell_type": "markdown",
   "metadata": {},
   "source": [
    "`Networkx` also allows a graph to be read in as a list of strings."
   ]
  },
  {
   "cell_type": "code",
   "execution_count": 7,
   "metadata": {},
   "outputs": [],
   "source": [
    "edgelist_str = \\\n",
    "[\n",
    "'Sue_Anne  Sam', \n",
    "'Sam  Billy_Joe',\n",
    "'Billy_Joe  Barbara',\n",
    "'Harry  Hugo',\n",
    "'Barbara  Bobbie_Rae',\n",
    "'Sue_Anne  Hugo',\n",
    "'Sue_Anne  Harry',\n",
    "'Sam  Ricky',\n",
    "'Barbara  Sue_Anne']\n",
    "G0 = nx.parse_edgelist(edgelist_str)"
   ]
  },
  {
   "cell_type": "code",
   "execution_count": 14,
   "metadata": {
    "collapsed": true
   },
   "outputs": [
    {
     "data": {
      "image/png": "[encoded data removed]",
      "text/plain": [
       "<Figure size 432x288 with 1 Axes>"
      ]
     },
     "metadata": {},
     "output_type": "display_data"
    }
   ],
   "source": [
    "nx.draw_networkx(G0)"
   ]
  },
  {
   "cell_type": "markdown",
   "metadata": {},
   "source": [
    "Let's look at `G[n]` a little more closely:"
   ]
  },
  {
   "cell_type": "code",
   "execution_count": 52,
   "metadata": {},
   "outputs": [
    {
     "name": "stdout",
     "output_type": "stream",
     "text": [
      "Sue_Anne        {'Sam': {}, 'Hugo': {}, 'Harry': {}, 'Barbara': {}}\n",
      "Sam             {'Sue_Anne': {}, 'Billy_Joe': {}, 'Ricky': {}}\n",
      "Billy_Joe       {'Sam': {}, 'Barbara': {}}\n",
      "Barbara         {'Billy_Joe': {}, 'Bobbie_Rae': {}, 'Sue_Anne': {}}\n",
      "Harry           {'Hugo': {}, 'Sue_Anne': {}}\n",
      "Hugo            {'Harry': {}, 'Sue_Anne': {}}\n",
      "Bobbie_Rae      {'Barbara': {}}\n",
      "Ricky           {'Sam': {}}\n"
     ]
    }
   ],
   "source": [
    "for n in G.nodes():\n",
    "    print(('{0:15} {1}'.format(n, G[n])))"
   ]
  },
  {
   "cell_type": "markdown",
   "metadata": {},
   "source": [
    "Notice that in each case `G[n]` is a dictionary.  The keys of `n` are the friends that `n` is connected to.  That values are empty dictionaries.\n",
    "\n",
    "This representation is a little different from the dictionary representation of the graph we used above.  Think about two questions.  (a) Does it contain the same information as our dictionary representation above? (b) How is it different?  "
   ]
  },
  {
   "cell_type": "markdown",
   "metadata": {},
   "source": [
    "The advantage of having those empty dictionaries around is that it we can use them to representing attributes of edges, which allows us to build networks with more realistic properties.  For example, suppose we want to associate friendship links with an intensity, as measured by something like the number of different kinds of contexts in which the two friends see one another.  We would then want to be able to associate each edge with a weight.  To build a `Networkx` representation of weighted edges, we could do something like  this:"
   ]
  },
  {
   "cell_type": "code",
   "execution_count": 8,
   "metadata": {},
   "outputs": [],
   "source": [
    "edgelist_str1 = \\\n",
    "[\n",
    "'Sue_Anne  Sam {\"weight\":8}', \n",
    "'Sam  Billy_Joe {\"weight\":5}',\n",
    "'Billy_Joe  Barbara {\"weight\":3}',\n",
    "'Harry  Hugo {\"weight\":8}',\n",
    "'Barbara  Bobbie_Rae {\"weight\":1}',\n",
    "'Sue_Anne  Hugo {\"weight\":9}',\n",
    "'Sue_Anne  Harry {\"weight\":7}',\n",
    "'Sam  Ricky {\"weight\":8}',\n",
    "'Barbara  Sue_Anne {\"weight\":2}']\n",
    "\n",
    "G1 = nx.parse_edgelist(edgelist_str1)"
   ]
  },
  {
   "cell_type": "markdown",
   "metadata": {},
   "source": [
    "This means `Sue_Anne` has relatively intense freindships with `Hugo` and `Sam`, and that `Barbara` and `Bobbie Rae` have a relativly casual friendship.\n",
    "\n",
    "`G1.edges` looks much the same."
   ]
  },
  {
   "cell_type": "code",
   "execution_count": 9,
   "metadata": {},
   "outputs": [
    {
     "data": {
      "text/plain": [
       "EdgeView([('Sue_Anne', 'Sam'), ('Sue_Anne', 'Hugo'), ('Sue_Anne', 'Harry'), ('Sue_Anne', 'Barbara'), ('Sam', 'Billy_Joe'), ('Sam', 'Ricky'), ('Billy_Joe', 'Barbara'), ('Barbara', 'Bobbie_Rae'), ('Harry', 'Hugo')])"
      ]
     },
     "execution_count": 9,
     "metadata": {},
     "output_type": "execute_result"
    }
   ],
   "source": [
    "G1.edges"
   ]
  },
  {
   "cell_type": "markdown",
   "metadata": {},
   "source": [
    "However, if we want to see the edge **weights**, or the **data** we have about each edge, we do this:\n"
   ]
  },
  {
   "cell_type": "code",
   "execution_count": 17,
   "metadata": {},
   "outputs": [
    {
     "data": {
      "text/plain": [
       "EdgeDataView([('Sue_Anne', 'Sam', {'weight': 8}), ('Sue_Anne', 'Hugo', {'weight': 9}), ('Sue_Anne', 'Harry', {'weight': 7}), ('Sue_Anne', 'Barbara', {'weight': 2}), ('Sam', 'Billy_Joe', {'weight': 5}), ('Sam', 'Ricky', {'weight': 8}), ('Billy_Joe', 'Barbara', {'weight': 3}), ('Barbara', 'Bobbie_Rae', {'weight': 1}), ('Harry', 'Hugo', {'weight': 8})])"
      ]
     },
     "execution_count": 17,
     "metadata": {},
     "output_type": "execute_result"
    }
   ],
   "source": [
    "G1.edges(data = True)"
   ]
  },
  {
   "cell_type": "markdown",
   "metadata": {},
   "source": [
    "The `edges` attribute can be **called**, like a function,  and extra arguments (in the case `data`) can be specified. A function of this sort of is called a **method**  We'll learn more about methods when we talk about classes.\n",
    "\n",
    "If the designers have been good to us, a method will have documentation, and we can look it up in the notebook environment as follows:"
   ]
  },
  {
   "cell_type": "code",
   "execution_count": 18,
   "metadata": {},
   "outputs": [],
   "source": [
    "G1.edges?"
   ]
  },
  {
   "cell_type": "markdown",
   "metadata": {},
   "source": [
    "We can also take advantage of the fact that we can treat `G1` like a dictionary, and that the value\n",
    "of `G1['Sue_Anne']` is a dictionary to find the weight of one of `Sue_Anne`'s friendships:"
   ]
  },
  {
   "cell_type": "code",
   "execution_count": 10,
   "metadata": {},
   "outputs": [
    {
     "data": {
      "text/plain": [
       "{'weight': 8}"
      ]
     },
     "execution_count": 10,
     "metadata": {},
     "output_type": "execute_result"
    }
   ],
   "source": [
    "G1['Sue_Anne']['Sam']"
   ]
  },
  {
   "cell_type": "markdown",
   "metadata": {},
   "source": [
    "Or even:"
   ]
  },
  {
   "cell_type": "code",
   "execution_count": 11,
   "metadata": {},
   "outputs": [
    {
     "data": {
      "text/plain": [
       "8"
      ]
     },
     "execution_count": 11,
     "metadata": {},
     "output_type": "execute_result"
    }
   ],
   "source": [
    "G1['Sue_Anne']['Sam']['weight']"
   ]
  },
  {
   "cell_type": "code",
   "execution_count": 12,
   "metadata": {
    "collapsed": true
   },
   "outputs": [
    {
     "data": {
      "image/png": "[encoded data removed]",
      "text/plain": [
       "<Figure size 432x288 with 1 Axes>"
      ]
     },
     "metadata": {},
     "output_type": "display_data"
    }
   ],
   "source": [
    "nx.draw_networkx(G1)"
   ]
  },
  {
   "cell_type": "markdown",
   "metadata": {},
   "source": [
    "Let's do the following exercise.  Take the following information.  Make it an edgelist like `edgelist_str` above (no weights).\n",
    "\n",
    "```\n",
    "Acme buys parts from D-Line and Excelsior, Inc.\n",
    "D-Line buys parts from Excelsior, Inc.\n",
    "Fillmore Lmtd. buys parts from Excelsior Inc. and Bradley Tool & Dye.\n",
    "Bradley Tool & Dye buys parts from Crossley Maritime.\n",
    "Bradley Tool & Dye buys parts from D-Line.\n",
    "Crossley Maritime supplies Acme.\n",
    "```"
   ]
  },
  {
   "cell_type": "code",
   "execution_count": 13,
   "metadata": {},
   "outputs": [],
   "source": [
    "e10 = [\"Acme D-Line\",\n",
    "       \"Acme Excelsior_Inc.\",\n",
    "       \"Fillmore_Lmtd. Excelsior_Inc.\",\n",
    "       \"Fillmore_Lmtd. Bradley_Tool_&_Dye\",\n",
    "       \"Bradley_Tool_&_Dye Crossley_Maritime\",\n",
    "       \"Acme Crossley_Maritime\",\n",
    "      ]"
   ]
  },
  {
   "cell_type": "markdown",
   "metadata": {},
   "source": [
    "The next cell creates and draws your network, assuming you have created the edgeliust `e10` containing the above\n",
    "\"buy parts\" information.  It creates a **directed graph**.  That is, the links are directional.  We used an undirected graph above because we were talking about friendship; if Sue Anne and Sam are friends, then Sam is Sue Anne's friend and Sue Anne is Sam's friend.  Buying parts doesn't work that way.  One company is the buyer; the other the supplier.\n",
    "\n",
    "If you've completed this extra credit section (and defined `e10`, you should execute the cell below befor ehanding the notebook."
   ]
  },
  {
   "cell_type": "code",
   "execution_count": 15,
   "metadata": {
    "collapsed": true
   },
   "outputs": [
    {
     "data": {
      "image/png": "[encoded data removed]",
      "text/plain": [
       "<Figure size 432x288 with 1 Axes>"
      ]
     },
     "metadata": {},
     "output_type": "display_data"
    }
   ],
   "source": [
    "#G2 = nx.parse_edgelist(e10,create_using=nx.DiGraph())\n",
    "G2 = nx.parse_edgelist(e10)\n",
    "nx.draw_networkx(G2)"
   ]
  },
  {
   "cell_type": "code",
   "execution_count": null,
   "metadata": {},
   "outputs": [],
   "source": []
  },
  {
   "cell_type": "code",
   "execution_count": 21,
   "metadata": {},
   "outputs": [],
   "source": [
    "#G2 = nx.read_edgelist('e10_edgelist.el',create_using=nx.DiGraph())\n",
    "G2 = nx.read_edgelist('e10_edgelist.el')\n",
    "nx.draw_networkx(G2)"
   ]
  },
  {
   "cell_type": "code",
   "execution_count": 31,
   "metadata": {
    "collapsed": true
   },
   "outputs": [
    {
     "data": {
      "text/plain": [
       "[<matplotlib.patches.FancyArrowPatch at 0x113fd95c0>,\n",
       " <matplotlib.patches.FancyArrowPatch at 0x113fd9f60>,\n",
       " <matplotlib.patches.FancyArrowPatch at 0x10e5ced30>,\n",
       " <matplotlib.patches.FancyArrowPatch at 0x113e01160>,\n",
       " <matplotlib.patches.FancyArrowPatch at 0x113e019b0>,\n",
       " <matplotlib.patches.FancyArrowPatch at 0x113e01390>,\n",
       " <matplotlib.patches.FancyArrowPatch at 0x113e016a0>,\n",
       " <matplotlib.patches.FancyArrowPatch at 0x113e01f60>]"
      ]
     },
     "execution_count": 31,
     "metadata": {},
     "output_type": "execute_result"
    },
    {
     "data": {
      "image/png": "[encoded data removed]",
      "text/plain": [
       "<Figure size 432x288 with 1 Axes>"
      ]
     },
     "metadata": {},
     "output_type": "display_data"
    }
   ],
   "source": [
    "pos = nx.circular_layout(G2)\n",
    "nx.draw_networkx_labels(G2, pos = pos)\n",
    "nx.draw_networkx_nodes(G2, pos = pos)\n",
    "nx.draw_networkx_edges(G2, pos = pos)"
   ]
  },
  {
   "cell_type": "code",
   "execution_count": null,
   "metadata": {},
   "outputs": [],
   "source": []
  }
 ],
 "metadata": {
  "celltoolbar": "Slideshow",
  "kernelspec": {
   "display_name": "Python 3",
   "language": "python",
   "name": "python3"
  },
  "language_info": {
   "codemirror_mode": {
    "name": "ipython",
    "version": 3
   },
   "file_extension": ".py",
   "mimetype": "text/x-python",
   "name": "python",
   "nbconvert_exporter": "python",
   "pygments_lexer": "ipython3",
   "version": "3.6.5"
  },
  "toc": {
   "base_numbering": 1,
   "nav_menu": {
    "height": "277px",
    "width": "252px"
   },
   "number_sections": true,
   "sideBar": true,
   "skip_h1_title": false,
   "title_cell": "Table of Contents",
   "title_sidebar": "Contents",
   "toc_cell": false,
   "toc_position": {},
   "toc_section_display": "block",
   "toc_window_display": false
  }
 },
 "nbformat": 4,
 "nbformat_minor": 1
}
