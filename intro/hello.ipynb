{
  "nbformat": 4,
  "nbformat_minor": 0,
  "metadata": {
    "kernelspec": {
      "display_name": "Python 3",
      "language": "python",
      "name": "python3"
    },
    "language_info": {
      "codemirror_mode": {
        "name": "ipython",
        "version": 3
      },
      "file_extension": ".py",
      "mimetype": "text/x-python",
      "name": "python",
      "nbconvert_exporter": "python",
      "pygments_lexer": "ipython3",
      "version": "3.6.4"
    },
    "toc": {
      "colors": {
        "hover_highlight": "#DAA520",
        "running_highlight": "#FF0000",
        "selected_highlight": "#FFD700"
      },
      "moveMenuLeft": true,
      "nav_menu": {
        "height": "12px",
        "width": "252px"
      },
      "navigate_menu": true,
      "number_sections": true,
      "sideBar": true,
      "threshold": 4,
      "toc_cell": false,
      "toc_section_display": "block",
      "toc_window_display": false,
      "widenNotebook": false
    },
    "colab": {
      "name": "hello.ipynb",
      "provenance": []
    }
  },
  "cells": [
    {
      "cell_type": "markdown",
      "metadata": {
        "id": "xAEmICxjBD0m",
        "colab_type": "text"
      },
      "source": [
        "# Command-line arguments"
      ]
    },
    {
      "cell_type": "code",
      "metadata": {
        "id": "llPazo-5AYFv",
        "colab_type": "code",
        "colab": {}
      },
      "source": [
        "import sys\n",
        "\n",
        "def main():\n",
        "   # Get the name from the command line, using 'World' as a fallback.\n",
        "   if len(sys.argv) >= 2:\n",
        "       name = sys.argv[1]\n",
        "   else:\n",
        "     name = 'World'\n",
        "   print('Hello', name)"
      ],
      "execution_count": null,
      "outputs": []
    },
    {
      "cell_type": "code",
      "metadata": {
        "id": "Upf2tUVJAYFy",
        "colab_type": "code",
        "colab": {},
        "outputId": "3a3e3011-a563-4c94-b40e-8b0d541db613"
      },
      "source": [
        "main()"
      ],
      "execution_count": null,
      "outputs": [
        {
          "output_type": "stream",
          "text": [
            "Hello -f\n"
          ],
          "name": "stdout"
        }
      ]
    },
    {
      "cell_type": "code",
      "metadata": {
        "id": "9uCzfMJqAYF1",
        "colab_type": "code",
        "colab": {},
        "outputId": "b143b145-f921-41db-af4a-ff4a962788cc"
      },
      "source": [
        "sys.argv"
      ],
      "execution_count": null,
      "outputs": [
        {
          "output_type": "execute_result",
          "data": {
            "text/plain": [
              "['/Users/gawron/Library/Enthought/Canopy_64bit/User/lib/python2.7/site-packages/ipykernel/__main__.py',\n",
              " '-f',\n",
              " '/Users/gawron/Library/Jupyter/runtime/kernel-bd645bad-c3dd-4a3d-b1d9-b0de1d68ee36.json']"
            ]
          },
          "metadata": {
            "tags": []
          },
          "execution_count": 3
        }
      ]
    },
    {
      "cell_type": "code",
      "metadata": {
        "id": "ahHC1D5bAYF4",
        "colab_type": "code",
        "colab": {}
      },
      "source": [
        "def main(name = None):\n",
        "   # Get the name from the command line, using 'World' as a fallback.\n",
        "   if name is None and len(sys.argv) >= 2:\n",
        "       name = sys.argv[1]\n",
        "   elif name is None:\n",
        "     name = 'World'\n",
        "   print('Hello', name)"
      ],
      "execution_count": null,
      "outputs": []
    },
    {
      "cell_type": "code",
      "metadata": {
        "id": "lTtgJDygA5QT",
        "colab_type": "code",
        "colab": {
          "base_uri": "https://localhost:8080/",
          "height": 34
        },
        "outputId": "6d3ba10d-6034-46fb-997a-cc7ee3fc7fc2"
      },
      "source": [
        "main('Bozo')"
      ],
      "execution_count": null,
      "outputs": [
        {
          "output_type": "stream",
          "text": [
            "Hello Bozo\n"
          ],
          "name": "stdout"
        }
      ]
    },
    {
      "cell_type": "code",
      "metadata": {
        "id": "cPiOxI6pBS1-",
        "colab_type": "code",
        "colab": {
          "base_uri": "https://localhost:8080/",
          "height": 68
        },
        "outputId": "d2d4ffc0-4df7-4220-b0e3-88ddc9fba383"
      },
      "source": [
        "X = 1\n",
        "print(type(X))\n",
        "Y = 1.\n",
        "print(type(Y))\n",
        "X == Y"
      ],
      "execution_count": null,
      "outputs": [
        {
          "output_type": "stream",
          "text": [
            "<class 'int'>\n",
            "<class 'float'>\n"
          ],
          "name": "stdout"
        },
        {
          "output_type": "execute_result",
          "data": {
            "text/plain": [
              "True"
            ]
          },
          "metadata": {
            "tags": []
          },
          "execution_count": 3
        }
      ]
    }
  ]
}