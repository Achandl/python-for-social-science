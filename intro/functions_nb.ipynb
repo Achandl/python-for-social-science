{
 "cells": [
  {
   "cell_type": "markdown",
   "metadata": {
    "colab_type": "text",
    "id": "tSv87EV-xAG0"
   },
   "source": [
    "<font size = 7> <b>Functions, types, loops assignment</b></font>"
   ]
  },
  {
   "cell_type": "markdown",
   "metadata": {
    "colab_type": "text",
    "id": "SoQbqypGxjTm"
   },
   "source": [
    "# Review of accessing operations"
   ]
  },
  {
   "cell_type": "markdown",
   "metadata": {
    "colab_type": "text",
    "id": "0UQLu8BwxAG1"
   },
   "source": [
    "## Exercise 1"
   ]
  },
  {
   "cell_type": "markdown",
   "metadata": {
    "colab_type": "text",
    "id": "l48lELRMxAG2"
   },
   "source": [
    "Add a line of code that will generate the give output::\n",
    " \n",
    "     In [ ]: a_list = [2,7,8, 19]\n",
    "             YOUR CODE HERE\n",
    "     Out [ ]: 2\n",
    "     \n",
    "NOTE: The idea of this kind of exercise is to write a line of code\n",
    "that will produce the given output, 2 in this case.  Your\n",
    "answer goes in the next cell, which is a code cell.  It should this be an\n",
    "expression that operates on `a_list`.  A simple correct answer is:\n",
    "\n",
    "     In [ ]: a_list = [2,7,8, 19]\n",
    "             a_list[0]\n",
    "     Out [ ]: 2\n",
    "     \n",
    "Don't forget to evaluate the cell after you've written in your answer to generate Python's output and check your answer!\n"
   ]
  },
  {
   "cell_type": "code",
   "execution_count": null,
   "metadata": {
    "colab": {},
    "colab_type": "code",
    "id": "aVZ_ApYFxAG2"
   },
   "outputs": [],
   "source": [
    "a_list = [2,7,8, 19]"
   ]
  },
  {
   "cell_type": "code",
   "execution_count": null,
   "metadata": {
    "colab": {},
    "colab_type": "code",
    "id": "RaZ7GURGxAG6"
   },
   "outputs": [],
   "source": [
    "[write your answer here]"
   ]
  },
  {
   "cell_type": "markdown",
   "metadata": {
    "colab_type": "text",
    "id": "iq05X7y9xAG8"
   },
   "source": [
    "##\n",
    " Exercise 2"
   ]
  },
  {
   "cell_type": "markdown",
   "metadata": {
    "colab_type": "text",
    "id": "23GlIMl0xAG9"
   },
   "source": [
    "  Write a line of code that produces the given output::\n",
    "   \n",
    "    In [ ]: a_list = ['sid','nancy','paul','ringo']\n",
    "             YOUR CODE HERE\n",
    "    Out [ ]: 'paul'"
   ]
  },
  {
   "cell_type": "code",
   "execution_count": null,
   "metadata": {
    "colab": {},
    "colab_type": "code",
    "id": "XxmKSWwZxAG9"
   },
   "outputs": [],
   "source": [
    "a_list = ['sid','nancy','paul','ringo']"
   ]
  },
  {
   "cell_type": "code",
   "execution_count": null,
   "metadata": {
    "colab": {},
    "colab_type": "code",
    "id": "yTquUfsgxAG_"
   },
   "outputs": [],
   "source": [
    "[Write your answer here]"
   ]
  },
  {
   "cell_type": "markdown",
   "metadata": {
    "colab_type": "text",
    "id": "KkWSQOcvxAHB"
   },
   "source": [
    "## Exercise 3"
   ]
  },
  {
   "cell_type": "markdown",
   "metadata": {
    "colab_type": "text",
    "id": "Jjf0RWxQxAHC"
   },
   "source": [
    " Write a line of code that produces the given output: \n",
    "   \n",
    "     In [ ]: a_list = ['sid','nancy','paul','ringo']\n",
    "           YOUR CODE HERE\n",
    "     Out [ ]: ['nancy','paul']\n"
   ]
  },
  {
   "cell_type": "code",
   "execution_count": null,
   "metadata": {
    "colab": {},
    "colab_type": "code",
    "id": "_850YLm3xAHC"
   },
   "outputs": [],
   "source": [
    "a_list = ['sid','nancy','paul','ringo']\n",
    "#Write your answer below this"
   ]
  },
  {
   "cell_type": "markdown",
   "metadata": {
    "colab_type": "text",
    "id": "zOE_-spix6FA"
   },
   "source": [
    "# Loops"
   ]
  },
  {
   "cell_type": "markdown",
   "metadata": {
    "colab_type": "text",
    "id": "WhzeJOD6xAHE"
   },
   "source": [
    "## Exercise 4"
   ]
  },
  {
   "cell_type": "markdown",
   "metadata": {
    "colab_type": "text",
    "id": "Qs1V-5B1xAHE"
   },
   "source": [
    "Write a line of code that produces the given output: \n",
    "\n",
    "```\n",
    "In [ ]: a_list = ['sid','nancy','paul','ringo']\n",
    "        YOUR CODE HERE\n",
    "Out [ ]: ['Sid','Nancy','Paul','Ringo']\n",
    "```"
   ]
  },
  {
   "cell_type": "markdown",
   "metadata": {
    "colab_type": "text",
    "id": "k-BgPopdyr7O"
   },
   "source": [
    "Here are some hints."
   ]
  },
  {
   "cell_type": "code",
   "execution_count": 2,
   "metadata": {
    "colab": {
     "base_uri": "https://localhost:8080/",
     "height": 35
    },
    "colab_type": "code",
    "id": "naf2B8VcygYX",
    "outputId": "2bf94293-61e4-468c-d6b5-8a327d6ac696"
   },
   "outputs": [
    {
     "data": {
      "application/vnd.google.colaboratory.intrinsic+json": {
       "type": "string"
      },
      "text/plain": [
       "'Sid'"
      ]
     },
     "execution_count": 2,
     "metadata": {
      "tags": []
     },
     "output_type": "execute_result"
    }
   ],
   "source": [
    "'sid'.title()"
   ]
  },
  {
   "cell_type": "markdown",
   "metadata": {
    "colab_type": "text",
    "id": "4KhQTrWExAHO"
   },
   "source": [
    "Note this a method on strings, and it won't work on lists:"
   ]
  },
  {
   "cell_type": "code",
   "execution_count": 4,
   "metadata": {
    "colab": {
     "base_uri": "https://localhost:8080/",
     "height": 181
    },
    "colab_type": "code",
    "id": "FOUNlKVGxAHP",
    "outputId": "d35eabf3-17e8-476d-e96f-00a9c29d1ec7"
   },
   "outputs": [
    {
     "ename": "AttributeError",
     "evalue": "ignored",
     "output_type": "error",
     "traceback": [
      "\u001b[0;31m---------------------------------------------------------------------------\u001b[0m",
      "\u001b[0;31mAttributeError\u001b[0m                            Traceback (most recent call last)",
      "\u001b[0;32m<ipython-input-4-96be30fb4f05>\u001b[0m in \u001b[0;36m<module>\u001b[0;34m()\u001b[0m\n\u001b[1;32m      1\u001b[0m \u001b[0ma_list\u001b[0m \u001b[0;34m=\u001b[0m \u001b[0;34m[\u001b[0m\u001b[0;34m'sid'\u001b[0m\u001b[0;34m,\u001b[0m\u001b[0;34m'nancy'\u001b[0m\u001b[0;34m,\u001b[0m\u001b[0;34m'paul'\u001b[0m\u001b[0;34m,\u001b[0m\u001b[0;34m'ringo'\u001b[0m\u001b[0;34m]\u001b[0m\u001b[0;34m\u001b[0m\u001b[0;34m\u001b[0m\u001b[0m\n\u001b[0;32m----> 2\u001b[0;31m \u001b[0ma_list\u001b[0m\u001b[0;34m.\u001b[0m\u001b[0mtitle\u001b[0m\u001b[0;34m(\u001b[0m\u001b[0;34m)\u001b[0m\u001b[0;34m\u001b[0m\u001b[0;34m\u001b[0m\u001b[0m\n\u001b[0m",
      "\u001b[0;31mAttributeError\u001b[0m: 'list' object has no attribute 'title'"
     ]
    }
   ],
   "source": [
    "a_list = ['sid','nancy','paul','ringo']\n",
    "a_list.title()"
   ]
  },
  {
   "cell_type": "markdown",
   "metadata": {
    "colab_type": "text",
    "id": "zIKh9o6syzX3"
   },
   "source": [
    "But each element of the list is a `string` and `.title()` will do exactly what we want if it is applied to each element in the list.\n",
    "So you need a **loop** that will apply `.title()` to each element in the list."
   ]
  },
  {
   "cell_type": "markdown",
   "metadata": {
    "colab_type": "text",
    "id": "E1TpsDMpxAHF"
   },
   "source": [
    "If you're not using a list comprehension as your loop, try an answer with this format.  Insert of `for`-loop."
   ]
  },
  {
   "cell_type": "code",
   "execution_count": null,
   "metadata": {
    "colab": {},
    "colab_type": "code",
    "id": "5b0dKoo_xAHG",
    "outputId": "28682565-1c23-4a8d-d415-64dba288c387"
   },
   "outputs": [
    {
     "data": {
      "text/plain": [
       "['Sid', 'Nancy', 'Paul', 'Ringo']"
      ]
     },
     "execution_count": 11,
     "metadata": {
      "tags": []
     },
     "output_type": "execute_result"
    }
   ],
   "source": [
    "a_list = ['sid','nancy','paul','ringo']\n",
    "new_list = []\n",
    "# Your code below here\n",
    "new_list"
   ]
  },
  {
   "cell_type": "markdown",
   "metadata": {
    "colab_type": "text",
    "id": "HxeLKKKDxAHJ"
   },
   "source": [
    "If you are using a list comprehension, your answer will have this format."
   ]
  },
  {
   "cell_type": "code",
   "execution_count": null,
   "metadata": {
    "colab": {},
    "colab_type": "code",
    "id": "oocOxj1fxAHJ",
    "outputId": "a7a41f4d-72db-42d7-c99a-6605896030aa"
   },
   "outputs": [
    {
     "data": {
      "text/plain": [
       "[]"
      ]
     },
     "execution_count": 55,
     "metadata": {
      "tags": []
     },
     "output_type": "execute_result"
    }
   ],
   "source": [
    "a_list = ['sid','nancy','paul','ringo']\n",
    "#Your list comprehension code below here inside the square brackets\n",
    "new_list = [ ]\n",
    "new_list"
   ]
  },
  {
   "cell_type": "markdown",
   "metadata": {
    "colab_type": "text",
    "id": "Dfxd8VH4xAHM"
   },
   "source": [
    "First a little discussion.\n",
    "    \n",
    "Hint #1: This is an ideal case in which to use a list comprehension.\n",
    "\n",
    "Hint #2:  THe iteration operation, the thing you are going to do to each member of `a_list` is to use the `title()` method on strings, as illustrated here:"
   ]
  },
  {
   "cell_type": "code",
   "execution_count": null,
   "metadata": {
    "colab": {},
    "colab_type": "code",
    "id": "FtWk5hLzxAHM",
    "outputId": "e125ff6e-f1d3-4acf-eb31-16b9840c2187"
   },
   "outputs": [
    {
     "data": {
      "text/plain": [
       "'This String'"
      ]
     },
     "execution_count": 6,
     "metadata": {
      "tags": []
     },
     "output_type": "execute_result"
    }
   ],
   "source": [
    "'this string'.title()"
   ]
  },
  {
   "cell_type": "markdown",
   "metadata": {
    "colab_type": "text",
    "id": "5KX-LEvrxAHR"
   },
   "source": [
    "Knowing what the elements of a sequence are tells you what successive values the loop vars\n",
    "will have when you loop through it. For example:"
   ]
  },
  {
   "cell_type": "code",
   "execution_count": null,
   "metadata": {
    "colab": {},
    "colab_type": "code",
    "id": "h2bCnGEQxAHS",
    "outputId": "61637c24-803b-48ec-b0cf-e1c28fc507f4"
   },
   "outputs": [
    {
     "data": {
      "text/plain": [
       "True"
      ]
     },
     "execution_count": 10,
     "metadata": {
      "tags": []
     },
     "output_type": "execute_result"
    }
   ],
   "source": [
    "X = 'Ringo'\n",
    "'i' in X"
   ]
  },
  {
   "cell_type": "code",
   "execution_count": null,
   "metadata": {
    "colab": {},
    "colab_type": "code",
    "id": "Ut7d1LPExAHU",
    "outputId": "d08bfaa7-3e39-4cb9-84f6-8a69bde48e94"
   },
   "outputs": [
    {
     "data": {
      "text/plain": [
       "True"
      ]
     },
     "execution_count": 8,
     "metadata": {
      "tags": []
     },
     "output_type": "execute_result"
    }
   ],
   "source": [
    "'p' in a_list[2]"
   ]
  },
  {
   "cell_type": "markdown",
   "metadata": {
    "colab_type": "text",
    "id": "fGHIhVg9xAHW"
   },
   "source": [
    "So `i` is an element of the string.  \n",
    "\n",
    "And indeed when we loop through `X`, `i` is one of the values the loop var `c` takes."
   ]
  },
  {
   "cell_type": "code",
   "execution_count": null,
   "metadata": {
    "colab": {},
    "colab_type": "code",
    "id": "MQkUikm5xAHW",
    "outputId": "befc1630-cd44-4174-f600-6002fabcc8e1"
   },
   "outputs": [
    {
     "name": "stdout",
     "output_type": "stream",
     "text": [
      "R\n",
      "i\n",
      "n\n",
      "g\n",
      "o\n"
     ]
    }
   ],
   "source": [
    "for c in X:\n",
    "    print(c)"
   ]
  },
  {
   "cell_type": "markdown",
   "metadata": {
    "colab_type": "text",
    "id": "cAEWHDquxAHZ"
   },
   "source": [
    "Similar but slightly different facts hold for `a_list`."
   ]
  },
  {
   "cell_type": "code",
   "execution_count": null,
   "metadata": {
    "colab": {},
    "colab_type": "code",
    "id": "Fp13O1XmxAHZ",
    "outputId": "84100a88-3947-47b5-9d99-92a700b907d0",
    "scrolled": true
   },
   "outputs": [
    {
     "data": {
      "text/plain": [
       "True"
      ]
     },
     "execution_count": 8,
     "metadata": {
      "tags": []
     },
     "output_type": "execute_result"
    }
   ],
   "source": [
    "'ringo' in a_list"
   ]
  },
  {
   "cell_type": "code",
   "execution_count": null,
   "metadata": {
    "colab": {},
    "colab_type": "code",
    "id": "hXrirS6bxAHb",
    "outputId": "c21b1136-8b66-4910-b88b-4b5cb12c467a"
   },
   "outputs": [
    {
     "name": "stdout",
     "output_type": "stream",
     "text": [
      "sid\n",
      "nancy\n",
      "paul\n",
      "ringo\n"
     ]
    }
   ],
   "source": [
    "for b in a_list:\n",
    "    print(b)"
   ]
  },
  {
   "cell_type": "markdown",
   "metadata": {
    "colab_type": "text",
    "id": "wmJY8bXpxAHd"
   },
   "source": [
    "Note in the relevant sense of `in`, `i` is not in `a_list`."
   ]
  },
  {
   "cell_type": "code",
   "execution_count": null,
   "metadata": {
    "colab": {},
    "colab_type": "code",
    "id": "lGgORW5CxAHe",
    "outputId": "c24e7a0a-f064-4040-9b94-6db26029a82a"
   },
   "outputs": [
    {
     "data": {
      "text/plain": [
       "False"
      ]
     },
     "execution_count": 12,
     "metadata": {
      "tags": []
     },
     "output_type": "execute_result"
    }
   ],
   "source": [
    "'i' in a_list"
   ]
  },
  {
   "cell_type": "markdown",
   "metadata": {
    "colab_type": "text",
    "id": "xX7Bm_nExySP"
   },
   "source": []
  },
  {
   "cell_type": "markdown",
   "metadata": {
    "colab_type": "text",
    "id": "WquVf-lmxAHg"
   },
   "source": [
    "## Reversing a list"
   ]
  },
  {
   "cell_type": "markdown",
   "metadata": {
    "colab_type": "text",
    "id": "4h63IwzTxAHh"
   },
   "source": [
    "Write a line of code that produces the given output: \n",
    "\n",
    "```\n",
    "In [ ]: a_list = ['sid','nancy','paul','ringo']\n",
    "        YOUR CODE HERE\n",
    "Out [ ]: ['Ringo', 'Paul', 'Nancy', 'Sid']\n",
    "```\n",
    "    \n",
    "Hint: Try combining a list comprehension with a list reversal"
   ]
  },
  {
   "cell_type": "code",
   "execution_count": null,
   "metadata": {
    "colab": {},
    "colab_type": "code",
    "id": "MBFNAJ1kxAHh",
    "outputId": "36a07893-e3a2-4ee2-9656-3cf0c65814ff"
   },
   "outputs": [
    {
     "data": {
      "text/plain": [
       "['ringo', 'paul', 'nancy', 'sid']"
      ]
     },
     "execution_count": 22,
     "metadata": {
      "tags": []
     },
     "output_type": "execute_result"
    }
   ],
   "source": [
    "Y = a_list.reverse()\n",
    "a_list"
   ]
  },
  {
   "cell_type": "code",
   "execution_count": null,
   "metadata": {
    "colab": {},
    "colab_type": "code",
    "id": "9jEwHJ_QxAHk",
    "outputId": "9896fffe-527b-452c-c31f-ff8a485c757a"
   },
   "outputs": [
    {
     "data": {
      "text/plain": [
       "'zyxwvutsrqponmlkjihgfedcba'"
      ]
     },
     "execution_count": 33,
     "metadata": {
      "tags": []
     },
     "output_type": "execute_result"
    }
   ],
   "source": [
    "X = 'abcdefghijklmnopqrstuvwxyz'\n",
    "X[::-1]"
   ]
  },
  {
   "cell_type": "code",
   "execution_count": null,
   "metadata": {
    "colab": {},
    "colab_type": "code",
    "id": "FRXg89mDxAHm",
    "outputId": "e2a5df97-382a-45c0-c428-dcf3f7a32746"
   },
   "outputs": [
    {
     "data": {
      "text/plain": [
       "[]"
      ]
     },
     "execution_count": 54,
     "metadata": {
      "tags": []
     },
     "output_type": "execute_result"
    }
   ],
   "source": [
    "a_list = ['sid','nancy','paul','ringo']\n",
    "# Your code below here\n",
    "new_list = []\n",
    "for x in a_list:\n",
    "    # Your code here replacing continue\n",
    "    continue\n",
    "new_list"
   ]
  },
  {
   "cell_type": "code",
   "execution_count": null,
   "metadata": {
    "colab": {},
    "colab_type": "code",
    "id": "YvOQqzjlxAHo",
    "outputId": "aa3fdc23-2a85-4cd7-e622-f77c9d37a884"
   },
   "outputs": [
    {
     "data": {
      "text/plain": [
       "(['ringo', 'paul', 'nancy', 'sid'], ['sid', 'nancy', 'paul', 'ringo'])"
      ]
     },
     "execution_count": 38,
     "metadata": {
      "tags": []
     },
     "output_type": "execute_result"
    }
   ],
   "source": [
    "new_list = a_list[::-1]\n",
    "(a_list, new_list)"
   ]
  },
  {
   "cell_type": "code",
   "execution_count": null,
   "metadata": {
    "colab": {},
    "colab_type": "code",
    "id": "oBZgI3QTxAHq"
   },
   "outputs": [],
   "source": [
    "a_list.reverse()\n",
    "a_list"
   ]
  },
  {
   "cell_type": "code",
   "execution_count": null,
   "metadata": {
    "colab": {},
    "colab_type": "code",
    "id": "q0XPf2UpxAHr",
    "outputId": "28bbd807-933c-4730-87a6-4ee33ddc1ed4"
   },
   "outputs": [
    {
     "data": {
      "text/plain": [
       "['sid', 'nancy', 'paul', 'ringo']"
      ]
     },
     "execution_count": 40,
     "metadata": {
      "tags": []
     },
     "output_type": "execute_result"
    }
   ],
   "source": [
    "a_list"
   ]
  },
  {
   "cell_type": "code",
   "execution_count": null,
   "metadata": {
    "colab": {},
    "colab_type": "code",
    "id": "NIFggiplxAHt",
    "outputId": "30ad836c-c527-4328-85b5-570f20bbc9e6"
   },
   "outputs": [
    {
     "data": {
      "text/plain": [
       "['ringo', 'paul', 'nancy', 'sid']"
      ]
     },
     "execution_count": 3,
     "metadata": {
      "tags": []
     },
     "output_type": "execute_result"
    }
   ],
   "source": [
    "a_list"
   ]
  },
  {
   "cell_type": "markdown",
   "metadata": {
    "colab_type": "text",
    "id": "2GfVpyjKxAHv"
   },
   "source": [
    "# Exercise 4A"
   ]
  },
  {
   "cell_type": "markdown",
   "metadata": {
    "colab_type": "text",
    "id": "8sHJtFgrxAHw"
   },
   "source": [
    "Write a line of code that will return True when applied to X:\n",
    "\n",
    "    In [ ]: X = 'ringo'\n",
    "            YOUR CODE GOES HERE\n",
    "    Out [ ]: True\n",
    "            "
   ]
  },
  {
   "cell_type": "markdown",
   "metadata": {
    "colab_type": "text",
    "id": "jCv8rX0sxAHw"
   },
   "source": [
    "Write a line of code that will return False when applied to X:\n",
    "\n",
    "    In [ ]: X = 'ringo'\n",
    "            YOUR CODE GOES HERE\n",
    "    Out [ ]: False\n",
    "            "
   ]
  },
  {
   "cell_type": "code",
   "execution_count": null,
   "metadata": {
    "colab": {},
    "colab_type": "code",
    "id": "40Hx7aaTxAHx"
   },
   "outputs": [],
   "source": [
    "X = 'ringo'\n",
    "# Your code below here."
   ]
  },
  {
   "cell_type": "markdown",
   "metadata": {
    "colab_type": "text",
    "id": "b8r0cL7oxAHy"
   },
   "source": [
    "# Exercise 4B"
   ]
  },
  {
   "cell_type": "markdown",
   "metadata": {
    "colab_type": "text",
    "id": "kqMI78d2xAHz"
   },
   "source": [
    "Write an `if-else` clause (4 lines of code) that will print \"Branch 1\" for the first value of X; then test *the same if-else clause* again on the second value of X and have it print \"branch2\" for the second value of X::\n",
    "    \n",
    "    In [ ]:  X = 'ringo'\n",
    "             YOUR IF-ELSE CLAUSE GOES HERE\n",
    "             X = 'paul'\n",
    "             PUT THE IF-ELSE CLAUSE HERE TOO\n",
    "    Out [ ]: Branch 1\n",
    "             Branch 2"
   ]
  },
  {
   "cell_type": "code",
   "execution_count": null,
   "metadata": {
    "colab": {},
    "colab_type": "code",
    "id": "NH6ZjzBSxAHz",
    "outputId": "5fc69262-e49b-4d86-e9c7-c776f577eb4e"
   },
   "outputs": [
    {
     "name": "stdout",
     "output_type": "stream",
     "text": [
      "Branch 1\n",
      "Branch 2\n"
     ]
    }
   ],
   "source": [
    "X = 'ringo'\n",
    "if len(X) > 4:\n",
    "    print('Branch 1')\n",
    "else:\n",
    "    print('Branch 2')\n",
    "X = 'paul'\n",
    "if len(X) > 4:\n",
    "    print('Branch 1')\n",
    "else:\n",
    "    print('Branch 2')"
   ]
  },
  {
   "cell_type": "markdown",
   "metadata": {
    "colab_type": "text",
    "id": "qYLPRhpzxAH1"
   },
   "source": [
    "Write a **function** that prints `Branch 1` when applied to `Ringo` and `Branch 2` when applied to `Paul`.  Use the same conditional you used above.\n",
    "\n",
    "Create a new cell and **test** your function in the new cell."
   ]
  },
  {
   "cell_type": "code",
   "execution_count": null,
   "metadata": {
    "colab": {},
    "colab_type": "code",
    "id": "epFbjFayxAH1"
   },
   "outputs": [],
   "source": [
    "#Your answer goes here\n",
    "def branch_test (name_str):\n",
    "    pass # replace this pass with your conditional, appropriately modified."
   ]
  },
  {
   "cell_type": "markdown",
   "metadata": {
    "colab_type": "text",
    "id": "b0JiaE6exAH2"
   },
   "source": [
    "## Exercise 5"
   ]
  },
  {
   "cell_type": "markdown",
   "metadata": {
    "colab_type": "text",
    "id": "6WaIc03rxAH3"
   },
   "source": [
    " Write a line of code that produces the given output: \n",
    "   \n",
    "     In [ ]: a_list = ['john','paul','nancy','sid']\n",
    "           YOUR CODE HERE\n",
    "     Out [ ]: [True, True, False, False]\n",
    "  \n",
    " [Hint:  Try a list comprehension that collects\n",
    "  a list of the results of a Boolean test]\n"
   ]
  },
  {
   "cell_type": "code",
   "execution_count": null,
   "metadata": {
    "colab": {},
    "colab_type": "code",
    "id": "01ARy7AVxAH3",
    "outputId": "6fd90823-d52c-4d06-de6f-840d27565b7a"
   },
   "outputs": [
    {
     "data": {
      "text/plain": [
       "[True, True, False, False]"
      ]
     },
     "execution_count": 41,
     "metadata": {
      "tags": []
     },
     "output_type": "execute_result"
    }
   ],
   "source": [
    "a_list = ['john','paul','nancy','sid']\n",
    "new_list = []\n",
    "# Your code here\n",
    "new_list"
   ]
  },
  {
   "cell_type": "code",
   "execution_count": null,
   "metadata": {
    "colab": {},
    "colab_type": "code",
    "id": "rzOh2NuExAH5",
    "outputId": "bbd6b425-8f34-43d9-a4c1-c9646830dd35"
   },
   "outputs": [
    {
     "data": {
      "text/plain": [
       "[]"
      ]
     },
     "execution_count": 56,
     "metadata": {
      "tags": []
     },
     "output_type": "execute_result"
    }
   ],
   "source": [
    "# Your list comprehension code below, inside the square brackets\n",
    "new_list = [ ]\n",
    "new_list"
   ]
  },
  {
   "cell_type": "markdown",
   "metadata": {
    "colab_type": "text",
    "id": "BC0-hqJhxAH7"
   },
   "source": [
    "## Exercise 6"
   ]
  },
  {
   "cell_type": "markdown",
   "metadata": {
    "colab_type": "text",
    "id": "D4NouVzKxAH8"
   },
   "source": [
    "Write a `for` loop that collects all the numbers in `test_list`\n",
    "that are between 3 and 6 inclusive and places them\n",
    "in a list named `result`.\n",
    "\n",
    "In the cell below you are given a list  to work on and an initial value for the list `result`,\n",
    "which you will update in your `for` loop.  The cell also eveluates `result` after the\n",
    "loop to check that the value is right::\n",
    "\n",
    "    In [ ]: test_list = [2, 7, 9, 4, 8, 3, 2, 6, 3, 5, 9, 18, 0, 5]\n",
    "            result = []\n",
    "            YOUR CODE GOES HERE\n",
    "            result\n",
    "     Out [ ]: [4,3,6,3,5,5]\n",
    "                         \n",
    "\n",
    "\n",
    "Note  This can be done as a list comprehension and you\n",
    "are welcome to do it that way."
   ]
  },
  {
   "cell_type": "code",
   "execution_count": null,
   "metadata": {
    "colab": {},
    "colab_type": "code",
    "id": "dMPILTMwxAH8",
    "outputId": "789b249c-0e23-4c86-edf8-ff855e5f5973"
   },
   "outputs": [
    {
     "data": {
      "text/plain": [
       "[4, 3, 6, 3, 5, 5]"
      ]
     },
     "execution_count": 44,
     "metadata": {
      "tags": []
     },
     "output_type": "execute_result"
    }
   ],
   "source": [
    "test_list = [2, 7, 9, 4, 8, 3, 2, 6, 3, 5, 9, 18, 0, 5]\n",
    "result = []\n",
    "# Your code below here\n",
    "for num in test_list:\n",
    "    if 3 <= num <= 6:\n",
    "       result.append(num)\n",
    "result"
   ]
  },
  {
   "cell_type": "code",
   "execution_count": null,
   "metadata": {
    "colab": {},
    "colab_type": "code",
    "id": "FuFyvDMdxAH9",
    "outputId": "d5ca1fde-d5e4-4021-d5c0-cdfbed076919"
   },
   "outputs": [
    {
     "data": {
      "text/plain": [
       "[4, 3, 6, 3, 5, 5]"
      ]
     },
     "execution_count": 46,
     "metadata": {
      "tags": []
     },
     "output_type": "execute_result"
    }
   ],
   "source": [
    "result = [num for num in test_list if (3 <= num) and (num <= 6)]\n",
    "result"
   ]
  },
  {
   "cell_type": "markdown",
   "metadata": {
    "colab_type": "text",
    "id": "47Q5ARzwxAH_"
   },
   "source": [
    "## Exercise 7"
   ]
  },
  {
   "cell_type": "markdown",
   "metadata": {
    "colab_type": "text",
    "id": "3aeUFk_SxAIA"
   },
   "source": [
    "Now, using the same definition of `test_list`\n",
    "as in exercise 6, write a `for` loop that **counts**\n",
    "the number of integers in `test_list` that are between 3 and 6 inclusive\n",
    "and  places the result in a variable named `tweeners`.\n",
    "You can do this by just taking the length\n",
    "of the list you computed in exercise 6, but try to do\n",
    "it without building that list.  Just start with `tweeners`\n",
    "set to 0 and increment its value by one each time you see an appropriate number.  The value of the variable after the loop is exited should be 6.\n"
   ]
  },
  {
   "cell_type": "code",
   "execution_count": null,
   "metadata": {
    "colab": {},
    "colab_type": "code",
    "id": "LzR4o87GxAIA",
    "outputId": "5358d823-410e-40cf-b2b0-eae67d79cc0e"
   },
   "outputs": [
    {
     "data": {
      "text/plain": [
       "0"
      ]
     },
     "execution_count": 29,
     "metadata": {
      "tags": []
     },
     "output_type": "execute_result"
    }
   ],
   "source": [
    "tweeners"
   ]
  },
  {
   "cell_type": "code",
   "execution_count": null,
   "metadata": {
    "colab": {},
    "colab_type": "code",
    "id": "0suFi78ZxAIC",
    "outputId": "4af03b0c-3ed9-447a-9d1a-e94128abd21d"
   },
   "outputs": [
    {
     "data": {
      "text/plain": [
       "6"
      ]
     },
     "execution_count": 47,
     "metadata": {
      "tags": []
     },
     "output_type": "execute_result"
    }
   ],
   "source": [
    "test_list = [2, 7, 9, 4, 8, 3, 2, 6, 3, 5, 9, 18, 0, 5]\n",
    "\n",
    "tweeners = 0\n",
    "for num in test_list:\n",
    "    if (3 <= num) and (num <= 6):\n",
    "        tweeners += 1\n",
    "# YOur loop here\n",
    "tweeners"
   ]
  },
  {
   "cell_type": "markdown",
   "metadata": {
    "colab_type": "text",
    "id": "XajFYX0HxAID"
   },
   "source": [
    "## Exercise 8"
   ]
  },
  {
   "cell_type": "markdown",
   "metadata": {
    "colab_type": "text",
    "id": "l1kONBASxAIE"
   },
   "source": []
  },
  {
   "cell_type": "markdown",
   "metadata": {
    "colab_type": "text",
    "id": "QvO91mHjxAIE"
   },
   "source": [
    "Filter  any items which occur\n",
    "less than 2 times in a sequence of items. The sequence can be a\n",
    "string, or tuple, or list.  You can use the following sequence\n",
    "as an example::\n",
    "\n",
    "   X = 'abracadabra'\n",
    "\n",
    "Hint: Solve this problem in two parts.  First get all the needed counts and place them in a dictionary\n",
    "It will be most convenient to use a `Counter` dictionary (call it `ctr`). It will be helpful\n",
    "to review our discussion of Counters in [the book draft section on dictionaries](http://gawron.sdsu.edu/python_for_ss/course_core/book_draft/Python_introduction/dictionaries.html#python-collections-module). \n",
    "\n",
    "Then you can use `ctr` to tell you whether any given element should be kept or filtered."
   ]
  },
  {
   "cell_type": "code",
   "execution_count": null,
   "metadata": {
    "colab": {},
    "colab_type": "code",
    "id": "EMK87Qm1xAIE",
    "outputId": "027ee69a-68b1-42b4-cc90-f1048ec7a86c"
   },
   "outputs": [
    {
     "data": {
      "text/plain": [
       "Counter()"
      ]
     },
     "execution_count": 51,
     "metadata": {
      "tags": []
     },
     "output_type": "execute_result"
    }
   ],
   "source": [
    "ctr = Counter()\n",
    "ctr"
   ]
  },
  {
   "cell_type": "code",
   "execution_count": null,
   "metadata": {
    "colab": {},
    "colab_type": "code",
    "id": "CZCz6ajCxAIG",
    "outputId": "5d1cf6a6-0e92-4068-bd55-30ab55adf0c9"
   },
   "outputs": [
    {
     "name": "stdout",
     "output_type": "stream",
     "text": [
      "Mark twain\n",
      "Mark Twain\n"
     ]
    }
   ],
   "source": [
    "print('mark twain'.capitalize())\n",
    "print('mark twain'.title())"
   ]
  },
  {
   "cell_type": "code",
   "execution_count": null,
   "metadata": {
    "colab": {},
    "colab_type": "code",
    "id": "5qFPEW0VxAIH",
    "outputId": "7dfa922b-a59d-427c-8cfb-4012b6777abb"
   },
   "outputs": [
    {
     "data": {
      "text/plain": [
       "Counter({'a': 5, 'b': 2, 'r': 2, 'c': 1, 'd': 1})"
      ]
     },
     "execution_count": 49,
     "metadata": {
      "tags": []
     },
     "output_type": "execute_result"
    }
   ],
   "source": [
    "from collections import Counter\n",
    "ctr = Counter()\n",
    "X = 'abracadabra'\n",
    "#  `ctr` is an empty dictionary.  We need to fill it with the right counts.\n",
    "#  Your code here\n",
    "for x in X:\n",
    "    ctr[x] += 1\n",
    "ctr"
   ]
  },
  {
   "cell_type": "markdown",
   "metadata": {
    "colab_type": "text",
    "id": "NjQpS9wDxAIK"
   },
   "source": [
    "A simpler way."
   ]
  },
  {
   "cell_type": "code",
   "execution_count": null,
   "metadata": {
    "colab": {},
    "colab_type": "code",
    "id": "v8PgR8LExAIL",
    "outputId": "8f807c80-88f9-4c4e-9bb5-0b187b4914c4"
   },
   "outputs": [
    {
     "data": {
      "text/plain": [
       "Counter({'a': 5, 'b': 2, 'r': 2, 'c': 1, 'd': 1})"
      ]
     },
     "execution_count": 50,
     "metadata": {
      "tags": []
     },
     "output_type": "execute_result"
    }
   ],
   "source": [
    "from collections import Counter\n",
    "X = 'abracadabra'\n",
    "ctr = Counter(X)\n",
    "ctr"
   ]
  },
  {
   "cell_type": "code",
   "execution_count": null,
   "metadata": {
    "colab": {},
    "colab_type": "code",
    "id": "j95csyqgxAIN"
   },
   "outputs": [],
   "source": [
    "for c in X:\n",
    "    #Your code goes here replacing the continue; it updates ctr\n",
    "    contine\n",
    "    "
   ]
  },
  {
   "cell_type": "markdown",
   "metadata": {
    "colab_type": "text",
    "id": "iE-OCdB9xAIP"
   },
   "source": [
    "If you did it right, `ctr` should look like this:"
   ]
  },
  {
   "cell_type": "code",
   "execution_count": null,
   "metadata": {
    "colab": {},
    "colab_type": "code",
    "id": "pTvjlAw8xAIQ",
    "outputId": "eec023e4-3f71-4f5e-e399-a44a2f8bcf83"
   },
   "outputs": [
    {
     "data": {
      "text/plain": [
       "Counter({'a': 5, 'b': 2, 'r': 2, 'c': 1, 'd': 1})"
      ]
     },
     "execution_count": 35,
     "metadata": {
      "tags": []
     },
     "output_type": "execute_result"
    }
   ],
   "source": [
    "ctr"
   ]
  },
  {
   "cell_type": "markdown",
   "metadata": {
    "colab_type": "text",
    "id": "vgphy0OVxAIS"
   },
   "source": [
    "Now you want a `result` list filtered down to just the elements of X\n",
    "that occur more than once.  You can use either a regular `for`-loop or a list comprehension.  The following cell is set up for a `for`-loop solution.\n",
    "\n",
    "There are two ways to loop.  First you could loop through `X`"
   ]
  },
  {
   "cell_type": "code",
   "execution_count": null,
   "metadata": {
    "colab": {},
    "colab_type": "code",
    "id": "kVwwQI2jxAIS",
    "outputId": "ab00192e-0b44-4a32-a266-8643348f45b6"
   },
   "outputs": [
    {
     "data": {
      "text/plain": [
       "['a', 'b', 'r', 'a', 'a', 'a', 'b', 'r', 'a']"
      ]
     },
     "execution_count": 38,
     "metadata": {
      "tags": []
     },
     "output_type": "execute_result"
    }
   ],
   "source": [
    "result = []\n",
    "for x in X:\n",
    "# Your code goes here\n",
    "result"
   ]
  },
  {
   "cell_type": "markdown",
   "metadata": {
    "colab_type": "text",
    "id": "zWl7dGGfxAIV"
   },
   "source": [
    "Second youy could loop through `ctr`."
   ]
  },
  {
   "cell_type": "code",
   "execution_count": null,
   "metadata": {
    "colab": {},
    "colab_type": "code",
    "id": "oSC_VhmOxAIV",
    "outputId": "4600c150-a345-44f8-da0f-4d7e498338e0"
   },
   "outputs": [
    {
     "data": {
      "text/plain": [
       "['a', 'b', 'r']"
      ]
     },
     "execution_count": 42,
     "metadata": {
      "tags": []
     },
     "output_type": "execute_result"
    }
   ],
   "source": [
    "result = []\n",
    "# Your code here\n",
    "result"
   ]
  },
  {
   "cell_type": "markdown",
   "metadata": {
    "colab_type": "text",
    "id": "AXINaa4ixAIX"
   },
   "source": [
    "The following cell is set up for a list comprehension solution."
   ]
  },
  {
   "cell_type": "code",
   "execution_count": null,
   "metadata": {
    "colab": {},
    "colab_type": "code",
    "id": "Hb4njmeDxAIX",
    "outputId": "497fd945-69a7-4053-ad53-1b1b2b7022ff"
   },
   "outputs": [
    {
     "data": {
      "text/plain": [
       "[]"
      ]
     },
     "execution_count": 18,
     "metadata": {
      "tags": []
     },
     "output_type": "execute_result"
    }
   ],
   "source": [
    "# Your list comprehension goes on the right side of `=`\n",
    "result = [] # Replace the `[]` witha list comprehension.\n",
    "result"
   ]
  },
  {
   "cell_type": "markdown",
   "metadata": {
    "colab_type": "text",
    "id": "IfbWBw79xAIZ"
   },
   "source": [
    "Now try to find the element with the highest count. It will also be helpful to read the [Python docs dor the collections module](http://docs.python.org/2/library/collections.html)  to find a convenient method that finds the element in a counter with the highest count."
   ]
  },
  {
   "cell_type": "code",
   "execution_count": null,
   "metadata": {
    "colab": {},
    "colab_type": "code",
    "id": "9jCGY7EwxAIZ"
   },
   "outputs": [],
   "source": [
    "from collections import Counter\n",
    "#[one line of code written after reading the Python docs.]"
   ]
  },
  {
   "cell_type": "markdown",
   "metadata": {
    "colab_type": "text",
    "id": "LowOkLSixAIb"
   },
   "source": [
    "## Exercise 8a"
   ]
  },
  {
   "cell_type": "markdown",
   "metadata": {
    "colab_type": "text",
    "id": "tG1gWlnPxAIb"
   },
   "source": [
    "Write a function that returns the first element of any sequence.  It is fine it is an error to pass in a dictionary or a set,\n",
    "\n",
    "Hint:  If you're having trouble getting this behavior, maybe you forgot\n",
    "about `return`?"
   ]
  },
  {
   "cell_type": "code",
   "execution_count": null,
   "metadata": {
    "colab": {},
    "colab_type": "code",
    "id": "EQbt-EBQxAIc"
   },
   "outputs": [],
   "source": [
    "def first(seq):\n",
    "    pass # Your code here\n",
    "first('william')"
   ]
  },
  {
   "cell_type": "markdown",
   "metadata": {
    "colab_type": "text",
    "id": "eTm2-Q8OxAIe"
   },
   "source": [
    "## Exercise 9"
   ]
  },
  {
   "cell_type": "markdown",
   "metadata": {
    "colab_type": "text",
    "id": "m0QzizbcxAIe"
   },
   "source": [
    "Write a function that \"twins' any sequence.  Here is how it should  work::\n",
    "\n",
    "    In [ ]: x = twin('ohno')\n",
    "           x\n",
    "    Out [ ]: 'ohnoohno' \n"
   ]
  },
  {
   "cell_type": "code",
   "execution_count": null,
   "metadata": {
    "colab": {},
    "colab_type": "code",
    "id": "vR09xCJ-xAIe"
   },
   "outputs": [],
   "source": [
    "def twin(L0):\n",
    "    pass # Your code here\n",
    "twin('ohno')"
   ]
  },
  {
   "cell_type": "markdown",
   "metadata": {
    "colab_type": "text",
    "id": "b46KOqoaxAIf"
   },
   "source": [
    "There is a very simple Python idiom for this using `*`, but it can also be done with `+`."
   ]
  },
  {
   "cell_type": "markdown",
   "metadata": {
    "colab_type": "text",
    "id": "UI5_26ntxAIg"
   },
   "source": [
    "## For loops: Sudoku problem"
   ]
  },
  {
   "cell_type": "markdown",
   "metadata": {
    "colab_type": "text",
    "id": "hiOUWXf_xAIg"
   },
   "source": [
    "Just execute the code cell below.  We need it for the discussion and exercises that follow."
   ]
  },
  {
   "cell_type": "code",
   "execution_count": null,
   "metadata": {
    "colab": {},
    "colab_type": "code",
    "id": "1gwCfCEcxAIg"
   },
   "outputs": [],
   "source": [
    "def cross(A, B):\n",
    "    \"Cross product of elements in A and elements in B.\"\n",
    "    return [a+b for a in A for b in B]\n",
    "\n",
    "\n",
    "digits   = '123456789'\n",
    "rows     = 'ABCDEFGHI'\n",
    "cols     = digits\n",
    "squares  = cross(rows, cols)\n",
    "unitlist = ([cross(rows, c) for c in cols] +\n",
    "            [cross(r, cols) for r in rows] +\n",
    "            [cross(rs, cs) for rs in ('ABC','DEF','GHI') for cs in ('123','456','789')])\n",
    "\n",
    "# Assign to each square s A set of sets of squares\n",
    "units = dict((s, [u for u in unitlist if s in u])\n",
    "             for s in squares)\n",
    "## Assign to each square s a set of squares, namely those that cant have the same value as s.\n",
    "peers = dict((s, set(sum(units[s],[]))-set([s]))\n",
    "             for s in squares)\n",
    "\n",
    "# Turn a puzzle string into a dictionary.\n",
    "def grid_values(grid):\n",
    "    \"Convert grid into a dict of {square: char} with '0' or '.' for empties.\"\n",
    "    chars = [c for c in grid if c in digits or c in '0.']\n",
    "    assert len(chars) == 81\n",
    "    return dict(list(zip(squares, chars)))\n",
    "\n",
    "def simple_grid_values (grid):\n",
    "    \"Convert grid into a dict of {square: char} with no restriction on contents\"\n",
    "    assert len(grid) == 81\n",
    "    return dict(list(zip(squares, grid)))\n",
    "  \n",
    "################ Display as 2-D grid ################\n",
    "\n",
    "def display(values):\n",
    "    \"Display these values as a 2-D grid.\"\n",
    "    for s in squares:\n",
    "        if values[s] == '0':\n",
    "            values[s] = '.'\n",
    "    width = 1+max(len(values[s]) for s in squares)\n",
    "    line = '+'.join(['-'*(width*3)]*3)\n",
    "    for r in rows:\n",
    "        print(''.join(values[r+c].center(width)+('|' if c in '36' else '')\n",
    "                      for c in cols))\n",
    "        if r in 'CF': print(line)\n",
    "    print()\n",
    "\n",
    "\n",
    "grid1  = '003020600900305001001806400008102900700000008006708200002609500800203009005010300'\n",
    "grid1_soln = '483921657967345821251876493548132976729564138136798245372689514814253769695417382'\n",
    "grid2  = '003020600900305001001806400008102900700000008006708200002689500800203009005010300'\n",
    "# Some illegal grids.\n",
    "grid3  = '003020600900305001001806400008102900700000008006708200002609500800203089005010300'\n",
    "grid4  = '003020609900305001001806400008102900700000008006708200002609500800203009005010300'\n",
    "grid5  = '003020600900305061001806400008102900700000008006708200002609500800203009005010300'\n",
    "g5_peers = peers['G5']\n",
    "sgv = simple_grid_values(squares)\n",
    "for s in g5_peers:\n",
    "    sgv[s] = '__'"
   ]
  },
  {
   "cell_type": "markdown",
   "metadata": {
    "colab_type": "text",
    "id": "FaidE6odxAIi"
   },
   "source": [
    "The code above defines the row labels in a Sudoku puzzle  in a variable `rows`. Write a `for`-loop that prints out the row labels in a Sudoku puzzle, one to a line."
   ]
  },
  {
   "cell_type": "code",
   "execution_count": null,
   "metadata": {
    "colab": {},
    "colab_type": "code",
    "id": "kSzv_EQyxAIj"
   },
   "outputs": [],
   "source": [
    "[your code here]"
   ]
  },
  {
   "cell_type": "markdown",
   "metadata": {
    "colab_type": "text",
    "id": "q6nD1YgCxAIm"
   },
   "source": [
    "The code above defines the columns labels in a Sudoku puzzle  in a variable `cols`. Write a `for`-loop that prints out the column labels in a Sudoku puzzle."
   ]
  },
  {
   "cell_type": "code",
   "execution_count": null,
   "metadata": {
    "colab": {},
    "colab_type": "code",
    "id": "LkciZqAqxAIm"
   },
   "outputs": [],
   "source": [
    "[your code here]"
   ]
  },
  {
   "cell_type": "markdown",
   "metadata": {
    "colab_type": "text",
    "id": "eL6G1TtjxAIo"
   },
   "source": [
    "The code above defines the squares in a Sudoku puzzle  in a variable `squares`. Write a `for`-loop that prints out the squares in a Sudoku puzzle, one to a line."
   ]
  },
  {
   "cell_type": "code",
   "execution_count": null,
   "metadata": {
    "colab": {},
    "colab_type": "code",
    "id": "xAjr6G7SxAIp"
   },
   "outputs": [],
   "source": [
    "[your code here]"
   ]
  },
  {
   "cell_type": "markdown",
   "metadata": {
    "colab_type": "text",
    "id": "R9p_Z827xAIq"
   },
   "source": [
    "We can also treat the sequence of square names like a puzzle abd display that, if we want to remind ourselves what names go with what squares."
   ]
  },
  {
   "cell_type": "code",
   "execution_count": null,
   "metadata": {
    "colab": {},
    "colab_type": "code",
    "id": "6S7cDwLrxAIr",
    "outputId": "2568f1e1-f1cb-4af0-b6e7-4fa29a5b7462"
   },
   "outputs": [
    {
     "name": "stdout",
     "output_type": "stream",
     "text": [
      " A1 A2 A3| A4 A5 A6| A7 A8 A9\n",
      " B1 B2 B3| B4 B5 B6| B7 B8 B9\n",
      " C1 C2 C3| C4 C5 C6| C7 C8 C9\n",
      "---------+---------+---------\n",
      " D1 D2 D3| D4 D5 D6| D7 D8 D9\n",
      " E1 E2 E3| E4 E5 E6| E7 E8 E9\n",
      " F1 F2 F3| F4 F5 F6| F7 F8 F9\n",
      "---------+---------+---------\n",
      " G1 G2 G3| G4 G5 G6| G7 G8 G9\n",
      " H1 H2 H3| H4 H5 H6| H7 H8 H9\n",
      " I1 I2 I3| I4 I5 I6| I7 I8 I9\n",
      "\n"
     ]
    }
   ],
   "source": [
    "display(simple_grid_values(squares))"
   ]
  },
  {
   "cell_type": "markdown",
   "metadata": {
    "colab_type": "text",
    "id": "I6WrqZfSxAIs"
   },
   "source": [
    "For `grid1`, we were given not just the grid but also its solution, so  we can display the two side by side."
   ]
  },
  {
   "cell_type": "code",
   "execution_count": null,
   "metadata": {
    "colab": {},
    "colab_type": "code",
    "id": "xYW2zvn9xAIs",
    "outputId": "d4daeeb2-2870-47dd-a8a1-3a01ef7b45c1"
   },
   "outputs": [
    {
     "name": "stdout",
     "output_type": "stream",
     "text": [
      ". . 3 |. 2 . |6 . . \n",
      "9 . . |3 . 5 |. . 1 \n",
      ". . 1 |8 . 6 |4 . . \n",
      "------+------+------\n",
      ". . 8 |1 . 2 |9 . . \n",
      "7 . . |. . . |. . 8 \n",
      ". . 6 |7 . 8 |2 . . \n",
      "------+------+------\n",
      ". . 2 |6 . 9 |5 . . \n",
      "8 . . |2 . 3 |. . 9 \n",
      ". . 5 |. 1 . |3 . . \n",
      "\n",
      "     ... => ...\n",
      "\n",
      "4 8 3 |9 2 1 |6 5 7 \n",
      "9 6 7 |3 4 5 |8 2 1 \n",
      "2 5 1 |8 7 6 |4 9 3 \n",
      "------+------+------\n",
      "5 4 8 |1 3 2 |9 7 6 \n",
      "7 2 9 |5 6 4 |1 3 8 \n",
      "1 3 6 |7 9 8 |2 4 5 \n",
      "------+------+------\n",
      "3 7 2 |6 8 9 |5 1 4 \n",
      "8 1 4 |2 5 3 |7 6 9 \n",
      "6 9 5 |4 1 7 |3 8 2 \n",
      "\n"
     ]
    }
   ],
   "source": [
    "display(grid_values(grid1))\n",
    "print('     ... => ...')\n",
    "print()\n",
    "display(grid_values(grid1_soln))"
   ]
  },
  {
   "cell_type": "code",
   "execution_count": null,
   "metadata": {
    "colab": {},
    "colab_type": "code",
    "id": "dOsmJXq6xAIt",
    "outputId": "7a011077-a51a-4f71-cc46-1a63e75d28cf"
   },
   "outputs": [
    {
     "name": "stdout",
     "output_type": "stream",
     "text": [
      " A1 A2 A3| A4 __ A6| A7 A8 A9\n",
      " B1 B2 B3| B4 __ B6| B7 B8 B9\n",
      " C1 C2 C3| C4 __ C6| C7 C8 C9\n",
      "---------+---------+---------\n",
      " D1 D2 D3| D4 __ D6| D7 D8 D9\n",
      " E1 E2 E3| E4 __ E6| E7 E8 E9\n",
      " F1 F2 F3| F4 __ F6| F7 F8 F9\n",
      "---------+---------+---------\n",
      " __ __ __| __ G5 __| __ __ __\n",
      " H1 H2 H3| __ __ __| H7 H8 H9\n",
      " I1 I2 I3| __ __ __| I7 I8 I9\n",
      "\n"
     ]
    }
   ],
   "source": [
    "display(sgv)"
   ]
  },
  {
   "cell_type": "markdown",
   "metadata": {
    "colab_type": "text",
    "id": "l8wFG-W9xAIv"
   },
   "source": [
    "The peers of any cell are the squares which cannot have the same value as the cell.  That means all the cells in the samr column and the same row box."
   ]
  },
  {
   "cell_type": "markdown",
   "metadata": {
    "colab_type": "text",
    "id": "-l0WkQgUxAIv"
   },
   "source": [
    "The `peers` dictionary has been defined so that the key is a square and the value is a complete list of the peers."
   ]
  },
  {
   "cell_type": "code",
   "execution_count": null,
   "metadata": {
    "colab": {},
    "colab_type": "code",
    "id": "DuMzt4-9xAIv",
    "outputId": "1428d64d-2f4d-48b3-a0d7-9b28b6ddbed6"
   },
   "outputs": [
    {
     "data": {
      "text/plain": [
       "{'A5',\n",
       " 'B5',\n",
       " 'C5',\n",
       " 'D5',\n",
       " 'E5',\n",
       " 'F5',\n",
       " 'G1',\n",
       " 'G2',\n",
       " 'G3',\n",
       " 'G4',\n",
       " 'G6',\n",
       " 'G7',\n",
       " 'G8',\n",
       " 'G9',\n",
       " 'H4',\n",
       " 'H5',\n",
       " 'H6',\n",
       " 'I4',\n",
       " 'I5',\n",
       " 'I6'}"
      ]
     },
     "execution_count": 8,
     "metadata": {
      "tags": []
     },
     "output_type": "execute_result"
    }
   ],
   "source": [
    "peers['G5']"
   ]
  },
  {
   "cell_type": "markdown",
   "metadata": {
    "colab_type": "text",
    "id": "fSZjbtIZxAIx"
   },
   "source": [
    "In the first code cell in this section, we defined a sudoku puzzle grid we called grid1. grid1 is a legal grid, as we can see by displaying it."
   ]
  },
  {
   "cell_type": "code",
   "execution_count": null,
   "metadata": {
    "colab": {},
    "colab_type": "code",
    "id": "FQJt2blQxAIx"
   },
   "outputs": [],
   "source": [
    "display(grid_values(grid1))"
   ]
  },
  {
   "cell_type": "markdown",
   "metadata": {
    "colab_type": "text",
    "id": "lcrizKRExAIz"
   },
   "source": [
    "Here are some more girds displayed."
   ]
  },
  {
   "cell_type": "code",
   "execution_count": null,
   "metadata": {
    "colab": {},
    "colab_type": "code",
    "id": "fAuqq30axAIz"
   },
   "outputs": [],
   "source": [
    "display(grid_values(grid3))"
   ]
  },
  {
   "cell_type": "code",
   "execution_count": null,
   "metadata": {
    "colab": {},
    "colab_type": "code",
    "id": "ws-oHw6GxAI1"
   },
   "outputs": [],
   "source": [
    "display(grid_values(grid4))"
   ]
  },
  {
   "cell_type": "markdown",
   "metadata": {
    "colab_type": "text",
    "id": "2zzQYI6yxAI2"
   },
   "source": [
    "If you look carefully at `grid5` you will see it differs from `grid1` in an important way."
   ]
  },
  {
   "cell_type": "code",
   "execution_count": null,
   "metadata": {
    "colab": {},
    "colab_type": "code",
    "id": "O4varlHYxAI2",
    "outputId": "948b9604-c530-42ae-fe52-1399af08c070"
   },
   "outputs": [
    {
     "name": "stdout",
     "output_type": "stream",
     "text": [
      ". . 3 |. 2 . |6 . . \n",
      "9 . . |3 . 5 |. 6 1 \n",
      ". . 1 |8 . 6 |4 . . \n",
      "------+------+------\n",
      ". . 8 |1 . 2 |9 . . \n",
      "7 . . |. . . |. . 8 \n",
      ". . 6 |7 . 8 |2 . . \n",
      "------+------+------\n",
      ". . 2 |6 . 9 |5 . . \n",
      "8 . . |2 . 3 |. . 9 \n",
      ". . 5 |. 1 . |3 . . \n",
      "\n"
     ]
    }
   ],
   "source": [
    "display(grid_values(grid5))"
   ]
  },
  {
   "cell_type": "markdown",
   "metadata": {
    "colab_type": "text",
    "id": "rV3KYrrCxAI3"
   },
   "source": [
    "The grid `grid5` is not a legal Sudoku grid.  Can you see the problem?  Now look at `grid2` and `grid3`.  Are they legal?"
   ]
  },
  {
   "cell_type": "code",
   "execution_count": null,
   "metadata": {
    "colab": {},
    "colab_type": "code",
    "id": "oN1vvVFoxAI4",
    "outputId": "579bb396-1836-4098-ae4e-c19da7783860"
   },
   "outputs": [
    {
     "data": {
      "text/plain": [
       "{'A1': '0',\n",
       " 'A2': '0',\n",
       " 'A3': '3',\n",
       " 'A4': '0',\n",
       " 'A5': '2',\n",
       " 'A6': '0',\n",
       " 'A7': '6',\n",
       " 'A8': '0',\n",
       " 'A9': '0',\n",
       " 'B1': '9',\n",
       " 'B2': '0',\n",
       " 'B3': '0',\n",
       " 'B4': '3',\n",
       " 'B5': '0',\n",
       " 'B6': '5',\n",
       " 'B7': '0',\n",
       " 'B8': '6',\n",
       " 'B9': '1',\n",
       " 'C1': '0',\n",
       " 'C2': '0',\n",
       " 'C3': '1',\n",
       " 'C4': '8',\n",
       " 'C5': '0',\n",
       " 'C6': '6',\n",
       " 'C7': '4',\n",
       " 'C8': '0',\n",
       " 'C9': '0',\n",
       " 'D1': '0',\n",
       " 'D2': '0',\n",
       " 'D3': '8',\n",
       " 'D4': '1',\n",
       " 'D5': '0',\n",
       " 'D6': '2',\n",
       " 'D7': '9',\n",
       " 'D8': '0',\n",
       " 'D9': '0',\n",
       " 'E1': '7',\n",
       " 'E2': '0',\n",
       " 'E3': '0',\n",
       " 'E4': '0',\n",
       " 'E5': '0',\n",
       " 'E6': '0',\n",
       " 'E7': '0',\n",
       " 'E8': '0',\n",
       " 'E9': '8',\n",
       " 'F1': '0',\n",
       " 'F2': '0',\n",
       " 'F3': '6',\n",
       " 'F4': '7',\n",
       " 'F5': '0',\n",
       " 'F6': '8',\n",
       " 'F7': '2',\n",
       " 'F8': '0',\n",
       " 'F9': '0',\n",
       " 'G1': '0',\n",
       " 'G2': '0',\n",
       " 'G3': '2',\n",
       " 'G4': '6',\n",
       " 'G5': '0',\n",
       " 'G6': '9',\n",
       " 'G7': '5',\n",
       " 'G8': '0',\n",
       " 'G9': '0',\n",
       " 'H1': '8',\n",
       " 'H2': '0',\n",
       " 'H3': '0',\n",
       " 'H4': '2',\n",
       " 'H5': '0',\n",
       " 'H6': '3',\n",
       " 'H7': '0',\n",
       " 'H8': '0',\n",
       " 'H9': '9',\n",
       " 'I1': '0',\n",
       " 'I2': '0',\n",
       " 'I3': '5',\n",
       " 'I4': '0',\n",
       " 'I5': '1',\n",
       " 'I6': '0',\n",
       " 'I7': '3',\n",
       " 'I8': '0',\n",
       " 'I9': '0'}"
      ]
     },
     "execution_count": 12,
     "metadata": {
      "tags": []
     },
     "output_type": "execute_result"
    }
   ],
   "source": [
    "ill_grid = grid_values(grid5)\n",
    "ill_grid"
   ]
  },
  {
   "cell_type": "code",
   "execution_count": null,
   "metadata": {
    "colab": {},
    "colab_type": "code",
    "id": "unx6y5V2xAI5",
    "outputId": "a16e20cb-ced8-4e1c-eadc-2f8796b93dba"
   },
   "outputs": [
    {
     "data": {
      "text/plain": [
       "'6'"
      ]
     },
     "execution_count": 13,
     "metadata": {
      "tags": []
     },
     "output_type": "execute_result"
    }
   ],
   "source": [
    "ill_grid['A7']"
   ]
  },
  {
   "cell_type": "code",
   "execution_count": null,
   "metadata": {
    "colab": {},
    "colab_type": "code",
    "id": "Xhz7XOB8xAI6",
    "outputId": "49fe7671-de5f-4d65-95c8-84b9e4d181ee"
   },
   "outputs": [
    {
     "data": {
      "text/plain": [
       "'6'"
      ]
     },
     "execution_count": 14,
     "metadata": {
      "tags": []
     },
     "output_type": "execute_result"
    }
   ],
   "source": [
    "ill_grid['B8']"
   ]
  },
  {
   "cell_type": "markdown",
   "metadata": {
    "colab_type": "text",
    "id": "3X46158bxAI7"
   },
   "source": [
    "So we find the peers of `A7`"
   ]
  },
  {
   "cell_type": "code",
   "execution_count": null,
   "metadata": {
    "colab": {},
    "colab_type": "code",
    "id": "pcYWe688xAI7",
    "outputId": "05b4f3a8-a33a-4f95-c253-53708ecbd091"
   },
   "outputs": [
    {
     "data": {
      "text/plain": [
       "{'A1',\n",
       " 'A2',\n",
       " 'A3',\n",
       " 'A4',\n",
       " 'A5',\n",
       " 'A6',\n",
       " 'A8',\n",
       " 'A9',\n",
       " 'B7',\n",
       " 'B8',\n",
       " 'B9',\n",
       " 'C7',\n",
       " 'C8',\n",
       " 'C9',\n",
       " 'D7',\n",
       " 'E7',\n",
       " 'F7',\n",
       " 'G7',\n",
       " 'H7',\n",
       " 'I7'}"
      ]
     },
     "execution_count": 15,
     "metadata": {
      "tags": []
     },
     "output_type": "execute_result"
    }
   ],
   "source": [
    "peers['A7']"
   ]
  },
  {
   "cell_type": "markdown",
   "metadata": {
    "colab_type": "text",
    "id": "KGGIDUWexAI8"
   },
   "source": [
    "And zoom our attention in on one particular peer."
   ]
  },
  {
   "cell_type": "code",
   "execution_count": null,
   "metadata": {
    "colab": {},
    "colab_type": "code",
    "id": "l05YTTboxAI8"
   },
   "outputs": [],
   "source": [
    "'B8' in peers['A7']"
   ]
  },
  {
   "cell_type": "markdown",
   "metadata": {
    "colab_type": "text",
    "id": "aZ1NCy1fxAI_"
   },
   "source": [
    "Here's the fact that makes the grid illegal."
   ]
  },
  {
   "cell_type": "code",
   "execution_count": null,
   "metadata": {
    "colab": {},
    "colab_type": "code",
    "id": "vOw-FVNfxAI_"
   },
   "outputs": [],
   "source": [
    "'B8' in peers['A7'] and ill_grid['B8']  == ill_grid['A7']"
   ]
  },
  {
   "cell_type": "markdown",
   "metadata": {
    "colab_type": "text",
    "id": "aSHmyl_TxAJB"
   },
   "source": [
    "Your assignment is to write a function that will print out `Invalid` if the grid that is\n",
    "passed in as an argument is illegal and will print out `Valid` if the grid is legal.  It should work as follows:\n",
    "\n",
    "```\n",
    "def test(grid):\n",
    "     Your code goes here\n",
    "\n",
    "test(grid_values(grid1))\n",
    "test(grid_values(grid2))\n",
    "test(grid_values(grid3))\n",
    "test(grid_values(grid4))\n",
    "test(grid_values(grid5))\n",
    "```\n",
    "\n",
    "When you finish your code and execute the lines above, the following should print out:\n",
    "\n",
    "```\n",
    "   Valid!\n",
    "   Valid!\n",
    "   Invalid!\n",
    "   Invalid!\n",
    "   Invalid!\n",
    "```"
   ]
  },
  {
   "cell_type": "markdown",
   "metadata": {
    "colab_type": "text",
    "id": "KNOQQMfhxAJC"
   },
   "source": [
    "One thing to think about is what test you will use to find out that a square is valid/invalid. Another thing to think about is\n",
    "where in your code the two distinct `print` statements will go. You can't print 'Valid!' when you've seen one valid square.  You have to wait until all the squares have been proven valid.  Does it work exactly the same for 'Invalid!'? You can't print 'Invalid!'  when you've only seen one invalid square?"
   ]
  },
  {
   "cell_type": "markdown",
   "metadata": {
    "colab_type": "text",
    "id": "afD9Lg7LxAJC"
   },
   "source": [
    "**Warning One**.  As your test for invalidity, don't do\n",
    "\n",
    "```\n",
    "ill_grid['B8']  = ill_grid['A7']\n",
    "```\n",
    "\n",
    "Why not?"
   ]
  },
  {
   "cell_type": "markdown",
   "metadata": {
    "colab_type": "text",
    "id": "Oq-QtRfxxAJC"
   },
   "source": [
    "**Warning Two**.  Don't do\n",
    "\n",
    "```\n",
    "`B8`  == `A7`\n",
    "```\n",
    "\n",
    "Your not checking whether the **squares** are `==`.  Two distinct squares are never `==`.  Your checking whether the **values** of the squares are equal."
   ]
  },
  {
   "cell_type": "markdown",
   "metadata": {
    "colab_type": "text",
    "id": "umUAHkhoxAJC"
   },
   "source": [
    "1.  One way to test if a grid is valid is to check each square s to see if the\n",
    "    value of `s` is the same as the value of any of its peers.  To check all the squares \n",
    "    you can use the variable `squares` (defined above) which contains the names of all\n",
    "    81 squares.\n",
    "    \n",
    "    So your code might begin\n",
    "        \n",
    "    ```\n",
    "    def test(grid):\n",
    "        for s in squares:\n",
    "            [your code checking if s contains the same value as any of its peers]\n",
    "    ```\n",
    "                  \n",
    "2.  Keep in mind that `grid` is a dictionary whose keys are names of\n",
    "    squares (strings) and whose values are the numbers filling the squares.  You will be\n",
    "    checking on the equality of **values**.  The way to  get the value of a square `s` is\n",
    "    `grid[s]`.\n",
    "    \n",
    "3.  You need to ignore blank squares.  So the first thing you should do is check to see if\n",
    "    `s` is blank.  You can assume a blank square contains the **string** `\"0\"`.  Since you\n",
    "    only want to look at filled squares, your test is that their value is **not** equal to\n",
    "    `\"0\"`.  The Python test for checking that `X` is not equal to `Y` is\n",
    "    \n",
    "    ```\n",
    "    X <> Y\n",
    "    ```\n",
    "    \n",
    "    This evaluates to `True` when `X` and `Y` are not equal.\n",
    "    \n",
    "    So now your code begins:\n",
    "    \n",
    "       ```\n",
    "        def test(grid):\n",
    "               for s in squares:\n",
    "                    if [your test that s is not blank]:\n",
    "                        [your code checking if s contains the same value as any of its peers]\n",
    "       ```\n",
    "4.  The way to print 'Invalid' only once once you have found a bad square\n",
    "    is to print it and stop executing the function at once after you print. That can be \n",
    "    done as follows:\n",
    "    \n",
    "       ```\n",
    "       print \"Invalid!\"\n",
    "       return\n",
    "       ```\n",
    " "
   ]
  },
  {
   "cell_type": "code",
   "execution_count": null,
   "metadata": {
    "colab": {},
    "colab_type": "code",
    "id": "Ho_zbuEWxAJC"
   },
   "outputs": [],
   "source": []
  }
 ],
 "metadata": {
  "colab": {
   "name": "functions_nb.ipynb",
   "provenance": []
  },
  "kernelspec": {
   "display_name": "Python 3",
   "language": "python",
   "name": "python3"
  },
  "language_info": {
   "codemirror_mode": {
    "name": "ipython",
    "version": 3
   },
   "file_extension": ".py",
   "mimetype": "text/x-python",
   "name": "python",
   "nbconvert_exporter": "python",
   "pygments_lexer": "ipython3",
   "version": "3.7.6"
  },
  "toc": {
   "base_numbering": 1,
   "nav_menu": {
    "height": "294px",
    "width": "252px"
   },
   "number_sections": true,
   "sideBar": true,
   "skip_h1_title": false,
   "title_cell": "Table of Contents",
   "title_sidebar": "Contents",
   "toc_cell": false,
   "toc_position": {},
   "toc_section_display": "block",
   "toc_window_display": false
  }
 },
 "nbformat": 4,
 "nbformat_minor": 1
}
