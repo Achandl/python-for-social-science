{
 "cells": [
  {
   "cell_type": "markdown",
   "metadata": {
    "colab_type": "text",
    "id": "tSv87EV-xAG0"
   },
   "source": [
    "<font size = 7> <b>Functions, types, loops assignment</b></font>"
   ]
  },
  {
   "cell_type": "markdown",
   "metadata": {
    "colab_type": "text",
    "id": "SoQbqypGxjTm"
   },
   "source": [
    "# Review of accessing operations"
   ]
  },
  {
   "cell_type": "markdown",
   "metadata": {
    "colab_type": "text",
    "id": "0UQLu8BwxAG1"
   },
   "source": [
    "## Exercise 1"
   ]
  },
  {
   "cell_type": "markdown",
   "metadata": {
    "colab_type": "text",
    "id": "l48lELRMxAG2"
   },
   "source": [
    "Add a line of code that will generate the give output::\n",
    " \n",
    "     In [ ]: a_list = [2,7,8, 19]\n",
    "             YOUR CODE HERE\n",
    "     Out [ ]: 2\n",
    "     \n",
    "NOTE: The idea of this kind of exercise is to write a line of code\n",
    "that will produce the given output, 2 in this case.  Your\n",
    "answer goes in the next cell, which is a code cell.  It should this be an\n",
    "expression that operates on `a_list`.  A simple correct answer is:\n",
    "\n",
    "     In [ ]: a_list = [2,7,8, 19]\n",
    "             a_list[0]\n",
    "     Out [ ]: 2\n",
    "     \n",
    "Don't forget to evaluate the cell after you've written in your answer to generate Python's output and check your answer!\n"
   ]
  },
  {
   "cell_type": "code",
   "execution_count": 1,
   "metadata": {
    "colab": {},
    "colab_type": "code",
    "id": "aVZ_ApYFxAG2"
   },
   "outputs": [],
   "source": [
    "a_list = [2,7,8, 19]"
   ]
  },
  {
   "cell_type": "code",
   "execution_count": null,
   "metadata": {
    "colab": {},
    "colab_type": "code",
    "id": "RaZ7GURGxAG6"
   },
   "outputs": [],
   "source": [
    "[write your answer here]"
   ]
  },
  {
   "cell_type": "markdown",
   "metadata": {
    "colab_type": "text",
    "id": "iq05X7y9xAG8"
   },
   "source": [
    "##\n",
    " Exercise 2"
   ]
  },
  {
   "cell_type": "markdown",
   "metadata": {
    "colab_type": "text",
    "id": "23GlIMl0xAG9"
   },
   "source": [
    "  Write a line of code that produces the given output::\n",
    "   \n",
    "    In [ ]: a_list = ['sid','nancy','paul','ringo']\n",
    "             YOUR CODE HERE\n",
    "    Out [ ]: 'paul'"
   ]
  },
  {
   "cell_type": "code",
   "execution_count": 2,
   "metadata": {
    "colab": {},
    "colab_type": "code",
    "id": "XxmKSWwZxAG9"
   },
   "outputs": [],
   "source": [
    "a_list = ['sid','nancy','paul','ringo']"
   ]
  },
  {
   "cell_type": "code",
   "execution_count": null,
   "metadata": {
    "colab": {},
    "colab_type": "code",
    "id": "yTquUfsgxAG_"
   },
   "outputs": [],
   "source": [
    "[Write your answer here]"
   ]
  },
  {
   "cell_type": "markdown",
   "metadata": {
    "colab_type": "text",
    "id": "KkWSQOcvxAHB"
   },
   "source": [
    "## Exercise 3"
   ]
  },
  {
   "cell_type": "markdown",
   "metadata": {
    "colab_type": "text",
    "id": "Jjf0RWxQxAHC"
   },
   "source": [
    " Write a line of code that produces the given output: \n",
    "   \n",
    "     In [ ]: a_list = ['sid','nancy','paul','ringo']\n",
    "           YOUR CODE HERE\n",
    "     Out [ ]: ['nancy','paul']\n"
   ]
  },
  {
   "cell_type": "code",
   "execution_count": null,
   "metadata": {
    "colab": {},
    "colab_type": "code",
    "id": "_850YLm3xAHC"
   },
   "outputs": [],
   "source": [
    "a_list = ['sid','nancy','paul','ringo']\n",
    "#Write your answer below this"
   ]
  },
  {
   "cell_type": "markdown",
   "metadata": {
    "colab_type": "text",
    "id": "zOE_-spix6FA"
   },
   "source": [
    "# Loops"
   ]
  },
  {
   "cell_type": "markdown",
   "metadata": {
    "colab_type": "text",
    "id": "WhzeJOD6xAHE"
   },
   "source": [
    "## Exercise 4"
   ]
  },
  {
   "cell_type": "markdown",
   "metadata": {
    "colab_type": "text",
    "id": "Qs1V-5B1xAHE"
   },
   "source": [
    "Write a line of code that produces the given output: \n",
    "\n",
    "```\n",
    "In [ ]: a_list = ['sid','nancy','paul','ringo']\n",
    "        YOUR CODE HERE\n",
    "Out [ ]: ['Sid','Nancy','Paul','Ringo']\n",
    "```"
   ]
  },
  {
   "cell_type": "markdown",
   "metadata": {
    "colab_type": "text",
    "id": "k-BgPopdyr7O"
   },
   "source": [
    "Here are some hints.  It;s easy to capitalize a string."
   ]
  },
  {
   "cell_type": "code",
   "execution_count": 1,
   "metadata": {
    "colab": {
     "base_uri": "https://localhost:8080/",
     "height": 35
    },
    "colab_type": "code",
    "id": "naf2B8VcygYX",
    "outputId": "2bf94293-61e4-468c-d6b5-8a327d6ac696"
   },
   "outputs": [
    {
     "data": {
      "text/plain": [
       "'Sid'"
      ]
     },
     "execution_count": 1,
     "metadata": {},
     "output_type": "execute_result"
    }
   ],
   "source": [
    "'sid'.title()"
   ]
  },
  {
   "cell_type": "markdown",
   "metadata": {
    "colab_type": "text",
    "id": "4KhQTrWExAHO"
   },
   "source": [
    "But `.title()` is a method on strings, and it won't work on lists:"
   ]
  },
  {
   "cell_type": "code",
   "execution_count": null,
   "metadata": {
    "colab": {
     "base_uri": "https://localhost:8080/",
     "height": 181
    },
    "colab_type": "code",
    "id": "FOUNlKVGxAHP",
    "outputId": "d35eabf3-17e8-476d-e96f-00a9c29d1ec7"
   },
   "outputs": [
    {
     "ename": "AttributeError",
     "evalue": "ignored",
     "output_type": "error",
     "traceback": [
      "\u001b[0;31m---------------------------------------------------------------------------\u001b[0m",
      "\u001b[0;31mAttributeError\u001b[0m                            Traceback (most recent call last)",
      "\u001b[0;32m<ipython-input-4-96be30fb4f05>\u001b[0m in \u001b[0;36m<module>\u001b[0;34m()\u001b[0m\n\u001b[1;32m      1\u001b[0m \u001b[0ma_list\u001b[0m \u001b[0;34m=\u001b[0m \u001b[0;34m[\u001b[0m\u001b[0;34m'sid'\u001b[0m\u001b[0;34m,\u001b[0m\u001b[0;34m'nancy'\u001b[0m\u001b[0;34m,\u001b[0m\u001b[0;34m'paul'\u001b[0m\u001b[0;34m,\u001b[0m\u001b[0;34m'ringo'\u001b[0m\u001b[0;34m]\u001b[0m\u001b[0;34m\u001b[0m\u001b[0;34m\u001b[0m\u001b[0m\n\u001b[0;32m----> 2\u001b[0;31m \u001b[0ma_list\u001b[0m\u001b[0;34m.\u001b[0m\u001b[0mtitle\u001b[0m\u001b[0;34m(\u001b[0m\u001b[0;34m)\u001b[0m\u001b[0;34m\u001b[0m\u001b[0;34m\u001b[0m\u001b[0m\n\u001b[0m",
      "\u001b[0;31mAttributeError\u001b[0m: 'list' object has no attribute 'title'"
     ]
    }
   ],
   "source": [
    "a_list = ['sid','nancy','paul','ringo']\n",
    "a_list.title()"
   ]
  },
  {
   "cell_type": "markdown",
   "metadata": {
    "colab_type": "text",
    "id": "zIKh9o6syzX3"
   },
   "source": [
    "Nevertheless, each element of the list `a_list` is a `string` and `.title()` will do exactly what we want if it is applied to each element in the list.  So you need a **loop** that will apply `.title()` to each element in the list and collect the results."
   ]
  },
  {
   "cell_type": "markdown",
   "metadata": {
    "colab_type": "text",
    "id": "E1TpsDMpxAHF"
   },
   "source": [
    "If you're not using a list comprehension as your loop, try an answer with this format.  Insert a `for`-loop where it says \"#Your code below here\""
   ]
  },
  {
   "cell_type": "code",
   "execution_count": null,
   "metadata": {
    "colab": {},
    "colab_type": "code",
    "id": "5b0dKoo_xAHG",
    "outputId": "28682565-1c23-4a8d-d415-64dba288c387"
   },
   "outputs": [
    {
     "data": {
      "text/plain": [
       "['Sid', 'Nancy', 'Paul', 'Ringo']"
      ]
     },
     "execution_count": 11,
     "metadata": {
      "tags": []
     },
     "output_type": "execute_result"
    }
   ],
   "source": [
    "a_list = ['sid','nancy','paul','ringo']\n",
    "new_list = []\n",
    "# Your code below here\n",
    "new_list"
   ]
  },
  {
   "cell_type": "markdown",
   "metadata": {
    "colab_type": "text",
    "id": "HxeLKKKDxAHJ"
   },
   "source": [
    "If you are using a list comprehension, your answer will have this format."
   ]
  },
  {
   "cell_type": "code",
   "execution_count": null,
   "metadata": {
    "colab": {},
    "colab_type": "code",
    "id": "oocOxj1fxAHJ",
    "outputId": "a7a41f4d-72db-42d7-c99a-6605896030aa"
   },
   "outputs": [
    {
     "data": {
      "text/plain": [
       "[]"
      ]
     },
     "execution_count": 55,
     "metadata": {
      "tags": []
     },
     "output_type": "execute_result"
    }
   ],
   "source": [
    "a_list = ['sid','nancy','paul','ringo']\n",
    "#Your list comprehension code below here inside the square brackets\n",
    "new_list = [ ]\n",
    "new_list"
   ]
  },
  {
   "cell_type": "markdown",
   "metadata": {
    "colab_type": "text",
    "id": "Dfxd8VH4xAHM"
   },
   "source": [
    "If you need help, here is a little discussion.\n",
    "    \n",
    "Hint #1: This is an ideal case in which to use a list comprehension.\n",
    "\n",
    "Hint #2:  THe iteration operation, the thing you are going to do to each member of `a_list` is to use the `title()` method on strings, as illustrated here:"
   ]
  },
  {
   "cell_type": "code",
   "execution_count": null,
   "metadata": {
    "colab": {},
    "colab_type": "code",
    "id": "FtWk5hLzxAHM",
    "outputId": "e125ff6e-f1d3-4acf-eb31-16b9840c2187"
   },
   "outputs": [
    {
     "data": {
      "text/plain": [
       "'This String'"
      ]
     },
     "execution_count": 6,
     "metadata": {
      "tags": []
     },
     "output_type": "execute_result"
    }
   ],
   "source": [
    "'this string'.title()"
   ]
  },
  {
   "cell_type": "markdown",
   "metadata": {},
   "source": [
    "Looping though a list is easy."
   ]
  },
  {
   "cell_type": "code",
   "execution_count": 6,
   "metadata": {
    "colab": {
     "base_uri": "https://localhost:8080/",
     "height": 102
    },
    "colab_type": "code",
    "id": "hXrirS6bxAHb",
    "outputId": "3a969440-97df-4c9c-891c-dbc6814f397f"
   },
   "outputs": [
    {
     "name": "stdout",
     "output_type": "stream",
     "text": [
      "['sid', 'nancy', 'paul', 'ringo']\n",
      "sid\n",
      "nancy\n",
      "paul\n",
      "ringo\n"
     ]
    }
   ],
   "source": [
    "print(a_list)\n",
    "for b in a_list:\n",
    "    print(b)"
   ]
  },
  {
   "cell_type": "markdown",
   "metadata": {
    "colab_type": "text",
    "id": "WquVf-lmxAHg"
   },
   "source": [
    "## Reversing a list"
   ]
  },
  {
   "cell_type": "markdown",
   "metadata": {
    "colab_type": "text",
    "id": "4h63IwzTxAHh"
   },
   "source": [
    "Write a line of code that produces the given output: \n",
    "\n",
    "```\n",
    "In [ ]: a_list = ['sid','nancy','paul','ringo']\n",
    "        YOUR CODE HERE\n",
    "Out [ ]: ['Ringo', 'Paul', 'Nancy', 'Sid']\n",
    "```\n",
    "    \n",
    "Hint: Try combining a list comprehension with a list reversal"
   ]
  },
  {
   "cell_type": "code",
   "execution_count": null,
   "metadata": {
    "colab": {},
    "colab_type": "code",
    "id": "MBFNAJ1kxAHh",
    "outputId": "36a07893-e3a2-4ee2-9656-3cf0c65814ff"
   },
   "outputs": [
    {
     "data": {
      "text/plain": [
       "['ringo', 'paul', 'nancy', 'sid']"
      ]
     },
     "execution_count": 22,
     "metadata": {
      "tags": []
     },
     "output_type": "execute_result"
    }
   ],
   "source": [
    "Y = a_list.reverse()\n",
    "a_list"
   ]
  },
  {
   "cell_type": "code",
   "execution_count": null,
   "metadata": {
    "colab": {},
    "colab_type": "code",
    "id": "9jEwHJ_QxAHk",
    "outputId": "9896fffe-527b-452c-c31f-ff8a485c757a"
   },
   "outputs": [
    {
     "data": {
      "text/plain": [
       "'zyxwvutsrqponmlkjihgfedcba'"
      ]
     },
     "execution_count": 33,
     "metadata": {
      "tags": []
     },
     "output_type": "execute_result"
    }
   ],
   "source": [
    "X = 'abcdefghijklmnopqrstuvwxyz'\n",
    "X[::-1]"
   ]
  },
  {
   "cell_type": "code",
   "execution_count": null,
   "metadata": {
    "colab": {},
    "colab_type": "code",
    "id": "FRXg89mDxAHm",
    "outputId": "e2a5df97-382a-45c0-c428-dcf3f7a32746"
   },
   "outputs": [
    {
     "data": {
      "text/plain": [
       "[]"
      ]
     },
     "execution_count": 54,
     "metadata": {
      "tags": []
     },
     "output_type": "execute_result"
    }
   ],
   "source": [
    "a_list = ['sid','nancy','paul','ringo']\n",
    "# Your code below here\n",
    "new_list = []\n",
    "for x in a_list:\n",
    "    # Your code here replacing continue\n",
    "    continue\n",
    "new_list"
   ]
  },
  {
   "cell_type": "markdown",
   "metadata": {
    "colab_type": "text",
    "id": "cKGaMiWp3gZw"
   },
   "source": [
    "# Boolean tests"
   ]
  },
  {
   "cell_type": "markdown",
   "metadata": {
    "colab_type": "text",
    "id": "2GfVpyjKxAHv"
   },
   "source": [
    "## Exercise 4A"
   ]
  },
  {
   "cell_type": "markdown",
   "metadata": {
    "colab_type": "text",
    "id": "8sHJtFgrxAHw"
   },
   "source": [
    "Write a line of code that will return True when applied to X:\n",
    "\n",
    "    In [ ]: X = 'ringo'\n",
    "            YOUR CODE GOES HERE\n",
    "    Out [ ]: True\n",
    "            "
   ]
  },
  {
   "cell_type": "markdown",
   "metadata": {
    "colab_type": "text",
    "id": "jCv8rX0sxAHw"
   },
   "source": [
    "Write a line of code that will return False when applied to X:\n",
    "\n",
    "    In [ ]: X = 'ringo'\n",
    "            YOUR CODE GOES HERE\n",
    "    Out [ ]: False\n",
    "            "
   ]
  },
  {
   "cell_type": "code",
   "execution_count": null,
   "metadata": {
    "colab": {},
    "colab_type": "code",
    "id": "40Hx7aaTxAHx"
   },
   "outputs": [],
   "source": [
    "X = 'ringo'\n",
    "# Your code below here."
   ]
  },
  {
   "cell_type": "markdown",
   "metadata": {
    "colab_type": "text",
    "id": "yhHYN5VI3w-j"
   },
   "source": [
    "## If-else statements"
   ]
  },
  {
   "cell_type": "markdown",
   "metadata": {
    "colab_type": "text",
    "id": "b8r0cL7oxAHy"
   },
   "source": [
    "# Exercise 4B"
   ]
  },
  {
   "cell_type": "markdown",
   "metadata": {
    "colab_type": "text",
    "id": "kqMI78d2xAHz"
   },
   "source": [
    "Write an `if-else` statement (4 lines of code) that will print \"Branch 1\" for the first value of X; then test *the same if-else statement* again on the second value of X and have it print \"branch2\" for the second value of X::\n",
    "    \n",
    "    In [ ]:  X = 'ringo'\n",
    "             YOUR IF-ELSE STATEMENT GOES HERE\n",
    "             X = 'paul'\n",
    "             COPY & PASTE THE IF-ELSE STATEMENT HERE\n",
    "    Out [ ]: Branch 1\n",
    "             Branch 2"
   ]
  },
  {
   "cell_type": "code",
   "execution_count": null,
   "metadata": {
    "colab": {},
    "colab_type": "code",
    "id": "NH6ZjzBSxAHz",
    "outputId": "5fc69262-e49b-4d86-e9c7-c776f577eb4e"
   },
   "outputs": [
    {
     "name": "stdout",
     "output_type": "stream",
     "text": [
      "Branch 1\n",
      "Branch 2\n"
     ]
    }
   ],
   "source": [
    "X = 'ringo'\n",
    "if len(X) > 4:\n",
    "    print('Branch 1')\n",
    "else:\n",
    "    print('Branch 2')\n",
    "X = 'paul'\n",
    "if len(X) > 4:\n",
    "    print('Branch 1')\n",
    "else:\n",
    "    print('Branch 2')"
   ]
  },
  {
   "cell_type": "markdown",
   "metadata": {
    "colab_type": "text",
    "id": "qYLPRhpzxAH1"
   },
   "source": [
    "Write a **function** that prints `Branch 1` when applied to `Ringo` and `Branch 2` when applied to `Paul`.  Use the same conditional you used above.\n",
    "\n",
    "Create a new cell and **test** your function in the new cell."
   ]
  },
  {
   "cell_type": "code",
   "execution_count": null,
   "metadata": {
    "colab": {},
    "colab_type": "code",
    "id": "epFbjFayxAH1"
   },
   "outputs": [],
   "source": [
    "#Your answer goes here\n",
    "def branch_test (name_str):\n",
    "    pass # replace this pass with your conditional, appropriately modified."
   ]
  },
  {
   "cell_type": "markdown",
   "metadata": {
    "colab_type": "text",
    "id": "b0JiaE6exAH2"
   },
   "source": [
    "## Exercise 5"
   ]
  },
  {
   "cell_type": "markdown",
   "metadata": {
    "colab_type": "text",
    "id": "6WaIc03rxAH3"
   },
   "source": [
    " Write a line of code that produces the given output: \n",
    "   \n",
    "     In [ ]: a_list = ['john','paul','nancy','sid']\n",
    "           YOUR CODE HERE\n",
    "     Out [ ]: [True, True, False, False]\n",
    "  \n",
    " [Hint:  Try a list comprehension that collects\n",
    "  a list of the results of a Boolean test]\n"
   ]
  },
  {
   "cell_type": "code",
   "execution_count": null,
   "metadata": {
    "colab": {},
    "colab_type": "code",
    "id": "01ARy7AVxAH3",
    "outputId": "6fd90823-d52c-4d06-de6f-840d27565b7a"
   },
   "outputs": [
    {
     "data": {
      "text/plain": [
       "[True, True, False, False]"
      ]
     },
     "execution_count": 41,
     "metadata": {
      "tags": []
     },
     "output_type": "execute_result"
    }
   ],
   "source": [
    "a_list = ['john','paul','nancy','sid']\n",
    "new_list = []\n",
    "# Your code here\n",
    "new_list"
   ]
  },
  {
   "cell_type": "code",
   "execution_count": null,
   "metadata": {
    "colab": {},
    "colab_type": "code",
    "id": "rzOh2NuExAH5",
    "outputId": "bbd6b425-8f34-43d9-a4c1-c9646830dd35"
   },
   "outputs": [
    {
     "data": {
      "text/plain": [
       "[]"
      ]
     },
     "execution_count": 56,
     "metadata": {
      "tags": []
     },
     "output_type": "execute_result"
    }
   ],
   "source": [
    "# Your list comprehension code below, inside the square brackets\n",
    "new_list = [ ]\n",
    "new_list"
   ]
  },
  {
   "cell_type": "markdown",
   "metadata": {
    "colab_type": "text",
    "id": "BC0-hqJhxAH7"
   },
   "source": [
    "## Exercise 6"
   ]
  },
  {
   "cell_type": "markdown",
   "metadata": {
    "colab_type": "text",
    "id": "D4NouVzKxAH8"
   },
   "source": [
    "Write a `for` loop that collects all the numbers in `test_list`\n",
    "that are between 3 and 6 inclusive and places them\n",
    "in a list named `result`.\n",
    "\n",
    "In the cell below you are given a list  to work on and an initial value for the list `result`,\n",
    "which you will update in your `for` loop.  The cell also eveluates `result` after the\n",
    "loop to check that the value is right::\n",
    "\n",
    "    In [ ]: test_list = [2, 7, 9, 4, 8, 3, 2, 6, 3, 5, 9, 18, 0, 5]\n",
    "            result = []\n",
    "            YOUR CODE GOES HERE\n",
    "            result\n",
    "     Out [ ]: [4,3,6,3,5,5]\n",
    "                         \n",
    "\n",
    "\n",
    "Note  This can be done as a list comprehension and you\n",
    "are welcome to do it that way."
   ]
  },
  {
   "cell_type": "code",
   "execution_count": null,
   "metadata": {
    "colab": {},
    "colab_type": "code",
    "id": "dMPILTMwxAH8",
    "outputId": "789b249c-0e23-4c86-edf8-ff855e5f5973"
   },
   "outputs": [
    {
     "data": {
      "text/plain": [
       "[4, 3, 6, 3, 5, 5]"
      ]
     },
     "execution_count": 44,
     "metadata": {
      "tags": []
     },
     "output_type": "execute_result"
    }
   ],
   "source": [
    "test_list = [2, 7, 9, 4, 8, 3, 2, 6, 3, 5, 9, 18, 0, 5]\n",
    "result = []\n",
    "# Your code below here\n",
    "result"
   ]
  },
  {
   "cell_type": "markdown",
   "metadata": {
    "colab_type": "text",
    "id": "47Q5ARzwxAH_"
   },
   "source": [
    "## Exercise 7"
   ]
  },
  {
   "cell_type": "markdown",
   "metadata": {
    "colab_type": "text",
    "id": "3aeUFk_SxAIA"
   },
   "source": [
    "Now, using the same definition of `test_list`\n",
    "as in exercise 6, write a `for` loop that **counts**\n",
    "the number of integers in `test_list` that are between 3 and 6 inclusive\n",
    "and  places the result in a variable named `tweeners`.\n",
    "You can do this by just taking the length\n",
    "of the list you computed in exercise 6, but try to do\n",
    "it without building that list.  Just start with `tweeners`\n",
    "set to 0 and increment its value by one each time you see an appropriate number.  The value of the variable after the loop is exited should be 6.\n"
   ]
  },
  {
   "cell_type": "code",
   "execution_count": null,
   "metadata": {
    "colab": {},
    "colab_type": "code",
    "id": "0suFi78ZxAIC",
    "outputId": "4af03b0c-3ed9-447a-9d1a-e94128abd21d"
   },
   "outputs": [
    {
     "data": {
      "text/plain": [
       "6"
      ]
     },
     "execution_count": 47,
     "metadata": {
      "tags": []
     },
     "output_type": "execute_result"
    }
   ],
   "source": [
    "test_list = [2, 7, 9, 4, 8, 3, 2, 6, 3, 5, 9, 18, 0, 5]\n",
    "\n",
    "tweeners = 0\n",
    "for num in test_list:\n",
    "    if (3 <= num) and (num <= 6):\n",
    "        tweeners += 1\n",
    "# YOur loop here\n",
    "tweeners"
   ]
  },
  {
   "cell_type": "markdown",
   "metadata": {},
   "source": [
    "## Exercise 8\n",
    "\n",
    "Now, write loop that computes the frequencies of the letters in `\"abracadabra\"`.  The frequencies should be\n",
    "kept in a dictionary that has letters as keys and integers as values. After the counting code is executed,\n",
    "the dictionary should look like this:\n",
    "\n",
    "```\n",
    "{'a': 5, 'b': 2, 'r': 2, 'c': 1, 'd': 1}\n",
    "```\n",
    "\n",
    "Hint:  Your  answer will use a loop and will contain a line that is equivalent to this:\n",
    "\n",
    "```\n",
    "   counter_dict[letter] = counter_dict[letter] + 1\n",
    "```\n",
    "\n",
    "The problem is that the dictionary needs to start out empty; the expression on the right hand\n",
    "hand side of the `=` will raise a `KeyError` on an an empty dictionary, so this can't be what\n",
    "you always do.\n",
    "\n",
    "Inside the loop, you need to structure your code something like this:\n",
    "\n",
    "```\n",
    "    if [test to see if letter is not a key in the dictionary]:\n",
    "       # Start letter off with count 1\n",
    "       counter_dict[letter] = 1\n",
    "     else:\n",
    "       # the usual counting code\n",
    "```\n",
    "    \n",
    "Do not use the `Counter` class from the Python `collections` module to solve this problem, even\n",
    "though though that makes it easier.  The goal here is to get you writing loops."
   ]
  },
  {
   "cell_type": "code",
   "execution_count": 5,
   "metadata": {},
   "outputs": [],
   "source": [
    "test_str = 'abracadabra'\n",
    "\n",
    "# Start with an empty dictionary\n",
    "counter_dict = dict()\n",
    "\n",
    "for letter in test_str:\n",
    "    # Your code here (will be more than one line)"
   ]
  },
  {
   "cell_type": "markdown",
   "metadata": {
    "colab_type": "text",
    "id": "XajFYX0HxAID"
   },
   "source": [
    "## Exercise 9"
   ]
  },
  {
   "cell_type": "markdown",
   "metadata": {
    "colab_type": "text",
    "id": "l1kONBASxAIE"
   },
   "source": []
  },
  {
   "cell_type": "markdown",
   "metadata": {
    "colab_type": "text",
    "id": "QvO91mHjxAIE"
   },
   "source": [
    "Filter  any items which occur\n",
    "less than 2 times in a sequence of items. The sequence can be a\n",
    "string, or tuple, or list.  You can use the following sequence\n",
    "as an example:\n",
    "\n",
    "```\n",
    "   X = 'abracadabra'\n",
    "```\n",
    "Hint: Solve this problem in two parts.  First get all the needed counts and place them in a dictionary\n",
    "using the code from the previous exercise. (Or you can if you like use a `Counter`, in which case \n",
    "it will be helpful to review our discussion of Counters in [the book draft section on dictionaries](http://gawron.sdsu.edu/python_for_ss/course_core/book_draft/Python_introduction/dictionaries.html#python-collections-module). \n",
    "\n",
    "Either you can then use counter dictionary you compute\n",
    "to filter the letters in `\"abracadabra\"` with counts below 2."
   ]
  },
  {
   "cell_type": "code",
   "execution_count": 3,
   "metadata": {
    "colab": {},
    "colab_type": "code",
    "id": "5qFPEW0VxAIH",
    "outputId": "7dfa922b-a59d-427c-8cfb-4012b6777abb"
   },
   "outputs": [],
   "source": [
    "from collections import Counter\n",
    "X = 'abracadabra'\n",
    "# Your code here"
   ]
  },
  {
   "cell_type": "markdown",
   "metadata": {
    "colab_type": "text",
    "id": "LowOkLSixAIb"
   },
   "source": [
    "## Exercise 10"
   ]
  },
  {
   "cell_type": "markdown",
   "metadata": {
    "colab_type": "text",
    "id": "tG1gWlnPxAIb"
   },
   "source": [
    "Write a function that returns the first element of any sequence.  It is fine if it is an error to pass in a dictionary or a set.  Here are some examples of how it should work:\n",
    "\n",
    "```\n",
    ">>> first('william')\n",
    "'w'\n",
    ">>> first(['X', [0,1], ('a','b')])\n",
    "'X'\n",
    "```\n",
    "\n",
    "Hint:  If you're having trouble getting this behavior, maybe you forgot\n",
    "about `return`?"
   ]
  },
  {
   "cell_type": "code",
   "execution_count": 29,
   "metadata": {
    "colab": {},
    "colab_type": "code",
    "id": "EQbt-EBQxAIc"
   },
   "outputs": [],
   "source": [
    "def first(seq):\n",
    "  # Your code here"
   ]
  },
  {
   "cell_type": "markdown",
   "metadata": {},
   "source": [
    "# Exercise 10a\n",
    "\n",
    "Your most likely solution to the previous problem behaves like this:\n",
    "\n",
    "```\n",
    ">>> first('')\n",
    "IndexError                                Traceback (most recent call last)\n",
    "...\n",
    "IndexError: string index out of range\n",
    "```\n",
    "\n",
    "Fix your function so that it behaves likes this (you will have to write the\n",
    "`print` command issuing the warning yourself)\n",
    "\n",
    "```\n",
    ">>> first('')\n",
    "**Warning**: Empty sequence passed to first\n",
    "```"
   ]
  },
  {
   "cell_type": "code",
   "execution_count": 13,
   "metadata": {},
   "outputs": [
    {
     "name": "stdout",
     "output_type": "stream",
     "text": [
      "**Warning**: Empty sequence passed to first\n"
     ]
    }
   ],
   "source": [
    "first('')"
   ]
  },
  {
   "cell_type": "markdown",
   "metadata": {
    "colab_type": "text",
    "id": "eTm2-Q8OxAIe"
   },
   "source": [
    "## Exercise 11"
   ]
  },
  {
   "cell_type": "markdown",
   "metadata": {
    "colab_type": "text",
    "id": "m0QzizbcxAIe"
   },
   "source": [
    "Write a function that creates a palindrome from any sequence.  Here is how it should  work:\n",
    "\n",
    "```\n",
    "    In [ ]: x = palindrome('ohno')\n",
    "    Out [ ]: 'ohnoonho' \n",
    "```\n",
    "\n",
    "Hint:  You can reverse any sequence `Seq` with `Seq[::-1]`."
   ]
  },
  {
   "cell_type": "code",
   "execution_count": 22,
   "metadata": {
    "colab": {},
    "colab_type": "code",
    "id": "vR09xCJ-xAIe"
   },
   "outputs": [],
   "source": [
    "\n",
    "# Your code here\n"
   ]
  },
  {
   "cell_type": "markdown",
   "metadata": {
    "colab_type": "text",
    "id": "b46KOqoaxAIf"
   },
   "source": [
    "There is a very simple Python idiom for this using `*`, but it can also be done with `+`."
   ]
  },
  {
   "cell_type": "markdown",
   "metadata": {},
   "source": [
    "# Exercise 12"
   ]
  },
  {
   "cell_type": "markdown",
   "metadata": {},
   "source": [
    "Modify the palindrome function of Exercise 11 so that it has an optional middle string which\n",
    "is used as the center of the palindrome. Here are examples of how it should behave:\n",
    "\n",
    "```\n",
    "In [ ]: x = palindrome('ohno')     # Same as before, but we are checking for the optionality of the new arg\n",
    "Out [ ]: 'ohnoonho' \n",
    "\n",
    "In [ ]: x = palindrome('madam', 'i')\n",
    "Out [ ]: 'madamimadam'\n",
    "\n",
    "In [ ]: x = palindrome('mada', 'mim')     \n",
    "Out [ ]: 'madamimadam'\n",
    "\n",
    "In [ ]: x = palindrome(L0 ='mada', center ='mim')     \n",
    "Out [ ]: 'madamimadam'\n",
    "\n",
    "In [ ]: x = palindrome(center ='mim', L0 ='mada')     \n",
    "Out [ ]: 'madamimadam'\n",
    "\n",
    "```\n",
    "\n",
    "Hint:  For help with optional arguments and default values (which is what you need to worry about\n",
    "here), see [VanderPlas Whirlwind Tour of Python, Chap 8.](https://github.com/jakevdp/WhirlwindTourOfPython/blob/master/Index.ipynb)"
   ]
  },
  {
   "cell_type": "code",
   "execution_count": null,
   "metadata": {},
   "outputs": [],
   "source": [
    "# Your code here"
   ]
  },
  {
   "cell_type": "markdown",
   "metadata": {
    "colab_type": "text",
    "id": "UI5_26ntxAIg"
   },
   "source": [
    "## For loops: Sudoku problem"
   ]
  },
  {
   "cell_type": "markdown",
   "metadata": {
    "colab_type": "text",
    "id": "hiOUWXf_xAIg"
   },
   "source": [
    "Just execute the code cell below.  We need it for the discussion and exercises that follow."
   ]
  },
  {
   "cell_type": "code",
   "execution_count": 16,
   "metadata": {
    "colab": {},
    "colab_type": "code",
    "id": "1gwCfCEcxAIg"
   },
   "outputs": [],
   "source": [
    "def cross(A, B):\n",
    "    \"Cross product of elements in A and elements in B.\"\n",
    "    return [a+b for a in A for b in B]\n",
    "\n",
    "\n",
    "digits   = '123456789'\n",
    "rows     = 'ABCDEFGHI'\n",
    "cols     = digits\n",
    "squares  = cross(rows, cols)\n",
    "unitlist = ([cross(rows, c) for c in cols] +\n",
    "            [cross(r, cols) for r in rows] +\n",
    "            [cross(rs, cs) for rs in ('ABC','DEF','GHI') for cs in ('123','456','789')])\n",
    "\n",
    "# Assign to each square s A set of sets of squares\n",
    "units = dict((s, [u for u in unitlist if s in u])\n",
    "             for s in squares)\n",
    "## Assign to each square s a set of squares, namely those that cant have the same value as s.\n",
    "peers = dict((s, set(sum(units[s],[]))-set([s]))\n",
    "             for s in squares)\n",
    "\n",
    "# Turn a puzzle string into a dictionary.\n",
    "def grid_values(grid):\n",
    "    \"Convert grid into a dict of {square: char} with '0' or '.' for empties.\"\n",
    "    chars = [c for c in grid if c in digits or c in '0.']\n",
    "    assert len(chars) == 81\n",
    "    return dict(list(zip(squares, chars)))\n",
    "\n",
    "def simple_grid_values (grid):\n",
    "    \"Convert grid into a dict of {square: char} with no restriction on contents\"\n",
    "    assert len(grid) == 81\n",
    "    return dict(list(zip(squares, grid)))\n",
    "  \n",
    "################ Display as 2-D grid ################\n",
    "\n",
    "def display(values):\n",
    "    \"Display these values as a 2-D grid.\"\n",
    "    for s in squares:\n",
    "        if values[s] == '0':\n",
    "            values[s] = '.'\n",
    "    width = 1+max(len(values[s]) for s in squares)\n",
    "    line = '+'.join(['-'*(width*3)]*3)\n",
    "    for r in rows:\n",
    "        print(''.join(values[r+c].center(width)+('|' if c in '36' else '')\n",
    "                      for c in cols))\n",
    "        if r in 'CF': print(line)\n",
    "    print()\n",
    "\n",
    "\n",
    "grid1  = '003020600900305001001806400008102900700000008006708200002609500800203009005010300'\n",
    "grid1_soln = '483921657967345821251876493548132976729564138136798245372689514814253769695417382'\n",
    "grid2  = '003020600900305001001806400008102900700000008006708200002689500800203009005010300'\n",
    "# Some illegal grids.\n",
    "grid3  = '003020600900305001001806400008102900700000008006708200002609500800203089005010300'\n",
    "grid4  = '003020609900305001001806400008102900700000008006708200002609500800203009005010300'\n",
    "grid5  = '003020600900305061001806400008102900700000008006708200002609500800203009005010300'\n",
    "g5_peers = peers['G5']\n",
    "sgv = simple_grid_values(squares)\n",
    "for s in g5_peers:\n",
    "    sgv[s] = '__'"
   ]
  },
  {
   "cell_type": "markdown",
   "metadata": {
    "colab_type": "text",
    "id": "FaidE6odxAIi"
   },
   "source": [
    "The code above defines the row labels in a Sudoku puzzle  in a variable `rows`. Write a `for`-loop that prints out the row labels in a Sudoku puzzle, one to a line."
   ]
  },
  {
   "cell_type": "code",
   "execution_count": null,
   "metadata": {
    "colab": {},
    "colab_type": "code",
    "id": "kSzv_EQyxAIj"
   },
   "outputs": [],
   "source": [
    "[your code here]"
   ]
  },
  {
   "cell_type": "markdown",
   "metadata": {
    "colab_type": "text",
    "id": "q6nD1YgCxAIm"
   },
   "source": [
    "The code above defines the columns labels in a Sudoku puzzle  in a variable `cols`. Write a `for`-loop that prints out the column labels in a Sudoku puzzle."
   ]
  },
  {
   "cell_type": "code",
   "execution_count": null,
   "metadata": {
    "colab": {},
    "colab_type": "code",
    "id": "LkciZqAqxAIm"
   },
   "outputs": [],
   "source": [
    "[your code here]"
   ]
  },
  {
   "cell_type": "markdown",
   "metadata": {
    "colab_type": "text",
    "id": "eL6G1TtjxAIo"
   },
   "source": [
    "The code above defines the squares in a Sudoku puzzle  in a variable `squares`. Write a `for`-loop that prints out the squares in a Sudoku puzzle, one to a line."
   ]
  },
  {
   "cell_type": "code",
   "execution_count": null,
   "metadata": {
    "colab": {},
    "colab_type": "code",
    "id": "xAjr6G7SxAIp"
   },
   "outputs": [],
   "source": [
    "[your code here]"
   ]
  },
  {
   "cell_type": "markdown",
   "metadata": {
    "colab_type": "text",
    "id": "R9p_Z827xAIq"
   },
   "source": [
    "We can also treat the sequence of square names like a puzzle abd display that, if we want to remind ourselves what names go with what squares."
   ]
  },
  {
   "cell_type": "code",
   "execution_count": null,
   "metadata": {
    "colab": {},
    "colab_type": "code",
    "id": "6S7cDwLrxAIr",
    "outputId": "2568f1e1-f1cb-4af0-b6e7-4fa29a5b7462"
   },
   "outputs": [
    {
     "name": "stdout",
     "output_type": "stream",
     "text": [
      " A1 A2 A3| A4 A5 A6| A7 A8 A9\n",
      " B1 B2 B3| B4 B5 B6| B7 B8 B9\n",
      " C1 C2 C3| C4 C5 C6| C7 C8 C9\n",
      "---------+---------+---------\n",
      " D1 D2 D3| D4 D5 D6| D7 D8 D9\n",
      " E1 E2 E3| E4 E5 E6| E7 E8 E9\n",
      " F1 F2 F3| F4 F5 F6| F7 F8 F9\n",
      "---------+---------+---------\n",
      " G1 G2 G3| G4 G5 G6| G7 G8 G9\n",
      " H1 H2 H3| H4 H5 H6| H7 H8 H9\n",
      " I1 I2 I3| I4 I5 I6| I7 I8 I9\n",
      "\n"
     ]
    }
   ],
   "source": [
    "display(simple_grid_values(squares))"
   ]
  },
  {
   "cell_type": "markdown",
   "metadata": {
    "colab_type": "text",
    "id": "I6WrqZfSxAIs"
   },
   "source": [
    "For `grid1`, we were given not just the grid but also its solution, so  we can display the two side by side."
   ]
  },
  {
   "cell_type": "code",
   "execution_count": null,
   "metadata": {
    "colab": {},
    "colab_type": "code",
    "id": "xYW2zvn9xAIs",
    "outputId": "d4daeeb2-2870-47dd-a8a1-3a01ef7b45c1"
   },
   "outputs": [
    {
     "name": "stdout",
     "output_type": "stream",
     "text": [
      ". . 3 |. 2 . |6 . . \n",
      "9 . . |3 . 5 |. . 1 \n",
      ". . 1 |8 . 6 |4 . . \n",
      "------+------+------\n",
      ". . 8 |1 . 2 |9 . . \n",
      "7 . . |. . . |. . 8 \n",
      ". . 6 |7 . 8 |2 . . \n",
      "------+------+------\n",
      ". . 2 |6 . 9 |5 . . \n",
      "8 . . |2 . 3 |. . 9 \n",
      ". . 5 |. 1 . |3 . . \n",
      "\n",
      "     ... => ...\n",
      "\n",
      "4 8 3 |9 2 1 |6 5 7 \n",
      "9 6 7 |3 4 5 |8 2 1 \n",
      "2 5 1 |8 7 6 |4 9 3 \n",
      "------+------+------\n",
      "5 4 8 |1 3 2 |9 7 6 \n",
      "7 2 9 |5 6 4 |1 3 8 \n",
      "1 3 6 |7 9 8 |2 4 5 \n",
      "------+------+------\n",
      "3 7 2 |6 8 9 |5 1 4 \n",
      "8 1 4 |2 5 3 |7 6 9 \n",
      "6 9 5 |4 1 7 |3 8 2 \n",
      "\n"
     ]
    }
   ],
   "source": [
    "display(grid_values(grid1))\n",
    "print('     ... => ...')\n",
    "print()\n",
    "display(grid_values(grid1_soln))"
   ]
  },
  {
   "cell_type": "code",
   "execution_count": null,
   "metadata": {
    "colab": {},
    "colab_type": "code",
    "id": "dOsmJXq6xAIt",
    "outputId": "7a011077-a51a-4f71-cc46-1a63e75d28cf"
   },
   "outputs": [
    {
     "name": "stdout",
     "output_type": "stream",
     "text": [
      " A1 A2 A3| A4 __ A6| A7 A8 A9\n",
      " B1 B2 B3| B4 __ B6| B7 B8 B9\n",
      " C1 C2 C3| C4 __ C6| C7 C8 C9\n",
      "---------+---------+---------\n",
      " D1 D2 D3| D4 __ D6| D7 D8 D9\n",
      " E1 E2 E3| E4 __ E6| E7 E8 E9\n",
      " F1 F2 F3| F4 __ F6| F7 F8 F9\n",
      "---------+---------+---------\n",
      " __ __ __| __ G5 __| __ __ __\n",
      " H1 H2 H3| __ __ __| H7 H8 H9\n",
      " I1 I2 I3| __ __ __| I7 I8 I9\n",
      "\n"
     ]
    }
   ],
   "source": [
    "display(sgv)"
   ]
  },
  {
   "cell_type": "markdown",
   "metadata": {
    "colab_type": "text",
    "id": "l8wFG-W9xAIv"
   },
   "source": [
    "The peers of any cell are the squares which cannot have the same value as the cell.  The peers of `G5` are shown above.  There are 20 distinct peers.  The cells in row 'G', the cells in column '5' and the cells in the same box\n",
    "as 'G5'."
   ]
  },
  {
   "cell_type": "markdown",
   "metadata": {
    "colab_type": "text",
    "id": "-l0WkQgUxAIv"
   },
   "source": [
    "The `peers` dictionary has been defined so that the key is a square and the value is a complete list of the peers."
   ]
  },
  {
   "cell_type": "code",
   "execution_count": null,
   "metadata": {
    "colab": {},
    "colab_type": "code",
    "id": "DuMzt4-9xAIv",
    "outputId": "1428d64d-2f4d-48b3-a0d7-9b28b6ddbed6"
   },
   "outputs": [
    {
     "data": {
      "text/plain": [
       "{'A5',\n",
       " 'B5',\n",
       " 'C5',\n",
       " 'D5',\n",
       " 'E5',\n",
       " 'F5',\n",
       " 'G1',\n",
       " 'G2',\n",
       " 'G3',\n",
       " 'G4',\n",
       " 'G6',\n",
       " 'G7',\n",
       " 'G8',\n",
       " 'G9',\n",
       " 'H4',\n",
       " 'H5',\n",
       " 'H6',\n",
       " 'I4',\n",
       " 'I5',\n",
       " 'I6'}"
      ]
     },
     "execution_count": 8,
     "metadata": {
      "tags": []
     },
     "output_type": "execute_result"
    }
   ],
   "source": [
    "peers['G5']"
   ]
  },
  {
   "cell_type": "markdown",
   "metadata": {
    "colab_type": "text",
    "id": "fSZjbtIZxAIx"
   },
   "source": [
    "In the first code cell in this section, we defined a sudoku puzzle grid we called grid1. grid1 is a legal grid, as we can see by displaying it."
   ]
  },
  {
   "cell_type": "code",
   "execution_count": null,
   "metadata": {
    "colab": {},
    "colab_type": "code",
    "id": "FQJt2blQxAIx"
   },
   "outputs": [],
   "source": [
    "display(grid_values(grid1))"
   ]
  },
  {
   "cell_type": "markdown",
   "metadata": {
    "colab_type": "text",
    "id": "lcrizKRExAIz"
   },
   "source": [
    "Here are some more girds displayed."
   ]
  },
  {
   "cell_type": "code",
   "execution_count": null,
   "metadata": {
    "colab": {},
    "colab_type": "code",
    "id": "fAuqq30axAIz"
   },
   "outputs": [],
   "source": [
    "display(grid_values(grid3))"
   ]
  },
  {
   "cell_type": "code",
   "execution_count": null,
   "metadata": {
    "colab": {},
    "colab_type": "code",
    "id": "ws-oHw6GxAI1"
   },
   "outputs": [],
   "source": [
    "display(grid_values(grid4))"
   ]
  },
  {
   "cell_type": "markdown",
   "metadata": {
    "colab_type": "text",
    "id": "2zzQYI6yxAI2"
   },
   "source": [
    "If you look carefully at `grid5` you will see it differs from `grid1` in an important way."
   ]
  },
  {
   "cell_type": "code",
   "execution_count": null,
   "metadata": {
    "colab": {},
    "colab_type": "code",
    "id": "O4varlHYxAI2",
    "outputId": "948b9604-c530-42ae-fe52-1399af08c070"
   },
   "outputs": [
    {
     "name": "stdout",
     "output_type": "stream",
     "text": [
      ". . 3 |. 2 . |6 . . \n",
      "9 . . |3 . 5 |. 6 1 \n",
      ". . 1 |8 . 6 |4 . . \n",
      "------+------+------\n",
      ". . 8 |1 . 2 |9 . . \n",
      "7 . . |. . . |. . 8 \n",
      ". . 6 |7 . 8 |2 . . \n",
      "------+------+------\n",
      ". . 2 |6 . 9 |5 . . \n",
      "8 . . |2 . 3 |. . 9 \n",
      ". . 5 |. 1 . |3 . . \n",
      "\n"
     ]
    }
   ],
   "source": [
    "display(grid_values(grid5))"
   ]
  },
  {
   "cell_type": "markdown",
   "metadata": {
    "colab_type": "text",
    "id": "rV3KYrrCxAI3"
   },
   "source": [
    "The grid `grid5` is not a legal Sudoku grid.  Can you see the problem?  Now look at `grid2` and `grid3`.  Are they legal?   There are two cells in the same box with same value."
   ]
  },
  {
   "cell_type": "code",
   "execution_count": 21,
   "metadata": {
    "colab": {},
    "colab_type": "code",
    "id": "unx6y5V2xAI5",
    "outputId": "a16e20cb-ced8-4e1c-eadc-2f8796b93dba"
   },
   "outputs": [
    {
     "data": {
      "text/plain": [
       "'6'"
      ]
     },
     "execution_count": 21,
     "metadata": {},
     "output_type": "execute_result"
    }
   ],
   "source": [
    "grid_dict5 = grid_values(grid5)  #. Change the string `grid5` into a dictionary\n",
    "grid_dict5['A7']"
   ]
  },
  {
   "cell_type": "code",
   "execution_count": 19,
   "metadata": {
    "colab": {},
    "colab_type": "code",
    "id": "Xhz7XOB8xAI6",
    "outputId": "49fe7671-de5f-4d65-95c8-84b9e4d181ee"
   },
   "outputs": [
    {
     "data": {
      "text/plain": [
       "'6'"
      ]
     },
     "execution_count": 19,
     "metadata": {},
     "output_type": "execute_result"
    }
   ],
   "source": [
    "grid_dict5['B8']"
   ]
  },
  {
   "cell_type": "markdown",
   "metadata": {
    "colab_type": "text",
    "id": "aSHmyl_TxAJB"
   },
   "source": [
    "Your assignment is to write a function that will print out `Invalid` if the grid that is\n",
    "passed in as an argument is illegal and will print out `Valid` if the grid is legal.  It should work as follows:\n",
    "\n",
    "```\n",
    "def test(grid):\n",
    "     Your code goes here\n",
    "\n",
    "test(grid_values(grid1))\n",
    "test(grid_values(grid2))\n",
    "test(grid_values(grid3))\n",
    "test(grid_values(grid4))\n",
    "test(grid_values(grid5))\n",
    "```\n",
    "\n",
    "When you finish your code and execute the lines above, the following should print out:\n",
    "\n",
    "```\n",
    "   Valid!\n",
    "   Valid!\n",
    "   Invalid!\n",
    "   Invalid!\n",
    "   Invalid!\n",
    "```"
   ]
  },
  {
   "cell_type": "markdown",
   "metadata": {
    "colab_type": "text",
    "id": "KNOQQMfhxAJC"
   },
   "source": [
    "One thing to think about is what test you will use to find out that a square is valid/invalid. Another thing to think about is\n",
    "where in your code the two distinct `print` statements will go. You can't print 'Valid!' when you've seen one valid square.  You have to wait until all the squares have been proven valid.  Does it work exactly the same for 'Invalid!'? You can't print 'Invalid!'  when you've only seen one invalid square?"
   ]
  },
  {
   "cell_type": "markdown",
   "metadata": {
    "colab_type": "text",
    "id": "afD9Lg7LxAJC"
   },
   "source": [
    "**Warning One**.  The following bit of Python is not a test for invalidity:\n",
    "\n",
    "```\n",
    "'B8'  == 'A7'\n",
    "```\n",
    "\n",
    "Why not?"
   ]
  },
  {
   "cell_type": "markdown",
   "metadata": {
    "colab_type": "text",
    "id": "Oq-QtRfxxAJC"
   },
   "source": [
    "**Warning Two**.  Don't do\n",
    "\n",
    "```\n",
    "grid5[`B8`]  == grid5[`A7`]\n",
    "```"
   ]
  },
  {
   "cell_type": "markdown",
   "metadata": {},
   "source": [
    "We want:"
   ]
  },
  {
   "cell_type": "code",
   "execution_count": 20,
   "metadata": {},
   "outputs": [
    {
     "data": {
      "text/plain": [
       "True"
      ]
     },
     "execution_count": 20,
     "metadata": {},
     "output_type": "execute_result"
    }
   ],
   "source": [
    "grid_dict5 = grid_values(grid5)\n",
    "grid_dict5['B8']  == grid_dict5['A7']  #Dictionary rep provides easy lookup of grid values!"
   ]
  },
  {
   "cell_type": "code",
   "execution_count": null,
   "metadata": {
    "colab": {},
    "colab_type": "code",
    "id": "Ho_zbuEWxAJC"
   },
   "outputs": [],
   "source": []
  }
 ],
 "metadata": {
  "colab": {
   "name": "functions_nb.ipynb",
   "provenance": []
  },
  "kernelspec": {
   "display_name": "Python 3",
   "language": "python",
   "name": "python3"
  },
  "language_info": {
   "codemirror_mode": {
    "name": "ipython",
    "version": 3
   },
   "file_extension": ".py",
   "mimetype": "text/x-python",
   "name": "python",
   "nbconvert_exporter": "python",
   "pygments_lexer": "ipython3",
   "version": "3.7.6"
  },
  "toc": {
   "base_numbering": 1,
   "nav_menu": {
    "height": "294px",
    "width": "252px"
   },
   "number_sections": true,
   "sideBar": true,
   "skip_h1_title": false,
   "title_cell": "Table of Contents",
   "title_sidebar": "Contents",
   "toc_cell": false,
   "toc_position": {},
   "toc_section_display": "block",
   "toc_window_display": false
  }
 },
 "nbformat": 4,
 "nbformat_minor": 1
}
