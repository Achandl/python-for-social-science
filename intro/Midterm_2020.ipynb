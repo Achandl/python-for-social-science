{
 "cells": [
  {
   "cell_type": "markdown",
   "metadata": {},
   "source": [
    "# Midterm 2020"
   ]
  },
  {
   "cell_type": "code",
   "execution_count": 1,
   "metadata": {},
   "outputs": [],
   "source": [
    "lender_rates = {'Fannie Mae': .05, 'Bank of America': .065, 'Quicken Loans': .045}\n",
    "prime_interest_rate = .04\n",
    "amount_above_prime = [lender_rates[x] - prime_interest_rate for x in lender_rates.keys()]\n",
    "loan_amounts = [100000, 150000, 200000, 500000]\n",
    "interest_due = [x * prime_interest_rate for x in loan_amounts]\n",
    "prime_mortgages = [x <= 200000 and x > 100000 for x in loan_amounts]\n",
    "prime_mortgages2 = [x for x in loan_amounts if x <= 200000 and x > 100000]\n",
    "shoe_string = 'adidas_ultra_boost'"
   ]
  },
  {
   "cell_type": "code",
   "execution_count": 38,
   "metadata": {},
   "outputs": [],
   "source": [
    "lowercase_letters = 'abcdefghijklmnopqrstuvwxyz'\n",
    "uppercase_letters = lowercase_letters.upper()\n",
    "letters = lowercase_letters + uppercase_letters\n",
    "digits = '0123456789'\n",
    "address = '5500 Campanile Drive'\n",
    "missing_stuff = '5500  '\n",
    "vowels = 'aeiou'\n",
    "word = 'facetious'\n",
    "Y = [x for x in letters if x < 'd' or x > 'j']\n",
    "W = [x for x in letters if x == 'd' or x == 'j' or x < 'q']\n",
    "Z = [x > 'd' and x < 'j' for x in letters]\n",
    "R = [x for x in word if x in vowels]\n",
    "#. This is a dictionary comprehension.  Look at how it works\n",
    "vowel2index = {v:i for (i, v) in enumerate(vowels)}\n",
    "index2vowel = {v:k for (k,v) in vowel2index.items()}"
   ]
  },
  {
   "cell_type": "markdown",
   "metadata": {},
   "source": [
    "# Exercises"
   ]
  },
  {
   "cell_type": "markdown",
   "metadata": {},
   "source": [
    "# A\n",
    "\n",
    "Define a consonant to be any character in `letters` that is not in `vowels`.  Construct a single Python expression that returns a string consisting of the consonants in `word`.\n",
    "Note: you will not receive credit for simply writing an expression that **lists** the answer.  For example.\n",
    "\n",
    "```\n",
    "'fcts'\n",
    "```\n",
    "\n",
    "A full-credit solution must compute the answer using `vowels`, `letters` and `word`."
   ]
  },
  {
   "cell_type": "code",
   "execution_count": 22,
   "metadata": {},
   "outputs": [],
   "source": []
  },
  {
   "cell_type": "markdown",
   "metadata": {},
   "source": [
    "# B\n",
    "\n",
    "Determine what values of x the following test is true for:\n",
    "\n",
    "```\n",
    "vowels[x] == index2vowel[x]\n",
    "```\n",
    "\n",
    "Write a loop that contains the following expression in the body \n",
    "\n",
    "```\n",
    "print(x, vowels[x] == index2vowel[x])\n",
    "```\n",
    "\n",
    "and loops through all values of `x` for which it is `True`.  It should print `x`\n",
    "and `True` for each value of `x` that makes `vowels[x] == index2vowel[x]` `True`."
   ]
  },
  {
   "cell_type": "code",
   "execution_count": 9,
   "metadata": {},
   "outputs": [],
   "source": []
  },
  {
   "cell_type": "markdown",
   "metadata": {},
   "source": [
    " "
   ]
  },
  {
   "cell_type": "markdown",
   "metadata": {},
   "source": [
    "# C\n",
    "\n",
    "Write some code that returns a string consisting of the characters that are both in `digits` and in `address`.  "
   ]
  },
  {
   "cell_type": "code",
   "execution_count": null,
   "metadata": {},
   "outputs": [],
   "source": []
  },
  {
   "cell_type": "markdown",
   "metadata": {},
   "source": [
    "# D\n",
    "\n",
    "Write some code that returns a string consisting of the letters that are either in `uppercase_letters` or in `address`."
   ]
  },
  {
   "cell_type": "markdown",
   "metadata": {},
   "source": [
    "# E\n",
    "\n",
    "Write a function called `find_digits` that will take any string and return a **string** containing the digits  and spaces in that string.  For the digits use  `digits` (defined above)  After writing the function, apply it to `address` (as defined above).  The answer should be\n",
    "\n",
    "```\n",
    "'5500  '\n",
    "```\n",
    "\n",
    "Then apply the function to `address` again and test whether the function returns a value `==` to `missing_stuff`.  The result should be as follows:\n",
    "\n",
    "```\n",
    ">>> find_digits(address) == missing_stuff\n",
    "True\n",
    "```\n",
    "\n",
    "Then apply the function to `digits` and test whether the function returns a value `==` to `digits`.   Show that result to prove your function does the right thing.\n"
   ]
  },
  {
   "cell_type": "code",
   "execution_count": null,
   "metadata": {},
   "outputs": [],
   "source": []
  },
  {
   "cell_type": "markdown",
   "metadata": {},
   "source": [
    "# F\n",
    "\n",
    "Modify `find_digits` as defined in problem  **E** so that its argument is optional and it behaves as follows:\n",
    "\n",
    "```\n",
    ">>> find_digits() == find_digits('radish')\n",
    "True\n",
    ">>> find_digits() == find_digits('fumigate')\n",
    "True\n",
    "```\n",
    "\n",
    "Note:  All the previously discussed examples using `find_digits` should continue to behave as before.  Also, there are many answers to this problem.  Try to keep things simple."
   ]
  },
  {
   "cell_type": "code",
   "execution_count": null,
   "metadata": {},
   "outputs": [],
   "source": []
  },
  {
   "cell_type": "markdown",
   "metadata": {},
   "source": [
    "# F \n",
    "\n",
    "Now write a function `remove_char` that has two arguments, `inp` and `char`, an\n",
    "input string and a character; `remove_char` returns an exact copy of `inp`\n",
    "except that all instances of `char` have been removed.   If `char` does not\n",
    "occur in `inp`, it should return `inp` unchanged\n",
    "\n",
    "It should behave as follows:\n",
    "\n",
    "```\n",
    ">>> remove_char(vowels, 'a')\n",
    "'eiou'\n",
    ">>> remove_char(vowels, 'o')\n",
    "'aeiu'\n",
    ">>> remove_char(vowels, 'o') == 'aeio'\n",
    "True\n",
    ">>> remove_char('beep', 'a') == 'beep'\n",
    "True\n",
    ">>> remove_char('infinitive', 'q')\n",
    "'infinitive'\n",
    "```\n",
    "\n"
   ]
  },
  {
   "cell_type": "code",
   "execution_count": null,
   "metadata": {},
   "outputs": [],
   "source": []
  },
  {
   "cell_type": "markdown",
   "metadata": {},
   "source": [
    " "
   ]
  },
  {
   "cell_type": "markdown",
   "metadata": {},
   "source": [
    "# G\n",
    "\n",
    "Now **modify** `remove_char` from problem F so that it ignores\n",
    "case but does everything it did before.\n",
    "\n",
    "It should behave as follows:\n",
    "\n",
    "```\n",
    ">>> remove_char(vowels, 'A')\n",
    "'eiou'\n",
    ">>> remove_char('AEIOU', 'o')\n",
    "'AEIU'\n",
    ">>> remove_char('AeiOU', 'o')\n",
    "'AeiU'\n",
    ">>> remove_char(vowels, 'a')\n",
    "'eiou'\n",
    ">>> remove_char('AEIOU', 'O')\n",
    "'AEIU'\n",
    ">>> remove_char(vowels, 'o') == 'aeiu'\n",
    "True\n",
    ">>> remove_char('Mississippi', 'I')\n",
    "'Msssspp'\n",
    "```\n"
   ]
  },
  {
   "cell_type": "code",
   "execution_count": null,
   "metadata": {},
   "outputs": [],
   "source": []
  },
  {
   "cell_type": "markdown",
   "metadata": {},
   "source": [
    " "
   ]
  },
  {
   "cell_type": "markdown",
   "metadata": {},
   "source": [
    "# H\n",
    "\n",
    "Consider `vowel2index`.  It is a mapping from vowels to integers.  Write amn expression that returns the integer associated with `\"b\"` in `vowel2index`.  Note:  This question has a **very** simple answer.  It is about\n",
    "whether you understand what type of data structure `vowel2index` is, and how you use it."
   ]
  },
  {
   "cell_type": "markdown",
   "metadata": {},
   "source": [
    " "
   ]
  },
  {
   "cell_type": "markdown",
   "metadata": {
    "collapsed": true
   },
   "source": [
    "# I\n",
    "\n",
    "Write a simple one-line Python expression that operates on `vowels` and returns \n",
    "\n",
    "```\n",
    "'axexixoxu'\n",
    "```"
   ]
  },
  {
   "cell_type": "code",
   "execution_count": null,
   "metadata": {},
   "outputs": [],
   "source": [
    " "
   ]
  },
  {
   "cell_type": "markdown",
   "metadata": {},
   "source": [
    " "
   ]
  },
  {
   "cell_type": "markdown",
   "metadata": {},
   "source": [
    " "
   ]
  },
  {
   "cell_type": "markdown",
   "metadata": {
    "collapsed": true
   },
   "source": [
    "# J\n",
    "\n",
    "\n",
    "Write a Python expression which operates on `consonants` and returns the following value\n",
    "\n",
    "```\n",
    "'gh'\n",
    "```"
   ]
  },
  {
   "cell_type": "markdown",
   "metadata": {},
   "source": [
    " "
   ]
  },
  {
   "cell_type": "markdown",
   "metadata": {},
   "source": [
    " "
   ]
  },
  {
   "cell_type": "markdown",
   "metadata": {},
   "source": [
    "# K\n",
    "\n",
    "Write a Python expression which operates on `Z` and returns the following value\n",
    "\n",
    "```\n",
    "[False, False, False]\n",
    "```"
   ]
  },
  {
   "cell_type": "markdown",
   "metadata": {},
   "source": [
    "# L\n",
    "\n",
    "Write a Python expression which operates on `W` and returns the following value\n",
    "\n",
    "```\n",
    "['p','A']\n",
    "```"
   ]
  },
  {
   "cell_type": "markdown",
   "metadata": {},
   "source": [
    " "
   ]
  },
  {
   "cell_type": "markdown",
   "metadata": {},
   "source": [
    " "
   ]
  },
  {
   "cell_type": "markdown",
   "metadata": {},
   "source": [
    " "
   ]
  },
  {
   "cell_type": "markdown",
   "metadata": {},
   "source": [
    " "
   ]
  },
  {
   "cell_type": "markdown",
   "metadata": {},
   "source": [
    " "
   ]
  },
  {
   "cell_type": "markdown",
   "metadata": {},
   "source": [
    " "
   ]
  },
  {
   "cell_type": "markdown",
   "metadata": {},
   "source": [
    "##       Part Two"
   ]
  },
  {
   "cell_type": "markdown",
   "metadata": {},
   "source": [
    "Write functions that behave according to the descriptions given."
   ]
  },
  {
   "cell_type": "markdown",
   "metadata": {},
   "source": [
    "# 1\n",
    "\n",
    "Write a function (`tweeners`) that takes two lowercse letters as arguments and returns the\n",
    "string consisting of all the letters in the alphabet between them (in alphabetical order)\n",
    "\n",
    "```\n",
    ">>> tweeners('a','c')\n",
    "'b'\n",
    ">>> tweeners('m',  'r')\n",
    "'nopq'\n",
    ">>> tweeners('m',  'n')\n",
    "''\n",
    "```\n",
    "\n",
    "If the letters passed in are not in alphabetical order, `tweeners` should return the empty string:\n",
    "\n",
    "```\n",
    ">>> tweeners('c',  'a')\n",
    "''\n",
    "```\n",
    "\n",
    "Hint:  This has a really simply answer.  Think list comprehension.  Think filtering."
   ]
  },
  {
   "cell_type": "markdown",
   "metadata": {},
   "source": [
    "# 2\n",
    "\n",
    "Write a function called `nonoverlap`\n",
    "which takes four letters as arguments.   Call them `first`, `second`,`third`\n",
    "and `fourth`; `nonoverlap` should first find the string consisting of all the \n",
    "letters in the alphabet between them `first` and `second`.  Call those letters `fs`,\n",
    "\n",
    "It should call the function `tweeners` (defined in the last problem)\n",
    "to do this.  Note: **No credit for a solution that ignores this instruction**.   \n",
    "\n",
    "The function `nonoverlap` should\n",
    "also call `tweeners` on `third` and `fourth`.   Call the result of that\n",
    "`tf`; `nonoverlap` should then return a string consisting of the letters which are \n",
    "are in either `fs` or `tf` but are not in both.\n",
    "It doesn't matter what order they're in.\n",
    "\n",
    "Some examples\n",
    "\n",
    "```\n",
    ">>> print(tweeners('a','e'))\n",
    "bcd\n",
    ">>> print(tweeners('c','g'))\n",
    "def\n",
    ">>> print(nonoverlap('a','e','m','r'))\n",
    "bcdnopq\n",
    ">>> print(nonoverlap('a','e','c','g'))\n",
    "bcef\n",
    ">>> print(nonoverlap('c','g','a','e'))\n",
    "bcef\n",
    ">>> print(nonoverlap('e','a','c','g'))\n",
    "def\n",
    "```\n",
    "\n",
    "Finally,  the last two arguments of `nonoverlap` should be\n",
    "optional. \n",
    "\n",
    "```\n",
    ">>> nonoverlap('e','a')\n",
    "''\n",
    ">>> nonoverlap('e','a','c')\n",
    "''\n",
    "```"
   ]
  },
  {
   "cell_type": "markdown",
   "metadata": {},
   "source": [
    " "
   ]
  },
  {
   "cell_type": "markdown",
   "metadata": {},
   "source": [
    " "
   ]
  },
  {
   "cell_type": "markdown",
   "metadata": {},
   "source": [
    "## Part 4"
   ]
  },
  {
   "cell_type": "code",
   "execution_count": 41,
   "metadata": {},
   "outputs": [],
   "source": [
    "employees = ['happy', 'sleepy', 'dopey', 'bashful', 'grumpy', 'doc', 'sneezy']\n",
    "employeeEmail = {'happy': ['sleepy','dopey'], 'dopey':['dopey'],'doc': employees,\n",
    "                 'sleepy': ['bashful','doc', 'happy'],'grumpy':[],\n",
    "                 'bashful': ['dopey']}\n",
    "#employeeEmail[1] = ['norman']\n",
    "secret_word = 'utilitarian'\n",
    "flip = {'0':'1', '1':'0'}\n",
    "bit_string = '001110'\n",
    "flipped = [flip[x] for x in bit_string]"
   ]
  },
  {
   "cell_type": "markdown",
   "metadata": {},
   "source": [
    "# 1\n",
    "\n",
    "Write an expression which operates on `employees` and returns\n",
    "\n",
    "```\n",
    "['doc', 'sneezy']\n",
    "```"
   ]
  },
  {
   "cell_type": "markdown",
   "metadata": {},
   "source": [
    "# 2\n",
    "\n",
    "Write an expression which operates on `employees` and returns\n",
    "\n",
    "```\n",
    "'pp'\n",
    "```"
   ]
  },
  {
   "cell_type": "markdown",
   "metadata": {},
   "source": [
    "# 3\n",
    "\n",
    "Write an expression which operates on `employeeEmail` and returns\n",
    "\n",
    "```\n",
    "\"shf\"\n",
    "```"
   ]
  },
  {
   "cell_type": "markdown",
   "metadata": {},
   "source": [
    "# 4\n",
    "\n",
    "Write an expression which operates on `secret_word` and returns\n",
    "\n",
    "```\n",
    "'uiiain'\n",
    "```"
   ]
  },
  {
   "cell_type": "markdown",
   "metadata": {},
   "source": [
    "Part 5"
   ]
  },
  {
   "cell_type": "code",
   "execution_count": 44,
   "metadata": {},
   "outputs": [],
   "source": [
    "import numpy as np\n",
    "x = np.array([5,13,23,47,9])\n",
    "y = np.ones((5,))\n",
    "w = np.ones((2,5))\n",
    "z = w + x"
   ]
  },
  {
   "cell_type": "markdown",
   "metadata": {},
   "source": [
    "# a\n",
    "\n",
    "Write out an expression which return the shape of `z`,"
   ]
  },
  {
   "cell_type": "code",
   "execution_count": null,
   "metadata": {},
   "outputs": [],
   "source": []
  },
  {
   "cell_type": "markdown",
   "metadata": {},
   "source": [
    "# b\n",
    "\n",
    "Write out an expression which operates on `z` and returns\n",
    "\n",
    "```\n",
    "array([ 6., 14., 24., 48., 10.])\n",
    "```"
   ]
  },
  {
   "cell_type": "code",
   "execution_count": null,
   "metadata": {},
   "outputs": [],
   "source": []
  },
  {
   "cell_type": "markdown",
   "metadata": {},
   "source": [
    "# c\n",
    "\n",
    "Write out an expression that returns an array containing the elementwise sum of the elements in `w` and `z`."
   ]
  },
  {
   "cell_type": "code",
   "execution_count": null,
   "metadata": {},
   "outputs": [],
   "source": []
  },
  {
   "cell_type": "markdown",
   "metadata": {},
   "source": [
    "# d\n",
    "\n",
    "Consider:"
   ]
  },
  {
   "cell_type": "code",
   "execution_count": 47,
   "metadata": {},
   "outputs": [],
   "source": [
    "x + z"
   ]
  },
  {
   "cell_type": "markdown",
   "metadata": {},
   "source": [
    "Explain why you get the result that you get for `x + z`. "
   ]
  },
  {
   "cell_type": "markdown",
   "metadata": {},
   "source": []
  },
  {
   "cell_type": "markdown",
   "metadata": {},
   "source": [
    "# e\n",
    "\n",
    "Note the following:"
   ]
  },
  {
   "cell_type": "code",
   "execution_count": 48,
   "metadata": {
    "scrolled": true
   },
   "outputs": [
    {
     "data": {
      "text/plain": [
       "array([ True,  True, False, False,  True])"
      ]
     },
     "execution_count": 48,
     "metadata": {},
     "output_type": "execute_result"
    }
   ],
   "source": [
    "x < 20"
   ]
  },
  {
   "cell_type": "markdown",
   "metadata": {},
   "source": [
    "The result above is called a **Boolean array** because it only contains instances of the\n",
    "type `bool` (`True` and `False`). Such Boolean arrays can be used to index arrays (basically\n",
    "if they are of the same length).  Using a Boolean array this way is called using a **Boolean mask**."
   ]
  },
  {
   "cell_type": "markdown",
   "metadata": {},
   "source": [
    "# e (ctd.)\n",
    "\n",
    "Using a Boolean mask, write an expression that returns an array containing the **members** of `x` that are less than `20`."
   ]
  },
  {
   "cell_type": "markdown",
   "metadata": {},
   "source": [
    "# f\n",
    "\n",
    "Now consider"
   ]
  },
  {
   "cell_type": "code",
   "execution_count": 49,
   "metadata": {},
   "outputs": [
    {
     "data": {
      "text/plain": [
       "array([[1, 2],\n",
       "       [2, 1],\n",
       "       [5, 5],\n",
       "       [9, 4]])"
      ]
     },
     "execution_count": 49,
     "metadata": {},
     "output_type": "execute_result"
    }
   ],
   "source": [
    "two_d_array = np.array([[1,2],[2,1],[5,5],[9,4]])\n",
    "two_d_array"
   ]
  },
  {
   "cell_type": "markdown",
   "metadata": {},
   "source": [
    "Write an expression that returns the third row of `two_d_array`."
   ]
  },
  {
   "cell_type": "code",
   "execution_count": null,
   "metadata": {},
   "outputs": [],
   "source": []
  },
  {
   "cell_type": "markdown",
   "metadata": {},
   "source": [
    "Write an expression that returns `two_d_array` omitting the first column."
   ]
  },
  {
   "cell_type": "code",
   "execution_count": null,
   "metadata": {},
   "outputs": [],
   "source": [
    " "
   ]
  },
  {
   "cell_type": "markdown",
   "metadata": {},
   "source": [
    "Write an expression that returns the following subarray of `two_d_array`.\n",
    "\n",
    "```\n",
    "array([[2, 1],\n",
    "       [5, 5]])\n",
    "```"
   ]
  },
  {
   "cell_type": "code",
   "execution_count": null,
   "metadata": {},
   "outputs": [],
   "source": []
  }
 ],
 "metadata": {
  "kernelspec": {
   "display_name": "Python 3",
   "language": "python",
   "name": "python3"
  },
  "language_info": {
   "codemirror_mode": {
    "name": "ipython",
    "version": 3
   },
   "file_extension": ".py",
   "mimetype": "text/x-python",
   "name": "python",
   "nbconvert_exporter": "python",
   "pygments_lexer": "ipython3",
   "version": "3.8.5"
  },
  "toc": {
   "base_numbering": 1,
   "nav_menu": {
    "height": "103px",
    "width": "252px"
   },
   "number_sections": true,
   "sideBar": true,
   "skip_h1_title": false,
   "title_cell": "Table of Contents",
   "title_sidebar": "Contents",
   "toc_cell": false,
   "toc_position": {},
   "toc_section_display": "block",
   "toc_window_display": false
  }
 },
 "nbformat": 4,
 "nbformat_minor": 1
}
