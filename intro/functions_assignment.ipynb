{
 "cells": [
  {
   "cell_type": "markdown",
   "metadata": {},
   "source": [
    "# Functions, types, loops assignment"
   ]
  },
  {
   "cell_type": "markdown",
   "metadata": {},
   "source": [
    "## Exercise 1"
   ]
  },
  {
   "cell_type": "markdown",
   "metadata": {},
   "source": [
    "Add a line of code that will generate the give output::\n",
    " \n",
    "     In [ ]: a_list = [2,7,8, 19]\n",
    "             YOUR CODE HERE\n",
    "     Out [ ]: 2\n",
    "     \n",
    "NOTE: The idea of this kind of exercise is to write a line of code\n",
    "that will produce the given output, 2 in this case.  Your\n",
    "answer goes in the next cell, which is a code cell.  It should this be an\n",
    "expression that operates on `a_list`.  A simple correct answer is:\n",
    "\n",
    "     In [ ]: a_list = [2,7,8, 19]\n",
    "             a_list[0]\n",
    "     Out [ ]: 2\n",
    "     \n",
    "Don't forget to evaluate the cell after you've written in your answer to generate Python's output and check your answer!\n"
   ]
  },
  {
   "cell_type": "code",
   "execution_count": 1,
   "metadata": {},
   "outputs": [
    {
     "data": {
      "text/plain": [
       "2"
      ]
     },
     "execution_count": 1,
     "metadata": {},
     "output_type": "execute_result"
    }
   ],
   "source": [
    "a_list = [2,7,8, 19]\n",
    "a_list[0]"
   ]
  },
  {
   "cell_type": "markdown",
   "metadata": {},
   "source": [
    "## Exercise 2"
   ]
  },
  {
   "cell_type": "markdown",
   "metadata": {},
   "source": [
    "  Write a line of code that produces the given output::\n",
    "   \n",
    "    In [ ]: a_list = [2,7,8, 19]\n",
    "             YOUR CODE HERE\n",
    "    Out [ ]: 19"
   ]
  },
  {
   "cell_type": "code",
   "execution_count": 1,
   "metadata": {},
   "outputs": [
    {
     "data": {
      "text/plain": [
       "19"
      ]
     },
     "execution_count": 1,
     "metadata": {},
     "output_type": "execute_result"
    }
   ],
   "source": [
    "a_list = [2,7,8, 19]"
   ]
  },
  {
   "cell_type": "markdown",
   "metadata": {},
   "source": [
    "## Exercise 3"
   ]
  },
  {
   "cell_type": "markdown",
   "metadata": {},
   "source": [
    " Write a line of code that produces the given output: \n",
    "   \n",
    "     In [ ]: a_list = [2,7,8, 19]\n",
    "           YOUR CODE HERE\n",
    "     Out [ ]: [7,8]\n"
   ]
  },
  {
   "cell_type": "code",
   "execution_count": 2,
   "metadata": {},
   "outputs": [
    {
     "data": {
      "text/plain": [
       "[7, 8]"
      ]
     },
     "execution_count": 2,
     "metadata": {},
     "output_type": "execute_result"
    }
   ],
   "source": [
    "a_list = [2,7,8, 19]"
   ]
  },
  {
   "cell_type": "markdown",
   "metadata": {},
   "source": [
    "## Exercise 4"
   ]
  },
  {
   "cell_type": "markdown",
   "metadata": {},
   "source": [
    " Write a line of code that produces the given output: \n",
    "   \n",
    "     In [ ]: a_list = [2,7,8, 19]\n",
    "           YOUR CODE HERE\n",
    "     Out [ ]: [3,8,9,20]\n",
    "    \n",
    "Hint: Try a list comprehension."
   ]
  },
  {
   "cell_type": "code",
   "execution_count": 3,
   "metadata": {},
   "outputs": [
    {
     "ename": "TypeError",
     "evalue": "can only concatenate list (not \"int\") to list",
     "output_type": "error",
     "traceback": [
      "\u001b[0;31m---------------------------------------------------------------------------\u001b[0m",
      "\u001b[0;31mTypeError\u001b[0m                                 Traceback (most recent call last)",
      "\u001b[0;32m<ipython-input-3-2b884736fb5a>\u001b[0m in \u001b[0;36m<module>\u001b[0;34m()\u001b[0m\n\u001b[1;32m      1\u001b[0m \u001b[0ma_list\u001b[0m \u001b[0;34m=\u001b[0m \u001b[0;34m[\u001b[0m\u001b[0;36m2\u001b[0m\u001b[0;34m,\u001b[0m\u001b[0;36m7\u001b[0m\u001b[0;34m,\u001b[0m\u001b[0;36m8\u001b[0m\u001b[0;34m,\u001b[0m \u001b[0;36m19\u001b[0m\u001b[0;34m]\u001b[0m\u001b[0;34m\u001b[0m\u001b[0m\n\u001b[0;32m----> 2\u001b[0;31m \u001b[0ma_list\u001b[0m \u001b[0;34m+\u001b[0m \u001b[0;36m1\u001b[0m\u001b[0;34m\u001b[0m\u001b[0m\n\u001b[0m",
      "\u001b[0;31mTypeError\u001b[0m: can only concatenate list (not \"int\") to list"
     ]
    }
   ],
   "source": [
    "a_list = [2,7,8, 19]"
   ]
  },
  {
   "cell_type": "code",
   "execution_count": 4,
   "metadata": {},
   "outputs": [
    {
     "data": {
      "text/plain": [
       "[3, 8, 9, 20]"
      ]
     },
     "execution_count": 4,
     "metadata": {},
     "output_type": "execute_result"
    }
   ],
   "source": [
    "result = []\n",
    "# Loop code here\n",
    "result"
   ]
  },
  {
   "cell_type": "markdown",
   "metadata": {},
   "source": [
    "## Exercise 4A"
   ]
  },
  {
   "cell_type": "markdown",
   "metadata": {},
   "source": [
    "Write a Boolean test that will return True when applied to X (note there are many answers):"
   ]
  },
  {
   "cell_type": "code",
   "execution_count": 8,
   "metadata": {},
   "outputs": [],
   "source": [
    "X = 7\n",
    "# YOUR CODE GOES UNDER HERE\n"
   ]
  },
  {
   "cell_type": "code",
   "execution_count": 13,
   "metadata": {},
   "outputs": [
    {
     "data": {
      "text/plain": [
       "False"
      ]
     },
     "execution_count": 13,
     "metadata": {},
     "output_type": "execute_result"
    }
   ],
   "source": [
    "X in [6,8]"
   ]
  },
  {
   "cell_type": "markdown",
   "metadata": {},
   "source": [
    "## Exercise 4B"
   ]
  },
  {
   "cell_type": "markdown",
   "metadata": {},
   "source": [
    "Write an `if-else` clause (4 lines of code) that will print \"Branch 1\" for the first value of X; then test it again on the second value of X and have it print \"branch2\" for the second value of X::\n",
    "    \n",
    "    In [ ]:  X = 7\n",
    "             YOUR IF-CLAUSE GOES HERE\n",
    "             X = 8\n",
    "             PUT THE SAME IF_CLAUSE HERE TOO\n",
    "    Out [ ]: Branch 1\n",
    "             Branch 2"
   ]
  },
  {
   "cell_type": "code",
   "execution_count": 14,
   "metadata": {},
   "outputs": [
    {
     "name": "stdout",
     "output_type": "stream",
     "text": [
      "Branch 1\n",
      "Branch 2\n"
     ]
    }
   ],
   "source": [
    "X = 7\n",
    "# Your test goes here, prints \"Branch 1\"\n",
    "X = 8\n",
    "# Same test goes here, prints \"Branch 2\""
   ]
  },
  {
   "cell_type": "markdown",
   "metadata": {},
   "source": [
    "## Exercise 5"
   ]
  },
  {
   "cell_type": "markdown",
   "metadata": {},
   "source": [
    " Write a line of code that operates on `a_list` and produces the given output: \n",
    "   \n",
    "     In [ ]: a_list = [2,7,8, 19]\n",
    "           YOUR CODE HERE\n",
    "     Out [ ]: [True, True, False, False]\n",
    "  \n",
    " [Hint:  Try a list comprehension that collects\n",
    "  a list of the results of a Boolean test]\n"
   ]
  },
  {
   "cell_type": "code",
   "execution_count": 15,
   "metadata": {},
   "outputs": [
    {
     "data": {
      "text/plain": [
       "[True, True, False, False]"
      ]
     },
     "execution_count": 15,
     "metadata": {},
     "output_type": "execute_result"
    }
   ],
   "source": [
    "a_list = [2,7,8, 19]\n",
    "result = []\n",
    "for x in a_list:\n",
    "   # Code here replacing pass\n",
    "   pass\n",
    "result        "
   ]
  },
  {
   "cell_type": "markdown",
   "metadata": {},
   "source": [
    "List comprehension version"
   ]
  },
  {
   "cell_type": "code",
   "execution_count": 16,
   "metadata": {},
   "outputs": [
    {
     "data": {
      "text/plain": [
       "[True, True, False, False]"
      ]
     },
     "execution_count": 16,
     "metadata": {},
     "output_type": "execute_result"
    }
   ],
   "source": [
    "result = [  ]\n",
    "result"
   ]
  },
  {
   "cell_type": "markdown",
   "metadata": {},
   "source": [
    "## Exercise 6"
   ]
  },
  {
   "cell_type": "markdown",
   "metadata": {},
   "source": [
    "Write a `for` loop that collects all the words\n",
    "in the list `test_list` that are three letters long and places them\n",
    "in a list named `result`.\n",
    "\n",
    "For example, if `test_list` is the list below, the value of `result` should be the list given in the `Out` cell below.  Hint:  Loop through the contents of `test_list`.  Inside the loop, you should use `append` and `len` and an `if`-clause::\n",
    "\n",
    "    In [ ]: test_list = ['the', 'be', 'of', 'and', 'a', 'in', 'to', 'have', 'it', \n",
    "                         'to', 'for', 'I', 'that', 'you', 'he', 'on', 'with', 'do', \n",
    "                         'at', 'by', 'not', 'this', 'but', 'from', 'they', 'his']\n",
    "            result = []\n",
    "            YOUR CODE GOES HERE.  IT APPENDS THE RIGHT WORDS TO result.\n",
    "            result\n",
    "     Out [ ]: ['the', 'and', 'for', 'you', 'not', 'but', 'his']\n",
    "                         \n",
    "\n",
    "\n",
    "Note:  This can also be done as a list comprehension, and you are welcome to do it that way."
   ]
  },
  {
   "cell_type": "code",
   "execution_count": 18,
   "metadata": {},
   "outputs": [
    {
     "data": {
      "text/plain": [
       "['the', 'and', 'for', 'you', 'not', 'but', 'his']"
      ]
     },
     "execution_count": 18,
     "metadata": {},
     "output_type": "execute_result"
    }
   ],
   "source": [
    "test_list = ['the', 'be', 'of', 'and', 'a', 'in', 'to', 'have', 'it', \n",
    "                     'to', 'for', 'I', 'that', 'you', 'he', 'on', 'with', 'do', \n",
    "                     'at', 'by', 'not', 'this', 'but', 'from', 'they', 'his']\n",
    "result = [] \n",
    "# YOUR LOOP CODE GOES UNDER HERE Replacing continue\n",
    "for x in test_list:\n",
    "    continue\n",
    "result"
   ]
  },
  {
   "cell_type": "markdown",
   "metadata": {},
   "source": [
    "List  comprehension version"
   ]
  },
  {
   "cell_type": "code",
   "execution_count": 1,
   "metadata": {},
   "outputs": [
    {
     "data": {
      "text/plain": [
       "[]"
      ]
     },
     "execution_count": 1,
     "metadata": {},
     "output_type": "execute_result"
    }
   ],
   "source": [
    "result = []\n",
    "result"
   ]
  },
  {
   "cell_type": "markdown",
   "metadata": {},
   "source": [
    "## Exercise 7"
   ]
  },
  {
   "cell_type": "markdown",
   "metadata": {},
   "source": [
    "Now, using the same `test_list`\n",
    "as in exercise 6, write a `for` loop that **counts**\n",
    "the number of words that are three letters long in `test_list`\n",
    "and  places the result in a variable named `three_let_word_freq`.\n",
    "You can do this by just taking the length\n",
    "of the list you computed in exercise 7, but try to complete\n",
    "this exercise without building that list.  Write a loop that iterates through the words in `test_list`.  The loop should start with `three_let_word_freq`\n",
    "set to 0 and increment its value by one each time a three-letter\n",
    "word is seen.  The value of the variable upon exiting the loop should be `7`.\n"
   ]
  },
  {
   "cell_type": "code",
   "execution_count": 37,
   "metadata": {},
   "outputs": [
    {
     "data": {
      "text/plain": [
       "7"
      ]
     },
     "execution_count": 37,
     "metadata": {},
     "output_type": "execute_result"
    }
   ],
   "source": [
    "test_list = ['the', 'be', 'of', 'and', 'a', 'in', 'to', 'have', 'it', \n",
    "                     'to', 'for', 'I', 'that', 'you', 'he', 'on', 'with', 'do', \n",
    "                     'at', 'by', 'not', 'this', 'but', 'from', 'they', 'his']\n",
    "three_let_word_freq = 0\n",
    "#for loop goes here. Go through list.  test each element.\n",
    "#Each time you find a three letter word, add 1 to the value of three_let_word_freq\n",
    "#After exiting the looping the value of three_let_word_freq tells you the number\n",
    "# of three letter words in the list.\n",
    "# Your code here.\n",
    "for x in test_list:\n",
    "    # Code here replacing continue\n",
    "    continue\n",
    "three_let_word_freq"
   ]
  },
  {
   "cell_type": "markdown",
   "metadata": {},
   "source": [
    "## Exercise 8"
   ]
  },
  {
   "cell_type": "markdown",
   "metadata": {},
   "source": [
    "Write a `for`-loop (or possibly two `for`-loops) that find the item which occurs\n",
    "most frequently in a list of items. You can use the following list\n",
    "as an example::\n",
    "\n",
    "   L = ['1', '4', '1', '5', '9', '2', '6', '5', '3', '5', \n",
    "        '8', '9', '7', '9', '3', '1', '1', '6']\n",
    "        \n",
    "You will need a dictionary and it will be most convenient \n",
    "to use a Counter. This will be a 2-step\n",
    "process."
   ]
  },
  {
   "cell_type": "code",
   "execution_count": 43,
   "metadata": {},
   "outputs": [
    {
     "data": {
      "text/plain": [
       "('1', 4)"
      ]
     },
     "execution_count": 43,
     "metadata": {},
     "output_type": "execute_result"
    }
   ],
   "source": [
    "from collections import Counter\n",
    "L = ['1', '4', '1', '5', '9', '2', '6', '5', '3', '5', \n",
    "        '8', '9', '7', '9', '3', '1', '1', '6']\n",
    "counts = Counter()\n",
    "# Loop through the list\n",
    "# The counter starts out with the count of anything implicitly set to 0.\n",
    "# As you loop, add one to the count of each item you find.\n",
    "# Exit the loop.  You now have the counts of all items in `L`.\n",
    "\n",
    "highest_count = 0\n",
    "most_frequest_item = None\n",
    "for x in L:\n",
    "    # Code here replacing continue\n",
    "    continue\n",
    "(most_frequent_item, highest_count)"
   ]
  },
  {
   "cell_type": "code",
   "execution_count": 42,
   "metadata": {},
   "outputs": [
    {
     "data": {
      "text/plain": [
       "4"
      ]
     },
     "execution_count": 42,
     "metadata": {},
     "output_type": "execute_result"
    }
   ],
   "source": [
    "counts['1']"
   ]
  },
  {
   "cell_type": "markdown",
   "metadata": {},
   "source": [
    "Now loop through the `counts` dictionary using\n",
    "\n",
    "```\n",
    "for (item,ct) in counts.items()\n",
    "```\n",
    "\n",
    "Read about the `items()` method in dictionaries in\n",
    "[the online text.](https://gawron.sdsu.edu/python_for_ss/course_core/book_draft/Python_introduction/dictionaries.html#dictionary-operators-and-methods)\n",
    "\n",
    "In the loop, whenever `ct` is higher \n",
    "than the highest count you've seen, update both\n",
    "`highest_count` and `most_frequent_item`."
   ]
  },
  {
   "cell_type": "markdown",
   "metadata": {},
   "source": [
    "There is another simpler way to solve the problem we just solved, which is not quite as\n",
    "useful as a programming exercise.\n",
    "\n",
    "It will be helpful to review our discussion of Counters in the book draft section on dictionaries.\n",
    "It will also be helpful to read the [Python docs](http://docs.python.org/2/library/collections.html)  to find a convenient method that finds the element in a counter with the highest count."
   ]
  },
  {
   "cell_type": "code",
   "execution_count": 8,
   "metadata": {},
   "outputs": [],
   "source": [
    "from collections import Counter\n",
    "L = ['1', '4', '1', '5', '9', '2', '6', '5', '3', '5', \n",
    "        '8', '9', '7', '9', '3', '1', '1', '6']\n",
    "x = Counter(L)"
   ]
  },
  {
   "cell_type": "code",
   "execution_count": 13,
   "metadata": {},
   "outputs": [
    {
     "data": {
      "text/plain": [
       "[('1', 4)]"
      ]
     },
     "execution_count": 13,
     "metadata": {},
     "output_type": "execute_result"
    }
   ],
   "source": [
    "counts.most_common(1)"
   ]
  },
  {
   "cell_type": "markdown",
   "metadata": {},
   "source": [
    "## Exercise 9"
   ]
  },
  {
   "cell_type": "markdown",
   "metadata": {},
   "source": [
    "Write a function that adds 1 to any number.  Here is how it should  work::\n",
    "\n",
    "    In [ ]: x = add1(2)\n",
    "           x\n",
    "    Out [ ]: 3\n",
    "\n",
    "Hint:  If you're having trouble getting this behavior, maybe you forgot\n",
    "about `return`?"
   ]
  },
  {
   "cell_type": "code",
   "execution_count": 49,
   "metadata": {},
   "outputs": [],
   "source": [
    "def add1 (x):\n",
    "    #[your code goes here]\n",
    "    return x + 1"
   ]
  },
  {
   "cell_type": "code",
   "execution_count": 50,
   "metadata": {},
   "outputs": [],
   "source": [
    "y=add1(4)"
   ]
  },
  {
   "cell_type": "code",
   "execution_count": 51,
   "metadata": {},
   "outputs": [
    {
     "data": {
      "text/plain": [
       "5"
      ]
     },
     "execution_count": 51,
     "metadata": {},
     "output_type": "execute_result"
    }
   ],
   "source": [
    "y"
   ]
  },
  {
   "cell_type": "markdown",
   "metadata": {},
   "source": [
    "## Exercise 10"
   ]
  },
  {
   "cell_type": "markdown",
   "metadata": {},
   "source": [
    "Write a function that converts temperatures (as\n",
    "numbers) from Fahrenheit to Celsius scale.  Here is\n",
    "how it should work:\n",
    "\n",
    "```\n",
    "    In [ ]:  fahrenheit_to_celsius(212)\n",
    "    Out [ ]: 100\n",
    "    In [ ]: fahrenheit_to_celsius(-40)\n",
    "    Out [ ]: -40.0\n",
    "    In [ ]:  fahrenheit_to_celsius(32)\n",
    "    Out [ ]: 0\n",
    "```\n",
    "\n",
    " If you want to create new cells to demonstrate all the examples, you can create\n",
    " a new cell by holding down the `[Control]` key while pressing `M` and then typing `b`.\n"
   ]
  },
  {
   "cell_type": "code",
   "execution_count": 52,
   "metadata": {},
   "outputs": [
    {
     "data": {
      "text/plain": [
       "100.0"
      ]
     },
     "execution_count": 52,
     "metadata": {},
     "output_type": "execute_result"
    }
   ],
   "source": [
    "#(F - 32)/1.8\n",
    "x = 212\n",
    "(x - 32)/1.8"
   ]
  },
  {
   "cell_type": "code",
   "execution_count": 53,
   "metadata": {},
   "outputs": [],
   "source": [
    "def fahrenheit_to_celsius(f):\n",
    "    return (f - 32)/1.8\n",
    "    #return [your answer goes here]"
   ]
  },
  {
   "cell_type": "markdown",
   "metadata": {},
   "source": [
    "An examples of how a correctly written function should behave follows.  The value of `T` should be -40."
   ]
  },
  {
   "cell_type": "code",
   "execution_count": 57,
   "metadata": {},
   "outputs": [
    {
     "data": {
      "text/plain": [
       "8.333333333333334"
      ]
     },
     "execution_count": 57,
     "metadata": {},
     "output_type": "execute_result"
    }
   ],
   "source": [
    "T = fahrenheit_to_celsius(47)\n",
    "T"
   ]
  },
  {
   "cell_type": "markdown",
   "metadata": {},
   "source": [
    "## Exercise 11"
   ]
  },
  {
   "cell_type": "markdown",
   "metadata": {},
   "source": [
    "Write a function that computes the volume of a cone.\n",
    "Note that if V is the volume of a cone, and `h` is\n",
    "its height and `r` is the radius of the base, then\n",
    "\n",
    "$$ \n",
    "V = \\frac{1}{3}  \\pi r^{2} h \n",
    "$$\n",
    "\n",
    "Here is how the function should work::\n",
    "\n",
    "     In [ ]: cone_volume(2,3)\n",
    "     Out [ ]: 12.566370614359172\n"
   ]
  },
  {
   "cell_type": "code",
   "execution_count": 60,
   "metadata": {
    "scrolled": true
   },
   "outputs": [],
   "source": [
    "from math import pi\n",
    "\n",
    "def cone_volume (r, h):\n",
    "   \"\"\"\n",
    "   Computes the volume of the cone:\n",
    "      (pi * r**2 * h)/3\n",
    "   \"\"\"\n",
    "   #return Your answer goes here.\n",
    "   return"
   ]
  },
  {
   "cell_type": "code",
   "execution_count": 59,
   "metadata": {},
   "outputs": [
    {
     "data": {
      "text/plain": [
       "12.566370614359172"
      ]
     },
     "execution_count": 59,
     "metadata": {},
     "output_type": "execute_result"
    }
   ],
   "source": [
    "cone_volume(2,3)"
   ]
  },
  {
   "cell_type": "markdown",
   "metadata": {},
   "source": [
    "Note; The cell above introduces a **documentation string** into you function definition.  Documentation are used by automatic documentation generators that will produce nice looking documents describing how your code works.  You can look at the documentation string of any function that has one as follows."
   ]
  },
  {
   "cell_type": "code",
   "execution_count": 61,
   "metadata": {},
   "outputs": [
    {
     "name": "stdout",
     "output_type": "stream",
     "text": [
      "\n",
      "   Computes the volume of the cone:\n",
      "      (pi * r**2 * h)/3\n",
      "   \n"
     ]
    }
   ],
   "source": [
    "print(cone_volume.__doc__)"
   ]
  },
  {
   "cell_type": "code",
   "execution_count": 62,
   "metadata": {},
   "outputs": [
    {
     "data": {
      "text/plain": [
       "['__annotations__',\n",
       " '__call__',\n",
       " '__class__',\n",
       " '__closure__',\n",
       " '__code__',\n",
       " '__defaults__',\n",
       " '__delattr__',\n",
       " '__dict__',\n",
       " '__dir__',\n",
       " '__doc__',\n",
       " '__eq__',\n",
       " '__format__',\n",
       " '__ge__',\n",
       " '__get__',\n",
       " '__getattribute__',\n",
       " '__globals__',\n",
       " '__gt__',\n",
       " '__hash__',\n",
       " '__init__',\n",
       " '__init_subclass__',\n",
       " '__kwdefaults__',\n",
       " '__le__',\n",
       " '__lt__',\n",
       " '__module__',\n",
       " '__name__',\n",
       " '__ne__',\n",
       " '__new__',\n",
       " '__qualname__',\n",
       " '__reduce__',\n",
       " '__reduce_ex__',\n",
       " '__repr__',\n",
       " '__setattr__',\n",
       " '__sizeof__',\n",
       " '__str__',\n",
       " '__subclasshook__']"
      ]
     },
     "execution_count": 62,
     "metadata": {},
     "output_type": "execute_result"
    }
   ],
   "source": [
    "dir(cone_volume)"
   ]
  },
  {
   "cell_type": "markdown",
   "metadata": {},
   "source": [
    "## Sudoku:  More list comprehension"
   ]
  },
  {
   "cell_type": "markdown",
   "metadata": {},
   "source": [
    "**Takeaways**:  The use of `zip`, the use of `assert`, a dictionary from a list of pairs, more double loops."
   ]
  },
  {
   "cell_type": "markdown",
   "metadata": {},
   "source": [
    "For this exercise, execute the code below; we will use it, but only briefly discuss how it works. "
   ]
  },
  {
   "cell_type": "code",
   "execution_count": 66,
   "metadata": {},
   "outputs": [],
   "source": [
    "def cross(A, B):\n",
    "    \"Cross product of elements in A and elements in B.\"\n",
    "    return [a+b for a in A for b in B]\n",
    "\n",
    "\n",
    "digits   = '123456789'\n",
    "rows     = 'ABCDEFGHI'\n",
    "cols     = digits\n",
    "squares  = cross(rows, cols)\n",
    "unitlist = ([cross(rows, c) for c in cols] +\n",
    "            [cross(r, cols) for r in rows] +\n",
    "            [cross(rs, cs) for rs in ('ABC','DEF','GHI') for cs in ('123','456','789')])\n",
    "\n",
    "# Assign to each square s A set of sets of squares\n",
    "units = dict((s, [u for u in unitlist if s in u])\n",
    "             for s in squares)\n",
    "## Assign to each square s a set of squares, namely those that cant have the same value as s.\n",
    "peers = dict((s, set(sum(units[s],[]))-set([s]))\n",
    "             for s in squares)\n",
    "\n",
    "# Turn a puzzle string into a dictionary.\n",
    "def grid_values(grid):\n",
    "    \"Convert grid into a dict of {square: char} with '0' or '.' for empties.\"\n",
    "    chars = [c for c in grid if c in digits or c in '0.']\n",
    "    assert len(chars) == 81\n",
    "    return dict(list(zip(squares, chars)))\n",
    "\n",
    "def simple_grid_values (grid):\n",
    "    \"Convert grid into a dict of {square: char} with no restriction on contents\"\n",
    "    assert len(grid) == 81\n",
    "    return dict(list(zip(squares, grid)))\n",
    "  \n",
    "################ Display as 2-D grid ################\n",
    "\n",
    "def display(values):\n",
    "    \"\"\"Display these values as a 2-D grid. \n",
    "    \n",
    "    Repeat a string `S` `n` times by using `S * 3`.\n",
    "    \"\"\"\n",
    "    # This loop: convert 0's to something less visually prominent (`.`)\n",
    "    for s in squares:\n",
    "        if values[s] == '0':\n",
    "            values[s] = '.'\n",
    "    # Choos the width of a cell in the grid by finding the widest square name\n",
    "    width = 1+max(len(values[s]) for s in squares)\n",
    "    # Cook up a filler line ('-'s interrupted by '+'s) to be used to mark boxes\n",
    "    line = '+'.join(['-'*(width*3)]*3)\n",
    "    for r in rows:\n",
    "        print(''.join(values[r+c].center(width)+('|' if c in '36' else '')\n",
    "                      for c in cols))\n",
    "        # Every third row, print filler line following row contents.\n",
    "        if r in 'CF': print(line)\n",
    "    print()\n",
    "\n",
    "\n",
    "grid1  = '003020600900305001001806400008102900700000008006708200002609500800203009005010300'\n",
    "grid1_soln = '483921657967345821251876493548132976729564138136798245372689514814253769695417382'\n",
    "grid2  = '003020600900305001001806400008102900700000008006708200002689500800203009005010300'\n",
    "# Some illegal grids.\n",
    "grid3  = '003020600900305001001806400008102900700000008006708200002609500800203089005010300'\n",
    "grid4  = '003020609900305001001806400008102900700000008006708200002609500800203009005010300'\n",
    "grid5  = '003020600900305061001806400008102900700000008006708200002609500800203009005010300'\n",
    "g5_peers = peers['G5']\n",
    "sgv = simple_grid_values(squares)\n",
    "for s in g5_peers:\n",
    "    sgv[s] = '__'"
   ]
  },
  {
   "cell_type": "markdown",
   "metadata": {},
   "source": [
    "First some preliminaries, introducing the idea of a sudoku puzzle, for those who've never tried one.  According to Norvig:\n",
    "\n",
    ">A Sudoku puzzle is a grid of 81 squares; the majority of enthusiasts label the columns 1-9, the rows A-I [as in the grid below]."
   ]
  },
  {
   "cell_type": "code",
   "execution_count": 2,
   "metadata": {
    "scrolled": false
   },
   "outputs": [
    {
     "name": "stdout",
     "output_type": "stream",
     "text": [
      " A1 A2 A3| A4 A5 A6| A7 A8 A9\n",
      " B1 B2 B3| B4 B5 B6| B7 B8 B9\n",
      " C1 C2 C3| C4 C5 C6| C7 C8 C9\n",
      "---------+---------+---------\n",
      " D1 D2 D3| D4 D5 D6| D7 D8 D9\n",
      " E1 E2 E3| E4 E5 E6| E7 E8 E9\n",
      " F1 F2 F3| F4 F5 F6| F7 F8 F9\n",
      "---------+---------+---------\n",
      " G1 G2 G3| G4 G5 G6| G7 G8 G9\n",
      " H1 H2 H3| H4 H5 H6| H7 H8 H9\n",
      " I1 I2 I3| I4 I5 I6| I7 I8 I9\n",
      "\n"
     ]
    }
   ],
   "source": [
    "display(simple_grid_values(squares))"
   ]
  },
  {
   "cell_type": "markdown",
   "metadata": {},
   "source": [
    "Also according to Norvig\n",
    ">A collection of nine squares (column, row, or box) is called a **unit** and the squares that share a unit the **peers**. A puzzle leaves some squares blank and fills others with digits, and the whole idea is: A puzzle is solved if the squares in each unit are filled with a permutation of the digits 1 to 9.\n",
    "\n",
    "Thus in each unit of a solved puzzle, all the digits must appear, and no duplications are allowed. The next square shows a puzzle, and below that its unique solution."
   ]
  },
  {
   "cell_type": "code",
   "execution_count": 40,
   "metadata": {},
   "outputs": [
    {
     "name": "stdout",
     "output_type": "stream",
     "text": [
      ". . 3 |. 2 . |6 . . \n",
      "9 . . |3 . 5 |. . 1 \n",
      ". . 1 |8 . 6 |4 . . \n",
      "------+------+------\n",
      ". . 8 |1 . 2 |9 . . \n",
      "7 . . |. . . |. . 8 \n",
      ". . 6 |7 . 8 |2 . . \n",
      "------+------+------\n",
      ". . 2 |6 . 9 |5 . . \n",
      "8 . . |2 . 3 |. . 9 \n",
      ". . 5 |. 1 . |3 . . \n",
      "\n",
      "     ... => ...\n",
      "\n",
      "4 8 3 |9 2 1 |6 5 7 \n",
      "9 6 7 |3 4 5 |8 2 1 \n",
      "2 5 1 |8 7 6 |4 9 3 \n",
      "------+------+------\n",
      "5 4 8 |1 3 2 |9 7 6 \n",
      "7 2 9 |5 6 4 |1 3 8 \n",
      "1 3 6 |7 9 8 |2 4 5 \n",
      "------+------+------\n",
      "3 7 2 |6 8 9 |5 1 4 \n",
      "8 1 4 |2 5 3 |7 6 9 \n",
      "6 9 5 |4 1 7 |3 8 2 \n",
      "\n"
     ]
    }
   ],
   "source": [
    "display(grid_values(grid1))\n",
    "print('     ... => ...')\n",
    "print()\n",
    "display(grid_values(  grid1_soln))"
   ]
  },
  {
   "cell_type": "markdown",
   "metadata": {},
   "source": [
    "According to Norvig's terminology, the *peers* of a square are the squares in the same column, or the same row, or the same box.  The peers of `G5` are show below as unfilled boxes:"
   ]
  },
  {
   "cell_type": "code",
   "execution_count": 26,
   "metadata": {},
   "outputs": [
    {
     "name": "stdout",
     "output_type": "stream",
     "text": [
      " A1 A2 A3| A4 __ A6| A7 A8 A9\n",
      " B1 B2 B3| B4 __ B6| B7 B8 B9\n",
      " C1 C2 C3| C4 __ C6| C7 C8 C9\n",
      "---------+---------+---------\n",
      " D1 D2 D3| D4 __ D6| D7 D8 D9\n",
      " E1 E2 E3| E4 __ E6| E7 E8 E9\n",
      " F1 F2 F3| F4 __ F6| F7 F8 F9\n",
      "---------+---------+---------\n",
      " __ __ __| __ G5 __| __ __ __\n",
      " H1 H2 H3| __ __ __| H7 H8 H9\n",
      " I1 I2 I3| __ __ __| I7 I8 I9\n",
      "\n"
     ]
    }
   ],
   "source": [
    "display(sgv)"
   ]
  },
  {
   "cell_type": "markdown",
   "metadata": {},
   "source": [
    "As the example shows, a square has 20 peers, 16 from its row and column, and 4 more from the 9-square box it is in."
   ]
  },
  {
   "cell_type": "markdown",
   "metadata": {},
   "source": [
    "The cell below contains a small extract of the code used in Peter Norvig's sudoku solver, which is discussed in the section of the online book devoted to list comprehensions.  After the code is executed the name `squares` contains the names of the 81 legal squares in a Sudoku game.  "
   ]
  },
  {
   "cell_type": "markdown",
   "metadata": {},
   "source": [
    "The code below is a simplified subset of the code defined above.  It will help you complete this exercise.  You should make sure you understand how it works."
   ]
  },
  {
   "cell_type": "code",
   "execution_count": 19,
   "metadata": {},
   "outputs": [],
   "source": [
    "\n",
    "digits   = '123456789'\n",
    "rows     = 'ABCDEFGHI'\n",
    "cols     = digits\n",
    "squares  = cross(rows, cols)\n",
    "unitlist = ([cross(rows, c) for c in cols] +\n",
    "            [cross(r, cols) for r in rows] +\n",
    "            [cross(rs, cs) for rs in ('ABC','DEF','GHI') for cs in ('123','456','789')])\n",
    "\n",
    "# Assign to each square s A set of sets of squares\n",
    "units = dict((s, [u for u in unitlist if s in u])\n",
    "             for s in squares)\n",
    "## Assign to each square s a set of squares, namely those that cant have the same value as s.\n",
    "peers = dict((s, set(sum(units[s],[]))-set([s]))\n",
    "             for s in squares)\n",
    "def cross(A, B):\n",
    "    \"\"\"\n",
    "    Cross product of elements in sequence A and elements in sequence B. \n",
    "    When a and b are strings, we just concatenate them.\n",
    "    \"\"\"\n",
    "    return [a+b for a in A for b in B]\n",
    "\n",
    "\n",
    "def grid_values(grid):\n",
    "    \"Convert grid into a dict of {square: char} with '0' or '.' for empties.\"\n",
    "    chars = [c for c in grid if c in digits or c in '0.']\n",
    "    assert len(chars) == 81\n",
    "    return dict(list(zip(squares, chars)))\n",
    "\n",
    "digits   = '123456789'\n",
    "rows     = 'ABCDEFGHI'\n",
    "cols     = digits\n",
    "squares  = cross(rows, cols)\n",
    "unitlist = ([cross(rows, c) for c in cols] +\n",
    "            [cross(r, cols) for r in rows] +\n",
    "            [cross(rs, cs) for rs in ('ABC','DEF','GHI') for cs in ('123','456','789')])\n",
    "\n",
    "# Assign to each square s A set of sets of squares\n",
    "units = dict((s, [u for u in unitlist if s in u])\n",
    "             for s in squares)\n",
    "## Assign to each square s a set of squares, namely those that cant have the same value as s.\n",
    "peers = dict((s, set(sum(units[s],[]))-set([s]))\n",
    "             for s in squares)"
   ]
  },
  {
   "cell_type": "markdown",
   "metadata": {},
   "source": [
    "The name `units` contains a dictionary, which contains square names as keys.  For any square `s`, `units[s]` is the three groups of squares that cannot contain the same value as `s`.\n",
    "So `units['H8']` contains column 8, row H, and the box of 9 squares in the lower right hand box of the puzzle to which square `H8` belongs:"
   ]
  },
  {
   "cell_type": "code",
   "execution_count": 3,
   "metadata": {},
   "outputs": [
    {
     "data": {
      "text/plain": [
       "[['A8', 'B8', 'C8', 'D8', 'E8', 'F8', 'G8', 'H8', 'I8'],\n",
       " ['H1', 'H2', 'H3', 'H4', 'H5', 'H6', 'H7', 'H8', 'H9'],\n",
       " ['G7', 'G8', 'G9', 'H7', 'H8', 'H9', 'I7', 'I8', 'I9']]"
      ]
     },
     "execution_count": 3,
     "metadata": {},
     "output_type": "execute_result"
    }
   ],
   "source": [
    "units['H8']"
   ]
  },
  {
   "cell_type": "markdown",
   "metadata": {},
   "source": [
    "`peers` is a dictionary which is a little more convenient to use for this assignment. For each square `S`, `peers[S]` is the set of squares that cannot contain the same value as `S`.\n",
    "For example: "
   ]
  },
  {
   "cell_type": "code",
   "execution_count": 68,
   "metadata": {
    "scrolled": true
   },
   "outputs": [
    {
     "data": {
      "text/plain": [
       "{'A8',\n",
       " 'B8',\n",
       " 'C8',\n",
       " 'D8',\n",
       " 'E8',\n",
       " 'F8',\n",
       " 'G7',\n",
       " 'G8',\n",
       " 'G9',\n",
       " 'H1',\n",
       " 'H2',\n",
       " 'H3',\n",
       " 'H4',\n",
       " 'H5',\n",
       " 'H6',\n",
       " 'H7',\n",
       " 'H9',\n",
       " 'I7',\n",
       " 'I8',\n",
       " 'I9'}"
      ]
     },
     "execution_count": 68,
     "metadata": {},
     "output_type": "execute_result"
    }
   ],
   "source": [
    "peers['H8']"
   ]
  },
  {
   "cell_type": "markdown",
   "metadata": {},
   "source": [
    "`peers[H8]` is computed just by unioning together the three sets of squares in `units[H8]` and removing `H8`.  We use sets to remove duplicates.  "
   ]
  },
  {
   "cell_type": "markdown",
   "metadata": {},
   "source": [
    "In the first code cell in this section, we defined a sudoku puzzle grid we called `grid1`.  `grid1` is a legal grid, as we can see by displaying  it."
   ]
  },
  {
   "cell_type": "code",
   "execution_count": 5,
   "metadata": {
    "scrolled": true
   },
   "outputs": [
    {
     "name": "stdout",
     "output_type": "stream",
     "text": [
      ". . 3 |. 2 . |6 . . \n",
      "9 . . |3 . 5 |. . 1 \n",
      ". . 1 |8 . 6 |4 . . \n",
      "------+------+------\n",
      ". . 8 |1 . 2 |9 . . \n",
      "7 . . |. . . |. . 8 \n",
      ". . 6 |7 . 8 |2 . . \n",
      "------+------+------\n",
      ". . 2 |6 . 9 |5 . . \n",
      "8 . . |2 . 3 |. . 9 \n",
      ". . 5 |. 1 . |3 . . \n",
      "\n"
     ]
    }
   ],
   "source": [
    "display(grid_values(grid1))"
   ]
  },
  {
   "cell_type": "markdown",
   "metadata": {},
   "source": [
    "It will be useful to keep in mind something the `display` functions does.  `grid1` is s string.  `grid_values` converts that string into a dictionary, and `display` only works on the dictionary representation.  In solving this problem, you will find it convenient to work with the dictionary representation of a puzzle, just as the `display` function does."
   ]
  },
  {
   "cell_type": "code",
   "execution_count": 6,
   "metadata": {},
   "outputs": [
    {
     "name": "stdout",
     "output_type": "stream",
     "text": [
      "003020600900305001001806400008102900700000008006708200002609500800203009005010300\n",
      "{'I6': '0', 'H9': '9', 'I2': '0', 'E8': '0', 'H3': '0', 'H7': '0', 'I7': '3', 'I4': '0', 'H5': '0', 'F9': '0', 'G7': '5', 'G6': '9', 'G5': '0', 'E1': '7', 'G3': '2', 'G2': '0', 'G1': '0', 'I1': '0', 'C8': '0', 'I3': '5', 'E5': '0', 'I5': '1', 'C9': '0', 'G9': '0', 'G8': '0', 'A1': '0', 'A3': '3', 'A2': '0', 'A5': '2', 'A4': '0', 'A7': '6', 'A6': '0', 'C3': '1', 'C2': '0', 'C1': '0', 'E6': '0', 'C7': '4', 'C6': '6', 'C5': '0', 'C4': '8', 'I9': '0', 'D8': '0', 'I8': '0', 'E4': '0', 'D9': '0', 'H8': '0', 'F6': '8', 'A9': '0', 'G4': '6', 'A8': '0', 'E7': '0', 'E3': '0', 'F1': '0', 'F2': '0', 'F3': '6', 'F4': '7', 'F5': '0', 'E2': '0', 'F7': '2', 'F8': '0', 'D2': '0', 'H1': '8', 'H6': '3', 'H2': '0', 'H4': '2', 'D3': '8', 'B4': '3', 'B5': '0', 'B6': '5', 'B7': '0', 'E9': '8', 'B1': '9', 'B2': '0', 'B3': '0', 'D6': '2', 'D7': '9', 'D4': '1', 'D5': '0', 'B8': '0', 'B9': '1', 'D1': '0'}\n"
     ]
    }
   ],
   "source": [
    "print(grid1)\n",
    "print(grid_values(grid1))"
   ]
  },
  {
   "cell_type": "markdown",
   "metadata": {},
   "source": [
    "`grid2` Is the same as `grid1` but we have added an `8` to row `G`. `grid2` is also a legal grid."
   ]
  },
  {
   "cell_type": "code",
   "execution_count": 7,
   "metadata": {},
   "outputs": [
    {
     "name": "stdout",
     "output_type": "stream",
     "text": [
      ". . 3 |. 2 . |6 . . \n",
      "9 . . |3 . 5 |. . 1 \n",
      ". . 1 |8 . 6 |4 . . \n",
      "------+------+------\n",
      ". . 8 |1 . 2 |9 . . \n",
      "7 . . |. . . |. . 8 \n",
      ". . 6 |7 . 8 |2 . . \n",
      "------+------+------\n",
      ". . 2 |6 8 9 |5 . . \n",
      "8 . . |2 . 3 |. . 9 \n",
      ". . 5 |. 1 . |3 . . \n",
      "\n"
     ]
    }
   ],
   "source": [
    "display(grid_values(grid2))"
   ]
  },
  {
   "cell_type": "markdown",
   "metadata": {},
   "source": [
    "However `grid3` is illegal.  There are 2 8's in row `H`."
   ]
  },
  {
   "cell_type": "code",
   "execution_count": 8,
   "metadata": {
    "scrolled": false
   },
   "outputs": [
    {
     "name": "stdout",
     "output_type": "stream",
     "text": [
      ". . 3 |. 2 . |6 . . \n",
      "9 . . |3 . 5 |. . 1 \n",
      ". . 1 |8 . 6 |4 . . \n",
      "------+------+------\n",
      ". . 8 |1 . 2 |9 . . \n",
      "7 . . |. . . |. . 8 \n",
      ". . 6 |7 . 8 |2 . . \n",
      "------+------+------\n",
      ". . 2 |6 . 9 |5 . . \n",
      "8 . . |2 . 3 |. 8 9 \n",
      ". . 5 |. 1 . |3 . . \n",
      "\n"
     ]
    }
   ],
   "source": [
    "display(grid_values(grid3))"
   ]
  },
  {
   "cell_type": "markdown",
   "metadata": {},
   "source": [
    "`grid4` is also illegal.  There are 2 9's in the last column."
   ]
  },
  {
   "cell_type": "code",
   "execution_count": 9,
   "metadata": {
    "scrolled": true
   },
   "outputs": [
    {
     "name": "stdout",
     "output_type": "stream",
     "text": [
      ". . 3 |. 2 . |6 . 9 \n",
      "9 . . |3 . 5 |. . 1 \n",
      ". . 1 |8 . 6 |4 . . \n",
      "------+------+------\n",
      ". . 8 |1 . 2 |9 . . \n",
      "7 . . |. . . |. . 8 \n",
      ". . 6 |7 . 8 |2 . . \n",
      "------+------+------\n",
      ". . 2 |6 . 9 |5 . . \n",
      "8 . . |2 . 3 |. . 9 \n",
      ". . 5 |. 1 . |3 . . \n",
      "\n"
     ]
    }
   ],
   "source": [
    "display(grid_values(grid4))"
   ]
  },
  {
   "cell_type": "markdown",
   "metadata": {},
   "source": [
    "`grid6` is illegal because there are two 6's in the upper right hand box."
   ]
  },
  {
   "cell_type": "code",
   "execution_count": 10,
   "metadata": {},
   "outputs": [
    {
     "name": "stdout",
     "output_type": "stream",
     "text": [
      ". . 3 |. 2 . |6 . . \n",
      "9 . . |3 . 5 |. 6 1 \n",
      ". . 1 |8 . 6 |4 . . \n",
      "------+------+------\n",
      ". . 8 |1 . 2 |9 . . \n",
      "7 . . |. . . |. . 8 \n",
      ". . 6 |7 . 8 |2 . . \n",
      "------+------+------\n",
      ". . 2 |6 . 9 |5 . . \n",
      "8 . . |2 . 3 |. . 9 \n",
      ". . 5 |. 1 . |3 . . \n",
      "\n"
     ]
    }
   ],
   "source": [
    "display(grid_values(grid5))"
   ]
  },
  {
   "cell_type": "markdown",
   "metadata": {},
   "source": [
    "Your assignment is to write a function that will print out `Invalid` if the grid that is\n",
    "passed in as an argument is illegal and will print out `Valid` if the grid is legal.  It should work as follows:\n",
    "\n",
    "```\n",
    "def test(grid):\n",
    "     Your code goes here\n",
    "\n",
    "test(grid_values(grid1))\n",
    "test(grid_values(grid2))\n",
    "test(grid_values(grid3))\n",
    "test(grid_values(grid4))\n",
    "test(grid_values(grid5))\n",
    "```\n",
    "\n",
    "When you finish your code and execute the lines above, the following should print out:\n",
    "\n",
    "```\n",
    "   Valid!\n",
    "   Valid!\n",
    "   Invalid!\n",
    "   Invalid!\n",
    "   Invalid!\n",
    "```"
   ]
  },
  {
   "cell_type": "markdown",
   "metadata": {
    "collapsed": true
   },
   "source": [
    "### Some hints"
   ]
  },
  {
   "cell_type": "markdown",
   "metadata": {},
   "source": [
    "1.  The way to test if a grid is valid is to check each square s to see if its\n",
    "    value is that same as the value of any of its peers.  To check all the squares \n",
    "    you can use the variable `squares` (defined above) which contains the names of all\n",
    "    81 squares.\n",
    "    \n",
    "    So your code will begin\n",
    "        \n",
    "    ```\n",
    "    def test(grid):\n",
    "        for s in squares:\n",
    "            [your code checking if s contains the same value as any of its peers]\n",
    "    ```\n",
    " "
   ]
  },
  {
   "cell_type": "markdown",
   "metadata": {},
   "source": [
    "                 \n",
    "2.  Keep in mind that `grid` is a dictionary whose keys are names of\n",
    "    squares (strings) and whose values are the numbers filling the squares.  You will be\n",
    "    checking on the equality of **values**.  The way to  get the value of a square `s` is\n",
    "    `grid[s]`.\n",
    " \n",
    "3.  You need to ignore blank squares.  So the first thing you should do is check to see if\n",
    "    `s` is blank.  You can assume a blank square contains the **string** `\"0\"`.  Since you\n",
    "    only want to look at filled squares, your test is that their value is **not** equal to\n",
    "    `\"0\"`.  The Python test for checking that `X` is not equal to `Y` is\n",
    "    \n",
    "    ```\n",
    "    X != Y\n",
    "    ```\n",
    "    \n",
    "    This evaluates to `True` when `X` and `Y` are not equal.\n",
    "    \n",
    "    So now your code begins:\n",
    "    \n",
    "       ```\n",
    "        def test(grid):\n",
    "               for s in squares:\n",
    "                    if [your test that s is not blank]:\n",
    "                        [your code checking if s contains the same value as any of its peers]\n",
    "       ```\n",
    "4.  The way to print 'Invalid' only once once you have found a bad square\n",
    "    is to print it and stop executing the function at once after you print. That can be \n",
    "    done as follows:\n",
    "    \n",
    "       ```\n",
    "       print \"Invalid!\"\n",
    "       return\n",
    "       ```\n",
    "    "
   ]
  },
  {
   "cell_type": "code",
   "execution_count": 73,
   "metadata": {},
   "outputs": [
    {
     "data": {
      "text/plain": [
       "'3'"
      ]
     },
     "execution_count": 73,
     "metadata": {},
     "output_type": "execute_result"
    }
   ],
   "source": [
    "pdict = grid_values(grid5)\n",
    "pdict['A3']"
   ]
  },
  {
   "cell_type": "code",
   "execution_count": 88,
   "metadata": {},
   "outputs": [
    {
     "name": "stdout",
     "output_type": "stream",
     "text": [
      "Invalid!\n",
      "Valid!\n"
     ]
    }
   ],
   "source": [
    "pdict5 = grid_values(grid5)\n",
    "pdict1 = grid_values(grid1)\n",
    "def test(grid):\n",
    "    for s in squares:\n",
    "        if  grid[s] != '0':\n",
    "            #print(s, peers[s])\n",
    "            #print()\n",
    "            #if grid[s] == peers[s]:\n",
    "            for p in peers[s]:\n",
    "                if grid[s] == grid[p]:\n",
    "                   print('Invalid!')\n",
    "                   return\n",
    "    print('Valid!')\n",
    "test(pdict5)\n",
    "test(pdict1)"
   ]
  },
  {
   "cell_type": "code",
   "execution_count": 90,
   "metadata": {},
   "outputs": [
    {
     "name": "stdout",
     "output_type": "stream",
     "text": [
      "Valid!\n",
      "Valid!\n",
      "Invalid!\n",
      "Invalid!\n",
      "Invalid!\n"
     ]
    }
   ],
   "source": [
    "\n",
    "pdict1 = grid_values(grid1)\n",
    "pdict2 = grid_values(grid2)\n",
    "pdict3 = grid_values(grid3)\n",
    "pdict4 = grid_values(grid4)\n",
    "pdict5 = grid_values(grid5)\n",
    "test(pdict1)\n",
    "test(pdict2)\n",
    "test(pdict3)\n",
    "test(pdict4)\n",
    "test(pdict5)"
   ]
  },
  {
   "cell_type": "code",
   "execution_count": null,
   "metadata": {},
   "outputs": [],
   "source": []
  }
 ],
 "metadata": {
  "kernelspec": {
   "display_name": "Python 3",
   "language": "python",
   "name": "python3"
  },
  "language_info": {
   "codemirror_mode": {
    "name": "ipython",
    "version": 3
   },
   "file_extension": ".py",
   "mimetype": "text/x-python",
   "name": "python",
   "nbconvert_exporter": "python",
   "pygments_lexer": "ipython3",
   "version": "3.6.5"
  },
  "toc": {
   "base_numbering": 1,
   "nav_menu": {
    "height": "310px",
    "width": "252px"
   },
   "number_sections": true,
   "sideBar": true,
   "skip_h1_title": false,
   "title_cell": "Table of Contents",
   "title_sidebar": "Contents",
   "toc_cell": false,
   "toc_position": {},
   "toc_section_display": "block",
   "toc_window_display": false
  }
 },
 "nbformat": 4,
 "nbformat_minor": 1
}
