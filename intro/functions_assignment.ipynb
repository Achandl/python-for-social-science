{
 "cells": [
  {
   "cell_type": "markdown",
   "metadata": {},
   "source": [
    "# Functions, types, loops assignment"
   ]
  },
  {
   "cell_type": "markdown",
   "metadata": {},
   "source": [
    "## Exercise 1"
   ]
  },
  {
   "cell_type": "markdown",
   "metadata": {},
   "source": [
    "Add a line of code that will generate the give output::\n",
    " \n",
    "     In [ ]: a_list = [2,7,8, 19]\n",
    "             YOUR CODE HERE\n",
    "     Out [ ]: 2\n",
    "     \n",
    "NOTE: The idea of this kind of exercise is to write a line of code\n",
    "that will produce the given output, 2 in this case.  Your\n",
    "answer goes in the next cell, which is a code cell.  It should this be an\n",
    "expression that operates on `a_list`.  A simple correct answer is:\n",
    "\n",
    "     In [ ]: a_list = [2,7,8, 19]\n",
    "             a_list[0]\n",
    "     Out [ ]: 2\n",
    "     \n",
    "Don't forget to evaluate the cell after you've written in your answer to generate Python's output and check your answer!\n"
   ]
  },
  {
   "cell_type": "code",
   "execution_count": 1,
   "metadata": {},
   "outputs": [
    {
     "data": {
      "text/plain": [
       "2"
      ]
     },
     "execution_count": 1,
     "metadata": {},
     "output_type": "execute_result"
    }
   ],
   "source": [
    "a_list = [2,7,8, 19]\n",
    "a_list[0]"
   ]
  },
  {
   "cell_type": "markdown",
   "metadata": {},
   "source": [
    "## Exercise 2"
   ]
  },
  {
   "cell_type": "markdown",
   "metadata": {},
   "source": [
    "  Write a line of code that produces the given output.  Use a splice with a \"steps\" component.\n",
    "   \n",
    "    In [ ]: X = 'abcdefghij'\n",
    "             YOUR CODE HERE\n",
    "    Out [ ]: 'acegi'"
   ]
  },
  {
   "cell_type": "code",
   "execution_count": 5,
   "metadata": {},
   "outputs": [
    {
     "data": {
      "text/plain": [
       "'acegi'"
      ]
     },
     "execution_count": 5,
     "metadata": {},
     "output_type": "execute_result"
    }
   ],
   "source": [
    "X  = 'abcdefghij'"
   ]
  },
  {
   "cell_type": "markdown",
   "metadata": {},
   "source": [
    "## Exercise 3"
   ]
  },
  {
   "cell_type": "markdown",
   "metadata": {},
   "source": [
    " Write a line of code that produces the given output: \n",
    "   \n",
    "     In [ ]: S, T = set('abc'), set('cde')\n",
    "           YOUR CODE HERE\n",
    "     Out [ ]: {'c'}\n",
    "\n",
    "Hint.  Each Python type has its own methods.  For instance, strings have a `.title()` method that capitalizes them.  For this problem use a method that is particular to **sets** on the two sets `S` and `T`.  Look\n",
    "at [Van DerPlas's Whirlwind Tour, Ch. 6](https://github.com/jakevdp/WhirlwindTourOfPython/blob/6f1daf714fe52a8dde6a288674ba46a7feed8816/06-Built-in-Data-Structures.ipynb) for a nice discussion of set methods."
   ]
  },
  {
   "cell_type": "code",
   "execution_count": 3,
   "metadata": {},
   "outputs": [
    {
     "data": {
      "text/plain": [
       "{'c'}"
      ]
     },
     "execution_count": 3,
     "metadata": {},
     "output_type": "execute_result"
    }
   ],
   "source": []
  },
  {
   "cell_type": "markdown",
   "metadata": {},
   "source": [
    "## Exercise 4"
   ]
  },
  {
   "cell_type": "markdown",
   "metadata": {},
   "source": [
    " Write a line of code that produces the given output: \n",
    "   \n",
    "     In [ ]: a_list = [2,7,8, 19]\n",
    "           YOUR CODE HERE\n",
    "     Out [ ]: [22,27,28,39]\n",
    "    \n",
    "Hint: Try a list comprehension. Look at [Whirlwind Tour](https://github.com/jakevdp/WhirlwindTourOfPython/blob/6f1daf714fe52a8dde6a288674ba46a7feed8816/11-List-Comprehensions.ipynb) for a quick review of list comprehensions."
   ]
  },
  {
   "cell_type": "code",
   "execution_count": 4,
   "metadata": {},
   "outputs": [],
   "source": [
    "a_list = [2,7,8, 19]"
   ]
  },
  {
   "cell_type": "markdown",
   "metadata": {},
   "source": [
    "## Exercise 5"
   ]
  },
  {
   "cell_type": "markdown",
   "metadata": {},
   "source": [
    "Write a line of code that produces the given output.\n",
    "\n",
    "Hint Remember that list comprehensions can also be used as filters. Look at [Whirlwind Tour](https://github.com/jakevdp/WhirlwindTourOfPython/blob/6f1daf714fe52a8dde6a288674ba46a7feed8816/11-List-Comprehensions.ipynb) for a quick review of list comprehensions.\n",
    "\n",
    "```\n",
    "In [ ]: a_list = [2,7,8, 19]\n",
    "In [ ]: # Your code           \n",
    "Out [ ]: [22,27]\n",
    " ```"
   ]
  },
  {
   "cell_type": "code",
   "execution_count": null,
   "metadata": {},
   "outputs": [],
   "source": [
    "a_list = [2,7,8, 19]"
   ]
  },
  {
   "cell_type": "code",
   "execution_count": 8,
   "metadata": {},
   "outputs": [],
   "source": [
    "# YOUR CODE GOES UNDER HERE"
   ]
  },
  {
   "cell_type": "markdown",
   "metadata": {},
   "source": [
    "## Exercise 6"
   ]
  },
  {
   "cell_type": "markdown",
   "metadata": {},
   "source": [
    "Write a function that finds all the consonants in a string.  As a help, the list of vowels is given below.  The beginning\n",
    "of the function definition has been given with a `pass` as the body.  \n",
    "\n",
    "It should work as in the following examples.\n",
    "\n",
    "```\n",
    ">>> remove_vowels('baker')\n",
    "'bkr'\n",
    ">>> remove_vowels('abracadabra')\n",
    "'brcdbr'\n",
    ">>> remove_vowels('mississippi is the place for me')\n",
    "'mssssppsthplcfrm'\n",
    "```\n",
    "\n",
    "As the argument of the function, use the name that has been supplied.\n",
    "Replace the `pass` with the correct definition of the function.\n",
    "\n",
    "For those interested in more of a challenge, you may add 'sometimes y' to the list of vowels. The letter `'y'` is a vowel in \"Mary\" and \"Plymouth\" and \"play\", but not in \"youth\"."
   ]
  },
  {
   "cell_type": "code",
   "execution_count": null,
   "metadata": {},
   "outputs": [],
   "source": [
    "vowels = 'aeiou'\n",
    "def remove_vowel():\n",
    "    pass"
   ]
  },
  {
   "cell_type": "markdown",
   "metadata": {},
   "source": [
    "## Exercise 7"
   ]
  },
  {
   "cell_type": "markdown",
   "metadata": {},
   "source": [
    " Write a line of code that operates on `XX` and produces the given output: \n",
    "   \n",
    "     In [ ]: XX = 'bad good sad happy'\n",
    "           YOUR CODE HERE\n",
    "     Out [ ]: [True, False, True, False]\n",
    "  \n",
    " Hint:  Try a list comprehension that collects\n",
    "  a list of the results of a Boolean test.  But remember that the elements of a string\n",
    "  are characters.  You can turn `XX` into a list of length 4 with a simple operation \n",
    "  discussed in the python_types_nb.\n"
   ]
  },
  {
   "cell_type": "code",
   "execution_count": 6,
   "metadata": {},
   "outputs": [],
   "source": [
    "XX = 'bad good sad happy' \n",
    "# Your code here"
   ]
  },
  {
   "cell_type": "markdown",
   "metadata": {},
   "source": [
    "## Exercise 8"
   ]
  },
  {
   "cell_type": "markdown",
   "metadata": {},
   "source": [
    "You're having a big party.\n",
    "\n",
    "The guests will be boys and girls.   The lists are defined for you in the next cell.\n",
    "\n",
    "You want to make sure there are enough dance partners and that they are all compatible.  Write a single list comprehension that will compute every possible pairing of a boy with a girl.  \n",
    "\n",
    "Hint The list the list comprehension builds will be a list of pairs."
   ]
  },
  {
   "cell_type": "code",
   "execution_count": 16,
   "metadata": {},
   "outputs": [],
   "source": [
    "boys = 'Huey Fred Jason Ed Albert Louie'.split()\n",
    "girls = 'Susan Paula Barbara Felicia'.split()\n",
    "# Your code here"
   ]
  },
  {
   "cell_type": "markdown",
   "metadata": {},
   "source": [
    "## Exercise 9"
   ]
  },
  {
   "cell_type": "markdown",
   "metadata": {},
   "source": [
    "You suddenly remember that boys don't always dance with girls and girls don't always dance with boys.\n",
    "And there are people who are neither who are also guests at the party.  You compile a list of neithers.  \n",
    "\n",
    "Using the `boys` and `girls` lists from the last problem and the `neither` list below,\n",
    "write another list comprehension that finds **all** the possible dance partners, that is\n",
    "every pair of guests at the party, regardless of whether they are boys or girls or neither.\n",
    "But remember: people can't dance with themselves.  \n",
    "\n",
    "If your final list has 169 members, people are dancing with themselves.\n",
    "\n",
    "If your final list has 156 members, it's because you have both ('Huey', 'Fred') and ('Fred', 'Huey') as possible dance partners. This is a bug.  They are just one happy couple.\n",
    "One way to fix this is do a set comprehension but then the final set you collect can't\n",
    "just be a set of two-member tuples or you'll have 156 of them.\n",
    "\n",
    "Another way to fix this is with `enumerate` as shown in the function-nb notebook.\n",
    "\n",
    "The correct answer has 76 dance couples."
   ]
  },
  {
   "cell_type": "code",
   "execution_count": 28,
   "metadata": {},
   "outputs": [],
   "source": [
    "neither = 'Lee Sam Kim'.split()\n",
    "# Your code here"
   ]
  },
  {
   "cell_type": "markdown",
   "metadata": {},
   "source": [
    "There is another simpler way to solve the problem we just solved, which is not quite as\n",
    "useful as a programming exercise.\n",
    "\n",
    "It will be helpful to review our discussion of Counters in the book draft section on dictionaries.\n",
    "It will also be helpful to read the [Python docs](http://docs.python.org/2/library/collections.html)  to find a convenient method that finds the element in a counter with the highest count."
   ]
  },
  {
   "cell_type": "markdown",
   "metadata": {},
   "source": [
    "## Exercise 9"
   ]
  },
  {
   "cell_type": "markdown",
   "metadata": {},
   "source": [
    "Write a **function** that return `True` for any  integer that has a remainder of 1 when divided by 3, and `False` for all other integers.  It should return nothing (`None`) for non integers.  It's okay to have an error for non numbers.\n",
    "\n",
    "Here is how it should  work:\n",
    "\n",
    "```\n",
    ">>> print(remainder_one(2))\n",
    "False\n",
    ">>> print(remainder_one(16))\n",
    "True\n",
    ">>> print(remainder_one(16.1))\n",
    "None\n",
    ">>> remainder_one(16.1)\n",
    "```\n"
   ]
  },
  {
   "cell_type": "code",
   "execution_count": 30,
   "metadata": {},
   "outputs": [
    {
     "name": "stdout",
     "output_type": "stream",
     "text": [
      "False\n",
      "True\n",
      "None\n"
     ]
    }
   ],
   "source": [
    "def remainder_one (x):\n",
    "    pass"
   ]
  },
  {
   "cell_type": "markdown",
   "metadata": {},
   "source": [
    "## Exercise 10"
   ]
  },
  {
   "cell_type": "markdown",
   "metadata": {},
   "source": [
    "Write a function that converts temperatures (as\n",
    "numbers) from Fahrenheit to Celsius scale. The temperature should be\n",
    "optional and its default value should be 32.  Here are some examples showing\n",
    "how you **call** the `fahrenheit-to_celsius` function and what it returns:\n",
    "\n",
    "```\n",
    "    In [ ]:  fahrenheit_to_celsius(212)\n",
    "    Out [ ]: 100\n",
    "    In [ ]: fahrenheit_to_celsius(-40)\n",
    "    Out [ ]: -40.0\n",
    "    In [ ]:  fahrenheit_to_celsius(32)\n",
    "    Out [ ]: 0\n",
    "    In [ ]:  fahrenheit_to_celsius()\n",
    "    Out [ ]: 0    \n",
    "```\n",
    "\n",
    "Please include a cell printing out your validation tests to show you have checked your work (which of course you **always** do).   \n",
    "To create new cells to demonstrate all the examples, you hold down the `[Control]` key while pressing `M` and then typing `b` (for \"below\").\n"
   ]
  },
  {
   "cell_type": "code",
   "execution_count": 13,
   "metadata": {},
   "outputs": [],
   "source": [
    "def fahrenheit_to_celsius(f):\n",
    "    #return [your answer goes here]"
   ]
  },
  {
   "cell_type": "markdown",
   "metadata": {},
   "source": [
    "## Exercise 11"
   ]
  },
  {
   "cell_type": "markdown",
   "metadata": {},
   "source": [
    "Write a function that can compute the difference between two temperatures.  Assume the\n",
    "input temperatures are Fahrenheit and the output temperatures are Celsius. You should take the differences in Celsus, as shown in the examples below.   Your\n",
    "definition should **call** the `fahrenheit_to_celsius`  function you defined in the previous problem, so **don't** just copy and paste the code from there.  Assume the first argument is obligatory and then the second argument is optional.  When the second argument is omitted, just return the result of converting the first argument to Celsius.\n",
    "Show that you have checked your work, using all of the following examples.\n",
    "\n",
    "Here is how the function should work:\n",
    "\n",
    "```\n",
    "    In [ ]:  fahrenheit_to_celsius_diff(212,32)\n",
    "    Out [ ]: 100\n",
    "    In [ ]: fahrenheit_to_celsius_diff(-40, 212)\n",
    "    Out [ ]: -140.0\n",
    "    In [ ]:  fahrenheit_to_celsius_diff(212)\n",
    "    Out [ ]: 100\n",
    "    In [ ]:  fahrenheit_to_celsius_diff(212, 0)\n",
    "    Out [ ]: 117.78\n",
    "\n",
    "```\n"
   ]
  },
  {
   "cell_type": "code",
   "execution_count": 35,
   "metadata": {
    "scrolled": true
   },
   "outputs": [],
   "source": [
    "from math import pi\n",
    "\n",
    "# Put the entire function definition here."
   ]
  },
  {
   "cell_type": "code",
   "execution_count": 22,
   "metadata": {},
   "outputs": [
    {
     "data": {
      "text/plain": [
       "18.84955592153876"
      ]
     },
     "execution_count": 22,
     "metadata": {},
     "output_type": "execute_result"
    }
   ],
   "source": [
    "cone_volume(3,2)"
   ]
  },
  {
   "cell_type": "markdown",
   "metadata": {},
   "source": [
    "## Sudoku:  More list comprehension"
   ]
  },
  {
   "cell_type": "markdown",
   "metadata": {},
   "source": [
    "This is the dreaded blank page problem I promised you at the beginning of the course.\n",
    "\n",
    "You are essentially beging asked to write a non-trivial function from scratch.  I try below to give you some hints, so try to read through the material.  It will be of help, especiaslly if you (a) are new to Sudoku; or (b) new to Python or to programming."
   ]
  },
  {
   "cell_type": "markdown",
   "metadata": {},
   "source": [
    "For this exercise, execute the code below; we will use it, but only briefly discuss how it works. "
   ]
  },
  {
   "cell_type": "code",
   "execution_count": 1,
   "metadata": {},
   "outputs": [],
   "source": [
    "def cross(A, B):\n",
    "    \"Cross product of elements in A and elements in B.\"\n",
    "    return [a+b for a in A for b in B]\n",
    "\n",
    "\n",
    "digits   = '123456789'\n",
    "rows     = 'ABCDEFGHI'\n",
    "cols     = digits\n",
    "squares  = cross(rows, cols)\n",
    "unitlist = ([cross(rows, c) for c in cols] +\n",
    "            [cross(r, cols) for r in rows] +\n",
    "            [cross(rs, cs) for rs in ('ABC','DEF','GHI') for cs in ('123','456','789')])\n",
    "\n",
    "# Assign to each square s A set of sets of squares\n",
    "units = dict((s, [u for u in unitlist if s in u])\n",
    "             for s in squares)\n",
    "## Assign to each square s a set of squares, namely those that cant have the same value as s.\n",
    "peers = dict((s, set(sum(units[s],[]))-set([s]))\n",
    "             for s in squares)\n",
    "\n",
    "# Turn a puzzle string into a dictionary.\n",
    "def grid_values(grid):\n",
    "    \"Convert grid into a dict of {square: char} with '0' or '.' for empties.\"\n",
    "    chars = [c for c in grid if c in digits or c in '0.']\n",
    "    assert len(chars) == 81\n",
    "    return dict(list(zip(squares, chars)))\n",
    "\n",
    "def simple_grid_values (grid):\n",
    "    \"Convert grid into a dict of {square: char} with no restriction on contents\"\n",
    "    assert len(grid) == 81\n",
    "    return dict(list(zip(squares, grid)))\n",
    "  \n",
    "################ Display as 2-D grid ################\n",
    "\n",
    "def display(values):\n",
    "    \"\"\"Display these values as a 2-D grid. \n",
    "    \n",
    "    Repeat a string `S` `n` times by using `S * 3`.\n",
    "    \"\"\"\n",
    "    # This loop: convert 0's to something less visually prominent (`.`)\n",
    "    for s in squares:\n",
    "        if values[s] == '0':\n",
    "            values[s] = '.'\n",
    "    # Choos the width of a cell in the grid by finding the widest square name\n",
    "    width = 1+max(len(values[s]) for s in squares)\n",
    "    # Cook up a filler line ('-'s interrupted by '+'s) to be used to mark boxes\n",
    "    line = '+'.join(['-'*(width*3)]*3)\n",
    "    for r in rows:\n",
    "        print(''.join(values[r+c].center(width)+('|' if c in '36' else '')\n",
    "                      for c in cols))\n",
    "        # Every third row, print filler line following row contents.\n",
    "        if r in 'CF': print(line)\n",
    "    print()\n",
    "\n",
    "##############################################################################################\n",
    "#  S o m e    D a t a    t o    P r a c t i c e     O n\n",
    "##############################################################################################\n",
    "grid1  = '003020600900305001001806400008102900700000008006708200002609500800203009005010300'\n",
    "grid1_soln = '483921657967345821251876493548132976729564138136798245372689514814253769695417382'\n",
    "grid2  = '003020600900305001001806400008102900700000008006708200002689500800203009005010300'\n",
    "# Some illegal grids (they break the rules of Sudoku)\n",
    "grid3  = '003020600900305001001806400008102900700000008006708200002609500800203089005010300'\n",
    "grid4  = '003020609900305001001806400008102900700000008006708200002609500800203009005010300'\n",
    "grid5  = '003020600900305061001806400008102900700000008006708200002609500800203009005010300'\n",
    "g5_peers = peers['G5']\n",
    "sgv = simple_grid_values(squares)\n",
    "for s in g5_peers:\n",
    "    sgv[s] = '__'"
   ]
  },
  {
   "cell_type": "markdown",
   "metadata": {},
   "source": [
    "First some preliminaries, introducing the idea of a sudoku puzzle, for those who've never tried one.  According to Norvig:\n",
    "\n",
    ">A Sudoku puzzle is a grid of 81 squares; the majority of enthusiasts label the columns 1-9, the rows A-I [as in the grid below].\n",
    "\n",
    "The grid below introduces **names** for the 81 squares in a grid."
   ]
  },
  {
   "cell_type": "code",
   "execution_count": 2,
   "metadata": {
    "scrolled": false
   },
   "outputs": [
    {
     "name": "stdout",
     "output_type": "stream",
     "text": [
      " A1 A2 A3| A4 A5 A6| A7 A8 A9\n",
      " B1 B2 B3| B4 B5 B6| B7 B8 B9\n",
      " C1 C2 C3| C4 C5 C6| C7 C8 C9\n",
      "---------+---------+---------\n",
      " D1 D2 D3| D4 D5 D6| D7 D8 D9\n",
      " E1 E2 E3| E4 E5 E6| E7 E8 E9\n",
      " F1 F2 F3| F4 F5 F6| F7 F8 F9\n",
      "---------+---------+---------\n",
      " G1 G2 G3| G4 G5 G6| G7 G8 G9\n",
      " H1 H2 H3| H4 H5 H6| H7 H8 H9\n",
      " I1 I2 I3| I4 I5 I6| I7 I8 I9\n",
      "\n"
     ]
    }
   ],
   "source": [
    "display(simple_grid_values(squares))"
   ]
  },
  {
   "cell_type": "markdown",
   "metadata": {},
   "source": [
    "Also according to Norvig\n",
    ">A collection of nine squares (column, row, or box) is called a **unit** and the squares that share a unit the **peers**. A puzzle leaves some squares blank and fills others with digits, and the whole idea is: A puzzle is solved if the squares in each unit are filled with a permutation of the digits 1 to 9.\n",
    "\n",
    "Thus in each unit of a solved puzzle, all the digits must appear, and no duplications are allowed. The next square shows a puzzle, and below that its unique solution."
   ]
  },
  {
   "cell_type": "code",
   "execution_count": 40,
   "metadata": {},
   "outputs": [
    {
     "name": "stdout",
     "output_type": "stream",
     "text": [
      ". . 3 |. 2 . |6 . . \n",
      "9 . . |3 . 5 |. . 1 \n",
      ". . 1 |8 . 6 |4 . . \n",
      "------+------+------\n",
      ". . 8 |1 . 2 |9 . . \n",
      "7 . . |. . . |. . 8 \n",
      ". . 6 |7 . 8 |2 . . \n",
      "------+------+------\n",
      ". . 2 |6 . 9 |5 . . \n",
      "8 . . |2 . 3 |. . 9 \n",
      ". . 5 |. 1 . |3 . . \n",
      "\n",
      "     ... => ...\n",
      "\n",
      "4 8 3 |9 2 1 |6 5 7 \n",
      "9 6 7 |3 4 5 |8 2 1 \n",
      "2 5 1 |8 7 6 |4 9 3 \n",
      "------+------+------\n",
      "5 4 8 |1 3 2 |9 7 6 \n",
      "7 2 9 |5 6 4 |1 3 8 \n",
      "1 3 6 |7 9 8 |2 4 5 \n",
      "------+------+------\n",
      "3 7 2 |6 8 9 |5 1 4 \n",
      "8 1 4 |2 5 3 |7 6 9 \n",
      "6 9 5 |4 1 7 |3 8 2 \n",
      "\n"
     ]
    }
   ],
   "source": [
    "display(grid_values(grid1))\n",
    "print('     ... => ...')\n",
    "print()\n",
    "display(grid_values(  grid1_soln))"
   ]
  },
  {
   "cell_type": "markdown",
   "metadata": {},
   "source": [
    "According to Norvig's terminology, the *peers* of a square are the squares in the same column, or the same row, or the same box.  The peers of `G5` are show below as unfilled boxes:"
   ]
  },
  {
   "cell_type": "code",
   "execution_count": 26,
   "metadata": {},
   "outputs": [
    {
     "name": "stdout",
     "output_type": "stream",
     "text": [
      " A1 A2 A3| A4 __ A6| A7 A8 A9\n",
      " B1 B2 B3| B4 __ B6| B7 B8 B9\n",
      " C1 C2 C3| C4 __ C6| C7 C8 C9\n",
      "---------+---------+---------\n",
      " D1 D2 D3| D4 __ D6| D7 D8 D9\n",
      " E1 E2 E3| E4 __ E6| E7 E8 E9\n",
      " F1 F2 F3| F4 __ F6| F7 F8 F9\n",
      "---------+---------+---------\n",
      " __ __ __| __ G5 __| __ __ __\n",
      " H1 H2 H3| __ __ __| H7 H8 H9\n",
      " I1 I2 I3| __ __ __| I7 I8 I9\n",
      "\n"
     ]
    }
   ],
   "source": [
    "display(sgv)"
   ]
  },
  {
   "cell_type": "markdown",
   "metadata": {},
   "source": [
    "As the example shows, a square S has 20 peers.  There are \n",
    "16 from S's row and column;  in principle there are 8 squares from the 9-square box S is in but 4 of those already count as peers in virtue of being in the same row or column as S.  So 20 distinct peers."
   ]
  },
  {
   "cell_type": "markdown",
   "metadata": {},
   "source": [
    "The cell below contains a small extract of the code used in Peter Norvig's sudoku solver, which is discussed in the section of the online book devoted to list comprehensions.  After the code is executed the name `squares` contains the names of the 81 legal squares in a Sudoku game.  "
   ]
  },
  {
   "cell_type": "markdown",
   "metadata": {},
   "source": [
    "The code below is a simplified subset of the code defined above.  This code is redundant with the code above,  THe reason it;'s here is that it's slightly simpler than that code and understanding this part of the code will help you complete this exercise.  You should make sure you understand how it works."
   ]
  },
  {
   "cell_type": "code",
   "execution_count": 8,
   "metadata": {},
   "outputs": [],
   "source": [
    "def cross(A, B):\n",
    "    \"\"\"\n",
    "    Cross product of elements in sequence A and elements in sequence B. \n",
    "    When a and b are strings, we just concatenate them.\n",
    "    \"\"\"\n",
    "    return [a+b for a in A for b in B]\n",
    "\n",
    "\n",
    "digits   = '123456789'\n",
    "rows     = 'ABCDEFGHI'\n",
    "cols     = digits\n",
    "squares  = cross(rows, cols)\n",
    "unitlist = ([cross(rows, c) for c in cols] +\n",
    "            [cross(r, cols) for r in rows] +\n",
    "            [cross(rs, cs) for rs in ('ABC','DEF','GHI') for cs in ('123','456','789')])\n",
    "\n",
    "# Assign to each square s A set of sets of squares\n",
    "units = dict((s, [u for u in unitlist if s in u])\n",
    "             for s in squares)\n",
    "## Assign to each square s a set of squares, namely those that cant have the same value as s.\n",
    "peers = dict((s, set(sum(units[s],[]))-set([s]))\n",
    "             for s in squares)\n",
    "\n",
    "\n",
    "def grid_values(grid):\n",
    "    \"Convert grid into a dict of {square: char} with '0' or '.' for empties.\"\n",
    "    chars = [c for c in grid if c in digits or c in '0.']\n",
    "    assert len(chars) == 81\n",
    "    return dict(list(zip(squares, chars)))\n",
    "\n",
    "digits   = '123456789'\n",
    "rows     = 'ABCDEFGHI'\n",
    "cols     = digits\n",
    "squares  = cross(rows, cols)\n",
    "unitlist = ([cross(rows, c) for c in cols] +\n",
    "            [cross(r, cols) for r in rows] +\n",
    "            [cross(rs, cs) for rs in ('ABC','DEF','GHI') for cs in ('123','456','789')])\n",
    "\n",
    "# Assign to each square s A set of sets of squares\n",
    "units = dict((s, [u for u in unitlist if s in u])\n",
    "             for s in squares)\n",
    "## Assign to each square s a set of squares, namely those that cant have the same value as s.\n",
    "peers = dict((s, set(sum(units[s],[]))-set([s]))\n",
    "             for s in squares)\n",
    "\n",
    "##############################################################################################\n",
    "#  S o m e    D a t a    t o    P r a c t i c e     O n\n",
    "##############################################################################################\n",
    "grid1  = '003020600900305001001806400008102900700000008006708200002609500800203009005010300'\n",
    "grid1_soln = '483921657967345821251876493548132976729564138136798245372689514814253769695417382'\n",
    "grid2  = '003020600900305001001806400008102900700000008006708200002689500800203009005010300'\n",
    "# Some illegal grids (they break the rules of Sudoku)\n",
    "grid3  = '003020600900305001001806400008102900700000008006708200002609500800203089005010300'\n",
    "grid4  = '003020609900305001001806400008102900700000008006708200002609500800203009005010300'\n",
    "grid5  = '003020600900305061001806400008102900700000008006708200002609500800203009005010300'"
   ]
  },
  {
   "cell_type": "markdown",
   "metadata": {},
   "source": [
    "The name `units` contains a dictionary, which contains square names as keys.  For any square `s`, `units[s]` is the three groups of squares that contain `s`'s peers.\n",
    "So `units['H8']` contains column 8, row H, and the box in the lower right hand part of the puzzle to which square `H8` belongs:"
   ]
  },
  {
   "cell_type": "code",
   "execution_count": 27,
   "metadata": {},
   "outputs": [
    {
     "data": {
      "text/plain": [
       "[['A8', 'B8', 'C8', 'D8', 'E8', 'F8', 'G8', 'H8', 'I8'],\n",
       " ['H1', 'H2', 'H3', 'H4', 'H5', 'H6', 'H7', 'H8', 'H9'],\n",
       " ['G7', 'G8', 'G9', 'H7', 'H8', 'H9', 'I7', 'I8', 'I9']]"
      ]
     },
     "execution_count": 27,
     "metadata": {},
     "output_type": "execute_result"
    }
   ],
   "source": [
    "units['H8']"
   ]
  },
  {
   "cell_type": "markdown",
   "metadata": {},
   "source": [
    "`peers` is a dictionary which is a little more convenient to use for this assignment. For each square `S`, `peers[S]` is the set of squares that cannot contain the same value as `S`.\n",
    "For example: "
   ]
  },
  {
   "cell_type": "code",
   "execution_count": 28,
   "metadata": {
    "scrolled": true
   },
   "outputs": [
    {
     "data": {
      "text/plain": [
       "{'A8',\n",
       " 'B8',\n",
       " 'C8',\n",
       " 'D8',\n",
       " 'E8',\n",
       " 'F8',\n",
       " 'G7',\n",
       " 'G8',\n",
       " 'G9',\n",
       " 'H1',\n",
       " 'H2',\n",
       " 'H3',\n",
       " 'H4',\n",
       " 'H5',\n",
       " 'H6',\n",
       " 'H7',\n",
       " 'H9',\n",
       " 'I7',\n",
       " 'I8',\n",
       " 'I9'}"
      ]
     },
     "execution_count": 28,
     "metadata": {},
     "output_type": "execute_result"
    }
   ],
   "source": [
    "peers['H8']"
   ]
  },
  {
   "cell_type": "markdown",
   "metadata": {},
   "source": [
    "`peers[\"H8\"]` is computed just by unioning together the three sets of squares in `units[H8]` and removing `H8`.  We use sets to remove duplicates, so `peers[\"H8\"]` contains exactly 20 squares."
   ]
  },
  {
   "cell_type": "markdown",
   "metadata": {},
   "source": [
    "In the first code cell in this section, we defined a sudoku puzzle grid we called `grid1`.  `grid1` is a legal grid, as we can see by displaying  it."
   ]
  },
  {
   "cell_type": "code",
   "execution_count": 9,
   "metadata": {
    "scrolled": true
   },
   "outputs": [
    {
     "name": "stdout",
     "output_type": "stream",
     "text": [
      ". . 3 |. 2 . |6 . . \n",
      "9 . . |3 . 5 |. . 1 \n",
      ". . 1 |8 . 6 |4 . . \n",
      "------+------+------\n",
      ". . 8 |1 . 2 |9 . . \n",
      "7 . . |. . . |. . 8 \n",
      ". . 6 |7 . 8 |2 . . \n",
      "------+------+------\n",
      ". . 2 |6 . 9 |5 . . \n",
      "8 . . |2 . 3 |. . 9 \n",
      ". . 5 |. 1 . |3 . . \n",
      "\n"
     ]
    }
   ],
   "source": [
    "display(grid_values(grid1))"
   ]
  },
  {
   "cell_type": "markdown",
   "metadata": {},
   "source": [
    "It will be useful to keep in mind something the `display` functions does.  `grid1` is s string.  `grid_values` converts that string into a dictionary, and `display` only works on the dictionary representation.  In solving this problem, you will find it convenient to work with the dictionary representation of a puzzle, just as the `display` function does."
   ]
  },
  {
   "cell_type": "code",
   "execution_count": 10,
   "metadata": {},
   "outputs": [
    {
     "name": "stdout",
     "output_type": "stream",
     "text": [
      "003020600900305001001806400008102900700000008006708200002609500800203009005010300\n",
      "{'A1': '0', 'A2': '0', 'A3': '3', 'A4': '0', 'A5': '2', 'A6': '0', 'A7': '6', 'A8': '0', 'A9': '0', 'B1': '9', 'B2': '0', 'B3': '0', 'B4': '3', 'B5': '0', 'B6': '5', 'B7': '0', 'B8': '0', 'B9': '1', 'C1': '0', 'C2': '0', 'C3': '1', 'C4': '8', 'C5': '0', 'C6': '6', 'C7': '4', 'C8': '0', 'C9': '0', 'D1': '0', 'D2': '0', 'D3': '8', 'D4': '1', 'D5': '0', 'D6': '2', 'D7': '9', 'D8': '0', 'D9': '0', 'E1': '7', 'E2': '0', 'E3': '0', 'E4': '0', 'E5': '0', 'E6': '0', 'E7': '0', 'E8': '0', 'E9': '8', 'F1': '0', 'F2': '0', 'F3': '6', 'F4': '7', 'F5': '0', 'F6': '8', 'F7': '2', 'F8': '0', 'F9': '0', 'G1': '0', 'G2': '0', 'G3': '2', 'G4': '6', 'G5': '0', 'G6': '9', 'G7': '5', 'G8': '0', 'G9': '0', 'H1': '8', 'H2': '0', 'H3': '0', 'H4': '2', 'H5': '0', 'H6': '3', 'H7': '0', 'H8': '0', 'H9': '9', 'I1': '0', 'I2': '0', 'I3': '5', 'I4': '0', 'I5': '1', 'I6': '0', 'I7': '3', 'I8': '0', 'I9': '0'}\n"
     ]
    }
   ],
   "source": [
    "print(grid1)\n",
    "print(grid_values(grid1))"
   ]
  },
  {
   "cell_type": "markdown",
   "metadata": {},
   "source": [
    "`grid2` Is the same as `grid1` but we have added an `8` to row `G`. `grid2` is also a legal grid."
   ]
  },
  {
   "cell_type": "code",
   "execution_count": 11,
   "metadata": {},
   "outputs": [
    {
     "name": "stdout",
     "output_type": "stream",
     "text": [
      ". . 3 |. 2 . |6 . . \n",
      "9 . . |3 . 5 |. . 1 \n",
      ". . 1 |8 . 6 |4 . . \n",
      "------+------+------\n",
      ". . 8 |1 . 2 |9 . . \n",
      "7 . . |. . . |. . 8 \n",
      ". . 6 |7 . 8 |2 . . \n",
      "------+------+------\n",
      ". . 2 |6 8 9 |5 . . \n",
      "8 . . |2 . 3 |. . 9 \n",
      ". . 5 |. 1 . |3 . . \n",
      "\n"
     ]
    }
   ],
   "source": [
    "display(grid_values(grid2))"
   ]
  },
  {
   "cell_type": "markdown",
   "metadata": {},
   "source": [
    "However `grid3` is illegal.  There are 2 8's in row `H`."
   ]
  },
  {
   "cell_type": "code",
   "execution_count": 12,
   "metadata": {
    "scrolled": false
   },
   "outputs": [
    {
     "name": "stdout",
     "output_type": "stream",
     "text": [
      ". . 3 |. 2 . |6 . . \n",
      "9 . . |3 . 5 |. . 1 \n",
      ". . 1 |8 . 6 |4 . . \n",
      "------+------+------\n",
      ". . 8 |1 . 2 |9 . . \n",
      "7 . . |. . . |. . 8 \n",
      ". . 6 |7 . 8 |2 . . \n",
      "------+------+------\n",
      ". . 2 |6 . 9 |5 . . \n",
      "8 . . |2 . 3 |. 8 9 \n",
      ". . 5 |. 1 . |3 . . \n",
      "\n"
     ]
    }
   ],
   "source": [
    "display(grid_values(grid3))"
   ]
  },
  {
   "cell_type": "markdown",
   "metadata": {},
   "source": [
    "`grid4` is also illegal.  There are 2 9's in the last column."
   ]
  },
  {
   "cell_type": "code",
   "execution_count": 13,
   "metadata": {
    "scrolled": true
   },
   "outputs": [
    {
     "name": "stdout",
     "output_type": "stream",
     "text": [
      ". . 3 |. 2 . |6 . 9 \n",
      "9 . . |3 . 5 |. . 1 \n",
      ". . 1 |8 . 6 |4 . . \n",
      "------+------+------\n",
      ". . 8 |1 . 2 |9 . . \n",
      "7 . . |. . . |. . 8 \n",
      ". . 6 |7 . 8 |2 . . \n",
      "------+------+------\n",
      ". . 2 |6 . 9 |5 . . \n",
      "8 . . |2 . 3 |. . 9 \n",
      ". . 5 |. 1 . |3 . . \n",
      "\n"
     ]
    }
   ],
   "source": [
    "display(grid_values(grid4))"
   ]
  },
  {
   "cell_type": "markdown",
   "metadata": {},
   "source": [
    "`grid5` is illegal because there are two 6's in the upper right hand box."
   ]
  },
  {
   "cell_type": "code",
   "execution_count": 14,
   "metadata": {},
   "outputs": [
    {
     "name": "stdout",
     "output_type": "stream",
     "text": [
      ". . 3 |. 2 . |6 . . \n",
      "9 . . |3 . 5 |. 6 1 \n",
      ". . 1 |8 . 6 |4 . . \n",
      "------+------+------\n",
      ". . 8 |1 . 2 |9 . . \n",
      "7 . . |. . . |. . 8 \n",
      ". . 6 |7 . 8 |2 . . \n",
      "------+------+------\n",
      ". . 2 |6 . 9 |5 . . \n",
      "8 . . |2 . 3 |. . 9 \n",
      ". . 5 |. 1 . |3 . . \n",
      "\n"
     ]
    }
   ],
   "source": [
    "display(grid_values(grid5))"
   ]
  },
  {
   "cell_type": "markdown",
   "metadata": {},
   "source": [
    "Your assignment is to write a function that will print out `Invalid` if the grid that is\n",
    "passed in as an argument is illegal and will print out `Valid` if the grid is legal.  It should work as follows:\n",
    "\n",
    "```\n",
    "test(grid_values(grid1))\n",
    "test(grid_values(grid2))\n",
    "test(grid_values(grid3))\n",
    "test(grid_values(grid4))\n",
    "test(grid_values(grid5))\n",
    "```\n",
    "\n",
    "When you finish your code and execute the lines above, the following should print out:\n",
    "\n",
    "```\n",
    "   Valid!\n",
    "   Valid!\n",
    "   Invalid!\n",
    "   Invalid!\n",
    "   Invalid!\n",
    "```"
   ]
  },
  {
   "cell_type": "markdown",
   "metadata": {
    "collapsed": true
   },
   "source": [
    "### Some hints"
   ]
  },
  {
   "cell_type": "markdown",
   "metadata": {},
   "source": [
    "1.  The way to test if a grid is valid is to check each unit in `unitlist` to see if \n",
    "    any of the squares in that unit have duplicates.  There are 27 units to check,\n",
    "    9 rows, 9 columns, and 9 boxes.  \n",
    "    \n",
    "    So your code will begin\n",
    "        \n",
    "    ```\n",
    "    def test(grid):\n",
    "        for u in unitlist:\n",
    "            [your code checking if the filled squares in u contain any duplicates]\n",
    "    ```\n",
    " "
   ]
  },
  {
   "cell_type": "markdown",
   "metadata": {},
   "source": [
    "                 \n",
    "2.  Keep in mind that `grid` is a dictionary whose keys are names of\n",
    "    squares (strings) and whose values are the numbers filling the squares.  You will be\n",
    "    checking on the equality of **values**.  The way to  get the value of a square `s` is\n",
    "    `grid[s]`.  If your code never mentions `grid`, there's something seriously wrong.\n",
    " \n",
    "3.  So now your code begins:\n",
    "    \n",
    "       ```\n",
    "        def test(grid):\n",
    "               for u in units:\n",
    "                    vals = [your code for getting all the VALUES of the FILLED squares in u]\n",
    "                    if [your test that vals contains any duplicates]:\n",
    "                        [your code for what to do.  You've just discovered the grid is invalid!]\n",
    "       ```\n",
    "    The reason it says the values of the FILLED squares is that you need to ignore blank squares.  \n",
    "    So in collecting the values of the squares in `u` (line beginning `vals =`) you need to filter out the \n",
    "    blank squares. You can assume a blank square contains the **string** `\"0\"`, so your test is that square is filled is that its value is **not** equal to `\"0\"`.  The Python test for checking that `X` is not  equal to `Y` is\n",
    "    \n",
    "        ```\n",
    "        X != Y\n",
    "        ```\n",
    "        \n",
    "    This evaluates to `True` when `X` and `Y` are not equal.  In sum, the line beginning `vals =` can be\n",
    "    a simple list comprehension which loops through the squares of `u` collecting values and filtering out empty squares.\n",
    "    \n",
    "    Checking that a list of things contains no duplicates can send you down rabbitholes. That's not\n",
    "    really the purpose of this exercise.  As a hint to one way to do this,  consider that `set(L)`\n",
    "    will remove the duplicates of `L`.  Now use that fact to write a line of Python that tests \n",
    "    whether `L` has duplicates.\n",
    "\n",
    "4.  The way to print 'Invalid!' only once once you have found a bad square\n",
    "    is to print it and stop executing the function at once after you print. That can be \n",
    "    done as follows:\n",
    "    \n",
    "       ```\n",
    "       print (\"Invalid!\")\n",
    "       return\n",
    "       ```\n",
    "5.  You also need to print(\"Valid!\") when you are finally sure the grid is valid.  You are being\n",
    "    left to figure how to strategically place that `print` command so that it only executes\n",
    "    when appropriate."
   ]
  },
  {
   "cell_type": "markdown",
   "metadata": {},
   "source": [
    "Retrieving the value of a square:"
   ]
  },
  {
   "cell_type": "code",
   "execution_count": 24,
   "metadata": {},
   "outputs": [
    {
     "data": {
      "text/plain": [
       "'3'"
      ]
     },
     "execution_count": 24,
     "metadata": {},
     "output_type": "execute_result"
    }
   ],
   "source": [
    "pdict = grid_values(grid5)\n",
    "pdict['A3']"
   ]
  },
  {
   "cell_type": "markdown",
   "metadata": {},
   "source": [
    "Retrieving the value of an empty square:"
   ]
  },
  {
   "cell_type": "code",
   "execution_count": 25,
   "metadata": {},
   "outputs": [
    {
     "data": {
      "text/plain": [
       "'0'"
      ]
     },
     "execution_count": 25,
     "metadata": {},
     "output_type": "execute_result"
    }
   ],
   "source": [
    "pdict['A1']"
   ]
  },
  {
   "cell_type": "code",
   "execution_count": 21,
   "metadata": {},
   "outputs": [],
   "source": [
    "def test(grid):\n",
    "    # Your code goes here"
   ]
  },
  {
   "cell_type": "markdown",
   "metadata": {},
   "source": [
    "Here is the cell to use to test your code.  Note:  It's just as important that your function prints\n",
    "'Valid!' for valid grids as it is that it prints 'Invalid!' for invalid ones."
   ]
  },
  {
   "cell_type": "code",
   "execution_count": 27,
   "metadata": {},
   "outputs": [
    {
     "name": "stdout",
     "output_type": "stream",
     "text": [
      "Valid!\n",
      "Valid!\n",
      "Invalid!\n",
      "Invalid!\n",
      "Invalid!\n"
     ]
    }
   ],
   "source": [
    "\n",
    "pdict1 = grid_values(grid1)  # Valid\n",
    "pdict2 = grid_values(grid2)  # Valid\n",
    "pdict3 = grid_values(grid3)  # Invalid\n",
    "pdict4 = grid_values(grid4)  # Invalid\n",
    "pdict5 = grid_values(grid5)  # Invalid\n",
    "test(pdict1)\n",
    "test(pdict2)\n",
    "test(pdict3)\n",
    "test(pdict4)\n",
    "test(pdict5)"
   ]
  },
  {
   "cell_type": "code",
   "execution_count": null,
   "metadata": {},
   "outputs": [],
   "source": []
  }
 ],
 "metadata": {
  "kernelspec": {
   "display_name": "Python 3",
   "language": "python",
   "name": "python3"
  },
  "language_info": {
   "codemirror_mode": {
    "name": "ipython",
    "version": 3
   },
   "file_extension": ".py",
   "mimetype": "text/x-python",
   "name": "python",
   "nbconvert_exporter": "python",
   "pygments_lexer": "ipython3",
   "version": "3.8.5"
  },
  "toc": {
   "base_numbering": 1,
   "nav_menu": {
    "height": "310px",
    "width": "252px"
   },
   "number_sections": true,
   "sideBar": true,
   "skip_h1_title": false,
   "title_cell": "Table of Contents",
   "title_sidebar": "Contents",
   "toc_cell": false,
   "toc_position": {},
   "toc_section_display": "block",
   "toc_window_display": false
  }
 },
 "nbformat": 4,
 "nbformat_minor": 1
}
