{
 "cells": [
  {
   "cell_type": "markdown",
   "metadata": {},
   "source": [
    "## From scratch.  To make an \"A\" array."
   ]
  },
  {
   "cell_type": "markdown",
   "metadata": {},
   "source": [
    "Create the image by loading a fint file and rendering a letter."
   ]
  },
  {
   "cell_type": "code",
   "execution_count": 9,
   "metadata": {},
   "outputs": [],
   "source": [
    "from PIL import ImageDraw,Image,ImageFont\n",
    "import numpy as np\n",
    "\n",
    "def make_text_image_array(unicode_text, font_file=None,font_dir= r'/Library/Fonts/',\n",
    "                          font_family='Arial', font_type = 'ttf',\n",
    "                          sz=48,w_marg=40,h_marg=40):\n",
    "    if font_file is None:\n",
    "        base = r'{font_family} Unicode.{font_type}'\n",
    "        font_file = os.path.join(font_dir, base)\n",
    "    font = ImageFont.truetype(font_file, sz, encoding=\"unic\")\n",
    "    text_width, text_height = font.getsize(unicode_text)\n",
    "    canvas = Image.new('RGB', (text_width + 20, text_height + 20), \"white\")\n",
    "    # Make an artist instance linked to that canvass\n",
    "    draw = ImageDraw.Draw(canvas)\n",
    "    draw.text((10,10), unicode_text, 'blue', font)    \n",
    "    img_arr = np.array(canvas.im)\n",
    "    (width,height) = canvas.size\n",
    "    # Transposing gives inverted letter\n",
    "    return img_arr[:,0].reshape(height,width).T\n",
    "\n",
    "def img_array_to_coords(img_array, xdelta = -10, ydelta=60):\n",
    "    \"\"\"\n",
    "    Convert to coords.\n",
    "    \n",
    "    Reflect the image on the X-axis (because the letter will be inmverted).\n",
    "    \n",
    "    Add enough delta to bring the entire letter above the X axis.\n",
    "    \"\"\"\n",
    "    (r,c) = img_array.shape\n",
    "    # 255 = white.  Get the coords of the non white pixels\n",
    "    coords = [(i,j) for i in range (r) for j in range(c) if img_array[i,j] < 255]\n",
    "    xvals,yvals = zip(*coords)\n",
    "    #xvals,yvals = np.array(xvals)+xdelta,np.array(yvals)+ydelta\n",
    "    #  We subtract the ydeltas because we're doing this BEFORE the reflection\n",
    "    #  A positive ydelta WILL turn into an upward movement after reflection\n",
    "    U = np.vstack([np.array(xvals)+xdelta,np.array(yvals)-ydelta])\n",
    "    # Reflection transformation: reflect on X-axis to get rightside up A\n",
    "    Rf = np.array([[1,0],[0,-1]])\n",
    "   \n",
    "    return Rf.dot(U) #+ delta\n",
    " "
   ]
  },
  {
   "cell_type": "markdown",
   "metadata": {},
   "source": [
    "Make the image into an array"
   ]
  },
  {
   "cell_type": "code",
   "execution_count": 37,
   "metadata": {},
   "outputs": [],
   "source": [
    "import os.path\n",
    "\n",
    "font_dir = r'/Library/Fonts/'\n",
    "font_file = os.path.join(font_dir, 'Arial Unicode.ttf')\n",
    "unicode_text, sz, w_marg, h_marg= 'B', 48, 40, 40\n",
    "img_arr = make_text_image_array(unicode_text, font_file, sz=sz,w_marg=w_marg,h_marg=h_marg)\n",
    "V = img_array_to_coords(img_arr)"
   ]
  },
  {
   "cell_type": "markdown",
   "metadata": {},
   "source": [
    "Plot the image defined by the array by extracting the pixel coords of\n",
    "the non white points."
   ]
  },
  {
   "cell_type": "code",
   "execution_count": 38,
   "metadata": {},
   "outputs": [
    {
     "data": {
      "text/plain": [
       "<matplotlib.collections.PathCollection at 0x7f90636bd350>"
      ]
     },
     "execution_count": 38,
     "metadata": {},
     "output_type": "execute_result"
    },
    {
     "data": {
      "image/png": "[encoded data removed]",
      "text/plain": [
       "<Figure size 360x360 with 1 Axes>"
      ]
     },
     "metadata": {
      "needs_background": "light"
     },
     "output_type": "display_data"
    }
   ],
   "source": [
    "from matplotlib import pyplot as plt\n",
    "\n",
    "fig, ax = plt.subplots(1, 1, figsize = (5,5),)\n",
    "ax.scatter(V[0,:], V[1,:])"
   ]
  },
  {
   "cell_type": "markdown",
   "metadata": {},
   "source": [
    "## Alternative way"
   ]
  },
  {
   "cell_type": "markdown",
   "metadata": {},
   "source": [
    "This requires saving an image file and restoring as PIL imgae."
   ]
  },
  {
   "cell_type": "code",
   "execution_count": 18,
   "metadata": {},
   "outputs": [],
   "source": [
    "import numpy as np\n",
    "from PIL import ImageDraw,Image,ImageFont\n",
    "\n",
    "def alt_make_text_image_array(unicode_text, font_file=None,font_dir= r'/Library/Fonts/',\n",
    "                          font_family='Arial', font_type = 'ttf',\n",
    "                          sz=48,w_marg=40,h_marg=40,save_file='test.png'):\n",
    "    if font_file is None:\n",
    "        base = r'{font_family} Unicode.{font_type}'\n",
    "        font_file = os.path.join(font_dir, base)\n",
    "    font = ImageFont.truetype(font_file, sz, encoding=\"unic\")\n",
    "    text_width, text_height = font.getsize(unicode_text)\n",
    "    canvas = Image.new('RGB', (text_width + 20, text_height + 20), \"white\")\n",
    "    # Make an artist instance linked to that canvass\n",
    "    draw = ImageDraw.Draw(canvas)\n",
    "    draw.text((10,10), unicode_text, 'blue', font) \n",
    "    canvas.save(save_file)\n",
    "    img_array = np.array(Image.open(save_file))\n",
    "    return img_array[:,:,0].T\n",
    " "
   ]
  },
  {
   "cell_type": "code",
   "execution_count": 19,
   "metadata": {},
   "outputs": [],
   "source": [
    "import os.path\n",
    "\n",
    "font_dir = r'/Library/Fonts/'\n",
    "font_file = os.path.join(font_dir, 'Arial Unicode.ttf')\n",
    "unicode_text, sz, w_marg, h_marg= 'B', 48, 40, 40\n",
    "A_img = alt_make_text_image_array(unicode_text, font_file, sz=sz,w_marg=w_marg,h_marg=h_marg)\n",
    "V = img_array_to_coords(A_img)"
   ]
  },
  {
   "cell_type": "code",
   "execution_count": 20,
   "metadata": {},
   "outputs": [
    {
     "data": {
      "text/plain": [
       "<matplotlib.collections.PathCollection at 0x7ff78e3d8590>"
      ]
     },
     "execution_count": 20,
     "metadata": {},
     "output_type": "execute_result"
    },
    {
     "data": {
      "image/png": "[encoded data removed]",
      "text/plain": [
       "<Figure size 360x360 with 1 Axes>"
      ]
     },
     "metadata": {
      "needs_background": "light"
     },
     "output_type": "display_data"
    }
   ],
   "source": [
    "from matplotlib import pyplot as plt\n",
    "\n",
    "fig, ax = plt.subplots(1, 1, figsize = (5,5),)\n",
    "ax.scatter(V[0,:], V[1,:])"
   ]
  },
  {
   "cell_type": "markdown",
   "metadata": {},
   "source": [
    "## Linear Mappings on the image"
   ]
  },
  {
   "cell_type": "code",
   "execution_count": 22,
   "metadata": {},
   "outputs": [],
   "source": [
    "def plot_mapping (X,Y, LX, LY, name = 'L',figsize=(10,5),just_one_axis=False):\n",
    "    \"\"\"\n",
    "    X: A an array of the X vals to be mapped, Y: an array of the Y vals.\n",
    "    \n",
    "    LX, LY the same for the mapped points.\n",
    "    \n",
    "    Gives a 1 x 2 display; show the input points next to their mapping.\n",
    "    \n",
    "    \n",
    "    \"\"\"\n",
    "    if just_one_axis:\n",
    "        fig, ax1 = plt.subplots(1, 1, figsize = figsize)\n",
    "        ax2 = ax1\n",
    "        ax1.set_title('Before and After {0}'.format(name))\n",
    "    else:\n",
    "        fig, (ax1, ax2) = plt.subplots(1, 2, figsize = figsize,\n",
    "                                    sharey=True,sharex=True)\n",
    "        ax1.set_title('Before {0}'.format(name))\n",
    "        ax2.set_title('After {0}'.format(name))\n",
    "    ax1.scatter(X,Y)\n",
    "    ax2.scatter(LX,LY)\n",
    "\n",
    "def rotation_matrix (theta):\n",
    "    return np.array([[np.cos(theta),-np.sin(theta)],[np.sin(theta),np.cos(theta)]])\n",
    "\n",
    "\n",
    "def reflection_matrix (theta):\n",
    "    \"\"\"\n",
    "    If R_{\\theta} is rotation by theta and T_{x} is reflection across the x-axis, then reflection is\n",
    "    \n",
    "    R_{\\theta} T_{x}  R_{-\\theta}\n",
    "    \n",
    "    Once the matrix multiplications for these three transformations are carried out, this turns\n",
    "    out to be equivalent to the following matrix.\n",
    "    \"\"\"\n",
    "    two_theta = 2*theta\n",
    "    cos_two_theta,sin_two_theta = np.cos(two_theta),np.sin(two_theta)\n",
    "    return np.array([[cos_two_theta,sin_two_theta],[sin_two_theta, - cos_two_theta]])\n",
    "\n",
    "def make_meshgrid (xmin=0, xmax=1, ymin=0, ymax=1, nx=25, ny=25):\n",
    "\n",
    "    \"\"\"\n",
    "    Makes a grid (a numpy 2D array).  Default: 25x25 (=625) grid \n",
    "    points.\n",
    "    \n",
    "    default values for xmin,xmax,ymin,ymax give unit square.\n",
    "    \"\"\"\n",
    "    x,y = np.linspace(xmin, xmax, nx), np.linspace(ymin, ymax, ny)\n",
    "    # Return A pair: Xcoords,Ycoords of all points in the grid\n",
    "    return np.meshgrid(x, y)\n"
   ]
  },
  {
   "cell_type": "code",
   "execution_count": 25,
   "metadata": {},
   "outputs": [
    {
     "data": {
      "image/png": "[encoded data removed]",
      "text/plain": [
       "<Figure size 720x360 with 2 Axes>"
      ]
     },
     "metadata": {
      "needs_background": "light"
     },
     "output_type": "display_data"
    }
   ],
   "source": [
    "L = np.array([[3.5,1],[1,3.5]])\n",
    "xvals, yvals = make_meshgrid (xmin=0,xmax=2,ymin=0,ymax = 1,nx =50)\n",
    "U = np.vstack([np.ravel(xvals),np.ravel(yvals)])\n",
    "V = L.dot(U)\n",
    "plot_mapping (xvals, yvals, V[0,:], V[1,:])"
   ]
  },
  {
   "cell_type": "code",
   "execution_count": 86,
   "metadata": {
    "scrolled": true
   },
   "outputs": [
    {
     "data": {
      "image/png": "[encoded data removed]",
      "text/plain": [
       "<Figure size 720x360 with 2 Axes>"
      ]
     },
     "metadata": {
      "needs_background": "light"
     },
     "output_type": "display_data"
    }
   ],
   "source": [
    "theta = np.pi/4\n",
    "R = rotation_matrix(theta)\n",
    "U = np.vstack([np.ravel(xvals),np.ravel(yvals)])\n",
    "V = R.dot(U)\n",
    "#V2 = R.dot(V)\n",
    "plot_mapping (xvals, yvals, V[0,:], V[1,:])\n",
    "#plot_mapping (V[0,:], V[1,:],V2[0,:],V2[1,:])"
   ]
  },
  {
   "cell_type": "code",
   "execution_count": 98,
   "metadata": {},
   "outputs": [
    {
     "data": {
      "image/png": "[encoded data removed]",
      "text/plain": [
       "<Figure size 360x720 with 1 Axes>"
      ]
     },
     "metadata": {
      "needs_background": "light"
     },
     "output_type": "display_data"
    }
   ],
   "source": [
    "theta = np.pi\n",
    "Rf = reflection_matrix(theta)\n",
    "U = np.vstack([np.ravel(xvals),np.ravel(yvals)])\n",
    "Vr = Rf.dot(U)\n",
    "plot_mapping (xvals, yvals, Vr[0,:], Vr[1,:],figsize=(5,10),just_one_axis=True)"
   ]
  },
  {
   "cell_type": "markdown",
   "metadata": {},
   "source": [
    "## Working on a pre-existing image"
   ]
  },
  {
   "cell_type": "code",
   "execution_count": 10,
   "metadata": {},
   "outputs": [],
   "source": [
    "from PIL import ImageDraw,Image,ImageFont\n",
    "# Will work on a Mac (but check this filepath)\n",
    "font_file = r'/Library/Fonts/Arial Unicode.ttf'\n",
    "font = ImageFont.truetype(font_file,70)\n",
    "fn =  '1200px-Rtriangle.svg.png'\n",
    "image = Image.open(f'/Users/gawron/Desktop/{fn}')\n",
    "draw = ImageDraw.Draw(image) \n",
    "unicode_text = u\"SMILE WORLD!\" \n",
    "draw.text((10, 20), unicode_text, font = font) \n",
    "image.show()"
   ]
  },
  {
   "cell_type": "code",
   "execution_count": null,
   "metadata": {},
   "outputs": [],
   "source": []
  }
 ],
 "metadata": {
  "kernelspec": {
   "display_name": "Python 3",
   "language": "python",
   "name": "python3"
  },
  "language_info": {
   "codemirror_mode": {
    "name": "ipython",
    "version": 3
   },
   "file_extension": ".py",
   "mimetype": "text/x-python",
   "name": "python",
   "nbconvert_exporter": "python",
   "pygments_lexer": "ipython3",
   "version": "3.7.6"
  }
 },
 "nbformat": 4,
 "nbformat_minor": 4
}
