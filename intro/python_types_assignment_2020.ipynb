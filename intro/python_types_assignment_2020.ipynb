{
  "nbformat": 4,
  "nbformat_minor": 0,
  "metadata": {
    "kernelspec": {
      "display_name": "Python 3",
      "language": "python",
      "name": "python3"
    },
    "language_info": {
      "codemirror_mode": {
        "name": "ipython",
        "version": 3
      },
      "file_extension": ".py",
      "mimetype": "text/x-python",
      "name": "python",
      "nbconvert_exporter": "python",
      "pygments_lexer": "ipython3",
      "version": "3.7.6"
    },
    "toc": {
      "base_numbering": 1,
      "nav_menu": {
        "height": "67px",
        "width": "252px"
      },
      "number_sections": true,
      "sideBar": true,
      "skip_h1_title": false,
      "title_cell": "Table of Contents",
      "title_sidebar": "Contents",
      "toc_cell": false,
      "toc_position": {},
      "toc_section_display": "block",
      "toc_window_display": false
    },
    "colab": {
      "name": "python_types_assignment_2020.ipynb",
      "provenance": []
    }
  },
  "cells": [
    {
      "cell_type": "markdown",
      "metadata": {
        "id": "ZIBX7u_RW74U",
        "colab_type": "text"
      },
      "source": [
        "# Python Types Assignment 2020"
      ]
    },
    {
      "cell_type": "markdown",
      "metadata": {
        "id": "nIt_8QZrW74V",
        "colab_type": "text"
      },
      "source": [
        "Name/RedID:"
      ]
    },
    {
      "cell_type": "markdown",
      "metadata": {
        "id": "_3Sm1M10W74W",
        "colab_type": "text"
      },
      "source": [
        "## Part One"
      ]
    },
    {
      "cell_type": "markdown",
      "metadata": {
        "id": "kWYWYfMiW74W",
        "colab_type": "text"
      },
      "source": [
        "For the problems in Part One, assume all the definitions in the next cell, and check your answers by evaluating the next cell and verifying that your answers give the required results."
      ]
    },
    {
      "cell_type": "code",
      "metadata": {
        "id": "19mvC4k2W74X",
        "colab_type": "code",
        "colab": {}
      },
      "source": [
        "friends_network = {'susan': {'alex': 8, 'louis': 5, 'plato': 1, 'giuseppe':3},\n",
        "                   'alex': {'louis': 5, 'susan': 3, 'giuseppe':3},\n",
        "                   'louis': {'alex': 4, 'plato': 4, },\n",
        "                   'plato': { 'louis': 8,  'giuseppe':2, 'susan': 2},\n",
        "                   'giuseppe' : {}\n",
        "                  }\n",
        "language_decade_pairs = [ ('50s', 'fortran'), ('60s', 'pascal'), ('70s', 'C'),  ('80s', 'C++'),\n",
        "                          ('90s', 'java'), ('00s', 'perl'), ('10s', 'python')]\n",
        "dominant_computer_languages = dict(language_decade_pairs)\n",
        "awards = ('grammy', 'emmy', 'pulitzer','hugo','baseball_mvp','edgar', 'nobel_prize','oscar')\n",
        "secret_word = \"White House\"\n",
        "personnel_files = [{'name':'Fred Flinstone',\n",
        "                     'spouse': 'Wilma',\n",
        "                      'town of residence': 'Bedrock'},\n",
        "                    {'name':'Barney Rubble',\n",
        "                     'spouse': 'Betty',\n",
        "                      'town of residence': 'Bedrock'},\n",
        "                  ]"
      ],
      "execution_count": null,
      "outputs": []
    },
    {
      "cell_type": "markdown",
      "metadata": {
        "id": "ipI_NV8pW74b",
        "colab_type": "text"
      },
      "source": [
        "In the problems below,  when you are asked to write an expression that \"accesses\". a particular name, that means your answer should **use** that name.  For if asked:\n",
        "\n",
        "\n",
        "   Write an expression that accesses `awards` and return the value `'baseball_mvp'`.\n",
        "\n",
        "\n",
        "You might answer:\n",
        "\n",
        "```\n",
        "awards[4]\n",
        "```\n",
        "\n",
        "because that is an expression that uses the name `awards` and returns the value\n",
        "`\"baseball_mvp\"`, as illustrated in the next cell."
      ]
    },
    {
      "cell_type": "code",
      "metadata": {
        "id": "PLZS5ol9W74c",
        "colab_type": "code",
        "colab": {},
        "outputId": "89c6142b-4770-4c1e-e9d6-5f16d17ec41c"
      },
      "source": [
        "awards[4]"
      ],
      "execution_count": null,
      "outputs": [
        {
          "output_type": "execute_result",
          "data": {
            "text/plain": [
              "'baseball_mvp'"
            ]
          },
          "metadata": {
            "tags": []
          },
          "execution_count": 2
        }
      ]
    },
    {
      "cell_type": "markdown",
      "metadata": {
        "id": "-SdNV4DNW74i",
        "colab_type": "text"
      },
      "source": [
        "In the next cell, write expression that accesses `awards` and returns the value `\"pulitzer\"`."
      ]
    },
    {
      "cell_type": "code",
      "metadata": {
        "id": "Ic5AnNKuW74j",
        "colab_type": "code",
        "colab": {}
      },
      "source": [
        ""
      ],
      "execution_count": null,
      "outputs": []
    },
    {
      "cell_type": "markdown",
      "metadata": {
        "id": "nrb4FrpQW74m",
        "colab_type": "text"
      },
      "source": [
        " "
      ]
    },
    {
      "cell_type": "markdown",
      "metadata": {
        "id": "gyonsXZjW74m",
        "colab_type": "text"
      },
      "source": [
        "In the next cell, write an expression that accesses `secret_words` and returns the value `\"H\"\n",
        "`."
      ]
    },
    {
      "cell_type": "code",
      "metadata": {
        "id": "dLKwzgMKW74n",
        "colab_type": "code",
        "colab": {},
        "outputId": "110e6599-5bd7-47af-e9cd-072fe25d06c4"
      },
      "source": [
        ""
      ],
      "execution_count": null,
      "outputs": [
        {
          "output_type": "execute_result",
          "data": {
            "text/plain": [
              "'H'"
            ]
          },
          "metadata": {
            "tags": []
          },
          "execution_count": 4
        }
      ]
    },
    {
      "cell_type": "markdown",
      "metadata": {
        "id": "SqgeJc1jW74p",
        "colab_type": "text"
      },
      "source": [
        " "
      ]
    },
    {
      "cell_type": "markdown",
      "metadata": {
        "id": "IFmMMNrVW74q",
        "colab_type": "text"
      },
      "source": [
        "In the next cell, write an expression that accesses `awards` and produces an `IndexError`.  Try to make the index you use to access `awards` as small as possible."
      ]
    },
    {
      "cell_type": "code",
      "metadata": {
        "scrolled": true,
        "id": "DC5oXusOW74r",
        "colab_type": "code",
        "colab": {}
      },
      "source": [
        ""
      ],
      "execution_count": null,
      "outputs": []
    },
    {
      "cell_type": "markdown",
      "metadata": {
        "id": "SRhYiXRJW74t",
        "colab_type": "text"
      },
      "source": [
        "In the next cell, write an expression that accesses `awards` and returns `\"oscar\"`.  There is more than one answer.  See if you can find two."
      ]
    },
    {
      "cell_type": "code",
      "metadata": {
        "id": "sb81tMbDW74u",
        "colab_type": "code",
        "colab": {},
        "outputId": "071b430e-a70d-4e89-b892-f8429f3f7c47"
      },
      "source": [
        ""
      ],
      "execution_count": null,
      "outputs": [
        {
          "output_type": "execute_result",
          "data": {
            "text/plain": [
              "'oscar'"
            ]
          },
          "metadata": {
            "tags": []
          },
          "execution_count": 6
        }
      ]
    },
    {
      "cell_type": "markdown",
      "metadata": {
        "id": "Yd_mC2AHW74w",
        "colab_type": "text"
      },
      "source": [
        " In the next cell, write an expression that accesses `awards` and returns `\"s\"`. "
      ]
    },
    {
      "cell_type": "code",
      "metadata": {
        "id": "tRmFvB_8W74x",
        "colab_type": "code",
        "colab": {},
        "outputId": "a6465e2f-f441-4180-af3a-2fcc595b62a4"
      },
      "source": [
        "awards[4][2]"
      ],
      "execution_count": null,
      "outputs": [
        {
          "output_type": "execute_result",
          "data": {
            "text/plain": [
              "'s'"
            ]
          },
          "metadata": {
            "tags": []
          },
          "execution_count": 3
        }
      ]
    },
    {
      "cell_type": "markdown",
      "metadata": {
        "id": "0c5-_POaW74z",
        "colab_type": "text"
      },
      "source": [
        " "
      ]
    },
    {
      "cell_type": "markdown",
      "metadata": {
        "id": "TyoTDs0_W740",
        "colab_type": "text"
      },
      "source": [
        "Explain what happens  when the following expression is evaluated.  Edit it to be an expression that returns `\"n\"`."
      ]
    },
    {
      "cell_type": "code",
      "metadata": {
        "id": "jwYjbhIcW740",
        "colab_type": "code",
        "colab": {},
        "outputId": "97b85bc1-dede-4790-f7eb-2c2f6868213e"
      },
      "source": [
        "awards[6]['n']"
      ],
      "execution_count": null,
      "outputs": [
        {
          "output_type": "error",
          "ename": "TypeError",
          "evalue": "string indices must be integers",
          "traceback": [
            "\u001b[0;31m---------------------------------------------------------------------------\u001b[0m",
            "\u001b[0;31mTypeError\u001b[0m                                 Traceback (most recent call last)",
            "\u001b[0;32m<ipython-input-8-f360eac5cd2a>\u001b[0m in \u001b[0;36m<module>\u001b[0;34m()\u001b[0m\n\u001b[0;32m----> 1\u001b[0;31m \u001b[0mawards\u001b[0m\u001b[0;34m[\u001b[0m\u001b[0;36m2\u001b[0m\u001b[0;34m]\u001b[0m\u001b[0;34m[\u001b[0m\u001b[0;34m'n'\u001b[0m\u001b[0;34m]\u001b[0m\u001b[0;34m\u001b[0m\u001b[0m\n\u001b[0m",
            "\u001b[0;31mTypeError\u001b[0m: string indices must be integers"
          ]
        }
      ]
    },
    {
      "cell_type": "markdown",
      "metadata": {
        "id": "VabiRPzPW743",
        "colab_type": "text"
      },
      "source": [
        " "
      ]
    },
    {
      "cell_type": "markdown",
      "metadata": {
        "id": "GyNmzb8iW743",
        "colab_type": "text"
      },
      "source": [
        "In the next cell, write an expression that accesses `awards[2]` and returns `True`. "
      ]
    },
    {
      "cell_type": "code",
      "metadata": {
        "id": "S5ObRPoaW744",
        "colab_type": "code",
        "colab": {},
        "outputId": "e8c5adb6-1044-4a86-e65f-ec7c117689db"
      },
      "source": [
        ""
      ],
      "execution_count": null,
      "outputs": [
        {
          "output_type": "execute_result",
          "data": {
            "text/plain": [
              "True"
            ]
          },
          "metadata": {
            "tags": []
          },
          "execution_count": 9
        }
      ]
    },
    {
      "cell_type": "markdown",
      "metadata": {
        "id": "BHPox3R5W747",
        "colab_type": "text"
      },
      "source": [
        " "
      ]
    },
    {
      "cell_type": "markdown",
      "metadata": {
        "id": "MTSVrHjiW747",
        "colab_type": "text"
      },
      "source": [
        "In the next cell, write an expression that accesses `language_decade_pairs` and raises\n",
        "a `TypeError`."
      ]
    },
    {
      "cell_type": "code",
      "metadata": {
        "id": "dQlgKSz1W748",
        "colab_type": "code",
        "colab": {}
      },
      "source": [
        ""
      ],
      "execution_count": null,
      "outputs": []
    },
    {
      "cell_type": "markdown",
      "metadata": {
        "id": "o0uOi3F1W74-",
        "colab_type": "text"
      },
      "source": [
        " "
      ]
    },
    {
      "cell_type": "markdown",
      "metadata": {
        "id": "BAs0bfXxW75D",
        "colab_type": "text"
      },
      "source": [
        "In the next cell, write an expression that accesses `friends_network` and returns `8`. "
      ]
    },
    {
      "cell_type": "code",
      "metadata": {
        "id": "hVFy1awGW75D",
        "colab_type": "code",
        "colab": {}
      },
      "source": [
        ""
      ],
      "execution_count": null,
      "outputs": []
    },
    {
      "cell_type": "markdown",
      "metadata": {
        "id": "g-20RA33W75G",
        "colab_type": "text"
      },
      "source": [
        " "
      ]
    },
    {
      "cell_type": "markdown",
      "metadata": {
        "id": "CIlyrl7EW75H",
        "colab_type": "text"
      },
      "source": [
        "In the next cell, write an expression that accesses `friends_network` and returns `4`. "
      ]
    },
    {
      "cell_type": "code",
      "metadata": {
        "id": "Ho-bG6cQW75H",
        "colab_type": "code",
        "colab": {}
      },
      "source": [
        ""
      ],
      "execution_count": null,
      "outputs": []
    },
    {
      "cell_type": "markdown",
      "metadata": {
        "id": "5rxYWbcJW75L",
        "colab_type": "text"
      },
      "source": [
        " "
      ]
    },
    {
      "cell_type": "markdown",
      "metadata": {
        "id": "s4HBqIahW75M",
        "colab_type": "text"
      },
      "source": [
        "In the next cell, write an expression that accesses `personnel_files` and returns `Barney Rubble`. "
      ]
    },
    {
      "cell_type": "code",
      "metadata": {
        "id": "gVKYQYLVW75M",
        "colab_type": "code",
        "colab": {},
        "outputId": "cdeda932-58b1-4dd7-8caa-dcc3d1a26dcd"
      },
      "source": [
        ""
      ],
      "execution_count": null,
      "outputs": [
        {
          "output_type": "execute_result",
          "data": {
            "text/plain": [
              "'Barney Rubble'"
            ]
          },
          "metadata": {
            "tags": []
          },
          "execution_count": 12
        }
      ]
    },
    {
      "cell_type": "markdown",
      "metadata": {
        "id": "-7xecYYuW75P",
        "colab_type": "text"
      },
      "source": [
        " "
      ]
    },
    {
      "cell_type": "markdown",
      "metadata": {
        "id": "5WCkETk-W75P",
        "colab_type": "text"
      },
      "source": [
        "In the next cell, write an expression that accesses `personnel_files` and returns `\"roc\"`. "
      ]
    },
    {
      "cell_type": "code",
      "metadata": {
        "id": "gL-f2FucW75P",
        "colab_type": "code",
        "colab": {},
        "outputId": "d88f1aa6-a77c-4d3a-f60a-87d178ae44c4"
      },
      "source": [
        ""
      ],
      "execution_count": null,
      "outputs": [
        {
          "output_type": "execute_result",
          "data": {
            "text/plain": [
              "'roc'"
            ]
          },
          "metadata": {
            "tags": []
          },
          "execution_count": 3
        }
      ]
    },
    {
      "cell_type": "markdown",
      "metadata": {
        "id": "JbtVOFMCW75S",
        "colab_type": "text"
      },
      "source": [
        " "
      ]
    },
    {
      "cell_type": "markdown",
      "metadata": {
        "id": "NiSCfU1BW75T",
        "colab_type": "text"
      },
      "source": [
        "Can you write an expression that sets the first element of `awards` to be `\"national_book_award\"`.  If not, why not?\n",
        "\n",
        "You may use the next cell to illustrate your answer."
      ]
    },
    {
      "cell_type": "code",
      "metadata": {
        "id": "EgggrwskW75U",
        "colab_type": "code",
        "colab": {}
      },
      "source": [
        ""
      ],
      "execution_count": null,
      "outputs": []
    },
    {
      "cell_type": "markdown",
      "metadata": {
        "id": "H7lDWVTTW75X",
        "colab_type": "text"
      },
      "source": [
        " "
      ]
    },
    {
      "cell_type": "markdown",
      "metadata": {
        "id": "rehiuvcXW75Y",
        "colab_type": "text"
      },
      "source": [
        "In the next cell, write an expression that accesses `awards[-2]` and returns `True`. "
      ]
    },
    {
      "cell_type": "code",
      "metadata": {
        "id": "jJNlecohW75Z",
        "colab_type": "code",
        "colab": {},
        "outputId": "e24211a3-d70e-4286-f455-97260b32cf07"
      },
      "source": [
        ""
      ],
      "execution_count": null,
      "outputs": [
        {
          "output_type": "execute_result",
          "data": {
            "text/plain": [
              "True"
            ]
          },
          "metadata": {
            "tags": []
          },
          "execution_count": 5
        }
      ]
    },
    {
      "cell_type": "markdown",
      "metadata": {
        "id": "Un339aJjW75c",
        "colab_type": "text"
      },
      "source": [
        " "
      ]
    },
    {
      "cell_type": "markdown",
      "metadata": {
        "id": "olFPDUg7W75c",
        "colab_type": "text"
      },
      "source": [
        "In the next cell, write an expression that accesses `friends_n etwork` and returns \n",
        "a dictionary with three keys. "
      ]
    },
    {
      "cell_type": "code",
      "metadata": {
        "id": "urLfNBrpW75d",
        "colab_type": "code",
        "colab": {}
      },
      "source": [
        ""
      ],
      "execution_count": null,
      "outputs": []
    },
    {
      "cell_type": "markdown",
      "metadata": {
        "id": "-SmuZa2HW75g",
        "colab_type": "text"
      },
      "source": [
        " "
      ]
    },
    {
      "cell_type": "markdown",
      "metadata": {
        "id": "qwn17TUFW75h",
        "colab_type": "text"
      },
      "source": [
        "##       Part Two"
      ]
    },
    {
      "cell_type": "markdown",
      "metadata": {
        "id": "Ma_hoftyW75h",
        "colab_type": "text"
      },
      "source": [
        "Write down expressions to retrieve the given values from the given variables."
      ]
    },
    {
      "cell_type": "markdown",
      "metadata": {
        "id": "XvH9JnpVW75i",
        "colab_type": "text"
      },
      "source": [
        "1) `'mm'` from `awards`"
      ]
    },
    {
      "cell_type": "code",
      "metadata": {
        "id": "grPenshDW75i",
        "colab_type": "code",
        "colab": {},
        "outputId": "52cecfc9-790a-4667-e4b5-5dd5f720ea56"
      },
      "source": [
        ""
      ],
      "execution_count": null,
      "outputs": [
        {
          "output_type": "execute_result",
          "data": {
            "text/plain": [
              "'mm'"
            ]
          },
          "metadata": {
            "tags": []
          },
          "execution_count": 7
        }
      ]
    },
    {
      "cell_type": "markdown",
      "metadata": {
        "id": "hCEFKZu0W75k",
        "colab_type": "text"
      },
      "source": [
        "2) `'yth'` from `dominant_computer_languages`"
      ]
    },
    {
      "cell_type": "code",
      "metadata": {
        "id": "YfPfNTfrW75k",
        "colab_type": "code",
        "colab": {},
        "outputId": "a931dd1e-f360-49d9-9d39-08e79ef23307"
      },
      "source": [
        ""
      ],
      "execution_count": null,
      "outputs": [
        {
          "output_type": "execute_result",
          "data": {
            "text/plain": [
              "'yth'"
            ]
          },
          "metadata": {
            "tags": []
          },
          "execution_count": 21
        }
      ]
    },
    {
      "cell_type": "markdown",
      "metadata": {
        "id": "AziVAtqLW75n",
        "colab_type": "text"
      },
      "source": [
        "3) `'yth'` from `language_decade_pairs`"
      ]
    },
    {
      "cell_type": "code",
      "metadata": {
        "id": "Kd0ImWxkW75o",
        "colab_type": "code",
        "colab": {},
        "outputId": "a31041b9-fd94-428a-f36b-def3cca2f4eb"
      },
      "source": [
        ""
      ],
      "execution_count": null,
      "outputs": [
        {
          "output_type": "execute_result",
          "data": {
            "text/plain": [
              "'yth'"
            ]
          },
          "metadata": {
            "tags": []
          },
          "execution_count": 25
        }
      ]
    },
    {
      "cell_type": "markdown",
      "metadata": {
        "id": "FAG5HtfyW75q",
        "colab_type": "text"
      },
      "source": [
        "4) `'mvp'` from `awards`"
      ]
    },
    {
      "cell_type": "code",
      "metadata": {
        "id": "1RbAp7uVW75r",
        "colab_type": "code",
        "colab": {},
        "outputId": "c42c809b-edcf-449d-ccca-341ce47b44ce"
      },
      "source": [
        ""
      ],
      "execution_count": null,
      "outputs": [
        {
          "output_type": "execute_result",
          "data": {
            "text/plain": [
              "'_mvp'"
            ]
          },
          "metadata": {
            "tags": []
          },
          "execution_count": 4
        }
      ]
    },
    {
      "cell_type": "markdown",
      "metadata": {
        "id": "7ZMgB6DRW75t",
        "colab_type": "text"
      },
      "source": [
        "5) `'edr'` from `personnel_files`"
      ]
    },
    {
      "cell_type": "code",
      "metadata": {
        "id": "S0LjtauVW75t",
        "colab_type": "code",
        "colab": {},
        "outputId": "08d92e1d-a903-45f4-9282-5fb7184b112e"
      },
      "source": [
        ""
      ],
      "execution_count": null,
      "outputs": [
        {
          "output_type": "execute_result",
          "data": {
            "text/plain": [
              "'edr'"
            ]
          },
          "metadata": {
            "tags": []
          },
          "execution_count": 32
        }
      ]
    },
    {
      "cell_type": "markdown",
      "metadata": {
        "id": "VJQo1KOhW75w",
        "colab_type": "text"
      },
      "source": [
        "  "
      ]
    }
  ]
}