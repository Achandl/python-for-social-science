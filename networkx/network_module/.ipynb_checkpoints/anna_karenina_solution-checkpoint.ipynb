{
 "cells": [
  {
   "cell_type": "code",
   "execution_count": 43,
   "metadata": {},
   "outputs": [],
   "source": [
    "import networkx as nx\n",
    "import readwrite_gml\n",
    "import matplotlib\n",
    "import matplotlib.pyplot as plt\n",
    "# Non Mac users should not try this.\n",
    "# matplotlib.pyplot.switch_backend('QT4Agg')\n",
    "ak = readwrite_gml.read_gml('anna.gml',relabel=True)\n",
    "desc_dict = ak.nodes"
   ]
  },
  {
   "cell_type": "code",
   "execution_count": 4,
   "metadata": {},
   "outputs": [
    {
     "data": {
      "text/plain": [
       "NodeView(('AA', 'AG', 'AL', 'AN', 'AO', 'AP', 'BA', 'BD', 'BE', 'BL', 'BN', 'BO', 'BT', 'CA', 'CB', 'CD', 'CN', 'CO', 'CV', 'DO', 'ED', 'EF', 'FC', 'FR', 'FY', 'GA', 'GO', 'GR', 'GV', 'HA', 'HO', 'IG', 'IV', 'IW', 'JL', 'KA', 'KE', 'KI', 'KO', 'KP', 'KR', 'KT', 'KU', 'KV', 'KY', 'KZ', 'LE', 'LI', 'LK', 'LL', 'LM', 'LP', 'LV', 'MA', 'MB', 'MC', 'MD', 'ME', 'MH', 'MI', 'MJ', 'MK', 'ML', 'MM', 'MN', 'MO', 'MP', 'MQ', 'MR', 'MS', 'MT', 'MV', 'MX', 'MY', 'MZ', 'NA', 'ND', 'NI', 'NL', 'NN', 'NS', 'NT', 'NV', 'NY', 'PA', 'PC', 'PD', 'PE', 'PH', 'PK', 'PO', 'PP', 'PR', 'PS', 'PT', 'PV', 'PX', 'PY', 'RT', 'RY', 'SA', 'SE', 'SH', 'SI', 'SL', 'SM', 'SN', 'SO', 'SP', 'SQ', 'SS', 'ST', 'SU', 'SV', 'SY', 'TA', 'TB', 'TC', 'TT', 'TU', 'TV', 'VA', 'VE', 'VF', 'VG', 'VI', 'VK', 'VO', 'VP', 'VR', 'VS', 'VV', 'VY', 'XV', 'YG', 'YK', 'YS', 'YV'))"
      ]
     },
     "execution_count": 4,
     "metadata": {},
     "output_type": "execute_result"
    }
   ],
   "source": [
    "ak.nodes"
   ]
  },
  {
   "cell_type": "code",
   "execution_count": 25,
   "metadata": {},
   "outputs": [
    {
     "name": "stdout",
     "output_type": "stream",
     "text": [
      "{'attr_dict': {'id': 3, 'desc': 'Anna Arkadyevna Karenina, wife of AL', 'label': 'AN'}}\n"
     ]
    },
    {
     "data": {
      "text/plain": [
       "'Anna Arkadyevna Karenina, wife of AL'"
      ]
     },
     "execution_count": 25,
     "metadata": {},
     "output_type": "execute_result"
    }
   ],
   "source": [
    "print(desc_dict['AN'])\n",
    "desc_dict['AN']['attr_dict']['desc']"
   ]
  },
  {
   "cell_type": "markdown",
   "metadata": {},
   "source": [
    "## Identifying the edge with the greatest weight"
   ]
  },
  {
   "cell_type": "code",
   "execution_count": 7,
   "metadata": {},
   "outputs": [
    {
     "data": {
      "text/plain": [
       "EdgeDataView([('AA', 'PX', {'attr_dict': {'value': 0.5}}), ('AA', 'DO', {'attr_dict': {'value': 0.5}}), ('AA', 'VR', {'attr_dict': {'value': 0.5}}), ('AA', 'AN', {'attr_dict': {'value': 6.5}}), ('AG', 'BD', {'attr_dict': {'value': 1.0}}), ('AG', 'NI', {'attr_dict': {'value': 0.5}}), ('AG', 'LE', {'attr_dict': {'value': 7.58}}), ('AG', 'MQ', {'attr_dict': {'value': 0.33}}), ('AG', 'VK', {'attr_dict': {'value': 0.17}}), ('AG', 'PS', {'attr_dict': {'value': 0.42}}), ('AG', 'KI', {'attr_dict': {'value': 3.25}}), ('AG', 'ST', {'attr_dict': {'value': 0.83}}), ('AG', 'DO', {'attr_dict': {'value': 0.42}}), ('AG', 'KZ', {'attr_dict': {'value': 0.83}}), ('AG', 'KO', {'attr_dict': {'value': 0.67}}), ('AL', 'SL', {'attr_dict': {'value': 2.5}}), ('AL', 'MA', {'attr_dict': {'value': 0.1}}), ('AL', 'LI', {'attr_dict': {'value': 4.17}}), ('AL', 'MY', {'attr_dict': {'value': 0.25}}), ('AL', 'BT', {'attr_dict': {'value': 2.58}}), ('AL', 'KO', {'attr_dict': {'value': 0.52}}), ('AL', 'ST', {'attr_dict': {'value': 7.18}}), ('AL', 'TV', {'attr_dict': {'value': 0.52}}), ('AL', 'JL', {'attr_dict': {'value': 0.67}}), ('AL', 'PR', {'attr_dict': {'value': 0.27}}), ('AL', 'AN', {'attr_dict': {'value': 13.33}}), ('AL', 'PE', {'attr_dict': {'value': 0.52}}), ('AL', 'LE', {'attr_dict': {'value': 0.1}}), ('AL', 'EF', {'attr_dict': {'value': 0.25}}), ('AL', 'BA', {'attr_dict': {'value': 1.0}}), ('AL', 'YS', {'attr_dict': {'value': 0.6}}), ('AL', 'SM', {'attr_dict': {'value': 2.0}}), ('AL', 'KY', {'attr_dict': {'value': 2.5}}), ('AL', 'DO', {'attr_dict': {'value': 1.27}}), ('AL', 'KP', {'attr_dict': {'value': 1.0}}), ('AL', 'SI', {'attr_dict': {'value': 0.25}}), ('AL', 'VR', {'attr_dict': {'value': 2.58}}), ('AL', 'KI', {'attr_dict': {'value': 0.1}}), ('AL', 'SE', {'attr_dict': {'value': 3.25}}), ('AL', 'ED', {'attr_dict': {'value': 1.5}}), ('AN', 'SE', {'attr_dict': {'value': 4.25}}), ('AN', 'MC', {'attr_dict': {'value': 2.0}}), ('AN', 'FC', {'attr_dict': {'value': 0.5}}), ('AN', 'VR', {'attr_dict': {'value': 27.2}}), ('AN', 'KI', {'attr_dict': {'value': 2.0}}), ('AN', 'SM', {'attr_dict': {'value': 1.0}}), ('AN', 'SI', {'attr_dict': {'value': 0.25}}), ('AN', 'DO', {'attr_dict': {'value': 5.87}}), ('AN', 'ME', {'attr_dict': {'value': 0.5}}), ('AN', 'VV', {'attr_dict': {'value': 1.37}}), ('AN', 'KP', {'attr_dict': {'value': 1.0}}), ('AN', 'PO', {'attr_dict': {'value': 0.33}}), ('AN', 'PX', {'attr_dict': {'value': 3.0}}), ('AN', 'BA', {'attr_dict': {'value': 5.0}}), ('AN', 'LM', {'attr_dict': {'value': 1.5}}), ('AN', 'EF', {'attr_dict': {'value': 0.25}}), ('AN', 'MI', {'attr_dict': {'value': 1.33}}), ('AN', 'MX', {'attr_dict': {'value': 0.33}}), ('AN', 'SS', {'attr_dict': {'value': 0.17}}), ('AN', 'GO', {'attr_dict': {'value': 2.33}}), ('AN', 'XV', {'attr_dict': {'value': 0.5}}), ('AN', 'LE', {'attr_dict': {'value': 1.25}}), ('AN', 'SV', {'attr_dict': {'value': 0.53}}), ('AN', 'YK', {'attr_dict': {'value': 1.33}}), ('AN', 'PK', {'attr_dict': {'value': 0.17}}), ('AN', 'VO', {'attr_dict': {'value': 1.25}}), ('AN', 'KV', {'attr_dict': {'value': 0.25}}), ('AN', 'TA', {'attr_dict': {'value': 0.33}}), ('AN', 'VP', {'attr_dict': {'value': 1.53}}), ('AN', 'YV', {'attr_dict': {'value': 1.67}}), ('AN', 'BT', {'attr_dict': {'value': 3.58}}), ('AN', 'CV', {'attr_dict': {'value': 0.33}}), ('AN', 'MY', {'attr_dict': {'value': 0.25}}), ('AN', 'ST', {'attr_dict': {'value': 4.0}}), ('AN', 'GR', {'attr_dict': {'value': 0.33}}), ('AN', 'VS', {'attr_dict': {'value': 0.17}}), ('AN', 'LI', {'attr_dict': {'value': 2.25}}), ('AN', 'SL', {'attr_dict': {'value': 0.5}}), ('AN', 'TU', {'attr_dict': {'value': 1.67}}), ('AN', 'HA', {'attr_dict': {'value': 0.75}}), ('AN', 'VY', {'attr_dict': {'value': 0.33}}), ('AO', 'DO', {'attr_dict': {'value': 0.33}}), ('AO', 'LL', {'attr_dict': {'value': 0.33}}), ('AO', 'TA', {'attr_dict': {'value': 0.33}}), ('AP', 'KI', {'attr_dict': {'value': 0.83}}), ('AP', 'PV', {'attr_dict': {'value': 0.83}}), ('AP', 'PR', {'attr_dict': {'value': 0.33}}), ('BA', 'VP', {'attr_dict': {'value': 0.5}}), ('BA', 'DO', {'attr_dict': {'value': 0.5}}), ('BD', 'KI', {'attr_dict': {'value': 2.5}}), ('BD', 'LE', {'attr_dict': {'value': 1.5}}), ('BD', 'LP', {'attr_dict': {'value': 0.17}}), ('BD', 'PS', {'attr_dict': {'value': 0.5}}), ('BD', 'PD', {'attr_dict': {'value': 0.17}}), ('BD', 'DO', {'attr_dict': {'value': 0.17}}), ('BE', 'KI', {'attr_dict': {'value': 0.5}}), ('BE', 'PR', {'attr_dict': {'value': 0.5}}), ('BL', 'LE', {'attr_dict': {'value': 1.0}}), ('BN', 'ST', {'attr_dict': {'value': 2.0}}), ('BO', 'LE', {'attr_dict': {'value': 1.0}}), ('BT', 'ST', {'attr_dict': {'value': 3.0}}), ('BT', 'LM', {'attr_dict': {'value': 0.17}}), ('BT', 'VR', {'attr_dict': {'value': 4.08}}), ('BT', 'SM', {'attr_dict': {'value': 0.17}}), ('BT', 'SS', {'attr_dict': {'value': 0.17}}), ('BT', 'PK', {'attr_dict': {'value': 0.17}}), ('BT', 'TU', {'attr_dict': {'value': 0.33}}), ('BT', 'VS', {'attr_dict': {'value': 0.17}}), ('BT', 'MY', {'attr_dict': {'value': 2.25}}), ('BT', 'MX', {'attr_dict': {'value': 0.33}}), ('CA', 'KI', {'attr_dict': {'value': 0.5}}), ('CA', 'ST', {'attr_dict': {'value': 1.0}}), ('CA', 'LE', {'attr_dict': {'value': 0.5}}), ('CB', 'YK', {'attr_dict': {'value': 1.0}}), ('CD', 'SP', {'attr_dict': {'value': 0.25}}), ('CD', 'YV', {'attr_dict': {'value': 0.25}}), ('CD', 'PT', {'attr_dict': {'value': 0.25}}), ('CD', 'VR', {'attr_dict': {'value': 0.25}}), ('CN', 'NA', {'attr_dict': {'value': 1.0}}), ('CN', 'PR', {'attr_dict': {'value': 0.2}}), ('CN', 'LE', {'attr_dict': {'value': 0.7}}), ('CN', 'KI', {'attr_dict': {'value': 2.03}}), ('CN', 'DO', {'attr_dict': {'value': 1.0}}), ('CN', 'VR', {'attr_dict': {'value': 0.53}}), ('CN', 'YK', {'attr_dict': {'value': 1.0}}), ('CN', 'PS', {'attr_dict': {'value': 0.53}}), ('CO', 'VR', {'attr_dict': {'value': 1.5}}), ('CO', 'MH', {'attr_dict': {'value': 0.5}}), ('CV', 'VA', {'attr_dict': {'value': 0.83}}), ('CV', 'SO', {'attr_dict': {'value': 0.33}}), ('CV', 'VR', {'attr_dict': {'value': 1.67}}), ('CV', 'ST', {'attr_dict': {'value': 0.83}}), ('CV', 'KO', {'attr_dict': {'value': 1.0}}), ('DO', 'TC', {'attr_dict': {'value': 0.25}}), ('DO', 'VV', {'attr_dict': {'value': 1.28}}), ('DO', 'MA', {'attr_dict': {'value': 1.1}}), ('DO', 'GR', {'attr_dict': {'value': 2.03}}), ('DO', 'YS', {'attr_dict': {'value': 0.6}}), ('DO', 'TU', {'attr_dict': {'value': 0.33}}), ('DO', 'PS', {'attr_dict': {'value': 1.28}}), ('DO', 'KT', {'attr_dict': {'value': 0.17}}), ('DO', 'PD', {'attr_dict': {'value': 0.37}}), ('DO', 'MJ', {'attr_dict': {'value': 0.17}}), ('DO', 'KV', {'attr_dict': {'value': 0.45}}), ('DO', 'LE', {'attr_dict': {'value': 7.97}}), ('DO', 'VK', {'attr_dict': {'value': 1.5}}), ('DO', 'PH', {'attr_dict': {'value': 2.67}}), ('DO', 'KE', {'attr_dict': {'value': 0.33}}), ('DO', 'MV', {'attr_dict': {'value': 0.17}}), ('DO', 'VP', {'attr_dict': {'value': 0.53}}), ('DO', 'ST', {'attr_dict': {'value': 6.6}}), ('DO', 'KO', {'attr_dict': {'value': 2.13}}), ('DO', 'NL', {'attr_dict': {'value': 0.25}}), ('DO', 'SV', {'attr_dict': {'value': 0.53}}), ('DO', 'PE', {'attr_dict': {'value': 0.27}}), ('DO', 'VR', {'attr_dict': {'value': 1.87}}), ('DO', 'PR', {'attr_dict': {'value': 1.47}}), ('DO', 'NA', {'attr_dict': {'value': 1.33}}), ('DO', 'LL', {'attr_dict': {'value': 0.67}}), ('DO', 'TA', {'attr_dict': {'value': 3.03}}), ('DO', 'MM', {'attr_dict': {'value': 0.5}}), ('DO', 'KI', {'attr_dict': {'value': 5.55}}), ('DO', 'TV', {'attr_dict': {'value': 0.6}}), ('DO', 'LP', {'attr_dict': {'value': 0.37}}), ('DO', 'HO', {'attr_dict': {'value': 0.58}}), ('ED', 'SE', {'attr_dict': {'value': 0.5}}), ('EF', 'KY', {'attr_dict': {'value': 1.0}}), ('EF', 'SI', {'attr_dict': {'value': 0.25}}), ('EF', 'SE', {'attr_dict': {'value': 0.25}}), ('FC', 'PX', {'attr_dict': {'value': 0.5}}), ('FR', 'LE', {'attr_dict': {'value': 1.0}}), ('FY', 'LE', {'attr_dict': {'value': 1.0}}), ('GA', 'VI', {'attr_dict': {'value': 0.17}}), ('GA', 'LE', {'attr_dict': {'value': 0.5}}), ('GA', 'TV', {'attr_dict': {'value': 0.17}}), ('GA', 'VR', {'attr_dict': {'value': 0.5}}), ('GA', 'ST', {'attr_dict': {'value': 0.5}}), ('GA', 'YV', {'attr_dict': {'value': 0.17}}), ('GO', 'VR', {'attr_dict': {'value': 2.33}}), ('GO', 'MI', {'attr_dict': {'value': 1.33}}), ('GR', 'LE', {'attr_dict': {'value': 0.95}}), ('GR', 'TA', {'attr_dict': {'value': 2.37}}), ('GR', 'KV', {'attr_dict': {'value': 0.45}}), ('GR', 'VK', {'attr_dict': {'value': 0.2}}), ('GR', 'VV', {'attr_dict': {'value': 0.33}}), ('GR', 'MJ', {'attr_dict': {'value': 0.17}}), ('GR', 'ST', {'attr_dict': {'value': 0.83}}), ('GR', 'NL', {'attr_dict': {'value': 0.25}}), ('GR', 'KO', {'attr_dict': {'value': 0.57}}), ('GR', 'PR', {'attr_dict': {'value': 0.37}}), ('GR', 'MM', {'attr_dict': {'value': 1.2}}), ('GR', 'HO', {'attr_dict': {'value': 0.25}}), ('GR', 'KI', {'attr_dict': {'value': 0.53}}), ('GR', 'KT', {'attr_dict': {'value': 0.17}}), ('GV', 'NN', {'attr_dict': {'value': 0.33}}), ('GV', 'LE', {'attr_dict': {'value': 0.33}}), ('GV', 'ST', {'attr_dict': {'value': 0.33}}), ('HA', 'ST', {'attr_dict': {'value': 0.25}}), ('HA', 'VO', {'attr_dict': {'value': 0.25}}), ('HA', 'VR', {'attr_dict': {'value': 0.5}}), ('HA', 'LE', {'attr_dict': {'value': 0.25}}), ('HO', 'PH', {'attr_dict': {'value': 0.33}}), ('HO', 'TA', {'attr_dict': {'value': 1.58}}), ('HO', 'NL', {'attr_dict': {'value': 0.25}}), ('IG', 'LE', {'attr_dict': {'value': 2.0}}), ('IV', 'LE', {'attr_dict': {'value': 1.0}}), ('IW', 'LE', {'attr_dict': {'value': 1.0}}), ('JL', 'ST', {'attr_dict': {'value': 0.67}}), ('JL', 'LI', {'attr_dict': {'value': 0.67}}), ('KA', 'VR', {'attr_dict': {'value': 0.33}}), ('KA', 'PT', {'attr_dict': {'value': 0.33}}), ('KA', 'SH', {'attr_dict': {'value': 0.33}}), ('KE', 'SO', {'attr_dict': {'value': 0.33}}), ('KE', 'SV', {'attr_dict': {'value': 0.5}}), ('KE', 'KI', {'attr_dict': {'value': 1.5}}), ('KE', 'VE', {'attr_dict': {'value': 0.33}}), ('KE', 'LE', {'attr_dict': {'value': 0.33}}), ('KE', 'PT', {'attr_dict': {'value': 0.33}}), ('KE', 'SQ', {'attr_dict': {'value': 1.0}}), ('KE', 'NA', {'attr_dict': {'value': 0.33}}), ('KE', 'KO', {'attr_dict': {'value': 0.83}}), ('KE', 'KZ', {'attr_dict': {'value': 0.5}}), ('KE', 'VR', {'attr_dict': {'value': 0.33}}), ('KE', 'ST', {'attr_dict': {'value': 0.33}}), ('KI', 'MB', {'attr_dict': {'value': 0.33}}), ('KI', 'YK', {'attr_dict': {'value': 1.83}}), ('KI', 'MM', {'attr_dict': {'value': 0.2}}), ('KI', 'RT', {'attr_dict': {'value': 0.92}}), ('KI', 'PE', {'attr_dict': {'value': 0.1}}), ('KI', 'MD', {'attr_dict': {'value': 1.0}}), ('KI', 'NS', {'attr_dict': {'value': 0.5}}), ('KI', 'PD', {'attr_dict': {'value': 0.37}}), ('KI', 'TV', {'attr_dict': {'value': 0.68}}), ('KI', 'VV', {'attr_dict': {'value': 0.42}}), ('KI', 'NA', {'attr_dict': {'value': 1.0}}), ('KI', 'KO', {'attr_dict': {'value': 1.88}}), ('KI', 'TA', {'attr_dict': {'value': 0.33}}), ('KI', 'MV', {'attr_dict': {'value': 1.17}}), ('KI', 'TC', {'attr_dict': {'value': 0.58}}), ('KI', 'MN', {'attr_dict': {'value': 1.67}}), ('KI', 'ST', {'attr_dict': {'value': 1.77}}), ('KI', 'PR', {'attr_dict': {'value': 5.72}}), ('KI', 'KZ', {'attr_dict': {'value': 0.5}}), ('KI', 'MS', {'attr_dict': {'value': 1.33}}), ('KI', 'VR', {'attr_dict': {'value': 2.2}}), ('KI', 'KV', {'attr_dict': {'value': 0.5}}), ('KI', 'MA', {'attr_dict': {'value': 0.1}}), ('KI', 'MQ', {'attr_dict': {'value': 0.33}}), ('KI', 'ML', {'attr_dict': {'value': 1.0}}), ('KI', 'NI', {'attr_dict': {'value': 2.17}}), ('KI', 'YS', {'attr_dict': {'value': 0.6}}), ('KI', 'PV', {'attr_dict': {'value': 0.83}}), ('KI', 'VK', {'attr_dict': {'value': 3.37}}), ('KI', 'KT', {'attr_dict': {'value': 0.33}}), ('KI', 'LP', {'attr_dict': {'value': 0.37}}), ('KI', 'PS', {'attr_dict': {'value': 11.07}}), ('KI', 'LE', {'attr_dict': {'value': 22.53}}), ('KO', 'MJ', {'attr_dict': {'value': 0.17}}), ('KO', 'PS', {'attr_dict': {'value': 0.17}}), ('KO', 'LE', {'attr_dict': {'value': 14.25}}), ('KO', 'TC', {'attr_dict': {'value': 0.33}}), ('KO', 'NY', {'attr_dict': {'value': 0.2}}), ('KO', 'MA', {'attr_dict': {'value': 0.1}}), ('KO', 'SO', {'attr_dict': {'value': 0.33}}), ('KO', 'TA', {'attr_dict': {'value': 0.2}}), ('KO', 'KV', {'attr_dict': {'value': 0.7}}), ('KO', 'MM', {'attr_dict': {'value': 0.2}}), ('KO', 'PR', {'attr_dict': {'value': 2.3}}), ('KO', 'PE', {'attr_dict': {'value': 1.02}}), ('KO', 'KT', {'attr_dict': {'value': 2.67}}), ('KO', 'ST', {'attr_dict': {'value': 3.55}}), ('KO', 'TV', {'attr_dict': {'value': 0.77}}), ('KO', 'YS', {'attr_dict': {'value': 0.1}}), ('KO', 'VK', {'attr_dict': {'value': 1.95}}), ('KO', 'SV', {'attr_dict': {'value': 1.37}}), ('KO', 'KZ', {'attr_dict': {'value': 0.5}}), ('KO', 'VR', {'attr_dict': {'value': 1.53}}), ('KP', 'SE', {'attr_dict': {'value': 1.0}}), ('KP', 'KY', {'attr_dict': {'value': 1.0}}), ('KP', 'VR', {'attr_dict': {'value': 1.0}}), ('KR', 'NI', {'attr_dict': {'value': 0.67}}), ('KR', 'LE', {'attr_dict': {'value': 0.67}}), ('KR', 'MN', {'attr_dict': {'value': 0.67}}), ('KT', 'PR', {'attr_dict': {'value': 1.5}}), ('KT', 'ST', {'attr_dict': {'value': 0.5}}), ('KT', 'TC', {'attr_dict': {'value': 0.33}}), ('KT', 'MJ', {'attr_dict': {'value': 0.17}}), ('KT', 'LE', {'attr_dict': {'value': 1.67}}), ('KT', 'MO', {'attr_dict': {'value': 0.5}}), ('KU', 'MH', {'attr_dict': {'value': 0.5}}), ('KU', 'VR', {'attr_dict': {'value': 1.5}}), ('KV', 'VR', {'attr_dict': {'value': 0.25}}), ('KV', 'ST', {'attr_dict': {'value': 0.25}}), ('KV', 'TA', {'attr_dict': {'value': 0.45}}), ('KV', 'LI', {'attr_dict': {'value': 0.25}}), ('KV', 'PR', {'attr_dict': {'value': 0.2}}), ('KV', 'LE', {'attr_dict': {'value': 0.25}}), ('KY', 'ST', {'attr_dict': {'value': 0.5}}), ('KZ', 'ST', {'attr_dict': {'value': 0.83}}), ('KZ', 'LE', {'attr_dict': {'value': 5.83}}), ('LE', 'VO', {'attr_dict': {'value': 0.25}}), ('LE', 'PY', {'attr_dict': {'value': 0.5}}), ('LE', 'NA', {'attr_dict': {'value': 2.83}}), ('LE', 'LV', {'attr_dict': {'value': 0.5}}), ('LE', 'TA', {'attr_dict': {'value': 0.75}}), ('LE', 'MM', {'attr_dict': {'value': 0.7}}), ('LE', 'PR', {'attr_dict': {'value': 4.63}}), ('LE', 'PA', {'attr_dict': {'value': 1.0}}), ('LE', 'VI', {'attr_dict': {'value': 0.17}}), ('LE', 'LP', {'attr_dict': {'value': 1.37}}), ('LE', 'NS', {'attr_dict': {'value': 1.5}}), ('LE', 'SV', {'attr_dict': {'value': 4.7}}), ('LE', 'MK', {'attr_dict': {'value': 0.5}}), ('LE', 'TV', {'attr_dict': {'value': 0.85}}), ('LE', 'PS', {'attr_dict': {'value': 4.98}}), ('LE', 'YS', {'attr_dict': {'value': 0.6}}), ('LE', 'NN', {'attr_dict': {'value': 0.33}}), ('LE', 'LL', {'attr_dict': {'value': 0.33}}), ('LE', 'MV', {'attr_dict': {'value': 0.17}}), ('LE', 'YV', {'attr_dict': {'value': 0.17}}), ('LE', 'MQ', {'attr_dict': {'value': 0.33}}), ('LE', 'YG', {'attr_dict': {'value': 1.0}}), ('LE', 'VK', {'attr_dict': {'value': 1.12}}), ('LE', 'MZ', {'attr_dict': {'value': 0.33}}), ('LE', 'NI', {'attr_dict': {'value': 4.33}}), ('LE', 'SY', {'attr_dict': {'value': 0.5}}), ('LE', 'ML', {'attr_dict': {'value': 2.0}}), ('LE', 'TC', {'attr_dict': {'value': 0.92}}), ('LE', 'MO', {'attr_dict': {'value': 0.5}}), ('LE', 'NY', {'attr_dict': {'value': 0.2}}), ('LE', 'MA', {'attr_dict': {'value': 0.1}}), ('LE', 'SU', {'attr_dict': {'value': 1.0}}), ('LE', 'MJ', {'attr_dict': {'value': 0.17}}), ('LE', 'VV', {'attr_dict': {'value': 4.25}}), ('LE', 'VF', {'attr_dict': {'value': 6.5}}), ('LE', 'PD', {'attr_dict': {'value': 0.37}}), ('LE', 'ST', {'attr_dict': {'value': 17.72}}), ('LE', 'NT', {'attr_dict': {'value': 0.33}}), ('LE', 'TT', {'attr_dict': {'value': 1.0}}), ('LE', 'PH', {'attr_dict': {'value': 0.33}}), ('LE', 'MP', {'attr_dict': {'value': 0.33}}), ('LE', 'VR', {'attr_dict': {'value': 0.9}}), ('LE', 'RY', {'attr_dict': {'value': 0.5}}), ('LE', 'SN', {'attr_dict': {'value': 0.83}}), ('LE', 'PE', {'attr_dict': {'value': 1.6}}), ('LE', 'MN', {'attr_dict': {'value': 1.83}}), ('LI', 'ST', {'attr_dict': {'value': 0.92}}), ('LI', 'VR', {'attr_dict': {'value': 0.25}}), ('LI', 'SE', {'attr_dict': {'value': 0.5}}), ('LK', 'TB', {'attr_dict': {'value': 1.0}}), ('LK', 'YK', {'attr_dict': {'value': 1.0}}), ('LL', 'PH', {'attr_dict': {'value': 0.33}}), ('LL', 'TA', {'attr_dict': {'value': 0.33}}), ('LM', 'VS', {'attr_dict': {'value': 0.17}}), ('LM', 'PK', {'attr_dict': {'value': 0.17}}), ('LM', 'TU', {'attr_dict': {'value': 0.33}}), ('LM', 'SS', {'attr_dict': {'value': 0.17}}), ('LM', 'SM', {'attr_dict': {'value': 0.5}}), ('LP', 'PD', {'attr_dict': {'value': 0.37}}), ('LP', 'PS', {'attr_dict': {'value': 0.37}}), ('LV', 'NA', {'attr_dict': {'value': 1.5}}), ('MA', 'ST', {'attr_dict': {'value': 2.6}}), ('MA', 'PE', {'attr_dict': {'value': 0.1}}), ('MA', 'TV', {'attr_dict': {'value': 0.1}}), ('MA', 'YS', {'attr_dict': {'value': 0.1}}), ('MA', 'PR', {'attr_dict': {'value': 0.1}}), ('MA', 'PH', {'attr_dict': {'value': 0.5}}), ('MB', 'PR', {'attr_dict': {'value': 0.33}}), ('MB', 'VR', {'attr_dict': {'value': 0.33}}), ('ME', 'SE', {'attr_dict': {'value': 0.5}}), ('MH', 'VR', {'attr_dict': {'value': 1.0}}), ('MI', 'VR', {'attr_dict': {'value': 1.33}}), ('MI', 'SA', {'attr_dict': {'value': 1.0}}), ('MJ', 'PR', {'attr_dict': {'value': 0.17}}), ('MK', 'PY', {'attr_dict': {'value': 0.5}}), ('MM', 'VK', {'attr_dict': {'value': 0.2}}), ('MN', 'VK', {'attr_dict': {'value': 0.5}}), ('MN', 'NI', {'attr_dict': {'value': 2.33}}), ('MP', 'SV', {'attr_dict': {'value': 0.33}}), ('MP', 'SN', {'attr_dict': {'value': 0.33}}), ('MR', 'ST', {'attr_dict': {'value': 1.0}}), ('MS', 'PR', {'attr_dict': {'value': 0.33}}), ('MS', 'VK', {'attr_dict': {'value': 2.33}}), ('MT', 'ST', {'attr_dict': {'value': 1.0}}), ('MV', 'ST', {'attr_dict': {'value': 0.17}}), ('MV', 'PS', {'attr_dict': {'value': 0.17}}), ('MV', 'VV', {'attr_dict': {'value': 0.17}}), ('MX', 'TU', {'attr_dict': {'value': 0.33}}), ('MY', 'ST', {'attr_dict': {'value': 0.5}}), ('MY', 'VR', {'attr_dict': {'value': 0.75}}), ('MZ', 'NT', {'attr_dict': {'value': 0.33}}), ('MZ', 'SV', {'attr_dict': {'value': 0.33}}), ('NA', 'ST', {'attr_dict': {'value': 1.0}}), ('ND', 'SE', {'attr_dict': {'value': 1.0}}), ('NI', 'VK', {'attr_dict': {'value': 0.5}}), ('NI', 'PS', {'attr_dict': {'value': 0.5}}), ('NL', 'TA', {'attr_dict': {'value': 0.25}}), ('NN', 'ST', {'attr_dict': {'value': 0.33}}), ('NT', 'SV', {'attr_dict': {'value': 0.33}}), ('NV', 'PR', {'attr_dict': {'value': 1.0}}), ('NY', 'ST', {'attr_dict': {'value': 0.53}}), ('NY', 'SV', {'attr_dict': {'value': 0.53}}), ('NY', 'VR', {'attr_dict': {'value': 0.53}}), ('PC', 'ST', {'attr_dict': {'value': 1.0}}), ('PD', 'PS', {'attr_dict': {'value': 0.37}}), ('PE', 'TV', {'attr_dict': {'value': 0.52}}), ('PE', 'YS', {'attr_dict': {'value': 0.1}}), ('PE', 'ST', {'attr_dict': {'value': 0.52}}), ('PE', 'PR', {'attr_dict': {'value': 0.27}}), ('PH', 'ST', {'attr_dict': {'value': 0.5}}), ('PH', 'TA', {'attr_dict': {'value': 0.33}}), ('PK', 'VS', {'attr_dict': {'value': 0.17}}), ('PK', 'SS', {'attr_dict': {'value': 0.17}}), ('PK', 'SM', {'attr_dict': {'value': 0.17}}), ('PO', 'VR', {'attr_dict': {'value': 0.33}}), ('PO', 'TU', {'attr_dict': {'value': 0.33}}), ('PP', 'ST', {'attr_dict': {'value': 2.0}}), ('PR', 'TV', {'attr_dict': {'value': 0.27}}), ('PR', 'VR', {'attr_dict': {'value': 0.53}}), ('PR', 'ST', {'attr_dict': {'value': 0.6}}), ('PR', 'TA', {'attr_dict': {'value': 0.2}}), ('PR', 'RT', {'attr_dict': {'value': 0.58}}), ('PR', 'PS', {'attr_dict': {'value': 4.78}}), ('PR', 'VK', {'attr_dict': {'value': 0.58}}), ('PR', 'PV', {'attr_dict': {'value': 0.33}}), ('PR', 'TC', {'attr_dict': {'value': 0.33}}), ('PR', 'YS', {'attr_dict': {'value': 0.1}}), ('PS', 'VV', {'attr_dict': {'value': 1.17}}), ('PS', 'VK', {'attr_dict': {'value': 1.75}}), ('PS', 'VR', {'attr_dict': {'value': 1.03}}), ('PS', 'ST', {'attr_dict': {'value': 0.5}}), ('PS', 'YK', {'attr_dict': {'value': 0.5}}), ('PS', 'RT', {'attr_dict': {'value': 0.92}}), ('PT', 'SP', {'attr_dict': {'value': 0.25}}), ('PT', 'VR', {'attr_dict': {'value': 2.42}}), ('PT', 'SH', {'attr_dict': {'value': 0.33}}), ('PT', 'VE', {'attr_dict': {'value': 0.33}}), ('PT', 'YV', {'attr_dict': {'value': 0.75}}), ('RT', 'VK', {'attr_dict': {'value': 0.58}}), ('RY', 'ST', {'attr_dict': {'value': 0.5}}), ('SE', 'ST', {'attr_dict': {'value': 0.5}}), ('SE', 'SI', {'attr_dict': {'value': 2.25}}), ('SH', 'VR', {'attr_dict': {'value': 0.33}}), ('SM', 'VR', {'attr_dict': {'value': 0.5}}), ('SM', 'SS', {'attr_dict': {'value': 0.17}}), ('SM', 'VS', {'attr_dict': {'value': 0.17}}), ('SM', 'TU', {'attr_dict': {'value': 0.33}}), ('SN', 'SV', {'attr_dict': {'value': 0.83}}), ('SO', 'VR', {'attr_dict': {'value': 1.33}}), ('SO', 'VA', {'attr_dict': {'value': 0.33}}), ('SO', 'ST', {'attr_dict': {'value': 0.33}}), ('SP', 'YV', {'attr_dict': {'value': 0.25}}), ('SP', 'VR', {'attr_dict': {'value': 1.25}}), ('SS', 'VS', {'attr_dict': {'value': 0.17}}), ('ST', 'YV', {'attr_dict': {'value': 0.17}}), ('ST', 'VG', {'attr_dict': {'value': 1.0}}), ('ST', 'SV', {'attr_dict': {'value': 1.2}}), ('ST', 'VO', {'attr_dict': {'value': 0.25}}), ('ST', 'TA', {'attr_dict': {'value': 1.5}}), ('ST', 'TV', {'attr_dict': {'value': 0.68}}), ('ST', 'VR', {'attr_dict': {'value': 4.45}}), ('ST', 'VI', {'attr_dict': {'value': 0.17}}), ('ST', 'VV', {'attr_dict': {'value': 3.25}}), ('ST', 'YS', {'attr_dict': {'value': 0.1}}), ('ST', 'TC', {'attr_dict': {'value': 0.25}}), ('SV', 'VR', {'attr_dict': {'value': 1.4}}), ('SV', 'VP', {'attr_dict': {'value': 0.53}}), ('SV', 'TU', {'attr_dict': {'value': 0.33}}), ('SV', 'VV', {'attr_dict': {'value': 0.53}}), ('SY', 'VF', {'attr_dict': {'value': 0.5}}), ('TU', 'YV', {'attr_dict': {'value': 0.33}}), ('TU', 'VP', {'attr_dict': {'value': 0.33}}), ('TU', 'VR', {'attr_dict': {'value': 1.0}}), ('TU', 'VV', {'attr_dict': {'value': 0.33}}), ('TV', 'VR', {'attr_dict': {'value': 0.17}}), ('TV', 'YS', {'attr_dict': {'value': 0.1}}), ('TV', 'VK', {'attr_dict': {'value': 0.25}}), ('TV', 'YV', {'attr_dict': {'value': 0.17}}), ('TV', 'VI', {'attr_dict': {'value': 0.17}}), ('VA', 'VR', {'attr_dict': {'value': 2.83}}), ('VE', 'VR', {'attr_dict': {'value': 0.33}}), ('VI', 'VR', {'attr_dict': {'value': 0.17}}), ('VI', 'YV', {'attr_dict': {'value': 0.17}}), ('VK', 'VV', {'attr_dict': {'value': 1.0}}), ('VP', 'VR', {'attr_dict': {'value': 1.03}}), ('VP', 'VV', {'attr_dict': {'value': 0.53}}), ('VR', 'XV', {'attr_dict': {'value': 2.5}}), ('VR', 'YV', {'attr_dict': {'value': 6.08}}), ('VR', 'VV', {'attr_dict': {'value': 0.87}}), ('VR', 'YK', {'attr_dict': {'value': 0.33}}), ('VR', 'VY', {'attr_dict': {'value': 0.33}}), ('VV', 'YV', {'attr_dict': {'value': 0.5}}), ('VY', 'YV', {'attr_dict': {'value': 0.33}})])"
      ]
     },
     "execution_count": 7,
     "metadata": {},
     "output_type": "execute_result"
    }
   ],
   "source": [
    "ak.edges(data=True)"
   ]
  },
  {
   "cell_type": "code",
   "execution_count": 8,
   "metadata": {},
   "outputs": [],
   "source": [
    "# Sort the edge list by weight\n",
    "all_edges = sorted(ak.edges(), key= lambda x: ak.get_edge_data(*x)['attr_dict']['value'], reverse=True)"
   ]
  },
  {
   "cell_type": "code",
   "execution_count": 15,
   "metadata": {},
   "outputs": [
    {
     "data": {
      "text/plain": [
       "3.0"
      ]
     },
     "execution_count": 15,
     "metadata": {},
     "output_type": "execute_result"
    }
   ],
   "source": [
    "ak.get_edge_data('AN', 'PX')['attr_dict']['value']"
   ]
  },
  {
   "cell_type": "markdown",
   "metadata": {},
   "source": [
    "Now for each edge in the sorted edge list, we print the edge and its weight (number of scenes with that character pair normalized by number of characters in scene).  The edge weights are determined by how many normalized scenes the character pair shared."
   ]
  },
  {
   "cell_type": "code",
   "execution_count": 26,
   "metadata": {
    "scrolled": true
   },
   "outputs": [
    {
     "name": "stdout",
     "output_type": "stream",
     "text": [
      "AN   VR   27.200 Anna Arkadyevna Karenina, wife of AL => Count Alexey Kirillovitch Vronsky, young officer\n",
      "KI   LE   22.530 Princess Ekaterina Alexandrovna Shtcherbatskaya (Kitty), wife of LE => Konstantin Dmitrievitch Levin, proprietor of Pokrovskoe\n",
      "LE   ST   17.720 Konstantin Dmitrievitch Levin, proprietor of Pokrovskoe => Prince Stepan Arkadyevitch Oblonsky (Stiva), brother of AN\n",
      "KO   LE   14.250 Sergei Ivanovitch Koznishev, half-brother of LE => Konstantin Dmitrievitch Levin, proprietor of Pokrovskoe\n",
      "AL   AN   13.330 Alexey Alexandrovitch Karenin, minister of state => Anna Arkadyevna Karenina, wife of AL\n",
      "KI   PS   11.070 Princess Ekaterina Alexandrovna Shtcherbatskaya (Kitty), wife of LE => Princess Shtcherbatskaya, mother of DO and KI\n",
      "DO   LE   7.970 Princess Darya Alexandrovna Oblonskaya (Dolly), wife of ST => Konstantin Dmitrievitch Levin, proprietor of Pokrovskoe\n",
      "AG   LE   7.580 Agafea Mihalovna, housekeeper of LE => Konstantin Dmitrievitch Levin, proprietor of Pokrovskoe\n",
      "AL   ST   7.180 Alexey Alexandrovitch Karenin, minister of state => Prince Stepan Arkadyevitch Oblonsky (Stiva), brother of AN\n",
      "DO   ST   6.600 Princess Darya Alexandrovna Oblonskaya (Dolly), wife of ST => Prince Stepan Arkadyevitch Oblonsky (Stiva), brother of AN\n",
      "AA   AN   6.500 Annushka, maid of AN => Anna Arkadyevna Karenina, wife of AL\n",
      "LE   VF   6.500 Konstantin Dmitrievitch Levin, proprietor of Pokrovskoe => Vassily Fedorovitch, bailiff of LE\n",
      "VR   YV   6.080 Count Alexey Kirillovitch Vronsky, young officer => Captain Yashvin, gambling friend of VR\n",
      "AN   DO   5.870 Anna Arkadyevna Karenina, wife of AL => Princess Darya Alexandrovna Oblonskaya (Dolly), wife of ST\n",
      "KZ   LE   5.830 Kouzma, elderly servant of LE => Konstantin Dmitrievitch Levin, proprietor of Pokrovskoe\n",
      "KI   PR   5.720 Princess Ekaterina Alexandrovna Shtcherbatskaya (Kitty), wife of LE => Prince Alexander Shtcherbatsky, father of DO and KI\n",
      "DO   KI   5.550 Princess Darya Alexandrovna Oblonskaya (Dolly), wife of ST => Princess Ekaterina Alexandrovna Shtcherbatskaya (Kitty), wife of LE\n",
      "AN   BA   5.000 Anna Arkadyevna Karenina, wife of AL => Annie, baby of AN and VR\n",
      "LE   PS   4.980 Konstantin Dmitrievitch Levin, proprietor of Pokrovskoe => Princess Shtcherbatskaya, mother of DO and KI\n",
      "PR   PS   4.780 Prince Alexander Shtcherbatsky, father of DO and KI => Princess Shtcherbatskaya, mother of DO and KI\n",
      "LE   SV   4.700 Konstantin Dmitrievitch Levin, proprietor of Pokrovskoe => Nikolay Ivanovitch Sviazhsky, landowner\n",
      "LE   PR   4.630 Konstantin Dmitrievitch Levin, proprietor of Pokrovskoe => Prince Alexander Shtcherbatsky, father of DO and KI\n",
      "ST   VR   4.450 Prince Stepan Arkadyevitch Oblonsky (Stiva), brother of AN => Count Alexey Kirillovitch Vronsky, young officer\n",
      "LE   NI   4.330 Konstantin Dmitrievitch Levin, proprietor of Pokrovskoe => Nikolay Levin, brother of LE\n",
      "AN   SE   4.250 Anna Arkadyevna Karenina, wife of AL => Sergey Alexeyevitch Karenin (Seryozha), son of AL and AN\n",
      "LE   VV   4.250 Konstantin Dmitrievitch Levin, proprietor of Pokrovskoe => Vassenka Veslovsky, distant cousin of KI\n",
      "AL   LI   4.170 Alexey Alexandrovitch Karenin, minister of state => Countess Lidia Ivanovna, Petersburg dogooder\n",
      "BT   VR   4.080 Princess Betsy Tverskaya, cousin of VR => Count Alexey Kirillovitch Vronsky, young officer\n",
      "AN   ST   4.000 Anna Arkadyevna Karenina, wife of AL => Prince Stepan Arkadyevitch Oblonsky (Stiva), brother of AN\n",
      "AN   BT   3.580 Anna Arkadyevna Karenina, wife of AL => Princess Betsy Tverskaya, cousin of VR\n",
      "KO   ST   3.550 Sergei Ivanovitch Koznishev, half-brother of LE => Prince Stepan Arkadyevitch Oblonsky (Stiva), brother of AN\n",
      "KI   VK   3.370 Princess Ekaterina Alexandrovna Shtcherbatskaya (Kitty), wife of LE => Varvara Andreevna (Varenka), adopted daughter of MS\n",
      "AG   KI   3.250 Agafea Mihalovna, housekeeper of LE => Princess Ekaterina Alexandrovna Shtcherbatskaya (Kitty), wife of LE\n",
      "AL   SE   3.250 Alexey Alexandrovitch Karenin, minister of state => Sergey Alexeyevitch Karenin (Seryozha), son of AL and AN\n",
      "ST   VV   3.250 Prince Stepan Arkadyevitch Oblonsky (Stiva), brother of AN => Vassenka Veslovsky, distant cousin of KI\n",
      "DO   TA   3.030 Princess Darya Alexandrovna Oblonskaya (Dolly), wife of ST => Tanya, oldest daughter of ST and DO\n",
      "AN   PX   3.000 Anna Arkadyevna Karenina, wife of AL => Pyotr, servant of AN\n",
      "BT   ST   3.000 Princess Betsy Tverskaya, cousin of VR => Prince Stepan Arkadyevitch Oblonsky (Stiva), brother of AN\n",
      "LE   NA   2.830 Konstantin Dmitrievitch Levin, proprietor of Pokrovskoe => Princess Natalia Lvova, sister of DO and KI\n",
      "VA   VR   2.830 Varya, wife of XV => Count Alexey Kirillovitch Vronsky, young officer\n",
      "DO   PH   2.670 Princess Darya Alexandrovna Oblonskaya (Dolly), wife of ST => Matrona Marya Philimonovna, nurse\n",
      "KO   KT   2.670 Sergei Ivanovitch Koznishev, half-brother of LE => Professor Katavasov, natural scientist\n",
      "MA   ST   2.600 Matvey, valet of ST => Prince Stepan Arkadyevitch Oblonsky (Stiva), brother of AN\n",
      "AL   BT   2.580 Alexey Alexandrovitch Karenin, minister of state => Princess Betsy Tverskaya, cousin of VR\n",
      "AL   VR   2.580 Alexey Alexandrovitch Karenin, minister of state => Count Alexey Kirillovitch Vronsky, young officer\n",
      "AL   SL   2.500 Alexey Alexandrovitch Karenin, minister of state => Mihail Vassilievitch Sludin, secretary of AL's department\n",
      "AL   KY   2.500 Alexey Alexandrovitch Karenin, minister of state => Korney, valet of AL\n",
      "BD   KI   2.500 Dmitri (Mitya), baby of LE and KI => Princess Ekaterina Alexandrovna Shtcherbatskaya (Kitty), wife of LE\n",
      "VR   XV   2.500 Count Alexey Kirillovitch Vronsky, young officer => Alexander Vronsky, brother of VR\n",
      "PT   VR   2.420 Lieutenant Petritsky, friend of VR => Count Alexey Kirillovitch Vronsky, young officer\n",
      "GR   TA   2.370 Grisha, young son of ST and DO => Tanya, oldest daughter of ST and DO\n",
      "AN   GO   2.330 Anna Arkadyevna Karenina, wife of AL => Golenishtchev, friend of VR\n",
      "GO   VR   2.330 Golenishtchev, friend of VR => Count Alexey Kirillovitch Vronsky, young officer\n",
      "MN   NI   2.330 Marya Nikolaevna, companion of NI => Nikolay Levin, brother of LE\n",
      "MS   VK   2.330 Madame Stahl, invalid philanthropist => Varvara Andreevna (Varenka), adopted daughter of MS\n",
      "KO   PR   2.300 Sergei Ivanovitch Koznishev, half-brother of LE => Prince Alexander Shtcherbatsky, father of DO and KI\n",
      "AN   LI   2.250 Anna Arkadyevna Karenina, wife of AL => Countess Lidia Ivanovna, Petersburg dogooder\n",
      "BT   MY   2.250 Princess Betsy Tverskaya, cousin of VR => Princess Myakaya, enfant terrible\n",
      "SE   SI   2.250 Sergey Alexeyevitch Karenin (Seryozha), son of AL and AN => Vassily Lukitch Sitnikov, tutor of SE\n",
      "KI   VR   2.200 Princess Ekaterina Alexandrovna Shtcherbatskaya (Kitty), wife of LE => Count Alexey Kirillovitch Vronsky, young officer\n",
      "KI   NI   2.170 Princess Ekaterina Alexandrovna Shtcherbatskaya (Kitty), wife of LE => Nikolay Levin, brother of LE\n",
      "DO   KO   2.130 Princess Darya Alexandrovna Oblonskaya (Dolly), wife of ST => Sergei Ivanovitch Koznishev, half-brother of LE\n",
      "CN   KI   2.030 Countess Nordston, friend of KI => Princess Ekaterina Alexandrovna Shtcherbatskaya (Kitty), wife of LE\n",
      "DO   GR   2.030 Princess Darya Alexandrovna Oblonskaya (Dolly), wife of ST => Grisha, young son of ST and DO\n",
      "AL   SM   2.000 Alexey Alexandrovitch Karenin, minister of state => Stremov, opponent of AL\n",
      "AN   MC   2.000 Anna Arkadyevna Karenina, wife of AL => Mihail, coachman\n",
      "AN   KI   2.000 Anna Arkadyevna Karenina, wife of AL => Princess Ekaterina Alexandrovna Shtcherbatskaya (Kitty), wife of LE\n",
      "BN   ST   2.000 Bartnyansky, rich man in Petersburg => Prince Stepan Arkadyevitch Oblonsky (Stiva), brother of AN\n",
      "IG   LE   2.000 Ignat, coachman of LE => Konstantin Dmitrievitch Levin, proprietor of Pokrovskoe\n",
      "LE   ML   2.000 Konstantin Dmitrievitch Levin, proprietor of Pokrovskoe => Mademoiselle Linon, French governess of KI\n",
      "PP   ST   2.000 Prince Pyotr Oblonsky, man of sixty => Prince Stepan Arkadyevitch Oblonsky (Stiva), brother of AN\n",
      "KO   VK   1.950 Sergei Ivanovitch Koznishev, half-brother of LE => Varvara Andreevna (Varenka), adopted daughter of MS\n",
      "KI   KO   1.880 Princess Ekaterina Alexandrovna Shtcherbatskaya (Kitty), wife of LE => Sergei Ivanovitch Koznishev, half-brother of LE\n",
      "DO   VR   1.870 Princess Darya Alexandrovna Oblonskaya (Dolly), wife of ST => Count Alexey Kirillovitch Vronsky, young officer\n",
      "KI   YK   1.830 Princess Ekaterina Alexandrovna Shtcherbatskaya (Kitty), wife of LE => Yegorushka Korsunsky, handsome dancer\n",
      "LE   MN   1.830 Konstantin Dmitrievitch Levin, proprietor of Pokrovskoe => Marya Nikolaevna, companion of NI\n",
      "KI   ST   1.770 Princess Ekaterina Alexandrovna Shtcherbatskaya (Kitty), wife of LE => Prince Stepan Arkadyevitch Oblonsky (Stiva), brother of AN\n",
      "PS   VK   1.750 Princess Shtcherbatskaya, mother of DO and KI => Varvara Andreevna (Varenka), adopted daughter of MS\n",
      "AN   YV   1.670 Anna Arkadyevna Karenina, wife of AL => Captain Yashvin, gambling friend of VR\n",
      "AN   TU   1.670 Anna Arkadyevna Karenina, wife of AL => Tushkevitch, croquet player\n",
      "CV   VR   1.670 Countess Vronskaya, mother of VR => Count Alexey Kirillovitch Vronsky, young officer\n",
      "KI   MN   1.670 Princess Ekaterina Alexandrovna Shtcherbatskaya (Kitty), wife of LE => Marya Nikolaevna, companion of NI\n",
      "KT   LE   1.670 Professor Katavasov, natural scientist => Konstantin Dmitrievitch Levin, proprietor of Pokrovskoe\n",
      "LE   PE   1.600 Konstantin Dmitrievitch Levin, proprietor of Pokrovskoe => Pestsov, eccentric enthusiast\n",
      "HO   TA   1.580 Miss Hoole, English governess to DO's children => Tanya, oldest daughter of ST and DO\n",
      "AN   VP   1.530 Anna Arkadyevna Karenina, wife of AL => Princess Varvara, aunt of ST\n",
      "KO   VR   1.530 Sergei Ivanovitch Koznishev, half-brother of LE => Count Alexey Kirillovitch Vronsky, young officer\n",
      "AL   ED   1.500 Alexey Alexandrovitch Karenin, minister of state => Miss Edwards, English governor of SE\n",
      "AN   LM   1.500 Anna Arkadyevna Karenina, wife of AL => Liza Merkalova, thin brunette admired by SM\n",
      "BD   LE   1.500 Dmitri (Mitya), baby of LE and KI => Konstantin Dmitrievitch Levin, proprietor of Pokrovskoe\n",
      "CO   VR   1.500 Cord, English horse trainer => Count Alexey Kirillovitch Vronsky, young officer\n",
      "DO   VK   1.500 Princess Darya Alexandrovna Oblonskaya (Dolly), wife of ST => Varvara Andreevna (Varenka), adopted daughter of MS\n",
      "KE   KI   1.500 Prince Kedrov, member of VR's regiment => Princess Ekaterina Alexandrovna Shtcherbatskaya (Kitty), wife of LE\n",
      "KT   PR   1.500 Professor Katavasov, natural scientist => Prince Alexander Shtcherbatsky, father of DO and KI\n",
      "KU   VR   1.500 Prince Kuzovlev, fearful horseman => Count Alexey Kirillovitch Vronsky, young officer\n",
      "LE   NS   1.500 Konstantin Dmitrievitch Levin, proprietor of Pokrovskoe => Nikolay Shtcherbatsky, cousin of KI\n",
      "LV   NA   1.500 Arseny Lvov, husband of NA => Princess Natalia Lvova, sister of DO and KI\n",
      "ST   TA   1.500 Prince Stepan Arkadyevitch Oblonsky (Stiva), brother of AN => Tanya, oldest daughter of ST and DO\n",
      "DO   PR   1.470 Princess Darya Alexandrovna Oblonskaya (Dolly), wife of ST => Prince Alexander Shtcherbatsky, father of DO and KI\n",
      "SV   VR   1.400 Nikolay Ivanovitch Sviazhsky, landowner => Count Alexey Kirillovitch Vronsky, young officer\n",
      "AN   VV   1.370 Anna Arkadyevna Karenina, wife of AL => Vassenka Veslovsky, distant cousin of KI\n",
      "KO   SV   1.370 Sergei Ivanovitch Koznishev, half-brother of LE => Nikolay Ivanovitch Sviazhsky, landowner\n",
      "LE   LP   1.370 Konstantin Dmitrievitch Levin, proprietor of Pokrovskoe => Lizaveta Petrovna, midwife\n",
      "AN   MI   1.330 Anna Arkadyevna Karenina, wife of AL => Mihailov, painter\n",
      "AN   YK   1.330 Anna Arkadyevna Karenina, wife of AL => Yegorushka Korsunsky, handsome dancer\n",
      "DO   NA   1.330 Princess Darya Alexandrovna Oblonskaya (Dolly), wife of ST => Princess Natalia Lvova, sister of DO and KI\n",
      "GO   MI   1.330 Golenishtchev, friend of VR => Mihailov, painter\n",
      "KI   MS   1.330 Princess Ekaterina Alexandrovna Shtcherbatskaya (Kitty), wife of LE => Madame Stahl, invalid philanthropist\n",
      "MI   VR   1.330 Mihailov, painter => Count Alexey Kirillovitch Vronsky, young officer\n",
      "SO   VR   1.330 Princess Sorokina, young friend of CV => Count Alexey Kirillovitch Vronsky, young officer\n",
      "DO   VV   1.280 Princess Darya Alexandrovna Oblonskaya (Dolly), wife of ST => Vassenka Veslovsky, distant cousin of KI\n",
      "DO   PS   1.280 Princess Darya Alexandrovna Oblonskaya (Dolly), wife of ST => Princess Shtcherbatskaya, mother of DO and KI\n",
      "AL   DO   1.270 Alexey Alexandrovitch Karenin, minister of state => Princess Darya Alexandrovna Oblonskaya (Dolly), wife of ST\n",
      "AN   LE   1.250 Anna Arkadyevna Karenina, wife of AL => Konstantin Dmitrievitch Levin, proprietor of Pokrovskoe\n",
      "AN   VO   1.250 Anna Arkadyevna Karenina, wife of AL => Ivan Petrovich Vorkuev, publisher\n",
      "SP   VR   1.250 General Serpuhovskoy, rival of VR => Count Alexey Kirillovitch Vronsky, young officer\n",
      "GR   MM   1.200 Grisha, young son of ST and DO => Masha 3, little daughter of ST and DO\n",
      "ST   SV   1.200 Prince Stepan Arkadyevitch Oblonsky (Stiva), brother of AN => Nikolay Ivanovitch Sviazhsky, landowner\n",
      "KI   MV   1.170 Princess Ekaterina Alexandrovna Shtcherbatskaya (Kitty), wife of LE => Marya Vlasyevna, midwife\n",
      "PS   VV   1.170 Princess Shtcherbatskaya, mother of DO and KI => Vassenka Veslovsky, distant cousin of KI\n",
      "LE   VK   1.120 Konstantin Dmitrievitch Levin, proprietor of Pokrovskoe => Varvara Andreevna (Varenka), adopted daughter of MS\n",
      "DO   MA   1.100 Princess Darya Alexandrovna Oblonskaya (Dolly), wife of ST => Matvey, valet of ST\n",
      "PS   VR   1.030 Princess Shtcherbatskaya, mother of DO and KI => Count Alexey Kirillovitch Vronsky, young officer\n",
      "VP   VR   1.030 Princess Varvara, aunt of ST => Count Alexey Kirillovitch Vronsky, young officer\n",
      "KO   PE   1.020 Sergei Ivanovitch Koznishev, half-brother of LE => Pestsov, eccentric enthusiast\n",
      "AG   BD   1.000 Agafea Mihalovna, housekeeper of LE => Dmitri (Mitya), baby of LE and KI\n",
      "AL   BA   1.000 Alexey Alexandrovitch Karenin, minister of state => Annie, baby of AN and VR\n",
      "AL   KP   1.000 Alexey Alexandrovitch Karenin, minister of state => Kapitonitch, hall porter of AL\n",
      "AN   SM   1.000 Anna Arkadyevna Karenina, wife of AL => Stremov, opponent of AL\n",
      "AN   KP   1.000 Anna Arkadyevna Karenina, wife of AL => Kapitonitch, hall porter of AL\n",
      "BL   LE   1.000 Count Bol, friend of KI in Moscow => Konstantin Dmitrievitch Levin, proprietor of Pokrovskoe\n",
      "BO   LE   1.000 Countess Bola, wife of BL => Konstantin Dmitrievitch Levin, proprietor of Pokrovskoe\n",
      "CA   ST   1.000 Count Anitchkin, supervisor of ST => Prince Stepan Arkadyevitch Oblonsky (Stiva), brother of AN\n",
      "CB   YK   1.000 Countess Bonina, dance partner of YK => Yegorushka Korsunsky, handsome dancer\n",
      "CN   NA   1.000 Countess Nordston, friend of KI => Princess Natalia Lvova, sister of DO and KI\n",
      "CN   DO   1.000 Countess Nordston, friend of KI => Princess Darya Alexandrovna Oblonskaya (Dolly), wife of ST\n",
      "CN   YK   1.000 Countess Nordston, friend of KI => Yegorushka Korsunsky, handsome dancer\n",
      "CV   KO   1.000 Countess Vronskaya, mother of VR => Sergei Ivanovitch Koznishev, half-brother of LE\n",
      "EF   KY   1.000 Marya Efimovna, nurse of AL => Korney, valet of AL\n",
      "FR   LE   1.000 Fyodor Ryezunov, carpenter => Konstantin Dmitrievitch Levin, proprietor of Pokrovskoe\n",
      "FY   LE   1.000 Fyodor 2, peasant => Konstantin Dmitrievitch Levin, proprietor of Pokrovskoe\n",
      "IV   LE   1.000 Ivan 1, cowherd => Konstantin Dmitrievitch Levin, proprietor of Pokrovskoe\n",
      "IW   LE   1.000 Ivan 2, coachmen of LE => Konstantin Dmitrievitch Levin, proprietor of Pokrovskoe\n",
      "KE   SQ   1.000 Prince Kedrov, member of VR's regiment => Snetkow, marshal of Kashinsky province\n",
      "KI   MD   1.000 Princess Ekaterina Alexandrovna Shtcherbatskaya (Kitty), wife of LE => Marya Dmitrievna, aunt of KI\n",
      "KI   NA   1.000 Princess Ekaterina Alexandrovna Shtcherbatskaya (Kitty), wife of LE => Princess Natalia Lvova, sister of DO and KI\n",
      "KI   ML   1.000 Princess Ekaterina Alexandrovna Shtcherbatskaya (Kitty), wife of LE => Mademoiselle Linon, French governess of KI\n",
      "KP   SE   1.000 Kapitonitch, hall porter of AL => Sergey Alexeyevitch Karenin (Seryozha), son of AL and AN\n",
      "KP   KY   1.000 Kapitonitch, hall porter of AL => Korney, valet of AL\n",
      "KP   VR   1.000 Kapitonitch, hall porter of AL => Count Alexey Kirillovitch Vronsky, young officer\n",
      "LE   PA   1.000 Konstantin Dmitrievitch Levin, proprietor of Pokrovskoe => Parmenitch, old beekeeper\n",
      "LE   YG   1.000 Konstantin Dmitrievitch Levin, proprietor of Pokrovskoe => Yegor, servant in hotel\n",
      "LE   SU   1.000 Konstantin Dmitrievitch Levin, proprietor of Pokrovskoe => Shuraev, peasant\n",
      "LE   TT   1.000 Konstantin Dmitrievitch Levin, proprietor of Pokrovskoe => Tit, mower\n",
      "LK   TB   1.000 Lidi Korsunskaya, wife of YK => Madame Trubetskaya, wedding guest\n",
      "LK   YK   1.000 Lidi Korsunskaya, wife of YK => Yegorushka Korsunsky, handsome dancer\n",
      "MH   VR   1.000 Mahotin, rival horseman to VR => Count Alexey Kirillovitch Vronsky, young officer\n",
      "MI   SA   1.000 Mihailov, painter => Sasha, wife of MI\n",
      "MR   ST   1.000 Mademoiselle Roland, French governess => Prince Stepan Arkadyevitch Oblonsky (Stiva), brother of AN\n",
      "MT   ST   1.000 Masha Tchibisova, dancer => Prince Stepan Arkadyevitch Oblonsky (Stiva), brother of AN\n",
      "NA   ST   1.000 Princess Natalia Lvova, sister of DO and KI => Prince Stepan Arkadyevitch Oblonsky (Stiva), brother of AN\n",
      "ND   SE   1.000 Nadinka, niece of LI => Sergey Alexeyevitch Karenin (Seryozha), son of AL and AN\n",
      "NV   PR   1.000 Madame Nikolaevna, KI's maid of honor => Prince Alexander Shtcherbatsky, father of DO and KI\n",
      "PC   ST   1.000 Prince Tchetchensky, man with two families => Prince Stepan Arkadyevitch Oblonsky (Stiva), brother of AN\n",
      "ST   VG   1.000 Prince Stepan Arkadyevitch Oblonsky (Stiva), brother of AN => Volgarinoff, Jew\n",
      "TU   VR   1.000 Tushkevitch, croquet player => Count Alexey Kirillovitch Vronsky, young officer\n",
      "VK   VV   1.000 Varvara Andreevna (Varenka), adopted daughter of MS => Vassenka Veslovsky, distant cousin of KI\n",
      "GR   LE   0.950 Grisha, young son of ST and DO => Konstantin Dmitrievitch Levin, proprietor of Pokrovskoe\n",
      "KI   RT   0.920 Princess Ekaterina Alexandrovna Shtcherbatskaya (Kitty), wife of LE => Marya Yevgenyevna Rtishtcheva, lady of Moscow\n",
      "LE   TC   0.920 Konstantin Dmitrievitch Levin, proprietor of Pokrovskoe => Tchirikov, best man of LE\n",
      "LI   ST   0.920 Countess Lidia Ivanovna, Petersburg dogooder => Prince Stepan Arkadyevitch Oblonsky (Stiva), brother of AN\n",
      "PS   RT   0.920 Princess Shtcherbatskaya, mother of DO and KI => Marya Yevgenyevna Rtishtcheva, lady of Moscow\n",
      "LE   VR   0.900 Konstantin Dmitrievitch Levin, proprietor of Pokrovskoe => Count Alexey Kirillovitch Vronsky, young officer\n",
      "VR   VV   0.870 Count Alexey Kirillovitch Vronsky, young officer => Vassenka Veslovsky, distant cousin of KI\n",
      "LE   TV   0.850 Konstantin Dmitrievitch Levin, proprietor of Pokrovskoe => Turovtsin, party guest\n",
      "AG   ST   0.830 Agafea Mihalovna, housekeeper of LE => Prince Stepan Arkadyevitch Oblonsky (Stiva), brother of AN\n",
      "AG   KZ   0.830 Agafea Mihalovna, housekeeper of LE => Kouzma, elderly servant of LE\n",
      "AP   KI   0.830 Anna Pavlovna, wife of PV => Princess Ekaterina Alexandrovna Shtcherbatskaya (Kitty), wife of LE\n",
      "AP   PV   0.830 Anna Pavlovna, wife of PV => Mihail Alexeyevitch Petrov, painter\n",
      "CV   VA   0.830 Countess Vronskaya, mother of VR => Varya, wife of XV\n",
      "CV   ST   0.830 Countess Vronskaya, mother of VR => Prince Stepan Arkadyevitch Oblonsky (Stiva), brother of AN\n",
      "GR   ST   0.830 Grisha, young son of ST and DO => Prince Stepan Arkadyevitch Oblonsky (Stiva), brother of AN\n",
      "KE   KO   0.830 Prince Kedrov, member of VR's regiment => Sergei Ivanovitch Koznishev, half-brother of LE\n",
      "KI   PV   0.830 Princess Ekaterina Alexandrovna Shtcherbatskaya (Kitty), wife of LE => Mihail Alexeyevitch Petrov, painter\n",
      "KZ   ST   0.830 Kouzma, elderly servant of LE => Prince Stepan Arkadyevitch Oblonsky (Stiva), brother of AN\n",
      "LE   SN   0.830 Konstantin Dmitrievitch Levin, proprietor of Pokrovskoe => Stepan Vassilievitch, landowner\n",
      "SN   SV   0.830 Stepan Vassilievitch, landowner => Nikolay Ivanovitch Sviazhsky, landowner\n",
      "KO   TV   0.770 Sergei Ivanovitch Koznishev, half-brother of LE => Turovtsin, party guest\n",
      "AN   HA   0.750 Anna Arkadyevna Karenina, wife of AL => Hannah, pupil of AN\n",
      "LE   TA   0.750 Konstantin Dmitrievitch Levin, proprietor of Pokrovskoe => Tanya, oldest daughter of ST and DO\n",
      "MY   VR   0.750 Princess Myakaya, enfant terrible => Count Alexey Kirillovitch Vronsky, young officer\n",
      "PT   YV   0.750 Lieutenant Petritsky, friend of VR => Captain Yashvin, gambling friend of VR\n",
      "CN   LE   0.700 Countess Nordston, friend of KI => Konstantin Dmitrievitch Levin, proprietor of Pokrovskoe\n",
      "KO   KV   0.700 Sergei Ivanovitch Koznishev, half-brother of LE => Krivin, bald socialite\n",
      "LE   MM   0.700 Konstantin Dmitrievitch Levin, proprietor of Pokrovskoe => Masha 3, little daughter of ST and DO\n",
      "KI   TV   0.680 Princess Ekaterina Alexandrovna Shtcherbatskaya (Kitty), wife of LE => Turovtsin, party guest\n",
      "ST   TV   0.680 Prince Stepan Arkadyevitch Oblonsky (Stiva), brother of AN => Turovtsin, party guest\n",
      "AG   KO   0.670 Agafea Mihalovna, housekeeper of LE => Sergei Ivanovitch Koznishev, half-brother of LE\n",
      "AL   JL   0.670 Alexey Alexandrovitch Karenin, minister of state => Jules Landau (Count Bezzubov), psychic\n",
      "DO   LL   0.670 Princess Darya Alexandrovna Oblonskaya (Dolly), wife of ST => Lily, youngest child of DO and ST\n",
      "JL   ST   0.670 Jules Landau (Count Bezzubov), psychic => Prince Stepan Arkadyevitch Oblonsky (Stiva), brother of AN\n",
      "JL   LI   0.670 Jules Landau (Count Bezzubov), psychic => Countess Lidia Ivanovna, Petersburg dogooder\n",
      "KR   NI   0.670 Kritsky, friend of NI => Nikolay Levin, brother of LE\n",
      "KR   LE   0.670 Kritsky, friend of NI => Konstantin Dmitrievitch Levin, proprietor of Pokrovskoe\n",
      "KR   MN   0.670 Kritsky, friend of NI => Marya Nikolaevna, companion of NI\n",
      "AL   YS   0.600 Alexey Alexandrovitch Karenin, minister of state => Young Shtcherbatsky, brother of KI\n",
      "DO   YS   0.600 Princess Darya Alexandrovna Oblonskaya (Dolly), wife of ST => Young Shtcherbatsky, brother of KI\n",
      "DO   TV   0.600 Princess Darya Alexandrovna Oblonskaya (Dolly), wife of ST => Turovtsin, party guest\n",
      "KI   YS   0.600 Princess Ekaterina Alexandrovna Shtcherbatskaya (Kitty), wife of LE => Young Shtcherbatsky, brother of KI\n",
      "LE   YS   0.600 Konstantin Dmitrievitch Levin, proprietor of Pokrovskoe => Young Shtcherbatsky, brother of KI\n",
      "PR   ST   0.600 Prince Alexander Shtcherbatsky, father of DO and KI => Prince Stepan Arkadyevitch Oblonsky (Stiva), brother of AN\n",
      "DO   HO   0.580 Princess Darya Alexandrovna Oblonskaya (Dolly), wife of ST => Miss Hoole, English governess to DO's children\n",
      "KI   TC   0.580 Princess Ekaterina Alexandrovna Shtcherbatskaya (Kitty), wife of LE => Tchirikov, best man of LE\n",
      "PR   RT   0.580 Prince Alexander Shtcherbatsky, father of DO and KI => Marya Yevgenyevna Rtishtcheva, lady of Moscow\n",
      "PR   VK   0.580 Prince Alexander Shtcherbatsky, father of DO and KI => Varvara Andreevna (Varenka), adopted daughter of MS\n",
      "RT   VK   0.580 Marya Yevgenyevna Rtishtcheva, lady of Moscow => Varvara Andreevna (Varenka), adopted daughter of MS\n",
      "GR   KO   0.570 Grisha, young son of ST and DO => Sergei Ivanovitch Koznishev, half-brother of LE\n",
      "AN   SV   0.530 Anna Arkadyevna Karenina, wife of AL => Nikolay Ivanovitch Sviazhsky, landowner\n",
      "CN   VR   0.530 Countess Nordston, friend of KI => Count Alexey Kirillovitch Vronsky, young officer\n",
      "CN   PS   0.530 Countess Nordston, friend of KI => Princess Shtcherbatskaya, mother of DO and KI\n",
      "DO   VP   0.530 Princess Darya Alexandrovna Oblonskaya (Dolly), wife of ST => Princess Varvara, aunt of ST\n",
      "DO   SV   0.530 Princess Darya Alexandrovna Oblonskaya (Dolly), wife of ST => Nikolay Ivanovitch Sviazhsky, landowner\n",
      "GR   KI   0.530 Grisha, young son of ST and DO => Princess Ekaterina Alexandrovna Shtcherbatskaya (Kitty), wife of LE\n",
      "NY   ST   0.530 Nevyedovsky, malignant gentleman => Prince Stepan Arkadyevitch Oblonsky (Stiva), brother of AN\n",
      "NY   SV   0.530 Nevyedovsky, malignant gentleman => Nikolay Ivanovitch Sviazhsky, landowner\n",
      "NY   VR   0.530 Nevyedovsky, malignant gentleman => Count Alexey Kirillovitch Vronsky, young officer\n",
      "PR   VR   0.530 Prince Alexander Shtcherbatsky, father of DO and KI => Count Alexey Kirillovitch Vronsky, young officer\n",
      "SV   VP   0.530 Nikolay Ivanovitch Sviazhsky, landowner => Princess Varvara, aunt of ST\n",
      "SV   VV   0.530 Nikolay Ivanovitch Sviazhsky, landowner => Vassenka Veslovsky, distant cousin of KI\n",
      "VP   VV   0.530 Princess Varvara, aunt of ST => Vassenka Veslovsky, distant cousin of KI\n",
      "AL   KO   0.520 Alexey Alexandrovitch Karenin, minister of state => Sergei Ivanovitch Koznishev, half-brother of LE\n",
      "AL   TV   0.520 Alexey Alexandrovitch Karenin, minister of state => Turovtsin, party guest\n",
      "AL   PE   0.520 Alexey Alexandrovitch Karenin, minister of state => Pestsov, eccentric enthusiast\n",
      "PE   TV   0.520 Pestsov, eccentric enthusiast => Turovtsin, party guest\n",
      "PE   ST   0.520 Pestsov, eccentric enthusiast => Prince Stepan Arkadyevitch Oblonsky (Stiva), brother of AN\n",
      "AA   PX   0.500 Annushka, maid of AN => Pyotr, servant of AN\n",
      "AA   DO   0.500 Annushka, maid of AN => Princess Darya Alexandrovna Oblonskaya (Dolly), wife of ST\n",
      "AA   VR   0.500 Annushka, maid of AN => Count Alexey Kirillovitch Vronsky, young officer\n",
      "AG   NI   0.500 Agafea Mihalovna, housekeeper of LE => Nikolay Levin, brother of LE\n",
      "AN   FC   0.500 Anna Arkadyevna Karenina, wife of AL => Fyodor 1, coachman of AA\n",
      "AN   ME   0.500 Anna Arkadyevna Karenina, wife of AL => Mariette, governess of SE\n",
      "AN   XV   0.500 Anna Arkadyevna Karenina, wife of AL => Alexander Vronsky, brother of VR\n",
      "AN   SL   0.500 Anna Arkadyevna Karenina, wife of AL => Mihail Vassilievitch Sludin, secretary of AL's department\n",
      "BA   VP   0.500 Annie, baby of AN and VR => Princess Varvara, aunt of ST\n",
      "BA   DO   0.500 Annie, baby of AN and VR => Princess Darya Alexandrovna Oblonskaya (Dolly), wife of ST\n",
      "BD   PS   0.500 Dmitri (Mitya), baby of LE and KI => Princess Shtcherbatskaya, mother of DO and KI\n",
      "BE   KI   0.500 Madame Berthe, blind woman => Princess Ekaterina Alexandrovna Shtcherbatskaya (Kitty), wife of LE\n",
      "BE   PR   0.500 Madame Berthe, blind woman => Prince Alexander Shtcherbatsky, father of DO and KI\n",
      "CA   KI   0.500 Count Anitchkin, supervisor of ST => Princess Ekaterina Alexandrovna Shtcherbatskaya (Kitty), wife of LE\n",
      "CA   LE   0.500 Count Anitchkin, supervisor of ST => Konstantin Dmitrievitch Levin, proprietor of Pokrovskoe\n",
      "CO   MH   0.500 Cord, English horse trainer => Mahotin, rival horseman to VR\n",
      "DO   MM   0.500 Princess Darya Alexandrovna Oblonskaya (Dolly), wife of ST => Masha 3, little daughter of ST and DO\n",
      "ED   SE   0.500 Miss Edwards, English governor of SE => Sergey Alexeyevitch Karenin (Seryozha), son of AL and AN\n",
      "FC   PX   0.500 Fyodor 1, coachman of AA => Pyotr, servant of AN\n",
      "GA   LE   0.500 Gagin, officer from Petersburg => Konstantin Dmitrievitch Levin, proprietor of Pokrovskoe\n",
      "GA   VR   0.500 Gagin, officer from Petersburg => Count Alexey Kirillovitch Vronsky, young officer\n",
      "GA   ST   0.500 Gagin, officer from Petersburg => Prince Stepan Arkadyevitch Oblonsky (Stiva), brother of AN\n",
      "HA   VR   0.500 Hannah, pupil of AN => Count Alexey Kirillovitch Vronsky, young officer\n",
      "KE   SV   0.500 Prince Kedrov, member of VR's regiment => Nikolay Ivanovitch Sviazhsky, landowner\n",
      "KE   KZ   0.500 Prince Kedrov, member of VR's regiment => Kouzma, elderly servant of LE\n",
      "KI   NS   0.500 Princess Ekaterina Alexandrovna Shtcherbatskaya (Kitty), wife of LE => Nikolay Shtcherbatsky, cousin of KI\n",
      "KI   KZ   0.500 Princess Ekaterina Alexandrovna Shtcherbatskaya (Kitty), wife of LE => Kouzma, elderly servant of LE\n",
      "KI   KV   0.500 Princess Ekaterina Alexandrovna Shtcherbatskaya (Kitty), wife of LE => Krivin, bald socialite\n",
      "KO   KZ   0.500 Sergei Ivanovitch Koznishev, half-brother of LE => Kouzma, elderly servant of LE\n",
      "KT   ST   0.500 Professor Katavasov, natural scientist => Prince Stepan Arkadyevitch Oblonsky (Stiva), brother of AN\n",
      "KT   MO   0.500 Professor Katavasov, natural scientist => Metrov, Petersburg social scientist\n",
      "KU   MH   0.500 Prince Kuzovlev, fearful horseman => Mahotin, rival horseman to VR\n",
      "KY   ST   0.500 Korney, valet of AL => Prince Stepan Arkadyevitch Oblonsky (Stiva), brother of AN\n",
      "LE   PY   0.500 Konstantin Dmitrievitch Levin, proprietor of Pokrovskoe => Prohor Yermilin, mower\n",
      "LE   LV   0.500 Konstantin Dmitrievitch Levin, proprietor of Pokrovskoe => Arseny Lvov, husband of NA\n",
      "LE   MK   0.500 Konstantin Dmitrievitch Levin, proprietor of Pokrovskoe => Mishka, peasant lad\n",
      "LE   SY   0.500 Konstantin Dmitrievitch Levin, proprietor of Pokrovskoe => Semyon, contractor to LE\n",
      "LE   MO   0.500 Konstantin Dmitrievitch Levin, proprietor of Pokrovskoe => Metrov, Petersburg social scientist\n",
      "LE   RY   0.500 Konstantin Dmitrievitch Levin, proprietor of Pokrovskoe => Mihail Ignatitch Ryabinin, merchant\n",
      "LI   SE   0.500 Countess Lidia Ivanovna, Petersburg dogooder => Sergey Alexeyevitch Karenin (Seryozha), son of AL and AN\n",
      "LM   SM   0.500 Liza Merkalova, thin brunette admired by SM => Stremov, opponent of AL\n",
      "MA   PH   0.500 Matvey, valet of ST => Matrona Marya Philimonovna, nurse\n",
      "ME   SE   0.500 Mariette, governess of SE => Sergey Alexeyevitch Karenin (Seryozha), son of AL and AN\n",
      "MK   PY   0.500 Mishka, peasant lad => Prohor Yermilin, mower\n",
      "MN   VK   0.500 Marya Nikolaevna, companion of NI => Varvara Andreevna (Varenka), adopted daughter of MS\n",
      "MY   ST   0.500 Princess Myakaya, enfant terrible => Prince Stepan Arkadyevitch Oblonsky (Stiva), brother of AN\n",
      "NI   VK   0.500 Nikolay Levin, brother of LE => Varvara Andreevna (Varenka), adopted daughter of MS\n",
      "NI   PS   0.500 Nikolay Levin, brother of LE => Princess Shtcherbatskaya, mother of DO and KI\n",
      "PH   ST   0.500 Matrona Marya Philimonovna, nurse => Prince Stepan Arkadyevitch Oblonsky (Stiva), brother of AN\n",
      "PS   ST   0.500 Princess Shtcherbatskaya, mother of DO and KI => Prince Stepan Arkadyevitch Oblonsky (Stiva), brother of AN\n",
      "PS   YK   0.500 Princess Shtcherbatskaya, mother of DO and KI => Yegorushka Korsunsky, handsome dancer\n",
      "RY   ST   0.500 Mihail Ignatitch Ryabinin, merchant => Prince Stepan Arkadyevitch Oblonsky (Stiva), brother of AN\n",
      "SE   ST   0.500 Sergey Alexeyevitch Karenin (Seryozha), son of AL and AN => Prince Stepan Arkadyevitch Oblonsky (Stiva), brother of AN\n",
      "SM   VR   0.500 Stremov, opponent of AL => Count Alexey Kirillovitch Vronsky, young officer\n",
      "SY   VF   0.500 Semyon, contractor to LE => Vassily Fedorovitch, bailiff of LE\n",
      "VV   YV   0.500 Vassenka Veslovsky, distant cousin of KI => Captain Yashvin, gambling friend of VR\n",
      "DO   KV   0.450 Princess Darya Alexandrovna Oblonskaya (Dolly), wife of ST => Krivin, bald socialite\n",
      "GR   KV   0.450 Grisha, young son of ST and DO => Krivin, bald socialite\n",
      "KV   TA   0.450 Krivin, bald socialite => Tanya, oldest daughter of ST and DO\n",
      "AG   PS   0.420 Agafea Mihalovna, housekeeper of LE => Princess Shtcherbatskaya, mother of DO and KI\n",
      "AG   DO   0.420 Agafea Mihalovna, housekeeper of LE => Princess Darya Alexandrovna Oblonskaya (Dolly), wife of ST\n",
      "KI   VV   0.420 Princess Ekaterina Alexandrovna Shtcherbatskaya (Kitty), wife of LE => Vassenka Veslovsky, distant cousin of KI\n",
      "DO   PD   0.370 Princess Darya Alexandrovna Oblonskaya (Dolly), wife of ST => Pyotr Dmitrievitch, doctor\n",
      "DO   LP   0.370 Princess Darya Alexandrovna Oblonskaya (Dolly), wife of ST => Lizaveta Petrovna, midwife\n",
      "GR   PR   0.370 Grisha, young son of ST and DO => Prince Alexander Shtcherbatsky, father of DO and KI\n",
      "KI   PD   0.370 Princess Ekaterina Alexandrovna Shtcherbatskaya (Kitty), wife of LE => Pyotr Dmitrievitch, doctor\n",
      "KI   LP   0.370 Princess Ekaterina Alexandrovna Shtcherbatskaya (Kitty), wife of LE => Lizaveta Petrovna, midwife\n",
      "LE   PD   0.370 Konstantin Dmitrievitch Levin, proprietor of Pokrovskoe => Pyotr Dmitrievitch, doctor\n",
      "LP   PD   0.370 Lizaveta Petrovna, midwife => Pyotr Dmitrievitch, doctor\n",
      "LP   PS   0.370 Lizaveta Petrovna, midwife => Princess Shtcherbatskaya, mother of DO and KI\n",
      "PD   PS   0.370 Pyotr Dmitrievitch, doctor => Princess Shtcherbatskaya, mother of DO and KI\n",
      "AG   MQ   0.330 Agafea Mihalovna, housekeeper of LE => Masha 2, maid of KI\n",
      "AN   PO   0.330 Anna Arkadyevna Karenina, wife of AL => Princess Oblonskaya, unmarried aunt of AN\n",
      "AN   MX   0.330 Anna Arkadyevna Karenina, wife of AL => Masha 1, young relative of BT\n",
      "AN   TA   0.330 Anna Arkadyevna Karenina, wife of AL => Tanya, oldest daughter of ST and DO\n",
      "AN   CV   0.330 Anna Arkadyevna Karenina, wife of AL => Countess Vronskaya, mother of VR\n",
      "AN   GR   0.330 Anna Arkadyevna Karenina, wife of AL => Grisha, young son of ST and DO\n",
      "AN   VY   0.330 Anna Arkadyevna Karenina, wife of AL => Voytov, horse purchaser\n",
      "AO   DO   0.330 Aliosha, son of DO and ST => Princess Darya Alexandrovna Oblonskaya (Dolly), wife of ST\n",
      "AO   LL   0.330 Aliosha, son of DO and ST => Lily, youngest child of DO and ST\n",
      "AO   TA   0.330 Aliosha, son of DO and ST => Tanya, oldest daughter of ST and DO\n",
      "AP   PR   0.330 Anna Pavlovna, wife of PV => Prince Alexander Shtcherbatsky, father of DO and KI\n",
      "BT   TU   0.330 Princess Betsy Tverskaya, cousin of VR => Tushkevitch, croquet player\n",
      "BT   MX   0.330 Princess Betsy Tverskaya, cousin of VR => Masha 1, young relative of BT\n",
      "CV   SO   0.330 Countess Vronskaya, mother of VR => Princess Sorokina, young friend of CV\n",
      "DO   TU   0.330 Princess Darya Alexandrovna Oblonskaya (Dolly), wife of ST => Tushkevitch, croquet player\n",
      "DO   KE   0.330 Princess Darya Alexandrovna Oblonskaya (Dolly), wife of ST => Prince Kedrov, member of VR's regiment\n",
      "GR   VV   0.330 Grisha, young son of ST and DO => Vassenka Veslovsky, distant cousin of KI\n",
      "GV   NN   0.330 Grinevitch (Mihail Stanislavitch), board member => Nikitin (Philip Ivanovitch), board member\n",
      "GV   LE   0.330 Grinevitch (Mihail Stanislavitch), board member => Konstantin Dmitrievitch Levin, proprietor of Pokrovskoe\n",
      "GV   ST   0.330 Grinevitch (Mihail Stanislavitch), board member => Prince Stepan Arkadyevitch Oblonsky (Stiva), brother of AN\n",
      "HO   PH   0.330 Miss Hoole, English governess to DO's children => Matrona Marya Philimonovna, nurse\n",
      "KA   VR   0.330 Captain Kamerovsky, cavalry officer => Count Alexey Kirillovitch Vronsky, young officer\n",
      "KA   PT   0.330 Captain Kamerovsky, cavalry officer => Lieutenant Petritsky, friend of VR\n",
      "KA   SH   0.330 Captain Kamerovsky, cavalry officer => Baroness Shilton, friend of PT\n",
      "KE   SO   0.330 Prince Kedrov, member of VR's regiment => Princess Sorokina, young friend of CV\n",
      "KE   VE   0.330 Prince Kedrov, member of VR's regiment => Venden, mustachioed clerk\n",
      "KE   LE   0.330 Prince Kedrov, member of VR's regiment => Konstantin Dmitrievitch Levin, proprietor of Pokrovskoe\n",
      "KE   PT   0.330 Prince Kedrov, member of VR's regiment => Lieutenant Petritsky, friend of VR\n",
      "KE   NA   0.330 Prince Kedrov, member of VR's regiment => Princess Natalia Lvova, sister of DO and KI\n",
      "KE   VR   0.330 Prince Kedrov, member of VR's regiment => Count Alexey Kirillovitch Vronsky, young officer\n",
      "KE   ST   0.330 Prince Kedrov, member of VR's regiment => Prince Stepan Arkadyevitch Oblonsky (Stiva), brother of AN\n",
      "KI   MB   0.330 Princess Ekaterina Alexandrovna Shtcherbatskaya (Kitty), wife of LE => Princess Marya Borissovna, KI's godmother\n",
      "KI   TA   0.330 Princess Ekaterina Alexandrovna Shtcherbatskaya (Kitty), wife of LE => Tanya, oldest daughter of ST and DO\n",
      "KI   MQ   0.330 Princess Ekaterina Alexandrovna Shtcherbatskaya (Kitty), wife of LE => Masha 2, maid of KI\n",
      "KI   KT   0.330 Princess Ekaterina Alexandrovna Shtcherbatskaya (Kitty), wife of LE => Professor Katavasov, natural scientist\n",
      "KO   TC   0.330 Sergei Ivanovitch Koznishev, half-brother of LE => Tchirikov, best man of LE\n",
      "KO   SO   0.330 Sergei Ivanovitch Koznishev, half-brother of LE => Princess Sorokina, young friend of CV\n",
      "KT   TC   0.330 Professor Katavasov, natural scientist => Tchirikov, best man of LE\n",
      "LE   NN   0.330 Konstantin Dmitrievitch Levin, proprietor of Pokrovskoe => Nikitin (Philip Ivanovitch), board member\n",
      "LE   LL   0.330 Konstantin Dmitrievitch Levin, proprietor of Pokrovskoe => Lily, youngest child of DO and ST\n",
      "LE   MQ   0.330 Konstantin Dmitrievitch Levin, proprietor of Pokrovskoe => Masha 2, maid of KI\n",
      "LE   MZ   0.330 Konstantin Dmitrievitch Levin, proprietor of Pokrovskoe => Madame Sviazhskaya, wife of SV\n",
      "LE   NT   0.330 Konstantin Dmitrievitch Levin, proprietor of Pokrovskoe => Nastia, sister of MV\n",
      "LE   PH   0.330 Konstantin Dmitrievitch Levin, proprietor of Pokrovskoe => Matrona Marya Philimonovna, nurse\n",
      "LE   MP   0.330 Konstantin Dmitrievitch Levin, proprietor of Pokrovskoe => Mihael Petrovitch, landowner\n",
      "LL   PH   0.330 Lily, youngest child of DO and ST => Matrona Marya Philimonovna, nurse\n",
      "LL   TA   0.330 Lily, youngest child of DO and ST => Tanya, oldest daughter of ST and DO\n",
      "LM   TU   0.330 Liza Merkalova, thin brunette admired by SM => Tushkevitch, croquet player\n",
      "MB   PR   0.330 Princess Marya Borissovna, KI's godmother => Prince Alexander Shtcherbatsky, father of DO and KI\n",
      "MB   VR   0.330 Princess Marya Borissovna, KI's godmother => Count Alexey Kirillovitch Vronsky, young officer\n",
      "MP   SV   0.330 Mihael Petrovitch, landowner => Nikolay Ivanovitch Sviazhsky, landowner\n",
      "MP   SN   0.330 Mihael Petrovitch, landowner => Stepan Vassilievitch, landowner\n",
      "MS   PR   0.330 Madame Stahl, invalid philanthropist => Prince Alexander Shtcherbatsky, father of DO and KI\n",
      "MX   TU   0.330 Masha 1, young relative of BT => Tushkevitch, croquet player\n",
      "MZ   NT   0.330 Madame Sviazhskaya, wife of SV => Nastia, sister of MV\n",
      "MZ   SV   0.330 Madame Sviazhskaya, wife of SV => Nikolay Ivanovitch Sviazhsky, landowner\n",
      "NN   ST   0.330 Nikitin (Philip Ivanovitch), board member => Prince Stepan Arkadyevitch Oblonsky (Stiva), brother of AN\n",
      "NT   SV   0.330 Nastia, sister of MV => Nikolay Ivanovitch Sviazhsky, landowner\n",
      "PH   TA   0.330 Matrona Marya Philimonovna, nurse => Tanya, oldest daughter of ST and DO\n",
      "PO   VR   0.330 Princess Oblonskaya, unmarried aunt of AN => Count Alexey Kirillovitch Vronsky, young officer\n",
      "PO   TU   0.330 Princess Oblonskaya, unmarried aunt of AN => Tushkevitch, croquet player\n",
      "PR   PV   0.330 Prince Alexander Shtcherbatsky, father of DO and KI => Mihail Alexeyevitch Petrov, painter\n",
      "PR   TC   0.330 Prince Alexander Shtcherbatsky, father of DO and KI => Tchirikov, best man of LE\n",
      "PT   SH   0.330 Lieutenant Petritsky, friend of VR => Baroness Shilton, friend of PT\n",
      "PT   VE   0.330 Lieutenant Petritsky, friend of VR => Venden, mustachioed clerk\n",
      "SH   VR   0.330 Baroness Shilton, friend of PT => Count Alexey Kirillovitch Vronsky, young officer\n",
      "SM   TU   0.330 Stremov, opponent of AL => Tushkevitch, croquet player\n",
      "SO   VA   0.330 Princess Sorokina, young friend of CV => Varya, wife of XV\n",
      "SO   ST   0.330 Princess Sorokina, young friend of CV => Prince Stepan Arkadyevitch Oblonsky (Stiva), brother of AN\n",
      "SV   TU   0.330 Nikolay Ivanovitch Sviazhsky, landowner => Tushkevitch, croquet player\n",
      "TU   YV   0.330 Tushkevitch, croquet player => Captain Yashvin, gambling friend of VR\n",
      "TU   VP   0.330 Tushkevitch, croquet player => Princess Varvara, aunt of ST\n",
      "TU   VV   0.330 Tushkevitch, croquet player => Vassenka Veslovsky, distant cousin of KI\n",
      "VE   VR   0.330 Venden, mustachioed clerk => Count Alexey Kirillovitch Vronsky, young officer\n",
      "VR   YK   0.330 Count Alexey Kirillovitch Vronsky, young officer => Yegorushka Korsunsky, handsome dancer\n",
      "VR   VY   0.330 Count Alexey Kirillovitch Vronsky, young officer => Voytov, horse purchaser\n",
      "VY   YV   0.330 Voytov, horse purchaser => Captain Yashvin, gambling friend of VR\n",
      "AL   PR   0.270 Alexey Alexandrovitch Karenin, minister of state => Prince Alexander Shtcherbatsky, father of DO and KI\n",
      "DO   PE   0.270 Princess Darya Alexandrovna Oblonskaya (Dolly), wife of ST => Pestsov, eccentric enthusiast\n",
      "PE   PR   0.270 Pestsov, eccentric enthusiast => Prince Alexander Shtcherbatsky, father of DO and KI\n",
      "PR   TV   0.270 Prince Alexander Shtcherbatsky, father of DO and KI => Turovtsin, party guest\n",
      "AL   MY   0.250 Alexey Alexandrovitch Karenin, minister of state => Princess Myakaya, enfant terrible\n",
      "AL   EF   0.250 Alexey Alexandrovitch Karenin, minister of state => Marya Efimovna, nurse of AL\n",
      "AL   SI   0.250 Alexey Alexandrovitch Karenin, minister of state => Vassily Lukitch Sitnikov, tutor of SE\n",
      "AN   SI   0.250 Anna Arkadyevna Karenina, wife of AL => Vassily Lukitch Sitnikov, tutor of SE\n",
      "AN   EF   0.250 Anna Arkadyevna Karenina, wife of AL => Marya Efimovna, nurse of AL\n",
      "AN   KV   0.250 Anna Arkadyevna Karenina, wife of AL => Krivin, bald socialite\n",
      "AN   MY   0.250 Anna Arkadyevna Karenina, wife of AL => Princess Myakaya, enfant terrible\n",
      "CD   SP   0.250 Colonel Demin, colleague of VR => General Serpuhovskoy, rival of VR\n",
      "CD   YV   0.250 Colonel Demin, colleague of VR => Captain Yashvin, gambling friend of VR\n",
      "CD   PT   0.250 Colonel Demin, colleague of VR => Lieutenant Petritsky, friend of VR\n",
      "CD   VR   0.250 Colonel Demin, colleague of VR => Count Alexey Kirillovitch Vronsky, young officer\n",
      "DO   TC   0.250 Princess Darya Alexandrovna Oblonskaya (Dolly), wife of ST => Tchirikov, best man of LE\n",
      "DO   NL   0.250 Princess Darya Alexandrovna Oblonskaya (Dolly), wife of ST => Nikolinka, son of DO and ST\n",
      "EF   SI   0.250 Marya Efimovna, nurse of AL => Vassily Lukitch Sitnikov, tutor of SE\n",
      "EF   SE   0.250 Marya Efimovna, nurse of AL => Sergey Alexeyevitch Karenin (Seryozha), son of AL and AN\n",
      "GR   NL   0.250 Grisha, young son of ST and DO => Nikolinka, son of DO and ST\n",
      "GR   HO   0.250 Grisha, young son of ST and DO => Miss Hoole, English governess to DO's children\n",
      "HA   ST   0.250 Hannah, pupil of AN => Prince Stepan Arkadyevitch Oblonsky (Stiva), brother of AN\n",
      "HA   VO   0.250 Hannah, pupil of AN => Ivan Petrovich Vorkuev, publisher\n",
      "HA   LE   0.250 Hannah, pupil of AN => Konstantin Dmitrievitch Levin, proprietor of Pokrovskoe\n",
      "HO   NL   0.250 Miss Hoole, English governess to DO's children => Nikolinka, son of DO and ST\n",
      "KV   VR   0.250 Krivin, bald socialite => Count Alexey Kirillovitch Vronsky, young officer\n",
      "KV   ST   0.250 Krivin, bald socialite => Prince Stepan Arkadyevitch Oblonsky (Stiva), brother of AN\n",
      "KV   LI   0.250 Krivin, bald socialite => Countess Lidia Ivanovna, Petersburg dogooder\n",
      "KV   LE   0.250 Krivin, bald socialite => Konstantin Dmitrievitch Levin, proprietor of Pokrovskoe\n",
      "LE   VO   0.250 Konstantin Dmitrievitch Levin, proprietor of Pokrovskoe => Ivan Petrovich Vorkuev, publisher\n",
      "LI   VR   0.250 Countess Lidia Ivanovna, Petersburg dogooder => Count Alexey Kirillovitch Vronsky, young officer\n",
      "NL   TA   0.250 Nikolinka, son of DO and ST => Tanya, oldest daughter of ST and DO\n",
      "PT   SP   0.250 Lieutenant Petritsky, friend of VR => General Serpuhovskoy, rival of VR\n",
      "SP   YV   0.250 General Serpuhovskoy, rival of VR => Captain Yashvin, gambling friend of VR\n",
      "ST   VO   0.250 Prince Stepan Arkadyevitch Oblonsky (Stiva), brother of AN => Ivan Petrovich Vorkuev, publisher\n",
      "ST   TC   0.250 Prince Stepan Arkadyevitch Oblonsky (Stiva), brother of AN => Tchirikov, best man of LE\n",
      "TV   VK   0.250 Turovtsin, party guest => Varvara Andreevna (Varenka), adopted daughter of MS\n",
      "CN   PR   0.200 Countess Nordston, friend of KI => Prince Alexander Shtcherbatsky, father of DO and KI\n",
      "GR   VK   0.200 Grisha, young son of ST and DO => Varvara Andreevna (Varenka), adopted daughter of MS\n",
      "KI   MM   0.200 Princess Ekaterina Alexandrovna Shtcherbatskaya (Kitty), wife of LE => Masha 3, little daughter of ST and DO\n",
      "KO   NY   0.200 Sergei Ivanovitch Koznishev, half-brother of LE => Nevyedovsky, malignant gentleman\n",
      "KO   TA   0.200 Sergei Ivanovitch Koznishev, half-brother of LE => Tanya, oldest daughter of ST and DO\n",
      "KO   MM   0.200 Sergei Ivanovitch Koznishev, half-brother of LE => Masha 3, little daughter of ST and DO\n",
      "KV   PR   0.200 Krivin, bald socialite => Prince Alexander Shtcherbatsky, father of DO and KI\n",
      "LE   NY   0.200 Konstantin Dmitrievitch Levin, proprietor of Pokrovskoe => Nevyedovsky, malignant gentleman\n",
      "MM   VK   0.200 Masha 3, little daughter of ST and DO => Varvara Andreevna (Varenka), adopted daughter of MS\n",
      "PR   TA   0.200 Prince Alexander Shtcherbatsky, father of DO and KI => Tanya, oldest daughter of ST and DO\n",
      "AG   VK   0.170 Agafea Mihalovna, housekeeper of LE => Varvara Andreevna (Varenka), adopted daughter of MS\n",
      "AN   SS   0.170 Anna Arkadyevna Karenina, wife of AL => Sappho Shtolz, blonde beauty\n",
      "AN   PK   0.170 Anna Arkadyevna Karenina, wife of AL => Prince Kaluzhsky, Petersburg party guest\n",
      "AN   VS   0.170 Anna Arkadyevna Karenina, wife of AL => Vaska, admirer of SS\n",
      "BD   LP   0.170 Dmitri (Mitya), baby of LE and KI => Lizaveta Petrovna, midwife\n",
      "BD   PD   0.170 Dmitri (Mitya), baby of LE and KI => Pyotr Dmitrievitch, doctor\n",
      "BD   DO   0.170 Dmitri (Mitya), baby of LE and KI => Princess Darya Alexandrovna Oblonskaya (Dolly), wife of ST\n",
      "BT   LM   0.170 Princess Betsy Tverskaya, cousin of VR => Liza Merkalova, thin brunette admired by SM\n",
      "BT   SM   0.170 Princess Betsy Tverskaya, cousin of VR => Stremov, opponent of AL\n",
      "BT   SS   0.170 Princess Betsy Tverskaya, cousin of VR => Sappho Shtolz, blonde beauty\n",
      "BT   PK   0.170 Princess Betsy Tverskaya, cousin of VR => Prince Kaluzhsky, Petersburg party guest\n",
      "BT   VS   0.170 Princess Betsy Tverskaya, cousin of VR => Vaska, admirer of SS\n",
      "DO   KT   0.170 Princess Darya Alexandrovna Oblonskaya (Dolly), wife of ST => Professor Katavasov, natural scientist\n",
      "DO   MJ   0.170 Princess Darya Alexandrovna Oblonskaya (Dolly), wife of ST => Mihailitch, beekeeper\n",
      "DO   MV   0.170 Princess Darya Alexandrovna Oblonskaya (Dolly), wife of ST => Marya Vlasyevna, midwife\n",
      "GA   VI   0.170 Gagin, officer from Petersburg => Pyotr Ilyitch Vinovsky, club friend of ST\n",
      "GA   TV   0.170 Gagin, officer from Petersburg => Turovtsin, party guest\n",
      "GA   YV   0.170 Gagin, officer from Petersburg => Captain Yashvin, gambling friend of VR\n",
      "GR   MJ   0.170 Grisha, young son of ST and DO => Mihailitch, beekeeper\n",
      "GR   KT   0.170 Grisha, young son of ST and DO => Professor Katavasov, natural scientist\n",
      "KO   MJ   0.170 Sergei Ivanovitch Koznishev, half-brother of LE => Mihailitch, beekeeper\n",
      "KO   PS   0.170 Sergei Ivanovitch Koznishev, half-brother of LE => Princess Shtcherbatskaya, mother of DO and KI\n",
      "KT   MJ   0.170 Professor Katavasov, natural scientist => Mihailitch, beekeeper\n",
      "LE   VI   0.170 Konstantin Dmitrievitch Levin, proprietor of Pokrovskoe => Pyotr Ilyitch Vinovsky, club friend of ST\n",
      "LE   MV   0.170 Konstantin Dmitrievitch Levin, proprietor of Pokrovskoe => Marya Vlasyevna, midwife\n",
      "LE   YV   0.170 Konstantin Dmitrievitch Levin, proprietor of Pokrovskoe => Captain Yashvin, gambling friend of VR\n",
      "LE   MJ   0.170 Konstantin Dmitrievitch Levin, proprietor of Pokrovskoe => Mihailitch, beekeeper\n",
      "LM   VS   0.170 Liza Merkalova, thin brunette admired by SM => Vaska, admirer of SS\n",
      "LM   PK   0.170 Liza Merkalova, thin brunette admired by SM => Prince Kaluzhsky, Petersburg party guest\n",
      "LM   SS   0.170 Liza Merkalova, thin brunette admired by SM => Sappho Shtolz, blonde beauty\n",
      "MJ   PR   0.170 Mihailitch, beekeeper => Prince Alexander Shtcherbatsky, father of DO and KI\n",
      "MV   ST   0.170 Marya Vlasyevna, midwife => Prince Stepan Arkadyevitch Oblonsky (Stiva), brother of AN\n",
      "MV   PS   0.170 Marya Vlasyevna, midwife => Princess Shtcherbatskaya, mother of DO and KI\n",
      "MV   VV   0.170 Marya Vlasyevna, midwife => Vassenka Veslovsky, distant cousin of KI\n",
      "PK   VS   0.170 Prince Kaluzhsky, Petersburg party guest => Vaska, admirer of SS\n",
      "PK   SS   0.170 Prince Kaluzhsky, Petersburg party guest => Sappho Shtolz, blonde beauty\n",
      "PK   SM   0.170 Prince Kaluzhsky, Petersburg party guest => Stremov, opponent of AL\n",
      "SM   SS   0.170 Stremov, opponent of AL => Sappho Shtolz, blonde beauty\n",
      "SM   VS   0.170 Stremov, opponent of AL => Vaska, admirer of SS\n",
      "SS   VS   0.170 Sappho Shtolz, blonde beauty => Vaska, admirer of SS\n",
      "ST   YV   0.170 Prince Stepan Arkadyevitch Oblonsky (Stiva), brother of AN => Captain Yashvin, gambling friend of VR\n",
      "ST   VI   0.170 Prince Stepan Arkadyevitch Oblonsky (Stiva), brother of AN => Pyotr Ilyitch Vinovsky, club friend of ST\n",
      "TV   VR   0.170 Turovtsin, party guest => Count Alexey Kirillovitch Vronsky, young officer\n",
      "TV   YV   0.170 Turovtsin, party guest => Captain Yashvin, gambling friend of VR\n",
      "TV   VI   0.170 Turovtsin, party guest => Pyotr Ilyitch Vinovsky, club friend of ST\n",
      "VI   VR   0.170 Pyotr Ilyitch Vinovsky, club friend of ST => Count Alexey Kirillovitch Vronsky, young officer\n",
      "VI   YV   0.170 Pyotr Ilyitch Vinovsky, club friend of ST => Captain Yashvin, gambling friend of VR\n",
      "AL   MA   0.100 Alexey Alexandrovitch Karenin, minister of state => Matvey, valet of ST\n",
      "AL   LE   0.100 Alexey Alexandrovitch Karenin, minister of state => Konstantin Dmitrievitch Levin, proprietor of Pokrovskoe\n",
      "AL   KI   0.100 Alexey Alexandrovitch Karenin, minister of state => Princess Ekaterina Alexandrovna Shtcherbatskaya (Kitty), wife of LE\n",
      "KI   PE   0.100 Princess Ekaterina Alexandrovna Shtcherbatskaya (Kitty), wife of LE => Pestsov, eccentric enthusiast\n",
      "KI   MA   0.100 Princess Ekaterina Alexandrovna Shtcherbatskaya (Kitty), wife of LE => Matvey, valet of ST\n",
      "KO   MA   0.100 Sergei Ivanovitch Koznishev, half-brother of LE => Matvey, valet of ST\n",
      "KO   YS   0.100 Sergei Ivanovitch Koznishev, half-brother of LE => Young Shtcherbatsky, brother of KI\n",
      "LE   MA   0.100 Konstantin Dmitrievitch Levin, proprietor of Pokrovskoe => Matvey, valet of ST\n",
      "MA   PE   0.100 Matvey, valet of ST => Pestsov, eccentric enthusiast\n",
      "MA   TV   0.100 Matvey, valet of ST => Turovtsin, party guest\n",
      "MA   YS   0.100 Matvey, valet of ST => Young Shtcherbatsky, brother of KI\n",
      "MA   PR   0.100 Matvey, valet of ST => Prince Alexander Shtcherbatsky, father of DO and KI\n",
      "PE   YS   0.100 Pestsov, eccentric enthusiast => Young Shtcherbatsky, brother of KI\n",
      "PR   YS   0.100 Prince Alexander Shtcherbatsky, father of DO and KI => Young Shtcherbatsky, brother of KI\n",
      "ST   YS   0.100 Prince Stepan Arkadyevitch Oblonsky (Stiva), brother of AN => Young Shtcherbatsky, brother of KI\n",
      "TV   YS   0.100 Turovtsin, party guest => Young Shtcherbatsky, brother of KI\n"
     ]
    }
   ],
   "source": [
    "# \n",
    "from collections import Counter\n",
    "all_char_ctr = Counter()\n",
    "for (u,v) in all_edges:\n",
    "    weight = ak.get_edge_data(u,v)['attr_dict']['value']\n",
    "    # Keep track of total weights per char [= scene ct]\n",
    "    for x in (u,v):\n",
    "        all_char_ctr[x] += weight\n",
    "    print('%-4s %-4s %.3f %s => %s' % (u,v,weight,desc_dict[u]['attr_dict']['desc'],desc_dict[v]['attr_dict']['desc']))"
   ]
  },
  {
   "cell_type": "code",
   "execution_count": 27,
   "metadata": {},
   "outputs": [
    {
     "data": {
      "text/plain": [
       "[('LE', 150.98),\n",
       " ('AN', 102.98),\n",
       " ('KI', 86.98999999999998),\n",
       " ('VR', 84.95000000000002),\n",
       " ('ST', 80.99),\n",
       " ('DO', 57.01000000000002),\n",
       " ('AL', 49.01000000000002),\n",
       " ('KO', 40.01000000000002),\n",
       " ('PS', 31.010000000000012),\n",
       " ('PR', 27.98999999999999)]"
      ]
     },
     "execution_count": 27,
     "metadata": {},
     "output_type": "execute_result"
    }
   ],
   "source": [
    "all_char_ctr.most_common(10)"
   ]
  },
  {
   "cell_type": "markdown",
   "metadata": {},
   "source": [
    "We draw a graph of the strongest relationships in Anna Karenina.  Arbitrarily we pick the 30 most central edges,\n",
    "and draw only characters occuring in those edges.  We associate edge weight with a color map; darker blue means \n",
    "weightier edge.  The centrality of Levin in many strong relationships emerges."
   ]
  },
  {
   "cell_type": "code",
   "execution_count": 29,
   "metadata": {},
   "outputs": [
    {
     "data": {
      "text/plain": [
       "<matplotlib.collections.LineCollection at 0xa16fc9048>"
      ]
     },
     "execution_count": 29,
     "metadata": {},
     "output_type": "execute_result"
    },
    {
     "data": {
      "image/png": "[encoded data removed]",
      "text/plain": [
       "<Figure size 432x288 with 1 Axes>"
      ]
     },
     "metadata": {},
     "output_type": "display_data"
    }
   ],
   "source": [
    "import math\n",
    "selected_edges = all_edges[:30]\n",
    "\n",
    "cmap = plt.cm.Blues\n",
    "new_labels_ak = dict([(char,char) for pair in selected_edges for char in pair])\n",
    "nodelist = list(new_labels_ak.keys())\n",
    "sub_ak = ak.subgraph(nodelist)\n",
    "# Alternative\n",
    "#selected_edges = sub_ak.edges()\n",
    "values = [ak.get_edge_data(u,v)['attr_dict']['value'] for (u,v) in selected_edges]\n",
    "# we're using values for color intensity; need values between 0 and 1, so normalize;\n",
    "# but values are too spread out, increase the low values by taking sqrt of sqrt.\n",
    "values = [pow(float(v)/values[0],0.25) for v in values]\n",
    "\n",
    "#pos = nx.spring_layout(ak,scale=1.0) # The default scale is 1.0\n",
    "#pos = nx.spring_layout(ak,scale=.75) # Try tweaking the scale and adjusting node positions.\n",
    "#pos = nx.spring_layout(sub_ak,scale=2.0,weight=None) \n",
    "pos = nx.spring_layout(ak,scale=2.0,weight='value') # Increased spring tension for chars with more scenes together\n",
    "#pos = nx.spring_layout(ak) # Try increasing spring tension for chars with more scenes together\n",
    "#nx.draw_networkx(ak,pos, with_labels=False,node_size=200,node_color=\"lightgray\")  #Default node size=300\n",
    "\n",
    "nx.draw_networkx_labels(sub_ak,pos,new_labels_ak,font_size=10,font_color='black')\n",
    "#nx.draw_networkx_nodes(ak,pos,labels_ak,node_color='salmon',node_size=200)\n",
    "nx.draw_networkx_nodes(sub_ak,pos,new_labels_ak,node_color='red',node_size=300,label_pos=1.0,node_shape='D',font_size=12)\n",
    "#nx.draw_networkx_edges(ak,pos,edgelist=selected_edges,edge_color='black',edge_cmp = cmap)\n",
    "nx.draw_networkx_edges(sub_ak,pos,edgelist=selected_edges,edge_color=values,edge_cmap = cmap,width=3)\n",
    "#nx.draw_networkx_nodes(ak,pos,new_labels_ak,node_color='red',node_shape='p')"
   ]
  },
  {
   "cell_type": "code",
   "execution_count": null,
   "metadata": {
    "scrolled": true
   },
   "outputs": [],
   "source": [
    "values"
   ]
  },
  {
   "cell_type": "code",
   "execution_count": 13,
   "metadata": {},
   "outputs": [],
   "source": [
    "plt.show()"
   ]
  },
  {
   "cell_type": "markdown",
   "metadata": {},
   "source": [
    "Other parameters to tweak can be found as follows:"
   ]
  },
  {
   "cell_type": "code",
   "execution_count": 81,
   "metadata": {},
   "outputs": [],
   "source": [
    "?nx.spring_layout"
   ]
  },
  {
   "cell_type": "markdown",
   "metadata": {},
   "source": [
    "## Degree and betweenness centrality"
   ]
  },
  {
   "cell_type": "markdown",
   "metadata": {},
   "source": [
    "We now look at degree and betweenness centrality.  These define different notions of character importance and\n",
    "edge centrality."
   ]
  },
  {
   "cell_type": "code",
   "execution_count": 25,
   "metadata": {
    "collapsed": true
   },
   "outputs": [],
   "source": [
    "bc = nx.betweenness_centrality(ak)\n",
    "top_chars_bc = sorted(list(bc.items()),key=lambda x: x[1],reverse=True)"
   ]
  },
  {
   "cell_type": "code",
   "execution_count": 22,
   "metadata": {},
   "outputs": [],
   "source": [
    "dc = nx.degree_centrality(ak)\n",
    "top_chars_dc = sorted(list(dc.items()),key=lambda x: x[1],reverse=True)"
   ]
  },
  {
   "cell_type": "code",
   "execution_count": 26,
   "metadata": {
    "scrolled": true
   },
   "outputs": [
    {
     "name": "stdout",
     "output_type": "stream",
     "text": [
      "  LE  150.980  Konstantin Dmitrievitch Levin, proprietor of Pokrovskoe\n",
      "  AN  102.980  Anna Arkadyevna Karenina, wife of AL\n",
      "  KI  86.990  Princess Ekaterina Alexandrovna Shtcherbatskaya (Kitty), wife of LE\n",
      "  VR  84.950  Count Alexey Kirillovitch Vronsky, young officer\n",
      "  ST  80.990  Prince Stepan Arkadyevitch Oblonsky (Stiva), brother of AN\n",
      "  DO  57.010  Princess Darya Alexandrovna Oblonskaya (Dolly), wife of ST\n",
      "  AL  49.010  Alexey Alexandrovitch Karenin, minister of state\n",
      "  KO  40.010  Sergei Ivanovitch Koznishev, half-brother of LE\n",
      "  PS  31.010  Princess Shtcherbatskaya, mother of DO and KI\n",
      "  PR  27.990  Prince Alexander Shtcherbatsky, father of DO and KI\n",
      "  BT  17.000  Princess Betsy Tverskaya, cousin of VR\n",
      "  AG  16.000  Agafea Mihalovna, housekeeper of LE\n",
      "  VK  16.000  Varvara Andreevna (Varenka), adopted daughter of MS\n",
      "  VV  16.000  Vassenka Veslovsky, distant cousin of KI\n",
      "  SE  14.000  Sergey Alexeyevitch Karenin (Seryozha), son of AL and AN\n",
      "  SV  13.970  Nikolay Ivanovitch Sviazhsky, landowner\n",
      "  TA  11.980  Tanya, oldest daughter of ST and DO\n",
      "  YV  11.010  Captain Yashvin, gambling friend of VR\n",
      "  NI  11.000  Nikolay Levin, brother of LE\n",
      "  GR  11.000  Grisha, young son of ST and DO\n",
      "  LI  9.010  Countess Lidia Ivanovna, Petersburg dogooder\n",
      "  NA  8.990  Princess Natalia Lvova, sister of DO and KI\n",
      "  KZ  8.990  Kouzma, elderly servant of LE\n",
      "  KT  8.010  Professor Katavasov, natural scientist\n",
      "  AA  8.000  Annushka, maid of AN\n",
      "  BA  7.000  Annie, baby of AN and VR\n",
      "  VF  7.000  Vassily Fedorovitch, bailiff of LE\n",
      "  MN  7.000  Marya Nikolaevna, companion of NI\n",
      "  CN  6.990  Countess Nordston, friend of KI\n",
      "  YK  6.990  Yegorushka Korsunsky, handsome dancer\n",
      "  KE  6.970  Prince Kedrov, member of VR's regiment\n",
      "  TV  6.020  Turovtsin, party guest\n",
      "  BD  6.010  Dmitri (Mitya), baby of LE and KI\n",
      "  GO  5.990  Golenishtchev, friend of VR\n",
      "  TU  5.970  Tushkevitch, croquet player\n",
      "  PE  5.020  Pestsov, eccentric enthusiast\n",
      "  SM  5.010  Stremov, opponent of AL\n",
      "  KY  5.000  Korney, valet of AL\n",
      "  KP  5.000  Kapitonitch, hall porter of AL\n",
      "  MA  5.000  Matvey, valet of ST\n",
      "  PT  4.990  Lieutenant Petritsky, friend of VR\n",
      "  PH  4.990  Matrona Marya Philimonovna, nurse\n",
      "  MI  4.990  Mihailov, painter\n",
      "  CV  4.990  Countess Vronskaya, mother of VR\n",
      "  VP  4.980  Princess Varvara, aunt of ST\n",
      "  PX  4.000  Pyotr, servant of AN\n",
      "  KV  4.000  Krivin, bald socialite\n",
      "  MY  4.000  Princess Myakaya, enfant terrible\n",
      "  MS  3.990  Madame Stahl, invalid philanthropist\n",
      "  VA  3.990  Varya, wife of XV\n",
      "  LP  3.020  Lizaveta Petrovna, midwife\n",
      "  LM  3.010  Liza Merkalova, thin brunette admired by SM\n",
      "  MM  3.000  Masha 3, little daughter of ST and DO\n",
      "  YS  3.000  Young Shtcherbatsky, brother of KI\n",
      "  RT  3.000  Marya Yevgenyevna Rtishtcheva, lady of Moscow\n",
      "  ML  3.000  Mademoiselle Linon, French governess of KI\n",
      "  XV  3.000  Alexander Vronsky, brother of VR\n",
      "  SI  3.000  Vassily Lukitch Sitnikov, tutor of SE\n",
      "  SL  3.000  Mihail Vassilievitch Sludin, secretary of AL's department\n",
      "  HO  2.990  Miss Hoole, English governess to DO's children\n",
      "  TC  2.990  Tchirikov, best man of LE\n",
      "  SO  2.980  Princess Sorokina, young friend of CV\n",
      "  PD  2.020  Pyotr Dmitrievitch, doctor\n",
      "  MV  2.020  Marya Vlasyevna, midwife\n",
      "  JL  2.010  Jules Landau (Count Bezzubov), psychic\n",
      "  KR  2.010  Kritsky, friend of NI\n",
      "  GA  2.010  Gagin, officer from Petersburg\n",
      "  BN  2.000  Bartnyansky, rich man in Petersburg\n",
      "  VO  2.000  Ivan Petrovich Vorkuev, publisher\n",
      "  HA  2.000  Hannah, pupil of AN\n",
      "  PP  2.000  Prince Pyotr Oblonsky, man of sixty\n",
      "  ED  2.000  Miss Edwards, English governor of SE\n",
      "  EF  2.000  Marya Efimovna, nurse of AL\n",
      "  MC  2.000  Mihail, coachman\n",
      "  MH  2.000  Mahotin, rival horseman to VR\n",
      "  NS  2.000  Nikolay Shtcherbatsky, cousin of KI\n",
      "  CO  2.000  Cord, English horse trainer\n",
      "  CA  2.000  Count Anitchkin, supervisor of ST\n",
      "  SP  2.000  General Serpuhovskoy, rival of VR\n",
      "  KU  2.000  Prince Kuzovlev, fearful horseman\n",
      "  LK  2.000  Lidi Korsunskaya, wife of YK\n",
      "  LV  2.000  Arseny Lvov, husband of NA\n",
      "  IG  2.000  Ignat, coachman of LE\n",
      "  LL  1.990  Lily, youngest child of DO and ST\n",
      "  PV  1.990  Mihail Alexeyevitch Petrov, painter\n",
      "  NY  1.990  Nevyedovsky, malignant gentleman\n",
      "  SN  1.990  Stepan Vassilievitch, landowner\n",
      "  AP  1.990  Anna Pavlovna, wife of PV\n",
      "  VS  1.020  Vaska, admirer of SS\n",
      "  PK  1.020  Prince Kaluzhsky, Petersburg party guest\n",
      "  MJ  1.020  Mihailitch, beekeeper\n",
      "  SS  1.020  Sappho Shtolz, blonde beauty\n",
      "  VI  1.020  Pyotr Ilyitch Vinovsky, club friend of ST\n",
      "  BE  1.000  Madame Berthe, blind woman\n",
      "  BL  1.000  Count Bol, friend of KI in Moscow\n",
      "  BO  1.000  Countess Bola, wife of BL\n",
      "  RY  1.000  Mihail Ignatitch Ryabinin, merchant\n",
      "  SQ  1.000  Snetkow, marshal of Kashinsky province\n",
      "  PY  1.000  Prohor Yermilin, mower\n",
      "  PC  1.000  Prince Tchetchensky, man with two families\n",
      "  PA  1.000  Parmenitch, old beekeeper\n",
      "  ME  1.000  Mariette, governess of SE\n",
      "  MD  1.000  Marya Dmitrievna, aunt of KI\n",
      "  MO  1.000  Metrov, Petersburg social scientist\n",
      "  MK  1.000  Mishka, peasant lad\n",
      "  MT  1.000  Masha Tchibisova, dancer\n",
      "  MR  1.000  Mademoiselle Roland, French governess\n",
      "  FR  1.000  Fyodor Ryezunov, carpenter\n",
      "  FY  1.000  Fyodor 2, peasant\n",
      "  FC  1.000  Fyodor 1, coachman of AA\n",
      "  NL  1.000  Nikolinka, son of DO and ST\n",
      "  ND  1.000  Nadinka, niece of LI\n",
      "  NV  1.000  Madame Nikolaevna, KI's maid of honor\n",
      "  CB  1.000  Countess Bonina, dance partner of YK\n",
      "  CD  1.000  Colonel Demin, colleague of VR\n",
      "  SY  1.000  Semyon, contractor to LE\n",
      "  SU  1.000  Shuraev, peasant\n",
      "  SA  1.000  Sasha, wife of MI\n",
      "  YG  1.000  Yegor, servant in hotel\n",
      "  TT  1.000  Tit, mower\n",
      "  TB  1.000  Madame Trubetskaya, wedding guest\n",
      "  VG  1.000  Volgarinoff, Jew\n",
      "  IW  1.000  Ivan 2, coachmen of LE\n",
      "  IV  1.000  Ivan 1, cowherd\n",
      "  GV  0.990  Grinevitch (Mihail Stanislavitch), board member\n",
      "  KA  0.990  Captain Kamerovsky, cavalry officer\n",
      "  PO  0.990  Princess Oblonskaya, unmarried aunt of AN\n",
      "  AO  0.990  Aliosha, son of DO and ST\n",
      "  MB  0.990  Princess Marya Borissovna, KI's godmother\n",
      "  MQ  0.990  Masha 2, maid of KI\n",
      "  MP  0.990  Mihael Petrovitch, landowner\n",
      "  MX  0.990  Masha 1, young relative of BT\n",
      "  MZ  0.990  Madame Sviazhskaya, wife of SV\n",
      "  SH  0.990  Baroness Shilton, friend of PT\n",
      "  NN  0.990  Nikitin (Philip Ivanovitch), board member\n",
      "  NT  0.990  Nastia, sister of MV\n",
      "  VE  0.990  Venden, mustachioed clerk\n",
      "  VY  0.990  Voytov, horse purchaser\n",
      "\n",
      "  LE 0.369 Konstantin Dmitrievitch Levin, proprietor of Pokrovskoe\n",
      "  VR 0.203 Count Alexey Kirillovitch Vronsky, young officer\n",
      "  AN 0.198 Anna Arkadyevna Karenina, wife of AL\n",
      "  ST 0.170 Prince Stepan Arkadyevitch Oblonsky (Stiva), brother of AN\n",
      "  KI 0.117 Princess Ekaterina Alexandrovna Shtcherbatskaya (Kitty), wife of LE\n",
      "  DO 0.069 Princess Darya Alexandrovna Oblonskaya (Dolly), wife of ST\n",
      "  AL 0.056 Alexey Alexandrovitch Karenin, minister of state\n",
      "  PR 0.044 Prince Alexander Shtcherbatsky, father of DO and KI\n",
      "  YK 0.044 Yegorushka Korsunsky, handsome dancer\n",
      "  KE 0.024 Prince Kedrov, member of VR's regiment\n",
      "  SE 0.019 Sergey Alexeyevitch Karenin (Seryozha), son of AL and AN\n",
      "  SV 0.016 Nikolay Ivanovitch Sviazhsky, landowner\n",
      "  MI 0.015 Mihailov, painter\n",
      "  LK 0.015 Lidi Korsunskaya, wife of YK\n",
      "  KO 0.014 Sergei Ivanovitch Koznishev, half-brother of LE\n",
      "  PS 0.013 Princess Shtcherbatskaya, mother of DO and KI\n",
      "  YV 0.013 Captain Yashvin, gambling friend of VR\n",
      "  TA 0.012 Tanya, oldest daughter of ST and DO\n",
      "  GR 0.009 Grisha, young son of ST and DO\n",
      "  BT 0.009 Princess Betsy Tverskaya, cousin of VR\n",
      "  TU 0.005 Tushkevitch, croquet player\n",
      "  VV 0.004 Vassenka Veslovsky, distant cousin of KI\n",
      "  VK 0.004 Varvara Andreevna (Varenka), adopted daughter of MS\n",
      "  CN 0.003 Countess Nordston, friend of KI\n",
      "  SM 0.003 Stremov, opponent of AL\n",
      "  TV 0.003 Turovtsin, party guest\n",
      "  KT 0.002 Professor Katavasov, natural scientist\n",
      "  AG 0.002 Agafea Mihalovna, housekeeper of LE\n",
      "  CV 0.002 Countess Vronskaya, mother of VR\n",
      "  LI 0.002 Countess Lidia Ivanovna, Petersburg dogooder\n"
     ]
    }
   ],
   "source": [
    "all_chars_il = sorted(list(all_char_ctr.items()), key = lambda x:x[1], reverse=True)\n",
    "for (char, ct) in all_chars_il:\n",
    "    print('%4s  %.3f  %s' % (char, ct, desc_dict[char]['desc']))\n",
    "\n",
    "top_chars_betweenness_centrality = top_chars_bc[:30]\n",
    "print()\n",
    "for (ch, ct) in top_chars_betweenness_centrality:\n",
    "    print('%4s %.3f %s' % (ch, ct, desc_dict[ch]['desc']))"
   ]
  },
  {
   "cell_type": "code",
   "execution_count": 38,
   "metadata": {},
   "outputs": [
    {
     "name": "stdout",
     "output_type": "stream",
     "text": [
      "   LE  0.369  Konstantin Dmitrievitch Levin, proprietor of Pokrovskoe\n",
      "   VR  0.203  Count Alexey Kirillovitch Vronsky, young officer\n",
      "   AN  0.198  Anna Arkadyevna Karenina, wife of AL\n",
      "   ST  0.170  Prince Stepan Arkadyevitch Oblonsky (Stiva), brother of AN\n",
      "   KI  0.117  Princess Ekaterina Alexandrovna Shtcherbatskaya (Kitty), wife of LE\n",
      "   DO  0.069  Princess Darya Alexandrovna Oblonskaya (Dolly), wife of ST\n",
      "   AL  0.056  Alexey Alexandrovitch Karenin, minister of state\n",
      "   PR  0.044  Prince Alexander Shtcherbatsky, father of DO and KI\n",
      "   YK  0.044  Yegorushka Korsunsky, handsome dancer\n",
      "   KE  0.024  Prince Kedrov, member of VR's regiment\n"
     ]
    }
   ],
   "source": [
    "M_ak = nx.betweenness_centrality(ak)\n",
    "il_ak = list(M_ak.items())\n",
    "il_ak.sort(key=lambda x:x[1],reverse=True)\n",
    "ak_top_chars_betweenness_dict = dict(il_ak[:10])\n",
    "for (ch,score) in il_ak[:10]:\n",
    "    print('%5s  %.3f  %s' % (ch, score, desc_dict[ch]['attr_dict']['desc']))"
   ]
  },
  {
   "cell_type": "markdown",
   "metadata": {},
   "source": [
    "## Analysis of one character's most important relationships"
   ]
  },
  {
   "cell_type": "markdown",
   "metadata": {},
   "source": [
    "A new function to help"
   ]
  },
  {
   "cell_type": "code",
   "execution_count": 30,
   "metadata": {},
   "outputs": [],
   "source": [
    "def print_edge_info (edge_list, source):\n",
    "    for (st, end) in edge_list[:12]:\n",
    "      if st == source:\n",
    "          print('{0} {1:<50} {2:.3f}'.format(end, desc_dict[end]['attr_dict']['desc'],ak.get_edge_data(st,end)['attr_dict']['value']))\n",
    "      else:\n",
    "        \n",
    "          print('{0} {1:<70} {2:.3f}'.format(st, desc_dict[st]['attr_dict']['desc'],ak.get_edge_data(st,end)['attr_dict']['value']))"
   ]
  },
  {
   "cell_type": "markdown",
   "metadata": {},
   "source": [
    "Let's take a look at that scoundrel Vronsky, by retrieving all edges containing VR.  The following graph method is helpful."
   ]
  },
  {
   "cell_type": "code",
   "execution_count": 31,
   "metadata": {
    "scrolled": true
   },
   "outputs": [
    {
     "data": {
      "text/plain": [
       "EdgeDataView([('VR', 'AA'), ('VR', 'AL'), ('VR', 'AN'), ('VR', 'BT'), ('VR', 'CD'), ('VR', 'CN'), ('VR', 'CO'), ('VR', 'CV'), ('VR', 'DO'), ('VR', 'GA'), ('VR', 'GO'), ('VR', 'HA'), ('VR', 'KA'), ('VR', 'KE'), ('VR', 'KI'), ('VR', 'KO'), ('VR', 'KP'), ('VR', 'KU'), ('VR', 'KV'), ('VR', 'LE'), ('VR', 'LI'), ('VR', 'MB'), ('VR', 'MH'), ('VR', 'MI'), ('VR', 'MY'), ('VR', 'NY'), ('VR', 'PO'), ('VR', 'PR'), ('VR', 'PS'), ('VR', 'PT'), ('VR', 'SH'), ('VR', 'SM'), ('VR', 'SO'), ('VR', 'SP'), ('VR', 'ST'), ('VR', 'SV'), ('VR', 'TU'), ('VR', 'TV'), ('VR', 'VA'), ('VR', 'VE'), ('VR', 'VI'), ('VR', 'VP'), ('VR', 'XV'), ('VR', 'YV'), ('VR', 'VV'), ('VR', 'YK'), ('VR', 'VY')])"
      ]
     },
     "execution_count": 31,
     "metadata": {},
     "output_type": "execute_result"
    }
   ],
   "source": [
    "ak.edges('VR')"
   ]
  },
  {
   "cell_type": "code",
   "execution_count": 33,
   "metadata": {},
   "outputs": [
    {
     "name": "stdout",
     "output_type": "stream",
     "text": [
      "AN Anna Arkadyevna Karenina, wife of AL               27.200\n",
      "YV Captain Yashvin, gambling friend of VR             6.080\n",
      "ST Prince Stepan Arkadyevitch Oblonsky (Stiva), brother of AN 4.450\n",
      "BT Princess Betsy Tverskaya, cousin of VR             4.080\n",
      "VA Varya, wife of XV                                  2.830\n",
      "AL Alexey Alexandrovitch Karenin, minister of state   2.580\n",
      "XV Alexander Vronsky, brother of VR                   2.500\n",
      "PT Lieutenant Petritsky, friend of VR                 2.420\n",
      "GO Golenishtchev, friend of VR                        2.330\n",
      "KI Princess Ekaterina Alexandrovna Shtcherbatskaya (Kitty), wife of LE 2.200\n",
      "DO Princess Darya Alexandrovna Oblonskaya (Dolly), wife of ST 1.870\n",
      "CV Countess Vronskaya, mother of VR                   1.670\n"
     ]
    }
   ],
   "source": [
    "#VR_edges = [e_pair for e_pair in ak.edges() if 'VR' in e_pair]\n",
    "VR_edges = list(ak.edges('VR'))\n",
    "VR_edges.sort(key= lambda x: ak.get_edge_data(*x)['attr_dict']['value'], reverse=True)\n",
    "print_edge_info(VR_edges, 'VR')"
   ]
  },
  {
   "cell_type": "code",
   "execution_count": 34,
   "metadata": {},
   "outputs": [
    {
     "name": "stdout",
     "output_type": "stream",
     "text": [
      "VR Count Alexey Kirillovitch Vronsky, young officer   27.200\n",
      "AL Alexey Alexandrovitch Karenin, minister of state   13.330\n",
      "AA Annushka, maid of AN                               6.500\n",
      "DO Princess Darya Alexandrovna Oblonskaya (Dolly), wife of ST 5.870\n",
      "BA Annie, baby of AN and VR                           5.000\n",
      "SE Sergey Alexeyevitch Karenin (Seryozha), son of AL and AN 4.250\n",
      "ST Prince Stepan Arkadyevitch Oblonsky (Stiva), brother of AN 4.000\n",
      "BT Princess Betsy Tverskaya, cousin of VR             3.580\n",
      "PX Pyotr, servant of AN                               3.000\n",
      "GO Golenishtchev, friend of VR                        2.330\n",
      "LI Countess Lidia Ivanovna, Petersburg dogooder       2.250\n",
      "MC Mihail, coachman                                   2.000\n"
     ]
    }
   ],
   "source": [
    "#AN_edges = [e_pair for e_pair in ak.edges() if 'AN' in e_pair]\n",
    "AN_edges = list(ak.edges('AN'))\n",
    "AN_edges.sort(key= lambda x: ak.get_edge_data(*x)['attr_dict']['value'], reverse=True)\n",
    "print_edge_info(AN_edges, 'AN')"
   ]
  },
  {
   "cell_type": "markdown",
   "metadata": {},
   "source": [
    "## The three relationships in the novel's central triangle"
   ]
  },
  {
   "cell_type": "code",
   "execution_count": 35,
   "metadata": {},
   "outputs": [
    {
     "name": "stdout",
     "output_type": "stream",
     "text": [
      "{'attr_dict': {'value': 2.58}}\n",
      "{'attr_dict': {'value': 13.33}}\n",
      "{'attr_dict': {'value': 27.2}}\n"
     ]
    }
   ],
   "source": [
    "print(ak.get_edge_data('AL','VR'))\n",
    "print(ak.get_edge_data('AN','AL'))\n",
    "print(ak.get_edge_data('AN','VR'))"
   ]
  },
  {
   "cell_type": "markdown",
   "metadata": {},
   "source": [
    "## Two important characters with no shared scenes"
   ]
  },
  {
   "cell_type": "code",
   "execution_count": 39,
   "metadata": {},
   "outputs": [],
   "source": [
    "# Choose from among the characters appearing in most heavily weighted edges\n",
    "#top_chars = set([x for pair in all_edges[:30] for x in pair])\n",
    "# Or top by degree centrality\n",
    "#top_chars = [x for (x,score) in top_chars_degree_centrality]\n",
    "# Or top by betweenness centrality\n",
    "top_chars = [x for (x,score) in il_ak[:30]]"
   ]
  },
  {
   "cell_type": "code",
   "execution_count": 37,
   "metadata": {
    "scrolled": true
   },
   "outputs": [
    {
     "data": {
      "text/plain": [
       "[u'LE',\n",
       " u'VR',\n",
       " u'AN',\n",
       " u'ST',\n",
       " u'KI',\n",
       " u'DO',\n",
       " u'AL',\n",
       " u'PR',\n",
       " u'YK',\n",
       " u'KE',\n",
       " u'SE',\n",
       " u'SV',\n",
       " u'MI',\n",
       " u'LK',\n",
       " u'KO',\n",
       " u'PS',\n",
       " u'YV',\n",
       " u'TA',\n",
       " u'GR',\n",
       " u'BT',\n",
       " u'TU',\n",
       " u'VV',\n",
       " u'VK',\n",
       " u'CN',\n",
       " u'SM',\n",
       " u'TV',\n",
       " u'KT',\n",
       " u'AG',\n",
       " u'CV',\n",
       " u'LI']"
      ]
     },
     "execution_count": 37,
     "metadata": {},
     "output_type": "execute_result"
    }
   ],
   "source": [
    "top_chars"
   ]
  },
  {
   "cell_type": "markdown",
   "metadata": {},
   "source": [
    "Let's try finding characters among these that Vronsky never meets:"
   ]
  },
  {
   "cell_type": "code",
   "execution_count": 41,
   "metadata": {
    "scrolled": true
   },
   "outputs": [
    {
     "name": "stdout",
     "output_type": "stream",
     "text": [
      "SE Sergey Alexeyevitch Karenin (Seryozha), son of AL and AN\n",
      "LK Lidi Korsunskaya, wife of YK\n",
      "TA Tanya, oldest daughter of ST and DO\n",
      "GR Grisha, young son of ST and DO\n",
      "VK Varvara Andreevna (Varenka), adopted daughter of MS\n",
      "KT Professor Katavasov, natural scientist\n",
      "AG Agafea Mihalovna, housekeeper of LE\n"
     ]
    }
   ],
   "source": [
    "for x in top_chars: \n",
    "    if x != 'VR'and not ak.get_edge_data(x,'VR'):\n",
    "        print(x, desc_dict[x]['attr_dict']['desc'])"
   ]
  },
  {
   "cell_type": "markdown",
   "metadata": {},
   "source": [
    "Now Anna:"
   ]
  },
  {
   "cell_type": "code",
   "execution_count": 42,
   "metadata": {
    "scrolled": true
   },
   "outputs": [
    {
     "name": "stdout",
     "output_type": "stream",
     "text": [
      "PR Prince Alexander Shtcherbatsky, father of DO and KI\n",
      "KE Prince Kedrov, member of VR's regiment\n",
      "LK Lidi Korsunskaya, wife of YK\n",
      "KO Sergei Ivanovitch Koznishev, half-brother of LE\n",
      "PS Princess Shtcherbatskaya, mother of DO and KI\n",
      "VK Varvara Andreevna (Varenka), adopted daughter of MS\n",
      "CN Countess Nordston, friend of KI\n",
      "TV Turovtsin, party guest\n",
      "KT Professor Katavasov, natural scientist\n",
      "AG Agafea Mihalovna, housekeeper of LE\n"
     ]
    }
   ],
   "source": [
    "for x in top_chars: \n",
    "    if x != 'AN' and not ak.get_edge_data(x,'AN'):\n",
    "        print(x, desc_dict[x]['attr_dict']['desc'])"
   ]
  },
  {
   "cell_type": "code",
   "execution_count": null,
   "metadata": {
    "collapsed": true
   },
   "outputs": [],
   "source": []
  }
 ],
 "metadata": {
  "kernelspec": {
   "display_name": "Python 3",
   "language": "python",
   "name": "python3"
  },
  "language_info": {
   "codemirror_mode": {
    "name": "ipython",
    "version": 3
   },
   "file_extension": ".py",
   "mimetype": "text/x-python",
   "name": "python",
   "nbconvert_exporter": "python",
   "pygments_lexer": "ipython3",
   "version": "3.6.9"
  },
  "toc": {
   "base_numbering": 1,
   "nav_menu": {
    "height": "117px",
    "width": "252px"
   },
   "number_sections": true,
   "sideBar": true,
   "skip_h1_title": false,
   "title_cell": "Table of Contents",
   "title_sidebar": "Contents",
   "toc_cell": false,
   "toc_position": {},
   "toc_section_display": "block",
   "toc_window_display": false
  }
 },
 "nbformat": 4,
 "nbformat_minor": 1
}
