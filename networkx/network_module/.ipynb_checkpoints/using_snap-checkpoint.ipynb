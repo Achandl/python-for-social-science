{
 "cells": [
  {
   "cell_type": "markdown",
   "metadata": {
    "deletable": true,
    "editable": true
   },
   "source": [
    "## Snap Facebook graph data "
   ]
  },
  {
   "cell_type": "markdown",
   "metadata": {
    "deletable": true,
    "editable": true
   },
   "source": [
    "### Untarring the tar file"
   ]
  },
  {
   "cell_type": "markdown",
   "metadata": {
    "deletable": true,
    "editable": true
   },
   "source": [
    "This only needs to be done the first time you use this notebook, to extract the files from the archive downloaded from snap."
   ]
  },
  {
   "cell_type": "code",
   "execution_count": 2,
   "metadata": {
    "collapsed": false,
    "deletable": true,
    "editable": true
   },
   "outputs": [],
   "source": [
    "import tarfile\n",
    "import os.path\n",
    "\n",
    "def py_files(members,extension):\n",
    "    for tarinfo in members:\n",
    "        if os.path.splitext(tarinfo.name)[1] == extension:\n",
    "            yield tarinfo\n",
    "\n",
    "# If you get an IO error it's because you havent placed the \n",
    "# facebook tar file in the same directory as the notebook.\n",
    "tar = tarfile.open(\"facebook.tar.gz\")\n",
    "# To untar just one type of file\n",
    "#tar.extractall(members=py_files(tar,extension=\".edges\"))\n",
    "tar.extractall()\n",
    "tar.close()"
   ]
  },
  {
   "cell_type": "markdown",
   "metadata": {
    "deletable": true,
    "editable": true
   },
   "source": [
    "###  Reading in the edges of the ego network"
   ]
  },
  {
   "cell_type": "markdown",
   "metadata": {
    "deletable": true,
    "editable": true
   },
   "source": [
    "Starting here, we have cells that need to be re-executed each time you run the notebook, first to build the graph of ego's friends, or the ego network."
   ]
  },
  {
   "cell_type": "code",
   "execution_count": 3,
   "metadata": {
    "collapsed": false,
    "deletable": true,
    "editable": true
   },
   "outputs": [],
   "source": [
    "import networkx as nx\n",
    "# Read in edges of graph, treating node id as ints (otherwise they'd be strings)\n",
    "# Change the value of egoid to look at a different ego.  There are 10 ego graphs\n",
    "# in the data set.\n",
    "egoid = 0\n",
    "G = nx.read_edgelist(os.path.join('facebook','{0}.edges'.format(0)),nodetype=int)"
   ]
  },
  {
   "cell_type": "markdown",
   "metadata": {
    "deletable": true,
    "editable": true
   },
   "source": [
    "This particular egoid has 348 friends.  Note that there is never a node for ego in this graph.  If there were, ego would hust be a node connected to all the others."
   ]
  },
  {
   "cell_type": "code",
   "execution_count": 4,
   "metadata": {
    "collapsed": false,
    "deletable": true,
    "editable": true
   },
   "outputs": [
    {
     "data": {
      "text/plain": [
       "333"
      ]
     },
     "execution_count": 4,
     "metadata": {},
     "output_type": "execute_result"
    }
   ],
   "source": [
    "len(G.nodes())"
   ]
  },
  {
   "cell_type": "markdown",
   "metadata": {
    "deletable": true,
    "editable": true
   },
   "source": [
    "### Adding data about ego and nodes"
   ]
  },
  {
   "cell_type": "code",
   "execution_count": 5,
   "metadata": {
    "collapsed": false,
    "deletable": true,
    "editable": true
   },
   "outputs": [],
   "source": [
    "\n",
    "from collections import defaultdict\n",
    "\n",
    "def read_featnames_file (ego_id):\n",
    "    \"\"\"\n",
    "    Each feature index in the SNAP feature system represents a feature,value pair.\n",
    "    For example, the feature index 24 might represent the value 'Harvard' for\n",
    "    the 'education;school' feature.  For each node, the feature is either on\n",
    "    or off.  In the ego graph for ego_id 0, Features 24-52 all represent possible values for\n",
    "    the 'education;school' feature. For most individuals only one of the features in that range\n",
    "    will be on. We're using numbers so we don't know which feature values\n",
    "    represent which actual schools. Similarly features 77 and 78 represent the two values \n",
    "    for the gender feature, but we don't know which represents male and which female.\n",
    "    Using integers **anonymizes** the feature values, so we can't use the cluster of features\n",
    "    belonging to an individual in a network to identify them.\n",
    "    \n",
    "    Return a Decoding list and a feature dict. The decoding list maps from a SNAP feature id\n",
    "    to a feature name. decoding_dict[i] is the feature name for which feature code `i` \n",
    "    defines a value. So `decoding_dict[77]` and `decoding_list[78]` both are 'gender`. \n",
    "    The keys of the feature_dict are feature names. For each feature name,\n",
    "    `feature_dict[i]` gives the the list of features that represent values for that feature,\n",
    "    so for the ego network for egoid 0, feature_dict['gender'] is [77,78].\n",
    "    \"\"\"\n",
    "    global decoding_dict,feat_dict,feats0\n",
    "    with open(os.path.join('facebook','{0:d}.featnames'.format(ego_id))) as fh:\n",
    "        feats = fh.readlines()\n",
    "    decoding_list,feat_dict = [],defaultdict(list)\n",
    "    feats0 = [l.strip().split() for l in feats]\n",
    "    decoding_list =  [';'.join(featname.split(';')[:-1])\n",
    "                      for (local_index,featname,_,global_index) in feats0]\n",
    "    for (index,featname) in enumerate(decoding_list):\n",
    "        feat_dict[featname].append(index)\n",
    "    return (decoding_list, feat_dict)\n",
    "\n",
    "egoid = 0\n",
    "(decoding_list,feat_dict) = read_featnames_file(egoid)\n",
    "    \n",
    "    \n",
    "    "
   ]
  },
  {
   "cell_type": "markdown",
   "metadata": {
    "deletable": true,
    "editable": true
   },
   "source": [
    "Over 200 features were found. All are there because a user decided to include a \n",
    "particular kind of information (such as high school attended) in their profile.\n",
    "Bear in mind that many Facebook users provide very little information about themselves,\n",
    "so that most features have no value for most users.  For example, the graph for egoid 0\n",
    "includes several individuals about whom we know nothing but their gender."
   ]
  },
  {
   "cell_type": "markdown",
   "metadata": {
    "deletable": true,
    "editable": true
   },
   "source": [
    "How many total feature values are there, combining the values from all features?"
   ]
  },
  {
   "cell_type": "code",
   "execution_count": 27,
   "metadata": {
    "collapsed": false,
    "deletable": true,
    "editable": true
   },
   "outputs": [
    {
     "data": {
      "text/plain": [
       "224"
      ]
     },
     "execution_count": 27,
     "metadata": {},
     "output_type": "execute_result"
    }
   ],
   "source": [
    "len(decoding_list)"
   ]
  },
  {
   "cell_type": "markdown",
   "metadata": {
    "deletable": true,
    "editable": true
   },
   "source": [
    "How many features are there? What are they and how many values does each have?"
   ]
  },
  {
   "cell_type": "code",
   "execution_count": 28,
   "metadata": {
    "collapsed": false,
    "deletable": true,
    "editable": true
   },
   "outputs": [
    {
     "data": {
      "text/plain": [
       "['birthday',\n",
       " 'education;classes;id',\n",
       " 'education;concentration;id',\n",
       " 'education;degree;id',\n",
       " 'education;school;id',\n",
       " 'education;type',\n",
       " 'education;with;id',\n",
       " 'education;year;id',\n",
       " 'first_name',\n",
       " 'gender',\n",
       " 'hometown;id',\n",
       " 'languages;id',\n",
       " 'last_name',\n",
       " 'locale',\n",
       " 'location;id',\n",
       " 'work;employer;id',\n",
       " 'work;end_date',\n",
       " 'work;location;id',\n",
       " 'work;position;id',\n",
       " 'work;start_date',\n",
       " 'work;with;id']"
      ]
     },
     "execution_count": 28,
     "metadata": {},
     "output_type": "execute_result"
    }
   ],
   "source": [
    "sorted(feat_dict.keys())"
   ]
  },
  {
   "cell_type": "code",
   "execution_count": 6,
   "metadata": {
    "collapsed": false,
    "deletable": true,
    "editable": true
   },
   "outputs": [
    {
     "name": "stdout",
     "output_type": "stream",
     "text": [
      "There are 21 features\n",
      "\n",
      "birthday:                     8 values\n",
      "education;classes;id:         5 values\n",
      "education;concentration;id:   7 values\n",
      "education;degree;id:          4 values\n",
      "education;school;id:         29 values\n",
      "education;type:               3 values\n",
      "education;with;id:            1 values\n",
      "education;year;id:           16 values\n",
      "first_name:                   4 values\n",
      "gender:                       2 values\n",
      "hometown;id:                 11 values\n",
      "languages;id:                14 values\n",
      "last_name:                   21 values\n",
      "locale:                       3 values\n",
      "location;id:                 12 values\n",
      "work;employer;id:            20 values\n",
      "work;end_date:               16 values\n",
      "work;location;id:            12 values\n",
      "work;position;id:            13 values\n",
      "work;start_date:             22 values\n",
      "work;with;id:                 1 values\n",
      "---------------------------------------------\n",
      "                            224 values\n"
     ]
    }
   ],
   "source": [
    "from collections import Counter\n",
    "value_ctr = Counter(decoding_list)\n",
    "print 'There are {0} features'.format(len(feat_dict))\n",
    "print\n",
    "ctr = 0\n",
    "for k,v in sorted(feat_dict.items()):\n",
    "    print '{0:27s}  {1:>2d} values'.format(k+':',value_ctr[k])\n",
    "    ctr += len(v)\n",
    "\n",
    "print '-' * 45\n",
    "print '{0:>{width}} values'.format(ctr,width=5 + max(len(f) for f in feat_dict.keys()))"
   ]
  },
  {
   "cell_type": "code",
   "execution_count": 7,
   "metadata": {
    "collapsed": true,
    "deletable": true,
    "editable": true
   },
   "outputs": [],
   "source": [
    "def add_node_properties_to_graph(G,ego_id,decoding_list):\n",
    "    global featlist\n",
    "    with open(os.path.join('facebook','{0:d}.feat'.format(ego_id))) as fh:\n",
    "        featlist = [[int(x) for x in line.strip().split()] for line in fh.readlines()]\n",
    "    nodelist = G.nodes()\n",
    "    for atts in featlist:\n",
    "        node,feats = atts[0],atts[1:]\n",
    "        #print len(feats)\n",
    "        if node in nodelist:\n",
    "            pass\n",
    "        else:\n",
    "            # For noticing the addition of unconnected nodes\n",
    "            #print 'Adding {0}'.format(node)\n",
    "            G.add_node(node,attr_dict = {})\n",
    "        add_feats_to_feat_dict(feats, G.node[node], decoding_list)\n",
    "\n",
    "def add_feats_to_feat_dict (feats, feat_dict, decoding_list):\n",
    "    \"\"\"\n",
    "    We do not assume features are single-valued; i.e., each person has only one\n",
    "    highest degree, one school attended, one gender.  \n",
    "    \n",
    "    For example the feature `languages` may have multiple vals.\n",
    "    \"\"\"\n",
    "    for (feat_index,val) in enumerate(feats):\n",
    "        feat = decoding_list[feat_index]\n",
    "        if val:\n",
    "            if feat in feat_dict:\n",
    "                feat_dict[feat] += (feat_index,)\n",
    "            else:\n",
    "                feat_dict[feat] = (feat_index,)\n",
    "  \n",
    "    \n",
    "def read_ego_features(ego_id, decoding_list):\n",
    "    \"\"\"\n",
    "    Return a feat dict for ego just like the feat_dicts found in G.node,\n",
    "    except this one won't belong to a node in the graph.  Useful for comparing\n",
    "    features of ego to features of ego's friends.\n",
    "    \"\"\"\n",
    "    with open(os.path.join('facebook','{0:d}.egofeat'.format(ego_id))) as fh:\n",
    "        featlist = [int(x) for x in fh.readline().strip().split()]\n",
    "    ego_feat_dict = {}\n",
    "    add_feats_to_feat_dict(featlist, ego_feat_dict, decoding_list)\n",
    "    return ego_feat_dict\n",
    "\n",
    "def add_circles_to_graph(G,ego_id,decoding_list):\n",
    "    with open(os.path.join('facebook','{0:d}.circles'.format(ego_id))) as fh:\n",
    "         circlelist0 = [line.strip().split() for line in fh.readlines()]\n",
    "    #circles = [circ[0] for circ in circlelist]\n",
    "    print '{0} circles found!'.format(len(circlelist0))\n",
    "    # We treat the n circles found as the n possible values for a new feature named circles\n",
    "    for i in range(len(circlelist0)):\n",
    "        decoding_list.append('circles')\n",
    "    circlelist = [[int(ind) for ind in circ[1:]] for circ in circlelist0]\n",
    "    for (circid,members) in enumerate(circlelist):\n",
    "        for m in members:\n",
    "            if 'circles' not in G.node[m]:\n",
    "                # Because we want to do set based comparison \n",
    "                # of circles, we want tuples\n",
    "                G.node[m]['circles'] = (circid,)\n",
    "            else:\n",
    "                G.node[m]['circles'] += (circid,)\n",
    "    return circlelist\n",
    "    "
   ]
  },
  {
   "cell_type": "markdown",
   "metadata": {
    "deletable": true,
    "editable": true
   },
   "source": [
    "Execute the cell above before executung the cell below.  Click on the cell below and Type `Esc-l` to toggle line numbers if they aren't already there."
   ]
  },
  {
   "cell_type": "code",
   "execution_count": 8,
   "metadata": {
    "collapsed": false,
    "deletable": true,
    "editable": true
   },
   "outputs": [
    {
     "name": "stdout",
     "output_type": "stream",
     "text": [
      "24 circles found!\n"
     ]
    }
   ],
   "source": [
    "egoid = 0\n",
    "add_node_properties_to_graph(G,egoid,decoding_list) \n",
    "circlelist = add_circles_to_graph(G,egoid,decoding_list)\n",
    "ego_feat_dict = read_ego_features(egoid, decoding_list)"
   ]
  },
  {
   "cell_type": "markdown",
   "metadata": {
    "deletable": true,
    "editable": true
   },
   "source": [
    "In line 1 we decide on the ego id whose ego graph we are analyzing. In  line 2 we add the known properities of the friends in that graph and store them on the graph (see below).  In line 3 we compute the circles\n",
    "and return them in a list.  Each circle is a list of ego's friends, so `circlelist` is a list of lists.  For example there might be one circle for family members, another for work, another for karate club members, and so on. Finally in line 5 we compute the properties ego has made public on his/her profile page and store them in a dictionary."
   ]
  },
  {
   "cell_type": "markdown",
   "metadata": {
    "deletable": true,
    "editable": true
   },
   "source": [
    "Friend properties have been stored as dictionaries we'll call **feat_dicts**.  The feat dicts of all ego's friends are stored in one big dictionary keyed by node names in `G.node`. Ego is not part of the graph, nor is ego's feat dict.  It's just a separate feat dict that we computed in line 4 in the cell above. "
   ]
  },
  {
   "cell_type": "markdown",
   "metadata": {
    "deletable": true,
    "editable": true
   },
   "source": [
    "Here are ego's features."
   ]
  },
  {
   "cell_type": "code",
   "execution_count": 42,
   "metadata": {
    "collapsed": false,
    "deletable": true,
    "editable": true
   },
   "outputs": [
    {
     "data": {
      "text/plain": [
       "{'education;classes;id': (9,),\n",
       " 'education;concentration;id': (14,),\n",
       " 'education;school;id': (39, 50, 52),\n",
       " 'education;type': (53, 54, 55),\n",
       " 'education;year;id': (69,),\n",
       " 'gender': (78,),\n",
       " 'last_name': (104,),\n",
       " 'locale': (127,),\n",
       " 'location;id': (129,),\n",
       " 'work;employer;id': (145, 147, 151, 156),\n",
       " 'work;end_date': (160, 163, 166, 168),\n",
       " 'work;location;id': (176,),\n",
       " 'work;position;id': (192, 195),\n",
       " 'work;start_date': (205, 206, 208, 210, 212, 219)}"
      ]
     },
     "execution_count": 42,
     "metadata": {},
     "output_type": "execute_result"
    }
   ],
   "source": [
    "ego_feat_dict"
   ]
  },
  {
   "cell_type": "markdown",
   "metadata": {
    "deletable": true,
    "editable": true
   },
   "source": [
    "Here's a sample of the kinds of features found among ego's friends."
   ]
  },
  {
   "cell_type": "code",
   "execution_count": 43,
   "metadata": {
    "collapsed": false,
    "deletable": true,
    "editable": true,
    "scrolled": true
   },
   "outputs": [
    {
     "data": {
      "text/plain": [
       "[(1, {'circles': (15,), 'gender': (77,), 'locale': (127,)}),\n",
       " (2,\n",
       "  {'circles': (10,),\n",
       "   'education;school;id': (35,),\n",
       "   'education;type': (53, 55),\n",
       "   'education;year;id': (57,),\n",
       "   'gender': (78,),\n",
       "   'languages;id': (92, 98),\n",
       "   'last_name': (114,),\n",
       "   'locale': (126,),\n",
       "   'location;id': (135,)}),\n",
       " (3,\n",
       "  {'birthday': (7,),\n",
       "   'circles': (15,),\n",
       "   'education;concentration;id': (14,),\n",
       "   'education;school;id': (34, 50),\n",
       "   'education;type': (53, 55),\n",
       "   'education;year;id': (59, 65),\n",
       "   'gender': (78,),\n",
       "   'languages;id': (92,),\n",
       "   'locale': (127,),\n",
       "   'location;id': (138,),\n",
       "   'work;end_date': (171, 173),\n",
       "   'work;location;id': (185,),\n",
       "   'work;start_date': (210, 217)}),\n",
       " (4,\n",
       "  {'education;school;id': (50,),\n",
       "   'education;type': (53, 55),\n",
       "   'education;with;id': (56,),\n",
       "   'gender': (78,),\n",
       "   'locale': (127,)}),\n",
       " (5,\n",
       "  {'circles': (16,),\n",
       "   'education;school;id': (49, 50),\n",
       "   'education;type': (53, 54),\n",
       "   'education;year;id': (65,),\n",
       "   'gender': (78,),\n",
       "   'locale': (127,)}),\n",
       " (6,\n",
       "  {'birthday': (1,),\n",
       "   'circles': (15,),\n",
       "   'education;type': (53, 55),\n",
       "   'education;year;id': (62,),\n",
       "   'gender': (78,),\n",
       "   'last_name': (111,),\n",
       "   'locale': (127,),\n",
       "   'work;end_date': (160,),\n",
       "   'work;start_date': (201,)}),\n",
       " (7,\n",
       "  {'circles': (15,),\n",
       "   'education;concentration;id': (13,),\n",
       "   'education;school;id': (25, 43, 50),\n",
       "   'education;type': (53, 54, 55),\n",
       "   'education;year;id': (59,),\n",
       "   'gender': (78,),\n",
       "   'last_name': (107,),\n",
       "   'locale': (127,),\n",
       "   'location;id': (138,),\n",
       "   'work;employer;id': (142, 145),\n",
       "   'work;start_date': (205,)}),\n",
       " (8, {'gender': (78,), 'locale': (127,)}),\n",
       " (9, {'circles': (15, 16), 'gender': (78,), 'locale': (127,)}),\n",
       " (10,\n",
       "  {'birthday': (6,),\n",
       "   'circles': (15,),\n",
       "   'education;concentration;id': (14,),\n",
       "   'education;school;id': (50,),\n",
       "   'education;type': (54, 55),\n",
       "   'education;year;id': (59, 65),\n",
       "   'gender': (78,),\n",
       "   'locale': (127,),\n",
       "   'location;id': (138,),\n",
       "   'work;employer;id': (149,),\n",
       "   'work;end_date': (160,),\n",
       "   'work;start_date': (211, 214)})]"
      ]
     },
     "execution_count": 43,
     "metadata": {},
     "output_type": "execute_result"
    }
   ],
   "source": [
    "G.node.items()[:10]"
   ]
  },
  {
   "cell_type": "markdown",
   "metadata": {
    "deletable": true,
    "editable": true
   },
   "source": [
    "Does anyone belong to more than one circle?"
   ]
  },
  {
   "cell_type": "code",
   "execution_count": 44,
   "metadata": {
    "collapsed": false,
    "deletable": true,
    "editable": true
   },
   "outputs": [
    {
     "name": "stdout",
     "output_type": "stream",
     "text": [
      "9 (15, 16)\n",
      "17 (6, 19)\n",
      "20 (6, 19)\n",
      "23 (5, 15)\n",
      "36 (15, 16)\n",
      "41 (6, 19)\n",
      "52 (6, 17)\n",
      "54 (0, 11)\n",
      "55 (4, 15)\n",
      "69 (4, 15)\n",
      "93 (6, 19)\n",
      "97 (0, 11)\n",
      "105 (15, 17)\n",
      "115 (6, 19)\n",
      "122 (4, 15)\n",
      "125 (4, 15)\n",
      "127 (15, 16)\n",
      "135 (15, 16)\n",
      "137 (6, 19)\n",
      "139 (15, 16)\n",
      "146 (9, 15)\n",
      "172 (15, 17)\n",
      "173 (1, 16)\n",
      "183 (0, 15)\n",
      "197 (15, 16)\n",
      "214 (6, 19)\n",
      "236 (4, 15)\n",
      "251 (15, 16)\n",
      "258 (4, 16)\n",
      "280 (4, 15)\n",
      "281 (15, 16)\n",
      "282 (8, 20)\n",
      "294 (15, 17)\n",
      "298 (0, 11)\n",
      "308 (11, 15)\n",
      "309 (15, 16)\n",
      "312 (6, 19)\n",
      "326 (6, 19)\n",
      "343 (6, 19)\n"
     ]
    }
   ],
   "source": [
    "for friend in G.node:\n",
    "    feat_dict = G.node[friend]\n",
    "    if 'circles' in feat_dict:\n",
    "        if len(feat_dict['circles']) > 1:\n",
    "            print friend, feat_dict['circles']"
   ]
  },
  {
   "cell_type": "markdown",
   "metadata": {
    "deletable": true,
    "editable": true
   },
   "source": [
    "How many of ego's friends have the same last name as ego?"
   ]
  },
  {
   "cell_type": "code",
   "execution_count": 9,
   "metadata": {
    "collapsed": false,
    "deletable": true,
    "editable": true
   },
   "outputs": [
    {
     "data": {
      "text/plain": [
       "5"
      ]
     },
     "execution_count": 9,
     "metadata": {},
     "output_type": "execute_result"
    }
   ],
   "source": [
    "ctr = 0\n",
    "for friend in G.node:\n",
    "    if 'last_name' in G.node[friend]:\n",
    "        if G.node[friend]['last_name'] == ego_feat_dict['last_name']:\n",
    "            ctr += 1\n",
    "ctr"
   ]
  },
  {
   "cell_type": "markdown",
   "metadata": {
    "deletable": true,
    "editable": true
   },
   "source": [
    "What circle has the most people with the same last name as ego?  Perhaps a family circle?"
   ]
  },
  {
   "cell_type": "code",
   "execution_count": 12,
   "metadata": {
    "collapsed": false,
    "deletable": true,
    "editable": true
   },
   "outputs": [
    {
     "data": {
      "text/plain": [
       "[71,\n",
       " 215,\n",
       " 54,\n",
       " 61,\n",
       " 298,\n",
       " 229,\n",
       " 81,\n",
       " 253,\n",
       " 193,\n",
       " 97,\n",
       " 264,\n",
       " 29,\n",
       " 132,\n",
       " 110,\n",
       " 163,\n",
       " 259,\n",
       " 183,\n",
       " 334,\n",
       " 245,\n",
       " 222]"
      ]
     },
     "execution_count": 12,
     "metadata": {},
     "output_type": "execute_result"
    }
   ],
   "source": [
    "circlelist[0]"
   ]
  },
  {
   "cell_type": "code",
   "execution_count": 13,
   "metadata": {
    "collapsed": false,
    "deletable": true,
    "editable": true
   },
   "outputs": [
    {
     "data": {
      "text/plain": [
       "[(14, 2), (12, 1), (13, 1)]"
      ]
     },
     "execution_count": 13,
     "metadata": {},
     "output_type": "execute_result"
    }
   ],
   "source": [
    "from collections import Counter\n",
    "shared_last = Counter()\n",
    "ego_last = ego_feat_dict['last_name']\n",
    "\n",
    "# Loop through all the circles\n",
    "for (i,c) in enumerate(circlelist):\n",
    "    # loop through the members of a given circle\n",
    "    for m in c:\n",
    "        # If this member has revealed his last name and \n",
    "        # it is the same as ego's\n",
    "        if 'last_name' in G.node[m] and \\\n",
    "            G.node[m]['last_name'] == ego_last:\n",
    "                # increment the count of how many last name sharers\n",
    "                # there are in this circle\n",
    "                shared_last[i] += 1\n",
    "\n",
    "#What are top three circles as far as sharing last names with ego goes?\n",
    "shared_last.most_common(3)            \n",
    "    "
   ]
  },
  {
   "cell_type": "markdown",
   "metadata": {
    "deletable": true,
    "editable": true
   },
   "source": [
    "One circle, circle 14, has two members with the same last name as ego.  How many members does circle 14 have?"
   ]
  },
  {
   "cell_type": "code",
   "execution_count": 14,
   "metadata": {
    "collapsed": false,
    "deletable": true,
    "editable": true
   },
   "outputs": [
    {
     "data": {
      "text/plain": [
       "2"
      ]
     },
     "execution_count": 14,
     "metadata": {},
     "output_type": "execute_result"
    }
   ],
   "source": [
    "len(circlelist[14])"
   ]
  },
  {
   "cell_type": "markdown",
   "metadata": {
    "deletable": true,
    "editable": true
   },
   "source": [
    "## Similarity of friends: Homophily"
   ]
  },
  {
   "cell_type": "markdown",
   "metadata": {
    "deletable": true,
    "editable": true
   },
   "source": [
    "We speculated above that the two members of Circle 14 might be related to ego, because they have the same last name.\n",
    "\n",
    "Let's try to **measure** how similar these two friends are, as well as how similar they are to ego.\n",
    "\n",
    "We'll use a very famous similarity function known as the **Dice coefficient**, after its inventor, Lee Dice, who introduced it in the following work:\n",
    "\n",
    "> Dice, Lee R. \"Measures of the amount of ecologic association between species.\" Ecology 26.3 (1945): 297-302.\n",
    "\n",
    "The Dice coefficient counts the number of shared properties two entities have, but divides by the size of their combined set of properties.  To facilitate  comparison with ego's properties, we define it as a function of feature_dicts."
   ]
  },
  {
   "cell_type": "code",
   "execution_count": 57,
   "metadata": {
    "collapsed": false,
    "deletable": true,
    "editable": true
   },
   "outputs": [
    {
     "name": "stdout",
     "output_type": "stream",
     "text": [
      "First mem 175 Second mem 227 0.31\n",
      "First member 175 ego 0.15\n",
      "Second member 227 ego 0.08\n"
     ]
    }
   ],
   "source": [
    "def dice_coefficient (fd1,fd2):\n",
    "    \"\"\"\n",
    "    Returns a number between 0 and 1 representing the similarity of\n",
    "    feature set `fd1` to feature set `fd2`, which are dictionaries\n",
    "    with hashable values (strings, ints, or tuples, no lists).\n",
    "    \"\"\"\n",
    "    fd1_s,fd2_s = set(tuple(fd1.items())),set(tuple(fd2.items()))\n",
    "    return len(fd1_s.intersection(fd2_s))/float(len(fd1_s.union(fd2_s)))\n",
    "\n",
    "# The two members of circle 14\n",
    "mem1, mem2 = circlelist[14][0],circlelist[14][1]\n",
    "# The feat dicts of those two members, taken from the graph.\n",
    "mem1_feat_dict,mem2_feat_dict = G.node[mem1],G.node[mem2]\n",
    "# The similarities of 3 pairs of individuals\n",
    "mems12_sim = dice_coefficient(mem1_feat_dict, mem2_feat_dict)\n",
    "mem1_ego_sim = dice_coefficient(mem1_feat_dict, ego_feat_dict)\n",
    "mem2_ego_sim = dice_coefficient(mem2_feat_dict, ego_feat_dict)\n",
    "print 'First mem',mem1,'Second mem', mem2,'{0:.2f}'.format(mems12_sim)\n",
    "print 'First member',mem1, 'ego', '{0:.2f}'.format(mem1_ego_sim)\n",
    "print 'Second member',mem2, 'ego', '{0:.2f}'.format(mem2_ego_sim)"
   ]
  },
  {
   "cell_type": "code",
   "execution_count": 50,
   "metadata": {
    "collapsed": false,
    "deletable": true,
    "editable": true
   },
   "outputs": [
    {
     "data": {
      "text/plain": [
       "{'birthday': (4,),\n",
       " 'circles': (14,),\n",
       " 'education;school;id': (45,),\n",
       " 'education;type': (55,),\n",
       " 'gender': (78,),\n",
       " 'hometown;id': (88,),\n",
       " 'last_name': (104,),\n",
       " 'locale': (127,),\n",
       " 'location;id': (137,)}"
      ]
     },
     "execution_count": 50,
     "metadata": {},
     "output_type": "execute_result"
    }
   ],
   "source": [
    "mem1_feat_dict"
   ]
  },
  {
   "cell_type": "code",
   "execution_count": 51,
   "metadata": {
    "collapsed": false,
    "deletable": true,
    "editable": true
   },
   "outputs": [
    {
     "data": {
      "text/plain": [
       "{'birthday': (7,),\n",
       " 'circles': (14,),\n",
       " 'education;school;id': (26, 45),\n",
       " 'education;type': (53, 55),\n",
       " 'education;year;id': (65, 69),\n",
       " 'gender': (77,),\n",
       " 'hometown;id': (88,),\n",
       " 'last_name': (104,),\n",
       " 'locale': (127,),\n",
       " 'location;id': (137,),\n",
       " 'work;location;id': (177,),\n",
       " 'work;start_date': (215,)}"
      ]
     },
     "execution_count": 51,
     "metadata": {},
     "output_type": "execute_result"
    }
   ],
   "source": [
    "mem2_feat_dict"
   ]
  },
  {
   "cell_type": "code",
   "execution_count": null,
   "metadata": {
    "collapsed": true,
    "deletable": true,
    "editable": true
   },
   "outputs": [],
   "source": []
  }
 ],
 "metadata": {
  "kernelspec": {
   "display_name": "Python 2",
   "language": "python",
   "name": "python2"
  },
  "language_info": {
   "codemirror_mode": {
    "name": "ipython",
    "version": 2
   },
   "file_extension": ".py",
   "mimetype": "text/x-python",
   "name": "python",
   "nbconvert_exporter": "python",
   "pygments_lexer": "ipython2",
   "version": "2.7.13"
  },
  "toc": {
   "colors": {
    "hover_highlight": "#DAA520",
    "running_highlight": "#FF0000",
    "selected_highlight": "#FFD700"
   },
   "moveMenuLeft": true,
   "nav_menu": {
    "height": "117px",
    "width": "252px"
   },
   "navigate_menu": true,
   "number_sections": true,
   "sideBar": true,
   "threshold": 4,
   "toc_cell": false,
   "toc_section_display": "block",
   "toc_window_display": false,
   "widenNotebook": false
  }
 },
 "nbformat": 4,
 "nbformat_minor": 0
}
