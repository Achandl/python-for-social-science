{
 "cells": [
  {
   "cell_type": "code",
   "execution_count": 1,
   "metadata": {},
   "outputs": [],
   "source": [
    "%matplotlib inline\n",
    "import networkx as nx\n",
    "import readwrite_gml\n",
    "kn = readwrite_gml.read_gml('weighted_karate.gml')"
   ]
  },
  {
   "cell_type": "code",
   "execution_count": 2,
   "metadata": {},
   "outputs": [
    {
     "data": {
      "text/plain": [
       "networkx.classes.graph.Graph"
      ]
     },
     "execution_count": 2,
     "metadata": {},
     "output_type": "execute_result"
    }
   ],
   "source": [
    "type(kn)"
   ]
  },
  {
   "cell_type": "code",
   "execution_count": 3,
   "metadata": {},
   "outputs": [
    {
     "data": {
      "text/plain": [
       "EdgeView([(1, 12), (1, 6), (1, 11), (1, 14), (1, 3), (1, 2), (1, 5), (1, 18), (1, 4), (1, 7), (1, 20), (1, 32), (1, 9), (1, 22), (1, 8), (1, 13), (2, 22), (2, 3), (2, 8), (2, 14), (2, 31), (2, 18), (2, 20), (2, 4), (3, 33), (3, 9), (3, 28), (3, 10), (3, 8), (3, 14), (3, 29), (3, 4), (4, 14), (4, 13), (4, 8), (5, 11), (5, 7), (6, 7), (6, 17), (6, 11), (7, 17), (9, 33), (9, 34), (9, 31), (10, 34), (14, 34), (15, 34), (15, 33), (16, 34), (16, 33), (19, 34), (19, 33), (20, 34), (21, 34), (21, 33), (23, 33), (23, 34), (24, 30), (24, 33), (24, 26), (24, 28), (24, 34), (25, 26), (25, 32), (25, 28), (26, 32), (27, 34), (27, 30), (28, 34), (29, 34), (29, 32), (30, 33), (30, 34), (31, 34), (31, 33), (32, 34), (32, 33), (33, 34)])"
      ]
     },
     "execution_count": 3,
     "metadata": {},
     "output_type": "execute_result"
    }
   ],
   "source": [
    "kn.edges()"
   ]
  },
  {
   "cell_type": "code",
   "execution_count": 4,
   "metadata": {},
   "outputs": [
    {
     "name": "stdout",
     "output_type": "stream",
     "text": [
      "(1, 12)\n"
     ]
    },
    {
     "data": {
      "text/plain": [
       "{'attr_dict': {'value': 3.0}}"
      ]
     },
     "execution_count": 4,
     "metadata": {},
     "output_type": "execute_result"
    }
   ],
   "source": [
    "# Sort the edge list by weight\n",
    "#x = kn.get_edge_data(0,1)\n",
    "#print x, x[0]\n",
    "all_edges = sorted(kn.edges(), \n",
    "                   key= lambda x: kn.get_edge_data(*x)['attr_dict']['value'], \n",
    "                   reverse=True)\n",
    "#for (s,e) in kn.edges():\n",
    "#    print s, e\n",
    "#    print kn.get_edge_data(s,e)[s]['value']\n",
    "#for (s,e) in kn.edges():\n",
    "#    print kn.get_edge_data(s,e)\n",
    "# The next line shows the first edge (highest weighted) in the edgelist\n",
    "print (list(kn.edges())[0])\n",
    "# Next we print the attributes of that edge\n",
    "kn.get_edge_data(1,12)"
   ]
  },
  {
   "cell_type": "code",
   "execution_count": 5,
   "metadata": {},
   "outputs": [
    {
     "name": "stdout",
     "output_type": "stream",
     "text": [
      "26 32   7.0\n",
      " 2  3   6.0\n",
      " 1  3   5.0\n",
      " 2 14   5.0\n",
      " 3  9   5.0\n",
      " 6  7   5.0\n",
      "24 33   5.0\n",
      "24 26   5.0\n",
      "33 34   5.0\n",
      " 1  2   4.0\n"
     ]
    }
   ],
   "source": [
    "for e in all_edges[:10]:\n",
    "    print('{0:>2} {1:>2}   {2}'.format(e[0], e[1], kn.edges[e]['attr_dict']['value']))"
   ]
  },
  {
   "cell_type": "code",
   "execution_count": 6,
   "metadata": {},
   "outputs": [
    {
     "data": {
      "text/plain": [
       "[(1, 12, {'attr_dict': {'value': 3.0}}),\n",
       " (1, 6, {'attr_dict': {'value': 3.0}}),\n",
       " (1, 11, {'attr_dict': {'value': 2.0}}),\n",
       " (1, 14, {'attr_dict': {'value': 3.0}}),\n",
       " (1, 3, {'attr_dict': {'value': 5.0}}),\n",
       " (1, 2, {'attr_dict': {'value': 4.0}}),\n",
       " (1, 5, {'attr_dict': {'value': 3.0}}),\n",
       " (1, 18, {'attr_dict': {'value': 2.0}}),\n",
       " (1, 4, {'attr_dict': {'value': 3.0}}),\n",
       " (1, 7, {'attr_dict': {'value': 3.0}})]"
      ]
     },
     "execution_count": 6,
     "metadata": {},
     "output_type": "execute_result"
    }
   ],
   "source": [
    "list(kn.edges(data=True))[:10]"
   ]
  },
  {
   "cell_type": "code",
   "execution_count": 7,
   "metadata": {},
   "outputs": [],
   "source": [
    "kn0 = nx.karate_club_graph()\n",
    "# Copy the node attribute info (esp. the \"club\" info) from the nx version `kn0`,\n",
    "# But be careful about leaving the nx version unchanged.\n",
    "new_kn = nx.Graph()\n",
    "for (n, nd)in kn0.nodes(data=True):\n",
    "    new_kn.add_node(n,attr_dict = nd)\n",
    "    #new_kn.nodes[n] = kn0.nodes[n]\n",
    "kn0_edges = kn0.edges()\n",
    "for (s,e,ed) in kn.edges(data=True):\n",
    "    new_kn.add_edge(s-1,e-1, weight=ed['attr_dict']['value'])\n",
    "    if not (s-1,e-1) in kn0_edges:\n",
    "        raise(Exception, '{0} {1}'. format(s,e))"
   ]
  },
  {
   "cell_type": "code",
   "execution_count": 8,
   "metadata": {
    "scrolled": true
   },
   "outputs": [],
   "source": [
    "\n",
    "readwrite_gml.write_gml(new_kn, 'new_weighted_karate.gml')"
   ]
  },
  {
   "cell_type": "code",
   "execution_count": 9,
   "metadata": {},
   "outputs": [
    {
     "data": {
      "text/plain": [
       "{'attr_dict': {'club': 'Mr. Hi'}}"
      ]
     },
     "execution_count": 9,
     "metadata": {},
     "output_type": "execute_result"
    }
   ],
   "source": [
    "new_kn.nodes[list(kn0.nodes)[0]]"
   ]
  },
  {
   "cell_type": "code",
   "execution_count": 10,
   "metadata": {},
   "outputs": [
    {
     "name": "stdout",
     "output_type": "stream",
     "text": [
      "34 [1, 2, 3, 4, 5, 6, 7, 8, 9, 10, 11, 12, 13, 14, 15, 16, 17, 18, 19, 20, 21, 22, 23, 24, 25, 26, 27, 28, 29, 30, 31, 32, 33, 34] <class 'int'>\n",
      "34 [0, 1, 2, 3, 4, 5, 6, 7, 8, 9, 10, 11, 12, 13, 14, 15, 16, 17, 18, 19, 20, 21, 22, 23, 24, 25, 26, 27, 28, 29, 30, 31, 32, 33] <class 'int'>\n",
      "34 [0, 1, 2, 3, 4, 5, 6, 7, 8, 9, 10, 11, 12, 13, 14, 15, 16, 17, 18, 19, 20, 21, 22, 23, 24, 25, 26, 27, 28, 29, 30, 31, 32, 33] <class 'dict'>\n"
     ]
    }
   ],
   "source": [
    "kn_nl, kn0_nl = (list(kn.nodes), list(kn0.nodes))\n",
    "print(len(kn), kn_nl, type(kn_nl[0]))\n",
    "print(len(kn0), kn0_nl, type(kn0_nl[0]))\n",
    "print(len(new_kn), new_kn.nodes(), type(new_kn.nodes()[0]))"
   ]
  },
  {
   "cell_type": "code",
   "execution_count": 11,
   "metadata": {},
   "outputs": [
    {
     "name": "stdout",
     "output_type": "stream",
     "text": [
      "0    11   3.000\n",
      "0    5    3.000\n",
      "0    10   2.000\n",
      "0    13   3.000\n",
      "0    2    5.000\n",
      "0    1    4.000\n",
      "0    4    3.000\n",
      "0    17   2.000\n",
      "0    3    3.000\n",
      "0    6    3.000\n"
     ]
    }
   ],
   "source": [
    "# Now for each edge we print the edge and its weight \n",
    "# (normalized num scenes with that edge pair)\n",
    "from collections import Counter\n",
    "for (u, v, attr_dict) in list(new_kn.edges(data=True))[:10]:\n",
    "    weight = attr_dict['weight']\n",
    "    print ('%-4s %-4s %.3f' % (u, v, weight))"
   ]
  },
  {
   "cell_type": "code",
   "execution_count": 12,
   "metadata": {},
   "outputs": [
    {
     "name": "stdout",
     "output_type": "stream",
     "text": [
      "\n",
      "  33 17.000\n",
      "   0 16.000\n",
      "  32 12.000\n",
      "   2 10.000\n",
      "   1 9.000\n",
      "   3 6.000\n",
      "  31 6.000\n",
      "   8 5.000\n",
      "  13 5.000\n",
      "  23 5.000\n",
      "   5 4.000\n",
      "   6 4.000\n"
     ]
    }
   ],
   "source": [
    "all_nodes_il = sorted(new_kn.degree, \n",
    "                      key = lambda x:x[1], reverse=True)\n",
    "top_chars_degree_centrality = all_nodes_il[:12]\n",
    "print()\n",
    "for (ch, ct) in top_chars_degree_centrality:\n",
    "    print('%4s %.3f' % (ch, ct, ))"
   ]
  },
  {
   "cell_type": "code",
   "execution_count": 14,
   "metadata": {},
   "outputs": [
    {
     "data": {
      "text/plain": [
       "<matplotlib.collections.PathCollection at 0xa198a25c0>"
      ]
     },
     "execution_count": 14,
     "metadata": {},
     "output_type": "execute_result"
    },
    {
     "data": {
      "image/png": "[encoded data removed]",
      "text/plain": [
       "<Figure size 432x288 with 1 Axes>"
      ]
     },
     "metadata": {},
     "output_type": "display_data"
    }
   ],
   "source": [
    "new_labels_kn = dict([(char,char) for (char,score) in top_chars_degree_centrality])\n",
    "\n",
    "#pos = nx.spring_layout(kn,scale=1.0) # The default scale is 1.0\n",
    "#pos = nx.spring_layout(kn,scale=.75) \n",
    "# Try tweaking the scale and adjusting node positions.\n",
    "\n",
    "# Try increasing spring tension (scale) for high weighted edges\n",
    "\n",
    "pos = nx.spring_layout(new_kn,scale=1.0,weight='value') \n",
    "# Default node size=300\n",
    "nx.draw_networkx(new_kn,pos, with_labels=False,node_size=100,node_color=\"lightgray\")  \n",
    "\n",
    "nx.draw_networkx_labels(new_kn,pos,new_labels_kn,font_size=11,font_color='blue')\n",
    "nx.draw_networkx_nodes(new_kn,pos,new_labels_kn,node_color='red',\n",
    "                       node_size=200,label_pos=1.0,node_shape='o',font_size=16)\n",
    "#nx.draw_networkx_nodes(kn,pos,new_labels_kn,node_color='red',node_shape='p')"
   ]
  },
  {
   "cell_type": "code",
   "execution_count": 15,
   "metadata": {},
   "outputs": [
    {
     "name": "stdout",
     "output_type": "stream",
     "text": [
      "    0  0.438\n",
      "   33  0.304\n",
      "   32  0.145\n",
      "    2  0.144\n",
      "   31  0.138\n",
      "    8  0.056\n",
      "    1  0.054\n",
      "   13  0.046\n",
      "   19  0.032\n",
      "    5  0.030\n"
     ]
    }
   ],
   "source": [
    "M_kn = nx.betweenness_centrality(new_kn)\n",
    "il_kn = list(M_kn.items())\n",
    "il_kn.sort(key=lambda x:x[1],reverse=True)\n",
    "kn_top_chars_betweenness_dict = dict(il_kn[:10])\n",
    "for (ch,score) in il_kn[:10]:\n",
    "    print('%5s  %.3f' % (ch, score))"
   ]
  },
  {
   "cell_type": "markdown",
   "metadata": {},
   "source": [
    "# Different ways of defining color sequences"
   ]
  },
  {
   "cell_type": "code",
   "execution_count": null,
   "metadata": {},
   "outputs": [],
   "source": [
    "#partition_cols = ['#00CCFF','#FF0033','#886633', '#336633']\n",
    "#partition_cols = ['red','cyan','blue', 'green']\n",
    "#partition_cols = 'rcbg'"
   ]
  },
  {
   "cell_type": "markdown",
   "metadata": {},
   "source": [
    "If we have a `partition` of the nodes, a function assigning a class (or community) to each node, we can proceed as follows to define colors for each node"
   ]
  },
  {
   "cell_type": "code",
   "execution_count": 16,
   "metadata": {},
   "outputs": [],
   "source": [
    "from itertools import cycle\n",
    "\n",
    "# Let's pick 4 colors for 4 communities\n",
    "partition_colors = ['red','cyan','blue', 'green']\n",
    "communities = 'abcd'\n",
    "# Assign a color to each community\n",
    "color_map = dict(zip(communities, partition_colors))\n",
    "\n",
    "# Assign communities to every node in a set of nodes \n",
    "#(we'll use an algorithm to do this later)\n",
    "nodelist = range(12)\n",
    "# Assign nodes 0,4,8 to community 'a'; assign 1,5,9 to community 'b', and so on.\n",
    "partition = dict(zip(nodelist,cycle(communities)))\n",
    "\n",
    "# Make a list of colors, node_colors, \n",
    "#where node_colors[i] returns the color of node[i]\n",
    "node_colors = [color_map[partition[n]] for n in nodelist]\n"
   ]
  },
  {
   "cell_type": "markdown",
   "metadata": {},
   "source": [
    "What this code does:"
   ]
  },
  {
   "cell_type": "code",
   "execution_count": 19,
   "metadata": {},
   "outputs": [
    {
     "name": "stdout",
     "output_type": "stream",
     "text": [
      "{'a': 'red', 'b': 'cyan', 'c': 'blue', 'd': 'green'}\n",
      "{0: 'a', 1: 'b', 2: 'c', 3: 'd', 4: 'a', 5: 'b', 6: 'c', 7: 'd', 8: 'a', 9: 'b', 10: 'c', 11: 'd'}\n",
      "\n",
      "0      1      2      3      4      5      6      7      8      9      10     11     \n",
      "red    cyan   blue   green  red    cyan   blue   green  red    cyan   blue   green  \n"
     ]
    }
   ],
   "source": [
    "print(color_map)\n",
    "print(partition)\n",
    "print()\n",
    "for n in nodelist:\n",
    "    print('{0:<5} '.format(n), end=' ')\n",
    "print()\n",
    "for c in node_colors:\n",
    "    print('{0:<5} '.format(c), end=' ')\n",
    "print()"
   ]
  },
  {
   "cell_type": "markdown",
   "metadata": {},
   "source": [
    "# Community Discovery"
   ]
  },
  {
   "cell_type": "markdown",
   "metadata": {},
   "source": [
    "Community discovery.  The following code uses the Louvain method described in  Vincent D Blondel, Jean-Loup Guillaume, Renaud Lambiotte, Renaud Lefebvre. 2008. *Fast unfolding of communities in large networks*. Journal of Statistical Mechanics: Theory and Experiment Vol. 10. P10008 (12pp).  This method chooses communities and also decides on its own how many communities there are.  "
   ]
  },
  {
   "cell_type": "code",
   "execution_count": 18,
   "metadata": {},
   "outputs": [],
   "source": [
    "#import louvain\n",
    "import networkx as nx\n",
    "import matplotlib.pyplot as plt\n",
    "from itertools import cycle\n",
    "\n",
    "def get_partition_coloring (nodes, partition_dict):\n",
    "    colors = cycle('bgrcmyk')\n",
    "    partitions = set(partition_dict.values())\n",
    "    color_map = dict(zip(partitions, colors))\n",
    "\n",
    "    return [color_map[partition_dict[n]] for n in nodes]"
   ]
  },
  {
   "cell_type": "markdown",
   "metadata": {},
   "source": [
    "We call the community discovery algorithm as follows.  It returns a dictionary a community to each node.  The number of communities discovered is determined by internal properties of the graph.  We're going to draw a graph which colors each node differently based on what community it;s been assigned to."
   ]
  },
  {
   "cell_type": "code",
   "execution_count": 19,
   "metadata": {},
   "outputs": [
    {
     "name": "stdout",
     "output_type": "stream",
     "text": [
      "4 communities were discovered!\n"
     ]
    }
   ],
   "source": [
    "        \n",
    "##########################################################\n",
    "#   Community    Discovery\n",
    "##########################################################\n",
    "#from networkx.algorithms.community import modularity_max\n",
    "#from networkx.algorithms.community import label_propagation_communities\n",
    "#from networkx.algorithms.community import girvan_newman\n",
    "import louvain\n",
    "#new_kn = nx.karate_club_graph()\n",
    "partition_dict = louvain.best_partition(new_kn)\n",
    "size = len(set(partition_dict.values()))\n",
    "print ('{0:d} communities were discovered!'.format(size))\n"
   ]
  },
  {
   "cell_type": "markdown",
   "metadata": {},
   "source": [
    "Choose colors."
   ]
  },
  {
   "cell_type": "code",
   "execution_count": 20,
   "metadata": {},
   "outputs": [],
   "source": [
    "##########################################################\n",
    "#   Drawing using the communities discovered by louvain\n",
    "##########################################################\n",
    "\n",
    "\n",
    "# Colors for what the community detection algorithm detects\n",
    "nodes = new_kn.nodes()\n",
    "louvain_colors = get_partition_coloring (list(nodes), partition_dict)\n",
    "\n",
    "\n",
    "# Colors for what the truth is\n",
    "# make a partitioning of the graph from the node dictionary \"club\" attribute,\n",
    "# which represents Zachary's conclusion about which faction each club member joined.\n",
    "\n",
    "node_dict = dict(nodes(data=True))\n",
    "zach_partition  = dict((n, 0 if node_dict[n]['attr_dict']['club'] == 'Officer' \n",
    "                        else 1) for n in nodes)\n",
    "zach_colors = get_partition_coloring (list(nodes),zach_partition)"
   ]
  },
  {
   "cell_type": "markdown",
   "metadata": {},
   "source": [
    "Draw two plots of same graph and same layout but different coloring."
   ]
  },
  {
   "cell_type": "code",
   "execution_count": 21,
   "metadata": {},
   "outputs": [
    {
     "data": {
      "text/plain": [
       "<matplotlib.collections.LineCollection at 0xa19a921d0>"
      ]
     },
     "execution_count": 21,
     "metadata": {},
     "output_type": "execute_result"
    },
    {
     "data": {
      "image/png": "[encoded data removed]",
      "text/plain": [
       "<Figure size 432x288 with 2 Axes>"
      ]
     },
     "metadata": {},
     "output_type": "display_data"
    }
   ],
   "source": [
    "# Get layout, axes for two drawings\n",
    "pos = nx.spring_layout(new_kn)\n",
    "count = 0.\n",
    "fig, (ax1,ax2) = plt.subplots(2)\n",
    "\n",
    "# set current axis and draw nodes with louvain colors\n",
    "plt.sca(ax1)\n",
    "ax1.set_title('Louvain')\n",
    "nx.draw_networkx_nodes(new_kn, pos, list(new_kn.nodes()), node_size = 100,\n",
    "                       node_color = louvain_colors)\n",
    "# Now edges\n",
    "nx.draw_networkx_edges(new_kn, pos, alpha=0.5, )\n",
    "\n",
    "##########################################################\n",
    "#   Drawing using the communities defined by Zachary\n",
    "##########################################################\n",
    "\n",
    "\n",
    "plt.sca(ax2)\n",
    "ax2.set_title('Zachary')\n",
    "nx.draw_networkx_nodes(new_kn, pos, new_kn.nodes(), \n",
    "                       node_size = 100, node_color = zach_colors)\n",
    "nx.draw_networkx_edges(new_kn,pos, alpha=0.5, )\n",
    "#plt.show()"
   ]
  },
  {
   "cell_type": "markdown",
   "metadata": {},
   "source": [
    "We see that Louvain has failed to replicate Zachary's communities in two ways.  First Louvain has **more** communities. Second, it hasn't just split\n",
    "true Zachary communities into sub-communities.\n",
    "Consider Zachary's blue community.  Largely, Louvain has split that\n",
    "into red and cyan, but Louvain's red community also includes one member\n",
    "from Zachary's green community.\n"
   ]
  },
  {
   "cell_type": "markdown",
   "metadata": {},
   "source": [
    "# Inside louvain"
   ]
  },
  {
   "cell_type": "code",
   "execution_count": 56,
   "metadata": {},
   "outputs": [],
   "source": [
    "import louvain\n",
    "kn = nx.karate_club_graph()\n",
    "dendo = louvain.generate_dendogram(kn)\n",
    "partition = louvain.partition_at_level(dendo, len(dendo) - 1 )"
   ]
  },
  {
   "cell_type": "code",
   "execution_count": 57,
   "metadata": {},
   "outputs": [
    {
     "data": {
      "text/plain": [
       "[{0: 0,\n",
       "  1: 0,\n",
       "  2: 1,\n",
       "  3: 1,\n",
       "  4: 2,\n",
       "  5: 3,\n",
       "  6: 3,\n",
       "  7: 1,\n",
       "  8: 4,\n",
       "  9: 1,\n",
       "  10: 2,\n",
       "  11: 0,\n",
       "  12: 1,\n",
       "  13: 1,\n",
       "  14: 4,\n",
       "  15: 4,\n",
       "  16: 3,\n",
       "  17: 0,\n",
       "  18: 4,\n",
       "  19: 0,\n",
       "  20: 4,\n",
       "  21: 0,\n",
       "  22: 4,\n",
       "  23: 5,\n",
       "  24: 5,\n",
       "  25: 5,\n",
       "  26: 4,\n",
       "  27: 5,\n",
       "  28: 5,\n",
       "  29: 4,\n",
       "  30: 4,\n",
       "  31: 5,\n",
       "  32: 4,\n",
       "  33: 4},\n",
       " {0: 0, 1: 0, 2: 1, 3: 1, 4: 2, 5: 3}]"
      ]
     },
     "execution_count": 57,
     "metadata": {},
     "output_type": "execute_result"
    }
   ],
   "source": [
    "dendo"
   ]
  },
  {
   "cell_type": "code",
   "execution_count": 11,
   "metadata": {},
   "outputs": [
    {
     "data": {
      "text/plain": [
       "2"
      ]
     },
     "execution_count": 11,
     "metadata": {},
     "output_type": "execute_result"
    }
   ],
   "source": [
    "len(dendo)"
   ]
  },
  {
   "cell_type": "code",
   "execution_count": null,
   "metadata": {},
   "outputs": [],
   "source": []
  }
 ],
 "metadata": {
  "kernelspec": {
   "display_name": "Python 3",
   "language": "python",
   "name": "python3"
  },
  "language_info": {
   "codemirror_mode": {
    "name": "ipython",
    "version": 3
   },
   "file_extension": ".py",
   "mimetype": "text/x-python",
   "name": "python",
   "nbconvert_exporter": "python",
   "pygments_lexer": "ipython3",
   "version": "3.6.9"
  },
  "toc": {
   "base_numbering": 1,
   "nav_menu": {
    "height": "81px",
    "width": "252px"
   },
   "number_sections": true,
   "sideBar": true,
   "skip_h1_title": false,
   "title_cell": "Table of Contents",
   "title_sidebar": "Contents",
   "toc_cell": false,
   "toc_position": {},
   "toc_section_display": "block",
   "toc_window_display": false
  }
 },
 "nbformat": 4,
 "nbformat_minor": 1
}
