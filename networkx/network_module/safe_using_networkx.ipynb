{
 "metadata": {
  "name": "using_networkx"
 },
 "nbformat": 3,
 "nbformat_minor": 0,
 "worksheets": [
  {
   "cells": [
    {
     "cell_type": "heading",
     "level": 2,
     "metadata": {},
     "source": [
      "Using networkx"
     ]
    },
    {
     "cell_type": "code",
     "collapsed": false,
     "input": [
      "import networkx as nx\n",
      "import matplotlib.pyplot as plt"
     ],
     "language": "python",
     "metadata": {},
     "outputs": [],
     "prompt_number": 2
    },
    {
     "cell_type": "markdown",
     "metadata": {},
     "source": [
      "Let's read in the karate network, draw it with a  circular layout, and save the results in the image file\n",
      "*networkx_circular_karate.png*."
     ]
    },
    {
     "cell_type": "code",
     "collapsed": false,
     "input": [
      "kn = nx.read_gml('karate.gml')\n",
      "nx.draw_circular(kn)\n",
      "plt.savefig('networkx_circular_karate.png')"
     ],
     "language": "python",
     "metadata": {},
     "outputs": [],
     "prompt_number": 3
    },
    {
     "cell_type": "code",
     "collapsed": false,
     "input": [
      "nx.write_dot(kn,'networkx_circular_karate.dot')\n",
      "M = nx.betweenness_centrality(kn)\n",
      "il = M.items()\n",
      "il.sort(key=lambda x:x[1],reverse=True)\n",
      "il"
     ],
     "language": "python",
     "metadata": {},
     "outputs": [
      {
       "output_type": "pyout",
       "prompt_number": 2,
       "text": [
        "[(1, 0.43763528138528146),\n",
        " (34, 0.30407497594997596),\n",
        " (33, 0.14524711399711399),\n",
        " (3, 0.14365680615680618),\n",
        " (32, 0.13827561327561325),\n",
        " (9, 0.05592682780182781),\n",
        " (2, 0.053936688311688304),\n",
        " (14, 0.04586339586339586),\n",
        " (20, 0.03247504810004811),\n",
        " (6, 0.02998737373737374),\n",
        " (7, 0.029987373737373736),\n",
        " (28, 0.02233345358345358),\n",
        " (24, 0.017613636363636363),\n",
        " (31, 0.014411976911976907),\n",
        " (4, 0.011909271284271283),\n",
        " (26, 0.0038404882154882154),\n",
        " (30, 0.0029220779220779218),\n",
        " (25, 0.0022095959595959595),\n",
        " (29, 0.0017947330447330447),\n",
        " (10, 0.0008477633477633478),\n",
        " (5, 0.0006313131313131313),\n",
        " (11, 0.0006313131313131313),\n",
        " (8, 0.0),\n",
        " (12, 0.0),\n",
        " (13, 0.0),\n",
        " (15, 0.0),\n",
        " (16, 0.0),\n",
        " (17, 0.0),\n",
        " (18, 0.0),\n",
        " (19, 0.0),\n",
        " (21, 0.0),\n",
        " (22, 0.0),\n",
        " (23, 0.0),\n",
        " (27, 0.0)]"
       ]
      }
     ],
     "prompt_number": 2
    },
    {
     "cell_type": "code",
     "collapsed": false,
     "input": [
      "nx.draw_spectral(kn)\n",
      "plt.savefig('networkx_spectral_karate.png')\n",
      "plt.show()"
     ],
     "language": "python",
     "metadata": {},
     "outputs": [],
     "prompt_number": 3
    },
    {
     "cell_type": "code",
     "collapsed": false,
     "input": [
      "nx.draw_spring(kn)\n",
      "plt.savefig('networkx_spring_karate.png')\n",
      "plt.show()"
     ],
     "language": "python",
     "metadata": {},
     "outputs": [],
     "prompt_number": 4
    },
    {
     "cell_type": "code",
     "collapsed": false,
     "input": [
      "erdos_graph = nx.fast_gnp_random_graph(100, .2)\n",
      "nx.draw_circular(erdos_graph)\n",
      "plt.savefig('erdos_100.png')\n",
      "plt.show()"
     ],
     "language": "python",
     "metadata": {},
     "outputs": [],
     "prompt_number": 5
    },
    {
     "cell_type": "heading",
     "level": 2,
     "metadata": {},
     "source": [
      "A graph from Rogets thesaurus"
     ]
    },
    {
     "cell_type": "markdown",
     "metadata": {},
     "source": [
      "The next cell contains some code for building a graph for Roget's thesaurus, an\n",
      "example taken from the networkx site, which uses Knuth's Roget example from the\n",
      "Stanford Graph Base."
     ]
    },
    {
     "cell_type": "code",
     "collapsed": false,
     "input": [
      "from __future__ import print_function\n",
      "__author__ = \"\"\"Brendt Wohlberg\\nAric Hagberg (hagberg@lanl.gov)\"\"\"\n",
      "__date__ = \"$Date: 2005-04-01 07:56:22 -0700 (Fri, 01 Apr 2005) $\"\n",
      "__credits__ = \"\"\"\"\"\"\n",
      "__revision__ = \"\"\n",
      "#    Copyright (C) 2004 by\n",
      "#    Aric Hagberg <hagberg@lanl.gov>\n",
      "#    Dan Schult <dschult@colgate.edu>\n",
      "#    Pieter Swart <swart@lanl.gov>\n",
      "#    All rights reserved.\n",
      "#    BSD license.\n",
      "\n",
      "import re\n",
      "import sys\n",
      "\n",
      "def roget_graph():\n",
      "    \"\"\" Return the thesaurus graph from the roget.dat example in\n",
      "    the Stanford Graph Base.\n",
      "    \"\"\"\n",
      "    # open file roget_dat.txt.gz (or roget_dat.txt)\n",
      "    #import gzip\n",
      "    #fh=gzip.open('roget_dat.txt.gz','r')\n",
      "    fh = open('roget.dat','r')\n",
      "\n",
      "    G=nx.DiGraph()\n",
      "\n",
      "    for line in fh.readlines():\n",
      "        line = line.decode()\n",
      "        if line.startswith(\"*\"): # skip comments\n",
      "            continue\n",
      "        if line.startswith(\" \"): # this is a continuation line, append\n",
      "            line=oldline+line\n",
      "        if line.endswith(\"\\\\\\n\"): # continuation line, buffer, goto next\n",
      "            oldline=line.strip(\"\\\\\\n\")\n",
      "            continue\n",
      "\n",
      "        (headname,tails)=line.split(\":\")\n",
      "\n",
      "        # head\n",
      "        numfind=re.compile(\"^\\d+\") # re to find the number of this word\n",
      "        head=numfind.findall(headname)[0] # get the number\n",
      "\n",
      "        G.add_node(head)\n",
      "\n",
      "        for tail in tails.split():\n",
      "            if head==tail:\n",
      "                print(\"skipping self loop\",head,tail, file=sys.stderr)\n",
      "            G.add_edge(head,tail)\n",
      "\n",
      "    return G\n"
     ],
     "language": "python",
     "metadata": {},
     "outputs": [],
     "prompt_number": 6
    },
    {
     "cell_type": "code",
     "collapsed": false,
     "input": [
      "G=roget_graph()\n",
      "print(\"Loaded roget_dat.txt containing 1022 categories.\")\n",
      "print(\"digraph has %d nodes with %d edges\"\\\n",
      "          %(nx.number_of_nodes(G),nx.number_of_edges(G)))\n",
      "UG=G.to_undirected()\n",
      "print(nx.number_connected_components(UG),\"connected components\")"
     ],
     "language": "python",
     "metadata": {},
     "outputs": [
      {
       "output_type": "stream",
       "stream": "stdout",
       "text": [
        "Loaded roget_dat.txt containing 1022 categories.\n",
        "digraph has 1022 nodes with 5075 edges\n",
        "21"
       ]
      },
      {
       "output_type": "stream",
       "stream": "stdout",
       "text": [
        " connected components\n"
       ]
      },
      {
       "output_type": "stream",
       "stream": "stderr",
       "text": [
        "skipping self loop 400 400\n"
       ]
      }
     ],
     "prompt_number": 7
    },
    {
     "cell_type": "code",
     "collapsed": false,
     "input": [
      "components = nx.connected_component_subgraphs(UG)"
     ],
     "language": "python",
     "metadata": {},
     "outputs": [],
     "prompt_number": 8
    },
    {
     "cell_type": "code",
     "collapsed": false,
     "input": [
      "print(len(components))\n",
      "g0 = components[0]\n",
      "g1 = components[1]"
     ],
     "language": "python",
     "metadata": {},
     "outputs": [
      {
       "output_type": "stream",
       "stream": "stdout",
       "text": [
        "21\n"
       ]
      }
     ],
     "prompt_number": 9
    },
    {
     "cell_type": "code",
     "collapsed": false,
     "input": [
      "g1"
     ],
     "language": "python",
     "metadata": {},
     "outputs": [
      {
       "output_type": "pyout",
       "prompt_number": 10,
       "text": [
        "<networkx.classes.graph.Graph at 0x113788350>"
       ]
      }
     ],
     "prompt_number": 10
    },
    {
     "cell_type": "code",
     "collapsed": false,
     "input": [
      "g0"
     ],
     "language": "python",
     "metadata": {},
     "outputs": [
      {
       "output_type": "pyout",
       "prompt_number": 11,
       "text": [
        "<networkx.classes.graph.Graph at 0x10eb9c110>"
       ]
      }
     ],
     "prompt_number": 11
    },
    {
     "cell_type": "code",
     "collapsed": false,
     "input": [
      "nx.draw_spring(g0)"
     ],
     "language": "python",
     "metadata": {},
     "outputs": [],
     "prompt_number": 12
    },
    {
     "cell_type": "heading",
     "level": 2,
     "metadata": {},
     "source": [
      "Political blogs example"
     ]
    },
    {
     "cell_type": "code",
     "collapsed": false,
     "input": [
      "pb = nx.read_gml('polblogs.gml')"
     ],
     "language": "python",
     "metadata": {},
     "outputs": [],
     "prompt_number": 15
    },
    {
     "cell_type": "markdown",
     "metadata": {},
     "source": [
      "Here it might be useful to use the boolean keyword *relabel=True* to use the names given\n",
      "the blog sites onthe *label* attribute.  By default networkx throws those away and jusrt\n",
      "uses the *id* attribute as the node name."
     ]
    },
    {
     "cell_type": "code",
     "collapsed": false,
     "input": [
      "pos = nx.spring_layout(pb,iterations=500,scale=2)"
     ],
     "language": "python",
     "metadata": {},
     "outputs": [],
     "prompt_number": 37
    },
    {
     "cell_type": "code",
     "collapsed": false,
     "input": [],
     "language": "python",
     "metadata": {},
     "outputs": [],
     "prompt_number": "*"
    },
    {
     "cell_type": "code",
     "collapsed": false,
     "input": [
      "nx.draw_networkx_nodes(pb,pos=pos)"
     ],
     "language": "python",
     "metadata": {},
     "outputs": [
      {
       "output_type": "pyout",
       "prompt_number": 36,
       "text": [
        "<matplotlib.collections.PathCollection at 0x23e821a90>"
       ]
      }
     ],
     "prompt_number": 36
    },
    {
     "cell_type": "code",
     "collapsed": false,
     "input": [
      "from networkx import graphviz_layout\n",
      "layout=nx.graphviz_layout\n",
      "pos = layout(pb,prog='sfdp')"
     ],
     "language": "python",
     "metadata": {},
     "outputs": [],
     "prompt_number": 33
    },
    {
     "cell_type": "code",
     "collapsed": false,
     "input": [
      "nx.draw_networkx_nodes(pb,pos=pos)"
     ],
     "language": "python",
     "metadata": {},
     "outputs": [
      {
       "output_type": "pyout",
       "prompt_number": 34,
       "text": [
        "<matplotlib.collections.PathCollection at 0x23e83b7d0>"
       ]
      }
     ],
     "prompt_number": 34
    },
    {
     "cell_type": "markdown",
     "metadata": {},
     "source": [
      "Can use width=float here to fiddle with size."
     ]
    },
    {
     "cell_type": "heading",
     "level": 2,
     "metadata": {},
     "source": [
      "Plotting graphs with prepositioned data"
     ]
    },
    {
     "cell_type": "code",
     "collapsed": false,
     "input": [
      "\"\"\"\n",
      "An example using networkx.Graph().\n",
      "\n",
      "miles_graph() returns an undirected graph over the 128 US cities from\n",
      "the datafile miles_dat.txt. The cities each have location and population\n",
      "data.  The edges are labeled with the distance betwen the two cities.\n",
      "\n",
      "This example is described in Section 1.1 in Knuth's book [1,2].\n",
      "\n",
      "References.\n",
      "-----------\n",
      "\n",
      "[1] Donald E. Knuth,\n",
      "    \"The Stanford GraphBase: A Platform for Combinatorial Computing\",\n",
      "    ACM Press, New York, 1993.\n",
      "[2] http://www-cs-faculty.stanford.edu/~knuth/sgb.html\n",
      "\n",
      "\n",
      "\"\"\"\n",
      "__author__ = \"\"\"Aric Hagberg (hagberg@lanl.gov)\"\"\"\n",
      "#    Copyright (C) 2004-2006 by\n",
      "#    Aric Hagberg <hagberg@lanl.gov>\n",
      "#    Dan Schult <dschult@colgate.edu>\n",
      "#    Pieter Swart <swart@lanl.gov>\n",
      "#    All rights reserved.\n",
      "#    BSD license.\n",
      "\n",
      "import networkx as nx\n",
      "\n",
      "\n",
      "def miles_graph(miles_file):\n",
      "    \"\"\" Return the cites example graph in miles.dat\n",
      "        from the Stanford GraphBase.\n",
      "    \"\"\"\n",
      "    # open file miles.dat\n",
      "\n",
      "    fh = open(miles_file,'r')\n",
      "\n",
      "    G=nx.Graph()\n",
      "    G.position={}\n",
      "    G.population={}\n",
      "\n",
      "    cities=[]\n",
      "    for line in fh.readlines():\n",
      "        line = line.decode()\n",
      "        if line.startswith(\"*\"): # skip comments\n",
      "            continue\n",
      "\n",
      "        numfind=re.compile(\"^\\d+\")\n",
      "\n",
      "        if numfind.match(line): # this line is distances\n",
      "            dist=line.split()\n",
      "            for d in dist:\n",
      "                G.add_edge(city,cities[i],weight=int(d))\n",
      "                i=i+1\n",
      "        else: # this line is a city, position, population\n",
      "            i=1\n",
      "            (city,coordpop)=line.split(\"[\")\n",
      "            cities.insert(0,city)\n",
      "            (coord,pop)=coordpop.split(\"]\")\n",
      "            (y,x)=coord.split(\",\")\n",
      "\n",
      "            G.add_node(city)\n",
      "            # assign position - flip x axis for matplotlib, shift origin\n",
      "            G.position[city]=(-int(x)+7500,int(y)-3000)\n",
      "            G.population[city]=float(pop)/1000.0\n",
      "    return G\n",
      "\n",
      "if __name__ == '__main__':\n",
      "    import networkx as nx\n",
      "    import re\n",
      "    import sys\n",
      "\n",
      "    G=miles_graph('miles.dat')\n",
      "\n",
      "    print(\"Loaded miles.dat containing 128 cities.\")\n",
      "    print(\"digraph has %d nodes with %d edges\"\\\n",
      "          %(nx.number_of_nodes(G),nx.number_of_edges(G)))\n",
      "\n",
      "\n",
      "    # make new graph of cites, edge if less then 300 miles between them\n",
      "    H=nx.Graph()\n",
      "    for v in G:\n",
      "        H.add_node(v)\n",
      "    for (u,v,d) in G.edges(data=True):\n",
      "        if d['weight'] < 300:\n",
      "            H.add_edge(u,v)\n",
      "\n",
      "    # draw with matplotlib/pylab\n",
      "\n",
      "    try:\n",
      "        import matplotlib.pyplot as plt\n",
      "        plt.figure(figsize=(8,8))\n",
      "        # with nodes colored by degree sized by population\n",
      "        node_color=[float(H.degree(v)) for v in H]\n",
      "        nx.draw(H,G.position,\n",
      "             node_size=[G.population[v] for v in H],\n",
      "             node_color=node_color,\n",
      "             with_labels=False)\n",
      "\n",
      "        # scale the axes equally\n",
      "        plt.xlim(-5000,500)\n",
      "        plt.ylim(-2000,3500)\n",
      "\n",
      "        plt.savefig(\"knuth_miles.png\")\n",
      "    except:\n",
      "        print 'something went wrong'\n"
     ],
     "language": "python",
     "metadata": {},
     "outputs": [
      {
       "output_type": "stream",
       "stream": "stdout",
       "text": [
        "Loaded miles.dat containing 128 cities.\n",
        "digraph has 128 nodes with 8128 edges\n"
       ]
      }
     ],
     "prompt_number": 10
    },
    {
     "cell_type": "heading",
     "level": 2,
     "metadata": {},
     "source": [
      "Dags (workflow charts, etcetera)"
     ]
    },
    {
     "cell_type": "code",
     "collapsed": false,
     "input": [
      "Directed acyclic graphs (or DAGS) can be used to represent a myriad of complex relations. \n",
      "One of the most important is just to represent dependencies"
     ],
     "language": "python",
     "metadata": {},
     "outputs": [],
     "prompt_number": 13
    },
    {
     "cell_type": "code",
     "collapsed": false,
     "input": [
      "G = nx.DiGraph()\n",
      "\n",
      "# add 5 nodes, labeled 0-4:\n",
      "map(G.add_node, range(5))\n",
      "# 1,2 depend on 0:\n",
      "G.add_edge(0,1)\n",
      "G.add_edge(0,2)\n",
      "# 3 depends on 1,2\n",
      "G.add_edge(1,3)\n",
      "G.add_edge(2,3)\n",
      "# 4 depends on 1\n",
      "G.add_edge(1,4)\n",
      "\n",
      "# now draw the graph:\n",
      "pos = { 0 : (0,0), 1 : (1,1), 2 : (-1,1),\n",
      "        3 : (0,2), 4 : (2,2)}\n",
      "nx.draw(G, pos, edge_color='r')"
     ],
     "language": "python",
     "metadata": {},
     "outputs": [],
     "prompt_number": 13
    },
    {
     "cell_type": "markdown",
     "metadata": {},
     "source": [
      "A possible sequence of events for this workflow:\n",
      "\n",
      "    Task 0 can run right away\n",
      "    0 finishes, so 1,2 can start\n",
      "    1 finishes, 3 is still waiting on 2, but 4 can start right away\n",
      "    2 finishes, and 3 can finally start\n"
     ]
    },
    {
     "cell_type": "code",
     "collapsed": false,
     "input": [
      "def random_dag(nodes, edges):\n",
      "    \"\"\"Generate a random Directed Acyclic Graph (DAG) with a given number of nodes and edges.\"\"\"\n",
      "    G = nx.DiGraph()\n",
      "    for i in range(nodes):\n",
      "        G.add_node(i)\n",
      "    while edges > 0:\n",
      "        a = randint(0,nodes-1)\n",
      "        b=a\n",
      "        while b==a:\n",
      "            b = randint(0,nodes-1)\n",
      "        G.add_edge(a,b)\n",
      "        if nx.is_directed_acyclic_graph(G):\n",
      "            edges -= 1\n",
      "        else:\n",
      "            # we closed a loop!\n",
      "            G.remove_edge(a,b)\n",
      "    return G"
     ],
     "language": "python",
     "metadata": {},
     "outputs": [],
     "prompt_number": 9
    },
    {
     "cell_type": "code",
     "collapsed": false,
     "input": [
      "rg = random_dag(32,128)\n",
      "nx.draw_spring(rg)\n"
     ],
     "language": "python",
     "metadata": {},
     "outputs": [],
     "prompt_number": 12
    },
    {
     "cell_type": "heading",
     "level": 2,
     "metadata": {},
     "source": [
      "Les Miserables"
     ]
    },
    {
     "cell_type": "code",
     "collapsed": false,
     "input": [
      "import networkx as nx\n",
      "lm = nx.read_gml('lesmiserables.gml',relabel=True)\n",
      "M = nx.betweenness_centrality(lm)\n",
      "il = M.items()\n",
      "il.sort(key=lambda x:x[1],reverse=True)\n",
      "top_chars = il[:10]"
     ],
     "language": "python",
     "metadata": {},
     "outputs": [],
     "prompt_number": 18
    },
    {
     "cell_type": "markdown",
     "metadata": {},
     "source": [
      "We read in the character network for Les Mis.  The *relabel=True* tells us to use the\n",
      "label attributes of nodes as their node names.  The default is just to use the\n",
      "node indices. Line 5 compute the **betweenness centralities** of all the nodes in the graph\n",
      "and returns a dictionary which we are calling <em>M</em>.  Line 4 creates a list of the pairs\n",
      "in the dictionary and line 5 **sorts** the entries by score.  What we now have is a list ordered by betweenness\n",
      "score with most central character coming first and the least central last. Line 6 peels off the top 10\n",
      "most central characters and stores them in <em>top_chars</em>."
     ]
    },
    {
     "cell_type": "code",
     "collapsed": true,
     "input": [
      "lm.nodes(data=True)"
     ],
     "language": "python",
     "metadata": {},
     "outputs": [
      {
       "output_type": "pyout",
       "prompt_number": 32,
       "text": [
        "[(u'MlleBaptistine', {'id': 2, 'label': u'MlleBaptistine'}),\n",
        " (u'MlleVaubois', {'id': 53, 'label': u'MlleVaubois'}),\n",
        " (u'Javert', {'id': 27, 'label': u'Javert'}),\n",
        " (u'Champtercier', {'id': 6, 'label': u'Champtercier'}),\n",
        " (u'Child1', {'id': 73, 'label': u'Child1'}),\n",
        " (u'Child2', {'id': 74, 'label': u'Child2'}),\n",
        " (u'Magnon', {'id': 50, 'label': u'Magnon'}),\n",
        " (u'Pontmercy', {'id': 39, 'label': u'Pontmercy'}),\n",
        " (u'Perpetue', {'id': 30, 'label': u'Perpetue'}),\n",
        " (u'Judge', {'id': 34, 'label': u'Judge'}),\n",
        " (u'Blacheville', {'id': 19, 'label': u'Blacheville'}),\n",
        " (u'Anzelma', {'id': 42, 'label': u'Anzelma'}),\n",
        " (u'Courfeyrac', {'id': 62, 'label': u'Courfeyrac'}),\n",
        " (u'Mabeuf', {'id': 57, 'label': u'Mabeuf'}),\n",
        " (u'Listolier', {'id': 17, 'label': u'Listolier'}),\n",
        " (u'Marguerite', {'id': 12, 'label': u'Marguerite'}),\n",
        " (u'Gavroche', {'id': 48, 'label': u'Gavroche'}),\n",
        " (u'BaronessT', {'id': 56, 'label': u'BaronessT'}),\n",
        " (u'OldMan', {'id': 9, 'label': u'OldMan'}),\n",
        " (u'MmeDeR', {'id': 13, 'label': u'MmeDeR'}),\n",
        " (u'MlleGillenormand', {'id': 51, 'label': u'MlleGillenormand'}),\n",
        " (u'MmeBurgon', {'id': 47, 'label': u'MmeBurgon'}),\n",
        " (u'Cosette', {'id': 26, 'label': u'Cosette'}),\n",
        " (u'Bamatabois', {'id': 29, 'label': u'Bamatabois'}),\n",
        " (u'Woman2', {'id': 43, 'label': u'Woman2'}),\n",
        " (u'Favourite', {'id': 20, 'label': u'Favourite'}),\n",
        " (u'Tholomyes', {'id': 16, 'label': u'Tholomyes'}),\n",
        " (u'Dahlia', {'id': 21, 'label': u'Dahlia'}),\n",
        " (u'Brujon', {'id': 75, 'label': u'Brujon'}),\n",
        " (u'MotherInnocent', {'id': 44, 'label': u'MotherInnocent'}),\n",
        " (u'Napoleon', {'id': 1, 'label': u'Napoleon'}),\n",
        " (u'Isabeau', {'id': 14, 'label': u'Isabeau'}),\n",
        " (u'Fauchelevent', {'id': 28, 'label': u'Fauchelevent'}),\n",
        " (u'Prouvaire', {'id': 60, 'label': u'Prouvaire'}),\n",
        " (u'Thenardier', {'id': 25, 'label': u'Thenardier'}),\n",
        " (u'Simplice', {'id': 31, 'label': u'Simplice'}),\n",
        " (u'Myriel', {'id': 0, 'label': u'Myriel'}),\n",
        " (u'Scaufflaire', {'id': 32, 'label': u'Scaufflaire'}),\n",
        " (u'Marius', {'id': 55, 'label': u'Marius'}),\n",
        " (u'Joly', {'id': 65, 'label': u'Joly'}),\n",
        " (u'Chenildieu', {'id': 37, 'label': u'Chenildieu'}),\n",
        " (u'Enjolras', {'id': 58, 'label': u'Enjolras'}),\n",
        " (u'Toussaint', {'id': 72, 'label': u'Toussaint'}),\n",
        " (u'Grantaire', {'id': 66, 'label': u'Grantaire'}),\n",
        " (u'Claquesous', {'id': 70, 'label': u'Claquesous'}),\n",
        " (u'Labarre', {'id': 10, 'label': u'Labarre'}),\n",
        " (u'Feuilly', {'id': 61, 'label': u'Feuilly'}),\n",
        " (u'Count', {'id': 8, 'label': u'Count'}),\n",
        " (u'Eponine', {'id': 41, 'label': u'Eponine'}),\n",
        " (u'CountessDeLo', {'id': 4, 'label': u'CountessDeLo'}),\n",
        " (u'Jondrette', {'id': 46, 'label': u'Jondrette'}),\n",
        " (u'Bossuet', {'id': 64, 'label': u'Bossuet'}),\n",
        " (u'Geborand', {'id': 5, 'label': u'Geborand'}),\n",
        " (u'Brevet', {'id': 36, 'label': u'Brevet'}),\n",
        " (u'Bahorel', {'id': 63, 'label': u'Bahorel'}),\n",
        " (u'MmeHucheloup', {'id': 76, 'label': u'MmeHucheloup'}),\n",
        " (u'Gervais', {'id': 15, 'label': u'Gervais'}),\n",
        " (u'Gueulemer', {'id': 68, 'label': u'Gueulemer'}),\n",
        " (u'Fantine', {'id': 23, 'label': u'Fantine'}),\n",
        " (u'LtGillenormand', {'id': 54, 'label': u'LtGillenormand'}),\n",
        " (u'Babet', {'id': 69, 'label': u'Babet'}),\n",
        " (u'MmeThenardier', {'id': 24, 'label': u'MmeThenardier'}),\n",
        " (u'Valjean', {'id': 11, 'label': u'Valjean'}),\n",
        " (u'MmeMagloire', {'id': 3, 'label': u'MmeMagloire'}),\n",
        " (u'Montparnasse', {'id': 71, 'label': u'Montparnasse'}),\n",
        " (u'Gribier', {'id': 45, 'label': u'Gribier'}),\n",
        " (u'Combeferre', {'id': 59, 'label': u'Combeferre'}),\n",
        " (u'Woman1', {'id': 33, 'label': u'Woman1'}),\n",
        " (u'MmePontmercy', {'id': 52, 'label': u'MmePontmercy'}),\n",
        " (u'Champmathieu', {'id': 35, 'label': u'Champmathieu'}),\n",
        " (u'Zephine', {'id': 22, 'label': u'Zephine'}),\n",
        " (u'Gillenormand', {'id': 49, 'label': u'Gillenormand'}),\n",
        " (u'Cochepaille', {'id': 38, 'label': u'Cochepaille'}),\n",
        " (u'Fameuil', {'id': 18, 'label': u'Fameuil'}),\n",
        " (u'Cravatte', {'id': 7, 'label': u'Cravatte'}),\n",
        " (u'Boulatruelle', {'id': 40, 'label': u'Boulatruelle'}),\n",
        " (u'MotherPlutarch', {'id': 67, 'label': u'MotherPlutarch'})]"
       ]
      }
     ],
     "prompt_number": 32
    },
    {
     "cell_type": "markdown",
     "metadata": {},
     "source": [
      "The attributes a node have include its *id* (a unique identifier integer)  and its label, which\n",
      "is the character's name.  We are using the character's name as the way of referring to the\n",
      "node in the graph.  This is why the **keys** of the node dictionary are character names.\n",
      "The default way to identify a node would be by its *id*, but we indicated we would use the\n",
      "label attribute (character names) when we specified *relabel=True* in step 18, line 2, when we read in the graoh."
     ]
    },
    {
     "cell_type": "code",
     "collapsed": true,
     "input": [
      "lm.edges(data=True)"
     ],
     "language": "python",
     "metadata": {},
     "outputs": [
      {
       "output_type": "pyout",
       "prompt_number": 30,
       "text": [
        "[(u'Gueulemer', u'Eponine', {'value': 1}),\n",
        " (u'Gueulemer', u'Gavroche', {'value': 1}),\n",
        " (u'Gueulemer', u'Javert', {'value': 1}),\n",
        " (u'Gueulemer', u'Claquesous', {'value': 4}),\n",
        " (u'Gueulemer', u'Babet', {'value': 6}),\n",
        " (u'Gueulemer', u'MmeThenardier', {'value': 1}),\n",
        " (u'Gueulemer', u'Valjean', {'value': 1}),\n",
        " (u'Gueulemer', u'Montparnasse', {'value': 2}),\n",
        " (u'Gueulemer', u'Brujon', {'value': 3}),\n",
        " (u'Gueulemer', u'Thenardier', {'value': 5}),\n",
        " (u'MlleBaptistine', u'Myriel', {'value': 8}),\n",
        " (u'MlleBaptistine', u'MmeMagloire', {'value': 6}),\n",
        " (u'MlleBaptistine', u'Valjean', {'value': 3}),\n",
        " (u'Fantine', u'Listolier', {'value': 3}),\n",
        " (u'Fantine', u'Bamatabois', {'value': 1}),\n",
        " (u'Fantine', u'Marguerite', {'value': 2}),\n",
        " (u'Fantine', u'Favourite', {'value': 4}),\n",
        " (u'Fantine', u'Blacheville', {'value': 3}),\n",
        " (u'Fantine', u'MmeThenardier', {'value': 2}),\n",
        " (u'Fantine', u'Zephine', {'value': 4}),\n",
        " (u'Fantine', u'Javert', {'value': 5}),\n",
        " (u'Fantine', u'Fameuil', {'value': 3}),\n",
        " (u'Fantine', u'Valjean', {'value': 9}),\n",
        " (u'Fantine', u'Perpetue', {'value': 1}),\n",
        " (u'Fantine', u'Tholomyes', {'value': 3}),\n",
        " (u'Fantine', u'Dahlia', {'value': 4}),\n",
        " (u'Fantine', u'Simplice', {'value': 2}),\n",
        " (u'Fantine', u'Thenardier', {'value': 1}),\n",
        " (u'Prouvaire', u'Joly', {'value': 2}),\n",
        " (u'Prouvaire', u'Combeferre', {'value': 2}),\n",
        " (u'Prouvaire', u'Gavroche', {'value': 1}),\n",
        " (u'Prouvaire', u'Bahorel', {'value': 2}),\n",
        " (u'Prouvaire', u'Enjolras', {'value': 4}),\n",
        " (u'Prouvaire', u'Courfeyrac', {'value': 3}),\n",
        " (u'Prouvaire', u'Feuilly', {'value': 2}),\n",
        " (u'Prouvaire', u'Bossuet', {'value': 2}),\n",
        " (u'Prouvaire', u'Grantaire', {'value': 1}),\n",
        " (u'MlleVaubois', u'MlleGillenormand', {'value': 1}),\n",
        " (u'MotherPlutarch', u'Mabeuf', {'value': 3}),\n",
        " (u'MmeBurgon', u'Jondrette', {'value': 1}),\n",
        " (u'MmeBurgon', u'Gavroche', {'value': 2}),\n",
        " (u'Javert', u'Bamatabois', {'value': 1}),\n",
        " (u'Javert', u'Woman1', {'value': 1}),\n",
        " (u'Javert', u'Woman2', {'value': 1}),\n",
        " (u'Javert', u'Gavroche', {'value': 1}),\n",
        " (u'Javert', u'Claquesous', {'value': 1}),\n",
        " (u'Javert', u'Toussaint', {'value': 1}),\n",
        " (u'Javert', u'Fauchelevent', {'value': 1}),\n",
        " (u'Javert', u'Enjolras', {'value': 6}),\n",
        " (u'Javert', u'Cosette', {'value': 1}),\n",
        " (u'Javert', u'Babet', {'value': 2}),\n",
        " (u'Javert', u'MmeThenardier', {'value': 1}),\n",
        " (u'Javert', u'Valjean', {'value': 17}),\n",
        " (u'Javert', u'Montparnasse', {'value': 1}),\n",
        " (u'Javert', u'Simplice', {'value': 1}),\n",
        " (u'Javert', u'Thenardier', {'value': 5}),\n",
        " (u'MmeHucheloup', u'Joly', {'value': 1}),\n",
        " (u'MmeHucheloup', u'Gavroche', {'value': 1}),\n",
        " (u'MmeHucheloup', u'Bahorel', {'value': 1}),\n",
        " (u'MmeHucheloup', u'Enjolras', {'value': 1}),\n",
        " (u'MmeHucheloup', u'Courfeyrac', {'value': 1}),\n",
        " (u'MmeHucheloup', u'Bossuet', {'value': 1}),\n",
        " (u'MmeHucheloup', u'Grantaire', {'value': 1}),\n",
        " (u'Chenildieu', u'Bamatabois', {'value': 1}),\n",
        " (u'Chenildieu', u'Brevet', {'value': 2}),\n",
        " (u'Chenildieu', u'Champmathieu', {'value': 2}),\n",
        " (u'Chenildieu', u'Cochepaille', {'value': 2}),\n",
        " (u'Chenildieu', u'Valjean', {'value': 2}),\n",
        " (u'Chenildieu', u'Judge', {'value': 2}),\n",
        " (u'Cosette', u'Gillenormand', {'value': 3}),\n",
        " (u'Cosette', u'Woman2', {'value': 1}),\n",
        " (u'Cosette', u'Tholomyes', {'value': 1}),\n",
        " (u'Cosette', u'LtGillenormand', {'value': 1}),\n",
        " (u'Cosette', u'MmeThenardier', {'value': 4}),\n",
        " (u'Cosette', u'Valjean', {'value': 31}),\n",
        " (u'Cosette', u'Toussaint', {'value': 2}),\n",
        " (u'Cosette', u'MlleGillenormand', {'value': 2}),\n",
        " (u'Cosette', u'Thenardier', {'value': 1}),\n",
        " (u'Cosette', u'Marius', {'value': 21}),\n",
        " (u'Babet', u'Eponine', {'value': 1}),\n",
        " (u'Babet', u'Gavroche', {'value': 1}),\n",
        " (u'Babet', u'Claquesous', {'value': 4}),\n",
        " (u'Babet', u'MmeThenardier', {'value': 1}),\n",
        " (u'Babet', u'Valjean', {'value': 1}),\n",
        " (u'Babet', u'Montparnasse', {'value': 2}),\n",
        " (u'Babet', u'Brujon', {'value': 3}),\n",
        " (u'Babet', u'Thenardier', {'value': 6}),\n",
        " (u'MmeThenardier', u'Eponine', {'value': 2}),\n",
        " (u'MmeThenardier', u'Claquesous', {'value': 1}),\n",
        " (u'MmeThenardier', u'Anzelma', {'value': 1}),\n",
        " (u'MmeThenardier', u'Valjean', {'value': 7}),\n",
        " (u'MmeThenardier', u'Magnon', {'value': 1}),\n",
        " (u'MmeThenardier', u'Thenardier', {'value': 13}),\n",
        " (u'Child2', u'Child1', {'value': 3}),\n",
        " (u'Child2', u'Gavroche', {'value': 2}),\n",
        " (u'Valjean', u'Toussaint', {'value': 1}),\n",
        " (u'Valjean', u'MmeMagloire', {'value': 3}),\n",
        " (u'Valjean', u'Bamatabois', {'value': 2}),\n",
        " (u'Valjean', u'Claquesous', {'value': 1}),\n",
        " (u'Valjean', u'Enjolras', {'value': 4}),\n",
        " (u'Valjean', u'Labarre', {'value': 1}),\n",
        " (u'Valjean', u'Montparnasse', {'value': 1}),\n",
        " (u'Valjean', u'Judge', {'value': 3}),\n",
        " (u'Valjean', u'MotherInnocent', {'value': 1}),\n",
        " (u'Valjean', u'Isabeau', {'value': 1}),\n",
        " (u'Valjean', u'Woman1', {'value': 2}),\n",
        " (u'Valjean', u'Woman2', {'value': 3}),\n",
        " (u'Valjean', u'Champmathieu', {'value': 3}),\n",
        " (u'Valjean', u'Gillenormand', {'value': 2}),\n",
        " (u'Valjean', u'Fauchelevent', {'value': 8}),\n",
        " (u'Valjean', u'Bossuet', {'value': 1}),\n",
        " (u'Valjean', u'Gervais', {'value': 1}),\n",
        " (u'Valjean', u'Thenardier', {'value': 12}),\n",
        " (u'Valjean', u'Simplice', {'value': 3}),\n",
        " (u'Valjean', u'Brevet', {'value': 2}),\n",
        " (u'Valjean', u'Marguerite', {'value': 1}),\n",
        " (u'Valjean', u'Gavroche', {'value': 1}),\n",
        " (u'Valjean', u'Myriel', {'value': 5}),\n",
        " (u'Valjean', u'Cochepaille', {'value': 2}),\n",
        " (u'Valjean', u'Scaufflaire', {'value': 1}),\n",
        " (u'Valjean', u'MmeDeR', {'value': 1}),\n",
        " (u'Valjean', u'MlleGillenormand', {'value': 2}),\n",
        " (u'Valjean', u'Marius', {'value': 19}),\n",
        " (u'Pontmercy', u'MmePontmercy', {'value': 1}),\n",
        " (u'Pontmercy', u'Thenardier', {'value': 1}),\n",
        " (u'Pontmercy', u'Marius', {'value': 1}),\n",
        " (u'MmeMagloire', u'Myriel', {'value': 10}),\n",
        " (u'Champtercier', u'Myriel', {'value': 1}),\n",
        " (u'Grantaire', u'Joly', {'value': 2}),\n",
        " (u'Grantaire', u'Combeferre', {'value': 1}),\n",
        " (u'Grantaire', u'Gavroche', {'value': 1}),\n",
        " (u'Grantaire', u'Bahorel', {'value': 1}),\n",
        " (u'Grantaire', u'Enjolras', {'value': 3}),\n",
        " (u'Grantaire', u'Courfeyrac', {'value': 2}),\n",
        " (u'Grantaire', u'Feuilly', {'value': 1}),\n",
        " (u'Grantaire', u'Bossuet', {'value': 3}),\n",
        " (u'Eponine', u'Claquesous', {'value': 1}),\n",
        " (u'Eponine', u'Anzelma', {'value': 2}),\n",
        " (u'Eponine', u'Courfeyrac', {'value': 1}),\n",
        " (u'Eponine', u'Mabeuf', {'value': 1}),\n",
        " (u'Eponine', u'Montparnasse', {'value': 1}),\n",
        " (u'Eponine', u'Brujon', {'value': 1}),\n",
        " (u'Eponine', u'Thenardier', {'value': 3}),\n",
        " (u'Eponine', u'Marius', {'value': 5}),\n",
        " (u'Child1', u'Gavroche', {'value': 2}),\n",
        " (u'LtGillenormand', u'Gillenormand', {'value': 1}),\n",
        " (u'LtGillenormand', u'MlleGillenormand', {'value': 2}),\n",
        " (u'LtGillenormand', u'Marius', {'value': 1}),\n",
        " (u'Bamatabois', u'Brevet', {'value': 1}),\n",
        " (u'Bamatabois', u'Champmathieu', {'value': 2}),\n",
        " (u'Bamatabois', u'Cochepaille', {'value': 1}),\n",
        " (u'Bamatabois', u'Judge', {'value': 2}),\n",
        " (u'MmePontmercy', u'MlleGillenormand', {'value': 1}),\n",
        " (u'Favourite', u'Listolier', {'value': 3}),\n",
        " (u'Favourite', u'Blacheville', {'value': 4}),\n",
        " (u'Favourite', u'Zephine', {'value': 4}),\n",
        " (u'Favourite', u'Fameuil', {'value': 3}),\n",
        " (u'Favourite', u'Tholomyes', {'value': 3}),\n",
        " (u'Favourite', u'Dahlia', {'value': 5}),\n",
        " (u'Claquesous', u'Enjolras', {'value': 1}),\n",
        " (u'Claquesous', u'Montparnasse', {'value': 2}),\n",
        " (u'Claquesous', u'Brujon', {'value': 1}),\n",
        " (u'Claquesous', u'Thenardier', {'value': 4}),\n",
        " (u'Joly', u'Combeferre', {'value': 5}),\n",
        " (u'Joly', u'Gavroche', {'value': 3}),\n",
        " (u'Joly', u'Bahorel', {'value': 5}),\n",
        " (u'Joly', u'Enjolras', {'value': 5}),\n",
        " (u'Joly', u'Courfeyrac', {'value': 5}),\n",
        " (u'Joly', u'Feuilly', {'value': 5}),\n",
        " (u'Joly', u'Bossuet', {'value': 7}),\n",
        " (u'Joly', u'Mabeuf', {'value': 1}),\n",
        " (u'Joly', u'Marius', {'value': 2}),\n",
        " (u'Mabeuf', u'Combeferre', {'value': 2}),\n",
        " (u'Mabeuf', u'Gavroche', {'value': 1}),\n",
        " (u'Mabeuf', u'Bahorel', {'value': 2}),\n",
        " (u'Mabeuf', u'Enjolras', {'value': 1}),\n",
        " (u'Mabeuf', u'Courfeyrac', {'value': 2}),\n",
        " (u'Mabeuf', u'Feuilly', {'value': 1}),\n",
        " (u'Mabeuf', u'Bossuet', {'value': 1}),\n",
        " (u'Mabeuf', u'Marius', {'value': 1}),\n",
        " (u'Fameuil', u'Listolier', {'value': 4}),\n",
        " (u'Fameuil', u'Blacheville', {'value': 4}),\n",
        " (u'Fameuil', u'Zephine', {'value': 3}),\n",
        " (u'Fameuil', u'Tholomyes', {'value': 4}),\n",
        " (u'Fameuil', u'Dahlia', {'value': 3}),\n",
        " (u'Enjolras', u'Combeferre', {'value': 15}),\n",
        " (u'Enjolras', u'Feuilly', {'value': 6}),\n",
        " (u'Enjolras', u'Gavroche', {'value': 7}),\n",
        " (u'Enjolras', u'Bahorel', {'value': 4}),\n",
        " (u'Enjolras', u'Courfeyrac', {'value': 17}),\n",
        " (u'Enjolras', u'Bossuet', {'value': 10}),\n",
        " (u'Enjolras', u'Marius', {'value': 7}),\n",
        " (u'Listolier', u'Blacheville', {'value': 4}),\n",
        " (u'Listolier', u'Zephine', {'value': 3}),\n",
        " (u'Listolier', u'Tholomyes', {'value': 4}),\n",
        " (u'Listolier', u'Dahlia', {'value': 3}),\n",
        " (u'Perpetue', u'Simplice', {'value': 2}),\n",
        " (u'Montparnasse', u'Gavroche', {'value': 1}),\n",
        " (u'Montparnasse', u'Brujon', {'value': 1}),\n",
        " (u'Montparnasse', u'Thenardier', {'value': 1}),\n",
        " (u'Judge', u'Brevet', {'value': 2}),\n",
        " (u'Judge', u'Champmathieu', {'value': 3}),\n",
        " (u'Judge', u'Cochepaille', {'value': 2}),\n",
        " (u'Dahlia', u'Blacheville', {'value': 3}),\n",
        " (u'Dahlia', u'Zephine', {'value': 4}),\n",
        " (u'Dahlia', u'Tholomyes', {'value': 3}),\n",
        " (u'Brujon', u'Gavroche', {'value': 1}),\n",
        " (u'Brujon', u'Thenardier', {'value': 3}),\n",
        " (u'MotherInnocent', u'Fauchelevent', {'value': 3}),\n",
        " (u'Napoleon', u'Myriel', {'value': 1}),\n",
        " (u'Feuilly', u'Combeferre', {'value': 5}),\n",
        " (u'Feuilly', u'Gavroche', {'value': 2}),\n",
        " (u'Feuilly', u'Bahorel', {'value': 3}),\n",
        " (u'Feuilly', u'Courfeyrac', {'value': 6}),\n",
        " (u'Feuilly', u'Bossuet', {'value': 6}),\n",
        " (u'Feuilly', u'Marius', {'value': 1}),\n",
        " (u'Count', u'Myriel', {'value': 2}),\n",
        " (u'Combeferre', u'Gavroche', {'value': 6}),\n",
        " (u'Combeferre', u'Bahorel', {'value': 5}),\n",
        " (u'Combeferre', u'Courfeyrac', {'value': 13}),\n",
        " (u'Combeferre', u'Bossuet', {'value': 9}),\n",
        " (u'Combeferre', u'Marius', {'value': 5}),\n",
        " (u'Champmathieu', u'Brevet', {'value': 2}),\n",
        " (u'Champmathieu', u'Cochepaille', {'value': 2}),\n",
        " (u'Tholomyes', u'Blacheville', {'value': 4}),\n",
        " (u'Tholomyes', u'Zephine', {'value': 3}),\n",
        " (u'Tholomyes', u'Marius', {'value': 1}),\n",
        " (u'Anzelma', u'Thenardier', {'value': 2}),\n",
        " (u'Zephine', u'Blacheville', {'value': 3}),\n",
        " (u'Fauchelevent', u'Gribier', {'value': 2}),\n",
        " (u'Courfeyrac', u'Gavroche', {'value': 7}),\n",
        " (u'Courfeyrac', u'Bahorel', {'value': 6}),\n",
        " (u'Courfeyrac', u'Bossuet', {'value': 12}),\n",
        " (u'Courfeyrac', u'Marius', {'value': 9}),\n",
        " (u'Bossuet', u'Gavroche', {'value': 5}),\n",
        " (u'Bossuet', u'Bahorel', {'value': 4}),\n",
        " (u'Bossuet', u'Marius', {'value': 5}),\n",
        " (u'Geborand', u'Myriel', {'value': 1}),\n",
        " (u'Thenardier', u'Gavroche', {'value': 1}),\n",
        " (u'Thenardier', u'Boulatruelle', {'value': 1}),\n",
        " (u'Thenardier', u'Marius', {'value': 2}),\n",
        " (u'Gillenormand', u'BaronessT', {'value': 1}),\n",
        " (u'Gillenormand', u'MlleGillenormand', {'value': 9}),\n",
        " (u'Gillenormand', u'Magnon', {'value': 1}),\n",
        " (u'Gillenormand', u'Marius', {'value': 12}),\n",
        " (u'CountessDeLo', u'Myriel', {'value': 1}),\n",
        " (u'Brevet', u'Cochepaille', {'value': 2}),\n",
        " (u'Gavroche', u'Bahorel', {'value': 5}),\n",
        " (u'Gavroche', u'Marius', {'value': 4}),\n",
        " (u'Myriel', u'OldMan', {'value': 1}),\n",
        " (u'Myriel', u'Cravatte', {'value': 1}),\n",
        " (u'Bahorel', u'Marius', {'value': 1}),\n",
        " (u'BaronessT', u'Marius', {'value': 1}),\n",
        " (u'MlleGillenormand', u'Marius', {'value': 6})]"
       ]
      }
     ],
     "prompt_number": 30
    },
    {
     "cell_type": "markdown",
     "metadata": {},
     "source": [
      "The attributes an edge have include the *value* attribute.  This is an integer that gives the number\n",
      "of times two characters appear in a scene together.  Thus the higher the value the more intense\n",
      "or \"weighted\" the connection between the two characters is.  We will experiment with\n",
      "using this attribute in drawing graphs below."
     ]
    },
    {
     "cell_type": "code",
     "collapsed": false,
     "input": [
      "top_chars"
     ],
     "language": "python",
     "metadata": {},
     "outputs": [
      {
       "output_type": "pyout",
       "prompt_number": 4,
       "text": [
        "[(u'Valjean', 0.5699890527836183),\n",
        " (u'Myriel', 0.17684210526315788),\n",
        " (u'Gavroche', 0.16511250242584766),\n",
        " (u'Marius', 0.13203248862194603),\n",
        " (u'Fantine', 0.1296445409881942),\n",
        " (u'Thenardier', 0.07490122123424223),\n",
        " (u'Javert', 0.05433155966478437),\n",
        " (u'MlleGillenormand', 0.047598927875243655),\n",
        " (u'Enjolras', 0.0425533568221771),\n",
        " (u'Tholomyes', 0.040629348177335795)]"
       ]
      }
     ],
     "prompt_number": 4
    },
    {
     "cell_type": "code",
     "collapsed": false,
     "input": [
      "pos = nx.spring_layout(lm,scale=1.0)\n",
      "nx.draw_networkx(lm,pos, node_size=300, font_size=12)  #Default node size=300, default font_size=12"
     ],
     "language": "python",
     "metadata": {},
     "outputs": [],
     "prompt_number": 5
    },
    {
     "cell_type": "markdown",
     "metadata": {},
     "source": [
      "This graph isnt very pretty to look at.  We're going to try to draw something\n",
      "better.\n",
      "\n",
      "We're only going to label subset of the nodes in the final graph (the top characters).  To do\n",
      "that, we're going to create a dictionary of the nodes we're interested in.  It's going\n",
      "to map nodes to the labels we want to use.  But the nodes are already represented by the labels\n",
      "we're interested in, because we read them in with *relabel=True*.  So our new_labels dictionary\n",
      "is just going to map a node to itself."
     ]
    },
    {
     "cell_type": "code",
     "collapsed": true,
     "input": [
      "new_labels= dict([(char,char) for (char,score) in top_chars])\n"
     ],
     "language": "python",
     "metadata": {},
     "outputs": [],
     "prompt_number": 19
    },
    {
     "cell_type": "code",
     "collapsed": false,
     "input": [
      "new_labels"
     ],
     "language": "python",
     "metadata": {},
     "outputs": [
      {
       "output_type": "pyout",
       "prompt_number": 8,
       "text": [
        "{u'Enjolras': u'Enjolras',\n",
        " u'Fantine': u'Fantine',\n",
        " u'Gavroche': u'Gavroche',\n",
        " u'Javert': u'Javert',\n",
        " u'Marius': u'Marius',\n",
        " u'MlleGillenormand': u'MlleGillenormand',\n",
        " u'Myriel': u'Myriel',\n",
        " u'Thenardier': u'Thenardier',\n",
        " u'Tholomyes': u'Tholomyes',\n",
        " u'Valjean': u'Valjean'}"
       ]
      }
     ],
     "prompt_number": 8
    },
    {
     "cell_type": "code",
     "collapsed": false,
     "input": [
      "#pos = nx.spring_layout(lm,scale=1.0) # The default scale is 1.0\n",
      "pos = nx.spring_layout(lm,scale=.75) # Try tweaking the scale and adjusting node positions.\n",
      "#pos = nx.spring_layout(lm,scale=1.0,weight='value') # Try increasing spring tension for chars with more scenes together\n",
      "nx.draw_networkx(lm,pos, with_labels=False,node_size=50,node_color=\"lightgray\")  #Default node size=300\n",
      "nx.draw_networkx_labels(lm,pos,new_labels,font_size=14,font_color='blue')\n",
      "nx.draw_networkx_nodes(lm,pos,new_labels,node_color='red',node_size=500)"
     ],
     "language": "python",
     "metadata": {},
     "outputs": [
      {
       "output_type": "pyout",
       "prompt_number": 28,
       "text": [
        "<matplotlib.collections.PathCollection at 0x112f34250>"
       ]
      }
     ],
     "prompt_number": 28
    },
    {
     "cell_type": "markdown",
     "metadata": {},
     "source": [
      "First we draw the graph with no labels and small nodes.  Then in line 4 we add labels **only** for the top characters.  Then\n",
      "in line 5 we resize the top character nodes and make them red.  This sequence of code is a very useful model.  When you want to\n",
      "do something special to a subset of the nodes, draw the background graph first, choosing parameters to make the background\n",
      "nodes less visually salient.  Then tweak/create the labels with *draw_network_labels* for that subset of the nodes you want to foreground\n",
      "(using a dictionary like *new_labels* that maps from nodes to theri new labels).  Some foregrounding operations (such as tweaking node size)\n",
      "require you to redraw a subset of the nodes using *draw_networkx_nodes*."
     ]
    },
    {
     "cell_type": "heading",
     "level": 2,
     "metadata": {},
     "source": [
      "Anna Karenina (homework assignment)"
     ]
    },
    {
     "cell_type": "markdown",
     "metadata": {},
     "source": [
      "Read in the graph for *Anna Karenina* (AK).  Following the\n",
      "model used in analyzing *Les Miserables* above, draw\n",
      "a graph for AK that labels only the top 10 most\n",
      "central characters, colors the nodes differently, and makes\n",
      "the nodes a different size.  Experiment with\n",
      "different scale, colors and node sizes. Experiment\n",
      "with adding a few more characters to the top characters\n",
      "shown.  Also experiment\n",
      "with making spring tension between characters proportional\n",
      "to the number of scenes they have occured.\n",
      "\n"
     ]
    },
    {
     "cell_type": "code",
     "collapsed": false,
     "input": [
      "import networkx as nx\n",
      "ak = nx.read_gml('anna.gml',relabel=True)"
     ],
     "language": "python",
     "metadata": {},
     "outputs": [],
     "prompt_number": 2
    },
    {
     "cell_type": "code",
     "collapsed": false,
     "input": [
      "desc_dict = dict(ak.nodes(data=True))\n",
      "for (ch,score) in top_chars_ak:\n",
      "    print '%5s %s' % (ch, desc_dict[ch]['desc'])\n"
     ],
     "language": "python",
     "metadata": {},
     "outputs": [
      {
       "output_type": "stream",
       "stream": "stdout",
       "text": [
        "   LE Konstantin Dmitrievitch Levin, proprietor of Pokrovskoe\n",
        "   VR Count Alexey Kirillovitch Vronsky, young officer\n",
        "   AN Anna Arkadyevna Karenina, wife of AL\n",
        "   ST Prince Stepan Arkadyevitch Oblonsky (Stiva), brother of AN\n",
        "   KI Princess Ekaterina Alexandrovna Shtcherbatskaya (Kitty), wife of LE\n",
        "   DO Princess Darya Alexandrovna Oblonskaya (Dolly), wife of ST\n",
        "   AL Alexey Alexandrovitch Karenin, minister of state\n",
        "   PR Prince Alexander Shtcherbatsky, father of DO and KI\n",
        "   YK Yegorushka Korsunsky, handsome dancer\n",
        "   KE Prince Kedrov, member of VR's regiment\n"
       ]
      }
     ],
     "prompt_number": 13
    },
    {
     "cell_type": "code",
     "collapsed": false,
     "input": [],
     "language": "python",
     "metadata": {},
     "outputs": [],
     "prompt_number": 25
    },
    {
     "cell_type": "code",
     "collapsed": false,
     "input": [],
     "language": "python",
     "metadata": {},
     "outputs": []
    }
   ],
   "metadata": {}
  }
 ]
}