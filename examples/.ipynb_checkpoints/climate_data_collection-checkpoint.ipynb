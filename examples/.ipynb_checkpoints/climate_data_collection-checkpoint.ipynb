{
 "cells": [
  {
   "cell_type": "markdown",
   "metadata": {
    "canopy_exercise": {
     "cell_type": "question"
    }
   },
   "source": [
    "Climate data analysis (part I)\n",
    "==============================\n",
    "\n",
    "We want to analyze some world wide climate data from the [National Climatic Data Center](http://www.ncdc.noaa.gov/data-access), since they archived the world's largest climate data around the world with historical data dating back many centuries. To evaluate if their datasets will be relevant for our analysis, we can download their list of countries. The file is on the class websitefor you and is available as part of this exercise and each line contains the country name one can download data for. We would like to analyze it using list, sets, and dictionary comprehensions. In a subsequent exercise, we will use the original complete data file which provides not only the country name but its code to allow collecting and analyzing the data corresponding to it.\n",
    "\n",
    "We load the data for you into a large string containing all the countries:"
   ]
  },
  {
   "cell_type": "code",
   "execution_count": 7,
   "metadata": {
    "canopy_exercise": {
     "cell_type": "starting code"
    }
   },
   "outputs": [
    {
     "name": "stdout",
     "output_type": "stream",
     "text": [
      "norway\n",
      "sweden\n",
      "finland\n",
      "united kingdom (includes northern ireland)\n",
      "ireland\n",
      "iceland\n",
      "greenland\n",
      "denmark, faeroe islands\n",
      "netherlands\n",
      "belgium\n",
      "luxembourg\n",
      "switzerland, liechtenstein\n",
      "france\n",
      "spain\n",
      "gibraltar\n",
      "portugal, azores, cape verde, madeira\n",
      "germany (former east germany, west germany)\n",
      "austria\n",
      "czechoslovakia\n",
      "poland\n",
      "hungary\n",
      "yugoslavia (former), albania, slovenia, croatia\n",
      "albania\n",
      "yugoslavia (former), slovenia, croatia\n",
      "romania\n",
      "bulgaria\n",
      "italy\n",
      "malta\n",
      "greece\n",
      "turkey\n",
      "cyprus\n",
      "former soviet union\n",
      "former soviet union\n",
      "former soviet union\n",
      "former soviet union\n",
      "former soviet union\n",
      "former soviet union\n",
      "former soviet union\n",
      "former soviet union\n",
      "former soviet union\n",
      "former soviet union\n",
      "former soviet union\n",
      "former soviet union\n",
      "syria\n",
      "lebanon\n",
      "israel\n",
      "jordan\n",
      "saudi arabia\n",
      "kuwait\n",
      "iraq\n",
      "iran\n",
      "afghanistan\n",
      "saudi arabia\n",
      "bahrain\n",
      "qatar\n",
      "united arab emirates\n",
      "oman\n",
      "yemen\n",
      "democratic yemen\n",
      "pakistan\n",
      "bangladesh\n",
      "india \n",
      "india\n",
      "sri lanka\n",
      "maldives\n",
      "mongolia\n",
      "nepal\n",
      "hong kong\n",
      "macau\n",
      "hong kong\n",
      "taiwan\n",
      "north korea\n",
      "south korea\n",
      "japan\n",
      "myanmar (was burma)\n",
      "thailand\n",
      "malaysia\n",
      "singapore\n",
      "viet-nam\n",
      "laos\n",
      "kampuchea (cambodia)\n",
      "peoples republic of china\n",
      "morocco, spain, canary islands and western sahara\n",
      "algeria\n",
      "tunisia\n",
      "niger\n",
      "mali\n",
      "mauritania\n",
      "senegal\n",
      "gambia\n",
      "guinea-bissau\n",
      "guinea\n",
      "sierra leone\n",
      "ocean islands\n",
      "libya\n",
      "egypt\n",
      "sudan\n",
      "ethiopia\n",
      "djibouti\n",
      "somalia\n",
      "ethiopia\n",
      "kenya, tanzania, uganda\n",
      "seychelles\n",
      "zaire\n",
      "rwanda\n",
      "burundi\n",
      "congo\n",
      "gabon\n",
      "central african republic\n",
      "chad\n",
      "equatorial guinea\n",
      "cameroon\n",
      "nigeria\n",
      "benin\n",
      "togo\n",
      "ghana\n",
      "burkina faso\n",
      "ivory coast\n",
      "liberia\n",
      "angola\n",
      "comoro islands\n",
      "madagascar\n",
      "mozambique\n",
      "malawi, zambia, zimbabwe\n",
      "s. africa, botswana, bouvet i., lesotho, namibia, swaziland\n",
      "united states\n",
      "united states\n",
      "canada\n",
      "united states\n",
      "united states\n",
      "mexico\n",
      "bermuda\n",
      "bahamas, turks and caicos islands\n",
      "cuba\n",
      "cayman island\n",
      "jamaica\n",
      "haiti\n",
      "dominican republic\n",
      "puerto rico, virgin i., honduras (islas del cisne)\n",
      "belize\n",
      "guatemala\n",
      "el salvador\n",
      "honduras\n",
      "nicaragua\n",
      "costa rica\n",
      "panama and canal zone\n",
      "clipperton\n",
      "anguilla (virgin islands)\n",
      "antigua, st. kitts, nevis, barbuda, and other islands\n",
      "st. maarten, st. eustatius, saba\n",
      "st. martin, st. bartholomew, guadalope, other islands\n",
      "dominica\n",
      "martinique\n",
      "st. lucia and st. vincent\n",
      "barbados, grenada\n",
      "trinidad and tobago\n",
      "netherlands antilles (aruba, curacao, and bonaire)\n",
      "colombia\n",
      "venezuela\n",
      "guyana\n",
      "surinam\n",
      "french guiana\n",
      "brazil\n",
      "brazil\n",
      "ecuador\n",
      "peru\n",
      "bolivia\n",
      "chile\n",
      "paraguay\n",
      "uruguay\n",
      "argentina\n",
      "falkland islands, argentina\n",
      "antarctica\n",
      "pacific ocean islands\n",
      "solomon islands\n",
      "detached islands (nauru, new zealand)\n",
      "solomon islands\n",
      "vanuatu\n",
      "new caledonia and loyalty islands\n",
      "kiribati\n",
      "tuvalu\n",
      "fiji\n",
      "canton island\n",
      "new zealand\n",
      "detached islands (wallis and futuna island)\n",
      "samoa\n",
      "tonga\n",
      "cook islands\n",
      "southern line islands\n",
      "french polynesia\n",
      "new zealand\n",
      "new zealand\n",
      "papua-new guinea\n",
      "australia and additional islands\n",
      "indonesia\n",
      "brunei\n",
      "malaysia, sarawak and sabah\n",
      "indonesia\n",
      "indonesia\n",
      "indonesia\n",
      "indonesia\n",
      "indonesia\n",
      "indonesia\n",
      "philippines\n",
      "ocean vessels, buoys, coastal marine\n"
     ]
    }
   ],
   "source": [
    "import requests\n",
    "import codecs\n",
    "\n",
    "url = 'https://gawron.sdsu.edu/python_for_ss/course_core/data/NCDC_country_list.txt'\n",
    "r = requests.get(url)\n",
    "\n",
    "countries_raw = r.content\n",
    "# Downloaded web content is often a byte string.  We're pretty sure this one is utf8\n",
    "countries = codecs.decode(countries_raw,encoding='utf-8')\n",
    "# Let's normalize the content\n",
    "countries = countries.lower()\n",
    "print(countries)"
   ]
  },
  {
   "cell_type": "markdown",
   "metadata": {
    "canopy_exercise": {
     "cell_type": "question"
    }
   },
   "source": [
    "Question 1\n",
    "----------\n",
    "\n",
    "We would like to list all the countries in this list that start with the letter \"b\" because we are interested in datasets for Brazil. This can be done with a `for` loop as follows:\n",
    "\n",
    "    country_list = countries.split(\"\\n\")\n",
    "    b_countries = []\n",
    "    for country in coutry_list:\n",
    "        if country[0] == \"b\":\n",
    "            b_countries.append(country)\n",
    "\n",
    "Re-write this to use a list comprehension instead."
   ]
  },
  {
   "cell_type": "code",
   "execution_count": null,
   "metadata": {
    "canopy_exercise": {
     "cell_type": "student_solution"
    },
    "collapsed": true
   },
   "outputs": [],
   "source": [
    "# your code goes here"
   ]
  },
  {
   "cell_type": "markdown",
   "metadata": {
    "canopy_exercise": {
     "cell_type": "solution_button"
    }
   },
   "source": [
    "<div class=\"btn-group\"><button class=\"btn\" onclick=\"IPython.canopy_exercise.toggle_solution('3')\">Solution</button></div>"
   ]
  },
  {
   "cell_type": "code",
   "execution_count": null,
   "metadata": {
    "canopy_exercise": {
     "cell_type": "solution_view",
     "solution_number": "3"
    }
   },
   "outputs": [],
   "source": [
    "# We need to loop over all the words but are starting from a text with all the words together. \n",
    "# The first task is then to make a list of words:\n",
    "country_list = countries.strip().split(\"\\n\")\n",
    "# Then we can list all countries whose first letter is a 'b'\n",
    "b_countries = [country for country in country_list if country[0] == \"b\"]\n",
    "# Of course we can combine the 2 step into one command. \n",
    "# Here we are also testing if a word starts with the letter \"b\" using the dedicated string \n",
    "# method 'startswith'\n",
    "b_countries = [country for country in countries.split(\"\\n\") if country.startswith(\"b\")]"
   ]
  },
  {
   "cell_type": "code",
   "execution_count": null,
   "metadata": {
    "canopy_exercise": {
     "cell_type": "starting code"
    }
   },
   "outputs": [],
   "source": [
    "print(\"Countries that start with 'b':\")\n",
    "print(b_countries)"
   ]
  },
  {
   "cell_type": "markdown",
   "metadata": {
    "canopy_exercise": {
     "cell_type": "question"
    }
   },
   "source": [
    "Question 2\n",
    "----------\n",
    "\n",
    "Several countries are repeated in the result generated by the list comprehension. This is because there are multiple codes used by NCDC for a given country when it is particularly large. Cast your list to another Python standard datastructure that will enforce uniqueness."
   ]
  },
  {
   "cell_type": "code",
   "execution_count": null,
   "metadata": {
    "canopy_exercise": {
     "cell_type": "student_solution"
    },
    "collapsed": true
   },
   "outputs": [],
   "source": [
    "# your code goes here"
   ]
  },
  {
   "cell_type": "markdown",
   "metadata": {
    "canopy_exercise": {
     "cell_type": "solution_button"
    }
   },
   "source": [
    "<div class=\"btn-group\"><button class=\"btn\" onclick=\"IPython.canopy_exercise.toggle_solution('5')\">Solution</button></div>"
   ]
  },
  {
   "cell_type": "code",
   "execution_count": null,
   "metadata": {
    "canopy_exercise": {
     "cell_type": "solution_view",
     "solution_number": "5"
    }
   },
   "outputs": [],
   "source": [
    "unique_b_countries = set(b_countries)\n",
    "print(unique_b_countries)"
   ]
  },
  {
   "cell_type": "markdown",
   "metadata": {
    "canopy_exercise": {
     "cell_type": "question"
    }
   },
   "source": [
    "Question 3\n",
    "----------\n",
    "\n",
    "If we are always going to collect all the country names and then remove duplicates, we could build a set directly rather than going through a list. Use a set comprehension (or a generator expression if you are using an older version of Python) to produce the set of names that start with \"b\"."
   ]
  },
  {
   "cell_type": "code",
   "execution_count": null,
   "metadata": {
    "canopy_exercise": {
     "cell_type": "student_solution"
    },
    "collapsed": true
   },
   "outputs": [],
   "source": [
    "# your code goes here"
   ]
  },
  {
   "cell_type": "markdown",
   "metadata": {
    "canopy_exercise": {
     "cell_type": "solution_button"
    }
   },
   "source": [
    "<div class=\"btn-group\"><button class=\"btn\" onclick=\"IPython.canopy_exercise.toggle_solution('6')\">Solution</button></div>"
   ]
  },
  {
   "cell_type": "code",
   "execution_count": null,
   "metadata": {
    "canopy_exercise": {
     "cell_type": "solution_view",
     "solution_number": "6"
    }
   },
   "outputs": [],
   "source": [
    "unique_b_countries = {country for country in countries.split(\"\\n\") if country.startswith(\"b\")}\n",
    "# generator expression version (for Python 2.6)\n",
    "unique_b_countries = set(country for country in countries.split(\"\\n\") if country.startswith(\"b\"))"
   ]
  },
  {
   "cell_type": "code",
   "execution_count": null,
   "metadata": {
    "canopy_exercise": {
     "cell_type": "starting code"
    }
   },
   "outputs": [],
   "source": [
    "print(\"unique countries starting with 'b':\")\n",
    "print(unique_b_countries)"
   ]
  },
  {
   "cell_type": "markdown",
   "metadata": {
    "canopy_exercise": {
     "cell_type": "question"
    }
   },
   "source": [
    "Question 4\n",
    "----------\n",
    "\n",
    "Use a dictionary comprehension (or generator expression) to produce a dictionary whose keys are *all* the countries and whose values are the number of times they appear in the data file because they have been sub-divided. Print the content of the dictionary in a nice way, one country per line."
   ]
  },
  {
   "cell_type": "code",
   "execution_count": null,
   "metadata": {
    "canopy_exercise": {
     "cell_type": "student_solution"
    },
    "collapsed": true
   },
   "outputs": [],
   "source": [
    "# your code goes here"
   ]
  },
  {
   "cell_type": "markdown",
   "metadata": {
    "canopy_exercise": {
     "cell_type": "solution_button"
    }
   },
   "source": [
    "<div class=\"btn-group\"><button class=\"btn\" onclick=\"IPython.canopy_exercise.toggle_solution('8')\">Solution</button></div>"
   ]
  },
  {
   "cell_type": "code",
   "execution_count": null,
   "metadata": {
    "canopy_exercise": {
     "cell_type": "solution_view",
     "solution_number": "8"
    }
   },
   "outputs": [],
   "source": [
    "country_frequencies = {country: countries.count(country) for country in countries.split(\"\\n\")}\n",
    "# generator expression version\n",
    "country_frequencies = dict((country, countries.count(country)) for country in countries.split(\"\\n\"))"
   ]
  },
  {
   "cell_type": "code",
   "execution_count": null,
   "metadata": {
    "canopy_exercise": {
     "cell_type": "solution_view",
     "solution_number": "8"
    }
   },
   "outputs": [],
   "source": [
    "# or alternatively, and more efficiently\n",
    "unique_countries = set(countries.split(\"\\n\"))\n",
    "country_frequencies = {country: countries.count(country) for country in unique_countries}\n",
    "# generator expression version\n",
    "country_frequencies = dict([(country, countries.count(country)) for country in unique_countries])"
   ]
  },
  {
   "cell_type": "code",
   "execution_count": null,
   "metadata": {
    "canopy_exercise": {
     "cell_type": "starting code"
    }
   },
   "outputs": [],
   "source": [
    "print(\"Number of times countries have been sub-divided:\")\n",
    "for key, value in country_frequencies.items():\n",
    "    print(\"{key} : {value}\".format(key=key, value=value))"
   ]
  },
  {
   "cell_type": "markdown",
   "metadata": {
    "canopy_exercise": {
     "cell_type": "question"
    }
   },
   "source": [
    "Copyright 2008-2016, Enthought, Inc.  \n",
    "Use only permitted under license.  Copying, sharing, redistributing or other unauthorized use strictly prohibited.  \n",
    "http://www.enthought.com"
   ]
  }
 ],
 "metadata": {
  "canopy_exercise": {
   "__metadata_version__": 1
  },
  "kernelspec": {
   "display_name": "Python 3",
   "language": "python",
   "name": "python3"
  },
  "language_info": {
   "codemirror_mode": {
    "name": "ipython",
    "version": 3
   },
   "file_extension": ".py",
   "mimetype": "text/x-python",
   "name": "python",
   "nbconvert_exporter": "python",
   "pygments_lexer": "ipython3",
   "version": "3.8.5"
  }
 },
 "nbformat": 4,
 "nbformat_minor": 1
}
