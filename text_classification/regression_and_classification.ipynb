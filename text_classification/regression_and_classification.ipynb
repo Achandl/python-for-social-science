{
 "cells": [
  {
   "cell_type": "markdown",
   "metadata": {},
   "source": [
    "# Classification Tutorial"
   ]
  },
  {
   "cell_type": "markdown",
   "metadata": {},
   "source": [
    "## 1. The data"
   ]
  },
  {
   "cell_type": "markdown",
   "metadata": {},
   "source": [
    "Let's look at a dataset used in [one of the foundational papers in **linear discriminant analysis** (LDA) by Ronald Fisher](https://www.google.com/url?sa=t&rct=j&q=&esrc=s&source=web&cd=1&ved=0ahUKEwiez6rWgNbOAhVBVWMKHf6WCTAQFgghMAA&url=http%3A%2F%2Frcs.chemometrics.ru%2FTutorials%2Fclassification%2FFisher.pdf&usg=AFQjCNHHtp94F4ypoDjy-708tnsnREUZBw). The data was actually collected by Edgar Anderson in\n",
    "a study of the morphological variation of iris species (variation due to **shape**).\n",
    "\n",
    "First we load the data from the `sklearn` module, which contains many tools and datasets\n",
    "used in machine learning research."
   ]
  },
  {
   "cell_type": "code",
   "execution_count": 1,
   "metadata": {
    "collapsed": true
   },
   "outputs": [],
   "source": [
    "from sklearn.datasets import load_iris\n",
    "from sklearn.metrics import accuracy_score\n",
    "data = load_iris()\n",
    "features = data['data']\n",
    "feature_names = data['feature_names']\n",
    "target = data['target']"
   ]
  },
  {
   "cell_type": "markdown",
   "metadata": {},
   "source": [
    "Two large arrays are defined, `features` and `target`.\n",
    "\n",
    "The raw data about the irises is in `features`; `features` is a 2D array."
   ]
  },
  {
   "cell_type": "code",
   "execution_count": 2,
   "metadata": {},
   "outputs": [
    {
     "data": {
      "text/plain": [
       "(150, 4)"
      ]
     },
     "execution_count": 2,
     "metadata": {},
     "output_type": "execute_result"
    }
   ],
   "source": [
    "features.shape"
   ]
  },
  {
   "cell_type": "markdown",
   "metadata": {},
   "source": [
    "That means we have 150 data exemplars (individual irises), and we have 4 measured attributes for each.  "
   ]
  },
  {
   "cell_type": "markdown",
   "metadata": {},
   "source": [
    "Here's the first 10 rows"
   ]
  },
  {
   "cell_type": "code",
   "execution_count": 3,
   "metadata": {},
   "outputs": [
    {
     "data": {
      "text/plain": [
       "array([[ 5.1,  3.5,  1.4,  0.2],\n",
       "       [ 4.9,  3. ,  1.4,  0.2],\n",
       "       [ 4.7,  3.2,  1.3,  0.2],\n",
       "       [ 4.6,  3.1,  1.5,  0.2],\n",
       "       [ 5. ,  3.6,  1.4,  0.2],\n",
       "       [ 5.4,  3.9,  1.7,  0.4],\n",
       "       [ 4.6,  3.4,  1.4,  0.3],\n",
       "       [ 5. ,  3.4,  1.5,  0.2],\n",
       "       [ 4.4,  2.9,  1.4,  0.2],\n",
       "       [ 4.9,  3.1,  1.5,  0.1]])"
      ]
     },
     "execution_count": 3,
     "metadata": {},
     "output_type": "execute_result"
    }
   ],
   "source": [
    "features[:10]"
   ]
  },
  {
   "cell_type": "markdown",
   "metadata": {},
   "source": [
    "To understand what the data means,  consider an example iris. Let's take the row\n",
    "90 rows up from the end of the array."
   ]
  },
  {
   "cell_type": "code",
   "execution_count": 17,
   "metadata": {},
   "outputs": [
    {
     "data": {
      "text/plain": [
       "array([5. , 2. , 3.5, 1. ])"
      ]
     },
     "execution_count": 17,
     "metadata": {},
     "output_type": "execute_result"
    }
   ],
   "source": [
    "P = features[-90]\n",
    "P"
   ]
  },
  {
   "cell_type": "markdown",
   "metadata": {},
   "source": [
    "Looking at feature names, we can decode this:"
   ]
  },
  {
   "cell_type": "code",
   "execution_count": 4,
   "metadata": {},
   "outputs": [
    {
     "data": {
      "text/plain": [
       "['sepal length (cm)',\n",
       " 'sepal width (cm)',\n",
       " 'petal length (cm)',\n",
       " 'petal width (cm)']"
      ]
     },
     "execution_count": 4,
     "metadata": {},
     "output_type": "execute_result"
    }
   ],
   "source": [
    "feature_names"
   ]
  },
  {
   "cell_type": "markdown",
   "metadata": {},
   "source": [
    "P is an iris with sepal length 5 cm, sepal width 2 cm, petal length 3.5 cm,\n",
    "and petal width 1 cm.  All of these are shape attributes."
   ]
  },
  {
   "cell_type": "markdown",
   "metadata": {},
   "source": [
    "P also has a class, stored in the `target` array, whose first ten members are:"
   ]
  },
  {
   "cell_type": "code",
   "execution_count": 5,
   "metadata": {},
   "outputs": [
    {
     "data": {
      "text/plain": [
       "array([0, 0, 0, 0, 0, 0, 0, 0, 0, 0])"
      ]
     },
     "execution_count": 5,
     "metadata": {},
     "output_type": "execute_result"
    }
   ],
   "source": [
    "target[:10]"
   ]
  },
  {
   "cell_type": "markdown",
   "metadata": {},
   "source": [
    "To find  the class of our example iris, we look at the class of the iris 90 irises up from the last iris:"
   ]
  },
  {
   "cell_type": "code",
   "execution_count": 20,
   "metadata": {},
   "outputs": [
    {
     "data": {
      "text/plain": [
       "1"
      ]
     },
     "execution_count": 20,
     "metadata": {},
     "output_type": "execute_result"
    }
   ],
   "source": [
    "target[-90]"
   ]
  },
  {
   "cell_type": "markdown",
   "metadata": {},
   "source": [
    "So P belongs to class 1.  It turns out there are three classes, all numerical.  We can see there are 3 classes and what they are by doing the following:"
   ]
  },
  {
   "cell_type": "code",
   "execution_count": 21,
   "metadata": {},
   "outputs": [
    {
     "data": {
      "text/plain": [
       "{0, 1, 2}"
      ]
     },
     "execution_count": 21,
     "metadata": {},
     "output_type": "execute_result"
    }
   ],
   "source": [
    "set(target)"
   ]
  },
  {
   "cell_type": "markdown",
   "metadata": {},
   "source": [
    "Each number represents a different species of iris, 0 = *I. setosa, 1 = I. versicolor,* and\n",
    "2 = *I. virginica*. In fact our data has 50 exemplars of each of these 3 species.  So what this data helps us study is variation in **shape attributes** among iris species."
   ]
  },
  {
   "cell_type": "markdown",
   "metadata": {},
   "source": [
    "## 2. Plotting attributes"
   ]
  },
  {
   "cell_type": "markdown",
   "metadata": {},
   "source": [
    "Let's do a picture.\n",
    "\n",
    "Look at the picture created by the code below and\n",
    "study it carefully.  \n",
    "\n",
    "Each of the 6 subplots features a pair of attributes.\n",
    "For example, we pick **sepal length** amd **sepal width** in the first subplot.\n",
    "We then represent each iris as\n",
    "a point out on the 2D xy plane, using the sepal length as the x coordinate and\n",
    "sepal width as the y-coordinate, and we color it according to its class. \n",
    "The 3 classes of iris are rendered as blue, green, and red\n",
    "points of different shapes.  This is called a **scatter plot**.  The idea is to\n",
    "see if irises of of the same class cluster together based on the attributes\n",
    "we're looking at.\n",
    "\n",
    "One more thing we've done is to distinguish the example point P discussed\n",
    "above, so that you can see how its representation changes from subplot to\n",
    "subplot.  P is of class 1; points of class 1 are being drawn as filled in green circles,\n",
    "but P has been drawn much larger than the other green points."
   ]
  },
  {
   "cell_type": "code",
   "execution_count": 6,
   "metadata": {},
   "outputs": [
    {
     "data": {
      "text/plain": [
       "<matplotlib.collections.PathCollection at 0x11bf0fc10>"
      ]
     },
     "execution_count": 6,
     "metadata": {},
     "output_type": "execute_result"
    },
    {
     "data": {
      "image/png": "[encoded data removed]",
      "text/plain": [
       "<matplotlib.figure.Figure at 0x117b05110>"
      ]
     },
     "metadata": {},
     "output_type": "display_data"
    }
   ],
   "source": [
    "%matplotlib inline\n",
    "from matplotlib import pyplot as plt\n",
    "markers, colors  = \">ox\", \"rgb\"\n",
    "L = zip(range(3),markers,colors)\n",
    "plt.scatter([0,1,2],[0,1,2])"
   ]
  },
  {
   "cell_type": "code",
   "execution_count": 8,
   "metadata": {},
   "outputs": [
    {
     "data": {
      "image/png": "[encoded data removed]",
      "text/plain": [
       "<matplotlib.figure.Figure at 0x11c6f9c10>"
      ]
     },
     "metadata": {},
     "output_type": "display_data"
    }
   ],
   "source": [
    "%matplotlib inline\n",
    "\n",
    "import pylab \n",
    "import numpy as np\n",
    "from matplotlib import pyplot as plt\n",
    "\n",
    "# Let's make this a big figure, because there are multiple subplots\n",
    "pylab.rcParams['figure.figsize'] = (12.0, 9.0)\n",
    "\n",
    "\n",
    "markers, colors  = \">ox\", \"rgb\"\n",
    "# Four columns, plot two at a time.  We'll need the indices of the cols we're pairing.\n",
    "pairs = [(0,1),(0,2),(0,3),(1,2),(1,3),(2,3)]\n",
    "for i,(x,y) in enumerate(pairs):\n",
    "    # 6 subplots in 2x3 configuration. Each subplot pairs two iris\n",
    "    # attributes we call x and y. Let's do subplot i+1 now.\n",
    "    plt.subplot(2,3,i+1)\n",
    "    # On this subplot we're doing 3 sets of points, each belonging to a different iris class\n",
    "    # with a different color and shape used to draw the points.  To do the 3 sets, use a loop.\n",
    "    # To loop through 3 sequences at once, zip them together first\n",
    "    for cls,marker,clr in zip(range(3),markers,colors):\n",
    "        plt.scatter(features[target == cls,x], features[target == cls,y], marker=marker, c=clr)\n",
    "    # Let's draw our point P with attention-getting large SIZE.\n",
    "    p_features,p_cls  = features[-90],target[-90]\n",
    "    marker,clr = markers[p_cls], colors[p_cls]\n",
    "    plt.scatter(p_features[x],p_features[y],marker=marker,c=clr,s=100)\n",
    "    # Done with P\n",
    "    # Label this subplot with the names of the two features being studied.\n",
    "    plt.xlabel(feature_names[x])\n",
    "    plt.ylabel(feature_names[y])\n",
    "    # To make it prettier, uncomment the following & remove ticks on the x and y axis.\n",
    "    #plt.xticks([])\n",
    "    #plt.yticks([])\n",
    " \n",
    "plt.savefig('iris_datasets_separations.png')"
   ]
  },
  {
   "cell_type": "markdown",
   "metadata": {},
   "source": [
    "Notice that that big green dot P jumps around from plot to plot. It's being represented with different numerical values each time, so it jumps around the xy-plane.  In the first plot we see its sepal length/ sepal width view, which happens to be the point (5,2).  In the second plot we look at the sepal length/petal length view, which happens to be the point (5,3.5). Six different views as we scoot from subplot to subplot, all coming from the one row in the `features` table that represent P:\n",
    "\n",
    "```\n",
    "[ 5. ,  2. ,  3.5,  1. ]\n",
    "```"
   ]
  },
  {
   "cell_type": "markdown",
   "metadata": {},
   "source": [
    "## 3.  Linear separation"
   ]
  },
  {
   "cell_type": "markdown",
   "metadata": {
    "collapsed": true
   },
   "source": [
    "Now consider the problem of drawing straight lines to **separate** the classes.  First off it's easy to see that it's much easier to separate the red points from the blue and green points than it is to separate the blue points from the green points. As an example let's draw a pretty good line for separating the red points from the others for the second plot in\n",
    "the first row.  This is the one that plots **sepal length** (x-axis) against **petal \n",
    "length** (y axis).  Note that I found the line by eyeballing the plot and using\n",
    "trial and error."
   ]
  },
  {
   "cell_type": "code",
   "execution_count": 9,
   "metadata": {},
   "outputs": [
    {
     "data": {
      "text/plain": [
       "array([ 5. ,  2. ,  3.5,  1. ])"
      ]
     },
     "execution_count": 9,
     "metadata": {},
     "output_type": "execute_result"
    }
   ],
   "source": [
    "features[-90]"
   ]
  },
  {
   "cell_type": "code",
   "execution_count": 9,
   "metadata": {},
   "outputs": [
    {
     "data": {
      "text/plain": [
       "<matplotlib.text.Text at 0x11bf4a490>"
      ]
     },
     "execution_count": 9,
     "metadata": {},
     "output_type": "execute_result"
    },
    {
     "data": {
      "image/png": "[encoded data removed]",
      "text/plain": [
       "<matplotlib.figure.Figure at 0x11c220b10>"
      ]
     },
     "metadata": {},
     "output_type": "display_data"
    }
   ],
   "source": [
    "# After some trial & error, I decided a line specified by the following 2 numbers worked.\n",
    "# m is the slope, b is where the line intercepts the y axis (not seen in the figure)\n",
    "(m,b) = (.9,-2)\n",
    "# The indexes for the two iris features we're using for this plot.\n",
    "(p0,p1) = (0,2)\n",
    "# Scatter the data points\n",
    "for t,marker,c in zip(list(range(3)),\">ox\",\"rgb\"):\n",
    "    plt.scatter(features[target == t,p0], features[target == t,p1], \n",
    "                marker=marker, c=c,s=60) \n",
    "# Let's draw our point P with extra special attention getting large SIZE.\n",
    "p_features,p_target  = features[-90],target[-90]\n",
    "marker,clr = \">ox\"[p_target], \"rgb\"[p_target]\n",
    "plt.scatter(p_features[p0],p_features[p1],marker=marker,c=clr,s=180)\n",
    " \n",
    "# Draw our classifier line\n",
    "# We'll only draw the portion of the line relevant to the current figure.\n",
    "(xmin,xmax) = (3.,9.)\n",
    "# tighten the boundaries on the drawing to the same limits\n",
    "plt.gca().set_xlim(xmin,xmax)\n",
    "#Between xmin and xmax, mark off a set of points on the x-axis .1 apart\n",
    "xvec = np.arange(xmin,xmax,.1)\n",
    "# Plot a stright line with the chosen slope & intercept\n",
    "plt.plot(xvec,m*xvec+b)\n",
    "plt.xlabel(feature_names[p0])\n",
    "plt.ylabel(feature_names[p1])"
   ]
  },
  {
   "cell_type": "markdown",
   "metadata": {},
   "source": [
    "To see what this line does,  consider our example iris P."
   ]
  },
  {
   "cell_type": "markdown",
   "metadata": {},
   "source": [
    "Let's pretend we don't know the class of P, but we do know\n",
    "its attributes. So we know $P$ has sepal length 5 and petal length 3.5.  \n",
    "\n",
    "Let's plot it and use our line as a classifier."
   ]
  },
  {
   "cell_type": "code",
   "execution_count": 7,
   "metadata": {},
   "outputs": [
    {
     "data": {
      "text/plain": [
       "1"
      ]
     },
     "execution_count": 7,
     "metadata": {},
     "output_type": "execute_result"
    }
   ],
   "source": [
    "p_target"
   ]
  },
  {
   "cell_type": "code",
   "execution_count": 10,
   "metadata": {},
   "outputs": [
    {
     "name": "stdout",
     "output_type": "stream",
     "text": [
      "3\n"
     ]
    },
    {
     "data": {
      "image/png": "[encoded data removed]",
      "text/plain": [
       "<matplotlib.figure.Figure at 0x11c1fc8d0>"
      ]
     },
     "metadata": {},
     "output_type": "display_data"
    }
   ],
   "source": [
    "pylab.rcParams['figure.figsize'] = (8.0, 6.0)\n",
    "# Our sample point\n",
    "P = features[-90]\n",
    "(xPrime,yPrime) = (P[0],P[2])\n",
    "# Boundaries of what we'll draw.\n",
    "(xmin,xmax) = (4.0,6.0)\n",
    "# Ticks at which to place points on x- axis\n",
    "xvec = np.arange(xmin,xmax,.1)\n",
    "# our classifier line slope and intercept\n",
    "(m,b) = (.9,-2)\n",
    "#  Use (m,b) for the EQUATION of the classifier line.  \n",
    "yvec = m*xvec+b\n",
    "# Plot the classifier line\n",
    "plt.plot(xvec,yvec)\n",
    "\n",
    "# the point on the line below xPrime\n",
    "yHat = m*xPrime + b\n",
    "# Plot our example point\n",
    "plt.scatter(xPrime,yPrime , marker='o', c='g',s=60) \n",
    "\n",
    "\n",
    "# Plot a point X below P, directly on the classifier line\n",
    "plt.scatter([xPrime],[yHat] , marker='x', c='r',s=60) \n",
    "xvec2,yvec2 =np.array([xPrime,xPrime]),np.array([yHat,yPrime])\n",
    "# Plot the dashed line from X to P\n",
    "plt.plot(xvec2,yvec2,linestyle='--')\n",
    "# Draw the frame around the plots TIGHT\n",
    "plt.axis('tight')\n",
    "plt.xlabel(feature_names[p0])\n",
    "plt.ylabel(feature_names[p1])\n",
    "\n",
    "print(y)"
   ]
  },
  {
   "cell_type": "markdown",
   "metadata": {},
   "source": [
    "The representation of the iris $P$ in this plotting system is shown as the green dot.  Since the dot falls above the line we would classify it as a non-red class iris.  Also shown\n",
    "(as a red X) is what the petal of length of $P$ would have to be for it to fall directly in the line.\n",
    "\n",
    "We printed out that value before drawing the plot.  It's 2.5.  Basically for any iris\n",
    "with sepal length 5, if it's petal length is greater than 2.5 we classify it as non-red;\n",
    "if it's less than 2.5 we classify it as red.  The line defines a classification rule.\n",
    "\n",
    "Moreover we can easily extend the rule to any sepal length.  In fact,\n",
    "we can write a classification rule, using the equation for the line.  Let `(x',y')`\n",
    "be the point to classify, and let's we call non-red the **positive class**.\n",
    "Then we place `(x',y')` in the positive class whenever the following \n",
    "quantity is positive (see the definition of `yvec` in the code above):\n",
    "\n",
    "```\n",
    "y' - (.9x' - 2) = y' -.9x + 2\n",
    "```\n",
    "\n",
    "Taking our example point `(x'=5,y'=3.5)`:\n",
    "\n",
    "```\n",
    "3.5 - .9*5 + 2 = +1\n",
    "```\n",
    "\n",
    "So as desired this is positive, telling us the point falls above the line and should\n",
    "be classified as non-red.\n",
    "\n",
    "We have just created a classification rule.  Next we write a function that implements our rule.\n"
   ]
  },
  {
   "cell_type": "code",
   "execution_count": 26,
   "metadata": {},
   "outputs": [
    {
     "name": "stdout",
     "output_type": "stream",
     "text": [
      "P is in positive class: True\n"
     ]
    }
   ],
   "source": [
    "def is_non_red (P):\n",
    "    \"\"\"\n",
    "    P is a data point, all 4 attributes.\n",
    "    \n",
    "    Return True if P is in positive class.\n",
    "    \"\"\"\n",
    "    return (P[2] - .9*P[0] + 2) > 0\n",
    "\n",
    "P = features[-90]\n",
    "print('P is in positive class: {0}'.format(is_non_red(P)))"
   ]
  },
  {
   "cell_type": "markdown",
   "metadata": {},
   "source": [
    "## 4.  Relationship to regression"
   ]
  },
  {
   "cell_type": "markdown",
   "metadata": {},
   "source": [
    "How is what we've done related to regression, especially linear regression?\n",
    "\n",
    "Well, first of all, in both the linear regression case and the linear discriminant case,\n",
    "we are using numerical data (a scattering of points) to try to determine a line.\n",
    "\n",
    "We are defining the line in different ways.  In the linear regression case, we looked \n",
    "for the best line to represent the scattering of points we saw. In the linear discrimination\n",
    "case, we are looking for the best line to **separate** two classes.\n",
    "\n",
    "Just as it wasn't always possible to find a line that was a good **fit** to our scattering of data, so it isn't always possible separate a scattering of points with a line.\n",
    "\n",
    "What we're seeing in the plots above is that, taking the features by pairs, we can't see\n",
    "a good way to separate all 3 classes.\n",
    "\n",
    "We'll validate this intuition in the next section. We'll use a program that does a kind of linear discrimination; that is, it tries to find linear separations between classes.  Instead of using Fisher's method, which is called Linear Discriminant Analysis (LDA), we'll use\n",
    "something called **Logistic regression**, which has become far more popular in many applications.  The differences don't matter for our purposes,  but logistic regression is much more likely to be the method of choice in linguistic applications. "
   ]
  },
  {
   "cell_type": "markdown",
   "metadata": {
    "collapsed": true
   },
   "source": [
    "## 5.  Linear classifier results"
   ]
  },
  {
   "cell_type": "markdown",
   "metadata": {},
   "source": [
    "We're going to use `sklearn` to build a linear classifier to to separate all three classes. We're first going to use just the sepal features, to keep it visualizable.  We'll use a type of linear classifier called  a **Logistic Regression classifier**."
   ]
  },
  {
   "cell_type": "code",
   "execution_count": 12,
   "metadata": {},
   "outputs": [
    {
     "data": {
      "text/plain": [
       "([], <a list of 0 Text yticklabel objects>)"
      ]
     },
     "execution_count": 12,
     "metadata": {},
     "output_type": "execute_result"
    },
    {
     "data": {
      "image/png": "[encoded data removed]",
      "text/plain": [
       "<matplotlib.figure.Figure at 0x11cde2990>"
      ]
     },
     "metadata": {},
     "output_type": "display_data"
    }
   ],
   "source": [
    "from sklearn import linear_model\n",
    "pylab.rcParams['figure.figsize'] = (12.0, 9.0)\n",
    "\n",
    "X = features[:,:2]\n",
    "Y = target\n",
    "\n",
    "\n",
    "\n",
    "# we create an instance of a Logistic Regression Classifier.\n",
    "logreg = linear_model.LogisticRegression(C=1e5,solver='lbfgs',multi_class='auto')\n",
    "\n",
    "# we fit the data.\n",
    "logreg.fit(X, Y)\n",
    "\n",
    "################################################################\n",
    "#  Dont worry too  much about this part of the code.  Meshes\n",
    "#  are a mesh-y topic\n",
    "\n",
    "x_min, x_max = X[:, 0].min() - .5, X[:, 0].max() + .5\n",
    "y_min, y_max = X[:, 1].min() - .5, X[:, 1].max() + .5\n",
    "h = .02  # step size in the mesh\n",
    "xx, yy = np.meshgrid(np.arange(x_min, x_max, h), np.arange(y_min, y_max, h))\n",
    "##  End of meshy stuff xx,yy defines a mesh of points we're going to classify,\n",
    "##  So that we can color entire regions of the plot.\n",
    "\n",
    "\n",
    "# Apply the classifier's decision function to xx,yy\n",
    "# The result Z is an array storing  the predicted class for every point in xx,yy\n",
    "Z = logreg.predict(np.c_[xx.ravel(), yy.ravel()])\n",
    "\n",
    "# Put the result into a color plot.  We'll color EACH point in xx,yy\n",
    "# according to the value in Z.\n",
    "Z = Z.reshape(xx.shape)\n",
    "plt.pcolormesh(xx, yy, Z, cmap=plt.cm.Paired)\n",
    "\n",
    "# Also plot the training points, coloring them according to their  TRUE classes.\n",
    "for cls,marker,clr in zip(list(range(3)),markers,colors):\n",
    "        plt.scatter(X[target == cls,0], X[target == cls,1], marker=marker, c=clr, s=50)\n",
    "\n",
    "plt.xlabel('Sepal length')\n",
    "plt.ylabel('Sepal width')\n",
    "\n",
    "plt.xlim(xx.min(), xx.max())\n",
    "plt.ylim(yy.min(), yy.max())\n",
    "plt.xticks(())\n",
    "plt.yticks(())"
   ]
  },
  {
   "cell_type": "markdown",
   "metadata": {},
   "source": [
    "The differently colored regions represent the areas the classifier has reserved for particular classes, and the dots are colored as before.  We see that all our worries are validated.  The classifier separates the red class off nicely, and has trouble discriminating the blue and green classes.  Can we quantify what's going on? Certainly."
   ]
  },
  {
   "cell_type": "markdown",
   "metadata": {},
   "source": [
    "Here's how to find out our score."
   ]
  },
  {
   "cell_type": "code",
   "execution_count": 14,
   "metadata": {},
   "outputs": [
    {
     "data": {
      "text/plain": [
       "0.83333333333333337"
      ]
     },
     "execution_count": 14,
     "metadata": {},
     "output_type": "execute_result"
    }
   ],
   "source": [
    "from sklearn.metrics import accuracy_score\n",
    "# Rerun prediction on just the training data.\n",
    "logreg.fit(X, Y)\n",
    "predicted = logreg.predict(X)\n",
    "# Y has the right answers.\n",
    "accuracy_score(Y,predicted)"
   ]
  },
  {
   "cell_type": "markdown",
   "metadata": {},
   "source": [
    "Well, we went and cheated by evaluating our score on just the training data,\n",
    "and we **still** didn't do very well.  Only 80% correct!\n",
    "\n",
    "Maybe our problem is that we keep using only two features at a time. What if we use **all**\n",
    "the features at once?  Please note how simple the following code is.  We are basically starting from scratch, using all our data, and all our features, and testing."
   ]
  },
  {
   "cell_type": "code",
   "execution_count": 16,
   "metadata": {},
   "outputs": [
    {
     "data": {
      "text/plain": [
       "0.98666666666666669"
      ]
     },
     "execution_count": 16,
     "metadata": {},
     "output_type": "execute_result"
    }
   ],
   "source": [
    "X = features\n",
    "Y = target\n",
    "newY = (Y == 0)\n",
    "logreg = linear_model.LogisticRegression(C=1e5, solver='lbfgs',multi_class='auto')\n",
    "logreg.fit(X, Y)\n",
    "predicted = logreg.predict(X)\n",
    "accuracy_score(Y,predicted)"
   ]
  },
  {
   "cell_type": "markdown",
   "metadata": {},
   "source": [
    "Yep,  that was our problem.  Our accuracy is now 98%!\n",
    "\n",
    "And so we pause for a moment to drink in one of the central lessons of multivariate statistics.  Using more variables can help.  Bigtime.\n",
    "\n",
    "We started out essentially asking the question, what linear function of two \n",
    "of these variables can best separate these classes?  And we tried all possible systems using two features and didn't do very well.  But then we switched to asking what linear function\n",
    "of all 4 variables can best separate these variables? And we did **much** better.\n",
    "\n",
    "So why didn't we do this to start with?  And why did the code get so much simpler?\n",
    "\n",
    "Second question, first, because the two answers are related.  The code got much simpler\n",
    "because we threw out the visualization code.  And we threw out the visualization code\n",
    "because we switched to a system that was much harder to visualize.  We essentially went from representing our code in 2 dimensions (so that \n",
    "we could plot every point on an the xy plane) to representing it in 4 dimensions.\n",
    "Try and visualize 4 dimensions!  Pretty hard.  And that's the answer\n",
    "to the first question.  We didn't do it this way to start with because\n",
    "we wanted something we could visualize, and that proved helpful, because there\n",
    "were insights the visualizations gave us, especially about the red class.\n",
    "\n",
    "And therein lies one problem with switching to 4 dimensions.  We've lost our capacity\n",
    "to glean insights from the data, at least with the tools we've looked at till now.\n",
    "We don't really know what relationships got us over the hump in classifying\n",
    "irises.\n",
    "\n",
    "So lesson number one is that more variables can help.  And lesson number\n",
    "two is that there are perils involved in using more variables.  Actually \n",
    "we haven't even scratched the surface of the many perils involved in higher-dimensional\n",
    "data, but we've identified an important one.  Using more variables makes things\n",
    "more complicated, and that makes it harder to understand what's going on.\n",
    "At some point we are going to have turn around and explain our results\n",
    "to an audience waiting with baited breath, and you have be **very** careful when explaining\n",
    "multivariate results.  Visualization is a big help at explaining complicated\n",
    "relationships, so losing the ability to visualize is not a small loss,\n",
    "especially since what real life problems often involve is not yes/no classifications,\n",
    "but insight.  More on the problem of visualizing higher-dimensional data later in\n",
    "the course.\n",
    "\n",
    "In the meantime, to try to recover a little insight into what is going on with\n",
    "a completely visualizable representation of the iris data, have a look at the appendix."
   ]
  },
  {
   "cell_type": "markdown",
   "metadata": {},
   "source": [
    "## Homework"
   ]
  },
  {
   "cell_type": "markdown",
   "metadata": {},
   "source": [
    "1) Don't take my word for it that subsets of these features always do worse.\n",
    "Try it out.\n",
    "\n",
    "Change the selector array in the next cell and execute the code\n",
    "in the cell to try out your own favorite subsets\n",
    "of features.  No subset of 2 or even 3 features performs as well as using all 4.\n",
    "\n",
    "For example, using this selector \n",
    "```\n",
    "selector = np.array([True,True,False,True])\n",
    "```\n",
    "\n",
    "leaves out just  the third feature.  Here's your challenge: Find the best 2-feature\n",
    "system (it performs almost as well as any 3-feature system), and the best\n",
    "3-feature system.  Hint for the 2-feature problem, if you want to get there more\n",
    "quickly.  Look at our plots of two-feature systems above.  Which one **looks**\n",
    "like it gives the best separation?"
   ]
  },
  {
   "cell_type": "markdown",
   "metadata": {},
   "source": [
    "2) Above we implemented a function called `is_non_red` that is supposed to distinguish \n",
    "class 0 from classes 1 and 2.  We call such a function a model (a model of `non-redness`\n",
    "). Write some code to evaluate this model's accuracy \n",
    "in predicting non redness.  Before call the `accuracy_score` function, you will have to compute `predicted` using `is_non_red` to give you an array of predictions\n",
    "\n",
    "You will also have to evaluate accuracy against a different standard.\n",
    "You can't evaluate against the class array `target` because that has three classes and `is_non_red` essentially works with two. You have to start by creating a different\n",
    "class array that only has two classes, matching the kind of results `is_non_red` produces.\n",
    "The red class is 0, so you want `True` for every class 1 or 2 iris, and\n",
    "`False` for every class 0 iris. Fot this, use a Boolean mask on `target`.\n",
    "\n",
    "To create a prediction array using `is_non_red`, apply it to every row\n",
    "of `features`:\n",
    "\n",
    "```\n",
    "np.apply_along_axis(is_non_red, axis=1, arr= features)\n",
    "```\n",
    "\n",
    "Be sure to say what your final score **means**.  Did you you do very well\n",
    "or very badly?\n"
   ]
  },
  {
   "cell_type": "markdown",
   "metadata": {},
   "source": [
    "3)  Using the `rock vs. mines` data set loaded in the next cell, draw a scatterplot of the points like the ones we did in Section 2 and 3 of this tutorial for the iris data. \n",
    "You will find the code in Section 3 will require the least modification.\n",
    "This data set tries to distinguish two classes, rocks and mines, based on sonar readings.\n",
    "Note, as the loading code indicates, this data has 60 features, which is a lot, so you should\n",
    "just pick one pair of features out and plot them.  Crucially,\n",
    "you **don't** need to plot all pairs (there are 1770 pairs), even though\n",
    "with 60 features, you are unlikely to have much success using just two.\n",
    "\n",
    "When modifying the code to draw the picture, bear in mind you really only need to\n",
    "scatter the points.  You are not being asked to draw a separation line,\n",
    "and you don't need to draw our point P, because it doesn't appear in this data.\n",
    "You should try to give the points belonging to the two classes different colors\n",
    "and shapes, as was done above."
   ]
  },
  {
   "cell_type": "code",
   "execution_count": 30,
   "metadata": {},
   "outputs": [
    {
     "name": "stdout",
     "output_type": "stream",
     "text": [
      "208 exemplars with 61 features\n",
      "2 classes: ['M', 'R']\n"
     ]
    }
   ],
   "source": [
    "import pandas as pd\n",
    "\n",
    "target_url = (\"https://archive.ics.uci.edu/ml/machine-learning-\"\n",
    "\"databases/undocumented/connectionist-bench/sonar/sonar.all-data\")\n",
    "\n",
    "#read rocks mines data\n",
    "mine_df = pd.read_csv(target_url, header=None, prefix=\"V\")\n",
    "mine_features = mine_df.values\n",
    "(samp_sz, num_feats) = mine_features.shape\n",
    "print('{0} exemplars with {1} features'.format(samp_sz, num_feats))\n",
    "# The last column contains the class data.  Separate it from the others.\n",
    "target = mine_features[:, 60]\n",
    "# Everything else is a feature\n",
    "mine_features = mine_features[:, :60]\n",
    "(samp_sz, num_feats) = mine_features.shape\n",
    "\n",
    "# Find the two classes we're trying to separate.\n",
    "feat_set = list(set(target))\n",
    "print('{0} classes: {1}'.format(len(feat_set), feat_set))"
   ]
  },
  {
   "cell_type": "code",
   "execution_count": null,
   "metadata": {
    "collapsed": true
   },
   "outputs": [],
   "source": []
  },
  {
   "cell_type": "markdown",
   "metadata": {},
   "source": [
    "## Appendix: Combining variables: Cheap non-linearity"
   ]
  },
  {
   "cell_type": "markdown",
   "metadata": {},
   "source": [
    "The [Heidelberg stat-center](http://www.statlab.uni-heidelberg.de/data/iris/) reports a very nice result obtained by combining\n",
    "the 2 petal features and the  2 sepal features by multiplication.  We end up with 2 **area** features, and a system that's almost as good as a 4-feature linear system,\n",
    "at the cost of a little non-linearity (the multiplication). Here's the computation,\n",
    "and the picture, both of which are very simple.  Basically we see that petal area alone\n",
    "is enough to almost perfectly perform the discrimination.  And the insight can easily be made visual."
   ]
  },
  {
   "cell_type": "code",
   "execution_count": 18,
   "metadata": {},
   "outputs": [
    {
     "data": {
      "text/plain": [
       "<matplotlib.text.Text at 0x11db55cd0>"
      ]
     },
     "execution_count": 18,
     "metadata": {},
     "output_type": "execute_result"
    },
    {
     "data": {
      "image/png": "[encoded data removed]",
      "text/plain": [
       "<matplotlib.figure.Figure at 0x11e0c8710>"
      ]
     },
     "metadata": {},
     "output_type": "display_data"
    }
   ],
   "source": [
    "from sklearn.datasets import load_iris\n",
    "from sklearn.metrics import accuracy_score\n",
    "import numpy as np\n",
    "\n",
    "data = load_iris()\n",
    "features = data['data']\n",
    "feature_names = data['feature_names']\n",
    "target = data['target']\n",
    "sepal_area = features[:,0] * features[:,1]\n",
    "petal_area = features[:,2] * features[:,3]\n",
    "\n",
    "for t,marker,c in zip(list(range(3)),\">ox\",\"rgb\"):\n",
    "    plt.scatter(sepal_area[target == t], petal_area[target == t], marker=marker, c=c,s=60) \n",
    "\n",
    "# Let's draw our point P with extra special attention getting large SIZE.\n",
    "p_sepal_area,p_petal_area,p_target  = sepal_area[-90],petal_area[-90],target[-90]\n",
    "marker,clr = \">ox\"[p_target], \"rgb\"[p_target]\n",
    "plt.scatter(p_sepal_area,p_petal_area,marker=marker,c=clr,s=180)\n",
    "\n",
    "# Let;s draw some linear separators, horizontal lines in this case\n",
    "plt.plot(np.arange(0.,40.),np.array([1.8]*40))\n",
    "plt.plot(np.arange(0.,40.),np.array([7.4]*40))\n",
    "plt.axis('tight')\n",
    "plt.xlabel('sepal area')\n",
    "plt.ylabel('petal area')"
   ]
  },
  {
   "cell_type": "markdown",
   "metadata": {},
   "source": [
    "Our accuracy using just petal area os 96%!"
   ]
  },
  {
   "cell_type": "code",
   "execution_count": 19,
   "metadata": {},
   "outputs": [
    {
     "data": {
      "text/plain": [
       "0.95999999999999996"
      ]
     },
     "execution_count": 19,
     "metadata": {},
     "output_type": "execute_result"
    }
   ],
   "source": [
    "# petal_area is a a 1D array (shape (150,))\n",
    "# the Linear Regression learner  wants a 2D array.\n",
    "# np.array([petal_area]) is an 150x1 2D array. \n",
    "# \n",
    "X = np.array([petal_area]).T\n",
    "Y = target\n",
    "\n",
    "logreg = linear_model.LogisticRegression(C=1e5)\n",
    "logreg.fit(X, Y)\n",
    "predicted = logreg.predict(X)\n",
    "accuracy_score(Y,predicted)"
   ]
  },
  {
   "cell_type": "markdown",
   "metadata": {},
   "source": [
    "And our accuracy using both area feature is 97.3%."
   ]
  },
  {
   "cell_type": "code",
   "execution_count": 14,
   "metadata": {},
   "outputs": [
    {
     "data": {
      "text/plain": [
       "array([False, False, False, False, False, False, False, False, False,\n",
       "       False, False, False, False, False, False, False, False, False,\n",
       "       False, False, False, False, False, False, False, False, False,\n",
       "       False, False, False, False, False, False, False, False, False,\n",
       "       False, False, False, False, False, False, False, False, False,\n",
       "       False, False, False, False, False,  True,  True,  True,  True,\n",
       "        True,  True,  True,  True,  True,  True,  True,  True,  True,\n",
       "        True,  True,  True,  True,  True,  True,  True,  True,  True,\n",
       "        True,  True,  True,  True,  True,  True,  True,  True,  True,\n",
       "        True,  True,  True,  True,  True,  True,  True,  True,  True,\n",
       "        True,  True,  True,  True,  True,  True,  True,  True,  True,\n",
       "        True,  True,  True,  True,  True,  True,  True,  True,  True,\n",
       "        True,  True,  True,  True,  True,  True,  True,  True,  True,\n",
       "        True,  True,  True,  True,  True,  True,  True,  True,  True,\n",
       "        True,  True,  True,  True,  True,  True,  True,  True,  True,\n",
       "        True,  True,  True,  True,  True,  True,  True,  True,  True,\n",
       "        True,  True,  True,  True,  True,  True])"
      ]
     },
     "execution_count": 14,
     "metadata": {},
     "output_type": "execute_result"
    }
   ],
   "source": [
    "Y > 0"
   ]
  },
  {
   "cell_type": "code",
   "execution_count": 20,
   "metadata": {},
   "outputs": [
    {
     "data": {
      "text/plain": [
       "0.97333333333333338"
      ]
     },
     "execution_count": 20,
     "metadata": {},
     "output_type": "execute_result"
    }
   ],
   "source": [
    "X = np.array([sepal_area, petal_area]).T\n",
    "Y = target\n",
    "\n",
    "logreg = linear_model.LogisticRegression(C=1e5)\n",
    "logreg.fit(X, Y)\n",
    "predicted = logreg.predict(X)\n",
    "accuracy_score(Y,predicted)"
   ]
  },
  {
   "cell_type": "markdown",
   "metadata": {},
   "source": [
    "And actually using all the old features too helps us creep up toward 99%."
   ]
  },
  {
   "cell_type": "code",
   "execution_count": 21,
   "metadata": {},
   "outputs": [
    {
     "data": {
      "text/plain": [
       "0.98666666666666669"
      ]
     },
     "execution_count": 21,
     "metadata": {},
     "output_type": "execute_result"
    }
   ],
   "source": [
    "X = np.array([sepal_area, petal_area,features[:,0],features[:,1],\n",
    "              features[:,2],features[:,3]]).T\n",
    "Y = target\n",
    "newY = (Y == 0)\n",
    "logreg = linear_model.LogisticRegression(C=1e5)\n",
    "logreg.fit(X, Y)\n",
    "predicted = logreg.predict(X)\n",
    "accuracy_score(Y,predicted)"
   ]
  },
  {
   "cell_type": "code",
   "execution_count": 37,
   "metadata": {},
   "outputs": [
    {
     "data": {
      "text/plain": [
       "'0.19.1'"
      ]
     },
     "execution_count": 37,
     "metadata": {},
     "output_type": "execute_result"
    }
   ],
   "source": [
    "import sklearn\n",
    "sklearn.__version__"
   ]
  },
  {
   "cell_type": "code",
   "execution_count": null,
   "metadata": {
    "collapsed": true
   },
   "outputs": [],
   "source": []
  }
 ],
 "metadata": {
  "kernelspec": {
   "display_name": "Python 3",
   "language": "python",
   "name": "python3"
  },
  "language_info": {
   "codemirror_mode": {
    "name": "ipython",
    "version": 3
   },
   "file_extension": ".py",
   "mimetype": "text/x-python",
   "name": "python",
   "nbconvert_exporter": "python",
   "pygments_lexer": "ipython3",
   "version": "3.6.9"
  },
  "toc": {
   "base_numbering": 1,
   "nav_menu": {
    "height": "171px",
    "width": "253px"
   },
   "number_sections": true,
   "sideBar": true,
   "skip_h1_title": false,
   "title_cell": "Table of Contents",
   "title_sidebar": "Contents",
   "toc_cell": false,
   "toc_position": {},
   "toc_section_display": "block",
   "toc_window_display": false
  }
 },
 "nbformat": 4,
 "nbformat_minor": 1
}
