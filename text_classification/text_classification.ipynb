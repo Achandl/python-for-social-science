{
 "cells": [
  {
   "cell_type": "markdown",
   "metadata": {
    "id": "ky32FlisWReS"
   },
   "source": [
    "# Text classification"
   ]
  },
  {
   "cell_type": "markdown",
   "metadata": {
    "id": "f39v1i3YWReT"
   },
   "source": [
    "## Getting the data"
   ]
  },
  {
   "cell_type": "markdown",
   "metadata": {
    "id": "1JCrViPIWReU"
   },
   "source": [
    "For this notebook you need to have some NLTK `movie reviews` data installed.  First make sure you have nltk installed as a Python module (or the first line in the code block below won't work).  Then install the data as follows:\n",
    "\n",
    "```\n",
    "import nltk\n",
    "nltk.download()\n",
    "```\n",
    "\n",
    "This pops up a separate window.  It has several tabs, one of them labeled `corpora`.  Select that tab and you will see a long alphabetically ordered list of all the corpora `NLTK` supplies.  Scroll down and select `Movie Reviews` and click on `Download`.  This will install that data on your machine, and all the code in this notebook\n",
    "should work."
   ]
  },
  {
   "cell_type": "markdown",
   "metadata": {
    "id": "xRPJbUMnWReU"
   },
   "source": [
    "## Peliminaries:  Code for getting data and extracting features"
   ]
  },
  {
   "cell_type": "code",
   "execution_count": 2,
   "metadata": {
    "id": "rTIdI8yRWReV"
   },
   "outputs": [
    {
     "name": "stderr",
     "output_type": "stream",
     "text": [
      "[nltk_data] Downloading package movie_reviews to\n",
      "[nltk_data]     /Users/gawron/nltk_data...\n",
      "[nltk_data]   Package movie_reviews is already up-to-date!\n"
     ]
    },
    {
     "data": {
      "text/plain": [
       "True"
      ]
     },
     "execution_count": 2,
     "metadata": {},
     "output_type": "execute_result"
    }
   ],
   "source": [
    "import nltk\n",
    "nltk.download('movie_reviews')"
   ]
  },
  {
   "cell_type": "code",
   "execution_count": null,
   "metadata": {
    "id": "xYKLIrUjWReY"
   },
   "outputs": [],
   "source": [
    "\n",
    "def unigram_features (words):\n",
    "    \"\"\" \n",
    "    This is the simplest possible feature representation of a document.\n",
    "    \n",
    "    Each word is a feature.\n",
    "    \"\"\"\n",
    "    return dict((word, True) for word in words)\n",
    "\n",
    "\n",
    "def extract_features (corpus, file_ids, cls, feature_extractor=unigram_features):\n",
    "    \"\"\"\n",
    "    Turn a set of files all belonging to one class into a list\n",
    "    of (feature dictionary, cls) pairs, to be used in testing or training\n",
    "    a classifier.\n",
    "    \"\"\"\n",
    "    return [(feature_extractor(corpus.words(i)), cls) for i in file_ids]\n",
    "\n",
    "\n",
    "def get_words_from_corpus (corpus, file_ids):\n",
    "\n",
    "    for file_id in file_id|s:\n",
    "        words = corpus.words(file_id)\n",
    "        for word in words:\n",
    "            yield word\n",
    "\n"
   ]
  },
  {
   "cell_type": "markdown",
   "metadata": {
    "id": "DshqPdp5WReb"
   },
   "source": [
    "## Loading the data"
   ]
  },
  {
   "cell_type": "markdown",
   "metadata": {
    "id": "Zr_OHiMkWReb"
   },
   "source": [
    "In line 3  of the next cell, we import the NLTK Bo Pang and Lillian Lee's movie reviews corpus.  Line 5 prints some information about the corpus properties; these appear in the output cell.  "
   ]
  },
  {
   "cell_type": "code",
   "execution_count": null,
   "metadata": {
    "id": "x438CcsqWReb"
   },
   "outputs": [],
   "source": [
    "# Using a corpus of movie review data\n",
    "# 2000 positive and negative reviews, evenly balanced.\n",
    "from nltk.corpus import movie_reviews as mr\n",
    "\n",
    "# If you want to read the corpus collectors' introduction to\n",
    "# this corpus, uncomment the next line.\n",
    "#print mr.readme()"
   ]
  },
  {
   "cell_type": "markdown",
   "metadata": {
    "id": "blcT_p-EWRee"
   },
   "source": [
    "The movie review data is packaged up as an NLTK corpus, which \n",
    "gives us access to a number of tools for text handling.  The simplest\n",
    "is that we have two views of the movie review data, word by word and character by character.\n",
    "\n",
    "The character by character view uses the `raw` method, which returns all the data wiht no argument, or just the data from asingle file with a fileid argument:    "
   ]
  },
  {
   "cell_type": "code",
   "execution_count": null,
   "metadata": {
    "id": "X4t6IOjYWRee",
    "outputId": "0e12ace3-dd98-497f-de33-b0dc125223a0"
   },
   "outputs": [
    {
     "name": "stdout",
     "output_type": "stream",
     "text": [
      "films adapted from comic books have had plenty of success , whether they're about superheroes ( batm\n"
     ]
    }
   ],
   "source": [
    "data = dict(pos = mr.fileids('pos'),\n",
    "            neg = mr.fileids('neg'))\n",
    "print mr.raw(data['pos'][0])[:100]"
   ]
  },
  {
   "cell_type": "markdown",
   "metadata": {
    "id": "81Fku7naWReh"
   },
   "source": [
    "The word by word character view uses the `words` method::"
   ]
  },
  {
   "cell_type": "code",
   "execution_count": null,
   "metadata": {
    "id": "6KcUQgugWRei",
    "outputId": "be21bee9-7e34-4e5f-eb2a-2c6a0ed9abc5"
   },
   "outputs": [
    {
     "name": "stdout",
     "output_type": "stream",
     "text": [
      "[u'films', u'adapted', u'from', u'comic', u'books', u'have', u'had', u'plenty', u'of', u'success']\n"
     ]
    }
   ],
   "source": [
    "print mr.words(data['pos'][0])[:10]"
   ]
  },
  {
   "cell_type": "markdown",
   "metadata": {
    "id": "NENMBkDoWRek"
   },
   "source": [
    "We will be using the word by word view."
   ]
  },
  {
   "cell_type": "markdown",
   "metadata": {
    "id": "W5rEzLFdWRel"
   },
   "source": [
    "## Training a classifier"
   ]
  },
  {
   "cell_type": "code",
   "execution_count": null,
   "metadata": {
    "id": "RSZSh5k1WRel"
   },
   "outputs": [],
   "source": [
    "\n",
    "from nltk.corpus import movie_reviews as mr\n",
    "\n",
    "data = dict(pos = mr.fileids('pos'),\n",
    "            neg = mr.fileids('neg'))\n",
    "\n",
    "#######################################################################\n",
    "#\n",
    "#  Dividing up the data\n",
    "#######################################################################\n",
    "\n",
    "# Use 90% of the data for training\n",
    "test_start_index = 900\n",
    "\n",
    "neg_training = extract_features(mr, data['neg'][:test_start_index], 'neg',\n",
    "                                feature_extractor=unigram_features)\n",
    "\n",
    "# Use 10% for testing the classifier on unseen data.\n",
    "neg_test = extract_features(mr, data['neg'][test_start_index:], 'neg',\n",
    "                                feature_extractor=unigram_features)\n",
    "\n",
    "pos_training = extract_features(mr, data['pos'][:test_start_index],'pos',\n",
    "                                feature_extractor=unigram_features)\n",
    "\n",
    "pos_test = extract_features(mr, data['pos'][test_start_index:],'pos',\n",
    "                                feature_extractor=unigram_features)\n",
    "\n",
    "train_set = pos_training + neg_training\n",
    "\n",
    "test_set = pos_test + neg_test"
   ]
  },
  {
   "cell_type": "markdown",
   "metadata": {
    "id": "VygBcntSWReo"
   },
   "source": [
    "Line 2 imports the movie review data from NLTK, and lines 4 and 5 store the two halves of the corpus in a dictionary (positive and negative reviews, 1000 of each).   The commands on \n",
    "the next few lines extract features from the data files, sorting them in pos and negative training and positive and negative test sets.  The training set is 90% of the the data; the test set is 10% of the data.  The feature extractor used is `unigram_features`, the simple feature extractor defined in the first code cell of this notebook.  This feature extractor just uses every word that appears in a document as a feature.  Finally in line 31 the positive and negative training data is combined into a single training set, and in line 36, a Naive Bayes (NB) classifier is trained."
   ]
  },
  {
   "cell_type": "markdown",
   "metadata": {
    "id": "4BODa4bZWReo"
   },
   "source": [
    "In the next cell, we look at an example representation of a movie review.  It is basically just a set, telling us what words occurred in the review, but not how many times they\n",
    "occurred.  In terms of a Python data structure, it's a dictionary whose keys are the words\n",
    "in the document, and whose values are all `True.`  We're not bothering to represent the words\n",
    "that don't occur in the document, so there are no keys whose value are is `False`."
   ]
  },
  {
   "cell_type": "code",
   "execution_count": null,
   "metadata": {
    "id": "ffQ2vKq2WReo",
    "outputId": "470dbe70-98cd-4a6f-8925-c252aad53fb6"
   },
   "outputs": [
    {
     "data": {
      "text/plain": [
       "({u'!': True,\n",
       "  u'%': True,\n",
       "  u\"'\": True,\n",
       "  u'(': True,\n",
       "  u')': True,\n",
       "  u',': True,\n",
       "  u'.': True,\n",
       "  u'100': True,\n",
       "  u'13': True,\n",
       "  u'1912': True,\n",
       "  u'3': True,\n",
       "  u':': True,\n",
       "  u'?': True,\n",
       "  u'a': True,\n",
       "  u'about': True,\n",
       "  u'above': True,\n",
       "  u'accomplished': True,\n",
       "  u'accuracy': True,\n",
       "  u'achieve': True,\n",
       "  u'across': True,\n",
       "  u'acting': True,\n",
       "  u'actually': True,\n",
       "  u'adding': True,\n",
       "  u'adds': True,\n",
       "  u'admirably': True,\n",
       "  u'admired': True,\n",
       "  u'aft': True,\n",
       "  u'ago': True,\n",
       "  u'aims': True,\n",
       "  u'aliens': True,\n",
       "  u'all': True,\n",
       "  u'almost': True,\n",
       "  u'alone': True,\n",
       "  u'already': True,\n",
       "  u'also': True,\n",
       "  u'although': True,\n",
       "  u'amaze': True,\n",
       "  u'amazed': True,\n",
       "  u'america': True,\n",
       "  u'an': True,\n",
       "  u'and': True,\n",
       "  u'anew': True,\n",
       "  u'any': True,\n",
       "  u'anything': True,\n",
       "  u'are': True,\n",
       "  u'aren': True,\n",
       "  u'as': True,\n",
       "  u'ask': True,\n",
       "  u'astonishing': True,\n",
       "  u'at': True,\n",
       "  u'atlantic': True,\n",
       "  u'attention': True,\n",
       "  u'backdrop': True,\n",
       "  u'be': True,\n",
       "  u'beautifully': True,\n",
       "  u'because': True,\n",
       "  u'been': True,\n",
       "  u'beginning': True,\n",
       "  u'behind': True,\n",
       "  u'best': True,\n",
       "  u'better': True,\n",
       "  u'bit': True,\n",
       "  u'boats': True,\n",
       "  u'bored': True,\n",
       "  u'both': True,\n",
       "  u'brand': True,\n",
       "  u'brings': True,\n",
       "  u'brining': True,\n",
       "  u'brought': True,\n",
       "  u'build': True,\n",
       "  u'built': True,\n",
       "  u'bukater': True,\n",
       "  u'but': True,\n",
       "  u'by': True,\n",
       "  u'cameron': True,\n",
       "  u'cannot': True,\n",
       "  u'cant': True,\n",
       "  u'captivating': True,\n",
       "  u'cast': True,\n",
       "  u'casting': True,\n",
       "  u'certain': True,\n",
       "  u'chance': True,\n",
       "  u'character': True,\n",
       "  u'characters': True,\n",
       "  u'chemistry': True,\n",
       "  u'class': True,\n",
       "  u'climbs': True,\n",
       "  u'commentary': True,\n",
       "  u'correctly': True,\n",
       "  u'costumes': True,\n",
       "  u'could': True,\n",
       "  u'dawson': True,\n",
       "  u'death': True,\n",
       "  u'degree': True,\n",
       "  u'detail': True,\n",
       "  u'dewitt': True,\n",
       "  u'dicaprip': True,\n",
       "  u'docks': True,\n",
       "  u'does': True,\n",
       "  u'done': True,\n",
       "  u'during': True,\n",
       "  u'effect': True,\n",
       "  u'effective': True,\n",
       "  u'effects': True,\n",
       "  u'either': True,\n",
       "  u'emotional': True,\n",
       "  u'emotions': True,\n",
       "  u'end': True,\n",
       "  u'ending': True,\n",
       "  u'enough': True,\n",
       "  u'even': True,\n",
       "  u'event': True,\n",
       "  u'everything': True,\n",
       "  u'extremely': True,\n",
       "  u'eyes': True,\n",
       "  u'fact': True,\n",
       "  u'fairly': True,\n",
       "  u'feat': True,\n",
       "  u'feats': True,\n",
       "  u'few': True,\n",
       "  u'film': True,\n",
       "  u'finally': True,\n",
       "  u'first': True,\n",
       "  u'flavor': True,\n",
       "  u'footage': True,\n",
       "  u'for': True,\n",
       "  u'forgotten': True,\n",
       "  u'forth': True,\n",
       "  u'frequency': True,\n",
       "  u'from': True,\n",
       "  u'full': True,\n",
       "  u'get': True,\n",
       "  u'getting': True,\n",
       "  u'go': True,\n",
       "  u'good': True,\n",
       "  u'grandiose': True,\n",
       "  u'grasp': True,\n",
       "  u'great': True,\n",
       "  u'had': True,\n",
       "  u'happened': True,\n",
       "  u'happening': True,\n",
       "  u'happens': True,\n",
       "  u'have': True,\n",
       "  u'her': True,\n",
       "  u'high': True,\n",
       "  u'highly': True,\n",
       "  u'historical': True,\n",
       "  u'hollywood': True,\n",
       "  u'home': True,\n",
       "  u'honestly': True,\n",
       "  u'hours': True,\n",
       "  u'house': True,\n",
       "  u'how': True,\n",
       "  u'humans': True,\n",
       "  u'humble': True,\n",
       "  u'i': True,\n",
       "  u'if': True,\n",
       "  u'imagination': True,\n",
       "  u'in': True,\n",
       "  u'interesting': True,\n",
       "  u'intrigue': True,\n",
       "  u'is': True,\n",
       "  u'it': True,\n",
       "  u'its': True,\n",
       "  u'itself': True,\n",
       "  u'jack': True,\n",
       "  u'jumping': True,\n",
       "  u'just': True,\n",
       "  u'kate': True,\n",
       "  u'largest': True,\n",
       "  u'least': True,\n",
       "  u'leave': True,\n",
       "  u'leaving': True,\n",
       "  u'leonardo': True,\n",
       "  u'less': True,\n",
       "  u'life': True,\n",
       "  u'lightly': True,\n",
       "  u'like': True,\n",
       "  u'likely': True,\n",
       "  u'literal': True,\n",
       "  u'looking': True,\n",
       "  u'lucky': True,\n",
       "  u'luxuries': True,\n",
       "  u'luxurious': True,\n",
       "  u'magical': True,\n",
       "  u'maiden': True,\n",
       "  u'main': True,\n",
       "  u'makes': True,\n",
       "  u'many': True,\n",
       "  u'marveled': True,\n",
       "  u'marvelous': True,\n",
       "  u'match': True,\n",
       "  u'maybe': True,\n",
       "  u'memorably': True,\n",
       "  u'men': True,\n",
       "  u'mentioned': True,\n",
       "  u'method': True,\n",
       "  u'might': True,\n",
       "  u'minutes': True,\n",
       "  u'money': True,\n",
       "  u'monsters': True,\n",
       "  u'more': True,\n",
       "  u'most': True,\n",
       "  u'movie': True,\n",
       "  u'movies': True,\n",
       "  u'mr': True,\n",
       "  u'much': True,\n",
       "  u'my': True,\n",
       "  u'new': True,\n",
       "  u'no': True,\n",
       "  u'nominations': True,\n",
       "  u'none': True,\n",
       "  u'nor': True,\n",
       "  u'not': True,\n",
       "  u'now': True,\n",
       "  u'occurred': True,\n",
       "  u'of': True,\n",
       "  u'on': True,\n",
       "  u'one': True,\n",
       "  u'opinion': True,\n",
       "  u'or': True,\n",
       "  u'other': True,\n",
       "  u'out': True,\n",
       "  u'oversized': True,\n",
       "  u'own': True,\n",
       "  u'paid': True,\n",
       "  u'part': True,\n",
       "  u'passenger': True,\n",
       "  u'people': True,\n",
       "  u'performances': True,\n",
       "  u'place': True,\n",
       "  u'played': True,\n",
       "  u'poker': True,\n",
       "  u'premise': True,\n",
       "  u'produce': True,\n",
       "  u'produced': True,\n",
       "  u'production': True,\n",
       "  u'productions': True,\n",
       "  u'project': True,\n",
       "  u'pull': True,\n",
       "  u'punch': True,\n",
       "  u'put': True,\n",
       "  u'quickly': True,\n",
       "  u'quite': True,\n",
       "  u'railings': True,\n",
       "  u'range': True,\n",
       "  u'ranks': True,\n",
       "  u'read': True,\n",
       "  u'realisticaly': True,\n",
       "  u'really': True,\n",
       "  u'receive': True,\n",
       "  u'regardless': True,\n",
       "  u'remarkable': True,\n",
       "  u'rendered': True,\n",
       "  u'respects': True,\n",
       "  u'review': True,\n",
       "  u'right': True,\n",
       "  u'roles': True,\n",
       "  u'romance': True,\n",
       "  u'rose': True,\n",
       "  u's': True,\n",
       "  u'sail': True,\n",
       "  u'sailors': True,\n",
       "  u'sake': True,\n",
       "  u'savings': True,\n",
       "  u'say': True,\n",
       "  u'scenes': True,\n",
       "  u'see': True,\n",
       "  u'seeing': True,\n",
       "  u'seem': True,\n",
       "  u'seems': True,\n",
       "  u'sense': True,\n",
       "  u'serves': True,\n",
       "  u'set': True,\n",
       "  u'she': True,\n",
       "  u'sheer': True,\n",
       "  u'ship': True,\n",
       "  u'ships': True,\n",
       "  u'should': True,\n",
       "  u'showing': True,\n",
       "  u'shows': True,\n",
       "  u'simple': True,\n",
       "  u'simply': True,\n",
       "  u'since': True,\n",
       "  u'sink': True,\n",
       "  u'sinking': True,\n",
       "  u'size': True,\n",
       "  u'smashingly': True,\n",
       "  u'so': True,\n",
       "  u'some': True,\n",
       "  u'something': True,\n",
       "  u'spare': True,\n",
       "  u'special': True,\n",
       "  u'specifications': True,\n",
       "  u'spectacular': True,\n",
       "  u'spent': True,\n",
       "  u'spoil': True,\n",
       "  u'stars': True,\n",
       "  u'start': True,\n",
       "  u'started': True,\n",
       "  u'still': True,\n",
       "  u'story': True,\n",
       "  u'stranger': True,\n",
       "  u'style': True,\n",
       "  u'successful': True,\n",
       "  u'such': True,\n",
       "  u't': True,\n",
       "  u'taken': True,\n",
       "  u'tale': True,\n",
       "  u'tears': True,\n",
       "  u'technical': True,\n",
       "  u'tell': True,\n",
       "  u'telling': True,\n",
       "  u'that': True,\n",
       "  u'the': True,\n",
       "  u'theater': True,\n",
       "  u'their': True,\n",
       "  u'then': True,\n",
       "  u'there': True,\n",
       "  u'they': True,\n",
       "  u'think': True,\n",
       "  u'this': True,\n",
       "  u'thoughts': True,\n",
       "  u'thus': True,\n",
       "  u'ticket': True,\n",
       "  u'time': True,\n",
       "  u'titanic': True,\n",
       "  u'to': True,\n",
       "  u'too': True,\n",
       "  u'took': True,\n",
       "  u'totally': True,\n",
       "  u'tragedy': True,\n",
       "  u'tragic': True,\n",
       "  u'trip': True,\n",
       "  u'trivia': True,\n",
       "  u'undertaken': True,\n",
       "  u'unfortunately': True,\n",
       "  u'unique': True,\n",
       "  u'unsinkable': True,\n",
       "  u'upper': True,\n",
       "  u'value': True,\n",
       "  u'very': True,\n",
       "  u'voyage': True,\n",
       "  u'wane': True,\n",
       "  u'was': True,\n",
       "  u'watched': True,\n",
       "  u'watching': True,\n",
       "  u'way': True,\n",
       "  u'well': True,\n",
       "  u'went': True,\n",
       "  u'were': True,\n",
       "  u'what': True,\n",
       "  u'whole': True,\n",
       "  u'will': True,\n",
       "  u'winslet': True,\n",
       "  u'with': True,\n",
       "  u'wizardry': True,\n",
       "  u'wizards': True,\n",
       "  u'wont': True,\n",
       "  u'world': True,\n",
       "  u'worth': True,\n",
       "  u'wreck': True,\n",
       "  u'years': True,\n",
       "  u'yes': True,\n",
       "  u'you': True,\n",
       "  u'your': True},\n",
       " 'pos')"
      ]
     },
     "execution_count": 10,
     "metadata": {
      "tags": []
     },
     "output_type": "execute_result"
    }
   ],
   "source": [
    "test_set[0]"
   ]
  },
  {
   "cell_type": "code",
   "execution_count": null,
   "metadata": {
    "id": "jI7FxVN1WRer",
    "outputId": "0fb07fd8-c7f3-4122-8548-b68c024730dc"
   },
   "outputs": [
    {
     "data": {
      "text/plain": [
       "1000"
      ]
     },
     "execution_count": 8,
     "metadata": {
      "tags": []
     },
     "output_type": "execute_result"
    }
   ],
   "source": [
    "len(data['neg'])"
   ]
  },
  {
   "cell_type": "markdown",
   "metadata": {
    "id": "mL6vti_1WRet"
   },
   "source": [
    "We have now split the data into two unequal haves, each with positive and negative examples, and called the larger half `train_set` and the smaller half `test_set`.\n",
    "\n",
    "Next we **train** the classifier by giving it the training set."
   ]
  },
  {
   "cell_type": "code",
   "execution_count": null,
   "metadata": {
    "id": "yi_syKb6WReu"
   },
   "outputs": [],
   "source": [
    "# Use a Naive Bayes Classifier\n",
    "from nltk.classify import NaiveBayesClassifier\n",
    "\n",
    "#  Train a classifier on our training data.\n",
    "classifier = NaiveBayesClassifier.train(train_set)"
   ]
  },
  {
   "cell_type": "markdown",
   "metadata": {
    "id": "P9JyfZlvWRew"
   },
   "source": [
    "## A demonstration"
   ]
  },
  {
   "cell_type": "markdown",
   "metadata": {
    "id": "RhBBH9rdWRew"
   },
   "source": [
    "In the next code cell, we demonstrate what the classifier does on the first reviews in the the positive and negative training set.  The output window shows that both reviews are correctly classified by the NB classifier we just trained.\n",
    "\n",
    "First, we pick a review."
   ]
  },
  {
   "cell_type": "code",
   "execution_count": null,
   "metadata": {
    "id": "EDKxkOaMWRex",
    "outputId": "aa2e4fd9-1981-4e0d-a26d-cee6805c62f7",
    "scrolled": true
   },
   "outputs": [
    {
     "name": "stdout",
     "output_type": "stream",
     "text": [
      "films adapted from comic books have had plenty of success , whether they ' re about superheroes ( batman , superman , spawn ) , or geared toward kids ( casper ) or the arthouse crowd ( ghost world ) , but there ' s never really been a comic book like from hell before . for starters , it was created by alan moore ( and eddie campbell ) , who brought the medium to a whole new level in the mid ' 80s with a 12 - part series called the watchmen .\n",
      "     . . . . . . \n",
      ", but cinematographer peter deming ( don ' t say a word ) ably captures the dreariness of victorian - era london and helped make the flashy killing scenes remind me of the crazy flashbacks in twin peaks , even though the violence in the film pales in comparison to that in the black - and - white comic . oscar winner martin childs ' ( shakespeare in love ) production design turns the original prague surroundings into one creepy place . even the acting in from hell is solid , with the dreamy depp turning in a typically strong performance and deftly handling a british accent . ians holm ( joe gould ' s secret ) and richardson ( 102 dalmatians ) log in great supporting roles , but the big surprise here is graham . i cringed the first time she opened her mouth , imagining her attempt at an irish accent , but it actually wasn ' t half bad . the film , however , is all good . 2 : 00 - r for strong violence / gore , sexuality , language and drug content\n"
     ]
    }
   ],
   "source": [
    "def get_review_text (clf,file_id,start=0,end=None):\n",
    "    words = list(mr.words(data[clf][file_id]))\n",
    "    return ' '.join(words[start:end])\n",
    "\n",
    "print get_review_text('pos',0,end=95)\n",
    "\n",
    "print '     . . . . . . '\n",
    "\n",
    "print get_review_text('pos',0,start=-190)"
   ]
  },
  {
   "cell_type": "markdown",
   "metadata": {
    "id": "ukaDhEcLWRez"
   },
   "source": [
    "Reading this makes it clear why movie reviews are hard, especially with the approach we're taking;  each word is treated as an independent feature whose presence increases or decreases the probability the review is positive. Overall it's positive review but it's not easy finding single words that might give us good evidence of that,\n",
    "and there are words that probably point the other way as well:\n",
    "\n",
    "```\n",
    "Pos         Neg\n",
    "-----------------\n",
    "ably      dreariness\n",
    "flashy    violence\n",
    "surprise  bad\n",
    "strong    creepy\n",
    "deftly    cringed\n",
    "good\n",
    "oscar\n",
    "winner\n",
    "great\n",
    "```\n",
    "\n",
    "Nevertheless, let's trry this out and see how we do."
   ]
  },
  {
   "cell_type": "code",
   "execution_count": null,
   "metadata": {
    "id": "ZxJV6WrxWRe0",
    "outputId": "92d7dd1a-9895-49e6-944f-56393ecf1868"
   },
   "outputs": [
    {
     "name": "stdout",
     "output_type": "stream",
     "text": [
      "Predicted: pos Actual: pos\n"
     ]
    }
   ],
   "source": [
    "predicted_label0 = classifier.classify(pos_test[0][0])\n",
    "\n",
    "print 'Predicted: %s Actual: pos' % (predicted_label0,)"
   ]
  },
  {
   "cell_type": "markdown",
   "metadata": {
    "id": "B9hSIgb8WRe2"
   },
   "source": [
    "We got it right!  Let's try a negative review."
   ]
  },
  {
   "cell_type": "code",
   "execution_count": null,
   "metadata": {
    "id": "QfnEMTiIWRe3",
    "outputId": "6d78a961-6f93-40dd-c7f6-0a8a53a3715f"
   },
   "outputs": [
    {
     "name": "stdout",
     "output_type": "stream",
     "text": [
      "Predicted: neg Actual: neg\n"
     ]
    }
   ],
   "source": [
    "predicted_label1 = classifier.classify(neg_test[0][0])\n",
    "\n",
    "print 'Predicted: %s Actual: neg' % (predicted_label1,)\n",
    "\n",
    "# To see the the feature dictionary passed in to the classifier,\n",
    "# uncomment the next line\n",
    "#pos_test[0][0]"
   ]
  },
  {
   "cell_type": "markdown",
   "metadata": {
    "id": "Zo0XePzZWRe5"
   },
   "source": [
    "Right again!\n",
    "\n",
    "Let's try the examples we cooked up before.  We need go to from\n",
    "a string like `\"Inception is the best movie ever\"` to a feature dictionary\n",
    "and pass that to the classifier.\n"
   ]
  },
  {
   "cell_type": "code",
   "execution_count": null,
   "metadata": {
    "id": "KT4jG752WRe5",
    "outputId": "188188e2-eb9b-4c19-8b95-e2cf00b9012b"
   },
   "outputs": [
    {
     "data": {
      "text/plain": [
       "'pos'"
      ]
     },
     "execution_count": 16,
     "metadata": {
      "tags": []
     },
     "output_type": "execute_result"
    }
   ],
   "source": [
    "classifier.classify(unigram_features('Inception is the best movie ever'.split()))"
   ]
  },
  {
   "cell_type": "code",
   "execution_count": null,
   "metadata": {
    "id": "1XU8ISKsWRe8",
    "outputId": "f3af1442-e43a-460f-b6bd-3c62fa6190e6"
   },
   "outputs": [
    {
     "data": {
      "text/plain": [
       "'neg'"
      ]
     },
     "execution_count": 17,
     "metadata": {
      "tags": []
     },
     "output_type": "execute_result"
    }
   ],
   "source": [
    "classifier.classify(unigram_features(\"I don't know how anyone could sit through Inception\".split()))"
   ]
  },
  {
   "cell_type": "markdown",
   "metadata": {
    "id": "NovA6dlnWRe-"
   },
   "source": [
    "Interesting.  We may get some insight on this one below."
   ]
  },
  {
   "cell_type": "markdown",
   "metadata": {
    "id": "zwC72TWrWRe-"
   },
   "source": [
    "## Most informative features"
   ]
  },
  {
   "cell_type": "markdown",
   "metadata": {
    "id": "Z-5AE_O9WRe_"
   },
   "source": [
    "Heres what our classifier learned.  These are the features for which the ratio of the positive to negative probability (or vice versa) is the highest."
   ]
  },
  {
   "cell_type": "code",
   "execution_count": null,
   "metadata": {
    "id": "oOt1ifK0WRe_",
    "outputId": "d9b04125-89dd-454d-e6d3-5dbb8b73a423"
   },
   "outputs": [
    {
     "name": "stdout",
     "output_type": "stream",
     "text": [
      "Most Informative Features\n",
      "             outstanding = True              pos : neg    =     15.6 : 1.0\n",
      "               ludicrous = True              neg : pos    =     14.2 : 1.0\n",
      "              astounding = True              pos : neg    =     12.3 : 1.0\n",
      "                  avoids = True              pos : neg    =     12.3 : 1.0\n",
      "                 idiotic = True              neg : pos    =     11.8 : 1.0\n",
      "               atrocious = True              neg : pos    =     11.7 : 1.0\n",
      "             fascination = True              pos : neg    =     11.0 : 1.0\n",
      "                 offbeat = True              pos : neg    =     11.0 : 1.0\n",
      "               animators = True              pos : neg    =     10.3 : 1.0\n",
      "                  symbol = True              pos : neg    =     10.3 : 1.0\n"
     ]
    }
   ],
   "source": [
    "\n",
    "classifier.show_most_informative_features()\n"
   ]
  },
  {
   "cell_type": "markdown",
   "metadata": {
    "id": "s_dFiG5XWRfB"
   },
   "source": [
    "We have more features showing up as good indicators of  favorable review, and this is an indicator of a problem with our classifier.  As we'll see below.  the classifier is a little too reluctant to classify reviews as negative on the test set.  This suggests that reliable negative indicators are not that common."
   ]
  },
  {
   "cell_type": "markdown",
   "metadata": {
    "id": "kMJ-42ljWRfC"
   },
   "source": [
    "## Serious testing"
   ]
  },
  {
   "cell_type": "markdown",
   "metadata": {
    "id": "ZiW8xAqzWRfC"
   },
   "source": [
    "\n",
    "\n",
    "![venn_pic.png](data:image/png;base64,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)\n",
    "\n",
    "\n",
    "The image above represents a typical classification situation.  The circle labeled T contains the true instances of the class (the set of favorable movie reviews).  The circle labeled P represents the **system positives**, the reviews the classifier has **called** favorable.  The two circles divide the picture into four regions.  The overlap of the two circles represents the favorable reviews the classifier got right, the **true positives**.  The area outside both circles represents another set the classifier got right, unfavorable reviews that were classified as unfavorable.  These are **true negatives**.  The two areas inside the circles but outside the overlap represent cases the system got wrong, P but not T, unfavorable reviews that were mistakenly classified as favorable (**false positives**), and T but not P,favorable reviews that were mistakenly classified as unfavorable (**false negatives**).\n",
    "\n",
    "The next cell defines some code for evaluating classifier output using these four classes of system outcome.   The evaluation metrics defined are **precision, recall, and accuracy**.  Let N be the size of the dataset, $tp$ and $fp$ be true and false positive respectively and $tn$ and $fn$ be true and false negatives respective.  \n",
    " Precision is the percentage of true positives out all positive guesses the system made $\\left(\\frac{tp}{tp + fp}\\right)$, in other words the ratio of the size of the overlap of the two circles to the size of the P circle.\n",
    "Precison = the proportion of the positives that are correct.  \n",
    " \n",
    " Recall is  the ratio of the size of the overlap of the two circles to the size of the T circle, in other words the percentage of true positives out of all favorable reviews $\\left(\\frac{tp}{tp + fn}\\right)$.\n",
    "\n",
    "Accuracy is the percentage of correct answers out of the total set of answers $\\left(\\frac{tp+tn}{N}\\right)$, in other words the ration"
   ]
  },
  {
   "cell_type": "code",
   "execution_count": null,
   "metadata": {
    "id": "4T1_PjEJWRfD"
   },
   "outputs": [],
   "source": [
    "from sklearn.metrics import precision_score, recall_score,accuracy_score\n",
    "\n",
    "def do_evaluation (pairs, pos_label='pos', verbose=True):\n",
    "    predicted, actual = zip(*pairs)\n",
    "    (precision, recall,accuracy) = (precision_score(actual,predicted,pos_label=pos_label), \n",
    "                                    recall_score(actual,predicted,pos_label=pos_label),\n",
    "                                    accuracy_score(actual,predicted))\n",
    "    if verbose:\n",
    "        print_results(precision, recall, accuracy, pos_label)\n",
    "    return (precision, recall,accuracy)\n",
    "\n",
    "def print_results (precision, recall, accuracy, pos_label):\n",
    "    banner =  'Evaluation with pos label = %s' % pos_label\n",
    "    print()\n",
    "    print (banner)\n",
    "    print ('=' * len(banner))\n",
    "    print ('{0:10s} {1:.1f}'.format('Precision',precision*100))\n",
    "    print ('{0:10s} {1:.1f}'.format('Recall',recall*100))\n",
    "    print ('{0:10s} {1:.1f}'.format('Accuracy',accuracy*100))\n"
   ]
  },
  {
   "cell_type": "markdown",
   "metadata": {
    "id": "iFaekxfyWRfF"
   },
   "source": [
    "The code in the next cell actually tests our NB classifier on the entire test set and prints out the result.  Note that precision and recall give different results depending on which  class we think of ourselves as detecting (which class we think of as \"positive\").  Using the same labels for the region in the diagram as before,  recall for detecting unfavorable reviews is $\\left(\\frac{tn}{tn + fp}\\right)$.  This is sometimes called **specificity**; precision at detecting unfavorable reviews  is $\\left(\\frac{tn}{tn + fn}\\right)$, and is sometimes called. **negative predictive value**.\n",
    "\n",
    "We show specificity and negative predictive value below (under \"pos lebvale = neg\").  The low specificity value  shows that our classifier actually misses a number of  unfavorable reviews because it misclassifies them as favorable (recall of favorable high, recall of unfavorable low).  In sum, its high recall number when `pos_cls = pos` needs to be taken with a grain of salt, because it achieves high recall by guessing positive a lot of the time.\n",
    "In fact, it guesses positive 74% of the time, even though it was trained on data that was 50% positive and 50% negative.\n",
    "\n",
    "This fact make it even more interesting that we correctly classified\n",
    "\n",
    "```\n",
    "I don't know how anyone could sit through Inception.\n",
    "```\n",
    "\n",
    "as negative.  In fact it turns out 'sit' is just a pretty good indicator of a negative review. It occurs 79 times in our set of 1000 negative reviews, quite often followed by 'through'.  This tells us something important.  Our intuitions aren't always good at finding good features.\n",
    "\n",
    "So why does our classifier guess positive so often?  Well, probably because it had more success finding strong positive indicators than it did finding strong negative indicators, as our glance at the most informative features suggested.  This is something we might want to worry about as we design good classifiers."
   ]
  },
  {
   "cell_type": "code",
   "execution_count": null,
   "metadata": {
    "id": "spQ7ifrEWRfF",
    "outputId": "92cdc6a1-3626-41b8-880e-d0675dae9c92"
   },
   "outputs": [
    {
     "name": "stdout",
     "output_type": "stream",
     "text": [
      "\n",
      "Evaluation with pos label = pos\n",
      "===============================\n",
      "Precision  65.5\n",
      "Recall     97.0\n",
      "Accuracy   73.0\n",
      "\n",
      "Evaluation with pos label = neg\n",
      "===============================\n",
      "Precision  94.2\n",
      "Recall     49.0\n",
      "Accuracy   73.0\n",
      "Note that 74.0% of our classifier guesses were positive\n",
      "While 50.0% of the reviews were actually positive\n"
     ]
    }
   ],
   "source": [
    "pairs = [(classifier.classify(example), actual)\n",
    "            for (example, actual) in test_set]\n",
    "\n",
    "do_evaluation (pairs)\n",
    "pos_guesses = [p for (p,a) in pairs if p=='pos']\n",
    "pos_actual = [a for (p,a) in pairs if a=='pos']\n",
    "do_evaluation (pairs, pos_label='neg')\n",
    "print 'Note that {:.1%} of our classifier guesses were positive'.format(float(len(pos_guesses))/len(pairs))\n",
    "print 'While {:.1%} of the reviews were actually positive'.format(float(len(pos_actual))/len(pairs))\n",
    "# to see the actual pairs that came out of the test uncomment the next line\n",
    "#pairs"
   ]
  },
  {
   "cell_type": "markdown",
   "metadata": {
    "id": "Plkoib9EWRfI"
   },
   "source": [
    "## SVM Classifier"
   ]
  },
  {
   "cell_type": "markdown",
   "metadata": {
    "id": "NehN4nQJWRfJ"
   },
   "source": [
    "We'll also try a **Support Vector Machine** classifier on the movie review data, both to illustrate a different learning model and to illustrate a somewhat different set of machine learning tools than those in NLTK.\n",
    "\n",
    "Since we're not taking advantage of NLTK's code for handling its own data this time, the script below is a little closer to what you would actually end up doing with \"raw\" labeled data that you had downloaded from the web or some other data source. It still skips an important step called **Tokenization** which we defer for now, because this data has already been tokenized."
   ]
  },
  {
   "cell_type": "code",
   "execution_count": null,
   "metadata": {
    "id": "TbnNsn3hWRfJ",
    "outputId": "7a5f6c86-936f-4056-a21f-dc8d94ae0cbb"
   },
   "outputs": [
    {
     "name": "stdout",
     "output_type": "stream",
     "text": [
      "Note that 48.5% of our classifier guesses were positive\n",
      "While 50.0% of the reviews were actually positive\n",
      "\n",
      "Evaluation with pos label = pos\n",
      "===============================\n",
      "Precision  90.7\n",
      "Recall     88.0\n",
      "Accuracy   89.5\n",
      "\n",
      "Evaluation with pos label = neg\n",
      "===============================\n",
      "Precision  88.3\n",
      "Recall     91.0\n",
      "Accuracy   89.5\n"
     ]
    },
    {
     "data": {
      "text/plain": [
       "(0.88349514563106801, 0.91000000000000003, 0.89500000000000002)"
      ]
     },
     "execution_count": 5,
     "metadata": {
      "tags": []
     },
     "output_type": "execute_result"
    }
   ],
   "source": [
    "from sklearn.feature_extraction.text import TfidfVectorizer\n",
    "from sklearn.svm import LinearSVC\n",
    "\n",
    "import os.path\n",
    "\n",
    "def add_data_from_files (file_list,data_list):\n",
    "    for f in file_list:\n",
    "        with open(f,'r') as fh:\n",
    "            data_list.append(fh.read())\n",
    "\n",
    "home = os.getenv('HOME')  \n",
    "# This is where MY NLTK data is.  Yours should be in a similar place relative\n",
    "# to what your machine thinks is HOME.\n",
    "data_dir = os.path.join(home,'nltk_data/corpora/movie_reviews/')\n",
    "\n",
    "clses = ['pos','neg']\n",
    "\n",
    "#  The data is in the data_dir, sorted into subdirectories, one for each class.\n",
    "data_dirs = [os.path.join(data_dir,cls) for cls in clses]\n",
    "#  We use a somewhat more traditional feature weights, called TFIDF weights\n",
    "vectorizer = TfidfVectorizer(sublinear_tf=True, max_df=0.5,\n",
    "                                    stop_words='english')\n",
    "\n",
    "# We're going to compute 4 lists training data and labels, test data a nd labels\n",
    "train_labels = []\n",
    "test_labels = []\n",
    "\n",
    "train_data = []\n",
    "test_data = []\n",
    "training_proportion = (9,10)\n",
    "for i,cls  in enumerate(clses):\n",
    "    d_dir = data_dirs[i]\n",
    "    os.chdir(d_dir)\n",
    "    cls_files = os.listdir(d_dir)\n",
    "    num_cls_files = len(cls_files)\n",
    "    training_index = (training_proportion[0] *(num_cls_files/training_proportion[1]))\n",
    "    train_labels.extend(cls for f in cls_files[:training_index])\n",
    "    test_labels.extend(cls for f in cls_files[training_index:])\n",
    "    add_data_from_files (cls_files[:training_index],train_data)\n",
    "    add_data_from_files (cls_files[training_index:],test_data)\n",
    "\n",
    "# Now with data set represented as a list of strings (one from each file),\n",
    "# extract the TFIDF features\n",
    "train_features = vectorizer.fit_transform(train_data)\n",
    "\n",
    "#  We extract features from the test data using the same vectorizer\n",
    "#  trained on training data. The TFIDF feature model has been fit to \n",
    "#  (depends only on) the training data.\n",
    "test_features = vectorizer.transform(test_data)\n",
    "\n",
    "# Create an SVM classifier instance\n",
    "clf = LinearSVC(loss='squared_hinge', penalty=\"l2\",\n",
    "                dual=False, tol=1e-3)\n",
    "\n",
    "# Train (or \"fit\") the model to the training data.\n",
    "clf.fit(train_features, train_labels)\n",
    "\n",
    "# Test the model on the test data.\n",
    "predicted_labels = clf.predict(test_features)\n",
    "\n",
    "# Evaluate the results\n",
    "pos_guesses = [p for p in predicted_labels if p=='pos']\n",
    "pos_actual = [p for p in test_labels if p=='pos']\n",
    "print 'Note that {:.1%} of our classifier guesses were positive'.format(float(len(pos_guesses))/len(test_labels))\n",
    "print 'While {:.1%} of the reviews were actually positive'.format(float(len(pos_actual))/len(test_labels))\n",
    "do_evaluation (zip(predicted_labels,test_labels), pos_label='pos', verbose=True)\n",
    "do_evaluation (zip(predicted_labels,test_labels), pos_label= 'neg', verbose=True)"
   ]
  },
  {
   "cell_type": "markdown",
   "metadata": {
    "id": "Ed5iAXZoWRfL"
   },
   "source": [
    "Notice our positive label recall actually went down a bit, but as the accuracy shows, it's a much better classifier.  The average of precision and recall is much higher.  And notice the percentage of positive guesses is much closer to the actual percentage in the data."
   ]
  },
  {
   "cell_type": "code",
   "execution_count": null,
   "metadata": {
    "id": "it1tRg9QWRfM",
    "outputId": "5f349f84-de14-4453-98e7-a01496628eb8"
   },
   "outputs": [
    {
     "data": {
      "text/plain": [
       "LinearSVC(C=1.0, class_weight=None, dual=False, fit_intercept=True,\n",
       "     intercept_scaling=1, loss='squared_hinge', max_iter=1000,\n",
       "     multi_class='ovr', penalty='l2', random_state=None, tol=0.001,\n",
       "     verbose=0)"
      ]
     },
     "execution_count": 7,
     "metadata": {
      "tags": []
     },
     "output_type": "execute_result"
    }
   ],
   "source": [
    "clf"
   ]
  },
  {
   "cell_type": "code",
   "execution_count": null,
   "metadata": {
    "id": "i6dsfr_4WRfO",
    "outputId": "413abd81-2e33-4df9-b65e-c161a5e5f89b"
   },
   "outputs": [
    {
     "data": {
      "text/plain": [
       "['C',\n",
       " '__class__',\n",
       " '__delattr__',\n",
       " '__dict__',\n",
       " '__doc__',\n",
       " '__format__',\n",
       " '__getattribute__',\n",
       " '__hash__',\n",
       " '__init__',\n",
       " '__module__',\n",
       " '__new__',\n",
       " '__reduce__',\n",
       " '__reduce_ex__',\n",
       " '__repr__',\n",
       " '__setattr__',\n",
       " '__sizeof__',\n",
       " '__str__',\n",
       " '__subclasshook__',\n",
       " '__weakref__',\n",
       " '_estimator_type',\n",
       " '_get_param_names',\n",
       " '_predict_proba_lr',\n",
       " 'class_weight',\n",
       " 'classes_',\n",
       " 'coef_',\n",
       " 'decision_function',\n",
       " 'densify',\n",
       " 'dual',\n",
       " 'fit',\n",
       " 'fit_intercept',\n",
       " 'fit_transform',\n",
       " 'get_params',\n",
       " 'intercept_',\n",
       " 'intercept_scaling',\n",
       " 'loss',\n",
       " 'max_iter',\n",
       " 'multi_class',\n",
       " 'n_iter_',\n",
       " 'penalty',\n",
       " 'predict',\n",
       " 'random_state',\n",
       " 'score',\n",
       " 'set_params',\n",
       " 'sparsify',\n",
       " 'tol',\n",
       " 'transform',\n",
       " 'verbose']"
      ]
     },
     "execution_count": 10,
     "metadata": {
      "tags": []
     },
     "output_type": "execute_result"
    }
   ],
   "source": [
    "dir(clf)"
   ]
  },
  {
   "cell_type": "code",
   "execution_count": null,
   "metadata": {
    "id": "EWcteH1OWRfQ",
    "outputId": "863b223e-6438-4f6d-8e35-a1c9ae1bbb4f"
   },
   "outputs": [
    {
     "data": {
      "text/plain": [
       "37674"
      ]
     },
     "execution_count": 12,
     "metadata": {
      "tags": []
     },
     "output_type": "execute_result"
    }
   ],
   "source": [
    "len(clf.coef_[0])"
   ]
  },
  {
   "cell_type": "code",
   "execution_count": null,
   "metadata": {
    "id": "7SDeEyIQWRfS"
   },
   "outputs": [],
   "source": []
  }
 ],
 "metadata": {
  "colab": {
   "collapsed_sections": [],
   "name": "text_classification.ipynb",
   "provenance": []
  },
  "kernelspec": {
   "display_name": "Python 3",
   "language": "python",
   "name": "python3"
  },
  "language_info": {
   "codemirror_mode": {
    "name": "ipython",
    "version": 3
   },
   "file_extension": ".py",
   "mimetype": "text/x-python",
   "name": "python",
   "nbconvert_exporter": "python",
   "pygments_lexer": "ipython3",
   "version": "3.8.5"
  },
  "toc": {
   "base_numbering": 1,
   "nav_menu": {
    "height": "189px",
    "width": "252px"
   },
   "number_sections": true,
   "sideBar": true,
   "skip_h1_title": false,
   "title_cell": "Table of Contents",
   "title_sidebar": "Contents",
   "toc_cell": false,
   "toc_position": {},
   "toc_section_display": "block",
   "toc_window_display": false
  }
 },
 "nbformat": 4,
 "nbformat_minor": 1
}
